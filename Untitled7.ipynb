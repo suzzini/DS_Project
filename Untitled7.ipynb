{
  "nbformat": 4,
  "nbformat_minor": 0,
  "metadata": {
    "colab": {
      "name": "Untitled7.ipynb",
      "provenance": [],
      "collapsed_sections": [],
      "machine_shape": "hm",
      "mount_file_id": "1aZ3HLzwCehu3MCmIrmFAeyzKD9UNybNq",
      "authorship_tag": "ABX9TyPFz5Oa3njHrsshdShyDzhl",
      "include_colab_link": true
    },
    "kernelspec": {
      "name": "python3",
      "display_name": "Python 3"
    },
    "language_info": {
      "name": "python"
    },
    "accelerator": "TPU"
  },
  "cells": [
    {
      "cell_type": "markdown",
      "metadata": {
        "id": "view-in-github",
        "colab_type": "text"
      },
      "source": [
        "<a href=\"https://colab.research.google.com/github/suzzini/DS_Project/blob/main/Untitled7.ipynb\" target=\"_parent\"><img src=\"https://colab.research.google.com/assets/colab-badge.svg\" alt=\"Open In Colab\"/></a>"
      ]
    },
    {
      "cell_type": "code",
      "metadata": {
        "colab": {
          "base_uri": "https://localhost:8080/"
        },
        "id": "iGJfLTNnOAfq",
        "outputId": "654cd4ef-6fba-480c-c476-637522c0a5f3"
      },
      "source": [
        "INPUT_DIR='drive/MyDrive/dataset/section4_p'\n",
        "!ls {INPUT_DIR}"
      ],
      "execution_count": 1,
      "outputs": [
        {
          "output_type": "stream",
          "text": [
            " anime.csv\t anime_with_synopsis.csv   rating_complete.csv\n",
            " animelist.csv\t'html folder'\t\t   watching_status.csv\n"
          ],
          "name": "stdout"
        }
      ]
    },
    {
      "cell_type": "code",
      "metadata": {
        "colab": {
          "base_uri": "https://localhost:8080/",
          "height": 173
        },
        "id": "8q3xUNT4OKTX",
        "outputId": "80ecaf50-414d-4e2c-fe3c-519e68ab1dcf"
      },
      "source": [
        "import numpy as np\n",
        "import pandas as pd\n",
        "\n",
        "rating_df = pd.read_csv(INPUT_DIR + '/animelist.csv', \n",
        "                        usecols=[\"user_id\", \"anime_id\", \"rating\"]\n",
        "                        )\n",
        "rating_df.head(4)"
      ],
      "execution_count": 2,
      "outputs": [
        {
          "output_type": "execute_result",
          "data": {
            "text/html": [
              "<div>\n",
              "<style scoped>\n",
              "    .dataframe tbody tr th:only-of-type {\n",
              "        vertical-align: middle;\n",
              "    }\n",
              "\n",
              "    .dataframe tbody tr th {\n",
              "        vertical-align: top;\n",
              "    }\n",
              "\n",
              "    .dataframe thead th {\n",
              "        text-align: right;\n",
              "    }\n",
              "</style>\n",
              "<table border=\"1\" class=\"dataframe\">\n",
              "  <thead>\n",
              "    <tr style=\"text-align: right;\">\n",
              "      <th></th>\n",
              "      <th>user_id</th>\n",
              "      <th>anime_id</th>\n",
              "      <th>rating</th>\n",
              "    </tr>\n",
              "  </thead>\n",
              "  <tbody>\n",
              "    <tr>\n",
              "      <th>0</th>\n",
              "      <td>0</td>\n",
              "      <td>67</td>\n",
              "      <td>9</td>\n",
              "    </tr>\n",
              "    <tr>\n",
              "      <th>1</th>\n",
              "      <td>0</td>\n",
              "      <td>6702</td>\n",
              "      <td>7</td>\n",
              "    </tr>\n",
              "    <tr>\n",
              "      <th>2</th>\n",
              "      <td>0</td>\n",
              "      <td>242</td>\n",
              "      <td>10</td>\n",
              "    </tr>\n",
              "    <tr>\n",
              "      <th>3</th>\n",
              "      <td>0</td>\n",
              "      <td>4898</td>\n",
              "      <td>0</td>\n",
              "    </tr>\n",
              "  </tbody>\n",
              "</table>\n",
              "</div>"
            ],
            "text/plain": [
              "   user_id  anime_id  rating\n",
              "0        0        67       9\n",
              "1        0      6702       7\n",
              "2        0       242      10\n",
              "3        0      4898       0"
            ]
          },
          "metadata": {
            "tags": []
          },
          "execution_count": 2
        }
      ]
    },
    {
      "cell_type": "code",
      "metadata": {
        "colab": {
          "base_uri": "https://localhost:8080/"
        },
        "id": "t1cJ-_9gOTWa",
        "outputId": "688114a0-ab22-4884-9cd4-b522bfad015e"
      },
      "source": [
        "# user 별로 몇개의 애니메이션을 rating 했는지 확인\n",
        "n_ratings = rating_df['user_id'].value_counts()\n",
        "n_ratings.describe()"
      ],
      "execution_count": 3,
      "outputs": [
        {
          "output_type": "execute_result",
          "data": {
            "text/plain": [
              "count    325770.000000\n",
              "mean        335.281785\n",
              "std         425.411070\n",
              "min           1.000000\n",
              "25%          96.000000\n",
              "50%         224.000000\n",
              "75%         436.000000\n",
              "max       17546.000000\n",
              "Name: user_id, dtype: float64"
            ]
          },
          "metadata": {
            "tags": []
          },
          "execution_count": 3
        }
      ]
    },
    {
      "cell_type": "code",
      "metadata": {
        "colab": {
          "base_uri": "https://localhost:8080/"
        },
        "id": "BxPN1pB0OTrv",
        "outputId": "fe7903ef-2e22-4ebf-ba05-f24116a36e5e"
      },
      "source": [
        "# 400개 이상의 rate를 준 유저만 사용\n",
        "rating_df = rating_df[rating_df['user_id'].isin(n_ratings[n_ratings >= 400].index)].copy()\n",
        "len(rating_df)"
      ],
      "execution_count": 4,
      "outputs": [
        {
          "output_type": "execute_result",
          "data": {
            "text/plain": [
              "71418114"
            ]
          },
          "metadata": {
            "tags": []
          },
          "execution_count": 4
        }
      ]
    },
    {
      "cell_type": "code",
      "metadata": {
        "colab": {
          "base_uri": "https://localhost:8080/"
        },
        "id": "H-v1NvVIObUn",
        "outputId": "3ac5f2ae-eb31-4ae4-fe54-b108b629a53c"
      },
      "source": [
        "# rating 0~1로 정규화(?) 해주기\n",
        "min_rating = min(rating_df['rating'])\n",
        "max_rating = max(rating_df['rating'])\n",
        "print(min_rating, max_rating)"
      ],
      "execution_count": 5,
      "outputs": [
        {
          "output_type": "stream",
          "text": [
            "0 10\n"
          ],
          "name": "stdout"
        }
      ]
    },
    {
      "cell_type": "code",
      "metadata": {
        "colab": {
          "base_uri": "https://localhost:8080/"
        },
        "id": "zn7ensj8YxQi",
        "outputId": "481f4a1f-82ee-4098-b5f3-584a14f91bd0"
      },
      "source": [
        "rating_df['rating'] = rating_df[\"rating\"].apply(lambda x: (x - min_rating) / (max_rating - min_rating)).values.astype(np.float64)\n",
        "\n",
        "AvgRating = np.mean(rating_df['rating'])\n",
        "print('Avg', AvgRating)"
      ],
      "execution_count": 6,
      "outputs": [
        {
          "output_type": "stream",
          "text": [
            "Avg 0.40477935891013467\n"
          ],
          "name": "stdout"
        }
      ]
    },
    {
      "cell_type": "code",
      "metadata": {
        "colab": {
          "base_uri": "https://localhost:8080/"
        },
        "id": "ubrcvEcrOiaG",
        "outputId": "b18638cb-1e28-4eac-ab11-f4f35daf2c8d"
      },
      "source": [
        "# 중복행이 있는지 확인하고 제거\n",
        "duplicates = rating_df.duplicated()\n",
        "\n",
        "if duplicates.sum() > 0:\n",
        "    print('> {} duplicates'.format(duplicates.sum()))\n",
        "    rating_df = rating_df[~duplicates]\n",
        "\n",
        "print('> {} duplicates'.format(rating_df.duplicated().sum()))"
      ],
      "execution_count": 7,
      "outputs": [
        {
          "output_type": "stream",
          "text": [
            "> 1 duplicates\n",
            "> 0 duplicates\n"
          ],
          "name": "stdout"
        }
      ]
    },
    {
      "cell_type": "markdown",
      "metadata": {
        "id": "uEflPCVaOtXA"
      },
      "source": [
        "### user와 animation 0부터 매핑해주기"
      ]
    },
    {
      "cell_type": "code",
      "metadata": {
        "id": "qcjM9DJ7Os8o"
      },
      "source": [
        "# Encoding categorical data\n",
        "user_ids = rating_df[\"user_id\"].unique().tolist() \n",
        "user2user_encoded = {x: i for i, x in enumerate(user_ids)} # {2:0, 6:1, 12:2, 16:3, ...}\n",
        "user_encoded2user = {i: x for i, x in enumerate(user_ids)} # {0:2, 1:6, 2:12, 3:16, ...}\n",
        "\n",
        "rating_df[\"user\"] = rating_df[\"user_id\"].map(user2user_encoded) #user를 0부터 새로운 인덱스로 mapping\n",
        "n_users = len(user2user_encoded)"
      ],
      "execution_count": 8,
      "outputs": []
    },
    {
      "cell_type": "code",
      "metadata": {
        "colab": {
          "base_uri": "https://localhost:8080/"
        },
        "id": "KOVRN-qvO3a8",
        "outputId": "1689cb31-8ebf-475d-8935-2cdf6b3b27c7"
      },
      "source": [
        "anime_ids = rating_df[\"anime_id\"].unique().tolist()\n",
        "anime2anime_encoded = {x: i for i, x in enumerate(anime_ids)} # {24833:0, 235:1, 36721:2, 40956:3, ...}\n",
        "anime_encoded2anime = {i: x for i, x in enumerate(anime_ids)}\n",
        "rating_df[\"anime\"] = rating_df[\"anime_id\"].map(anime2anime_encoded)\n",
        "n_animes = len(anime2anime_encoded)\n",
        "\n",
        "print(\"Num of users: {}, Num of animes: {}\".format(n_users, n_animes))\n",
        "print(\"Min rating: {}, Max rating: {}\".format(min(rating_df['rating']), max(rating_df['rating'])))"
      ],
      "execution_count": 9,
      "outputs": [
        {
          "output_type": "stream",
          "text": [
            "Num of users: 91641, Num of animes: 17560\n",
            "Min rating: 0.0, Max rating: 1.0\n"
          ],
          "name": "stdout"
        }
      ]
    },
    {
      "cell_type": "code",
      "metadata": {
        "colab": {
          "base_uri": "https://localhost:8080/",
          "height": 204
        },
        "id": "wt04FBBLPA73",
        "outputId": "e3d62780-63b4-4fb0-ad8e-a571b52c5a4a"
      },
      "source": [
        "rating_df.head()"
      ],
      "execution_count": 10,
      "outputs": [
        {
          "output_type": "execute_result",
          "data": {
            "text/html": [
              "<div>\n",
              "<style scoped>\n",
              "    .dataframe tbody tr th:only-of-type {\n",
              "        vertical-align: middle;\n",
              "    }\n",
              "\n",
              "    .dataframe tbody tr th {\n",
              "        vertical-align: top;\n",
              "    }\n",
              "\n",
              "    .dataframe thead th {\n",
              "        text-align: right;\n",
              "    }\n",
              "</style>\n",
              "<table border=\"1\" class=\"dataframe\">\n",
              "  <thead>\n",
              "    <tr style=\"text-align: right;\">\n",
              "      <th></th>\n",
              "      <th>user_id</th>\n",
              "      <th>anime_id</th>\n",
              "      <th>rating</th>\n",
              "      <th>user</th>\n",
              "      <th>anime</th>\n",
              "    </tr>\n",
              "  </thead>\n",
              "  <tbody>\n",
              "    <tr>\n",
              "      <th>213</th>\n",
              "      <td>2</td>\n",
              "      <td>24833</td>\n",
              "      <td>0.0</td>\n",
              "      <td>0</td>\n",
              "      <td>0</td>\n",
              "    </tr>\n",
              "    <tr>\n",
              "      <th>214</th>\n",
              "      <td>2</td>\n",
              "      <td>235</td>\n",
              "      <td>1.0</td>\n",
              "      <td>0</td>\n",
              "      <td>1</td>\n",
              "    </tr>\n",
              "    <tr>\n",
              "      <th>215</th>\n",
              "      <td>2</td>\n",
              "      <td>36721</td>\n",
              "      <td>0.0</td>\n",
              "      <td>0</td>\n",
              "      <td>2</td>\n",
              "    </tr>\n",
              "    <tr>\n",
              "      <th>216</th>\n",
              "      <td>2</td>\n",
              "      <td>40956</td>\n",
              "      <td>0.0</td>\n",
              "      <td>0</td>\n",
              "      <td>3</td>\n",
              "    </tr>\n",
              "    <tr>\n",
              "      <th>217</th>\n",
              "      <td>2</td>\n",
              "      <td>31933</td>\n",
              "      <td>0.0</td>\n",
              "      <td>0</td>\n",
              "      <td>4</td>\n",
              "    </tr>\n",
              "  </tbody>\n",
              "</table>\n",
              "</div>"
            ],
            "text/plain": [
              "     user_id  anime_id  rating  user  anime\n",
              "213        2     24833     0.0     0      0\n",
              "214        2       235     1.0     0      1\n",
              "215        2     36721     0.0     0      2\n",
              "216        2     40956     0.0     0      3\n",
              "217        2     31933     0.0     0      4"
            ]
          },
          "metadata": {
            "tags": []
          },
          "execution_count": 10
        }
      ]
    },
    {
      "cell_type": "markdown",
      "metadata": {
        "id": "VhtUXnVjPE7_"
      },
      "source": [
        "### 평가를 400개 이상인 유저들만 추출한 후, 각 유저 별, 애니메이션을 0부터 매핑완료(바꾼 것이 아님 !!)\n",
        "\n",
        "- user 수 : 91641 (0~91640)\n",
        "- animation 수 : 17560 (0~17559)"
      ]
    },
    {
      "cell_type": "markdown",
      "metadata": {
        "id": "3QPwifpnPShB"
      },
      "source": [
        "**DataFrame.sample(n,frac,replace,weights,random_state,axis)**\n",
        "\n",
        ": dataframe에서 무작위 표본 추출하기\n",
        "\n",
        "- n : 추출할 표본 개수\n",
        "- frac : 추출할 표본 비율(n 또는 frac 하나만 사용)\n",
        "- replace : 복원 추출 여부(true or false)\n",
        "- weights : 가중치 여부(컬럼 이름)\n",
        "- random_state : 난수 발생 초기값\n",
        "- axis : 0(인덱스 기준), 1(컬럼 기준)"
      ]
    },
    {
      "cell_type": "code",
      "metadata": {
        "id": "DdbzdIwBPXjv"
      },
      "source": [
        "# Shuffle\n",
        "rating_df = rating_df.sample(frac=1, random_state=73)\n",
        "\n",
        "X = rating_df[['user', 'anime']].values\n",
        "y = rating_df[\"rating\"]"
      ],
      "execution_count": 11,
      "outputs": []
    },
    {
      "cell_type": "code",
      "metadata": {
        "colab": {
          "base_uri": "https://localhost:8080/"
        },
        "id": "nmIMg_3jPcz7",
        "outputId": "0f93cdfe-fd7c-406f-db42-16b0961283bc"
      },
      "source": [
        "# Split\n",
        "test_set_size = 10000 #10k for test set\n",
        "train_indices = rating_df.shape[0] - test_set_size #71418113-10000\n",
        "\n",
        "X_train, X_test, y_train, y_test = (\n",
        "    X[:train_indices],\n",
        "    X[train_indices:],\n",
        "    y[:train_indices],\n",
        "    y[train_indices:],\n",
        ")\n",
        "\n",
        "print('> Train set ratings: {}'.format(len(y_train)))\n",
        "print('> Test set ratings: {}'.format(len(y_test)))"
      ],
      "execution_count": 12,
      "outputs": [
        {
          "output_type": "stream",
          "text": [
            "> Train set ratings: 71408113\n",
            "> Test set ratings: 10000\n"
          ],
          "name": "stdout"
        }
      ]
    },
    {
      "cell_type": "code",
      "metadata": {
        "id": "UV0RM5Y3Pjji"
      },
      "source": [
        "X_train_array = [X_train[:, 0], X_train[:, 1]]\n",
        "X_test_array = [X_test[:, 0], X_test[:, 1]]"
      ],
      "execution_count": 13,
      "outputs": []
    },
    {
      "cell_type": "code",
      "metadata": {
        "colab": {
          "base_uri": "https://localhost:8080/"
        },
        "id": "UrZa__8_P9Z_",
        "outputId": "2dbd3c83-61cd-4818-daa1-d79208123b4e"
      },
      "source": [
        "X_train_array\n",
        "#유저 index\n",
        "#애니메이션 index"
      ],
      "execution_count": 14,
      "outputs": [
        {
          "output_type": "execute_result",
          "data": {
            "text/plain": [
              "[array([23948, 72463, 62985, ..., 34207, 58411, 58969]),\n",
              " array([11200,   757,  1808, ...,  3456,  3235,  2428])]"
            ]
          },
          "metadata": {
            "tags": []
          },
          "execution_count": 14
        }
      ]
    },
    {
      "cell_type": "code",
      "metadata": {
        "colab": {
          "base_uri": "https://localhost:8080/"
        },
        "id": "Gmt1mROJQCkg",
        "outputId": "e2c1b569-abe5-431f-a4d6-16330108c592"
      },
      "source": [
        "# Accelerator check\n",
        "import tensorflow as tf\n",
        "\n",
        "TPU_INIT = True\n",
        "\n",
        "if TPU_INIT:\n",
        "    tpu = tf.distribute.cluster_resolver.TPUClusterResolver.connect()\n",
        "    tpu_strategy = tf.distribute.experimental.TPUStrategy(tpu)\n",
        "else:\n",
        "    !nvidia-smi\n",
        "    \n",
        "print(tf.__version__)"
      ],
      "execution_count": 15,
      "outputs": [
        {
          "output_type": "stream",
          "text": [
            "INFO:tensorflow:Initializing the TPU system: grpc://10.91.165.34:8470\n"
          ],
          "name": "stdout"
        },
        {
          "output_type": "stream",
          "text": [
            "INFO:tensorflow:Initializing the TPU system: grpc://10.91.165.34:8470\n"
          ],
          "name": "stderr"
        },
        {
          "output_type": "stream",
          "text": [
            "INFO:tensorflow:Clearing out eager caches\n"
          ],
          "name": "stdout"
        },
        {
          "output_type": "stream",
          "text": [
            "INFO:tensorflow:Clearing out eager caches\n"
          ],
          "name": "stderr"
        },
        {
          "output_type": "stream",
          "text": [
            "INFO:tensorflow:Finished initializing TPU system.\n"
          ],
          "name": "stdout"
        },
        {
          "output_type": "stream",
          "text": [
            "INFO:tensorflow:Finished initializing TPU system.\n",
            "WARNING:absl:`tf.distribute.experimental.TPUStrategy` is deprecated, please use  the non experimental symbol `tf.distribute.TPUStrategy` instead.\n"
          ],
          "name": "stderr"
        },
        {
          "output_type": "stream",
          "text": [
            "INFO:tensorflow:Found TPU system:\n"
          ],
          "name": "stdout"
        },
        {
          "output_type": "stream",
          "text": [
            "INFO:tensorflow:Found TPU system:\n"
          ],
          "name": "stderr"
        },
        {
          "output_type": "stream",
          "text": [
            "INFO:tensorflow:*** Num TPU Cores: 8\n"
          ],
          "name": "stdout"
        },
        {
          "output_type": "stream",
          "text": [
            "INFO:tensorflow:*** Num TPU Cores: 8\n"
          ],
          "name": "stderr"
        },
        {
          "output_type": "stream",
          "text": [
            "INFO:tensorflow:*** Num TPU Workers: 1\n"
          ],
          "name": "stdout"
        },
        {
          "output_type": "stream",
          "text": [
            "INFO:tensorflow:*** Num TPU Workers: 1\n"
          ],
          "name": "stderr"
        },
        {
          "output_type": "stream",
          "text": [
            "INFO:tensorflow:*** Num TPU Cores Per Worker: 8\n"
          ],
          "name": "stdout"
        },
        {
          "output_type": "stream",
          "text": [
            "INFO:tensorflow:*** Num TPU Cores Per Worker: 8\n"
          ],
          "name": "stderr"
        },
        {
          "output_type": "stream",
          "text": [
            "INFO:tensorflow:*** Available Device: _DeviceAttributes(/job:localhost/replica:0/task:0/device:CPU:0, CPU, 0, 0)\n"
          ],
          "name": "stdout"
        },
        {
          "output_type": "stream",
          "text": [
            "INFO:tensorflow:*** Available Device: _DeviceAttributes(/job:localhost/replica:0/task:0/device:CPU:0, CPU, 0, 0)\n"
          ],
          "name": "stderr"
        },
        {
          "output_type": "stream",
          "text": [
            "INFO:tensorflow:*** Available Device: _DeviceAttributes(/job:worker/replica:0/task:0/device:CPU:0, CPU, 0, 0)\n"
          ],
          "name": "stdout"
        },
        {
          "output_type": "stream",
          "text": [
            "INFO:tensorflow:*** Available Device: _DeviceAttributes(/job:worker/replica:0/task:0/device:CPU:0, CPU, 0, 0)\n"
          ],
          "name": "stderr"
        },
        {
          "output_type": "stream",
          "text": [
            "INFO:tensorflow:*** Available Device: _DeviceAttributes(/job:worker/replica:0/task:0/device:TPU:0, TPU, 0, 0)\n"
          ],
          "name": "stdout"
        },
        {
          "output_type": "stream",
          "text": [
            "INFO:tensorflow:*** Available Device: _DeviceAttributes(/job:worker/replica:0/task:0/device:TPU:0, TPU, 0, 0)\n"
          ],
          "name": "stderr"
        },
        {
          "output_type": "stream",
          "text": [
            "INFO:tensorflow:*** Available Device: _DeviceAttributes(/job:worker/replica:0/task:0/device:TPU:1, TPU, 0, 0)\n"
          ],
          "name": "stdout"
        },
        {
          "output_type": "stream",
          "text": [
            "INFO:tensorflow:*** Available Device: _DeviceAttributes(/job:worker/replica:0/task:0/device:TPU:1, TPU, 0, 0)\n"
          ],
          "name": "stderr"
        },
        {
          "output_type": "stream",
          "text": [
            "INFO:tensorflow:*** Available Device: _DeviceAttributes(/job:worker/replica:0/task:0/device:TPU:2, TPU, 0, 0)\n"
          ],
          "name": "stdout"
        },
        {
          "output_type": "stream",
          "text": [
            "INFO:tensorflow:*** Available Device: _DeviceAttributes(/job:worker/replica:0/task:0/device:TPU:2, TPU, 0, 0)\n"
          ],
          "name": "stderr"
        },
        {
          "output_type": "stream",
          "text": [
            "INFO:tensorflow:*** Available Device: _DeviceAttributes(/job:worker/replica:0/task:0/device:TPU:3, TPU, 0, 0)\n"
          ],
          "name": "stdout"
        },
        {
          "output_type": "stream",
          "text": [
            "INFO:tensorflow:*** Available Device: _DeviceAttributes(/job:worker/replica:0/task:0/device:TPU:3, TPU, 0, 0)\n"
          ],
          "name": "stderr"
        },
        {
          "output_type": "stream",
          "text": [
            "INFO:tensorflow:*** Available Device: _DeviceAttributes(/job:worker/replica:0/task:0/device:TPU:4, TPU, 0, 0)\n"
          ],
          "name": "stdout"
        },
        {
          "output_type": "stream",
          "text": [
            "INFO:tensorflow:*** Available Device: _DeviceAttributes(/job:worker/replica:0/task:0/device:TPU:4, TPU, 0, 0)\n"
          ],
          "name": "stderr"
        },
        {
          "output_type": "stream",
          "text": [
            "INFO:tensorflow:*** Available Device: _DeviceAttributes(/job:worker/replica:0/task:0/device:TPU:5, TPU, 0, 0)\n"
          ],
          "name": "stdout"
        },
        {
          "output_type": "stream",
          "text": [
            "INFO:tensorflow:*** Available Device: _DeviceAttributes(/job:worker/replica:0/task:0/device:TPU:5, TPU, 0, 0)\n"
          ],
          "name": "stderr"
        },
        {
          "output_type": "stream",
          "text": [
            "INFO:tensorflow:*** Available Device: _DeviceAttributes(/job:worker/replica:0/task:0/device:TPU:6, TPU, 0, 0)\n"
          ],
          "name": "stdout"
        },
        {
          "output_type": "stream",
          "text": [
            "INFO:tensorflow:*** Available Device: _DeviceAttributes(/job:worker/replica:0/task:0/device:TPU:6, TPU, 0, 0)\n"
          ],
          "name": "stderr"
        },
        {
          "output_type": "stream",
          "text": [
            "INFO:tensorflow:*** Available Device: _DeviceAttributes(/job:worker/replica:0/task:0/device:TPU:7, TPU, 0, 0)\n"
          ],
          "name": "stdout"
        },
        {
          "output_type": "stream",
          "text": [
            "INFO:tensorflow:*** Available Device: _DeviceAttributes(/job:worker/replica:0/task:0/device:TPU:7, TPU, 0, 0)\n"
          ],
          "name": "stderr"
        },
        {
          "output_type": "stream",
          "text": [
            "INFO:tensorflow:*** Available Device: _DeviceAttributes(/job:worker/replica:0/task:0/device:TPU_SYSTEM:0, TPU_SYSTEM, 0, 0)\n"
          ],
          "name": "stdout"
        },
        {
          "output_type": "stream",
          "text": [
            "INFO:tensorflow:*** Available Device: _DeviceAttributes(/job:worker/replica:0/task:0/device:TPU_SYSTEM:0, TPU_SYSTEM, 0, 0)\n"
          ],
          "name": "stderr"
        },
        {
          "output_type": "stream",
          "text": [
            "INFO:tensorflow:*** Available Device: _DeviceAttributes(/job:worker/replica:0/task:0/device:XLA_CPU:0, XLA_CPU, 0, 0)\n"
          ],
          "name": "stdout"
        },
        {
          "output_type": "stream",
          "text": [
            "INFO:tensorflow:*** Available Device: _DeviceAttributes(/job:worker/replica:0/task:0/device:XLA_CPU:0, XLA_CPU, 0, 0)\n"
          ],
          "name": "stderr"
        },
        {
          "output_type": "stream",
          "text": [
            "2.5.0\n"
          ],
          "name": "stdout"
        }
      ]
    },
    {
      "cell_type": "code",
      "metadata": {
        "id": "l7CX0dlaQGAr"
      },
      "source": [
        "import keras\n",
        "from keras import layers \n",
        "import tensorflow as tf\n",
        "from keras.models import Model\n",
        "from keras.optimizers import Adam"
      ],
      "execution_count": 16,
      "outputs": []
    },
    {
      "cell_type": "markdown",
      "metadata": {
        "id": "-rsatYtrQMmo"
      },
      "source": [
        "- embedding\n",
        "  - input_dim: Integer. Size of the vocabulary, i.e. maximum integer index + 1.\n",
        "  - output_dim: Integer. Dimension of the dense embedding.\n",
        "  - Input shape : 2D tensor with shape: (batch_size, input_length).\n",
        "  - Output shape : 3D tensor with shape: (batch_size, input_length, output_dim).\n",
        "\n",
        "- input shape\n",
        "  - 여기서 shape = (1,) 엄밀히 말하면 vector가 한개라는 뜻이됩니다. 데이터 shape이 (5,1)일 경우 5행1열을 가진 데이터라는 뜻이 되는데요. 여기서 행은 무시하고 열!만 shape으로 입력을 해주는 것 입니다. 데이터는 계속 추가 될 수 있으므로 열(feature)만 중요"
      ]
    },
    {
      "cell_type": "code",
      "metadata": {
        "colab": {
          "base_uri": "https://localhost:8080/"
        },
        "id": "ypr0fH1_QNPz",
        "outputId": "263de182-3ea4-476f-d7d8-9db0426a6d84"
      },
      "source": [
        "# Embedding layers\n",
        "from keras.layers import Add, Activation, Lambda, BatchNormalization, Concatenate, Dropout, Input, Embedding, Dot, Reshape, Dense, Flatten\n",
        "\n",
        "#Num of users: 91641, Num of animes: 17560\n",
        "def RecommenderNet():\n",
        "    embedding_size = 128\n",
        "    \n",
        "    #user\n",
        "    user = Input(name = 'user', shape = [1]) # [1]=1=(1,)\n",
        "    user_embedding = Embedding(name = 'user_embedding',\n",
        "                       input_dim = n_users, #91641\n",
        "                       output_dim = embedding_size)(user)\n",
        "                       \n",
        "    #animation\n",
        "    anime = Input(name = 'anime', shape = [1])\n",
        "    anime_embedding = Embedding(name = 'anime_embedding',\n",
        "                       input_dim = n_animes, \n",
        "                       output_dim = embedding_size)(anime)\n",
        "    \n",
        "    #x = Concatenate()([user_embedding, anime_embedding])\n",
        "    x = Dot(name = 'dot_product', normalize = True, axes = 2)([user_embedding, anime_embedding])\n",
        "    x = Flatten()(x)\n",
        "        \n",
        "    x = Dense(1, kernel_initializer='he_normal')(x)\n",
        "    x = BatchNormalization()(x)\n",
        "    x = Activation(\"sigmoid\")(x)\n",
        "    \n",
        "    model = Model(inputs=[user, anime], outputs=x)\n",
        "    model.compile(loss='binary_crossentropy', metrics=[\"mae\", \"mse\"], optimizer='Adam')\n",
        "    \n",
        "    return model\n",
        "\n",
        "\n",
        "if TPU_INIT:    \n",
        "    with tpu_strategy.scope():\n",
        "        model = RecommenderNet()\n",
        "else:\n",
        "    model = RecommenderNet()\n",
        "\n",
        "model.summary()"
      ],
      "execution_count": 17,
      "outputs": [
        {
          "output_type": "stream",
          "text": [
            "Model: \"model\"\n",
            "__________________________________________________________________________________________________\n",
            "Layer (type)                    Output Shape         Param #     Connected to                     \n",
            "==================================================================================================\n",
            "user (InputLayer)               [(None, 1)]          0                                            \n",
            "__________________________________________________________________________________________________\n",
            "anime (InputLayer)              [(None, 1)]          0                                            \n",
            "__________________________________________________________________________________________________\n",
            "user_embedding (Embedding)      (None, 1, 128)       11730048    user[0][0]                       \n",
            "__________________________________________________________________________________________________\n",
            "anime_embedding (Embedding)     (None, 1, 128)       2247680     anime[0][0]                      \n",
            "__________________________________________________________________________________________________\n",
            "dot_product (Dot)               (None, 1, 1)         0           user_embedding[0][0]             \n",
            "                                                                 anime_embedding[0][0]            \n",
            "__________________________________________________________________________________________________\n",
            "flatten (Flatten)               (None, 1)            0           dot_product[0][0]                \n",
            "__________________________________________________________________________________________________\n",
            "dense (Dense)                   (None, 1)            2           flatten[0][0]                    \n",
            "__________________________________________________________________________________________________\n",
            "batch_normalization (BatchNorma (None, 1)            4           dense[0][0]                      \n",
            "__________________________________________________________________________________________________\n",
            "activation (Activation)         (None, 1)            0           batch_normalization[0][0]        \n",
            "==================================================================================================\n",
            "Total params: 13,977,734\n",
            "Trainable params: 13,977,732\n",
            "Non-trainable params: 2\n",
            "__________________________________________________________________________________________________\n"
          ],
          "name": "stdout"
        }
      ]
    },
    {
      "cell_type": "code",
      "metadata": {
        "colab": {
          "base_uri": "https://localhost:8080/",
          "height": 754
        },
        "id": "kl6gDzD_QW__",
        "outputId": "7da4f1d1-c7e3-45e8-f6fe-2344e4d1c32f"
      },
      "source": [
        "import tensorflow as tf\n",
        "from tensorflow.keras.utils import plot_model\n",
        "\n",
        "plot_model(model, to_file='./dot.png',show_shapes=True, show_layer_names=True)"
      ],
      "execution_count": 18,
      "outputs": [
        {
          "output_type": "execute_result",
          "data": {
            "image/png": "[encoded data removed]",
            "text/plain": [
              "<IPython.core.display.Image object>"
            ]
          },
          "metadata": {
            "tags": []
          },
          "execution_count": 18
        }
      ]
    },
    {
      "cell_type": "markdown",
      "metadata": {
        "id": "MhFJgsTBQbWX"
      },
      "source": [
        "- ModelCheckpoint : 모델이 학습하면서 정의한 조건을 만족했을 때 Model의 weight 값을 중간 저장해 줍니다. 학습시간이 꽤 오래걸린다면, 모델이 개선된 validation score를 도출해낼 때마다 weight를 중간 저장함으로써, 혹시 중간에 memory overflow나 crash가 나더라도 다시 weight를 불러와서 학습을 이어나갈 수 있기 때문에, 시간을 save해 줄 수 있습니다.\n",
        "- ReduceLROnPlateau : 학습이 진행되지 않는 안정기에 들어서면, learning rate에 변화를 줍니다. \n",
        "- EarlyStopping : model의 성능 지표가 설정한 epoch동안 개선되지 않을 때 조기 종료할 수 있습니다. EarlyStopping과 이전에 언급한 ModelCheckpoint 콜백의 조합을 통하여, 개선되지 않는 학습에 대한 조기 종료를 실행하고, ModelCheckpoint로 부터 가장 best model을 다시 로드하여 학습을 재게할 수 있습니다.\n",
        "- LearningRateScheduler : epoch에 따라 학습률을 조정하는 callback"
      ]
    },
    {
      "cell_type": "code",
      "metadata": {
        "id": "5qhJjnJoRcTf"
      },
      "source": [
        "# Callbacks\n",
        "from tensorflow.keras.callbacks import Callback, ModelCheckpoint, LearningRateScheduler, EarlyStopping\n",
        "from tensorflow.keras.callbacks import TensorBoard, ReduceLROnPlateau\n",
        "\n",
        "start_lr = 0.00001\n",
        "min_lr = 0.00001\n",
        "max_lr = 0.00005\n",
        "batch_size = 10000\n",
        "\n",
        "if TPU_INIT:\n",
        "    max_lr = max_lr * tpu_strategy.num_replicas_in_sync\n",
        "    batch_size = batch_size * tpu_strategy.num_replicas_in_sync\n",
        "\n",
        "rampup_epochs = 5\n",
        "sustain_epochs = 0\n",
        "exp_decay = .8\n",
        "\n",
        "def lrfn(epoch):\n",
        "    if epoch < rampup_epochs:\n",
        "        return (max_lr - start_lr)/rampup_epochs * epoch + start_lr\n",
        "    elif epoch < rampup_epochs + sustain_epochs:\n",
        "        return max_lr\n",
        "    else:\n",
        "        return (max_lr - min_lr) * exp_decay**(epoch-rampup_epochs-sustain_epochs) + min_lr\n",
        "\n",
        "\n",
        "lr_callback = LearningRateScheduler(lambda epoch: lrfn(epoch), verbose=0)\n",
        "\n",
        "checkpoint_filepath = './weights.h5'\n",
        "\n",
        "model_checkpoints = ModelCheckpoint(filepath=checkpoint_filepath,\n",
        "                                        save_weights_only=True,\n",
        "                                        monitor='val_loss',\n",
        "                                        mode='min',\n",
        "                                        save_best_only=True)\n",
        "\n",
        "early_stopping = EarlyStopping(patience = 3, monitor='val_loss', \n",
        "                               mode='min', restore_best_weights=True)\n",
        "\n",
        "my_callbacks = [\n",
        "    model_checkpoints,\n",
        "    lr_callback,\n",
        "    early_stopping,   \n",
        "]"
      ],
      "execution_count": 19,
      "outputs": []
    },
    {
      "cell_type": "code",
      "metadata": {
        "colab": {
          "base_uri": "https://localhost:8080/"
        },
        "id": "Z3MeV0K1RfwL",
        "outputId": "3dee90f2-f806-423d-b11b-b776d8e33326"
      },
      "source": [
        "# Model training\n",
        "#con\n",
        "history = model.fit(\n",
        "    x=X_train_array,\n",
        "    y=y_train,\n",
        "    batch_size=batch_size,\n",
        "    epochs=20,\n",
        "    verbose=1,\n",
        "    validation_data=(X_test_array, y_test),\n",
        "    callbacks=my_callbacks\n",
        ")\n",
        "\n",
        "model.load_weights(checkpoint_filepath)"
      ],
      "execution_count": 20,
      "outputs": [
        {
          "output_type": "stream",
          "text": [
            "Epoch 1/20\n",
            "893/893 [==============================] - 55s 31ms/step - loss: 0.7984 - mae: 0.3840 - mse: 0.1984 - val_loss: 0.7917 - val_mae: 0.3848 - val_mse: 0.1976\n",
            "Epoch 2/20\n",
            "893/893 [==============================] - 23s 26ms/step - loss: 0.7858 - mae: 0.3801 - mse: 0.1936 - val_loss: 0.7072 - val_mae: 0.3462 - val_mse: 0.1623\n",
            "Epoch 3/20\n",
            "893/893 [==============================] - 24s 26ms/step - loss: 0.6292 - mae: 0.3019 - mse: 0.1270 - val_loss: 0.5734 - val_mae: 0.2707 - val_mse: 0.1047\n",
            "Epoch 4/20\n",
            "893/893 [==============================] - 23s 26ms/step - loss: 0.5550 - mae: 0.2573 - mse: 0.0950 - val_loss: 0.5400 - val_mae: 0.2495 - val_mse: 0.0907\n",
            "Epoch 5/20\n",
            "893/893 [==============================] - 23s 26ms/step - loss: 0.5236 - mae: 0.2350 - mse: 0.0824 - val_loss: 0.5127 - val_mae: 0.2277 - val_mse: 0.0803\n",
            "Epoch 6/20\n",
            "893/893 [==============================] - 23s 26ms/step - loss: 0.4968 - mae: 0.2127 - mse: 0.0726 - val_loss: 0.4949 - val_mae: 0.2101 - val_mse: 0.0743\n",
            "Epoch 7/20\n",
            "893/893 [==============================] - 23s 26ms/step - loss: 0.4742 - mae: 0.1933 - mse: 0.0647 - val_loss: 0.4871 - val_mae: 0.2005 - val_mse: 0.0718\n",
            "Epoch 8/20\n",
            "893/893 [==============================] - 23s 26ms/step - loss: 0.4594 - mae: 0.1806 - mse: 0.0595 - val_loss: 0.4849 - val_mae: 0.1957 - val_mse: 0.0712\n",
            "Epoch 9/20\n",
            "893/893 [==============================] - 23s 25ms/step - loss: 0.4494 - mae: 0.1719 - mse: 0.0561 - val_loss: 0.4842 - val_mae: 0.1926 - val_mse: 0.0711\n",
            "Epoch 10/20\n",
            "893/893 [==============================] - 23s 26ms/step - loss: 0.4424 - mae: 0.1659 - mse: 0.0537 - val_loss: 0.4843 - val_mae: 0.1903 - val_mse: 0.0711\n",
            "Epoch 11/20\n",
            "893/893 [==============================] - 23s 26ms/step - loss: 0.4375 - mae: 0.1614 - mse: 0.0521 - val_loss: 0.4847 - val_mae: 0.1888 - val_mse: 0.0713\n",
            "Epoch 12/20\n",
            "893/893 [==============================] - 23s 26ms/step - loss: 0.4338 - mae: 0.1581 - mse: 0.0509 - val_loss: 0.4854 - val_mae: 0.1878 - val_mse: 0.0715\n"
          ],
          "name": "stdout"
        }
      ]
    },
    {
      "cell_type": "code",
      "metadata": {
        "colab": {
          "base_uri": "https://localhost:8080/",
          "height": 295
        },
        "id": "ZE52lR8aRcPv",
        "outputId": "000398cf-36dd-486f-d5bd-87eab9ef293e"
      },
      "source": [
        "#Training results\n",
        "import matplotlib.pyplot as plt\n",
        "%matplotlib inline\n",
        "\n",
        "plt.plot(history.history[\"loss\"][0:-2])\n",
        "plt.plot(history.history[\"val_loss\"][0:-2])\n",
        "plt.title(\"model loss\")\n",
        "plt.ylabel(\"loss\")\n",
        "plt.xlabel(\"epoch\")\n",
        "plt.legend([\"train\", \"test\"], loc=\"upper left\")\n",
        "plt.show()"
      ],
      "execution_count": 21,
      "outputs": [
        {
          "output_type": "display_data",
          "data": {
            "image/png": "[encoded data removed]",
            "text/plain": [
              "<Figure size 432x288 with 1 Axes>"
            ]
          },
          "metadata": {
            "tags": [],
            "needs_background": "light"
          }
        }
      ]
    },
    {
      "cell_type": "code",
      "metadata": {
        "id": "d3YpyEpdRoO6"
      },
      "source": [
        "def extract_weights(name, model):\n",
        "    weight_layer = model.get_layer(name)\n",
        "    weights = weight_layer.get_weights()[0]\n",
        "    weights = weights / np.linalg.norm(weights, axis = 1).reshape((-1, 1))\n",
        "    return weights\n",
        "\n",
        "\n",
        "anime_weights = extract_weights('anime_embedding', model)\n",
        "user_weights = extract_weights('user_embedding', model)"
      ],
      "execution_count": 22,
      "outputs": []
    },
    {
      "cell_type": "markdown",
      "metadata": {
        "id": "MuLuiALfRnw8"
      },
      "source": [
        "get_weights() : 훈련 중 업데이트 되고 있는 가중치 값 확인 가능한 함수"
      ]
    },
    {
      "cell_type": "code",
      "metadata": {
        "colab": {
          "base_uri": "https://localhost:8080/"
        },
        "id": "bKEsLALeRp7T",
        "outputId": "0777b4b9-9f8b-4272-e518-db65ff3a63d9"
      },
      "source": [
        "model.get_layer('anime_embedding').get_weights()[0]"
      ],
      "execution_count": 23,
      "outputs": [
        {
          "output_type": "execute_result",
          "data": {
            "text/plain": [
              "array([[-2.6058607e-02,  1.2352989e-02,  2.1931002e-02, ...,\n",
              "         3.2343458e-02, -2.6968863e-02, -4.2993527e-02],\n",
              "       [ 7.1512996e-03, -1.0481544e-02,  3.3647250e-02, ...,\n",
              "         2.9703319e-02, -8.0411732e-03, -2.2136217e-02],\n",
              "       [ 5.6383997e-02,  6.2110256e-03,  2.6461454e-02, ...,\n",
              "         1.7511474e-02, -9.8571144e-03,  5.3808920e-02],\n",
              "       ...,\n",
              "       [-3.1027459e-02, -4.2479601e-02, -3.6708403e-02, ...,\n",
              "        -1.0845899e-02, -3.4208391e-02,  1.1273710e-02],\n",
              "       [ 4.8352245e-02, -1.5155025e-02, -2.3722588e-03, ...,\n",
              "         1.4557777e-02, -3.7143320e-02, -4.4461433e-02],\n",
              "       [ 6.2170046e-05,  1.3184397e-02, -4.7748158e-04, ...,\n",
              "         5.9239432e-02, -2.6570743e-02,  3.1025667e-02]], dtype=float32)"
            ]
          },
          "metadata": {
            "tags": []
          },
          "execution_count": 23
        }
      ]
    },
    {
      "cell_type": "code",
      "metadata": {
        "id": "x4Qg9wiNRrTz"
      },
      "source": [
        "df = pd.read_csv(INPUT_DIR + '/anime.csv', low_memory=True)\n",
        "df = df.replace(\"Unknown\", np.nan)"
      ],
      "execution_count": 24,
      "outputs": []
    },
    {
      "cell_type": "code",
      "metadata": {
        "colab": {
          "base_uri": "https://localhost:8080/",
          "height": 667
        },
        "id": "vKBBGk1RRwHU",
        "outputId": "55fef6ae-4e89-447e-8f49-106961d0a308"
      },
      "source": [
        "df.head()"
      ],
      "execution_count": 25,
      "outputs": [
        {
          "output_type": "execute_result",
          "data": {
            "text/html": [
              "<div>\n",
              "<style scoped>\n",
              "    .dataframe tbody tr th:only-of-type {\n",
              "        vertical-align: middle;\n",
              "    }\n",
              "\n",
              "    .dataframe tbody tr th {\n",
              "        vertical-align: top;\n",
              "    }\n",
              "\n",
              "    .dataframe thead th {\n",
              "        text-align: right;\n",
              "    }\n",
              "</style>\n",
              "<table border=\"1\" class=\"dataframe\">\n",
              "  <thead>\n",
              "    <tr style=\"text-align: right;\">\n",
              "      <th></th>\n",
              "      <th>MAL_ID</th>\n",
              "      <th>Name</th>\n",
              "      <th>Score</th>\n",
              "      <th>Genders</th>\n",
              "      <th>English name</th>\n",
              "      <th>Japanese name</th>\n",
              "      <th>Type</th>\n",
              "      <th>Episodes</th>\n",
              "      <th>Aired</th>\n",
              "      <th>Premiered</th>\n",
              "      <th>Producers</th>\n",
              "      <th>Licensors</th>\n",
              "      <th>Studios</th>\n",
              "      <th>Source</th>\n",
              "      <th>Duration</th>\n",
              "      <th>Rating</th>\n",
              "      <th>Ranked</th>\n",
              "      <th>Popularity</th>\n",
              "      <th>Members</th>\n",
              "      <th>Favorites</th>\n",
              "      <th>Watching</th>\n",
              "      <th>Completed</th>\n",
              "      <th>On-Hold</th>\n",
              "      <th>Dropped</th>\n",
              "      <th>Plan to Watch</th>\n",
              "      <th>Score-10</th>\n",
              "      <th>Score-9</th>\n",
              "      <th>Score-8</th>\n",
              "      <th>Score-7</th>\n",
              "      <th>Score-6</th>\n",
              "      <th>Score-5</th>\n",
              "      <th>Score-4</th>\n",
              "      <th>Score-3</th>\n",
              "      <th>Score-2</th>\n",
              "      <th>Score-1</th>\n",
              "    </tr>\n",
              "  </thead>\n",
              "  <tbody>\n",
              "    <tr>\n",
              "      <th>0</th>\n",
              "      <td>1</td>\n",
              "      <td>Cowboy Bebop</td>\n",
              "      <td>8.78</td>\n",
              "      <td>Action, Adventure, Comedy, Drama, Sci-Fi, Space</td>\n",
              "      <td>Cowboy Bebop</td>\n",
              "      <td>カウボーイビバップ</td>\n",
              "      <td>TV</td>\n",
              "      <td>26</td>\n",
              "      <td>Apr 3, 1998 to Apr 24, 1999</td>\n",
              "      <td>Spring 1998</td>\n",
              "      <td>Bandai Visual</td>\n",
              "      <td>Funimation, Bandai Entertainment</td>\n",
              "      <td>Sunrise</td>\n",
              "      <td>Original</td>\n",
              "      <td>24 min. per ep.</td>\n",
              "      <td>R - 17+ (violence &amp; profanity)</td>\n",
              "      <td>28.0</td>\n",
              "      <td>39</td>\n",
              "      <td>1251960</td>\n",
              "      <td>61971</td>\n",
              "      <td>105808</td>\n",
              "      <td>718161</td>\n",
              "      <td>71513</td>\n",
              "      <td>26678</td>\n",
              "      <td>329800</td>\n",
              "      <td>229170.0</td>\n",
              "      <td>182126.0</td>\n",
              "      <td>131625.0</td>\n",
              "      <td>62330.0</td>\n",
              "      <td>20688.0</td>\n",
              "      <td>8904.0</td>\n",
              "      <td>3184.0</td>\n",
              "      <td>1357.0</td>\n",
              "      <td>741.0</td>\n",
              "      <td>1580.0</td>\n",
              "    </tr>\n",
              "    <tr>\n",
              "      <th>1</th>\n",
              "      <td>5</td>\n",
              "      <td>Cowboy Bebop: Tengoku no Tobira</td>\n",
              "      <td>8.39</td>\n",
              "      <td>Action, Drama, Mystery, Sci-Fi, Space</td>\n",
              "      <td>Cowboy Bebop:The Movie</td>\n",
              "      <td>カウボーイビバップ 天国の扉</td>\n",
              "      <td>Movie</td>\n",
              "      <td>1</td>\n",
              "      <td>Sep 1, 2001</td>\n",
              "      <td>NaN</td>\n",
              "      <td>Sunrise, Bandai Visual</td>\n",
              "      <td>Sony Pictures Entertainment</td>\n",
              "      <td>Bones</td>\n",
              "      <td>Original</td>\n",
              "      <td>1 hr. 55 min.</td>\n",
              "      <td>R - 17+ (violence &amp; profanity)</td>\n",
              "      <td>159.0</td>\n",
              "      <td>518</td>\n",
              "      <td>273145</td>\n",
              "      <td>1174</td>\n",
              "      <td>4143</td>\n",
              "      <td>208333</td>\n",
              "      <td>1935</td>\n",
              "      <td>770</td>\n",
              "      <td>57964</td>\n",
              "      <td>30043.0</td>\n",
              "      <td>49201.0</td>\n",
              "      <td>49505.0</td>\n",
              "      <td>22632.0</td>\n",
              "      <td>5805.0</td>\n",
              "      <td>1877.0</td>\n",
              "      <td>577.0</td>\n",
              "      <td>221.0</td>\n",
              "      <td>109.0</td>\n",
              "      <td>379.0</td>\n",
              "    </tr>\n",
              "    <tr>\n",
              "      <th>2</th>\n",
              "      <td>6</td>\n",
              "      <td>Trigun</td>\n",
              "      <td>8.24</td>\n",
              "      <td>Action, Sci-Fi, Adventure, Comedy, Drama, Shounen</td>\n",
              "      <td>Trigun</td>\n",
              "      <td>トライガン</td>\n",
              "      <td>TV</td>\n",
              "      <td>26</td>\n",
              "      <td>Apr 1, 1998 to Sep 30, 1998</td>\n",
              "      <td>Spring 1998</td>\n",
              "      <td>Victor Entertainment</td>\n",
              "      <td>Funimation, Geneon Entertainment USA</td>\n",
              "      <td>Madhouse</td>\n",
              "      <td>Manga</td>\n",
              "      <td>24 min. per ep.</td>\n",
              "      <td>PG-13 - Teens 13 or older</td>\n",
              "      <td>266.0</td>\n",
              "      <td>201</td>\n",
              "      <td>558913</td>\n",
              "      <td>12944</td>\n",
              "      <td>29113</td>\n",
              "      <td>343492</td>\n",
              "      <td>25465</td>\n",
              "      <td>13925</td>\n",
              "      <td>146918</td>\n",
              "      <td>50229.0</td>\n",
              "      <td>75651.0</td>\n",
              "      <td>86142.0</td>\n",
              "      <td>49432.0</td>\n",
              "      <td>15376.0</td>\n",
              "      <td>5838.0</td>\n",
              "      <td>1965.0</td>\n",
              "      <td>664.0</td>\n",
              "      <td>316.0</td>\n",
              "      <td>533.0</td>\n",
              "    </tr>\n",
              "    <tr>\n",
              "      <th>3</th>\n",
              "      <td>7</td>\n",
              "      <td>Witch Hunter Robin</td>\n",
              "      <td>7.27</td>\n",
              "      <td>Action, Mystery, Police, Supernatural, Drama, ...</td>\n",
              "      <td>Witch Hunter Robin</td>\n",
              "      <td>Witch Hunter ROBIN (ウイッチハンターロビン)</td>\n",
              "      <td>TV</td>\n",
              "      <td>26</td>\n",
              "      <td>Jul 2, 2002 to Dec 24, 2002</td>\n",
              "      <td>Summer 2002</td>\n",
              "      <td>TV Tokyo, Bandai Visual, Dentsu, Victor Entert...</td>\n",
              "      <td>Funimation, Bandai Entertainment</td>\n",
              "      <td>Sunrise</td>\n",
              "      <td>Original</td>\n",
              "      <td>25 min. per ep.</td>\n",
              "      <td>PG-13 - Teens 13 or older</td>\n",
              "      <td>2481.0</td>\n",
              "      <td>1467</td>\n",
              "      <td>94683</td>\n",
              "      <td>587</td>\n",
              "      <td>4300</td>\n",
              "      <td>46165</td>\n",
              "      <td>5121</td>\n",
              "      <td>5378</td>\n",
              "      <td>33719</td>\n",
              "      <td>2182.0</td>\n",
              "      <td>4806.0</td>\n",
              "      <td>10128.0</td>\n",
              "      <td>11618.0</td>\n",
              "      <td>5709.0</td>\n",
              "      <td>2920.0</td>\n",
              "      <td>1083.0</td>\n",
              "      <td>353.0</td>\n",
              "      <td>164.0</td>\n",
              "      <td>131.0</td>\n",
              "    </tr>\n",
              "    <tr>\n",
              "      <th>4</th>\n",
              "      <td>8</td>\n",
              "      <td>Bouken Ou Beet</td>\n",
              "      <td>6.98</td>\n",
              "      <td>Adventure, Fantasy, Shounen, Supernatural</td>\n",
              "      <td>Beet the Vandel Buster</td>\n",
              "      <td>冒険王ビィト</td>\n",
              "      <td>TV</td>\n",
              "      <td>52</td>\n",
              "      <td>Sep 30, 2004 to Sep 29, 2005</td>\n",
              "      <td>Fall 2004</td>\n",
              "      <td>TV Tokyo, Dentsu</td>\n",
              "      <td>NaN</td>\n",
              "      <td>Toei Animation</td>\n",
              "      <td>Manga</td>\n",
              "      <td>23 min. per ep.</td>\n",
              "      <td>PG - Children</td>\n",
              "      <td>3710.0</td>\n",
              "      <td>4369</td>\n",
              "      <td>13224</td>\n",
              "      <td>18</td>\n",
              "      <td>642</td>\n",
              "      <td>7314</td>\n",
              "      <td>766</td>\n",
              "      <td>1108</td>\n",
              "      <td>3394</td>\n",
              "      <td>312.0</td>\n",
              "      <td>529.0</td>\n",
              "      <td>1242.0</td>\n",
              "      <td>1713.0</td>\n",
              "      <td>1068.0</td>\n",
              "      <td>634.0</td>\n",
              "      <td>265.0</td>\n",
              "      <td>83.0</td>\n",
              "      <td>50.0</td>\n",
              "      <td>27.0</td>\n",
              "    </tr>\n",
              "  </tbody>\n",
              "</table>\n",
              "</div>"
            ],
            "text/plain": [
              "   MAL_ID                             Name Score  ... Score-3 Score-2 Score-1\n",
              "0       1                     Cowboy Bebop  8.78  ...  1357.0   741.0  1580.0\n",
              "1       5  Cowboy Bebop: Tengoku no Tobira  8.39  ...   221.0   109.0   379.0\n",
              "2       6                           Trigun  8.24  ...   664.0   316.0   533.0\n",
              "3       7               Witch Hunter Robin  7.27  ...   353.0   164.0   131.0\n",
              "4       8                   Bouken Ou Beet  6.98  ...    83.0    50.0    27.0\n",
              "\n",
              "[5 rows x 35 columns]"
            ]
          },
          "metadata": {
            "tags": []
          },
          "execution_count": 25
        }
      ]
    },
    {
      "cell_type": "code",
      "metadata": {
        "id": "C2Mc1PMnR0LD"
      },
      "source": [
        "# Fixing Names\n",
        "def getAnimeName(anime_id):\n",
        "    try: #eng_version 또는 Name의 값으로 return\n",
        "        name = df[df.anime_id == anime_id].eng_version.values[0]\n",
        "        if name is np.nan:\n",
        "            name = df[df.anime_id == anime_id].Name.values[0]\n",
        "    except:\n",
        "        print('error')\n",
        "    \n",
        "    return name\n",
        "\n",
        "df['anime_id'] = df['MAL_ID']\n",
        "df[\"eng_version\"] = df['English name']\n",
        "df['eng_version'] = df.anime_id.apply(lambda x: getAnimeName(x))\n",
        "\n",
        "df.sort_values(by=['Score'], \n",
        "               inplace=True,\n",
        "               ascending=False, \n",
        "               kind='quicksort',\n",
        "               na_position='last')\n",
        "\n",
        "df = df[[\"anime_id\", \"eng_version\", \n",
        "         \"Score\", \"Genders\", \"Episodes\", \n",
        "         \"Type\", \"Premiered\", \"Members\"]]"
      ],
      "execution_count": 26,
      "outputs": []
    },
    {
      "cell_type": "code",
      "metadata": {
        "colab": {
          "base_uri": "https://localhost:8080/",
          "height": 204
        },
        "id": "oecYaBo-R70s",
        "outputId": "ce6aeccd-f03b-4822-a252-0e609db5ebba"
      },
      "source": [
        "df.head()"
      ],
      "execution_count": 27,
      "outputs": [
        {
          "output_type": "execute_result",
          "data": {
            "text/html": [
              "<div>\n",
              "<style scoped>\n",
              "    .dataframe tbody tr th:only-of-type {\n",
              "        vertical-align: middle;\n",
              "    }\n",
              "\n",
              "    .dataframe tbody tr th {\n",
              "        vertical-align: top;\n",
              "    }\n",
              "\n",
              "    .dataframe thead th {\n",
              "        text-align: right;\n",
              "    }\n",
              "</style>\n",
              "<table border=\"1\" class=\"dataframe\">\n",
              "  <thead>\n",
              "    <tr style=\"text-align: right;\">\n",
              "      <th></th>\n",
              "      <th>anime_id</th>\n",
              "      <th>eng_version</th>\n",
              "      <th>Score</th>\n",
              "      <th>Genders</th>\n",
              "      <th>Episodes</th>\n",
              "      <th>Type</th>\n",
              "      <th>Premiered</th>\n",
              "      <th>Members</th>\n",
              "    </tr>\n",
              "  </thead>\n",
              "  <tbody>\n",
              "    <tr>\n",
              "      <th>3971</th>\n",
              "      <td>5114</td>\n",
              "      <td>Fullmetal Alchemist:Brotherhood</td>\n",
              "      <td>9.19</td>\n",
              "      <td>Action, Military, Adventure, Comedy, Drama, Ma...</td>\n",
              "      <td>64</td>\n",
              "      <td>TV</td>\n",
              "      <td>Spring 2009</td>\n",
              "      <td>2248456</td>\n",
              "    </tr>\n",
              "    <tr>\n",
              "      <th>15926</th>\n",
              "      <td>40028</td>\n",
              "      <td>Attack on Titan Final Season</td>\n",
              "      <td>9.17</td>\n",
              "      <td>Action, Military, Mystery, Super Power, Drama,...</td>\n",
              "      <td>16</td>\n",
              "      <td>TV</td>\n",
              "      <td>Winter 2021</td>\n",
              "      <td>733260</td>\n",
              "    </tr>\n",
              "    <tr>\n",
              "      <th>5683</th>\n",
              "      <td>9253</td>\n",
              "      <td>Steins;Gate</td>\n",
              "      <td>9.11</td>\n",
              "      <td>Thriller, Sci-Fi</td>\n",
              "      <td>24</td>\n",
              "      <td>TV</td>\n",
              "      <td>Spring 2011</td>\n",
              "      <td>1771162</td>\n",
              "    </tr>\n",
              "    <tr>\n",
              "      <th>14963</th>\n",
              "      <td>38524</td>\n",
              "      <td>Attack on Titan Season 3 Part 2</td>\n",
              "      <td>9.1</td>\n",
              "      <td>Action, Drama, Fantasy, Military, Mystery, Sho...</td>\n",
              "      <td>10</td>\n",
              "      <td>TV</td>\n",
              "      <td>Spring 2019</td>\n",
              "      <td>1073626</td>\n",
              "    </tr>\n",
              "    <tr>\n",
              "      <th>9913</th>\n",
              "      <td>28977</td>\n",
              "      <td>Gintama Season 4</td>\n",
              "      <td>9.1</td>\n",
              "      <td>Action, Comedy, Historical, Parody, Samurai, S...</td>\n",
              "      <td>51</td>\n",
              "      <td>TV</td>\n",
              "      <td>Spring 2015</td>\n",
              "      <td>404121</td>\n",
              "    </tr>\n",
              "  </tbody>\n",
              "</table>\n",
              "</div>"
            ],
            "text/plain": [
              "       anime_id                      eng_version  ...    Premiered  Members\n",
              "3971       5114  Fullmetal Alchemist:Brotherhood  ...  Spring 2009  2248456\n",
              "15926     40028     Attack on Titan Final Season  ...  Winter 2021   733260\n",
              "5683       9253                      Steins;Gate  ...  Spring 2011  1771162\n",
              "14963     38524  Attack on Titan Season 3 Part 2  ...  Spring 2019  1073626\n",
              "9913      28977                 Gintama Season 4  ...  Spring 2015   404121\n",
              "\n",
              "[5 rows x 8 columns]"
            ]
          },
          "metadata": {
            "tags": []
          },
          "execution_count": 27
        }
      ]
    },
    {
      "cell_type": "code",
      "metadata": {
        "id": "m9HgWTd-R-gf"
      },
      "source": [
        "def getAnimeFrame(anime):\n",
        "    if isinstance(anime, int):\n",
        "        return df[df.anime_id == anime]\n",
        "    if isinstance(anime, str):\n",
        "        return df[df.eng_version == anime]"
      ],
      "execution_count": 28,
      "outputs": []
    },
    {
      "cell_type": "code",
      "metadata": {
        "colab": {
          "base_uri": "https://localhost:8080/",
          "height": 151
        },
        "id": "r7-a5zhQSFb0",
        "outputId": "cd94045e-0baf-4958-84ed-37772a077eaa"
      },
      "source": [
        "print(getAnimeFrame('Fullmetal Alchemist:Brotherhood'))\n",
        "getAnimeFrame(5114)"
      ],
      "execution_count": 29,
      "outputs": [
        {
          "output_type": "stream",
          "text": [
            "      anime_id                      eng_version  ...    Premiered  Members\n",
            "3971      5114  Fullmetal Alchemist:Brotherhood  ...  Spring 2009  2248456\n",
            "\n",
            "[1 rows x 8 columns]\n"
          ],
          "name": "stdout"
        },
        {
          "output_type": "execute_result",
          "data": {
            "text/html": [
              "<div>\n",
              "<style scoped>\n",
              "    .dataframe tbody tr th:only-of-type {\n",
              "        vertical-align: middle;\n",
              "    }\n",
              "\n",
              "    .dataframe tbody tr th {\n",
              "        vertical-align: top;\n",
              "    }\n",
              "\n",
              "    .dataframe thead th {\n",
              "        text-align: right;\n",
              "    }\n",
              "</style>\n",
              "<table border=\"1\" class=\"dataframe\">\n",
              "  <thead>\n",
              "    <tr style=\"text-align: right;\">\n",
              "      <th></th>\n",
              "      <th>anime_id</th>\n",
              "      <th>eng_version</th>\n",
              "      <th>Score</th>\n",
              "      <th>Genders</th>\n",
              "      <th>Episodes</th>\n",
              "      <th>Type</th>\n",
              "      <th>Premiered</th>\n",
              "      <th>Members</th>\n",
              "    </tr>\n",
              "  </thead>\n",
              "  <tbody>\n",
              "    <tr>\n",
              "      <th>3971</th>\n",
              "      <td>5114</td>\n",
              "      <td>Fullmetal Alchemist:Brotherhood</td>\n",
              "      <td>9.19</td>\n",
              "      <td>Action, Military, Adventure, Comedy, Drama, Ma...</td>\n",
              "      <td>64</td>\n",
              "      <td>TV</td>\n",
              "      <td>Spring 2009</td>\n",
              "      <td>2248456</td>\n",
              "    </tr>\n",
              "  </tbody>\n",
              "</table>\n",
              "</div>"
            ],
            "text/plain": [
              "      anime_id                      eng_version  ...    Premiered  Members\n",
              "3971      5114  Fullmetal Alchemist:Brotherhood  ...  Spring 2009  2248456\n",
              "\n",
              "[1 rows x 8 columns]"
            ]
          },
          "metadata": {
            "tags": []
          },
          "execution_count": 29
        }
      ]
    },
    {
      "cell_type": "code",
      "metadata": {
        "id": "jV033UbaSKD_"
      },
      "source": [
        "cols = [\"MAL_ID\", \"Name\", \"Genders\", \"sypnopsis\"]\n",
        "sypnopsis_df = pd.read_csv(INPUT_DIR + '/anime_with_synopsis.csv', usecols=cols)\n",
        "\n",
        "def getSypnopsis(anime):\n",
        "    if isinstance(anime, int):\n",
        "        return sypnopsis_df[sypnopsis_df.MAL_ID == anime].sypnopsis.values[0]\n",
        "    if isinstance(anime, str):\n",
        "        return sypnopsis_df[sypnopsis_df.Name == anime].sypnopsis.values[0]"
      ],
      "execution_count": 30,
      "outputs": []
    },
    {
      "cell_type": "code",
      "metadata": {
        "colab": {
          "base_uri": "https://localhost:8080/",
          "height": 204
        },
        "id": "LqClXFbaSUoV",
        "outputId": "f45e7559-7617-47c5-84ce-5f8d877faab9"
      },
      "source": [
        "sypnopsis_df.head()"
      ],
      "execution_count": 31,
      "outputs": [
        {
          "output_type": "execute_result",
          "data": {
            "text/html": [
              "<div>\n",
              "<style scoped>\n",
              "    .dataframe tbody tr th:only-of-type {\n",
              "        vertical-align: middle;\n",
              "    }\n",
              "\n",
              "    .dataframe tbody tr th {\n",
              "        vertical-align: top;\n",
              "    }\n",
              "\n",
              "    .dataframe thead th {\n",
              "        text-align: right;\n",
              "    }\n",
              "</style>\n",
              "<table border=\"1\" class=\"dataframe\">\n",
              "  <thead>\n",
              "    <tr style=\"text-align: right;\">\n",
              "      <th></th>\n",
              "      <th>MAL_ID</th>\n",
              "      <th>Name</th>\n",
              "      <th>Genders</th>\n",
              "      <th>sypnopsis</th>\n",
              "    </tr>\n",
              "  </thead>\n",
              "  <tbody>\n",
              "    <tr>\n",
              "      <th>0</th>\n",
              "      <td>1</td>\n",
              "      <td>Cowboy Bebop</td>\n",
              "      <td>Action, Adventure, Comedy, Drama, Sci-Fi, Space</td>\n",
              "      <td>In the year 2071, humanity has colonized sever...</td>\n",
              "    </tr>\n",
              "    <tr>\n",
              "      <th>1</th>\n",
              "      <td>5</td>\n",
              "      <td>Cowboy Bebop: Tengoku no Tobira</td>\n",
              "      <td>Action, Drama, Mystery, Sci-Fi, Space</td>\n",
              "      <td>other day, another bounty—such is the life of ...</td>\n",
              "    </tr>\n",
              "    <tr>\n",
              "      <th>2</th>\n",
              "      <td>6</td>\n",
              "      <td>Trigun</td>\n",
              "      <td>Action, Sci-Fi, Adventure, Comedy, Drama, Shounen</td>\n",
              "      <td>Vash the Stampede is the man with a $$60,000,0...</td>\n",
              "    </tr>\n",
              "    <tr>\n",
              "      <th>3</th>\n",
              "      <td>7</td>\n",
              "      <td>Witch Hunter Robin</td>\n",
              "      <td>Action, Mystery, Police, Supernatural, Drama, ...</td>\n",
              "      <td>ches are individuals with special powers like ...</td>\n",
              "    </tr>\n",
              "    <tr>\n",
              "      <th>4</th>\n",
              "      <td>8</td>\n",
              "      <td>Bouken Ou Beet</td>\n",
              "      <td>Adventure, Fantasy, Shounen, Supernatural</td>\n",
              "      <td>It is the dark century and the people are suff...</td>\n",
              "    </tr>\n",
              "  </tbody>\n",
              "</table>\n",
              "</div>"
            ],
            "text/plain": [
              "   MAL_ID  ...                                          sypnopsis\n",
              "0       1  ...  In the year 2071, humanity has colonized sever...\n",
              "1       5  ...  other day, another bounty—such is the life of ...\n",
              "2       6  ...  Vash the Stampede is the man with a $$60,000,0...\n",
              "3       7  ...  ches are individuals with special powers like ...\n",
              "4       8  ...  It is the dark century and the people are suff...\n",
              "\n",
              "[5 rows x 4 columns]"
            ]
          },
          "metadata": {
            "tags": []
          },
          "execution_count": 31
        }
      ]
    },
    {
      "cell_type": "code",
      "metadata": {
        "id": "tvEgtZN4SXsB"
      },
      "source": [
        "pd.set_option(\"max_colwidth\", None)\n",
        "\n",
        "def find_similar_animes(name, n=10, return_dist=False, neg=False):\n",
        "    try:\n",
        "        index = getAnimeFrame(name).anime_id.values[0]\n",
        "        encoded_index = anime2anime_encoded.get(index)\n",
        "        weights = anime_weights #anime_weights=extract_weights('anime_embedding', model)\n",
        "      \n",
        "        dists = np.dot(weights, weights[encoded_index]) #모든 애니메이션의 임베팅 벡터와 구하고자 하는 애니메이션의 임베팅 벡터와 내적연산하여 유사성을 계산\n",
        "        sorted_dists = np.argsort(dists) #연관도 순서별로 인덱스를 저장\n",
        "        #[0.3 0.7 0.02] => [2 0 1]\n",
        "       \n",
        "\n",
        "        #자기 자신과는 1이 유사도로 나오므로 +1 해줘야 원하는 개수를 구할 수 있음\n",
        "        n = n + 1            \n",
        "        \n",
        "        if neg:\n",
        "            closest = sorted_dists[:n]\n",
        "        else:\n",
        "            closest = sorted_dists[-n:]\n",
        "\n",
        "        print('animes closest to {}'.format(name))\n",
        "\n",
        "        if return_dist:\n",
        "            return dists, closest\n",
        "        \n",
        "        rindex = df\n",
        "        \n",
        "        #print(closest)\n",
        "        SimilarityArr = []\n",
        "\n",
        "        #유사하게 나온 애니메이션들의 정보 출력\n",
        "        for close in closest:\n",
        "            decoded_id = anime_encoded2anime.get(close)\n",
        "            sypnopsis = getSypnopsis(decoded_id)\n",
        "            anime_frame = getAnimeFrame(decoded_id)\n",
        "            \n",
        "            anime_name = anime_frame.eng_version.values[0]\n",
        "            genre = anime_frame.Genders.values[0]\n",
        "            similarity = dists[close]\n",
        "            SimilarityArr.append({\"anime_id\": decoded_id, \"name\": anime_name,\n",
        "                                  \"similarity\": similarity,\"genre\": genre,\n",
        "                                  'sypnopsis': sypnopsis})\n",
        "        #print(len(SimilarityArr))\n",
        "        Frame = pd.DataFrame(SimilarityArr).sort_values(by=\"similarity\", ascending=False)\n",
        "        return Frame[1:n] #자기 자신을 제외하고 return \n",
        "        #return Frame[Frame.anime_id != index].drop(['anime_id'], axis=1)\n",
        "\n",
        "    except:\n",
        "        print('{}!, Not Found in Anime list'.format(name))"
      ],
      "execution_count": 32,
      "outputs": []
    },
    {
      "cell_type": "code",
      "metadata": {
        "colab": {
          "base_uri": "https://localhost:8080/",
          "height": 733
        },
        "id": "5MwHEBJ3S9yx",
        "outputId": "5d97ecb4-4015-413b-f50d-1f523449e03f"
      },
      "source": [
        "find_similar_animes('Howl\\'s Moving Castle', n=5, neg=False)"
      ],
      "execution_count": 33,
      "outputs": [
        {
          "output_type": "stream",
          "text": [
            "animes closest to Howl's Moving Castle\n"
          ],
          "name": "stdout"
        },
        {
          "output_type": "execute_result",
          "data": {
            "text/html": [
              "<div>\n",
              "<style scoped>\n",
              "    .dataframe tbody tr th:only-of-type {\n",
              "        vertical-align: middle;\n",
              "    }\n",
              "\n",
              "    .dataframe tbody tr th {\n",
              "        vertical-align: top;\n",
              "    }\n",
              "\n",
              "    .dataframe thead th {\n",
              "        text-align: right;\n",
              "    }\n",
              "</style>\n",
              "<table border=\"1\" class=\"dataframe\">\n",
              "  <thead>\n",
              "    <tr style=\"text-align: right;\">\n",
              "      <th></th>\n",
              "      <th>anime_id</th>\n",
              "      <th>name</th>\n",
              "      <th>similarity</th>\n",
              "      <th>genre</th>\n",
              "      <th>sypnopsis</th>\n",
              "    </tr>\n",
              "  </thead>\n",
              "  <tbody>\n",
              "    <tr>\n",
              "      <th>4</th>\n",
              "      <td>199</td>\n",
              "      <td>Spirited Away</td>\n",
              "      <td>0.953263</td>\n",
              "      <td>Adventure, Supernatural, Drama</td>\n",
              "      <td>Stubborn, spoiled, and naïve, 10-year-old Chihiro Ogino is less than pleased when she and her parents discover an abandoned amusement park on the way to their new house. Cautiously venturing inside, she realizes that there is more to this place than meets the eye, as strange things begin to happen once dusk falls. Ghostly apparitions and food that turns her parents into pigs are just the start—Chihiro has unwittingly crossed over into the spirit world. Now trapped, she must summon the courage to live and work amongst spirits, with the help of the enigmatic Haku and the cast of unique characters she meets along the way. Vivid and intriguing, Sen to Chihiro no Kamikakushi tells the story of Chihiro's journey through an unfamiliar world as she strives to save her parents and return home.</td>\n",
              "    </tr>\n",
              "    <tr>\n",
              "      <th>3</th>\n",
              "      <td>523</td>\n",
              "      <td>My Neighbor Totoro</td>\n",
              "      <td>0.924017</td>\n",
              "      <td>Adventure, Comedy, Supernatural</td>\n",
              "      <td>In 1950s Japan, Tatsuo Kusakabe relocates himself and his two daughters, Satsuki and Mei, to the countryside to be closer to their mother, who is hospitalized due to long-term illness. As the girls grow acquainted with rural life, Mei encounters a small, bunny-like creature in the yard one day. Chasing it into the forest, she finds \"Totoro\"—a giant, mystical forest spirit whom she soon befriends. Before long, Satsuki too meets Totoro, and the two girls suddenly find their lives filled with magical adventures in nature and fantastical creatures of the woods.</td>\n",
              "    </tr>\n",
              "    <tr>\n",
              "      <th>2</th>\n",
              "      <td>164</td>\n",
              "      <td>Princess Mononoke</td>\n",
              "      <td>0.916713</td>\n",
              "      <td>Action, Adventure, Fantasy</td>\n",
              "      <td>hen an Emishi village is attacked by a fierce demon boar, the young prince Ashitaka puts his life at stake to defend his tribe. With its dying breath, the beast curses the prince's arm, granting him demonic powers while gradually siphoning his life away. Instructed by the village elders to travel westward for a cure, Ashitaka arrives at Tatara, the Iron Town, where he finds himself embroiled in a fierce conflict: Lady Eboshi of Tatara, promoting constant deforestation, stands against Princess San and the sacred spirits of the forest, who are furious at the destruction brought by the humans. As the opposing forces of nature and mankind begin to clash in a desperate struggle for survival, Ashitaka attempts to seek harmony between the two, all the while battling the latent demon inside of him. Princess Mononoke is a tale depicting the connection of technology and nature, while showing the path to harmony that could be achieved by mutual acceptance.</td>\n",
              "    </tr>\n",
              "    <tr>\n",
              "      <th>1</th>\n",
              "      <td>512</td>\n",
              "      <td>Kiki's Delivery Service</td>\n",
              "      <td>0.876594</td>\n",
              "      <td>Adventure, Comedy, Drama, Magic, Romance, Fantasy</td>\n",
              "      <td>Kiki, a 13-year-old witch-in-training, must spend a year living on her own in a distant town in order to become a full-fledged witch. Leaving her family and friends, Kiki undertakes this tradition when she flies out into the open world atop her broomstick with her black cat Jiji. As she settles down in the coastal town of Koriko, Kiki struggles to adapt and ends up wandering the streets with no place to stay—until she encounters Osono, who offers Kiki boarding in exchange for making deliveries for her small bakery. Before long, Kiki decides to open her own courier service by broomstick, beginning her journey to independence. In attempting to find her place among the townsfolk, Kiki brings with her exciting new experiences and comes to understand the true meaning of responsibility.</td>\n",
              "    </tr>\n",
              "    <tr>\n",
              "      <th>0</th>\n",
              "      <td>2890</td>\n",
              "      <td>Ponyo</td>\n",
              "      <td>0.853245</td>\n",
              "      <td>Adventure, Fantasy</td>\n",
              "      <td>goldfish sneaks away from home and floats off on the back of a jellyfish. After getting stuck in a glass jar, she drifts to the shore where she is freed by Sousuke, a five-year-old boy who lives with his mother Lisa in a house by the sea while his father Koichi works on a fishing boat. After healing a cut on Sousuke's finger by licking it, the goldfish is named Ponyo by her new friend. Unknown to Sousuke, Ponyo already has a name and a family. Her father Fujimoto, a sorcerer who forsook his humanity to live underwater, searches frantically for his daughter Brunhilde. When found and captured, Ponyo rejects her birth name and declares that she wants to become a human. Using the power received from Sousuke's blood, she grows arms and legs and escapes to the surface once more. But the magic released into the ocean causes an imbalance in nature, causing the Moon to start falling out of orbit and the tides to grow dangerously stronger. Reunited with Ponyo, Sousuke must pass an ancient test to restore order in the world and let his companion live on as a human.</td>\n",
              "    </tr>\n",
              "  </tbody>\n",
              "</table>\n",
              "</div>"
            ],
            "text/plain": [
              "   anime_id  ...                                                                                                                                                                                                                                                                                                                                                                                                                                                                                                                                                                                                                                                                                                                                                                                                                                                                                                                                                                                                                                                                                                       sypnopsis\n",
              "4       199  ...                                                                                                                                                                                                                                                                                     Stubborn, spoiled, and naïve, 10-year-old Chihiro Ogino is less than pleased when she and her parents discover an abandoned amusement park on the way to their new house. Cautiously venturing inside, she realizes that there is more to this place than meets the eye, as strange things begin to happen once dusk falls. Ghostly apparitions and food that turns her parents into pigs are just the start—Chihiro has unwittingly crossed over into the spirit world. Now trapped, she must summon the courage to live and work amongst spirits, with the help of the enigmatic Haku and the cast of unique characters she meets along the way. Vivid and intriguing, Sen to Chihiro no Kamikakushi tells the story of Chihiro's journey through an unfamiliar world as she strives to save her parents and return home.\n",
              "3       523  ...                                                                                                                                                                                                                                                                                                                                                                                                                                                                                                                             In 1950s Japan, Tatsuo Kusakabe relocates himself and his two daughters, Satsuki and Mei, to the countryside to be closer to their mother, who is hospitalized due to long-term illness. As the girls grow acquainted with rural life, Mei encounters a small, bunny-like creature in the yard one day. Chasing it into the forest, she finds \"Totoro\"—a giant, mystical forest spirit whom she soon befriends. Before long, Satsuki too meets Totoro, and the two girls suddenly find their lives filled with magical adventures in nature and fantastical creatures of the woods.\n",
              "2       164  ...                                                                                                                 hen an Emishi village is attacked by a fierce demon boar, the young prince Ashitaka puts his life at stake to defend his tribe. With its dying breath, the beast curses the prince's arm, granting him demonic powers while gradually siphoning his life away. Instructed by the village elders to travel westward for a cure, Ashitaka arrives at Tatara, the Iron Town, where he finds himself embroiled in a fierce conflict: Lady Eboshi of Tatara, promoting constant deforestation, stands against Princess San and the sacred spirits of the forest, who are furious at the destruction brought by the humans. As the opposing forces of nature and mankind begin to clash in a desperate struggle for survival, Ashitaka attempts to seek harmony between the two, all the while battling the latent demon inside of him. Princess Mononoke is a tale depicting the connection of technology and nature, while showing the path to harmony that could be achieved by mutual acceptance.\n",
              "1       512  ...                                                                                                                                                                                                                                                                                         Kiki, a 13-year-old witch-in-training, must spend a year living on her own in a distant town in order to become a full-fledged witch. Leaving her family and friends, Kiki undertakes this tradition when she flies out into the open world atop her broomstick with her black cat Jiji. As she settles down in the coastal town of Koriko, Kiki struggles to adapt and ends up wandering the streets with no place to stay—until she encounters Osono, who offers Kiki boarding in exchange for making deliveries for her small bakery. Before long, Kiki decides to open her own courier service by broomstick, beginning her journey to independence. In attempting to find her place among the townsfolk, Kiki brings with her exciting new experiences and comes to understand the true meaning of responsibility.\n",
              "0      2890  ...  goldfish sneaks away from home and floats off on the back of a jellyfish. After getting stuck in a glass jar, she drifts to the shore where she is freed by Sousuke, a five-year-old boy who lives with his mother Lisa in a house by the sea while his father Koichi works on a fishing boat. After healing a cut on Sousuke's finger by licking it, the goldfish is named Ponyo by her new friend. Unknown to Sousuke, Ponyo already has a name and a family. Her father Fujimoto, a sorcerer who forsook his humanity to live underwater, searches frantically for his daughter Brunhilde. When found and captured, Ponyo rejects her birth name and declares that she wants to become a human. Using the power received from Sousuke's blood, she grows arms and legs and escapes to the surface once more. But the magic released into the ocean causes an imbalance in nature, causing the Moon to start falling out of orbit and the tides to grow dangerously stronger. Reunited with Ponyo, Sousuke must pass an ancient test to restore order in the world and let his companion live on as a human.\n",
              "\n",
              "[5 rows x 5 columns]"
            ]
          },
          "metadata": {
            "tags": []
          },
          "execution_count": 33
        }
      ]
    },
    {
      "cell_type": "markdown",
      "metadata": {
        "id": "bllGSDNLS_XU"
      },
      "source": [
        "### Task 2: Finding Similar Users (User Based Recommendation)"
      ]
    },
    {
      "cell_type": "code",
      "metadata": {
        "colab": {
          "base_uri": "https://localhost:8080/"
        },
        "id": "UJcC68jUTVGZ",
        "outputId": "1a71f188-2782-4b68-b653-2062ea1bfe67"
      },
      "source": [
        "print('> picking up random user')\n",
        "\n",
        "ratings_per_user = rating_df.groupby('user_id').size()\n",
        "random_user = ratings_per_user[ratings_per_user < 500].sample(1, random_state=34).index[0]\n",
        "print('> user_id:', random_user)"
      ],
      "execution_count": 72,
      "outputs": [
        {
          "output_type": "stream",
          "text": [
            "> picking up random user\n",
            "> user_id: 213192\n"
          ],
          "name": "stdout"
        }
      ]
    },
    {
      "cell_type": "code",
      "metadata": {
        "id": "wQJoFtFwTXe9"
      },
      "source": [
        "pd.set_option(\"max_colwidth\", None)\n",
        "\n",
        "def find_similar_users(item_input, n=10,return_dist=False, neg=False):\n",
        "    try:\n",
        "        index = item_input\n",
        "        encoded_index = user2user_encoded.get(index)\n",
        "        weights = user_weights\n",
        "    \n",
        "        dists = np.dot(weights, weights[encoded_index])\n",
        "        sorted_dists = np.argsort(dists)\n",
        "        \n",
        "        n = n + 1\n",
        "        \n",
        "        if neg:\n",
        "            closest = sorted_dists[:n]\n",
        "        else:\n",
        "            closest = sorted_dists[-n:]\n",
        "\n",
        "        print('> users similar to #{}'.format(item_input))\n",
        "\n",
        "        if return_dist:\n",
        "            return dists, closest\n",
        "        \n",
        "        rindex = df\n",
        "        SimilarityArr = []\n",
        "        \n",
        "        for close in closest:\n",
        "            similarity = dists[close]\n",
        "\n",
        "            if isinstance(item_input, int):\n",
        "                decoded_id = user_encoded2user.get(close)\n",
        "                SimilarityArr.append({\"similar_users\": decoded_id, \n",
        "                                      \"similarity\": similarity})\n",
        "\n",
        "        Frame = pd.DataFrame(SimilarityArr).sort_values(by=\"similarity\", \n",
        "                                                        ascending=False)\n",
        "        \n",
        "        return Frame\n",
        "    \n",
        "    except:\n",
        "        print('{}!, Not Found in User list'.format(name))"
      ],
      "execution_count": 47,
      "outputs": []
    },
    {
      "cell_type": "code",
      "metadata": {
        "colab": {
          "base_uri": "https://localhost:8080/",
          "height": 222
        },
        "id": "_h3CAJycTZ9K",
        "outputId": "c8697424-910b-41e1-acf1-05dd68c7c935"
      },
      "source": [
        "similar_users = find_similar_users(int(random_user), \n",
        "                                   n=5, \n",
        "                                   neg=False)\n",
        "\n",
        "similar_users = similar_users[similar_users.similarity > 0.4]\n",
        "similar_users = similar_users[similar_users.similar_users != random_user]\n",
        "similar_users"
      ],
      "execution_count": 73,
      "outputs": [
        {
          "output_type": "stream",
          "text": [
            "> users similar to #213192\n"
          ],
          "name": "stdout"
        },
        {
          "output_type": "execute_result",
          "data": {
            "text/html": [
              "<div>\n",
              "<style scoped>\n",
              "    .dataframe tbody tr th:only-of-type {\n",
              "        vertical-align: middle;\n",
              "    }\n",
              "\n",
              "    .dataframe tbody tr th {\n",
              "        vertical-align: top;\n",
              "    }\n",
              "\n",
              "    .dataframe thead th {\n",
              "        text-align: right;\n",
              "    }\n",
              "</style>\n",
              "<table border=\"1\" class=\"dataframe\">\n",
              "  <thead>\n",
              "    <tr style=\"text-align: right;\">\n",
              "      <th></th>\n",
              "      <th>similar_users</th>\n",
              "      <th>similarity</th>\n",
              "    </tr>\n",
              "  </thead>\n",
              "  <tbody>\n",
              "    <tr>\n",
              "      <th>4</th>\n",
              "      <td>87975</td>\n",
              "      <td>0.556370</td>\n",
              "    </tr>\n",
              "    <tr>\n",
              "      <th>3</th>\n",
              "      <td>281236</td>\n",
              "      <td>0.530164</td>\n",
              "    </tr>\n",
              "    <tr>\n",
              "      <th>2</th>\n",
              "      <td>136047</td>\n",
              "      <td>0.520689</td>\n",
              "    </tr>\n",
              "    <tr>\n",
              "      <th>1</th>\n",
              "      <td>10911</td>\n",
              "      <td>0.517347</td>\n",
              "    </tr>\n",
              "    <tr>\n",
              "      <th>0</th>\n",
              "      <td>180611</td>\n",
              "      <td>0.516565</td>\n",
              "    </tr>\n",
              "  </tbody>\n",
              "</table>\n",
              "</div>"
            ],
            "text/plain": [
              "   similar_users  similarity\n",
              "4          87975    0.556370\n",
              "3         281236    0.530164\n",
              "2         136047    0.520689\n",
              "1          10911    0.517347\n",
              "0         180611    0.516565"
            ]
          },
          "metadata": {
            "tags": []
          },
          "execution_count": 73
        }
      ]
    },
    {
      "cell_type": "markdown",
      "metadata": {
        "id": "J1RSKuuiUdU9"
      },
      "source": [
        "### 유저 선호도"
      ]
    },
    {
      "cell_type": "code",
      "metadata": {
        "id": "zWVU-SqJUehl"
      },
      "source": [
        "from wordcloud import WordCloud\n",
        "from collections import defaultdict\n",
        "import matplotlib.pyplot as plt\n",
        "\n",
        "def showWordCloud(all_genres):\n",
        "    genres_cloud = WordCloud(width=700, height=400, \n",
        "                             background_color='white', \n",
        "                             colormap='gnuplot').generate_from_frequencies(all_genres)\n",
        "    \n",
        "    plt.figure(figsize=(10,8)) \n",
        "    plt.imshow(genres_cloud, interpolation='bilinear')\n",
        "    plt.axis('off')\n",
        "    plt.show()\n",
        "\n",
        "def getFavGenre(frame, plot=False):\n",
        "        frame.dropna(inplace=False)\n",
        "        all_genres = defaultdict(int)\n",
        "        \n",
        "        genres_list = []\n",
        "        for genres in frame['Genders']:\n",
        "            if isinstance(genres, str):\n",
        "                for genre in genres.split(','):\n",
        "                    genres_list.append(genre)\n",
        "                    all_genres[genre.strip()] += 1    \n",
        "        if plot:\n",
        "            showWordCloud(all_genres)\n",
        "        \n",
        "        return genres_list\n",
        "\n",
        "    \n",
        "def get_user_preferences(user_id, plot=False, verbose=0):\n",
        "    animes_watched_by_user = rating_df[rating_df.user_id==user_id]\n",
        "    user_rating_percentile = np.percentile(animes_watched_by_user.rating, 75) #상위 75%의 ranking 저장\n",
        "    animes_watched_by_user = animes_watched_by_user[animes_watched_by_user.rating >= user_rating_percentile] # 그 이상의 rating 을 갖는 애니메이션만 추출\n",
        "    top_animes_user = ( #상위 애니메이션 index 저장\n",
        "        animes_watched_by_user.sort_values(by=\"rating\", ascending=False)#.head(10)\n",
        "        .anime_id.values\n",
        "    )\n",
        "    \n",
        "    anime_df_rows = df[df[\"anime_id\"].isin(top_animes_user)]\n",
        "    anime_df_rows = anime_df_rows[[\"eng_version\", \"Genders\"]]\n",
        "    \n",
        "    if verbose != 0:\n",
        "        print(\"> User #{} has rated {} movies (avg. rating = {:.1f})\".format(\n",
        "          user_id, len(animes_watched_by_user),\n",
        "          animes_watched_by_user['rating'].mean(),\n",
        "        ))\n",
        "    \n",
        "        print('> preferred genres')\n",
        "    \n",
        "    if plot:\n",
        "        getFavGenre(anime_df_rows, plot)\n",
        "        \n",
        "    return anime_df_rows#.eng_version.values"
      ],
      "execution_count": 37,
      "outputs": []
    },
    {
      "cell_type": "code",
      "metadata": {
        "colab": {
          "base_uri": "https://localhost:8080/",
          "height": 590
        },
        "id": "bz-mgkYvUyBQ",
        "outputId": "686c985f-9069-4b0b-8099-c7e13daed03f"
      },
      "source": [
        "user_pref = get_user_preferences(random_user, plot=True, verbose=1)\n",
        "print('> animes highly rated by this user')\n",
        "\n",
        "pd.DataFrame(user_pref).head(5)"
      ],
      "execution_count": 74,
      "outputs": [
        {
          "output_type": "stream",
          "text": [
            "> User #213192 has rated 207 movies (avg. rating = 0.8)\n",
            "> preferred genres\n"
          ],
          "name": "stdout"
        },
        {
          "output_type": "display_data",
          "data": {
            "image/png": "[encoded data removed]",
            "text/plain": [
              "<Figure size 720x576 with 1 Axes>"
            ]
          },
          "metadata": {
            "tags": [],
            "needs_background": "light"
          }
        },
        {
          "output_type": "stream",
          "text": [
            "> animes highly rated by this user\n"
          ],
          "name": "stdout"
        },
        {
          "output_type": "execute_result",
          "data": {
            "text/html": [
              "<div>\n",
              "<style scoped>\n",
              "    .dataframe tbody tr th:only-of-type {\n",
              "        vertical-align: middle;\n",
              "    }\n",
              "\n",
              "    .dataframe tbody tr th {\n",
              "        vertical-align: top;\n",
              "    }\n",
              "\n",
              "    .dataframe thead th {\n",
              "        text-align: right;\n",
              "    }\n",
              "</style>\n",
              "<table border=\"1\" class=\"dataframe\">\n",
              "  <thead>\n",
              "    <tr style=\"text-align: right;\">\n",
              "      <th></th>\n",
              "      <th>eng_version</th>\n",
              "      <th>Genders</th>\n",
              "    </tr>\n",
              "  </thead>\n",
              "  <tbody>\n",
              "    <tr>\n",
              "      <th>3971</th>\n",
              "      <td>Fullmetal Alchemist:Brotherhood</td>\n",
              "      <td>Action, Military, Adventure, Comedy, Drama, Magic, Fantasy, Shounen</td>\n",
              "    </tr>\n",
              "    <tr>\n",
              "      <th>5683</th>\n",
              "      <td>Steins;Gate</td>\n",
              "      <td>Thriller, Sci-Fi</td>\n",
              "    </tr>\n",
              "    <tr>\n",
              "      <th>6474</th>\n",
              "      <td>Hunter x Hunter</td>\n",
              "      <td>Action, Adventure, Fantasy, Shounen, Super Power</td>\n",
              "    </tr>\n",
              "    <tr>\n",
              "      <th>6006</th>\n",
              "      <td>Gintama Season 2</td>\n",
              "      <td>Action, Sci-Fi, Comedy, Historical, Parody, Samurai, Shounen</td>\n",
              "    </tr>\n",
              "    <tr>\n",
              "      <th>7261</th>\n",
              "      <td>Gintama:Enchousen</td>\n",
              "      <td>Action, Comedy, Historical, Parody, Samurai, Sci-Fi, Shounen</td>\n",
              "    </tr>\n",
              "  </tbody>\n",
              "</table>\n",
              "</div>"
            ],
            "text/plain": [
              "                          eng_version                                                              Genders\n",
              "3971  Fullmetal Alchemist:Brotherhood  Action, Military, Adventure, Comedy, Drama, Magic, Fantasy, Shounen\n",
              "5683                      Steins;Gate                                                     Thriller, Sci-Fi\n",
              "6474                  Hunter x Hunter                     Action, Adventure, Fantasy, Shounen, Super Power\n",
              "6006                 Gintama Season 2         Action, Sci-Fi, Comedy, Historical, Parody, Samurai, Shounen\n",
              "7261                Gintama:Enchousen         Action, Comedy, Historical, Parody, Samurai, Sci-Fi, Shounen"
            ]
          },
          "metadata": {
            "tags": []
          },
          "execution_count": 74
        }
      ]
    },
    {
      "cell_type": "markdown",
      "metadata": {
        "id": "me9uvGJ5U2FJ"
      },
      "source": [
        "### 유사도가 제일 높은 유저와 장르 선호도 비교(wordcloud)"
      ]
    },
    {
      "cell_type": "code",
      "metadata": {
        "colab": {
          "base_uri": "https://localhost:8080/",
          "height": 590
        },
        "id": "JAVI7QIEU4yt",
        "outputId": "924c2fc4-9a19-4d4d-eb54-11e8946150cd"
      },
      "source": [
        "first_similar_user=similar_users.iloc[:,0][4]\n",
        "firstsim_user_pref = get_user_preferences(first_similar_user, plot=True, verbose=1)\n",
        "print('> animes highly rated by this user')\n",
        "\n",
        "pd.DataFrame(firstsim_user_pref).head(5)"
      ],
      "execution_count": 75,
      "outputs": [
        {
          "output_type": "stream",
          "text": [
            "> User #87975 has rated 499 movies (avg. rating = 0.9)\n",
            "> preferred genres\n"
          ],
          "name": "stdout"
        },
        {
          "output_type": "display_data",
          "data": {
            "image/png": "[encoded data removed]",
            "text/plain": [
              "<Figure size 720x576 with 1 Axes>"
            ]
          },
          "metadata": {
            "tags": [],
            "needs_background": "light"
          }
        },
        {
          "output_type": "stream",
          "text": [
            "> animes highly rated by this user\n"
          ],
          "name": "stdout"
        },
        {
          "output_type": "execute_result",
          "data": {
            "text/html": [
              "<div>\n",
              "<style scoped>\n",
              "    .dataframe tbody tr th:only-of-type {\n",
              "        vertical-align: middle;\n",
              "    }\n",
              "\n",
              "    .dataframe tbody tr th {\n",
              "        vertical-align: top;\n",
              "    }\n",
              "\n",
              "    .dataframe thead th {\n",
              "        text-align: right;\n",
              "    }\n",
              "</style>\n",
              "<table border=\"1\" class=\"dataframe\">\n",
              "  <thead>\n",
              "    <tr style=\"text-align: right;\">\n",
              "      <th></th>\n",
              "      <th>eng_version</th>\n",
              "      <th>Genders</th>\n",
              "    </tr>\n",
              "  </thead>\n",
              "  <tbody>\n",
              "    <tr>\n",
              "      <th>3971</th>\n",
              "      <td>Fullmetal Alchemist:Brotherhood</td>\n",
              "      <td>Action, Military, Adventure, Comedy, Drama, Magic, Fantasy, Shounen</td>\n",
              "    </tr>\n",
              "    <tr>\n",
              "      <th>5683</th>\n",
              "      <td>Steins;Gate</td>\n",
              "      <td>Thriller, Sci-Fi</td>\n",
              "    </tr>\n",
              "    <tr>\n",
              "      <th>14963</th>\n",
              "      <td>Attack on Titan Season 3 Part 2</td>\n",
              "      <td>Action, Drama, Fantasy, Military, Mystery, Shounen, Super Power</td>\n",
              "    </tr>\n",
              "    <tr>\n",
              "      <th>6474</th>\n",
              "      <td>Hunter x Hunter</td>\n",
              "      <td>Action, Adventure, Fantasy, Shounen, Super Power</td>\n",
              "    </tr>\n",
              "    <tr>\n",
              "      <th>9886</th>\n",
              "      <td>A Silent Voice</td>\n",
              "      <td>Drama, School, Shounen</td>\n",
              "    </tr>\n",
              "  </tbody>\n",
              "</table>\n",
              "</div>"
            ],
            "text/plain": [
              "                           eng_version                                                              Genders\n",
              "3971   Fullmetal Alchemist:Brotherhood  Action, Military, Adventure, Comedy, Drama, Magic, Fantasy, Shounen\n",
              "5683                       Steins;Gate                                                     Thriller, Sci-Fi\n",
              "14963  Attack on Titan Season 3 Part 2      Action, Drama, Fantasy, Military, Mystery, Shounen, Super Power\n",
              "6474                   Hunter x Hunter                     Action, Adventure, Fantasy, Shounen, Super Power\n",
              "9886                    A Silent Voice                                               Drama, School, Shounen"
            ]
          },
          "metadata": {
            "tags": []
          },
          "execution_count": 75
        }
      ]
    },
    {
      "cell_type": "markdown",
      "metadata": {
        "id": "UbKev8OPeG80"
      },
      "source": [
        "### Task 3: Recommending animes for a user"
      ]
    },
    {
      "cell_type": "code",
      "metadata": {
        "id": "q-p9raqaeG1W"
      },
      "source": [
        "def get_recommended_animes(similar_users, n=10):\n",
        "    recommended_animes = []\n",
        "    anime_list = []\n",
        "    \n",
        "    #비슷한 유저들이 시청한 애니메이션을 anime_list에 추가(이미 본 애니메이션은 제거)\n",
        "    for user_id in similar_users.similar_users.values: #유저번호\n",
        "        pref_list = get_user_preferences(int(user_id), verbose=0) #비슷한 유저a가 시청한 리스트\n",
        "        pref_list = pref_list[~ pref_list.eng_version.isin(user_pref.eng_version.values)] #user가 시청한 목록은 제거(이미 봤으니 추천해줄 이유 x)\n",
        "        anime_list.append(pref_list.eng_version.values)\n",
        "        \n",
        "    anime_list = pd.DataFrame(anime_list)\n",
        "    sorted_list = pd.DataFrame(pd.Series(anime_list.values.ravel()).value_counts()).head(n) #제일 많이 추천된(카운트된) 순으로 정렬\n",
        "    \n",
        "    for i, anime_name in enumerate(sorted_list.index):        \n",
        "        n_user_pref = sorted_list[sorted_list.index == anime_name].values[0][0]\n",
        "        if isinstance(anime_name, str):\n",
        "            try:\n",
        "                frame = getAnimeFrame(anime_name)\n",
        "                anime_id = frame.anime_id.values[0]\n",
        "                genre = frame.Genders.values[0]\n",
        "                sypnopsis = getSypnopsis(int(anime_id))\n",
        "                recommended_animes.append({#\"anime_id\": anime_id ,\n",
        "                                            \"n\": n_user_pref,\n",
        "                                            \"anime_name\": anime_name, \n",
        "                                            \"Genders\": genre, \n",
        "                                            #\"sypnopsis\": sypnopsis\n",
        "                                           })\n",
        "            except:\n",
        "                pass\n",
        "    \n",
        "    return pd.DataFrame(recommended_animes)"
      ],
      "execution_count": 40,
      "outputs": []
    },
    {
      "cell_type": "code",
      "metadata": {
        "colab": {
          "base_uri": "https://localhost:8080/",
          "height": 727
        },
        "id": "qQztrmDqeo07",
        "outputId": "e24a2df8-ca62-4110-de9b-f9c8d343b259"
      },
      "source": [
        "recommended_animes = get_recommended_animes(similar_users, n=10)\n",
        "getFavGenre(recommended_animes, plot=True)\n",
        "\n",
        "print('\\n> Top recommendations for user: {}'.format(random_user))\n",
        "recommended_animes"
      ],
      "execution_count": 76,
      "outputs": [
        {
          "output_type": "display_data",
          "data": {
            "image/png": "[encoded data removed]",
            "text/plain": [
              "<Figure size 720x576 with 1 Axes>"
            ]
          },
          "metadata": {
            "tags": [],
            "needs_background": "light"
          }
        },
        {
          "output_type": "stream",
          "text": [
            "\n",
            "> Top recommendations for user: 213192\n"
          ],
          "name": "stdout"
        },
        {
          "output_type": "execute_result",
          "data": {
            "text/html": [
              "<div>\n",
              "<style scoped>\n",
              "    .dataframe tbody tr th:only-of-type {\n",
              "        vertical-align: middle;\n",
              "    }\n",
              "\n",
              "    .dataframe tbody tr th {\n",
              "        vertical-align: top;\n",
              "    }\n",
              "\n",
              "    .dataframe thead th {\n",
              "        text-align: right;\n",
              "    }\n",
              "</style>\n",
              "<table border=\"1\" class=\"dataframe\">\n",
              "  <thead>\n",
              "    <tr style=\"text-align: right;\">\n",
              "      <th></th>\n",
              "      <th>n</th>\n",
              "      <th>anime_name</th>\n",
              "      <th>Genders</th>\n",
              "    </tr>\n",
              "  </thead>\n",
              "  <tbody>\n",
              "    <tr>\n",
              "      <th>0</th>\n",
              "      <td>5</td>\n",
              "      <td>Demon Slayer:Kimetsu no Yaiba</td>\n",
              "      <td>Action, Demons, Historical, Shounen, Supernatural</td>\n",
              "    </tr>\n",
              "    <tr>\n",
              "      <th>1</th>\n",
              "      <td>5</td>\n",
              "      <td>Kaguya-sama:Love is War Season 2</td>\n",
              "      <td>Comedy, Psychological, Romance, School, Seinen</td>\n",
              "    </tr>\n",
              "    <tr>\n",
              "      <th>2</th>\n",
              "      <td>5</td>\n",
              "      <td>Your Lie in April</td>\n",
              "      <td>Drama, Music, Romance, School, Shounen</td>\n",
              "    </tr>\n",
              "    <tr>\n",
              "      <th>3</th>\n",
              "      <td>5</td>\n",
              "      <td>Death Parade</td>\n",
              "      <td>Game, Mystery, Psychological, Drama, Thriller</td>\n",
              "    </tr>\n",
              "    <tr>\n",
              "      <th>4</th>\n",
              "      <td>5</td>\n",
              "      <td>Magi:The Kingdom of Magic</td>\n",
              "      <td>Action, Adventure, Magic, Fantasy, Shounen</td>\n",
              "    </tr>\n",
              "    <tr>\n",
              "      <th>5</th>\n",
              "      <td>5</td>\n",
              "      <td>Nisekoi:False Love</td>\n",
              "      <td>Harem, Comedy, Romance, School, Shounen</td>\n",
              "    </tr>\n",
              "    <tr>\n",
              "      <th>6</th>\n",
              "      <td>5</td>\n",
              "      <td>Food Wars! Shokugeki no Soma</td>\n",
              "      <td>Ecchi, School, Shounen</td>\n",
              "    </tr>\n",
              "    <tr>\n",
              "      <th>7</th>\n",
              "      <td>5</td>\n",
              "      <td>Mob Psycho 100</td>\n",
              "      <td>Action, Slice of Life, Comedy, Supernatural</td>\n",
              "    </tr>\n",
              "    <tr>\n",
              "      <th>8</th>\n",
              "      <td>4</td>\n",
              "      <td>Kimi ni Todoke:From Me To You 2</td>\n",
              "      <td>Slice of Life, Drama, Romance, School, Shoujo</td>\n",
              "    </tr>\n",
              "    <tr>\n",
              "      <th>9</th>\n",
              "      <td>4</td>\n",
              "      <td>Noragami:Stray God</td>\n",
              "      <td>Action, Adventure, Comedy, Supernatural, Shounen</td>\n",
              "    </tr>\n",
              "  </tbody>\n",
              "</table>\n",
              "</div>"
            ],
            "text/plain": [
              "   n  ...                                            Genders\n",
              "0  5  ...  Action, Demons, Historical, Shounen, Supernatural\n",
              "1  5  ...     Comedy, Psychological, Romance, School, Seinen\n",
              "2  5  ...             Drama, Music, Romance, School, Shounen\n",
              "3  5  ...      Game, Mystery, Psychological, Drama, Thriller\n",
              "4  5  ...         Action, Adventure, Magic, Fantasy, Shounen\n",
              "5  5  ...            Harem, Comedy, Romance, School, Shounen\n",
              "6  5  ...                             Ecchi, School, Shounen\n",
              "7  5  ...        Action, Slice of Life, Comedy, Supernatural\n",
              "8  4  ...      Slice of Life, Drama, Romance, School, Shoujo\n",
              "9  4  ...   Action, Adventure, Comedy, Supernatural, Shounen\n",
              "\n",
              "[10 rows x 3 columns]"
            ]
          },
          "metadata": {
            "tags": []
          },
          "execution_count": 76
        }
      ]
    },
    {
      "cell_type": "code",
      "metadata": {
        "colab": {
          "base_uri": "https://localhost:8080/",
          "height": 448
        },
        "id": "w1Lh0O91e7i8",
        "outputId": "d985ef24-f38e-4b2e-a3ba-eb911947be8a"
      },
      "source": [
        "print(\"Showing recommendations for user: {}\".format(random_user))\n",
        "print(\"===\" * 25)\n",
        "\n",
        "animes_watched_by_user = rating_df[rating_df.user_id==random_user] #유저a가 시청한 애니메이션 목록\n",
        "anime_not_watched_df = df[ # 유저a가 시청하지 않은 애니메이션 목록\n",
        "    ~df[\"anime_id\"].isin(animes_watched_by_user.anime_id.values)\n",
        "]\n",
        "\n",
        "anime_not_watched = list(\n",
        "    set(anime_not_watched_df['anime_id']).intersection(set(anime2anime_encoded.keys())) #교집합 만들기\n",
        ")\n",
        "\n",
        "anime_not_watched = [[anime2anime_encoded.get(x)] for x in anime_not_watched]\n",
        "\n",
        "user_encoder = user2user_encoded.get(random_user)\n",
        "\n",
        "user_anime_array = np.hstack(\n",
        "    ([[user_encoder]] * len(anime_not_watched), anime_not_watched)\n",
        ")\n",
        "\n",
        "user_anime_array = [user_anime_array[:, 0], user_anime_array[:, 1]] #input\n",
        "ratings = model.predict(user_anime_array).flatten() #output\n",
        "\n",
        "top_ratings_indices = (-ratings).argsort()[:10]\n",
        "\n",
        "recommended_anime_ids = [\n",
        "    anime_encoded2anime.get(anime_not_watched[x][0]) for x in top_ratings_indices\n",
        "]\n",
        "\n",
        "Results = []\n",
        "top_rated_ids = []\n",
        "\n",
        "for index, anime_id in enumerate(anime_not_watched):\n",
        "    rating = ratings[index]\n",
        "    id_ = anime_encoded2anime.get(anime_id[0])\n",
        "    \n",
        "    if id_ in recommended_anime_ids:\n",
        "        top_rated_ids.append(id_)\n",
        "        try:\n",
        "            condition = (df.anime_id == id_)\n",
        "            name = df[condition]['eng_version'].values[0]\n",
        "            genre = df[condition].Genders.values[0]\n",
        "            score = df[condition].Score.values[0]\n",
        "            sypnopsis = getSypnopsis(int(id_))\n",
        "        except:\n",
        "            continue\n",
        "            \n",
        "        Results.append({#\"anime_id\": id_, \n",
        "                        \"name\": name, \n",
        "                        \"pred_rating\": rating,\n",
        "                        \"genre\": genre, \n",
        "                        #'sypnopsis': sypnopsis\n",
        "                        })\n",
        "\n",
        "print(\"---\" * 25)\n",
        "print(\"> Top 10 anime recommendations\")\n",
        "print(\"---\" * 25)\n",
        "\n",
        "#test\n",
        "#test=pd.DataFrame(Results).sort_values(by='pred_rating', ascending=False)\n",
        "\n",
        "Results = pd.DataFrame(Results).sort_values(by='pred_rating', ascending=False)\n",
        "Results"
      ],
      "execution_count": 79,
      "outputs": [
        {
          "output_type": "stream",
          "text": [
            "Showing recommendations for user: 213192\n",
            "===========================================================================\n",
            "---------------------------------------------------------------------------\n",
            "> Top 10 anime recommendations\n",
            "---------------------------------------------------------------------------\n"
          ],
          "name": "stdout"
        },
        {
          "output_type": "execute_result",
          "data": {
            "text/html": [
              "<div>\n",
              "<style scoped>\n",
              "    .dataframe tbody tr th:only-of-type {\n",
              "        vertical-align: middle;\n",
              "    }\n",
              "\n",
              "    .dataframe tbody tr th {\n",
              "        vertical-align: top;\n",
              "    }\n",
              "\n",
              "    .dataframe thead th {\n",
              "        text-align: right;\n",
              "    }\n",
              "</style>\n",
              "<table border=\"1\" class=\"dataframe\">\n",
              "  <thead>\n",
              "    <tr style=\"text-align: right;\">\n",
              "      <th></th>\n",
              "      <th>name</th>\n",
              "      <th>pred_rating</th>\n",
              "      <th>genre</th>\n",
              "    </tr>\n",
              "  </thead>\n",
              "  <tbody>\n",
              "    <tr>\n",
              "      <th>6</th>\n",
              "      <td>Barakamon</td>\n",
              "      <td>0.954957</td>\n",
              "      <td>Comedy, Slice of Life</td>\n",
              "    </tr>\n",
              "    <tr>\n",
              "      <th>8</th>\n",
              "      <td>Burn This Love</td>\n",
              "      <td>0.952094</td>\n",
              "      <td>Music</td>\n",
              "    </tr>\n",
              "    <tr>\n",
              "      <th>2</th>\n",
              "      <td>Wolf Children</td>\n",
              "      <td>0.939714</td>\n",
              "      <td>Fantasy, Slice of Life</td>\n",
              "    </tr>\n",
              "    <tr>\n",
              "      <th>7</th>\n",
              "      <td>JoJo's Bizarre Adventure:Stardust Crusaders - Battle in Egypt</td>\n",
              "      <td>0.932566</td>\n",
              "      <td>Action, Adventure, Supernatural, Drama, Shounen</td>\n",
              "    </tr>\n",
              "    <tr>\n",
              "      <th>5</th>\n",
              "      <td>Parasyte -the maxim-</td>\n",
              "      <td>0.927627</td>\n",
              "      <td>Action, Sci-Fi, Horror, Psychological, Drama, Seinen</td>\n",
              "    </tr>\n",
              "    <tr>\n",
              "      <th>3</th>\n",
              "      <td>Monogatari Series:Second Season</td>\n",
              "      <td>0.926697</td>\n",
              "      <td>Mystery, Comedy, Supernatural, Romance, Vampire</td>\n",
              "    </tr>\n",
              "    <tr>\n",
              "      <th>9</th>\n",
              "      <td>Kizumonogatari III: Reiketsu-hen</td>\n",
              "      <td>0.923481</td>\n",
              "      <td>Action, Mystery, Supernatural, Vampire</td>\n",
              "    </tr>\n",
              "    <tr>\n",
              "      <th>0</th>\n",
              "      <td>Colorful The Motion Picture</td>\n",
              "      <td>0.922280</td>\n",
              "      <td>Drama, Slice of Life, Supernatural</td>\n",
              "    </tr>\n",
              "    <tr>\n",
              "      <th>1</th>\n",
              "      <td>Kuroko's Basketball</td>\n",
              "      <td>0.922116</td>\n",
              "      <td>Comedy, School, Shounen, Sports</td>\n",
              "    </tr>\n",
              "    <tr>\n",
              "      <th>4</th>\n",
              "      <td>JoJo's Bizarre Adventure:Stardust Crusaders</td>\n",
              "      <td>0.920948</td>\n",
              "      <td>Action, Adventure, Supernatural, Drama, Shounen</td>\n",
              "    </tr>\n",
              "  </tbody>\n",
              "</table>\n",
              "</div>"
            ],
            "text/plain": [
              "                                                            name  ...                                                 genre\n",
              "6                                                      Barakamon  ...                                 Comedy, Slice of Life\n",
              "8                                                 Burn This Love  ...                                                 Music\n",
              "2                                                  Wolf Children  ...                                Fantasy, Slice of Life\n",
              "7  JoJo's Bizarre Adventure:Stardust Crusaders - Battle in Egypt  ...       Action, Adventure, Supernatural, Drama, Shounen\n",
              "5                                           Parasyte -the maxim-  ...  Action, Sci-Fi, Horror, Psychological, Drama, Seinen\n",
              "3                                Monogatari Series:Second Season  ...       Mystery, Comedy, Supernatural, Romance, Vampire\n",
              "9                               Kizumonogatari III: Reiketsu-hen  ...                Action, Mystery, Supernatural, Vampire\n",
              "0                                    Colorful The Motion Picture  ...                    Drama, Slice of Life, Supernatural\n",
              "1                                            Kuroko's Basketball  ...                       Comedy, School, Shounen, Sports\n",
              "4                    JoJo's Bizarre Adventure:Stardust Crusaders  ...       Action, Adventure, Supernatural, Drama, Shounen\n",
              "\n",
              "[10 rows x 3 columns]"
            ]
          },
          "metadata": {
            "tags": []
          },
          "execution_count": 79
        }
      ]
    }
  ]
}