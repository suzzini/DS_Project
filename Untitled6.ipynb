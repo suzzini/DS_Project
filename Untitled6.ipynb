{
  "nbformat": 4,
  "nbformat_minor": 0,
  "metadata": {
    "colab": {
      "name": "Untitled6.ipynb",
      "provenance": [],
      "machine_shape": "hm",
      "mount_file_id": "1dsK1Qu1YLKgyZsKW0dEokf-fcM7vsXDp",
      "authorship_tag": "ABX9TyMupID5A3+8dO8OqB9GBtFT",
      "include_colab_link": true
    },
    "kernelspec": {
      "name": "python3",
      "display_name": "Python 3"
    },
    "language_info": {
      "name": "python"
    },
    "accelerator": "TPU"
  },
  "cells": [
    {
      "cell_type": "markdown",
      "metadata": {
        "id": "view-in-github",
        "colab_type": "text"
      },
      "source": [
        "<a href=\"https://colab.research.google.com/github/suzzini/DS_Project/blob/main/Untitled6.ipynb\" target=\"_parent\"><img src=\"https://colab.research.google.com/assets/colab-badge.svg\" alt=\"Open In Colab\"/></a>"
      ]
    },
    {
      "cell_type": "markdown",
      "metadata": {
        "id": "t7SxDBFk_La0"
      },
      "source": [
        "#### 데이터 경로 지정 및 압축 풀기"
      ]
    },
    {
      "cell_type": "code",
      "metadata": {
        "colab": {
          "base_uri": "https://localhost:8080/"
        },
        "id": "r8rVOzpk97Mh",
        "outputId": "a3ca63ec-3531-480b-b661-163a2390c1a7"
      },
      "source": [
        "from google.colab import drive\n",
        "drive.mount('/content/drive')"
      ],
      "execution_count": 1,
      "outputs": [
        {
          "output_type": "stream",
          "text": [
            "Drive already mounted at /content/drive; to attempt to forcibly remount, call drive.mount(\"/content/drive\", force_remount=True).\n"
          ],
          "name": "stdout"
        }
      ]
    },
    {
      "cell_type": "code",
      "metadata": {
        "colab": {
          "base_uri": "https://localhost:8080/"
        },
        "id": "SNuN3l_c-S5g",
        "outputId": "23f56b79-80ed-45c2-9819-a768d2da3494"
      },
      "source": [
        "#구글 드라이브를 통해 파일 압축 풀기, 첫 실행시에만 실행\n",
        "#!unzip /content/drive/MyDrive/dataset/anime_recommendation.zip -d /content/drive/\"My Drive\"/dataset/section4_p"
      ],
      "execution_count": 10,
      "outputs": [
        {
          "output_type": "stream",
          "text": [
            "Archive:  /content/drive/MyDrive/dataset/anime_recommendation.zip\n",
            "  inflating: /content/drive/My Drive/dataset/section4_p/anime.csv  \n",
            "  inflating: /content/drive/My Drive/dataset/section4_p/anime_with_synopsis.csv  \n",
            "  inflating: /content/drive/My Drive/dataset/section4_p/animelist.csv  \n",
            "  inflating: /content/drive/My Drive/dataset/section4_p/html folder/html/1/details.html  \n",
            "  inflating: /content/drive/My Drive/dataset/section4_p/html folder/html/1/pictures.html  \n",
            "  inflating: /content/drive/My Drive/dataset/section4_p/html folder/html/1/recomendations.html  \n",
            "  inflating: /content/drive/My Drive/dataset/section4_p/html folder/html/1/reviews_1.html  \n",
            "  inflating: /content/drive/My Drive/dataset/section4_p/html folder/html/1/reviews_10.html  \n",
            "  inflating: /content/drive/My Drive/dataset/section4_p/html folder/html/1/reviews_11.html  \n",
            "  inflating: /content/drive/My Drive/dataset/section4_p/html folder/html/1/reviews_12.html  \n",
            "  inflating: /content/drive/My Drive/dataset/section4_p/html folder/html/1/reviews_13.html  \n",
            "  inflating: /content/drive/My Drive/dataset/section4_p/html folder/html/1/reviews_14.html  \n",
            "  inflating: /content/drive/My Drive/dataset/section4_p/html folder/html/1/reviews_15.html  \n",
            "  inflating: /content/drive/My Drive/dataset/section4_p/html folder/html/1/reviews_16.html  \n",
            "  inflating: /content/drive/My Drive/dataset/section4_p/html folder/html/1/reviews_17.html  \n",
            "  inflating: /content/drive/My Drive/dataset/section4_p/html folder/html/1/reviews_18.html  \n",
            "  inflating: /content/drive/My Drive/dataset/section4_p/html folder/html/1/reviews_19.html  \n",
            "  inflating: /content/drive/My Drive/dataset/section4_p/html folder/html/1/reviews_2.html  \n",
            "  inflating: /content/drive/My Drive/dataset/section4_p/html folder/html/1/reviews_20.html  \n",
            "  inflating: /content/drive/My Drive/dataset/section4_p/html folder/html/1/reviews_21.html  \n",
            "  inflating: /content/drive/My Drive/dataset/section4_p/html folder/html/1/reviews_22.html  \n",
            "  inflating: /content/drive/My Drive/dataset/section4_p/html folder/html/1/reviews_3.html  \n",
            "  inflating: /content/drive/My Drive/dataset/section4_p/html folder/html/1/reviews_4.html  \n",
            "  inflating: /content/drive/My Drive/dataset/section4_p/html folder/html/1/reviews_5.html  \n",
            "  inflating: /content/drive/My Drive/dataset/section4_p/html folder/html/1/reviews_6.html  \n",
            "  inflating: /content/drive/My Drive/dataset/section4_p/html folder/html/1/reviews_7.html  \n",
            "  inflating: /content/drive/My Drive/dataset/section4_p/html folder/html/1/reviews_8.html  \n",
            "  inflating: /content/drive/My Drive/dataset/section4_p/html folder/html/1/reviews_9.html  \n",
            "  inflating: /content/drive/My Drive/dataset/section4_p/html folder/html/1/staff.html  \n",
            "  inflating: /content/drive/My Drive/dataset/section4_p/html folder/html/1/stats.html  \n",
            "  inflating: /content/drive/My Drive/dataset/section4_p/html folder/html/5/details.html  \n",
            "  inflating: /content/drive/My Drive/dataset/section4_p/html folder/html/5/pictures.html  \n",
            "  inflating: /content/drive/My Drive/dataset/section4_p/html folder/html/5/recomendations.html  \n",
            "  inflating: /content/drive/My Drive/dataset/section4_p/html folder/html/5/reviews_1.html  \n",
            "  inflating: /content/drive/My Drive/dataset/section4_p/html folder/html/5/reviews_2.html  \n",
            "  inflating: /content/drive/My Drive/dataset/section4_p/html folder/html/5/reviews_3.html  \n",
            "  inflating: /content/drive/My Drive/dataset/section4_p/html folder/html/5/staff.html  \n",
            "  inflating: /content/drive/My Drive/dataset/section4_p/html folder/html/5/stats.html  \n",
            "  inflating: /content/drive/My Drive/dataset/section4_p/html folder/instructions.txt  \n",
            "  inflating: /content/drive/My Drive/dataset/section4_p/rating_complete.csv  \n",
            "  inflating: /content/drive/My Drive/dataset/section4_p/watching_status.csv  \n"
          ],
          "name": "stdout"
        }
      ]
    },
    {
      "cell_type": "code",
      "metadata": {
        "colab": {
          "base_uri": "https://localhost:8080/"
        },
        "id": "Di7ONnyt8VQ1",
        "outputId": "3224a56e-9a2d-4e11-a05f-7be0a5522f16"
      },
      "source": [
        "INPUT_DIR='drive/MyDrive/dataset/section4_p'\n",
        "!ls {INPUT_DIR}"
      ],
      "execution_count": 1,
      "outputs": [
        {
          "output_type": "stream",
          "text": [
            " anime.csv\t anime_with_synopsis.csv   rating_complete.csv\n",
            " animelist.csv\t'html folder'\t\t   watching_status.csv\n"
          ],
          "name": "stdout"
        }
      ]
    },
    {
      "cell_type": "code",
      "metadata": {
        "colab": {
          "base_uri": "https://localhost:8080/",
          "height": 173
        },
        "id": "b_yJHBf69tRa",
        "outputId": "ba1fdb8d-8ec5-404e-a228-f0a25e2fa937"
      },
      "source": [
        "import numpy as np\n",
        "import pandas as pd\n",
        "\n",
        "rating_df = pd.read_csv(INPUT_DIR + '/animelist.csv', \n",
        "                        #low_memory=False, \n",
        "                        usecols=[\"user_id\", \"anime_id\", \"rating\"]\n",
        "                        #, nrows=90000000\n",
        "                        )\n",
        "rating_df.head(4)"
      ],
      "execution_count": 2,
      "outputs": [
        {
          "output_type": "execute_result",
          "data": {
            "text/html": [
              "<div>\n",
              "<style scoped>\n",
              "    .dataframe tbody tr th:only-of-type {\n",
              "        vertical-align: middle;\n",
              "    }\n",
              "\n",
              "    .dataframe tbody tr th {\n",
              "        vertical-align: top;\n",
              "    }\n",
              "\n",
              "    .dataframe thead th {\n",
              "        text-align: right;\n",
              "    }\n",
              "</style>\n",
              "<table border=\"1\" class=\"dataframe\">\n",
              "  <thead>\n",
              "    <tr style=\"text-align: right;\">\n",
              "      <th></th>\n",
              "      <th>user_id</th>\n",
              "      <th>anime_id</th>\n",
              "      <th>rating</th>\n",
              "    </tr>\n",
              "  </thead>\n",
              "  <tbody>\n",
              "    <tr>\n",
              "      <th>0</th>\n",
              "      <td>0</td>\n",
              "      <td>67</td>\n",
              "      <td>9</td>\n",
              "    </tr>\n",
              "    <tr>\n",
              "      <th>1</th>\n",
              "      <td>0</td>\n",
              "      <td>6702</td>\n",
              "      <td>7</td>\n",
              "    </tr>\n",
              "    <tr>\n",
              "      <th>2</th>\n",
              "      <td>0</td>\n",
              "      <td>242</td>\n",
              "      <td>10</td>\n",
              "    </tr>\n",
              "    <tr>\n",
              "      <th>3</th>\n",
              "      <td>0</td>\n",
              "      <td>4898</td>\n",
              "      <td>0</td>\n",
              "    </tr>\n",
              "  </tbody>\n",
              "</table>\n",
              "</div>"
            ],
            "text/plain": [
              "   user_id  anime_id  rating\n",
              "0        0        67       9\n",
              "1        0      6702       7\n",
              "2        0       242      10\n",
              "3        0      4898       0"
            ]
          },
          "metadata": {
            "tags": []
          },
          "execution_count": 2
        }
      ]
    },
    {
      "cell_type": "code",
      "metadata": {
        "colab": {
          "base_uri": "https://localhost:8080/"
        },
        "id": "QG-F3lGoB_D0",
        "outputId": "8ad8bf69-9288-4b39-a709-150609763176"
      },
      "source": [
        "# user 별로 몇개의 애니메이션을 rating 했는지 확인\n",
        "n_ratings = rating_df['user_id'].value_counts()\n",
        "n_ratings.describe()"
      ],
      "execution_count": 4,
      "outputs": [
        {
          "output_type": "execute_result",
          "data": {
            "text/plain": [
              "count    325770.000000\n",
              "mean        335.281785\n",
              "std         425.411070\n",
              "min           1.000000\n",
              "25%          96.000000\n",
              "50%         224.000000\n",
              "75%         436.000000\n",
              "max       17546.000000\n",
              "Name: user_id, dtype: float64"
            ]
          },
          "metadata": {
            "tags": []
          },
          "execution_count": 4
        }
      ]
    },
    {
      "cell_type": "code",
      "metadata": {
        "colab": {
          "base_uri": "https://localhost:8080/"
        },
        "id": "pJz74A0cCfpY",
        "outputId": "b0dc6622-d3e7-4e8e-d414-f5742859f82c"
      },
      "source": [
        "# 400개 이상의 rate를 준 유저만 사용\n",
        "rating_df = rating_df[rating_df['user_id'].isin(n_ratings[n_ratings >= 400].index)].copy()\n",
        "len(rating_df)"
      ],
      "execution_count": 5,
      "outputs": [
        {
          "output_type": "execute_result",
          "data": {
            "text/plain": [
              "71418114"
            ]
          },
          "metadata": {
            "tags": []
          },
          "execution_count": 5
        }
      ]
    },
    {
      "cell_type": "code",
      "metadata": {
        "id": "3Q4GQJzuCy-1"
      },
      "source": [
        "# rating 0~1로 정규화(?) 해주기\n",
        "min_rating = min(rating_df['rating'])\n",
        "max_rating = max(rating_df['rating'])"
      ],
      "execution_count": 6,
      "outputs": []
    },
    {
      "cell_type": "code",
      "metadata": {
        "colab": {
          "base_uri": "https://localhost:8080/"
        },
        "id": "KB0DqQtvDMR3",
        "outputId": "e43f46bb-599a-4cce-d0f5-37176d55bacf"
      },
      "source": [
        "print(min_rating, max_rating)"
      ],
      "execution_count": 7,
      "outputs": [
        {
          "output_type": "stream",
          "text": [
            "0 10\n"
          ],
          "name": "stdout"
        }
      ]
    },
    {
      "cell_type": "code",
      "metadata": {
        "colab": {
          "base_uri": "https://localhost:8080/"
        },
        "id": "cQt9fOQZDCE2",
        "outputId": "277f0342-6f53-4d83-8dd9-103d3cbbc9ff"
      },
      "source": [
        "rating_df['rating'] = rating_df[\"rating\"].apply(lambda x: (x - min_rating) / (max_rating - min_rating)).values.astype(np.float64)\n",
        "\n",
        "AvgRating = np.mean(rating_df['rating'])\n",
        "print('Avg', AvgRating)"
      ],
      "execution_count": 8,
      "outputs": [
        {
          "output_type": "stream",
          "text": [
            "Avg 0.40477935891013467\n"
          ],
          "name": "stdout"
        }
      ]
    },
    {
      "cell_type": "code",
      "metadata": {
        "colab": {
          "base_uri": "https://localhost:8080/"
        },
        "id": "N-7yUbNGDTEi",
        "outputId": "969dec8e-ccc5-4065-c008-39a614337711"
      },
      "source": [
        "# Removing Duplicated Rows\n",
        "duplicates = rating_df.duplicated()\n",
        "\n",
        "if duplicates.sum() > 0:\n",
        "    print('> {} duplicates'.format(duplicates.sum()))\n",
        "    rating_df = rating_df[~duplicates]\n",
        "\n",
        "print('> {} duplicates'.format(rating_df.duplicated().sum()))"
      ],
      "execution_count": 9,
      "outputs": [
        {
          "output_type": "stream",
          "text": [
            "> 1 duplicates\n",
            "> 0 duplicates\n"
          ],
          "name": "stdout"
        }
      ]
    },
    {
      "cell_type": "code",
      "metadata": {
        "colab": {
          "base_uri": "https://localhost:8080/",
          "height": 419
        },
        "id": "ZTY-MFRBEThw",
        "outputId": "ee95a6e8-5df2-4bb3-fe14-181dc36f4a7f"
      },
      "source": [
        "g=rating_df.groupby('user_id')['rating'].count() #user별로 몇개의 rating 을 count\n",
        "top_users=g.dropna().sort_values(ascending=False)[:20] #top20 user\n",
        "top_r=rating_df.join(top_users, rsuffix='_r', how='inner', on='user_id')\n",
        "#rsuffix : 중복된 컬럼이 있을 경우 df_right에 존재하는 중복컬럼에 붙일 suffix를 지정합니다\n",
        "top_r"
      ],
      "execution_count": 10,
      "outputs": [
        {
          "output_type": "execute_result",
          "data": {
            "text/html": [
              "<div>\n",
              "<style scoped>\n",
              "    .dataframe tbody tr th:only-of-type {\n",
              "        vertical-align: middle;\n",
              "    }\n",
              "\n",
              "    .dataframe tbody tr th {\n",
              "        vertical-align: top;\n",
              "    }\n",
              "\n",
              "    .dataframe thead th {\n",
              "        text-align: right;\n",
              "    }\n",
              "</style>\n",
              "<table border=\"1\" class=\"dataframe\">\n",
              "  <thead>\n",
              "    <tr style=\"text-align: right;\">\n",
              "      <th></th>\n",
              "      <th>user_id</th>\n",
              "      <th>anime_id</th>\n",
              "      <th>rating</th>\n",
              "      <th>rating_r</th>\n",
              "    </tr>\n",
              "  </thead>\n",
              "  <tbody>\n",
              "    <tr>\n",
              "      <th>6334981</th>\n",
              "      <td>20807</td>\n",
              "      <td>8194</td>\n",
              "      <td>0.0</td>\n",
              "      <td>17546</td>\n",
              "    </tr>\n",
              "    <tr>\n",
              "      <th>6334982</th>\n",
              "      <td>20807</td>\n",
              "      <td>2225</td>\n",
              "      <td>0.0</td>\n",
              "      <td>17546</td>\n",
              "    </tr>\n",
              "    <tr>\n",
              "      <th>6334983</th>\n",
              "      <td>20807</td>\n",
              "      <td>13143</td>\n",
              "      <td>0.0</td>\n",
              "      <td>17546</td>\n",
              "    </tr>\n",
              "    <tr>\n",
              "      <th>6334984</th>\n",
              "      <td>20807</td>\n",
              "      <td>34572</td>\n",
              "      <td>1.0</td>\n",
              "      <td>17546</td>\n",
              "    </tr>\n",
              "    <tr>\n",
              "      <th>6334985</th>\n",
              "      <td>20807</td>\n",
              "      <td>34566</td>\n",
              "      <td>0.8</td>\n",
              "      <td>17546</td>\n",
              "    </tr>\n",
              "    <tr>\n",
              "      <th>...</th>\n",
              "      <td>...</td>\n",
              "      <td>...</td>\n",
              "      <td>...</td>\n",
              "      <td>...</td>\n",
              "    </tr>\n",
              "    <tr>\n",
              "      <th>96667639</th>\n",
              "      <td>312302</td>\n",
              "      <td>18967</td>\n",
              "      <td>0.0</td>\n",
              "      <td>17410</td>\n",
              "    </tr>\n",
              "    <tr>\n",
              "      <th>96667640</th>\n",
              "      <td>312302</td>\n",
              "      <td>13455</td>\n",
              "      <td>0.0</td>\n",
              "      <td>17410</td>\n",
              "    </tr>\n",
              "    <tr>\n",
              "      <th>96667641</th>\n",
              "      <td>312302</td>\n",
              "      <td>33390</td>\n",
              "      <td>0.0</td>\n",
              "      <td>17410</td>\n",
              "    </tr>\n",
              "    <tr>\n",
              "      <th>96667642</th>\n",
              "      <td>312302</td>\n",
              "      <td>42161</td>\n",
              "      <td>0.0</td>\n",
              "      <td>17410</td>\n",
              "    </tr>\n",
              "    <tr>\n",
              "      <th>96667643</th>\n",
              "      <td>312302</td>\n",
              "      <td>36305</td>\n",
              "      <td>0.0</td>\n",
              "      <td>17410</td>\n",
              "    </tr>\n",
              "  </tbody>\n",
              "</table>\n",
              "<p>332209 rows × 4 columns</p>\n",
              "</div>"
            ],
            "text/plain": [
              "          user_id  anime_id  rating  rating_r\n",
              "6334981     20807      8194     0.0     17546\n",
              "6334982     20807      2225     0.0     17546\n",
              "6334983     20807     13143     0.0     17546\n",
              "6334984     20807     34572     1.0     17546\n",
              "6334985     20807     34566     0.8     17546\n",
              "...           ...       ...     ...       ...\n",
              "96667639   312302     18967     0.0     17410\n",
              "96667640   312302     13455     0.0     17410\n",
              "96667641   312302     33390     0.0     17410\n",
              "96667642   312302     42161     0.0     17410\n",
              "96667643   312302     36305     0.0     17410\n",
              "\n",
              "[332209 rows x 4 columns]"
            ]
          },
          "metadata": {
            "tags": []
          },
          "execution_count": 10
        }
      ]
    },
    {
      "cell_type": "code",
      "metadata": {
        "colab": {
          "base_uri": "https://localhost:8080/",
          "height": 419
        },
        "id": "et4NfbeBEU26",
        "outputId": "20a329f8-0dc7-40dc-8f60-c085c8aa48ac"
      },
      "source": [
        "g = rating_df.groupby('anime_id')['rating'].count() #rating이 제일 많은 애니메이션 추출\n",
        "top_animes = g.dropna().sort_values(ascending=False)[:20] #top 20\n",
        "top_r = top_r.join(top_animes, rsuffix='_r', how='inner', on='anime_id')\n",
        "top_r #상위 20명의 user * 상위 20개의 애니메이션"
      ],
      "execution_count": 11,
      "outputs": [
        {
          "output_type": "execute_result",
          "data": {
            "text/html": [
              "<div>\n",
              "<style scoped>\n",
              "    .dataframe tbody tr th:only-of-type {\n",
              "        vertical-align: middle;\n",
              "    }\n",
              "\n",
              "    .dataframe tbody tr th {\n",
              "        vertical-align: top;\n",
              "    }\n",
              "\n",
              "    .dataframe thead th {\n",
              "        text-align: right;\n",
              "    }\n",
              "</style>\n",
              "<table border=\"1\" class=\"dataframe\">\n",
              "  <thead>\n",
              "    <tr style=\"text-align: right;\">\n",
              "      <th></th>\n",
              "      <th>user_id</th>\n",
              "      <th>anime_id</th>\n",
              "      <th>rating</th>\n",
              "      <th>rating_r</th>\n",
              "      <th>rating_r</th>\n",
              "    </tr>\n",
              "  </thead>\n",
              "  <tbody>\n",
              "    <tr>\n",
              "      <th>6335148</th>\n",
              "      <td>20807</td>\n",
              "      <td>6547</td>\n",
              "      <td>1.0</td>\n",
              "      <td>17546</td>\n",
              "      <td>80345</td>\n",
              "    </tr>\n",
              "    <tr>\n",
              "      <th>15537407</th>\n",
              "      <td>50485</td>\n",
              "      <td>6547</td>\n",
              "      <td>1.0</td>\n",
              "      <td>16639</td>\n",
              "      <td>80345</td>\n",
              "    </tr>\n",
              "    <tr>\n",
              "      <th>19786865</th>\n",
              "      <td>63900</td>\n",
              "      <td>6547</td>\n",
              "      <td>0.0</td>\n",
              "      <td>16774</td>\n",
              "      <td>80345</td>\n",
              "    </tr>\n",
              "    <tr>\n",
              "      <th>21008413</th>\n",
              "      <td>68042</td>\n",
              "      <td>6547</td>\n",
              "      <td>0.7</td>\n",
              "      <td>14638</td>\n",
              "      <td>80345</td>\n",
              "    </tr>\n",
              "    <tr>\n",
              "      <th>26368332</th>\n",
              "      <td>85472</td>\n",
              "      <td>6547</td>\n",
              "      <td>1.0</td>\n",
              "      <td>16775</td>\n",
              "      <td>80345</td>\n",
              "    </tr>\n",
              "    <tr>\n",
              "      <th>...</th>\n",
              "      <td>...</td>\n",
              "      <td>...</td>\n",
              "      <td>...</td>\n",
              "      <td>...</td>\n",
              "      <td>...</td>\n",
              "    </tr>\n",
              "    <tr>\n",
              "      <th>83297604</th>\n",
              "      <td>269633</td>\n",
              "      <td>4224</td>\n",
              "      <td>0.0</td>\n",
              "      <td>16557</td>\n",
              "      <td>80247</td>\n",
              "    </tr>\n",
              "    <tr>\n",
              "      <th>86986430</th>\n",
              "      <td>281232</td>\n",
              "      <td>4224</td>\n",
              "      <td>0.0</td>\n",
              "      <td>17533</td>\n",
              "      <td>80247</td>\n",
              "    </tr>\n",
              "    <tr>\n",
              "      <th>87794789</th>\n",
              "      <td>283786</td>\n",
              "      <td>4224</td>\n",
              "      <td>0.5</td>\n",
              "      <td>17509</td>\n",
              "      <td>80247</td>\n",
              "    </tr>\n",
              "    <tr>\n",
              "      <th>92237251</th>\n",
              "      <td>297931</td>\n",
              "      <td>4224</td>\n",
              "      <td>0.0</td>\n",
              "      <td>17204</td>\n",
              "      <td>80247</td>\n",
              "    </tr>\n",
              "    <tr>\n",
              "      <th>96660236</th>\n",
              "      <td>312302</td>\n",
              "      <td>4224</td>\n",
              "      <td>0.8</td>\n",
              "      <td>17410</td>\n",
              "      <td>80247</td>\n",
              "    </tr>\n",
              "  </tbody>\n",
              "</table>\n",
              "<p>400 rows × 5 columns</p>\n",
              "</div>"
            ],
            "text/plain": [
              "          user_id  anime_id  rating  rating_r  rating_r\n",
              "6335148     20807      6547     1.0     17546     80345\n",
              "15537407    50485      6547     1.0     16639     80345\n",
              "19786865    63900      6547     0.0     16774     80345\n",
              "21008413    68042      6547     0.7     14638     80345\n",
              "26368332    85472      6547     1.0     16775     80345\n",
              "...           ...       ...     ...       ...       ...\n",
              "83297604   269633      4224     0.0     16557     80247\n",
              "86986430   281232      4224     0.0     17533     80247\n",
              "87794789   283786      4224     0.5     17509     80247\n",
              "92237251   297931      4224     0.0     17204     80247\n",
              "96660236   312302      4224     0.8     17410     80247\n",
              "\n",
              "[400 rows x 5 columns]"
            ]
          },
          "metadata": {
            "tags": []
          },
          "execution_count": 11
        }
      ]
    },
    {
      "cell_type": "code",
      "metadata": {
        "colab": {
          "base_uri": "https://localhost:8080/",
          "height": 701
        },
        "id": "Hl3_xPjFKCdL",
        "outputId": "9b59c3b5-eb8e-437c-c25e-c5174dfa892f"
      },
      "source": [
        "pd.crosstab(top_r.user_id, top_r.anime_id, top_r.rating, aggfunc=np.sum)"
      ],
      "execution_count": 12,
      "outputs": [
        {
          "output_type": "execute_result",
          "data": {
            "text/html": [
              "<div>\n",
              "<style scoped>\n",
              "    .dataframe tbody tr th:only-of-type {\n",
              "        vertical-align: middle;\n",
              "    }\n",
              "\n",
              "    .dataframe tbody tr th {\n",
              "        vertical-align: top;\n",
              "    }\n",
              "\n",
              "    .dataframe thead th {\n",
              "        text-align: right;\n",
              "    }\n",
              "</style>\n",
              "<table border=\"1\" class=\"dataframe\">\n",
              "  <thead>\n",
              "    <tr style=\"text-align: right;\">\n",
              "      <th>anime_id</th>\n",
              "      <th>226</th>\n",
              "      <th>1535</th>\n",
              "      <th>1575</th>\n",
              "      <th>2001</th>\n",
              "      <th>2167</th>\n",
              "      <th>4224</th>\n",
              "      <th>5081</th>\n",
              "      <th>5114</th>\n",
              "      <th>6547</th>\n",
              "      <th>6746</th>\n",
              "      <th>9253</th>\n",
              "      <th>9989</th>\n",
              "      <th>10620</th>\n",
              "      <th>11757</th>\n",
              "      <th>15809</th>\n",
              "      <th>16498</th>\n",
              "      <th>19815</th>\n",
              "      <th>20507</th>\n",
              "      <th>22319</th>\n",
              "      <th>30276</th>\n",
              "    </tr>\n",
              "    <tr>\n",
              "      <th>user_id</th>\n",
              "      <th></th>\n",
              "      <th></th>\n",
              "      <th></th>\n",
              "      <th></th>\n",
              "      <th></th>\n",
              "      <th></th>\n",
              "      <th></th>\n",
              "      <th></th>\n",
              "      <th></th>\n",
              "      <th></th>\n",
              "      <th></th>\n",
              "      <th></th>\n",
              "      <th></th>\n",
              "      <th></th>\n",
              "      <th></th>\n",
              "      <th></th>\n",
              "      <th></th>\n",
              "      <th></th>\n",
              "      <th></th>\n",
              "      <th></th>\n",
              "    </tr>\n",
              "  </thead>\n",
              "  <tbody>\n",
              "    <tr>\n",
              "      <th>20807</th>\n",
              "      <td>1.0</td>\n",
              "      <td>1.0</td>\n",
              "      <td>1.0</td>\n",
              "      <td>1.0</td>\n",
              "      <td>0.8</td>\n",
              "      <td>1.0</td>\n",
              "      <td>0.9</td>\n",
              "      <td>1.0</td>\n",
              "      <td>1.0</td>\n",
              "      <td>1.0</td>\n",
              "      <td>1.0</td>\n",
              "      <td>0.9</td>\n",
              "      <td>1.0</td>\n",
              "      <td>1.0</td>\n",
              "      <td>0.8</td>\n",
              "      <td>1.0</td>\n",
              "      <td>1.0</td>\n",
              "      <td>1.0</td>\n",
              "      <td>1.0</td>\n",
              "      <td>1.0</td>\n",
              "    </tr>\n",
              "    <tr>\n",
              "      <th>50485</th>\n",
              "      <td>0.0</td>\n",
              "      <td>0.6</td>\n",
              "      <td>1.0</td>\n",
              "      <td>1.0</td>\n",
              "      <td>0.9</td>\n",
              "      <td>1.0</td>\n",
              "      <td>1.0</td>\n",
              "      <td>1.0</td>\n",
              "      <td>1.0</td>\n",
              "      <td>0.9</td>\n",
              "      <td>1.0</td>\n",
              "      <td>0.9</td>\n",
              "      <td>0.6</td>\n",
              "      <td>1.0</td>\n",
              "      <td>1.0</td>\n",
              "      <td>0.9</td>\n",
              "      <td>1.0</td>\n",
              "      <td>1.0</td>\n",
              "      <td>1.0</td>\n",
              "      <td>0.8</td>\n",
              "    </tr>\n",
              "    <tr>\n",
              "      <th>63900</th>\n",
              "      <td>0.7</td>\n",
              "      <td>0.0</td>\n",
              "      <td>0.0</td>\n",
              "      <td>0.0</td>\n",
              "      <td>0.0</td>\n",
              "      <td>0.0</td>\n",
              "      <td>0.0</td>\n",
              "      <td>0.9</td>\n",
              "      <td>0.0</td>\n",
              "      <td>0.0</td>\n",
              "      <td>0.0</td>\n",
              "      <td>0.8</td>\n",
              "      <td>0.0</td>\n",
              "      <td>0.0</td>\n",
              "      <td>0.0</td>\n",
              "      <td>0.8</td>\n",
              "      <td>0.0</td>\n",
              "      <td>0.8</td>\n",
              "      <td>0.8</td>\n",
              "      <td>0.8</td>\n",
              "    </tr>\n",
              "    <tr>\n",
              "      <th>68042</th>\n",
              "      <td>0.8</td>\n",
              "      <td>1.0</td>\n",
              "      <td>0.9</td>\n",
              "      <td>1.0</td>\n",
              "      <td>0.7</td>\n",
              "      <td>0.9</td>\n",
              "      <td>1.0</td>\n",
              "      <td>0.9</td>\n",
              "      <td>0.7</td>\n",
              "      <td>0.8</td>\n",
              "      <td>0.9</td>\n",
              "      <td>0.8</td>\n",
              "      <td>0.4</td>\n",
              "      <td>0.4</td>\n",
              "      <td>0.6</td>\n",
              "      <td>0.9</td>\n",
              "      <td>0.3</td>\n",
              "      <td>0.2</td>\n",
              "      <td>0.5</td>\n",
              "      <td>0.9</td>\n",
              "    </tr>\n",
              "    <tr>\n",
              "      <th>85472</th>\n",
              "      <td>0.7</td>\n",
              "      <td>0.0</td>\n",
              "      <td>0.0</td>\n",
              "      <td>1.0</td>\n",
              "      <td>0.9</td>\n",
              "      <td>0.9</td>\n",
              "      <td>0.0</td>\n",
              "      <td>0.0</td>\n",
              "      <td>1.0</td>\n",
              "      <td>0.0</td>\n",
              "      <td>0.8</td>\n",
              "      <td>0.0</td>\n",
              "      <td>0.8</td>\n",
              "      <td>0.9</td>\n",
              "      <td>0.8</td>\n",
              "      <td>0.8</td>\n",
              "      <td>0.7</td>\n",
              "      <td>0.7</td>\n",
              "      <td>0.7</td>\n",
              "      <td>0.9</td>\n",
              "    </tr>\n",
              "    <tr>\n",
              "      <th>92529</th>\n",
              "      <td>0.9</td>\n",
              "      <td>0.9</td>\n",
              "      <td>1.0</td>\n",
              "      <td>1.0</td>\n",
              "      <td>0.0</td>\n",
              "      <td>0.8</td>\n",
              "      <td>0.0</td>\n",
              "      <td>0.9</td>\n",
              "      <td>0.9</td>\n",
              "      <td>0.0</td>\n",
              "      <td>1.0</td>\n",
              "      <td>0.0</td>\n",
              "      <td>0.8</td>\n",
              "      <td>0.9</td>\n",
              "      <td>0.8</td>\n",
              "      <td>0.9</td>\n",
              "      <td>0.9</td>\n",
              "      <td>0.8</td>\n",
              "      <td>0.8</td>\n",
              "      <td>1.0</td>\n",
              "    </tr>\n",
              "    <tr>\n",
              "      <th>122341</th>\n",
              "      <td>0.2</td>\n",
              "      <td>0.3</td>\n",
              "      <td>0.2</td>\n",
              "      <td>0.7</td>\n",
              "      <td>0.4</td>\n",
              "      <td>0.3</td>\n",
              "      <td>0.3</td>\n",
              "      <td>0.8</td>\n",
              "      <td>0.5</td>\n",
              "      <td>0.6</td>\n",
              "      <td>0.7</td>\n",
              "      <td>0.3</td>\n",
              "      <td>0.2</td>\n",
              "      <td>0.1</td>\n",
              "      <td>0.3</td>\n",
              "      <td>0.1</td>\n",
              "      <td>0.4</td>\n",
              "      <td>0.4</td>\n",
              "      <td>0.2</td>\n",
              "      <td>0.6</td>\n",
              "    </tr>\n",
              "    <tr>\n",
              "      <th>131988</th>\n",
              "      <td>0.0</td>\n",
              "      <td>0.0</td>\n",
              "      <td>0.0</td>\n",
              "      <td>0.0</td>\n",
              "      <td>0.0</td>\n",
              "      <td>0.0</td>\n",
              "      <td>0.0</td>\n",
              "      <td>0.0</td>\n",
              "      <td>0.0</td>\n",
              "      <td>0.0</td>\n",
              "      <td>0.0</td>\n",
              "      <td>0.0</td>\n",
              "      <td>0.0</td>\n",
              "      <td>0.0</td>\n",
              "      <td>0.0</td>\n",
              "      <td>0.0</td>\n",
              "      <td>0.0</td>\n",
              "      <td>0.0</td>\n",
              "      <td>0.0</td>\n",
              "      <td>0.0</td>\n",
              "    </tr>\n",
              "    <tr>\n",
              "      <th>140590</th>\n",
              "      <td>0.3</td>\n",
              "      <td>0.6</td>\n",
              "      <td>0.5</td>\n",
              "      <td>0.8</td>\n",
              "      <td>0.6</td>\n",
              "      <td>0.8</td>\n",
              "      <td>0.8</td>\n",
              "      <td>0.9</td>\n",
              "      <td>0.5</td>\n",
              "      <td>0.8</td>\n",
              "      <td>0.9</td>\n",
              "      <td>0.7</td>\n",
              "      <td>0.3</td>\n",
              "      <td>0.4</td>\n",
              "      <td>0.6</td>\n",
              "      <td>0.5</td>\n",
              "      <td>0.7</td>\n",
              "      <td>0.7</td>\n",
              "      <td>0.5</td>\n",
              "      <td>0.7</td>\n",
              "    </tr>\n",
              "    <tr>\n",
              "      <th>147331</th>\n",
              "      <td>0.0</td>\n",
              "      <td>0.0</td>\n",
              "      <td>0.0</td>\n",
              "      <td>0.0</td>\n",
              "      <td>0.0</td>\n",
              "      <td>0.0</td>\n",
              "      <td>0.0</td>\n",
              "      <td>0.0</td>\n",
              "      <td>0.0</td>\n",
              "      <td>0.0</td>\n",
              "      <td>0.0</td>\n",
              "      <td>0.0</td>\n",
              "      <td>0.0</td>\n",
              "      <td>0.0</td>\n",
              "      <td>0.0</td>\n",
              "      <td>0.0</td>\n",
              "      <td>0.0</td>\n",
              "      <td>0.0</td>\n",
              "      <td>0.0</td>\n",
              "      <td>0.0</td>\n",
              "    </tr>\n",
              "    <tr>\n",
              "      <th>162615</th>\n",
              "      <td>1.0</td>\n",
              "      <td>1.0</td>\n",
              "      <td>1.0</td>\n",
              "      <td>1.0</td>\n",
              "      <td>1.0</td>\n",
              "      <td>1.0</td>\n",
              "      <td>1.0</td>\n",
              "      <td>1.0</td>\n",
              "      <td>1.0</td>\n",
              "      <td>1.0</td>\n",
              "      <td>1.0</td>\n",
              "      <td>1.0</td>\n",
              "      <td>1.0</td>\n",
              "      <td>1.0</td>\n",
              "      <td>1.0</td>\n",
              "      <td>1.0</td>\n",
              "      <td>1.0</td>\n",
              "      <td>1.0</td>\n",
              "      <td>1.0</td>\n",
              "      <td>1.0</td>\n",
              "    </tr>\n",
              "    <tr>\n",
              "      <th>173716</th>\n",
              "      <td>0.8</td>\n",
              "      <td>0.9</td>\n",
              "      <td>1.0</td>\n",
              "      <td>0.8</td>\n",
              "      <td>1.0</td>\n",
              "      <td>0.8</td>\n",
              "      <td>0.8</td>\n",
              "      <td>1.0</td>\n",
              "      <td>0.8</td>\n",
              "      <td>0.9</td>\n",
              "      <td>1.0</td>\n",
              "      <td>0.9</td>\n",
              "      <td>0.8</td>\n",
              "      <td>0.8</td>\n",
              "      <td>0.8</td>\n",
              "      <td>0.8</td>\n",
              "      <td>1.0</td>\n",
              "      <td>0.8</td>\n",
              "      <td>0.6</td>\n",
              "      <td>1.0</td>\n",
              "    </tr>\n",
              "    <tr>\n",
              "      <th>189037</th>\n",
              "      <td>0.8</td>\n",
              "      <td>0.9</td>\n",
              "      <td>0.7</td>\n",
              "      <td>0.7</td>\n",
              "      <td>0.9</td>\n",
              "      <td>0.9</td>\n",
              "      <td>0.7</td>\n",
              "      <td>0.8</td>\n",
              "      <td>1.0</td>\n",
              "      <td>0.7</td>\n",
              "      <td>1.0</td>\n",
              "      <td>0.8</td>\n",
              "      <td>0.8</td>\n",
              "      <td>0.7</td>\n",
              "      <td>0.9</td>\n",
              "      <td>0.6</td>\n",
              "      <td>0.7</td>\n",
              "      <td>0.7</td>\n",
              "      <td>0.7</td>\n",
              "      <td>0.8</td>\n",
              "    </tr>\n",
              "    <tr>\n",
              "      <th>222150</th>\n",
              "      <td>0.8</td>\n",
              "      <td>1.0</td>\n",
              "      <td>1.0</td>\n",
              "      <td>0.0</td>\n",
              "      <td>0.9</td>\n",
              "      <td>0.0</td>\n",
              "      <td>0.8</td>\n",
              "      <td>1.0</td>\n",
              "      <td>0.8</td>\n",
              "      <td>0.9</td>\n",
              "      <td>1.0</td>\n",
              "      <td>0.8</td>\n",
              "      <td>0.4</td>\n",
              "      <td>0.4</td>\n",
              "      <td>0.7</td>\n",
              "      <td>0.8</td>\n",
              "      <td>0.5</td>\n",
              "      <td>0.0</td>\n",
              "      <td>0.0</td>\n",
              "      <td>0.0</td>\n",
              "    </tr>\n",
              "    <tr>\n",
              "      <th>252520</th>\n",
              "      <td>0.9</td>\n",
              "      <td>1.0</td>\n",
              "      <td>1.0</td>\n",
              "      <td>0.8</td>\n",
              "      <td>0.6</td>\n",
              "      <td>0.0</td>\n",
              "      <td>0.9</td>\n",
              "      <td>0.9</td>\n",
              "      <td>0.8</td>\n",
              "      <td>0.7</td>\n",
              "      <td>0.9</td>\n",
              "      <td>0.0</td>\n",
              "      <td>0.9</td>\n",
              "      <td>1.0</td>\n",
              "      <td>0.0</td>\n",
              "      <td>1.0</td>\n",
              "      <td>0.9</td>\n",
              "      <td>0.8</td>\n",
              "      <td>0.9</td>\n",
              "      <td>1.0</td>\n",
              "    </tr>\n",
              "    <tr>\n",
              "      <th>269633</th>\n",
              "      <td>0.0</td>\n",
              "      <td>0.0</td>\n",
              "      <td>0.0</td>\n",
              "      <td>0.0</td>\n",
              "      <td>0.0</td>\n",
              "      <td>0.0</td>\n",
              "      <td>0.0</td>\n",
              "      <td>0.0</td>\n",
              "      <td>0.0</td>\n",
              "      <td>0.0</td>\n",
              "      <td>0.0</td>\n",
              "      <td>0.0</td>\n",
              "      <td>0.0</td>\n",
              "      <td>0.0</td>\n",
              "      <td>0.0</td>\n",
              "      <td>0.0</td>\n",
              "      <td>0.0</td>\n",
              "      <td>0.0</td>\n",
              "      <td>0.0</td>\n",
              "      <td>0.0</td>\n",
              "    </tr>\n",
              "    <tr>\n",
              "      <th>281232</th>\n",
              "      <td>0.0</td>\n",
              "      <td>0.0</td>\n",
              "      <td>0.0</td>\n",
              "      <td>0.0</td>\n",
              "      <td>0.0</td>\n",
              "      <td>0.0</td>\n",
              "      <td>0.0</td>\n",
              "      <td>0.0</td>\n",
              "      <td>0.0</td>\n",
              "      <td>0.0</td>\n",
              "      <td>0.0</td>\n",
              "      <td>0.0</td>\n",
              "      <td>0.0</td>\n",
              "      <td>0.0</td>\n",
              "      <td>0.0</td>\n",
              "      <td>0.0</td>\n",
              "      <td>0.0</td>\n",
              "      <td>0.0</td>\n",
              "      <td>0.0</td>\n",
              "      <td>0.0</td>\n",
              "    </tr>\n",
              "    <tr>\n",
              "      <th>283786</th>\n",
              "      <td>0.9</td>\n",
              "      <td>1.0</td>\n",
              "      <td>0.9</td>\n",
              "      <td>0.8</td>\n",
              "      <td>0.7</td>\n",
              "      <td>0.5</td>\n",
              "      <td>0.9</td>\n",
              "      <td>0.9</td>\n",
              "      <td>0.7</td>\n",
              "      <td>0.8</td>\n",
              "      <td>0.9</td>\n",
              "      <td>0.8</td>\n",
              "      <td>0.8</td>\n",
              "      <td>0.9</td>\n",
              "      <td>0.9</td>\n",
              "      <td>0.9</td>\n",
              "      <td>0.8</td>\n",
              "      <td>0.8</td>\n",
              "      <td>0.8</td>\n",
              "      <td>0.9</td>\n",
              "    </tr>\n",
              "    <tr>\n",
              "      <th>297931</th>\n",
              "      <td>0.0</td>\n",
              "      <td>0.0</td>\n",
              "      <td>0.0</td>\n",
              "      <td>0.0</td>\n",
              "      <td>0.0</td>\n",
              "      <td>0.0</td>\n",
              "      <td>0.0</td>\n",
              "      <td>0.0</td>\n",
              "      <td>0.0</td>\n",
              "      <td>0.0</td>\n",
              "      <td>0.0</td>\n",
              "      <td>0.0</td>\n",
              "      <td>0.0</td>\n",
              "      <td>0.0</td>\n",
              "      <td>0.0</td>\n",
              "      <td>0.8</td>\n",
              "      <td>0.0</td>\n",
              "      <td>0.0</td>\n",
              "      <td>0.0</td>\n",
              "      <td>0.9</td>\n",
              "    </tr>\n",
              "    <tr>\n",
              "      <th>312302</th>\n",
              "      <td>0.9</td>\n",
              "      <td>1.0</td>\n",
              "      <td>0.9</td>\n",
              "      <td>0.9</td>\n",
              "      <td>0.9</td>\n",
              "      <td>0.8</td>\n",
              "      <td>0.8</td>\n",
              "      <td>1.0</td>\n",
              "      <td>0.7</td>\n",
              "      <td>0.8</td>\n",
              "      <td>1.0</td>\n",
              "      <td>0.9</td>\n",
              "      <td>0.7</td>\n",
              "      <td>0.9</td>\n",
              "      <td>0.9</td>\n",
              "      <td>0.8</td>\n",
              "      <td>0.8</td>\n",
              "      <td>1.0</td>\n",
              "      <td>0.9</td>\n",
              "      <td>0.8</td>\n",
              "    </tr>\n",
              "  </tbody>\n",
              "</table>\n",
              "</div>"
            ],
            "text/plain": [
              "anime_id  226    1535   1575   2001   2167   ...  16498  19815  20507  22319  30276\n",
              "user_id                                      ...                                   \n",
              "20807       1.0    1.0    1.0    1.0    0.8  ...    1.0    1.0    1.0    1.0    1.0\n",
              "50485       0.0    0.6    1.0    1.0    0.9  ...    0.9    1.0    1.0    1.0    0.8\n",
              "63900       0.7    0.0    0.0    0.0    0.0  ...    0.8    0.0    0.8    0.8    0.8\n",
              "68042       0.8    1.0    0.9    1.0    0.7  ...    0.9    0.3    0.2    0.5    0.9\n",
              "85472       0.7    0.0    0.0    1.0    0.9  ...    0.8    0.7    0.7    0.7    0.9\n",
              "92529       0.9    0.9    1.0    1.0    0.0  ...    0.9    0.9    0.8    0.8    1.0\n",
              "122341      0.2    0.3    0.2    0.7    0.4  ...    0.1    0.4    0.4    0.2    0.6\n",
              "131988      0.0    0.0    0.0    0.0    0.0  ...    0.0    0.0    0.0    0.0    0.0\n",
              "140590      0.3    0.6    0.5    0.8    0.6  ...    0.5    0.7    0.7    0.5    0.7\n",
              "147331      0.0    0.0    0.0    0.0    0.0  ...    0.0    0.0    0.0    0.0    0.0\n",
              "162615      1.0    1.0    1.0    1.0    1.0  ...    1.0    1.0    1.0    1.0    1.0\n",
              "173716      0.8    0.9    1.0    0.8    1.0  ...    0.8    1.0    0.8    0.6    1.0\n",
              "189037      0.8    0.9    0.7    0.7    0.9  ...    0.6    0.7    0.7    0.7    0.8\n",
              "222150      0.8    1.0    1.0    0.0    0.9  ...    0.8    0.5    0.0    0.0    0.0\n",
              "252520      0.9    1.0    1.0    0.8    0.6  ...    1.0    0.9    0.8    0.9    1.0\n",
              "269633      0.0    0.0    0.0    0.0    0.0  ...    0.0    0.0    0.0    0.0    0.0\n",
              "281232      0.0    0.0    0.0    0.0    0.0  ...    0.0    0.0    0.0    0.0    0.0\n",
              "283786      0.9    1.0    0.9    0.8    0.7  ...    0.9    0.8    0.8    0.8    0.9\n",
              "297931      0.0    0.0    0.0    0.0    0.0  ...    0.8    0.0    0.0    0.0    0.9\n",
              "312302      0.9    1.0    0.9    0.9    0.9  ...    0.8    0.8    1.0    0.9    0.8\n",
              "\n",
              "[20 rows x 20 columns]"
            ]
          },
          "metadata": {
            "tags": []
          },
          "execution_count": 12
        }
      ]
    },
    {
      "cell_type": "code",
      "metadata": {
        "colab": {
          "base_uri": "https://localhost:8080/"
        },
        "id": "jD1sJS_6PkHB",
        "outputId": "85c5345a-566e-4b99-96ed-2e5e837e6bcb"
      },
      "source": [
        "# Encoding categorical data\n",
        "user_ids = rating_df[\"user_id\"].unique().tolist() \n",
        "user2user_encoded = {x: i for i, x in enumerate(user_ids)} # {2:0, 6:1, 12:2, 16:3, ...}\n",
        "user_encoded2user = {i: x for i, x in enumerate(user_ids)} # {0:2, 1:6, 2:12, 3:16, ...}\n",
        "\n",
        "rating_df[\"user\"] = rating_df[\"user_id\"].map(user2user_encoded) #user를 0부터 새로운 인덱스로 mapping\n",
        "n_users = len(user2user_encoded)\n",
        "n_users"
      ],
      "execution_count": 13,
      "outputs": [
        {
          "output_type": "execute_result",
          "data": {
            "text/plain": [
              "91641"
            ]
          },
          "metadata": {
            "tags": []
          },
          "execution_count": 13
        }
      ]
    },
    {
      "cell_type": "code",
      "metadata": {
        "colab": {
          "base_uri": "https://localhost:8080/"
        },
        "id": "6MTrgDxRPksD",
        "outputId": "64f76645-d1f2-4170-9611-de2074895259"
      },
      "source": [
        "anime_ids = rating_df[\"anime_id\"].unique().tolist()\n",
        "anime2anime_encoded = {x: i for i, x in enumerate(anime_ids)}\n",
        "anime_encoded2anime = {i: x for i, x in enumerate(anime_ids)}\n",
        "rating_df[\"anime\"] = rating_df[\"anime_id\"].map(anime2anime_encoded)\n",
        "n_animes = len(anime2anime_encoded)\n",
        "\n",
        "print(\"Num of users: {}, Num of animes: {}\".format(n_users, n_animes))\n",
        "print(\"Min rating: {}, Max rating: {}\".format(min(rating_df['rating']), max(rating_df['rating'])))"
      ],
      "execution_count": 14,
      "outputs": [
        {
          "output_type": "stream",
          "text": [
            "Num of users: 91641, Num of animes: 17560\n",
            "Min rating: 0.0, Max rating: 1.0\n"
          ],
          "name": "stdout"
        }
      ]
    },
    {
      "cell_type": "code",
      "metadata": {
        "colab": {
          "base_uri": "https://localhost:8080/",
          "height": 204
        },
        "id": "NF32XKAZRWZz",
        "outputId": "87498fe9-74c2-4235-d6cb-3058f5a251a1"
      },
      "source": [
        "rating_df.head()"
      ],
      "execution_count": 15,
      "outputs": [
        {
          "output_type": "execute_result",
          "data": {
            "text/html": [
              "<div>\n",
              "<style scoped>\n",
              "    .dataframe tbody tr th:only-of-type {\n",
              "        vertical-align: middle;\n",
              "    }\n",
              "\n",
              "    .dataframe tbody tr th {\n",
              "        vertical-align: top;\n",
              "    }\n",
              "\n",
              "    .dataframe thead th {\n",
              "        text-align: right;\n",
              "    }\n",
              "</style>\n",
              "<table border=\"1\" class=\"dataframe\">\n",
              "  <thead>\n",
              "    <tr style=\"text-align: right;\">\n",
              "      <th></th>\n",
              "      <th>user_id</th>\n",
              "      <th>anime_id</th>\n",
              "      <th>rating</th>\n",
              "      <th>user</th>\n",
              "      <th>anime</th>\n",
              "    </tr>\n",
              "  </thead>\n",
              "  <tbody>\n",
              "    <tr>\n",
              "      <th>213</th>\n",
              "      <td>2</td>\n",
              "      <td>24833</td>\n",
              "      <td>0.0</td>\n",
              "      <td>0</td>\n",
              "      <td>0</td>\n",
              "    </tr>\n",
              "    <tr>\n",
              "      <th>214</th>\n",
              "      <td>2</td>\n",
              "      <td>235</td>\n",
              "      <td>1.0</td>\n",
              "      <td>0</td>\n",
              "      <td>1</td>\n",
              "    </tr>\n",
              "    <tr>\n",
              "      <th>215</th>\n",
              "      <td>2</td>\n",
              "      <td>36721</td>\n",
              "      <td>0.0</td>\n",
              "      <td>0</td>\n",
              "      <td>2</td>\n",
              "    </tr>\n",
              "    <tr>\n",
              "      <th>216</th>\n",
              "      <td>2</td>\n",
              "      <td>40956</td>\n",
              "      <td>0.0</td>\n",
              "      <td>0</td>\n",
              "      <td>3</td>\n",
              "    </tr>\n",
              "    <tr>\n",
              "      <th>217</th>\n",
              "      <td>2</td>\n",
              "      <td>31933</td>\n",
              "      <td>0.0</td>\n",
              "      <td>0</td>\n",
              "      <td>4</td>\n",
              "    </tr>\n",
              "  </tbody>\n",
              "</table>\n",
              "</div>"
            ],
            "text/plain": [
              "     user_id  anime_id  rating  user  anime\n",
              "213        2     24833     0.0     0      0\n",
              "214        2       235     1.0     0      1\n",
              "215        2     36721     0.0     0      2\n",
              "216        2     40956     0.0     0      3\n",
              "217        2     31933     0.0     0      4"
            ]
          },
          "metadata": {
            "tags": []
          },
          "execution_count": 15
        }
      ]
    },
    {
      "cell_type": "markdown",
      "metadata": {
        "id": "Qva-vMykRxHs"
      },
      "source": [
        "**DataFrame.sample(n,frac,replace,weights,random_state,axis)**\n",
        "\n",
        ": dataframe에서 무작위 표본 추출하기\n",
        "\n",
        "- n : 추출할 표본 개수\n",
        "- frac : 추출할 표본 비율(n 또는 frac 하나만 사용)\n",
        "- replace : 복원 추출 여부(true or false)\n",
        "- weights : 가중치 여부(컬럼 이름)\n",
        "- random_state : 난수 발생 초기값\n",
        "- axis : 0(인덱스 기준), 1(컬럼 기준)"
      ]
    },
    {
      "cell_type": "code",
      "metadata": {
        "id": "dXYY1wKMRflp"
      },
      "source": [
        "# Shuffle\n",
        "rating_df = rating_df.sample(frac=1, random_state=73)\n",
        "\n",
        "X = rating_df[['user', 'anime']].values\n",
        "y = rating_df[\"rating\"]"
      ],
      "execution_count": 16,
      "outputs": []
    },
    {
      "cell_type": "code",
      "metadata": {
        "colab": {
          "base_uri": "https://localhost:8080/"
        },
        "id": "pumC8-BQWEhO",
        "outputId": "aa94f1f3-573b-42e3-e3ac-2fb13ef978f6"
      },
      "source": [
        "# Split\n",
        "test_set_size = 10000 #10k for test set\n",
        "train_indices = rating_df.shape[0] - test_set_size #71418113-10000\n",
        "\n",
        "X_train, X_test, y_train, y_test = (\n",
        "    X[:train_indices],\n",
        "    X[train_indices:],\n",
        "    y[:train_indices],\n",
        "    y[train_indices:],\n",
        ")\n",
        "\n",
        "print('> Train set ratings: {}'.format(len(y_train)))\n",
        "print('> Test set ratings: {}'.format(len(y_test)))"
      ],
      "execution_count": 17,
      "outputs": [
        {
          "output_type": "stream",
          "text": [
            "> Train set ratings: 71408113\n",
            "> Test set ratings: 10000\n"
          ],
          "name": "stdout"
        }
      ]
    },
    {
      "cell_type": "code",
      "metadata": {
        "id": "otkbOt54c2oL"
      },
      "source": [
        "X_train_array = [X_train[:, 0], X_train[:, 1]]\n",
        "X_test_array = [X_test[:, 0], X_test[:, 1]]"
      ],
      "execution_count": 18,
      "outputs": []
    },
    {
      "cell_type": "code",
      "metadata": {
        "colab": {
          "base_uri": "https://localhost:8080/"
        },
        "id": "VcoF2HNlenBx",
        "outputId": "ebdb8eb2-145c-4090-b04c-8dc2ef9d7538"
      },
      "source": [
        "# Accelerator check\n",
        "import tensorflow as tf\n",
        "\n",
        "TPU_INIT = True\n",
        "\n",
        "if TPU_INIT:\n",
        "    tpu = tf.distribute.cluster_resolver.TPUClusterResolver.connect()\n",
        "    tpu_strategy = tf.distribute.experimental.TPUStrategy(tpu)\n",
        "else:\n",
        "    !nvidia-smi\n",
        "    \n",
        "print(tf.__version__)"
      ],
      "execution_count": 19,
      "outputs": [
        {
          "output_type": "stream",
          "text": [
            "INFO:tensorflow:Initializing the TPU system: grpc://10.34.114.10:8470\n"
          ],
          "name": "stdout"
        },
        {
          "output_type": "stream",
          "text": [
            "INFO:tensorflow:Initializing the TPU system: grpc://10.34.114.10:8470\n"
          ],
          "name": "stderr"
        },
        {
          "output_type": "stream",
          "text": [
            "INFO:tensorflow:Clearing out eager caches\n"
          ],
          "name": "stdout"
        },
        {
          "output_type": "stream",
          "text": [
            "INFO:tensorflow:Clearing out eager caches\n"
          ],
          "name": "stderr"
        },
        {
          "output_type": "stream",
          "text": [
            "INFO:tensorflow:Finished initializing TPU system.\n"
          ],
          "name": "stdout"
        },
        {
          "output_type": "stream",
          "text": [
            "INFO:tensorflow:Finished initializing TPU system.\n",
            "WARNING:absl:`tf.distribute.experimental.TPUStrategy` is deprecated, please use  the non experimental symbol `tf.distribute.TPUStrategy` instead.\n"
          ],
          "name": "stderr"
        },
        {
          "output_type": "stream",
          "text": [
            "INFO:tensorflow:Found TPU system:\n"
          ],
          "name": "stdout"
        },
        {
          "output_type": "stream",
          "text": [
            "INFO:tensorflow:Found TPU system:\n"
          ],
          "name": "stderr"
        },
        {
          "output_type": "stream",
          "text": [
            "INFO:tensorflow:*** Num TPU Cores: 8\n"
          ],
          "name": "stdout"
        },
        {
          "output_type": "stream",
          "text": [
            "INFO:tensorflow:*** Num TPU Cores: 8\n"
          ],
          "name": "stderr"
        },
        {
          "output_type": "stream",
          "text": [
            "INFO:tensorflow:*** Num TPU Workers: 1\n"
          ],
          "name": "stdout"
        },
        {
          "output_type": "stream",
          "text": [
            "INFO:tensorflow:*** Num TPU Workers: 1\n"
          ],
          "name": "stderr"
        },
        {
          "output_type": "stream",
          "text": [
            "INFO:tensorflow:*** Num TPU Cores Per Worker: 8\n"
          ],
          "name": "stdout"
        },
        {
          "output_type": "stream",
          "text": [
            "INFO:tensorflow:*** Num TPU Cores Per Worker: 8\n"
          ],
          "name": "stderr"
        },
        {
          "output_type": "stream",
          "text": [
            "INFO:tensorflow:*** Available Device: _DeviceAttributes(/job:localhost/replica:0/task:0/device:CPU:0, CPU, 0, 0)\n"
          ],
          "name": "stdout"
        },
        {
          "output_type": "stream",
          "text": [
            "INFO:tensorflow:*** Available Device: _DeviceAttributes(/job:localhost/replica:0/task:0/device:CPU:0, CPU, 0, 0)\n"
          ],
          "name": "stderr"
        },
        {
          "output_type": "stream",
          "text": [
            "INFO:tensorflow:*** Available Device: _DeviceAttributes(/job:worker/replica:0/task:0/device:CPU:0, CPU, 0, 0)\n"
          ],
          "name": "stdout"
        },
        {
          "output_type": "stream",
          "text": [
            "INFO:tensorflow:*** Available Device: _DeviceAttributes(/job:worker/replica:0/task:0/device:CPU:0, CPU, 0, 0)\n"
          ],
          "name": "stderr"
        },
        {
          "output_type": "stream",
          "text": [
            "INFO:tensorflow:*** Available Device: _DeviceAttributes(/job:worker/replica:0/task:0/device:TPU:0, TPU, 0, 0)\n"
          ],
          "name": "stdout"
        },
        {
          "output_type": "stream",
          "text": [
            "INFO:tensorflow:*** Available Device: _DeviceAttributes(/job:worker/replica:0/task:0/device:TPU:0, TPU, 0, 0)\n"
          ],
          "name": "stderr"
        },
        {
          "output_type": "stream",
          "text": [
            "INFO:tensorflow:*** Available Device: _DeviceAttributes(/job:worker/replica:0/task:0/device:TPU:1, TPU, 0, 0)\n"
          ],
          "name": "stdout"
        },
        {
          "output_type": "stream",
          "text": [
            "INFO:tensorflow:*** Available Device: _DeviceAttributes(/job:worker/replica:0/task:0/device:TPU:1, TPU, 0, 0)\n"
          ],
          "name": "stderr"
        },
        {
          "output_type": "stream",
          "text": [
            "INFO:tensorflow:*** Available Device: _DeviceAttributes(/job:worker/replica:0/task:0/device:TPU:2, TPU, 0, 0)\n"
          ],
          "name": "stdout"
        },
        {
          "output_type": "stream",
          "text": [
            "INFO:tensorflow:*** Available Device: _DeviceAttributes(/job:worker/replica:0/task:0/device:TPU:2, TPU, 0, 0)\n"
          ],
          "name": "stderr"
        },
        {
          "output_type": "stream",
          "text": [
            "INFO:tensorflow:*** Available Device: _DeviceAttributes(/job:worker/replica:0/task:0/device:TPU:3, TPU, 0, 0)\n"
          ],
          "name": "stdout"
        },
        {
          "output_type": "stream",
          "text": [
            "INFO:tensorflow:*** Available Device: _DeviceAttributes(/job:worker/replica:0/task:0/device:TPU:3, TPU, 0, 0)\n"
          ],
          "name": "stderr"
        },
        {
          "output_type": "stream",
          "text": [
            "INFO:tensorflow:*** Available Device: _DeviceAttributes(/job:worker/replica:0/task:0/device:TPU:4, TPU, 0, 0)\n"
          ],
          "name": "stdout"
        },
        {
          "output_type": "stream",
          "text": [
            "INFO:tensorflow:*** Available Device: _DeviceAttributes(/job:worker/replica:0/task:0/device:TPU:4, TPU, 0, 0)\n"
          ],
          "name": "stderr"
        },
        {
          "output_type": "stream",
          "text": [
            "INFO:tensorflow:*** Available Device: _DeviceAttributes(/job:worker/replica:0/task:0/device:TPU:5, TPU, 0, 0)\n"
          ],
          "name": "stdout"
        },
        {
          "output_type": "stream",
          "text": [
            "INFO:tensorflow:*** Available Device: _DeviceAttributes(/job:worker/replica:0/task:0/device:TPU:5, TPU, 0, 0)\n"
          ],
          "name": "stderr"
        },
        {
          "output_type": "stream",
          "text": [
            "INFO:tensorflow:*** Available Device: _DeviceAttributes(/job:worker/replica:0/task:0/device:TPU:6, TPU, 0, 0)\n"
          ],
          "name": "stdout"
        },
        {
          "output_type": "stream",
          "text": [
            "INFO:tensorflow:*** Available Device: _DeviceAttributes(/job:worker/replica:0/task:0/device:TPU:6, TPU, 0, 0)\n"
          ],
          "name": "stderr"
        },
        {
          "output_type": "stream",
          "text": [
            "INFO:tensorflow:*** Available Device: _DeviceAttributes(/job:worker/replica:0/task:0/device:TPU:7, TPU, 0, 0)\n"
          ],
          "name": "stdout"
        },
        {
          "output_type": "stream",
          "text": [
            "INFO:tensorflow:*** Available Device: _DeviceAttributes(/job:worker/replica:0/task:0/device:TPU:7, TPU, 0, 0)\n"
          ],
          "name": "stderr"
        },
        {
          "output_type": "stream",
          "text": [
            "INFO:tensorflow:*** Available Device: _DeviceAttributes(/job:worker/replica:0/task:0/device:TPU_SYSTEM:0, TPU_SYSTEM, 0, 0)\n"
          ],
          "name": "stdout"
        },
        {
          "output_type": "stream",
          "text": [
            "INFO:tensorflow:*** Available Device: _DeviceAttributes(/job:worker/replica:0/task:0/device:TPU_SYSTEM:0, TPU_SYSTEM, 0, 0)\n"
          ],
          "name": "stderr"
        },
        {
          "output_type": "stream",
          "text": [
            "INFO:tensorflow:*** Available Device: _DeviceAttributes(/job:worker/replica:0/task:0/device:XLA_CPU:0, XLA_CPU, 0, 0)\n"
          ],
          "name": "stdout"
        },
        {
          "output_type": "stream",
          "text": [
            "INFO:tensorflow:*** Available Device: _DeviceAttributes(/job:worker/replica:0/task:0/device:XLA_CPU:0, XLA_CPU, 0, 0)\n"
          ],
          "name": "stderr"
        },
        {
          "output_type": "stream",
          "text": [
            "2.5.0\n"
          ],
          "name": "stdout"
        }
      ]
    },
    {
      "cell_type": "code",
      "metadata": {
        "id": "UW3b4k8Ier2n"
      },
      "source": [
        "import keras\n",
        "from keras import layers \n",
        "import tensorflow as tf\n",
        "from keras.models import Model\n",
        "from keras.optimizers import Adam"
      ],
      "execution_count": 20,
      "outputs": []
    },
    {
      "cell_type": "code",
      "metadata": {
        "colab": {
          "base_uri": "https://localhost:8080/"
        },
        "id": "XXuBs-n2euRx",
        "outputId": "3fd5f048-a42a-45fa-c2c9-c2d3e7f6a2b0"
      },
      "source": [
        "# Embedding layers\n",
        "from keras.layers import Add, Activation, Lambda, BatchNormalization, Concatenate, Dropout, Input, Embedding, Dot, Reshape, Dense, Flatten\n",
        "\n",
        "def RecommenderNet():\n",
        "    embedding_size = 128\n",
        "    \n",
        "    user = Input(name = 'user', shape = [1])\n",
        "    user_embedding = Embedding(name = 'user_embedding',\n",
        "                       input_dim = n_users, \n",
        "                       output_dim = embedding_size)(user)\n",
        "    \n",
        "    anime = Input(name = 'anime', shape = [1])\n",
        "    anime_embedding = Embedding(name = 'anime_embedding',\n",
        "                       input_dim = n_animes, \n",
        "                       output_dim = embedding_size)(anime)\n",
        "    \n",
        "    #x = Concatenate()([user_embedding, anime_embedding])\n",
        "    x = Dot(name = 'dot_product', normalize = True, axes = 2)([user_embedding, anime_embedding])\n",
        "    x = Flatten()(x)\n",
        "        \n",
        "    x = Dense(1, kernel_initializer='he_normal')(x)\n",
        "    x = BatchNormalization()(x)\n",
        "    x = Activation(\"sigmoid\")(x)\n",
        "    \n",
        "    model = Model(inputs=[user, anime], outputs=x)\n",
        "    model.compile(loss='binary_crossentropy', metrics=[\"mae\", \"mse\"], optimizer='Adam')\n",
        "    \n",
        "    return model\n",
        "\n",
        "    \n",
        "if TPU_INIT:    \n",
        "    with tpu_strategy.scope():\n",
        "        model = RecommenderNet()\n",
        "else:\n",
        "    model = RecommenderNet()\n",
        "\n",
        "model.summary()"
      ],
      "execution_count": 25,
      "outputs": [
        {
          "output_type": "stream",
          "text": [
            "Model: \"model_1\"\n",
            "__________________________________________________________________________________________________\n",
            "Layer (type)                    Output Shape         Param #     Connected to                     \n",
            "==================================================================================================\n",
            "user (InputLayer)               [(None, 1)]          0                                            \n",
            "__________________________________________________________________________________________________\n",
            "anime (InputLayer)              [(None, 1)]          0                                            \n",
            "__________________________________________________________________________________________________\n",
            "user_embedding (Embedding)      (None, 1, 128)       11730048    user[0][0]                       \n",
            "__________________________________________________________________________________________________\n",
            "anime_embedding (Embedding)     (None, 1, 128)       2247680     anime[0][0]                      \n",
            "__________________________________________________________________________________________________\n",
            "dot_product (Dot)               (None, 1, 1)         0           user_embedding[0][0]             \n",
            "                                                                 anime_embedding[0][0]            \n",
            "__________________________________________________________________________________________________\n",
            "flatten_1 (Flatten)             (None, 1)            0           dot_product[0][0]                \n",
            "__________________________________________________________________________________________________\n",
            "dense_1 (Dense)                 (None, 1)            2           flatten_1[0][0]                  \n",
            "__________________________________________________________________________________________________\n",
            "batch_normalization_1 (BatchNor (None, 1)            4           dense_1[0][0]                    \n",
            "__________________________________________________________________________________________________\n",
            "activation_1 (Activation)       (None, 1)            0           batch_normalization_1[0][0]      \n",
            "==================================================================================================\n",
            "Total params: 13,977,734\n",
            "Trainable params: 13,977,732\n",
            "Non-trainable params: 2\n",
            "__________________________________________________________________________________________________\n"
          ],
          "name": "stdout"
        }
      ]
    },
    {
      "cell_type": "markdown",
      "metadata": {
        "id": "znuzjSFHz2iQ"
      },
      "source": [
        "- ModelCheckpoint : 모델이 학습하면서 정의한 조건을 만족했을 때 Model의 weight 값을 중간 저장해 줍니다. 학습시간이 꽤 오래걸린다면, 모델이 개선된 validation score를 도출해낼 때마다 weight를 중간 저장함으로써, 혹시 중간에 memory overflow나 crash가 나더라도 다시 weight를 불러와서 학습을 이어나갈 수 있기 때문에, 시간을 save해 줄 수 있습니다.\n",
        "- ReduceLROnPlateau : 학습이 진행되지 않는 안정기에 들어서면, learning rate에 변화를 줍니다. \n",
        "- EarlyStopping : model의 성능 지표가 설정한 epoch동안 개선되지 않을 때 조기 종료할 수 있습니다. EarlyStopping과 이전에 언급한 ModelCheckpoint 콜백의 조합을 통하여, 개선되지 않는 학습에 대한 조기 종료를 실행하고, ModelCheckpoint로 부터 가장 best model을 다시 로드하여 학습을 재게할 수 있습니다.\n",
        "- LearningRateScheduler : epoch에 따라 학습률을 조정하는 callback"
      ]
    },
    {
      "cell_type": "code",
      "metadata": {
        "id": "BlWSCNqZvSGa"
      },
      "source": [
        "# Callbacks\n",
        "from tensorflow.keras.callbacks import Callback, ModelCheckpoint, LearningRateScheduler, EarlyStopping\n",
        "#from tensorflow.keras.callbacks import TensorBoard, ReduceLROnPlateau\n",
        "\n",
        "start_lr = 0.00001\n",
        "min_lr = 0.00001\n",
        "max_lr = 0.00005\n",
        "batch_size = 10000\n",
        "\n",
        "if TPU_INIT:\n",
        "    max_lr = max_lr * tpu_strategy.num_replicas_in_sync\n",
        "    batch_size = batch_size * tpu_strategy.num_replicas_in_sync\n",
        "\n",
        "rampup_epochs = 5\n",
        "sustain_epochs = 0\n",
        "exp_decay = .8\n",
        "\n",
        "def lrfn(epoch):\n",
        "    if epoch < rampup_epochs:\n",
        "        return (max_lr - start_lr)/rampup_epochs * epoch + start_lr\n",
        "    elif epoch < rampup_epochs + sustain_epochs:\n",
        "        return max_lr\n",
        "    else:\n",
        "        return (max_lr - min_lr) * exp_decay**(epoch-rampup_epochs-sustain_epochs) + min_lr\n",
        "\n",
        "\n",
        "lr_callback = LearningRateScheduler(lambda epoch: lrfn(epoch), verbose=0)\n",
        "\n",
        "checkpoint_filepath = './weights.h5'\n",
        "\n",
        "model_checkpoints = ModelCheckpoint(filepath=checkpoint_filepath,\n",
        "                                        save_weights_only=True,\n",
        "                                        monitor='val_loss',\n",
        "                                        mode='min',\n",
        "                                        save_best_only=True)\n",
        "\n",
        "early_stopping = EarlyStopping(patience = 3, monitor='val_loss', \n",
        "                               mode='min', restore_best_weights=True)\n",
        "\n",
        "my_callbacks = [\n",
        "    model_checkpoints,\n",
        "    lr_callback,\n",
        "    early_stopping,   \n",
        "]"
      ],
      "execution_count": 24,
      "outputs": []
    },
    {
      "cell_type": "code",
      "metadata": {
        "colab": {
          "base_uri": "https://localhost:8080/"
        },
        "id": "W00-xI-He_bK",
        "outputId": "bbe39b2f-5122-45b5-837b-50eabb3c0f29"
      },
      "source": [
        "# Model training\n",
        "history = model.fit(\n",
        "    x=X_train_array,\n",
        "    y=y_train,\n",
        "    batch_size=batch_size,\n",
        "    epochs=20,\n",
        "    verbose=1,\n",
        "    validation_data=(X_test_array, y_test),\n",
        "    callbacks=my_callbacks\n",
        ")\n",
        "\n",
        "model.load_weights(checkpoint_filepath)"
      ],
      "execution_count": 26,
      "outputs": [
        {
          "output_type": "stream",
          "text": [
            "Epoch 1/20\n",
            "893/893 [==============================] - 54s 31ms/step - loss: 0.8031 - mae: 0.3846 - mse: 0.1998 - val_loss: 0.8012 - val_mae: 0.3873 - val_mse: 0.2012\n",
            "Epoch 2/20\n",
            "893/893 [==============================] - 22s 25ms/step - loss: 0.7904 - mae: 0.3808 - mse: 0.1950 - val_loss: 0.7116 - val_mae: 0.3471 - val_mse: 0.1643\n",
            "Epoch 3/20\n",
            "893/893 [==============================] - 22s 25ms/step - loss: 0.6292 - mae: 0.3013 - mse: 0.1270 - val_loss: 0.5747 - val_mae: 0.2719 - val_mse: 0.1052\n",
            "Epoch 4/20\n",
            "893/893 [==============================] - 23s 25ms/step - loss: 0.5557 - mae: 0.2577 - mse: 0.0953 - val_loss: 0.5406 - val_mae: 0.2504 - val_mse: 0.0909\n",
            "Epoch 5/20\n",
            "893/893 [==============================] - 23s 25ms/step - loss: 0.5241 - mae: 0.2354 - mse: 0.0826 - val_loss: 0.5143 - val_mae: 0.2289 - val_mse: 0.0809\n",
            "Epoch 6/20\n",
            "893/893 [==============================] - 23s 26ms/step - loss: 0.4973 - mae: 0.2132 - mse: 0.0728 - val_loss: 0.4961 - val_mae: 0.2112 - val_mse: 0.0748\n",
            "Epoch 7/20\n",
            "893/893 [==============================] - 23s 26ms/step - loss: 0.4745 - mae: 0.1937 - mse: 0.0648 - val_loss: 0.4871 - val_mae: 0.2013 - val_mse: 0.0718\n",
            "Epoch 8/20\n",
            "893/893 [==============================] - 23s 26ms/step - loss: 0.4597 - mae: 0.1808 - mse: 0.0596 - val_loss: 0.4842 - val_mae: 0.1958 - val_mse: 0.0710\n",
            "Epoch 9/20\n",
            "893/893 [==============================] - 23s 25ms/step - loss: 0.4496 - mae: 0.1722 - mse: 0.0562 - val_loss: 0.4825 - val_mae: 0.1921 - val_mse: 0.0705\n",
            "Epoch 10/20\n",
            "893/893 [==============================] - 23s 25ms/step - loss: 0.4426 - mae: 0.1660 - mse: 0.0538 - val_loss: 0.4828 - val_mae: 0.1902 - val_mse: 0.0707\n",
            "Epoch 11/20\n",
            "893/893 [==============================] - 23s 26ms/step - loss: 0.4376 - mae: 0.1616 - mse: 0.0521 - val_loss: 0.4833 - val_mae: 0.1887 - val_mse: 0.0709\n",
            "Epoch 12/20\n",
            "893/893 [==============================] - 23s 26ms/step - loss: 0.4339 - mae: 0.1583 - mse: 0.0509 - val_loss: 0.4841 - val_mae: 0.1875 - val_mse: 0.0712\n"
          ],
          "name": "stdout"
        }
      ]
    },
    {
      "cell_type": "code",
      "metadata": {
        "colab": {
          "base_uri": "https://localhost:8080/",
          "height": 295
        },
        "id": "VtEr4IzcxGIa",
        "outputId": "1ba5a706-c9a3-4e61-9b6f-3693a264ab54"
      },
      "source": [
        "#Training results\n",
        "import matplotlib.pyplot as plt\n",
        "%matplotlib inline\n",
        "\n",
        "plt.plot(history.history[\"loss\"][0:-2])\n",
        "plt.plot(history.history[\"val_loss\"][0:-2])\n",
        "plt.title(\"model loss\")\n",
        "plt.ylabel(\"loss\")\n",
        "plt.xlabel(\"epoch\")\n",
        "plt.legend([\"train\", \"test\"], loc=\"upper left\")\n",
        "plt.show()"
      ],
      "execution_count": 27,
      "outputs": [
        {
          "output_type": "display_data",
          "data": {
            "image/png": "[encoded data removed]",
            "text/plain": [
              "<Figure size 432x288 with 1 Axes>"
            ]
          },
          "metadata": {
            "tags": [],
            "needs_background": "light"
          }
        }
      ]
    },
    {
      "cell_type": "code",
      "metadata": {
        "id": "VfRRdIqnxJQ0"
      },
      "source": [
        "def extract_weights(name, model):\n",
        "    weight_layer = model.get_layer(name)\n",
        "    weights = weight_layer.get_weights()[0]\n",
        "    weights = weights / np.linalg.norm(weights, axis = 1).reshape((-1, 1))\n",
        "    return weights\n",
        "\n",
        "anime_weights = extract_weights('anime_embedding', model)\n",
        "user_weights = extract_weights('user_embedding', model)"
      ],
      "execution_count": 28,
      "outputs": []
    },
    {
      "cell_type": "code",
      "metadata": {
        "id": "AvMD4cTHxLeD"
      },
      "source": [
        "df = pd.read_csv(INPUT_DIR + '/anime.csv', low_memory=True)\n",
        "df = df.replace(\"Unknown\", np.nan)"
      ],
      "execution_count": 29,
      "outputs": []
    },
    {
      "cell_type": "code",
      "metadata": {
        "id": "m0gwA8y-xOGp"
      },
      "source": [
        "# Fixing Names\n",
        "def getAnimeName(anime_id):\n",
        "    try:\n",
        "        name = df[df.anime_id == anime_id].eng_version.values[0]\n",
        "        if name is np.nan:\n",
        "            name = df[df.anime_id == anime_id].Name.values[0]\n",
        "    except:\n",
        "        print('error')\n",
        "    \n",
        "    return name\n",
        "\n",
        "df['anime_id'] = df['MAL_ID']\n",
        "df[\"eng_version\"] = df['English name']\n",
        "df['eng_version'] = df.anime_id.apply(lambda x: getAnimeName(x))\n",
        "\n",
        "df.sort_values(by=['Score'], \n",
        "               inplace=True,\n",
        "               ascending=False, \n",
        "               kind='quicksort',\n",
        "               na_position='last')\n",
        "\n",
        "df = df[[\"anime_id\", \"eng_version\", \n",
        "         \"Score\", \"Genders\", \"Episodes\", \n",
        "         \"Type\", \"Premiered\", \"Members\"]]"
      ],
      "execution_count": 30,
      "outputs": []
    },
    {
      "cell_type": "code",
      "metadata": {
        "id": "4TXSrhSNxQV0"
      },
      "source": [
        "def getAnimeFrame(anime):\n",
        "    if isinstance(anime, int):\n",
        "        return df[df.anime_id == anime]\n",
        "    if isinstance(anime, str):\n",
        "        return df[df.eng_version == anime]"
      ],
      "execution_count": 31,
      "outputs": []
    },
    {
      "cell_type": "code",
      "metadata": {
        "id": "gRCCvzvAxSOp"
      },
      "source": [
        "cols = [\"MAL_ID\", \"Name\", \"Genders\", \"sypnopsis\"]\n",
        "sypnopsis_df = pd.read_csv(INPUT_DIR + '/anime_with_synopsis.csv', usecols=cols)\n",
        "\n",
        "def getSypnopsis(anime):\n",
        "    if isinstance(anime, int):\n",
        "        return sypnopsis_df[sypnopsis_df.MAL_ID == anime].sypnopsis.values[0]\n",
        "    if isinstance(anime, str):\n",
        "        return sypnopsis_df[sypnopsis_df.Name == anime].sypnopsis.values[0]"
      ],
      "execution_count": 32,
      "outputs": []
    },
    {
      "cell_type": "code",
      "metadata": {
        "id": "puu1r7aBxW13"
      },
      "source": [
        "#pd.reset_option('all')\n",
        "pd.set_option(\"max_colwidth\", None)\n",
        "\n",
        "def find_similar_animes(name, n=10, return_dist=False, neg=False):\n",
        "    try:\n",
        "        index = getAnimeFrame(name).anime_id.values[0]\n",
        "        encoded_index = anime2anime_encoded.get(index)\n",
        "        weights = anime_weights\n",
        "        \n",
        "        dists = np.dot(weights, weights[encoded_index])\n",
        "        sorted_dists = np.argsort(dists)\n",
        "        \n",
        "        n = n + 1            \n",
        "        \n",
        "        if neg:\n",
        "            closest = sorted_dists[:n]\n",
        "        else:\n",
        "            closest = sorted_dists[-n:]\n",
        "\n",
        "        print('animes closest to {}'.format(name))\n",
        "\n",
        "        if return_dist:\n",
        "            return dists, closest\n",
        "        \n",
        "        rindex = df\n",
        "\n",
        "        SimilarityArr = []\n",
        "\n",
        "        for close in closest:\n",
        "            decoded_id = anime_encoded2anime.get(close)\n",
        "            sypnopsis = getSypnopsis(decoded_id)\n",
        "            anime_frame = getAnimeFrame(decoded_id)\n",
        "            \n",
        "            anime_name = anime_frame.eng_version.values[0]\n",
        "            genre = anime_frame.Genders.values[0]\n",
        "            similarity = dists[close]\n",
        "            SimilarityArr.append({\"anime_id\": decoded_id, \"name\": anime_name,\n",
        "                                  \"similarity\": similarity,\"genre\": genre,\n",
        "                                  'sypnopsis': sypnopsis})\n",
        "\n",
        "        Frame = pd.DataFrame(SimilarityArr).sort_values(by=\"similarity\", ascending=False)\n",
        "        return Frame[Frame.anime_id != index].drop(['anime_id'], axis=1)\n",
        "\n",
        "    except:\n",
        "        print('{}!, Not Found in Anime list'.format(name))"
      ],
      "execution_count": 33,
      "outputs": []
    },
    {
      "cell_type": "code",
      "metadata": {
        "colab": {
          "base_uri": "https://localhost:8080/",
          "height": 699
        },
        "id": "YkQzkpLpxZRH",
        "outputId": "87eaa4f4-db81-4bb5-f2a1-2f7da7fc6904"
      },
      "source": [
        "find_similar_animes('Dragon Ball Z', n=5, neg=False)"
      ],
      "execution_count": 34,
      "outputs": [
        {
          "output_type": "stream",
          "text": [
            "animes closest to Dragon Ball Z\n"
          ],
          "name": "stdout"
        },
        {
          "output_type": "execute_result",
          "data": {
            "text/html": [
              "<div>\n",
              "<style scoped>\n",
              "    .dataframe tbody tr th:only-of-type {\n",
              "        vertical-align: middle;\n",
              "    }\n",
              "\n",
              "    .dataframe tbody tr th {\n",
              "        vertical-align: top;\n",
              "    }\n",
              "\n",
              "    .dataframe thead th {\n",
              "        text-align: right;\n",
              "    }\n",
              "</style>\n",
              "<table border=\"1\" class=\"dataframe\">\n",
              "  <thead>\n",
              "    <tr style=\"text-align: right;\">\n",
              "      <th></th>\n",
              "      <th>name</th>\n",
              "      <th>similarity</th>\n",
              "      <th>genre</th>\n",
              "      <th>sypnopsis</th>\n",
              "    </tr>\n",
              "  </thead>\n",
              "  <tbody>\n",
              "    <tr>\n",
              "      <th>4</th>\n",
              "      <td>Dragon Ball</td>\n",
              "      <td>0.965606</td>\n",
              "      <td>Adventure, Comedy, Fantasy, Martial Arts, Shounen, Super Power</td>\n",
              "      <td>Gokuu Son is a young boy who lives in the woods all alone—that is, until a girl named Bulma runs into him in her search for a set of magical objects called the \"Dragon Balls.\" Since the artifacts are said to grant one wish to whoever collects all seven, Bulma hopes to gather them and wish for a perfect boyfriend. Gokuu happens to be in possession of a dragon ball, but unfortunately for Bulma, he refuses to part ways with it, so she makes him a deal: he can tag along on her journey if he lets her borrow the dragon ball's power. With that, the two set off on the journey of a lifetime. They don't go on the journey alone. On the way, they meet the old Muten-Roshi and wannabe disciple Kuririn, with whom Gokuu trains to become a stronger martial artist for the upcoming World Martial Arts Tournament. However, it's not all fun and games; the ability to make any wish come true is a powerful one, and there are others who would do much worse than just wishing for a boyfriend. To stop those who would try to abuse the legendary power, they train to become stronger fighters, using their newfound strength to help the people around them along the way.</td>\n",
              "    </tr>\n",
              "    <tr>\n",
              "      <th>3</th>\n",
              "      <td>Dragon Ball GT</td>\n",
              "      <td>0.914510</td>\n",
              "      <td>Action, Sci-Fi, Adventure, Comedy, Super Power, Magic, Fantasy, Shounen</td>\n",
              "      <td>Emperor Pilaf finally has his hands on the Black Star Dragon Balls after years of searching, which are said to be twice as powerful as Earth's normal ones. Pilaf is about to make his wish for world domination when he is interrupted by Gokuu Son. As a result, Pilaf flubs his wish and accidentally turns Gokuu back into a child. After the wish is granted, the Black Star Dragon Balls scatter across the galaxy. However, Gokuu discovers that they will cause the Earth to explode unless they are all brought back within a year. Uniting with his granddaughter Pan and a young adult Trunks, Gokuu sets off on an adventure through the universe to find the Black Star Dragon Balls and save his planet from destruction.</td>\n",
              "    </tr>\n",
              "    <tr>\n",
              "      <th>2</th>\n",
              "      <td>Dragon Ball Z Kai</td>\n",
              "      <td>0.784117</td>\n",
              "      <td>Action, Adventure, Comedy, Fantasy, Martial Arts, Shounen, Super Power</td>\n",
              "      <td>Five years after the events of Dragon Ball, martial arts expert Gokuu is now a grown man married to his wife Chi-Chi, with a four-year old son named Gohan. While attending a reunion on Turtle Island with his old friends Master Roshi, Krillin, Bulma and others, the festivities are interrupted when a humanoid alien named Raditz not only reveals the truth behind Gokuu's past, but kidnaps Gohan as well. With Raditz displaying power beyond anything Gokuu has seen before, he is forced to team up with his old nemesis, Piccolo, in order to rescue his son. But when Gokuu and Piccolo reveal the secret of the seven mystical wish-granting Dragon Balls to Raditz, he informs the duo that there is more of his race, the Saiyans, and they won’t pass up an opportunity to seize the power of the Dragon Balls for themselves. These events begin the saga of Dragon Ball Kai , a story that finds Gokuu and his friends and family constantly defending the galaxy from increasingly more powerful threats. Bizarre, comical, heartwarming and threatening characters come together in a series of battles that push the powers and abilities of Gokuu and his friends beyond anything they have ever experienced.</td>\n",
              "    </tr>\n",
              "    <tr>\n",
              "      <th>1</th>\n",
              "      <td>Dragon Ball Z:Broly – The Legendary Super Saiyan</td>\n",
              "      <td>0.734533</td>\n",
              "      <td>Action, Adventure, Comedy, Fantasy, Sci-Fi, Shounen</td>\n",
              "      <td>s Goku investigates the destruction of the Southern Galaxy, Vegeta is taken to be King of the New Planet Vegeta, and to destroy the Legendary Super Saiyan, Broly. (Source: ANN)</td>\n",
              "    </tr>\n",
              "    <tr>\n",
              "      <th>0</th>\n",
              "      <td>Dragon Ball Z Special 1:Bardock, The Father of Goku</td>\n",
              "      <td>0.730867</td>\n",
              "      <td>Adventure, Comedy, Fantasy, Sci-Fi, Shounen</td>\n",
              "      <td>Bardock, Son Goku's father, is a low-ranking Saiyan soldier who was given the power to see into the future by the last remaining alien on a planet he just destroyed. He witnesses the destruction of his race and must now do his best to stop Frieza's impending massacre. (Source: ANN)</td>\n",
              "    </tr>\n",
              "  </tbody>\n",
              "</table>\n",
              "</div>"
            ],
            "text/plain": [
              "                                                  name  ...                                                                                                                                                                                                                                                                                                                                                                                                                                                                                                                                                                                                                                                                                                                                                                                                                                                                                                                                                                                                                                                                                                                                                                                                                             sypnopsis\n",
              "4                                          Dragon Ball  ...                                     Gokuu Son is a young boy who lives in the woods all alone—that is, until a girl named Bulma runs into him in her search for a set of magical objects called the \"Dragon Balls.\" Since the artifacts are said to grant one wish to whoever collects all seven, Bulma hopes to gather them and wish for a perfect boyfriend. Gokuu happens to be in possession of a dragon ball, but unfortunately for Bulma, he refuses to part ways with it, so she makes him a deal: he can tag along on her journey if he lets her borrow the dragon ball's power. With that, the two set off on the journey of a lifetime. They don't go on the journey alone. On the way, they meet the old Muten-Roshi and wannabe disciple Kuririn, with whom Gokuu trains to become a stronger martial artist for the upcoming World Martial Arts Tournament. However, it's not all fun and games; the ability to make any wish come true is a powerful one, and there are others who would do much worse than just wishing for a boyfriend. To stop those who would try to abuse the legendary power, they train to become stronger fighters, using their newfound strength to help the people around them along the way.\n",
              "3                                       Dragon Ball GT  ...                                                                                                                                                                                                                                                                                                                                                                                                                                                                                               Emperor Pilaf finally has his hands on the Black Star Dragon Balls after years of searching, which are said to be twice as powerful as Earth's normal ones. Pilaf is about to make his wish for world domination when he is interrupted by Gokuu Son. As a result, Pilaf flubs his wish and accidentally turns Gokuu back into a child. After the wish is granted, the Black Star Dragon Balls scatter across the galaxy. However, Gokuu discovers that they will cause the Earth to explode unless they are all brought back within a year. Uniting with his granddaughter Pan and a young adult Trunks, Gokuu sets off on an adventure through the universe to find the Black Star Dragon Balls and save his planet from destruction.\n",
              "2                                    Dragon Ball Z Kai  ...  Five years after the events of Dragon Ball, martial arts expert Gokuu is now a grown man married to his wife Chi-Chi, with a four-year old son named Gohan. While attending a reunion on Turtle Island with his old friends Master Roshi, Krillin, Bulma and others, the festivities are interrupted when a humanoid alien named Raditz not only reveals the truth behind Gokuu's past, but kidnaps Gohan as well. With Raditz displaying power beyond anything Gokuu has seen before, he is forced to team up with his old nemesis, Piccolo, in order to rescue his son. But when Gokuu and Piccolo reveal the secret of the seven mystical wish-granting Dragon Balls to Raditz, he informs the duo that there is more of his race, the Saiyans, and they won’t pass up an opportunity to seize the power of the Dragon Balls for themselves. These events begin the saga of Dragon Ball Kai , a story that finds Gokuu and his friends and family constantly defending the galaxy from increasingly more powerful threats. Bizarre, comical, heartwarming and threatening characters come together in a series of battles that push the powers and abilities of Gokuu and his friends beyond anything they have ever experienced.\n",
              "1     Dragon Ball Z:Broly – The Legendary Super Saiyan  ...                                                                                                                                                                                                                                                                                                                                                                                                                                                                                                                                                                                                                                                                                                                                                                                                                                                                                                                                                                                                                                                      s Goku investigates the destruction of the Southern Galaxy, Vegeta is taken to be King of the New Planet Vegeta, and to destroy the Legendary Super Saiyan, Broly. (Source: ANN)\n",
              "0  Dragon Ball Z Special 1:Bardock, The Father of Goku  ...                                                                                                                                                                                                                                                                                                                                                                                                                                                                                                                                                                                                                                                                                                                                                                                                                                                                                                                                            Bardock, Son Goku's father, is a low-ranking Saiyan soldier who was given the power to see into the future by the last remaining alien on a planet he just destroyed. He witnesses the destruction of his race and must now do his best to stop Frieza's impending massacre. (Source: ANN)\n",
              "\n",
              "[5 rows x 4 columns]"
            ]
          },
          "metadata": {
            "tags": []
          },
          "execution_count": 34
        }
      ]
    },
    {
      "cell_type": "code",
      "metadata": {
        "colab": {
          "base_uri": "https://localhost:8080/",
          "height": 754
        },
        "id": "aYVKRcRf2aHT",
        "outputId": "b19ced5c-1c6d-4a35-ef49-28aab1257143"
      },
      "source": [
        "import tensorflow as tf\n",
        "from tensorflow.keras.utils import plot_model\n",
        "\n",
        "plot_model(model, to_file='./dot.png',show_shapes=True, show_layer_names=True)"
      ],
      "execution_count": 38,
      "outputs": [
        {
          "output_type": "execute_result",
          "data": {
            "image/png": "[encoded data removed]",
            "text/plain": [
              "<IPython.core.display.Image object>"
            ]
          },
          "metadata": {
            "tags": []
          },
          "execution_count": 38
        }
      ]
    }
  ]
}