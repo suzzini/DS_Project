{
  "nbformat": 4,
  "nbformat_minor": 0,
  "metadata": {
    "colab": {
      "name": "DS_Project1.ipynb의 사본의 사본의 사본",
      "provenance": [],
      "collapsed_sections": [],
      "mount_file_id": "1u5dpYcr92CEVZScRE4HozwCOThcBQlAe",
      "authorship_tag": "ABX9TyPFC5/IXWh277fR2YoogkAl",
      "include_colab_link": true
    },
    "kernelspec": {
      "name": "python3",
      "display_name": "Python 3"
    },
    "language_info": {
      "name": "python"
    }
  },
  "cells": [
    {
      "cell_type": "markdown",
      "metadata": {
        "id": "view-in-github",
        "colab_type": "text"
      },
      "source": [
        "<a href=\"https://colab.research.google.com/github/suzzini/DS_Project/blob/main/DS_Project1.ipynb\" target=\"_parent\"><img src=\"https://colab.research.google.com/assets/colab-badge.svg\" alt=\"Open In Colab\"/></a>"
      ]
    },
    {
      "cell_type": "markdown",
      "metadata": {
        "id": "wuYEPJSz6XoC"
      },
      "source": [
        "이수진님은 게임 회사의 데이터 팀에 합류했습니다.\n",
        "\n",
        "# **다음 분기에 어떤 게임을 설계해야 할까**\n",
        "\n",
        "라는 고민을 해결하기 위해, 기존의 데이터에 기반하여 인사이트를 얻고, 의사결정을 하고자 하는 것이 여러분의 목표입니다."
      ]
    },
    {
      "cell_type": "code",
      "metadata": {
        "id": "A1IOl7rDJeEC"
      },
      "source": [
        "import pandas as pd\n",
        "import numpy as np\n",
        "import seaborn as sns\n",
        "import matplotlib.pyplot as plt\n"
      ],
      "execution_count": null,
      "outputs": []
    },
    {
      "cell_type": "code",
      "metadata": {
        "colab": {
          "base_uri": "https://localhost:8080/",
          "height": 237
        },
        "id": "ijNYT9o6JroM",
        "outputId": "37488216-bf21-4872-9ac6-2bf1504e2f6e"
      },
      "source": [
        "df=pd.read_csv(\"/content/drive/MyDrive/DataScience/vgames2.csv\")\n",
        "df.head()"
      ],
      "execution_count": null,
      "outputs": [
        {
          "output_type": "execute_result",
          "data": {
            "text/html": [
              "<div>\n",
              "<style scoped>\n",
              "    .dataframe tbody tr th:only-of-type {\n",
              "        vertical-align: middle;\n",
              "    }\n",
              "\n",
              "    .dataframe tbody tr th {\n",
              "        vertical-align: top;\n",
              "    }\n",
              "\n",
              "    .dataframe thead th {\n",
              "        text-align: right;\n",
              "    }\n",
              "</style>\n",
              "<table border=\"1\" class=\"dataframe\">\n",
              "  <thead>\n",
              "    <tr style=\"text-align: right;\">\n",
              "      <th></th>\n",
              "      <th>Unnamed: 0</th>\n",
              "      <th>Name</th>\n",
              "      <th>Platform</th>\n",
              "      <th>Year</th>\n",
              "      <th>Genre</th>\n",
              "      <th>Publisher</th>\n",
              "      <th>NA_Sales</th>\n",
              "      <th>EU_Sales</th>\n",
              "      <th>JP_Sales</th>\n",
              "      <th>Other_Sales</th>\n",
              "    </tr>\n",
              "  </thead>\n",
              "  <tbody>\n",
              "    <tr>\n",
              "      <th>0</th>\n",
              "      <td>1</td>\n",
              "      <td>Candace Kane's Candy Factory</td>\n",
              "      <td>DS</td>\n",
              "      <td>2008.0</td>\n",
              "      <td>Action</td>\n",
              "      <td>Destineer</td>\n",
              "      <td>0.04</td>\n",
              "      <td>0</td>\n",
              "      <td>0</td>\n",
              "      <td>0</td>\n",
              "    </tr>\n",
              "    <tr>\n",
              "      <th>1</th>\n",
              "      <td>2</td>\n",
              "      <td>The Munchables</td>\n",
              "      <td>Wii</td>\n",
              "      <td>2009.0</td>\n",
              "      <td>Action</td>\n",
              "      <td>Namco Bandai Games</td>\n",
              "      <td>0.17</td>\n",
              "      <td>0</td>\n",
              "      <td>0</td>\n",
              "      <td>0.01</td>\n",
              "    </tr>\n",
              "    <tr>\n",
              "      <th>2</th>\n",
              "      <td>3</td>\n",
              "      <td>Otome wa Oanesama Boku ni Koi Shiteru Portable</td>\n",
              "      <td>PSP</td>\n",
              "      <td>2010.0</td>\n",
              "      <td>Adventure</td>\n",
              "      <td>Alchemist</td>\n",
              "      <td>0</td>\n",
              "      <td>0</td>\n",
              "      <td>0.02</td>\n",
              "      <td>0</td>\n",
              "    </tr>\n",
              "    <tr>\n",
              "      <th>3</th>\n",
              "      <td>4</td>\n",
              "      <td>Deal or No Deal: Special Edition</td>\n",
              "      <td>DS</td>\n",
              "      <td>2010.0</td>\n",
              "      <td>Misc</td>\n",
              "      <td>Zoo Games</td>\n",
              "      <td>0.04</td>\n",
              "      <td>0</td>\n",
              "      <td>0</td>\n",
              "      <td>0</td>\n",
              "    </tr>\n",
              "    <tr>\n",
              "      <th>4</th>\n",
              "      <td>5</td>\n",
              "      <td>Ben 10 Ultimate Alien: Cosmic Destruction</td>\n",
              "      <td>PS3</td>\n",
              "      <td>2010.0</td>\n",
              "      <td>Platform</td>\n",
              "      <td>D3Publisher</td>\n",
              "      <td>0.12</td>\n",
              "      <td>0.09</td>\n",
              "      <td>0</td>\n",
              "      <td>0.04</td>\n",
              "    </tr>\n",
              "  </tbody>\n",
              "</table>\n",
              "</div>"
            ],
            "text/plain": [
              "   Unnamed: 0  ... Other_Sales\n",
              "0           1  ...           0\n",
              "1           2  ...        0.01\n",
              "2           3  ...           0\n",
              "3           4  ...           0\n",
              "4           5  ...        0.04\n",
              "\n",
              "[5 rows x 10 columns]"
            ]
          },
          "metadata": {
            "tags": []
          },
          "execution_count": 2
        }
      ]
    },
    {
      "cell_type": "code",
      "metadata": {
        "id": "HicJJkc57yUx"
      },
      "source": [
        "df=df.iloc[:,1:10]"
      ],
      "execution_count": null,
      "outputs": []
    },
    {
      "cell_type": "code",
      "metadata": {
        "colab": {
          "base_uri": "https://localhost:8080/",
          "height": 36
        },
        "id": "24DU2qUNFqoE",
        "outputId": "5c212f61-c3a8-4313-94b2-15e6a42a2ffe"
      },
      "source": [
        "#M 제거\n",
        "df['NA_Sales']=df['NA_Sales'].str.replace('M','')\n",
        "df['EU_Sales']=df['EU_Sales'].str.replace('M','')\n",
        "df['JP_Sales']=df['JP_Sales'].str.replace('M','')\n",
        "df['Other_Sales']=df['Other_Sales'].str.replace('M','')\n",
        "df['NA_Sales'][458]"
      ],
      "execution_count": null,
      "outputs": [
        {
          "output_type": "execute_result",
          "data": {
            "application/vnd.google.colaboratory.intrinsic+json": {
              "type": "string"
            },
            "text/plain": [
              "'0.25'"
            ]
          },
          "metadata": {
            "tags": []
          },
          "execution_count": 4
        }
      ]
    },
    {
      "cell_type": "code",
      "metadata": {
        "colab": {
          "base_uri": "https://localhost:8080/"
        },
        "id": "BRHuvjujUiqn",
        "outputId": "29643462-ba9d-433f-a9f6-45411d9830f2"
      },
      "source": [
        "#변수를 임의로 설정하면 안되는 것인가 ?? \n",
        "\n",
        "#K단위들을 모두 M단위로 바꾸기(x1000)\n",
        "\n",
        "df['NA_Sales'][df['NA_Sales'].str.contains('K')==True]=df['NA_Sales'][df['NA_Sales'].str.contains('K')==True].str.replace('K','').astype('float')/1000\n",
        "df['EU_Sales'][df['EU_Sales'].str.contains('K')==True]=df['EU_Sales'][df['EU_Sales'].str.contains('K')==True].str.replace('K','').astype('float')/1000\n",
        "df['JP_Sales'][df['JP_Sales'].str.contains('K')==True]=df['JP_Sales'][df['JP_Sales'].str.contains('K')==True].str.replace('K','').astype('float')/1000\n",
        "df['Other_Sales'][df['Other_Sales'].str.contains('K')==True]=df['Other_Sales'][df['Other_Sales'].str.contains('K')==True].str.replace('K','').astype('float')/1000"
      ],
      "execution_count": null,
      "outputs": [
        {
          "output_type": "stream",
          "text": [
            "/usr/local/lib/python3.7/dist-packages/ipykernel_launcher.py:5: SettingWithCopyWarning: \n",
            "A value is trying to be set on a copy of a slice from a DataFrame\n",
            "\n",
            "See the caveats in the documentation: https://pandas.pydata.org/pandas-docs/stable/user_guide/indexing.html#returning-a-view-versus-a-copy\n",
            "  \"\"\"\n",
            "/usr/local/lib/python3.7/dist-packages/ipykernel_launcher.py:6: SettingWithCopyWarning: \n",
            "A value is trying to be set on a copy of a slice from a DataFrame\n",
            "\n",
            "See the caveats in the documentation: https://pandas.pydata.org/pandas-docs/stable/user_guide/indexing.html#returning-a-view-versus-a-copy\n",
            "  \n",
            "/usr/local/lib/python3.7/dist-packages/ipykernel_launcher.py:7: SettingWithCopyWarning: \n",
            "A value is trying to be set on a copy of a slice from a DataFrame\n",
            "\n",
            "See the caveats in the documentation: https://pandas.pydata.org/pandas-docs/stable/user_guide/indexing.html#returning-a-view-versus-a-copy\n",
            "  import sys\n",
            "/usr/local/lib/python3.7/dist-packages/ipykernel_launcher.py:8: SettingWithCopyWarning: \n",
            "A value is trying to be set on a copy of a slice from a DataFrame\n",
            "\n",
            "See the caveats in the documentation: https://pandas.pydata.org/pandas-docs/stable/user_guide/indexing.html#returning-a-view-versus-a-copy\n",
            "  \n"
          ],
          "name": "stderr"
        }
      ]
    },
    {
      "cell_type": "code",
      "metadata": {
        "id": "RHOWbUp5PELZ"
      },
      "source": [
        "df['NA_Sales']=df['NA_Sales'].astype(float)\n",
        "df['EU_Sales']=df['EU_Sales'].astype(float)\n",
        "df['JP_Sales']=df['JP_Sales'].astype(float)\n",
        "df['Other_Sales']=df['Other_Sales'].astype(float)"
      ],
      "execution_count": null,
      "outputs": []
    },
    {
      "cell_type": "code",
      "metadata": {
        "colab": {
          "base_uri": "https://localhost:8080/"
        },
        "id": "cMZ-BrCyX0DZ",
        "outputId": "823b25f9-a021-4c9e-acb6-dd7ae1513534"
      },
      "source": [
        "df.isnull().sum()"
      ],
      "execution_count": null,
      "outputs": [
        {
          "output_type": "execute_result",
          "data": {
            "text/plain": [
              "Name             0\n",
              "Platform         0\n",
              "Year           271\n",
              "Genre           50\n",
              "Publisher       58\n",
              "NA_Sales         0\n",
              "EU_Sales         0\n",
              "JP_Sales         0\n",
              "Other_Sales      0\n",
              "dtype: int64"
            ]
          },
          "metadata": {
            "tags": []
          },
          "execution_count": 7
        }
      ]
    },
    {
      "cell_type": "markdown",
      "metadata": {
        "id": "ig7fUrFd6fJC"
      },
      "source": [
        "1. 지역에 따라서 선호하는 게임 장르가 다를까 라는 질문에 대답을 하셔야합니다.\n",
        "\n",
        "2. 연도별 게임의 트렌드가 있을까 라는 질문에 대답을 하셔야합니다.\n",
        "\n",
        "3. 출고량이 높은 게임에 대한 분석 및 시각화 프로세스가 포함되어야 합니다.\n",
        "\n",
        "위 3가지 내용과 여러분들의 개인적인 분석 목표, 질문을 더하여 프로젝트를 완성하세요."
      ]
    },
    {
      "cell_type": "code",
      "metadata": {
        "colab": {
          "base_uri": "https://localhost:8080/",
          "height": 202
        },
        "id": "NI4cDHrw90N0",
        "outputId": "c9bdee87-1a66-40e6-f488-441584886c07"
      },
      "source": [
        "#sum_sales feature 만들기\n",
        "\n",
        "df['sum_sales']=df['NA_Sales']+df['EU_Sales']+df['JP_Sales']+df['Other_Sales']\n",
        "df.head()"
      ],
      "execution_count": null,
      "outputs": [
        {
          "output_type": "execute_result",
          "data": {
            "text/html": [
              "<div>\n",
              "<style scoped>\n",
              "    .dataframe tbody tr th:only-of-type {\n",
              "        vertical-align: middle;\n",
              "    }\n",
              "\n",
              "    .dataframe tbody tr th {\n",
              "        vertical-align: top;\n",
              "    }\n",
              "\n",
              "    .dataframe thead th {\n",
              "        text-align: right;\n",
              "    }\n",
              "</style>\n",
              "<table border=\"1\" class=\"dataframe\">\n",
              "  <thead>\n",
              "    <tr style=\"text-align: right;\">\n",
              "      <th></th>\n",
              "      <th>Name</th>\n",
              "      <th>Platform</th>\n",
              "      <th>Year</th>\n",
              "      <th>Genre</th>\n",
              "      <th>Publisher</th>\n",
              "      <th>NA_Sales</th>\n",
              "      <th>EU_Sales</th>\n",
              "      <th>JP_Sales</th>\n",
              "      <th>Other_Sales</th>\n",
              "      <th>sum_sales</th>\n",
              "    </tr>\n",
              "  </thead>\n",
              "  <tbody>\n",
              "    <tr>\n",
              "      <th>0</th>\n",
              "      <td>Candace Kane's Candy Factory</td>\n",
              "      <td>DS</td>\n",
              "      <td>2008.0</td>\n",
              "      <td>Action</td>\n",
              "      <td>Destineer</td>\n",
              "      <td>0.04</td>\n",
              "      <td>0.00</td>\n",
              "      <td>0.00</td>\n",
              "      <td>0.00</td>\n",
              "      <td>0.04</td>\n",
              "    </tr>\n",
              "    <tr>\n",
              "      <th>1</th>\n",
              "      <td>The Munchables</td>\n",
              "      <td>Wii</td>\n",
              "      <td>2009.0</td>\n",
              "      <td>Action</td>\n",
              "      <td>Namco Bandai Games</td>\n",
              "      <td>0.17</td>\n",
              "      <td>0.00</td>\n",
              "      <td>0.00</td>\n",
              "      <td>0.01</td>\n",
              "      <td>0.18</td>\n",
              "    </tr>\n",
              "    <tr>\n",
              "      <th>2</th>\n",
              "      <td>Otome wa Oanesama Boku ni Koi Shiteru Portable</td>\n",
              "      <td>PSP</td>\n",
              "      <td>2010.0</td>\n",
              "      <td>Adventure</td>\n",
              "      <td>Alchemist</td>\n",
              "      <td>0.00</td>\n",
              "      <td>0.00</td>\n",
              "      <td>0.02</td>\n",
              "      <td>0.00</td>\n",
              "      <td>0.02</td>\n",
              "    </tr>\n",
              "    <tr>\n",
              "      <th>3</th>\n",
              "      <td>Deal or No Deal: Special Edition</td>\n",
              "      <td>DS</td>\n",
              "      <td>2010.0</td>\n",
              "      <td>Misc</td>\n",
              "      <td>Zoo Games</td>\n",
              "      <td>0.04</td>\n",
              "      <td>0.00</td>\n",
              "      <td>0.00</td>\n",
              "      <td>0.00</td>\n",
              "      <td>0.04</td>\n",
              "    </tr>\n",
              "    <tr>\n",
              "      <th>4</th>\n",
              "      <td>Ben 10 Ultimate Alien: Cosmic Destruction</td>\n",
              "      <td>PS3</td>\n",
              "      <td>2010.0</td>\n",
              "      <td>Platform</td>\n",
              "      <td>D3Publisher</td>\n",
              "      <td>0.12</td>\n",
              "      <td>0.09</td>\n",
              "      <td>0.00</td>\n",
              "      <td>0.04</td>\n",
              "      <td>0.25</td>\n",
              "    </tr>\n",
              "  </tbody>\n",
              "</table>\n",
              "</div>"
            ],
            "text/plain": [
              "                                             Name  ... sum_sales\n",
              "0                    Candace Kane's Candy Factory  ...      0.04\n",
              "1                                  The Munchables  ...      0.18\n",
              "2  Otome wa Oanesama Boku ni Koi Shiteru Portable  ...      0.02\n",
              "3                Deal or No Deal: Special Edition  ...      0.04\n",
              "4       Ben 10 Ultimate Alien: Cosmic Destruction  ...      0.25\n",
              "\n",
              "[5 rows x 10 columns]"
            ]
          },
          "metadata": {
            "tags": []
          },
          "execution_count": 8
        }
      ]
    },
    {
      "cell_type": "code",
      "metadata": {
        "colab": {
          "base_uri": "https://localhost:8080/"
        },
        "id": "VIbVcnU1FZfb",
        "outputId": "adbe60f7-3680-4216-cab6-0d389162e347"
      },
      "source": [
        "# Year이 20년 이하면 +2000, 20 초과이면 +1900\n",
        "df['Year'][df['Year']<=20]=df['Year'][df['Year']<=20]+2000\n",
        "df['Year'][(df['Year']>20) & (df['Year']<100)]=df['Year'][(df['Year']>20) & (df['Year']<100)]+1900"
      ],
      "execution_count": null,
      "outputs": [
        {
          "output_type": "stream",
          "text": [
            "/usr/local/lib/python3.7/dist-packages/ipykernel_launcher.py:2: SettingWithCopyWarning: \n",
            "A value is trying to be set on a copy of a slice from a DataFrame\n",
            "\n",
            "See the caveats in the documentation: https://pandas.pydata.org/pandas-docs/stable/user_guide/indexing.html#returning-a-view-versus-a-copy\n",
            "  \n",
            "/usr/local/lib/python3.7/dist-packages/ipykernel_launcher.py:3: SettingWithCopyWarning: \n",
            "A value is trying to be set on a copy of a slice from a DataFrame\n",
            "\n",
            "See the caveats in the documentation: https://pandas.pydata.org/pandas-docs/stable/user_guide/indexing.html#returning-a-view-versus-a-copy\n",
            "  This is separate from the ipykernel package so we can avoid doing imports until\n"
          ],
          "name": "stderr"
        }
      ]
    },
    {
      "cell_type": "code",
      "metadata": {
        "colab": {
          "base_uri": "https://localhost:8080/",
          "height": 447
        },
        "id": "bU54yyiC6e6L",
        "outputId": "bc6331ba-0e5f-41fe-c583-689cc91b59c5"
      },
      "source": [
        "df.groupby('Genre').mean().iloc[:,1:6]"
      ],
      "execution_count": null,
      "outputs": [
        {
          "output_type": "execute_result",
          "data": {
            "text/html": [
              "<div>\n",
              "<style scoped>\n",
              "    .dataframe tbody tr th:only-of-type {\n",
              "        vertical-align: middle;\n",
              "    }\n",
              "\n",
              "    .dataframe tbody tr th {\n",
              "        vertical-align: top;\n",
              "    }\n",
              "\n",
              "    .dataframe thead th {\n",
              "        text-align: right;\n",
              "    }\n",
              "</style>\n",
              "<table border=\"1\" class=\"dataframe\">\n",
              "  <thead>\n",
              "    <tr style=\"text-align: right;\">\n",
              "      <th></th>\n",
              "      <th>NA_Sales</th>\n",
              "      <th>EU_Sales</th>\n",
              "      <th>JP_Sales</th>\n",
              "      <th>Other_Sales</th>\n",
              "      <th>sum_sales</th>\n",
              "    </tr>\n",
              "    <tr>\n",
              "      <th>Genre</th>\n",
              "      <th></th>\n",
              "      <th></th>\n",
              "      <th></th>\n",
              "      <th></th>\n",
              "      <th></th>\n",
              "    </tr>\n",
              "  </thead>\n",
              "  <tbody>\n",
              "    <tr>\n",
              "      <th>Action</th>\n",
              "      <td>0.264693</td>\n",
              "      <td>0.157991</td>\n",
              "      <td>0.047776</td>\n",
              "      <td>0.056415</td>\n",
              "      <td>0.526874</td>\n",
              "    </tr>\n",
              "    <tr>\n",
              "      <th>Adventure</th>\n",
              "      <td>0.082547</td>\n",
              "      <td>0.050039</td>\n",
              "      <td>0.040586</td>\n",
              "      <td>0.013133</td>\n",
              "      <td>0.186305</td>\n",
              "    </tr>\n",
              "    <tr>\n",
              "      <th>Fighting</th>\n",
              "      <td>0.263518</td>\n",
              "      <td>0.119504</td>\n",
              "      <td>0.103117</td>\n",
              "      <td>0.043259</td>\n",
              "      <td>0.529398</td>\n",
              "    </tr>\n",
              "    <tr>\n",
              "      <th>Misc</th>\n",
              "      <td>0.235323</td>\n",
              "      <td>0.122468</td>\n",
              "      <td>0.060709</td>\n",
              "      <td>0.042699</td>\n",
              "      <td>0.461200</td>\n",
              "    </tr>\n",
              "    <tr>\n",
              "      <th>Platform</th>\n",
              "      <td>0.505023</td>\n",
              "      <td>0.228066</td>\n",
              "      <td>0.147794</td>\n",
              "      <td>0.058292</td>\n",
              "      <td>0.939174</td>\n",
              "    </tr>\n",
              "    <tr>\n",
              "      <th>Puzzle</th>\n",
              "      <td>0.213408</td>\n",
              "      <td>0.087768</td>\n",
              "      <td>0.098391</td>\n",
              "      <td>0.021661</td>\n",
              "      <td>0.421228</td>\n",
              "    </tr>\n",
              "    <tr>\n",
              "      <th>Racing</th>\n",
              "      <td>0.287361</td>\n",
              "      <td>0.190748</td>\n",
              "      <td>0.045374</td>\n",
              "      <td>0.062027</td>\n",
              "      <td>0.585511</td>\n",
              "    </tr>\n",
              "    <tr>\n",
              "      <th>Role-Playing</th>\n",
              "      <td>0.215469</td>\n",
              "      <td>0.123790</td>\n",
              "      <td>0.232603</td>\n",
              "      <td>0.038409</td>\n",
              "      <td>0.610270</td>\n",
              "    </tr>\n",
              "    <tr>\n",
              "      <th>Shooter</th>\n",
              "      <td>0.444893</td>\n",
              "      <td>0.239335</td>\n",
              "      <td>0.029266</td>\n",
              "      <td>0.078479</td>\n",
              "      <td>0.791972</td>\n",
              "    </tr>\n",
              "    <tr>\n",
              "      <th>Simulation</th>\n",
              "      <td>0.211514</td>\n",
              "      <td>0.131040</td>\n",
              "      <td>0.073642</td>\n",
              "      <td>0.036393</td>\n",
              "      <td>0.452590</td>\n",
              "    </tr>\n",
              "    <tr>\n",
              "      <th>Sports</th>\n",
              "      <td>0.290696</td>\n",
              "      <td>0.160820</td>\n",
              "      <td>0.057826</td>\n",
              "      <td>0.057527</td>\n",
              "      <td>0.566869</td>\n",
              "    </tr>\n",
              "    <tr>\n",
              "      <th>Strategy</th>\n",
              "      <td>0.101029</td>\n",
              "      <td>0.066647</td>\n",
              "      <td>0.072735</td>\n",
              "      <td>0.016706</td>\n",
              "      <td>0.257118</td>\n",
              "    </tr>\n",
              "  </tbody>\n",
              "</table>\n",
              "</div>"
            ],
            "text/plain": [
              "              NA_Sales  EU_Sales  JP_Sales  Other_Sales  sum_sales\n",
              "Genre                                                             \n",
              "Action        0.264693  0.157991  0.047776     0.056415   0.526874\n",
              "Adventure     0.082547  0.050039  0.040586     0.013133   0.186305\n",
              "Fighting      0.263518  0.119504  0.103117     0.043259   0.529398\n",
              "Misc          0.235323  0.122468  0.060709     0.042699   0.461200\n",
              "Platform      0.505023  0.228066  0.147794     0.058292   0.939174\n",
              "Puzzle        0.213408  0.087768  0.098391     0.021661   0.421228\n",
              "Racing        0.287361  0.190748  0.045374     0.062027   0.585511\n",
              "Role-Playing  0.215469  0.123790  0.232603     0.038409   0.610270\n",
              "Shooter       0.444893  0.239335  0.029266     0.078479   0.791972\n",
              "Simulation    0.211514  0.131040  0.073642     0.036393   0.452590\n",
              "Sports        0.290696  0.160820  0.057826     0.057527   0.566869\n",
              "Strategy      0.101029  0.066647  0.072735     0.016706   0.257118"
            ]
          },
          "metadata": {
            "tags": []
          },
          "execution_count": 10
        }
      ]
    },
    {
      "cell_type": "code",
      "metadata": {
        "colab": {
          "base_uri": "https://localhost:8080/"
        },
        "id": "Ku9YxRNphbG8",
        "outputId": "57412bc4-329f-4b74-cf57-2cfba1a9c69e"
      },
      "source": [
        "df.isnull().sum()"
      ],
      "execution_count": null,
      "outputs": [
        {
          "output_type": "execute_result",
          "data": {
            "text/plain": [
              "Name             0\n",
              "Platform         0\n",
              "Year           271\n",
              "Genre           50\n",
              "Publisher       58\n",
              "NA_Sales         0\n",
              "EU_Sales         0\n",
              "JP_Sales         0\n",
              "Other_Sales      0\n",
              "sum_sales        0\n",
              "dtype: int64"
            ]
          },
          "metadata": {
            "tags": []
          },
          "execution_count": 11
        }
      ]
    },
    {
      "cell_type": "code",
      "metadata": {
        "id": "2I6rYU7cS9tl"
      },
      "source": [
        "def new_year_col(x):\n",
        "  if x<1991:\n",
        "    return '80\\'s'\n",
        "  elif x<2001:\n",
        "    return '90\\'s'\n",
        "  elif x<2011:\n",
        "    return '00\\'s'\n",
        "  elif x<2021:\n",
        "    return '10\\'s'"
      ],
      "execution_count": null,
      "outputs": []
    },
    {
      "cell_type": "code",
      "metadata": {
        "colab": {
          "base_uri": "https://localhost:8080/",
          "height": 233
        },
        "id": "5TKGQOkGTzDj",
        "outputId": "30a36d47-eb1a-40aa-c28a-a640c8bdb540"
      },
      "source": [
        "#genre나 year에 결측치가 있는 행은 제거\n",
        "\n",
        "df['new_year']=df['Year'].apply(new_year_col)\n",
        "G_Y=df[['Genre','new_year']]\n",
        "\n",
        "G_Y=pd.DataFrame(G_Y.value_counts())\n",
        "G_Y=pd.pivot_table(G_Y,index='new_year',columns='Genre',fill_value=0)\n",
        "G_Y"
      ],
      "execution_count": null,
      "outputs": [
        {
          "output_type": "execute_result",
          "data": {
            "text/html": [
              "<div>\n",
              "<style scoped>\n",
              "    .dataframe tbody tr th:only-of-type {\n",
              "        vertical-align: middle;\n",
              "    }\n",
              "\n",
              "    .dataframe tbody tr th {\n",
              "        vertical-align: top;\n",
              "    }\n",
              "\n",
              "    .dataframe thead tr th {\n",
              "        text-align: left;\n",
              "    }\n",
              "\n",
              "    .dataframe thead tr:last-of-type th {\n",
              "        text-align: right;\n",
              "    }\n",
              "</style>\n",
              "<table border=\"1\" class=\"dataframe\">\n",
              "  <thead>\n",
              "    <tr>\n",
              "      <th></th>\n",
              "      <th colspan=\"12\" halign=\"left\">0</th>\n",
              "    </tr>\n",
              "    <tr>\n",
              "      <th>Genre</th>\n",
              "      <th>Action</th>\n",
              "      <th>Adventure</th>\n",
              "      <th>Fighting</th>\n",
              "      <th>Misc</th>\n",
              "      <th>Platform</th>\n",
              "      <th>Puzzle</th>\n",
              "      <th>Racing</th>\n",
              "      <th>Role-Playing</th>\n",
              "      <th>Shooter</th>\n",
              "      <th>Simulation</th>\n",
              "      <th>Sports</th>\n",
              "      <th>Strategy</th>\n",
              "    </tr>\n",
              "    <tr>\n",
              "      <th>new_year</th>\n",
              "      <th></th>\n",
              "      <th></th>\n",
              "      <th></th>\n",
              "      <th></th>\n",
              "      <th></th>\n",
              "      <th></th>\n",
              "      <th></th>\n",
              "      <th></th>\n",
              "      <th></th>\n",
              "      <th></th>\n",
              "      <th></th>\n",
              "      <th></th>\n",
              "    </tr>\n",
              "  </thead>\n",
              "  <tbody>\n",
              "    <tr>\n",
              "      <th>00's</th>\n",
              "      <td>1762</td>\n",
              "      <td>769</td>\n",
              "      <td>453</td>\n",
              "      <td>1201</td>\n",
              "      <td>572</td>\n",
              "      <td>394</td>\n",
              "      <td>811</td>\n",
              "      <td>803</td>\n",
              "      <td>779</td>\n",
              "      <td>617</td>\n",
              "      <td>1508</td>\n",
              "      <td>416</td>\n",
              "    </tr>\n",
              "    <tr>\n",
              "      <th>10's</th>\n",
              "      <td>1210</td>\n",
              "      <td>386</td>\n",
              "      <td>156</td>\n",
              "      <td>361</td>\n",
              "      <td>120</td>\n",
              "      <td>71</td>\n",
              "      <td>177</td>\n",
              "      <td>454</td>\n",
              "      <td>314</td>\n",
              "      <td>128</td>\n",
              "      <td>384</td>\n",
              "      <td>115</td>\n",
              "    </tr>\n",
              "    <tr>\n",
              "      <th>80's</th>\n",
              "      <td>69</td>\n",
              "      <td>2</td>\n",
              "      <td>4</td>\n",
              "      <td>8</td>\n",
              "      <td>36</td>\n",
              "      <td>21</td>\n",
              "      <td>10</td>\n",
              "      <td>11</td>\n",
              "      <td>30</td>\n",
              "      <td>4</td>\n",
              "      <td>25</td>\n",
              "      <td>0</td>\n",
              "    </tr>\n",
              "    <tr>\n",
              "      <th>90's</th>\n",
              "      <td>201</td>\n",
              "      <td>113</td>\n",
              "      <td>222</td>\n",
              "      <td>135</td>\n",
              "      <td>146</td>\n",
              "      <td>81</td>\n",
              "      <td>222</td>\n",
              "      <td>198</td>\n",
              "      <td>157</td>\n",
              "      <td>100</td>\n",
              "      <td>382</td>\n",
              "      <td>139</td>\n",
              "    </tr>\n",
              "  </tbody>\n",
              "</table>\n",
              "</div>"
            ],
            "text/plain": [
              "              0                           ...                                   \n",
              "Genre    Action Adventure Fighting  Misc  ... Shooter Simulation Sports Strategy\n",
              "new_year                                  ...                                   \n",
              "00's       1762       769      453  1201  ...     779        617   1508      416\n",
              "10's       1210       386      156   361  ...     314        128    384      115\n",
              "80's         69         2        4     8  ...      30          4     25        0\n",
              "90's        201       113      222   135  ...     157        100    382      139\n",
              "\n",
              "[4 rows x 12 columns]"
            ]
          },
          "metadata": {
            "tags": []
          },
          "execution_count": 13
        }
      ]
    },
    {
      "cell_type": "code",
      "metadata": {
        "id": "NoSxho-DT8OT"
      },
      "source": [
        "G_Y=np.array(G_Y)\n",
        "\n",
        "G_Y=pd.DataFrame(G_Y,index=['00\\'s','10\\'s','80\\'s','90\\'s'],columns=['Action',\t'Adventure','Fighting',\t'Misc',\t'Platform',\t'Puzzle',\t'Racing',\t'Role-Playing',\t'Shooter',\t'Simulation',\t'Sports','Strategy'])"
      ],
      "execution_count": null,
      "outputs": []
    },
    {
      "cell_type": "code",
      "metadata": {
        "colab": {
          "base_uri": "https://localhost:8080/"
        },
        "id": "ka5HAZyRVvlt",
        "outputId": "41ea3caa-a2ea-46e2-eafc-ddb48554f77f"
      },
      "source": [
        "G_Y=G_Y.reindex(index=['80\\'s','90\\'s','00\\'s','10\\'s'])\n",
        "G_Y.sum()"
      ],
      "execution_count": null,
      "outputs": [
        {
          "output_type": "execute_result",
          "data": {
            "text/plain": [
              "Action          3242\n",
              "Adventure       1270\n",
              "Fighting         835\n",
              "Misc            1705\n",
              "Platform         874\n",
              "Puzzle           567\n",
              "Racing          1220\n",
              "Role-Playing    1466\n",
              "Shooter         1280\n",
              "Simulation       849\n",
              "Sports          2299\n",
              "Strategy         670\n",
              "dtype: int64"
            ]
          },
          "metadata": {
            "tags": []
          },
          "execution_count": 15
        }
      ]
    },
    {
      "cell_type": "code",
      "metadata": {
        "colab": {
          "base_uri": "https://localhost:8080/",
          "height": 441
        },
        "id": "y-MXnh5PTsaj",
        "outputId": "dc06e383-c2e0-4cf6-8ca0-159065d9ad78"
      },
      "source": [
        "G_Y.plot(kind='bar',figsize=(12, 6))\n",
        "\n",
        "plt.title('Genre Distribution', fontsize=15)\n",
        "plt.xlabel('Year',fontsize=15)\n",
        "plt.ylabel('Number of release',fontsize=15)   "
      ],
      "execution_count": null,
      "outputs": [
        {
          "output_type": "execute_result",
          "data": {
            "text/plain": [
              "Text(0, 0.5, 'Number of release')"
            ]
          },
          "metadata": {
            "tags": []
          },
          "execution_count": 16
        },
        {
          "output_type": "display_data",
          "data": {
            "image/png": "[encoded data removed]",
            "text/plain": [
              "<Figure size 864x432 with 1 Axes>"
            ]
          },
          "metadata": {
            "tags": [],
            "needs_background": "light"
          }
        }
      ]
    },
    {
      "cell_type": "code",
      "metadata": {
        "colab": {
          "base_uri": "https://localhost:8080/",
          "height": 1000
        },
        "id": "KSKNaxaCpP_J",
        "outputId": "1a046a65-9a1d-4948-cd81-9b19229d4462"
      },
      "source": [
        "#연도별 게임 트렌드\n",
        "G_Y2=df[['Genre','new_year','sum_sales']]\n",
        "G_Y2=G_Y2.groupby(['new_year','Genre']).mean()\n",
        "G_Y2#.sort_values(['sum_sales'])"
      ],
      "execution_count": null,
      "outputs": [
        {
          "output_type": "execute_result",
          "data": {
            "text/html": [
              "<div>\n",
              "<style scoped>\n",
              "    .dataframe tbody tr th:only-of-type {\n",
              "        vertical-align: middle;\n",
              "    }\n",
              "\n",
              "    .dataframe tbody tr th {\n",
              "        vertical-align: top;\n",
              "    }\n",
              "\n",
              "    .dataframe thead th {\n",
              "        text-align: right;\n",
              "    }\n",
              "</style>\n",
              "<table border=\"1\" class=\"dataframe\">\n",
              "  <thead>\n",
              "    <tr style=\"text-align: right;\">\n",
              "      <th></th>\n",
              "      <th></th>\n",
              "      <th>sum_sales</th>\n",
              "    </tr>\n",
              "    <tr>\n",
              "      <th>new_year</th>\n",
              "      <th>Genre</th>\n",
              "      <th></th>\n",
              "    </tr>\n",
              "  </thead>\n",
              "  <tbody>\n",
              "    <tr>\n",
              "      <th rowspan=\"12\" valign=\"top\">00's</th>\n",
              "      <th>Action</th>\n",
              "      <td>0.531635</td>\n",
              "    </tr>\n",
              "    <tr>\n",
              "      <th>Adventure</th>\n",
              "      <td>0.178648</td>\n",
              "    </tr>\n",
              "    <tr>\n",
              "      <th>Fighting</th>\n",
              "      <td>0.498631</td>\n",
              "    </tr>\n",
              "    <tr>\n",
              "      <th>Misc</th>\n",
              "      <td>0.465520</td>\n",
              "    </tr>\n",
              "    <tr>\n",
              "      <th>Platform</th>\n",
              "      <td>0.685420</td>\n",
              "    </tr>\n",
              "    <tr>\n",
              "      <th>Puzzle</th>\n",
              "      <td>0.317716</td>\n",
              "    </tr>\n",
              "    <tr>\n",
              "      <th>Racing</th>\n",
              "      <td>0.558483</td>\n",
              "    </tr>\n",
              "    <tr>\n",
              "      <th>Role-Playing</th>\n",
              "      <td>0.565031</td>\n",
              "    </tr>\n",
              "    <tr>\n",
              "      <th>Shooter</th>\n",
              "      <td>0.647060</td>\n",
              "    </tr>\n",
              "    <tr>\n",
              "      <th>Simulation</th>\n",
              "      <td>0.460827</td>\n",
              "    </tr>\n",
              "    <tr>\n",
              "      <th>Sports</th>\n",
              "      <td>0.566041</td>\n",
              "    </tr>\n",
              "    <tr>\n",
              "      <th>Strategy</th>\n",
              "      <td>0.204615</td>\n",
              "    </tr>\n",
              "    <tr>\n",
              "      <th rowspan=\"12\" valign=\"top\">10's</th>\n",
              "      <th>Action</th>\n",
              "      <td>0.456314</td>\n",
              "    </tr>\n",
              "    <tr>\n",
              "      <th>Adventure</th>\n",
              "      <td>0.114767</td>\n",
              "    </tr>\n",
              "    <tr>\n",
              "      <th>Fighting</th>\n",
              "      <td>0.427244</td>\n",
              "    </tr>\n",
              "    <tr>\n",
              "      <th>Misc</th>\n",
              "      <td>0.390305</td>\n",
              "    </tr>\n",
              "    <tr>\n",
              "      <th>Platform</th>\n",
              "      <td>0.739750</td>\n",
              "    </tr>\n",
              "    <tr>\n",
              "      <th>Puzzle</th>\n",
              "      <td>0.141408</td>\n",
              "    </tr>\n",
              "    <tr>\n",
              "      <th>Racing</th>\n",
              "      <td>0.501243</td>\n",
              "    </tr>\n",
              "    <tr>\n",
              "      <th>Role-Playing</th>\n",
              "      <td>0.486211</td>\n",
              "    </tr>\n",
              "    <tr>\n",
              "      <th>Shooter</th>\n",
              "      <td>1.226752</td>\n",
              "    </tr>\n",
              "    <tr>\n",
              "      <th>Simulation</th>\n",
              "      <td>0.384453</td>\n",
              "    </tr>\n",
              "    <tr>\n",
              "      <th>Sports</th>\n",
              "      <td>0.604844</td>\n",
              "    </tr>\n",
              "    <tr>\n",
              "      <th>Strategy</th>\n",
              "      <td>0.191217</td>\n",
              "    </tr>\n",
              "    <tr>\n",
              "      <th rowspan=\"11\" valign=\"top\">80's</th>\n",
              "      <th>Action</th>\n",
              "      <td>0.833188</td>\n",
              "    </tr>\n",
              "    <tr>\n",
              "      <th>Adventure</th>\n",
              "      <td>2.390000</td>\n",
              "    </tr>\n",
              "    <tr>\n",
              "      <th>Fighting</th>\n",
              "      <td>1.810000</td>\n",
              "    </tr>\n",
              "    <tr>\n",
              "      <th>Misc</th>\n",
              "      <td>1.055000</td>\n",
              "    </tr>\n",
              "    <tr>\n",
              "      <th>Platform</th>\n",
              "      <td>4.034444</td>\n",
              "    </tr>\n",
              "    <tr>\n",
              "      <th>Puzzle</th>\n",
              "      <td>3.273333</td>\n",
              "    </tr>\n",
              "    <tr>\n",
              "      <th>Racing</th>\n",
              "      <td>1.835000</td>\n",
              "    </tr>\n",
              "    <tr>\n",
              "      <th>Role-Playing</th>\n",
              "      <td>1.797273</td>\n",
              "    </tr>\n",
              "    <tr>\n",
              "      <th>Shooter</th>\n",
              "      <td>1.992333</td>\n",
              "    </tr>\n",
              "    <tr>\n",
              "      <th>Simulation</th>\n",
              "      <td>0.410000</td>\n",
              "    </tr>\n",
              "    <tr>\n",
              "      <th>Sports</th>\n",
              "      <td>1.355600</td>\n",
              "    </tr>\n",
              "    <tr>\n",
              "      <th rowspan=\"12\" valign=\"top\">90's</th>\n",
              "      <th>Action</th>\n",
              "      <td>0.829104</td>\n",
              "    </tr>\n",
              "    <tr>\n",
              "      <th>Adventure</th>\n",
              "      <td>0.422655</td>\n",
              "    </tr>\n",
              "    <tr>\n",
              "      <th>Fighting</th>\n",
              "      <td>0.647613</td>\n",
              "    </tr>\n",
              "    <tr>\n",
              "      <th>Misc</th>\n",
              "      <td>0.585037</td>\n",
              "    </tr>\n",
              "    <tr>\n",
              "      <th>Platform</th>\n",
              "      <td>1.383151</td>\n",
              "    </tr>\n",
              "    <tr>\n",
              "      <th>Puzzle</th>\n",
              "      <td>0.454074</td>\n",
              "    </tr>\n",
              "    <tr>\n",
              "      <th>Racing</th>\n",
              "      <td>0.732252</td>\n",
              "    </tr>\n",
              "    <tr>\n",
              "      <th>Role-Playing</th>\n",
              "      <td>1.046919</td>\n",
              "    </tr>\n",
              "    <tr>\n",
              "      <th>Shooter</th>\n",
              "      <td>0.482293</td>\n",
              "    </tr>\n",
              "    <tr>\n",
              "      <th>Simulation</th>\n",
              "      <td>0.542800</td>\n",
              "    </tr>\n",
              "    <tr>\n",
              "      <th>Sports</th>\n",
              "      <td>0.485864</td>\n",
              "    </tr>\n",
              "    <tr>\n",
              "      <th>Strategy</th>\n",
              "      <td>0.475036</td>\n",
              "    </tr>\n",
              "  </tbody>\n",
              "</table>\n",
              "</div>"
            ],
            "text/plain": [
              "                       sum_sales\n",
              "new_year Genre                  \n",
              "00's     Action         0.531635\n",
              "         Adventure      0.178648\n",
              "         Fighting       0.498631\n",
              "         Misc           0.465520\n",
              "         Platform       0.685420\n",
              "         Puzzle         0.317716\n",
              "         Racing         0.558483\n",
              "         Role-Playing   0.565031\n",
              "         Shooter        0.647060\n",
              "         Simulation     0.460827\n",
              "         Sports         0.566041\n",
              "         Strategy       0.204615\n",
              "10's     Action         0.456314\n",
              "         Adventure      0.114767\n",
              "         Fighting       0.427244\n",
              "         Misc           0.390305\n",
              "         Platform       0.739750\n",
              "         Puzzle         0.141408\n",
              "         Racing         0.501243\n",
              "         Role-Playing   0.486211\n",
              "         Shooter        1.226752\n",
              "         Simulation     0.384453\n",
              "         Sports         0.604844\n",
              "         Strategy       0.191217\n",
              "80's     Action         0.833188\n",
              "         Adventure      2.390000\n",
              "         Fighting       1.810000\n",
              "         Misc           1.055000\n",
              "         Platform       4.034444\n",
              "         Puzzle         3.273333\n",
              "         Racing         1.835000\n",
              "         Role-Playing   1.797273\n",
              "         Shooter        1.992333\n",
              "         Simulation     0.410000\n",
              "         Sports         1.355600\n",
              "90's     Action         0.829104\n",
              "         Adventure      0.422655\n",
              "         Fighting       0.647613\n",
              "         Misc           0.585037\n",
              "         Platform       1.383151\n",
              "         Puzzle         0.454074\n",
              "         Racing         0.732252\n",
              "         Role-Playing   1.046919\n",
              "         Shooter        0.482293\n",
              "         Simulation     0.542800\n",
              "         Sports         0.485864\n",
              "         Strategy       0.475036"
            ]
          },
          "metadata": {
            "tags": []
          },
          "execution_count": 17
        }
      ]
    },
    {
      "cell_type": "code",
      "metadata": {
        "id": "TkkYFBGCrs6h"
      },
      "source": [
        "y_g=df.pivot_table(index='new_year',columns='Genre',values='sum_sales',aggfunc='sum') #mean\n",
        "y_g#=pd.DataFrame(y_g)\n",
        "\n",
        "\n",
        "y_g00=[\t0.531635,\t0.178648,\t0.498631,\t0.465520,\t0.685420,\t0.317716,\t0.558483,\t0.565031,\t0.647060\t,0.460827,\t0.566041,\t0.204615]\n",
        "y_g10=[0.456314\t,0.114767,\t0.427244,\t0.390305,\t0.739750,\t0.141408\t,0.501243,\t0.486211,\t1.226752,0.384453,\t0.604844,\t0.191217]\n",
        "y_g80=[0.833188\t,2.390000\t,1.810000\t,1.055000,\t4.034444,\t3.273333,\t1.835000,\t1.797273,\t1.992333,\t0.410000,\t1.355600,\t0]\n",
        "y_g90=[0.829104\t,0.422655,\t0.647613,\t0.585037,\t1.383151,\t0.454074,\t0.732252,\t1.046919,\t0.482293,\t0.542800,\t0.485864,\t0.475036]\n",
        "colors = sns.color_palette('hls',len(y_g00)) ## 색상 지정\n",
        "genre=['Action',\t'Adventure','Fighting',\t'Misc',\t'Platform',\t'Puzzle',\t'Racing',\t'Role-Playing',\t'Shooter',\t'Simulation',\t'Sports','Strategy']\n",
        "\n",
        "\n",
        "y_g00_s=[\t936.74,\t137.38\t,225.88,\t559.09,\t392.06\t,125.18\t,452.93,\t453.72,\t504.06,\t284.33,\t853.59,\t85.12]\n",
        "y_g80_s=[57.49,\t4.78,\t7.24\t,8.44,\t145.24,\t68.74,18.35\t,19.77,\t59.77,\t1.64,\t33.89,\t0]\n",
        "y_g90_s=[166.65\t,47.76,\t143.77,\t78.98\t,201.94,\t36.78,\t162.56,\t207.29,\t75.72\t,54.28,\t185.60,\t66.03]\n",
        "y_g10_s=[552.14\t,44.30,\t66.65\t,140.90,\t88.77,\t10.04,\t88.72,\t220.74,\t385.20,\t49.21\t,232.26\t,21.99]"
      ],
      "execution_count": null,
      "outputs": []
    },
    {
      "cell_type": "code",
      "metadata": {
        "colab": {
          "base_uri": "https://localhost:8080/",
          "height": 281
        },
        "id": "H0hH95S8urHV",
        "outputId": "82c08730-6900-4429-d64c-0956b4846132"
      },
      "source": [
        "plt.figure(figsize=(15,4))\n",
        "plt.bar(genre,y_g00_s,color=colors)\n",
        "plt.title('Total Sales in 00\\'s')\n",
        "\n",
        "plt.show()"
      ],
      "execution_count": null,
      "outputs": [
        {
          "output_type": "display_data",
          "data": {
            "image/png": "[encoded data removed]",
            "text/plain": [
              "<Figure size 1080x288 with 1 Axes>"
            ]
          },
          "metadata": {
            "tags": [],
            "needs_background": "light"
          }
        }
      ]
    },
    {
      "cell_type": "code",
      "metadata": {
        "colab": {
          "base_uri": "https://localhost:8080/",
          "height": 281
        },
        "id": "Iu9a5HCUxAEF",
        "outputId": "02f52dc7-eebf-4503-be25-6ad345807e96"
      },
      "source": [
        "plt.figure(figsize=(15,4))\n",
        "plt.bar(genre,y_g10_s,color=colors)\n",
        "plt.title('Total Sales in 10\\'s')\n",
        "\n",
        "plt.show()"
      ],
      "execution_count": null,
      "outputs": [
        {
          "output_type": "display_data",
          "data": {
            "image/png": "[encoded data removed]",
            "text/plain": [
              "<Figure size 1080x288 with 1 Axes>"
            ]
          },
          "metadata": {
            "tags": [],
            "needs_background": "light"
          }
        }
      ]
    },
    {
      "cell_type": "code",
      "metadata": {
        "colab": {
          "base_uri": "https://localhost:8080/",
          "height": 281
        },
        "id": "Mtz6o5c0x-jq",
        "outputId": "a6dfeba3-289e-40ec-ce8e-4a83260f91c1"
      },
      "source": [
        "plt.figure(figsize=(15,4))\n",
        "plt.bar(genre,y_g80_s,color=colors)\n",
        "plt.title('Total Sales in 80\\'s')\n",
        "#plt.ylim(0, 4.2)\n",
        "plt.show()"
      ],
      "execution_count": null,
      "outputs": [
        {
          "output_type": "display_data",
          "data": {
            "image/png": "[encoded data removed]",
            "text/plain": [
              "<Figure size 1080x288 with 1 Axes>"
            ]
          },
          "metadata": {
            "tags": [],
            "needs_background": "light"
          }
        }
      ]
    },
    {
      "cell_type": "code",
      "metadata": {
        "colab": {
          "base_uri": "https://localhost:8080/",
          "height": 281
        },
        "id": "sjoq22-TyDta",
        "outputId": "f56133d8-7ad5-4117-a147-0b84c3763656"
      },
      "source": [
        "plt.figure(figsize=(15,4))\n",
        "plt.bar(genre,y_g90_s,color=colors)\n",
        "plt.title('Total Sales in 90\\'s')\n",
        "#plt.ylim(0, 4.0)\n",
        "plt.show()"
      ],
      "execution_count": null,
      "outputs": [
        {
          "output_type": "display_data",
          "data": {
            "image/png": "[encoded data removed]",
            "text/plain": [
              "<Figure size 1080x288 with 1 Axes>"
            ]
          },
          "metadata": {
            "tags": [],
            "needs_background": "light"
          }
        }
      ]
    },
    {
      "cell_type": "code",
      "metadata": {
        "colab": {
          "base_uri": "https://localhost:8080/",
          "height": 415
        },
        "id": "R4KPaYz6s1qr",
        "outputId": "ba9be249-ce36-4ce3-bfc6-0c14b65bad02"
      },
      "source": [
        "df['sum_sales'][df['Genre']=='Platform']\n",
        "#plt.boxplot(df['sum_sales'][(df['Genre']=='Puzzle') & (df['new_year']=='80\\'s')])\n",
        "df[(df['Genre']=='Shooter')& (df['new_year']=='10\\'s')].sort_values(by='sum_sales',ascending=False)"
      ],
      "execution_count": null,
      "outputs": [
        {
          "output_type": "execute_result",
          "data": {
            "text/html": [
              "<div>\n",
              "<style scoped>\n",
              "    .dataframe tbody tr th:only-of-type {\n",
              "        vertical-align: middle;\n",
              "    }\n",
              "\n",
              "    .dataframe tbody tr th {\n",
              "        vertical-align: top;\n",
              "    }\n",
              "\n",
              "    .dataframe thead th {\n",
              "        text-align: right;\n",
              "    }\n",
              "</style>\n",
              "<table border=\"1\" class=\"dataframe\">\n",
              "  <thead>\n",
              "    <tr style=\"text-align: right;\">\n",
              "      <th></th>\n",
              "      <th>Name</th>\n",
              "      <th>Platform</th>\n",
              "      <th>Year</th>\n",
              "      <th>Genre</th>\n",
              "      <th>Publisher</th>\n",
              "      <th>NA_Sales</th>\n",
              "      <th>EU_Sales</th>\n",
              "      <th>JP_Sales</th>\n",
              "      <th>Other_Sales</th>\n",
              "      <th>sum_sales</th>\n",
              "      <th>new_year</th>\n",
              "    </tr>\n",
              "  </thead>\n",
              "  <tbody>\n",
              "    <tr>\n",
              "      <th>2809</th>\n",
              "      <td>Call of Duty: Modern Warfare 3</td>\n",
              "      <td>X360</td>\n",
              "      <td>2011.0</td>\n",
              "      <td>Shooter</td>\n",
              "      <td>Activision</td>\n",
              "      <td>9.03</td>\n",
              "      <td>4.28</td>\n",
              "      <td>0.13</td>\n",
              "      <td>1.32</td>\n",
              "      <td>14.76</td>\n",
              "      <td>10's</td>\n",
              "    </tr>\n",
              "    <tr>\n",
              "      <th>9070</th>\n",
              "      <td>Call of Duty: Black Ops 3</td>\n",
              "      <td>PS4</td>\n",
              "      <td>2015.0</td>\n",
              "      <td>Shooter</td>\n",
              "      <td>Activision</td>\n",
              "      <td>5.77</td>\n",
              "      <td>5.81</td>\n",
              "      <td>0.35</td>\n",
              "      <td>2.31</td>\n",
              "      <td>14.24</td>\n",
              "      <td>10's</td>\n",
              "    </tr>\n",
              "    <tr>\n",
              "      <th>4240</th>\n",
              "      <td>Call of Duty: Black Ops II</td>\n",
              "      <td>PS3</td>\n",
              "      <td>2012.0</td>\n",
              "      <td>Shooter</td>\n",
              "      <td>Activision</td>\n",
              "      <td>4.99</td>\n",
              "      <td>5.88</td>\n",
              "      <td>0.65</td>\n",
              "      <td>2.52</td>\n",
              "      <td>14.04</td>\n",
              "      <td>10's</td>\n",
              "    </tr>\n",
              "    <tr>\n",
              "      <th>6393</th>\n",
              "      <td>Call of Duty: Black Ops II</td>\n",
              "      <td>X360</td>\n",
              "      <td>2012.0</td>\n",
              "      <td>Shooter</td>\n",
              "      <td>Activision</td>\n",
              "      <td>8.25</td>\n",
              "      <td>4.30</td>\n",
              "      <td>0.07</td>\n",
              "      <td>1.12</td>\n",
              "      <td>13.74</td>\n",
              "      <td>10's</td>\n",
              "    </tr>\n",
              "    <tr>\n",
              "      <th>14120</th>\n",
              "      <td>Call of Duty: Modern Warfare 3</td>\n",
              "      <td>PS3</td>\n",
              "      <td>2011.0</td>\n",
              "      <td>Shooter</td>\n",
              "      <td>Activision</td>\n",
              "      <td>5.54</td>\n",
              "      <td>5.82</td>\n",
              "      <td>0.49</td>\n",
              "      <td>1.62</td>\n",
              "      <td>13.47</td>\n",
              "      <td>10's</td>\n",
              "    </tr>\n",
              "    <tr>\n",
              "      <th>...</th>\n",
              "      <td>...</td>\n",
              "      <td>...</td>\n",
              "      <td>...</td>\n",
              "      <td>...</td>\n",
              "      <td>...</td>\n",
              "      <td>...</td>\n",
              "      <td>...</td>\n",
              "      <td>...</td>\n",
              "      <td>...</td>\n",
              "      <td>...</td>\n",
              "      <td>...</td>\n",
              "    </tr>\n",
              "    <tr>\n",
              "      <th>8949</th>\n",
              "      <td>Touhou Genso Rondo: Bullet Ballet</td>\n",
              "      <td>PS4</td>\n",
              "      <td>2016.0</td>\n",
              "      <td>Shooter</td>\n",
              "      <td>Nippon Ichi Software</td>\n",
              "      <td>0.01</td>\n",
              "      <td>0.00</td>\n",
              "      <td>0.00</td>\n",
              "      <td>0.00</td>\n",
              "      <td>0.01</td>\n",
              "      <td>10's</td>\n",
              "    </tr>\n",
              "    <tr>\n",
              "      <th>3153</th>\n",
              "      <td>Caladrius</td>\n",
              "      <td>X360</td>\n",
              "      <td>2013.0</td>\n",
              "      <td>Shooter</td>\n",
              "      <td>Moss</td>\n",
              "      <td>0.00</td>\n",
              "      <td>0.00</td>\n",
              "      <td>0.01</td>\n",
              "      <td>0.00</td>\n",
              "      <td>0.01</td>\n",
              "      <td>10's</td>\n",
              "    </tr>\n",
              "    <tr>\n",
              "      <th>5356</th>\n",
              "      <td>Painkiller: Hell &amp; Damnation</td>\n",
              "      <td>X360</td>\n",
              "      <td>2013.0</td>\n",
              "      <td>Shooter</td>\n",
              "      <td>Nordic Games</td>\n",
              "      <td>0.00</td>\n",
              "      <td>0.01</td>\n",
              "      <td>0.00</td>\n",
              "      <td>0.00</td>\n",
              "      <td>0.01</td>\n",
              "      <td>10's</td>\n",
              "    </tr>\n",
              "    <tr>\n",
              "      <th>5366</th>\n",
              "      <td>Assault Suit Leynos</td>\n",
              "      <td>PS4</td>\n",
              "      <td>2016.0</td>\n",
              "      <td>Shooter</td>\n",
              "      <td>Rising Star Games</td>\n",
              "      <td>0.01</td>\n",
              "      <td>0.00</td>\n",
              "      <td>0.00</td>\n",
              "      <td>0.00</td>\n",
              "      <td>0.01</td>\n",
              "      <td>10's</td>\n",
              "    </tr>\n",
              "    <tr>\n",
              "      <th>9114</th>\n",
              "      <td>Resident Evil 4 HD</td>\n",
              "      <td>XOne</td>\n",
              "      <td>2016.0</td>\n",
              "      <td>Shooter</td>\n",
              "      <td>Capcom</td>\n",
              "      <td>0.01</td>\n",
              "      <td>0.00</td>\n",
              "      <td>0.00</td>\n",
              "      <td>0.00</td>\n",
              "      <td>0.01</td>\n",
              "      <td>10's</td>\n",
              "    </tr>\n",
              "  </tbody>\n",
              "</table>\n",
              "<p>314 rows × 11 columns</p>\n",
              "</div>"
            ],
            "text/plain": [
              "                                    Name Platform  ...  sum_sales new_year\n",
              "2809      Call of Duty: Modern Warfare 3     X360  ...      14.76     10's\n",
              "9070           Call of Duty: Black Ops 3      PS4  ...      14.24     10's\n",
              "4240          Call of Duty: Black Ops II      PS3  ...      14.04     10's\n",
              "6393          Call of Duty: Black Ops II     X360  ...      13.74     10's\n",
              "14120     Call of Duty: Modern Warfare 3      PS3  ...      13.47     10's\n",
              "...                                  ...      ...  ...        ...      ...\n",
              "8949   Touhou Genso Rondo: Bullet Ballet      PS4  ...       0.01     10's\n",
              "3153                           Caladrius     X360  ...       0.01     10's\n",
              "5356        Painkiller: Hell & Damnation     X360  ...       0.01     10's\n",
              "5366                 Assault Suit Leynos      PS4  ...       0.01     10's\n",
              "9114                  Resident Evil 4 HD     XOne  ...       0.01     10's\n",
              "\n",
              "[314 rows x 11 columns]"
            ]
          },
          "metadata": {
            "tags": []
          },
          "execution_count": 23
        }
      ]
    },
    {
      "cell_type": "markdown",
      "metadata": {
        "id": "R-uN5mic3x4q"
      },
      "source": [
        "2. 연도별 게임의 트렌드가 있을까 라는 질문에 대답을 하셔야합니다.\n",
        "\n",
        "2000년 이전에는 SPORTS 장르를 제외하고 두각을 나타내는 트렌드X\n",
        "\n",
        "2000년 후반에는 모든 장르가 성장을 하는 와중 ACTION 장르가 선두두자를 꾀참."
      ]
    },
    {
      "cell_type": "code",
      "metadata": {
        "colab": {
          "base_uri": "https://localhost:8080/"
        },
        "id": "JG8Q13b9A5KS",
        "outputId": "dbebdedb-2d8a-4c99-c22f-ef2644d85269"
      },
      "source": [
        "df['Year'][df.isnull().any(axis=1)]"
      ],
      "execution_count": null,
      "outputs": [
        {
          "output_type": "execute_result",
          "data": {
            "text/plain": [
              "31          NaN\n",
              "50       2005.0\n",
              "109         NaN\n",
              "272      2010.0\n",
              "273         NaN\n",
              "          ...  \n",
              "16425       NaN\n",
              "16431    2007.0\n",
              "16432       NaN\n",
              "16555    2010.0\n",
              "16587    2004.0\n",
              "Name: Year, Length: 357, dtype: float64"
            ]
          },
          "metadata": {
            "tags": []
          },
          "execution_count": 24
        }
      ]
    },
    {
      "cell_type": "code",
      "metadata": {
        "colab": {
          "base_uri": "https://localhost:8080/",
          "height": 373
        },
        "id": "4zlrTYHwj8z0",
        "outputId": "2930f189-f441-4ccc-8d74-3fbfd5e0f08b"
      },
      "source": [
        "df['Genre'].value_counts(sort=False).plot(kind='bar')\n",
        "plt.title('Genre Distribution', fontsize=15)\n",
        "plt.xlabel('Genre',fontsize=15)\n",
        "plt.ylabel('Number of sales',fontsize=15) "
      ],
      "execution_count": null,
      "outputs": [
        {
          "output_type": "execute_result",
          "data": {
            "text/plain": [
              "Text(0, 0.5, 'Number of sales')"
            ]
          },
          "metadata": {
            "tags": []
          },
          "execution_count": 25
        },
        {
          "output_type": "display_data",
          "data": {
            "image/png": "[encoded data removed]",
            "text/plain": [
              "<Figure size 432x288 with 1 Axes>"
            ]
          },
          "metadata": {
            "tags": [],
            "needs_background": "light"
          }
        }
      ]
    },
    {
      "cell_type": "code",
      "metadata": {
        "colab": {
          "base_uri": "https://localhost:8080/",
          "height": 606
        },
        "id": "mZyIopg5Gg1W",
        "outputId": "6e1a96f1-3905-4bbe-d7ed-31dd7d6aed81"
      },
      "source": [
        "df_forsale = df.groupby(by  = 'Year').sum()\n",
        "df_forsale.plot.line(figsize=(10,10), grid=\"on\");\n",
        "plt.ylabel(\"Sales in million $\");"
      ],
      "execution_count": null,
      "outputs": [
        {
          "output_type": "display_data",
          "data": {
            "image/png": "[encoded data removed]",
            "text/plain": [
              "<Figure size 720x720 with 1 Axes>"
            ]
          },
          "metadata": {
            "tags": [],
            "needs_background": "light"
          }
        }
      ]
    },
    {
      "cell_type": "code",
      "metadata": {
        "id": "wjKlfyuLcdeC"
      },
      "source": [
        "colors = sns.color_palette('hls',4) ## 색상 지정"
      ],
      "execution_count": null,
      "outputs": []
    },
    {
      "cell_type": "code",
      "metadata": {
        "colab": {
          "base_uri": "https://localhost:8080/",
          "height": 461
        },
        "id": "0AvDJswI1mCH",
        "outputId": "3e9509ca-c7ab-427b-a853-1194db31de11"
      },
      "source": [
        "publisher_sales = df[['Genre','NA_Sales','EU_Sales','JP_Sales','Other_Sales']] #필요한 열만 추려서 데이터프레임 만듬\n",
        "grouped=publisher_sales.groupby('Genre').mean() #Genre 기준으로 그룹화\n",
        "\n",
        "grouped.sort_values('Other_Sales', ascending=False).plot(kind='bar',figsize=(15,7),rot=0,color=colors)"
      ],
      "execution_count": null,
      "outputs": [
        {
          "output_type": "execute_result",
          "data": {
            "text/plain": [
              "<matplotlib.axes._subplots.AxesSubplot at 0x7fc300233b90>"
            ]
          },
          "metadata": {
            "tags": []
          },
          "execution_count": 28
        },
        {
          "output_type": "display_data",
          "data": {
            "image/png": "[encoded data removed]",
            "text/plain": [
              "<Figure size 1080x504 with 1 Axes>"
            ]
          },
          "metadata": {
            "tags": [],
            "needs_background": "light"
          }
        }
      ]
    },
    {
      "cell_type": "code",
      "metadata": {
        "colab": {
          "base_uri": "https://localhost:8080/",
          "height": 176
        },
        "id": "WBbLeS57GSBh",
        "outputId": "3ad7b5a4-9a40-467d-c85a-3633c06203ce"
      },
      "source": [
        "_10M.sort_values(by='EU_Sales',ascending=False)"
      ],
      "execution_count": null,
      "outputs": [
        {
          "output_type": "error",
          "ename": "NameError",
          "evalue": "ignored",
          "traceback": [
            "\u001b[0;31m---------------------------------------------------------------------------\u001b[0m",
            "\u001b[0;31mNameError\u001b[0m                                 Traceback (most recent call last)",
            "\u001b[0;32m<ipython-input-29-b0aba61dcec5>\u001b[0m in \u001b[0;36m<module>\u001b[0;34m()\u001b[0m\n\u001b[0;32m----> 1\u001b[0;31m \u001b[0m_10M\u001b[0m\u001b[0;34m.\u001b[0m\u001b[0msort_values\u001b[0m\u001b[0;34m(\u001b[0m\u001b[0mby\u001b[0m\u001b[0;34m=\u001b[0m\u001b[0;34m'EU_Sales'\u001b[0m\u001b[0;34m,\u001b[0m\u001b[0mascending\u001b[0m\u001b[0;34m=\u001b[0m\u001b[0;32mFalse\u001b[0m\u001b[0;34m)\u001b[0m\u001b[0;34m\u001b[0m\u001b[0;34m\u001b[0m\u001b[0m\n\u001b[0m",
            "\u001b[0;31mNameError\u001b[0m: name '_10M' is not defined"
          ]
        }
      ]
    },
    {
      "cell_type": "code",
      "metadata": {
        "colab": {
          "base_uri": "https://localhost:8080/"
        },
        "id": "ZfaqHecaGSfI",
        "outputId": "985fd0dc-fc74-484c-e03b-b738950ce99d"
      },
      "source": [
        "grouped['Total_Sales']=grouped['NA_Sales']+grouped['EU_Sales']+grouped['JP_Sales']+grouped['Other_Sales'] #total_sales열을 새로 만들어줌\n",
        "grouped['Total_Sales']/G_Y.sum() #장르별 출시된 게임의 가짓수로 나눠서 매출량을 확인\n",
        "#가짓수 대비 platform 게임이 제일 매출량이 좋음"
      ],
      "execution_count": null,
      "outputs": [
        {
          "output_type": "execute_result",
          "data": {
            "text/plain": [
              "Genre\n",
              "Action          0.000163\n",
              "Adventure       0.000147\n",
              "Fighting        0.000634\n",
              "Misc            0.000270\n",
              "Platform        0.001075\n",
              "Puzzle          0.000743\n",
              "Racing          0.000480\n",
              "Role-Playing    0.000416\n",
              "Shooter         0.000619\n",
              "Simulation      0.000533\n",
              "Sports          0.000247\n",
              "Strategy        0.000384\n",
              "dtype: float64"
            ]
          },
          "metadata": {
            "tags": []
          },
          "execution_count": 30
        }
      ]
    },
    {
      "cell_type": "markdown",
      "metadata": {
        "id": "8oZjVj3x4NRN"
      },
      "source": [
        "1. 지역에 따라서 선호하는 게임 장르가 다를까 라는 질문에 대답을 하셔야합니다.\n",
        "\n",
        "지역에 따라 크게 달라지는 양상을 확인하기 어려움.\n",
        "\n",
        "NA : ACTION, UN:ACTION , JP:ROLE-PLAYING => ACTION , Other:Action\n",
        "\n"
      ]
    },
    {
      "cell_type": "code",
      "metadata": {
        "colab": {
          "base_uri": "https://localhost:8080/",
          "height": 298
        },
        "id": "4gdZX4DG9lDT",
        "outputId": "5d0f53aa-cd36-4876-ab7f-2bbeb0da8f1e"
      },
      "source": [
        "sns.scatterplot(data=df,x='Year',y='NA_Sales')\n",
        "sns.scatterplot(data=df,x='Year',y='EU_Sales')"
      ],
      "execution_count": null,
      "outputs": [
        {
          "output_type": "execute_result",
          "data": {
            "text/plain": [
              "<matplotlib.axes._subplots.AxesSubplot at 0x7fc2fe921ed0>"
            ]
          },
          "metadata": {
            "tags": []
          },
          "execution_count": 31
        },
        {
          "output_type": "display_data",
          "data": {
            "image/png": "[encoded data removed]",
            "text/plain": [
              "<Figure size 432x288 with 1 Axes>"
            ]
          },
          "metadata": {
            "tags": [],
            "needs_background": "light"
          }
        }
      ]
    },
    {
      "cell_type": "code",
      "metadata": {
        "id": "FMc2FOoNks0B"
      },
      "source": [
        "_pca=df.groupby(['Genre','Platform']).sum().iloc[:,1:5]"
      ],
      "execution_count": null,
      "outputs": []
    },
    {
      "cell_type": "code",
      "metadata": {
        "id": "h8UhIWuj-3z5"
      },
      "source": [
        "df_pca=df.iloc[:,5:9]\n",
        "\n",
        "from sklearn.preprocessing import StandardScaler, Normalizer\n",
        "from sklearn.decomposition import PCA\n",
        "\n",
        "x = StandardScaler().fit_transform(_pca) # x객체에 _df를 표준화한 데이터를 저장\n",
        "\n",
        "pca = PCA(2) #pc를 세개를 전부다 쓰는 것은 의미가 없음, 결론 :2개만 줘 \n",
        "printcipalComponents = pca.fit_transform(x)\n",
        "principalDf = pd.DataFrame(data=printcipalComponents, columns = ['PC1', 'PC2'])\n",
        "# 주성분으로 이루어진 데이터 프레임 구성\n",
        "principalDf"
      ],
      "execution_count": null,
      "outputs": []
    },
    {
      "cell_type": "code",
      "metadata": {
        "colab": {
          "base_uri": "https://localhost:8080/",
          "height": 279
        },
        "id": "yDsybTEqB8GN",
        "outputId": "f8c606d1-553f-4737-c20b-50794483b860"
      },
      "source": [
        "sns.scatterplot(data=principalDf,x='PC1',y='PC2');"
      ],
      "execution_count": null,
      "outputs": [
        {
          "output_type": "display_data",
          "data": {
            "image/png": "[encoded data removed]",
            "text/plain": [
              "<Figure size 432x288 with 1 Axes>"
            ]
          },
          "metadata": {
            "tags": [],
            "needs_background": "light"
          }
        }
      ]
    },
    {
      "cell_type": "code",
      "metadata": {
        "colab": {
          "base_uri": "https://localhost:8080/"
        },
        "id": "L_w1DOHJ4kug",
        "outputId": "826aedc1-9e17-470d-c21a-4a4bcefd5d5b"
      },
      "source": [
        "ratio = pca.explained_variance_ratio_\n",
        "ratio"
      ],
      "execution_count": null,
      "outputs": [
        {
          "output_type": "execute_result",
          "data": {
            "text/plain": [
              "array([0.76155879, 0.18902685])"
            ]
          },
          "metadata": {
            "tags": []
          },
          "execution_count": 37
        }
      ]
    },
    {
      "cell_type": "code",
      "metadata": {
        "colab": {
          "base_uri": "https://localhost:8080/",
          "height": 265
        },
        "id": "c_DZ68Ik4-JW",
        "outputId": "8e2bf33c-554b-4a0e-d3d9-6ead313ca9bf"
      },
      "source": [
        "plt.plot(ratio,'o-');"
      ],
      "execution_count": null,
      "outputs": [
        {
          "output_type": "display_data",
          "data": {
            "image/png": "[encoded data removed]",
            "text/plain": [
              "<Figure size 432x288 with 1 Axes>"
            ]
          },
          "metadata": {
            "tags": [],
            "needs_background": "light"
          }
        }
      ]
    },
    {
      "cell_type": "code",
      "metadata": {
        "colab": {
          "base_uri": "https://localhost:8080/",
          "height": 657
        },
        "id": "rn2UGjWk5Zlp",
        "outputId": "e3cc7442-8a8a-431d-cd93-482d01650fe1"
      },
      "source": [
        "def scree_plot(pca):\n",
        "    num_components = len(pca.explained_variance_ratio_)\n",
        "    ind = ['PC1','PC2','PC3','PC4']#np.arange(num_components)\n",
        "    vals = pca.explained_variance_ratio_\n",
        "    \n",
        "    ax = plt.subplot()\n",
        "    cumvals = np.cumsum(vals)\n",
        "    ax.bar(ind, vals, color = ['#00da75', '#f1c40f',  '#ff6f15','b']) # Bar plot\n",
        "    ax.plot(ind, cumvals, color = '#c0392b') # Line plot \n",
        "    \n",
        "    for i in range(num_components):\n",
        "        ax.annotate(r\"%s\" % ((str(vals[i]*100)[:2])), (ind[i], vals[i]), va = \"bottom\", ha = \"center\", fontsize = 13)\n",
        "     \n",
        "    ax.set_xlabel(\"PC\")\n",
        "    ax.set_ylabel(\"Variance\")\n",
        "    plt.title('Scree plot')\n",
        "   \n",
        "scree_plot(pca)"
      ],
      "execution_count": null,
      "outputs": [
        {
          "output_type": "error",
          "ename": "ValueError",
          "evalue": "ignored",
          "traceback": [
            "\u001b[0;31m---------------------------------------------------------------------------\u001b[0m",
            "\u001b[0;31mValueError\u001b[0m                                Traceback (most recent call last)",
            "\u001b[0;32m<ipython-input-39-8c1688b3e740>\u001b[0m in \u001b[0;36m<module>\u001b[0;34m()\u001b[0m\n\u001b[1;32m     16\u001b[0m     \u001b[0mplt\u001b[0m\u001b[0;34m.\u001b[0m\u001b[0mtitle\u001b[0m\u001b[0;34m(\u001b[0m\u001b[0;34m'Scree plot'\u001b[0m\u001b[0;34m)\u001b[0m\u001b[0;34m\u001b[0m\u001b[0;34m\u001b[0m\u001b[0m\n\u001b[1;32m     17\u001b[0m \u001b[0;34m\u001b[0m\u001b[0m\n\u001b[0;32m---> 18\u001b[0;31m \u001b[0mscree_plot\u001b[0m\u001b[0;34m(\u001b[0m\u001b[0mpca\u001b[0m\u001b[0;34m)\u001b[0m\u001b[0;34m\u001b[0m\u001b[0;34m\u001b[0m\u001b[0m\n\u001b[0m",
            "\u001b[0;32m<ipython-input-39-8c1688b3e740>\u001b[0m in \u001b[0;36mscree_plot\u001b[0;34m(pca)\u001b[0m\n\u001b[1;32m      6\u001b[0m     \u001b[0max\u001b[0m \u001b[0;34m=\u001b[0m \u001b[0mplt\u001b[0m\u001b[0;34m.\u001b[0m\u001b[0msubplot\u001b[0m\u001b[0;34m(\u001b[0m\u001b[0;34m)\u001b[0m\u001b[0;34m\u001b[0m\u001b[0;34m\u001b[0m\u001b[0m\n\u001b[1;32m      7\u001b[0m     \u001b[0mcumvals\u001b[0m \u001b[0;34m=\u001b[0m \u001b[0mnp\u001b[0m\u001b[0;34m.\u001b[0m\u001b[0mcumsum\u001b[0m\u001b[0;34m(\u001b[0m\u001b[0mvals\u001b[0m\u001b[0;34m)\u001b[0m\u001b[0;34m\u001b[0m\u001b[0;34m\u001b[0m\u001b[0m\n\u001b[0;32m----> 8\u001b[0;31m     \u001b[0max\u001b[0m\u001b[0;34m.\u001b[0m\u001b[0mbar\u001b[0m\u001b[0;34m(\u001b[0m\u001b[0mind\u001b[0m\u001b[0;34m,\u001b[0m \u001b[0mvals\u001b[0m\u001b[0;34m,\u001b[0m \u001b[0mcolor\u001b[0m \u001b[0;34m=\u001b[0m \u001b[0;34m[\u001b[0m\u001b[0;34m'#00da75'\u001b[0m\u001b[0;34m,\u001b[0m \u001b[0;34m'#f1c40f'\u001b[0m\u001b[0;34m,\u001b[0m  \u001b[0;34m'#ff6f15'\u001b[0m\u001b[0;34m,\u001b[0m\u001b[0;34m'b'\u001b[0m\u001b[0;34m]\u001b[0m\u001b[0;34m)\u001b[0m \u001b[0;31m# Bar plot\u001b[0m\u001b[0;34m\u001b[0m\u001b[0;34m\u001b[0m\u001b[0m\n\u001b[0m\u001b[1;32m      9\u001b[0m     \u001b[0max\u001b[0m\u001b[0;34m.\u001b[0m\u001b[0mplot\u001b[0m\u001b[0;34m(\u001b[0m\u001b[0mind\u001b[0m\u001b[0;34m,\u001b[0m \u001b[0mcumvals\u001b[0m\u001b[0;34m,\u001b[0m \u001b[0mcolor\u001b[0m \u001b[0;34m=\u001b[0m \u001b[0;34m'#c0392b'\u001b[0m\u001b[0;34m)\u001b[0m \u001b[0;31m# Line plot\u001b[0m\u001b[0;34m\u001b[0m\u001b[0;34m\u001b[0m\u001b[0m\n\u001b[1;32m     10\u001b[0m \u001b[0;34m\u001b[0m\u001b[0m\n",
            "\u001b[0;32m/usr/local/lib/python3.7/dist-packages/matplotlib/__init__.py\u001b[0m in \u001b[0;36minner\u001b[0;34m(ax, data, *args, **kwargs)\u001b[0m\n\u001b[1;32m   1563\u001b[0m     \u001b[0;32mdef\u001b[0m \u001b[0minner\u001b[0m\u001b[0;34m(\u001b[0m\u001b[0max\u001b[0m\u001b[0;34m,\u001b[0m \u001b[0;34m*\u001b[0m\u001b[0margs\u001b[0m\u001b[0;34m,\u001b[0m \u001b[0mdata\u001b[0m\u001b[0;34m=\u001b[0m\u001b[0;32mNone\u001b[0m\u001b[0;34m,\u001b[0m \u001b[0;34m**\u001b[0m\u001b[0mkwargs\u001b[0m\u001b[0;34m)\u001b[0m\u001b[0;34m:\u001b[0m\u001b[0;34m\u001b[0m\u001b[0;34m\u001b[0m\u001b[0m\n\u001b[1;32m   1564\u001b[0m         \u001b[0;32mif\u001b[0m \u001b[0mdata\u001b[0m \u001b[0;32mis\u001b[0m \u001b[0;32mNone\u001b[0m\u001b[0;34m:\u001b[0m\u001b[0;34m\u001b[0m\u001b[0;34m\u001b[0m\u001b[0m\n\u001b[0;32m-> 1565\u001b[0;31m             \u001b[0;32mreturn\u001b[0m \u001b[0mfunc\u001b[0m\u001b[0;34m(\u001b[0m\u001b[0max\u001b[0m\u001b[0;34m,\u001b[0m \u001b[0;34m*\u001b[0m\u001b[0mmap\u001b[0m\u001b[0;34m(\u001b[0m\u001b[0msanitize_sequence\u001b[0m\u001b[0;34m,\u001b[0m \u001b[0margs\u001b[0m\u001b[0;34m)\u001b[0m\u001b[0;34m,\u001b[0m \u001b[0;34m**\u001b[0m\u001b[0mkwargs\u001b[0m\u001b[0;34m)\u001b[0m\u001b[0;34m\u001b[0m\u001b[0;34m\u001b[0m\u001b[0m\n\u001b[0m\u001b[1;32m   1566\u001b[0m \u001b[0;34m\u001b[0m\u001b[0m\n\u001b[1;32m   1567\u001b[0m         \u001b[0mbound\u001b[0m \u001b[0;34m=\u001b[0m \u001b[0mnew_sig\u001b[0m\u001b[0;34m.\u001b[0m\u001b[0mbind\u001b[0m\u001b[0;34m(\u001b[0m\u001b[0max\u001b[0m\u001b[0;34m,\u001b[0m \u001b[0;34m*\u001b[0m\u001b[0margs\u001b[0m\u001b[0;34m,\u001b[0m \u001b[0;34m**\u001b[0m\u001b[0mkwargs\u001b[0m\u001b[0;34m)\u001b[0m\u001b[0;34m\u001b[0m\u001b[0;34m\u001b[0m\u001b[0m\n",
            "\u001b[0;32m/usr/local/lib/python3.7/dist-packages/matplotlib/axes/_axes.py\u001b[0m in \u001b[0;36mbar\u001b[0;34m(self, x, height, width, bottom, align, **kwargs)\u001b[0m\n\u001b[1;32m   2340\u001b[0m         x, height, width, y, linewidth = np.broadcast_arrays(\n\u001b[1;32m   2341\u001b[0m             \u001b[0;31m# Make args iterable too.\u001b[0m\u001b[0;34m\u001b[0m\u001b[0;34m\u001b[0m\u001b[0;34m\u001b[0m\u001b[0m\n\u001b[0;32m-> 2342\u001b[0;31m             np.atleast_1d(x), height, width, y, linewidth)\n\u001b[0m\u001b[1;32m   2343\u001b[0m \u001b[0;34m\u001b[0m\u001b[0m\n\u001b[1;32m   2344\u001b[0m         \u001b[0;31m# Now that units have been converted, set the tick locations.\u001b[0m\u001b[0;34m\u001b[0m\u001b[0;34m\u001b[0m\u001b[0;34m\u001b[0m\u001b[0m\n",
            "\u001b[0;32m<__array_function__ internals>\u001b[0m in \u001b[0;36mbroadcast_arrays\u001b[0;34m(*args, **kwargs)\u001b[0m\n",
            "\u001b[0;32m/usr/local/lib/python3.7/dist-packages/numpy/lib/stride_tricks.py\u001b[0m in \u001b[0;36mbroadcast_arrays\u001b[0;34m(subok, *args)\u001b[0m\n\u001b[1;32m    256\u001b[0m     \u001b[0margs\u001b[0m \u001b[0;34m=\u001b[0m \u001b[0;34m[\u001b[0m\u001b[0mnp\u001b[0m\u001b[0;34m.\u001b[0m\u001b[0marray\u001b[0m\u001b[0;34m(\u001b[0m\u001b[0m_m\u001b[0m\u001b[0;34m,\u001b[0m \u001b[0mcopy\u001b[0m\u001b[0;34m=\u001b[0m\u001b[0;32mFalse\u001b[0m\u001b[0;34m,\u001b[0m \u001b[0msubok\u001b[0m\u001b[0;34m=\u001b[0m\u001b[0msubok\u001b[0m\u001b[0;34m)\u001b[0m \u001b[0;32mfor\u001b[0m \u001b[0m_m\u001b[0m \u001b[0;32min\u001b[0m \u001b[0margs\u001b[0m\u001b[0;34m]\u001b[0m\u001b[0;34m\u001b[0m\u001b[0;34m\u001b[0m\u001b[0m\n\u001b[1;32m    257\u001b[0m \u001b[0;34m\u001b[0m\u001b[0m\n\u001b[0;32m--> 258\u001b[0;31m     \u001b[0mshape\u001b[0m \u001b[0;34m=\u001b[0m \u001b[0m_broadcast_shape\u001b[0m\u001b[0;34m(\u001b[0m\u001b[0;34m*\u001b[0m\u001b[0margs\u001b[0m\u001b[0;34m)\u001b[0m\u001b[0;34m\u001b[0m\u001b[0;34m\u001b[0m\u001b[0m\n\u001b[0m\u001b[1;32m    259\u001b[0m \u001b[0;34m\u001b[0m\u001b[0m\n\u001b[1;32m    260\u001b[0m     \u001b[0;32mif\u001b[0m \u001b[0mall\u001b[0m\u001b[0;34m(\u001b[0m\u001b[0marray\u001b[0m\u001b[0;34m.\u001b[0m\u001b[0mshape\u001b[0m \u001b[0;34m==\u001b[0m \u001b[0mshape\u001b[0m \u001b[0;32mfor\u001b[0m \u001b[0marray\u001b[0m \u001b[0;32min\u001b[0m \u001b[0margs\u001b[0m\u001b[0;34m)\u001b[0m\u001b[0;34m:\u001b[0m\u001b[0;34m\u001b[0m\u001b[0;34m\u001b[0m\u001b[0m\n",
            "\u001b[0;32m/usr/local/lib/python3.7/dist-packages/numpy/lib/stride_tricks.py\u001b[0m in \u001b[0;36m_broadcast_shape\u001b[0;34m(*args)\u001b[0m\n\u001b[1;32m    187\u001b[0m     \u001b[0;31m# use the old-iterator because np.nditer does not handle size 0 arrays\u001b[0m\u001b[0;34m\u001b[0m\u001b[0;34m\u001b[0m\u001b[0;34m\u001b[0m\u001b[0m\n\u001b[1;32m    188\u001b[0m     \u001b[0;31m# consistently\u001b[0m\u001b[0;34m\u001b[0m\u001b[0;34m\u001b[0m\u001b[0;34m\u001b[0m\u001b[0m\n\u001b[0;32m--> 189\u001b[0;31m     \u001b[0mb\u001b[0m \u001b[0;34m=\u001b[0m \u001b[0mnp\u001b[0m\u001b[0;34m.\u001b[0m\u001b[0mbroadcast\u001b[0m\u001b[0;34m(\u001b[0m\u001b[0;34m*\u001b[0m\u001b[0margs\u001b[0m\u001b[0;34m[\u001b[0m\u001b[0;34m:\u001b[0m\u001b[0;36m32\u001b[0m\u001b[0;34m]\u001b[0m\u001b[0;34m)\u001b[0m\u001b[0;34m\u001b[0m\u001b[0;34m\u001b[0m\u001b[0m\n\u001b[0m\u001b[1;32m    190\u001b[0m     \u001b[0;31m# unfortunately, it cannot handle 32 or more arguments directly\u001b[0m\u001b[0;34m\u001b[0m\u001b[0;34m\u001b[0m\u001b[0;34m\u001b[0m\u001b[0m\n\u001b[1;32m    191\u001b[0m     \u001b[0;32mfor\u001b[0m \u001b[0mpos\u001b[0m \u001b[0;32min\u001b[0m \u001b[0mrange\u001b[0m\u001b[0;34m(\u001b[0m\u001b[0;36m32\u001b[0m\u001b[0;34m,\u001b[0m \u001b[0mlen\u001b[0m\u001b[0;34m(\u001b[0m\u001b[0margs\u001b[0m\u001b[0;34m)\u001b[0m\u001b[0;34m,\u001b[0m \u001b[0;36m31\u001b[0m\u001b[0;34m)\u001b[0m\u001b[0;34m:\u001b[0m\u001b[0;34m\u001b[0m\u001b[0;34m\u001b[0m\u001b[0m\n",
            "\u001b[0;31mValueError\u001b[0m: shape mismatch: objects cannot be broadcast to a single shape"
          ]
        },
        {
          "output_type": "display_data",
          "data": {
            "image/png": "[encoded data removed]",
            "text/plain": [
              "<Figure size 432x288 with 1 Axes>"
            ]
          },
          "metadata": {
            "tags": [],
            "needs_background": "light"
          }
        }
      ]
    },
    {
      "cell_type": "code",
      "metadata": {
        "colab": {
          "base_uri": "https://localhost:8080/",
          "height": 485
        },
        "id": "ZWuxUXr-1sDY",
        "outputId": "7c3cce96-01cf-4c9a-ca5f-1e4f4f1746fe"
      },
      "source": [
        "df"
      ],
      "execution_count": null,
      "outputs": [
        {
          "output_type": "execute_result",
          "data": {
            "text/html": [
              "<div>\n",
              "<style scoped>\n",
              "    .dataframe tbody tr th:only-of-type {\n",
              "        vertical-align: middle;\n",
              "    }\n",
              "\n",
              "    .dataframe tbody tr th {\n",
              "        vertical-align: top;\n",
              "    }\n",
              "\n",
              "    .dataframe thead th {\n",
              "        text-align: right;\n",
              "    }\n",
              "</style>\n",
              "<table border=\"1\" class=\"dataframe\">\n",
              "  <thead>\n",
              "    <tr style=\"text-align: right;\">\n",
              "      <th></th>\n",
              "      <th>Name</th>\n",
              "      <th>Platform</th>\n",
              "      <th>Year</th>\n",
              "      <th>Genre</th>\n",
              "      <th>Publisher</th>\n",
              "      <th>NA_Sales</th>\n",
              "      <th>EU_Sales</th>\n",
              "      <th>JP_Sales</th>\n",
              "      <th>Other_Sales</th>\n",
              "      <th>sum_sales</th>\n",
              "      <th>new_year</th>\n",
              "    </tr>\n",
              "  </thead>\n",
              "  <tbody>\n",
              "    <tr>\n",
              "      <th>0</th>\n",
              "      <td>Candace Kane's Candy Factory</td>\n",
              "      <td>DS</td>\n",
              "      <td>2008.0</td>\n",
              "      <td>Action</td>\n",
              "      <td>Destineer</td>\n",
              "      <td>0.04</td>\n",
              "      <td>0.00</td>\n",
              "      <td>0.00</td>\n",
              "      <td>0.00</td>\n",
              "      <td>0.04</td>\n",
              "      <td>00's</td>\n",
              "    </tr>\n",
              "    <tr>\n",
              "      <th>1</th>\n",
              "      <td>The Munchables</td>\n",
              "      <td>Wii</td>\n",
              "      <td>2009.0</td>\n",
              "      <td>Action</td>\n",
              "      <td>Namco Bandai Games</td>\n",
              "      <td>0.17</td>\n",
              "      <td>0.00</td>\n",
              "      <td>0.00</td>\n",
              "      <td>0.01</td>\n",
              "      <td>0.18</td>\n",
              "      <td>00's</td>\n",
              "    </tr>\n",
              "    <tr>\n",
              "      <th>2</th>\n",
              "      <td>Otome wa Oanesama Boku ni Koi Shiteru Portable</td>\n",
              "      <td>PSP</td>\n",
              "      <td>2010.0</td>\n",
              "      <td>Adventure</td>\n",
              "      <td>Alchemist</td>\n",
              "      <td>0.00</td>\n",
              "      <td>0.00</td>\n",
              "      <td>0.02</td>\n",
              "      <td>0.00</td>\n",
              "      <td>0.02</td>\n",
              "      <td>00's</td>\n",
              "    </tr>\n",
              "    <tr>\n",
              "      <th>3</th>\n",
              "      <td>Deal or No Deal: Special Edition</td>\n",
              "      <td>DS</td>\n",
              "      <td>2010.0</td>\n",
              "      <td>Misc</td>\n",
              "      <td>Zoo Games</td>\n",
              "      <td>0.04</td>\n",
              "      <td>0.00</td>\n",
              "      <td>0.00</td>\n",
              "      <td>0.00</td>\n",
              "      <td>0.04</td>\n",
              "      <td>00's</td>\n",
              "    </tr>\n",
              "    <tr>\n",
              "      <th>4</th>\n",
              "      <td>Ben 10 Ultimate Alien: Cosmic Destruction</td>\n",
              "      <td>PS3</td>\n",
              "      <td>2010.0</td>\n",
              "      <td>Platform</td>\n",
              "      <td>D3Publisher</td>\n",
              "      <td>0.12</td>\n",
              "      <td>0.09</td>\n",
              "      <td>0.00</td>\n",
              "      <td>0.04</td>\n",
              "      <td>0.25</td>\n",
              "      <td>00's</td>\n",
              "    </tr>\n",
              "    <tr>\n",
              "      <th>...</th>\n",
              "      <td>...</td>\n",
              "      <td>...</td>\n",
              "      <td>...</td>\n",
              "      <td>...</td>\n",
              "      <td>...</td>\n",
              "      <td>...</td>\n",
              "      <td>...</td>\n",
              "      <td>...</td>\n",
              "      <td>...</td>\n",
              "      <td>...</td>\n",
              "      <td>...</td>\n",
              "    </tr>\n",
              "    <tr>\n",
              "      <th>16593</th>\n",
              "      <td>Ice Age 2: The Meltdown</td>\n",
              "      <td>GC</td>\n",
              "      <td>2006.0</td>\n",
              "      <td>Platform</td>\n",
              "      <td>Vivendi Games</td>\n",
              "      <td>0.15</td>\n",
              "      <td>0.04</td>\n",
              "      <td>0.00</td>\n",
              "      <td>0.01</td>\n",
              "      <td>0.20</td>\n",
              "      <td>00's</td>\n",
              "    </tr>\n",
              "    <tr>\n",
              "      <th>16594</th>\n",
              "      <td>Rainbow Islands: Revolution</td>\n",
              "      <td>PSP</td>\n",
              "      <td>2005.0</td>\n",
              "      <td>Action</td>\n",
              "      <td>Rising Star Games</td>\n",
              "      <td>0.01</td>\n",
              "      <td>0.00</td>\n",
              "      <td>0.00</td>\n",
              "      <td>0.00</td>\n",
              "      <td>0.01</td>\n",
              "      <td>00's</td>\n",
              "    </tr>\n",
              "    <tr>\n",
              "      <th>16595</th>\n",
              "      <td>NBA 2K16</td>\n",
              "      <td>PS3</td>\n",
              "      <td>2015.0</td>\n",
              "      <td>Sports</td>\n",
              "      <td>Take-Two Interactive</td>\n",
              "      <td>0.44</td>\n",
              "      <td>0.19</td>\n",
              "      <td>0.03</td>\n",
              "      <td>0.13</td>\n",
              "      <td>0.79</td>\n",
              "      <td>10's</td>\n",
              "    </tr>\n",
              "    <tr>\n",
              "      <th>16596</th>\n",
              "      <td>Toukiden: The Age of Demons</td>\n",
              "      <td>PSV</td>\n",
              "      <td>2013.0</td>\n",
              "      <td>Action</td>\n",
              "      <td>Tecmo Koei</td>\n",
              "      <td>0.05</td>\n",
              "      <td>0.05</td>\n",
              "      <td>0.25</td>\n",
              "      <td>0.03</td>\n",
              "      <td>0.38</td>\n",
              "      <td>10's</td>\n",
              "    </tr>\n",
              "    <tr>\n",
              "      <th>16597</th>\n",
              "      <td>The King of Fighters '95</td>\n",
              "      <td>PS</td>\n",
              "      <td>1996.0</td>\n",
              "      <td>Fighting</td>\n",
              "      <td>Sony Computer Entertainment</td>\n",
              "      <td>0.00</td>\n",
              "      <td>0.00</td>\n",
              "      <td>0.16</td>\n",
              "      <td>0.01</td>\n",
              "      <td>0.17</td>\n",
              "      <td>90's</td>\n",
              "    </tr>\n",
              "  </tbody>\n",
              "</table>\n",
              "<p>16598 rows × 11 columns</p>\n",
              "</div>"
            ],
            "text/plain": [
              "                                                 Name  ... new_year\n",
              "0                        Candace Kane's Candy Factory  ...     00's\n",
              "1                                      The Munchables  ...     00's\n",
              "2      Otome wa Oanesama Boku ni Koi Shiteru Portable  ...     00's\n",
              "3                    Deal or No Deal: Special Edition  ...     00's\n",
              "4           Ben 10 Ultimate Alien: Cosmic Destruction  ...     00's\n",
              "...                                               ...  ...      ...\n",
              "16593                         Ice Age 2: The Meltdown  ...     00's\n",
              "16594                     Rainbow Islands: Revolution  ...     00's\n",
              "16595                                        NBA 2K16  ...     10's\n",
              "16596                     Toukiden: The Age of Demons  ...     10's\n",
              "16597                        The King of Fighters '95  ...     90's\n",
              "\n",
              "[16598 rows x 11 columns]"
            ]
          },
          "metadata": {
            "tags": []
          },
          "execution_count": 40
        }
      ]
    },
    {
      "cell_type": "code",
      "metadata": {
        "id": "DPB7MgdF-INQ"
      },
      "source": [
        "#총 매출 10m부터 \n",
        "_#10M=df.sort_values(by=['sum_sales'],ascending=False)\n",
        "_10M=_10M[_10M['sum_sales']>10]\n",
        "_10M_G=pd.DataFrame(_10M.groupby('Genre').mean().iloc[:,5])\n",
        "\n",
        "#sns.barplot(data=_10M_G,x='Genre',y='sum_sales')\n",
        "#_10M[_10M['Genre']=='Action'] #platform : 11개\n",
        "#df.shape(16598, 11)\n",
        "\n",
        "#df[df['Genre']=='Adventure'],\n",
        "\n",
        "#상위 20%를 성공햇다고 가정햇을 때 3320 개"
      ],
      "execution_count": null,
      "outputs": []
    },
    {
      "cell_type": "code",
      "metadata": {
        "id": "mDPXVRsCsMfp"
      },
      "source": [
        "action=np.array(df['sum_sales'][df['Genre']=='Action'])\n",
        "adventure=np.array(df['sum_sales'][df['Genre']=='Adventure'])\n",
        "fighting=np.array(df['sum_sales'][df['Genre']=='Fighting'])\n",
        "misc=np.array(df['sum_sales'][df['Genre']=='Misc'])\n",
        "platform=np.array(df['sum_sales'][df['Genre']=='Platform'])\n",
        "puzzle=np.array(df['sum_sales'][df['Genre']=='Puzzle'])\n",
        "racing=np.array(df['sum_sales'][df['Genre']=='Racing'])\n",
        "role_playing=np.array(df['sum_sales'][df['Genre']=='Role-Playing'])\n",
        "\n",
        "shooter=np.array(df['sum_sales'][df['Genre']=='Shooter'])\n",
        "simulation=np.array(df['sum_sales'][df['Genre']=='Simulation'])\n",
        "sports=np.array(df['sum_sales'][df['Genre']=='Sports'])\n",
        "strategy=np.array(df['sum_sales'][df['Genre']=='Strategy'])\n"
      ],
      "execution_count": null,
      "outputs": []
    },
    {
      "cell_type": "code",
      "metadata": {
        "colab": {
          "base_uri": "https://localhost:8080/",
          "height": 323
        },
        "id": "p6fp2Ydx9Fc7",
        "outputId": "7daf721c-cd35-4784-9320-028e760d2385"
      },
      "source": [
        "plot_data = [action, adventure,fighting,misc,platform,puzzle,racing,role_playing,shooter,simulation,sports, strategy]\n",
        "ax = plt.boxplot(plot_data)\n",
        "plt.show()"
      ],
      "execution_count": null,
      "outputs": [
        {
          "output_type": "stream",
          "text": [
            "/usr/local/lib/python3.7/dist-packages/numpy/core/_asarray.py:83: VisibleDeprecationWarning: Creating an ndarray from ragged nested sequences (which is a list-or-tuple of lists-or-tuples-or ndarrays with different lengths or shapes) is deprecated. If you meant to do this, you must specify 'dtype=object' when creating the ndarray\n",
            "  return array(a, dtype, copy=False, order=order)\n"
          ],
          "name": "stderr"
        },
        {
          "output_type": "display_data",
          "data": {
            "image/png": "[encoded data removed]",
            "text/plain": [
              "<Figure size 432x288 with 1 Axes>"
            ]
          },
          "metadata": {
            "tags": [],
            "needs_background": "light"
          }
        }
      ]
    },
    {
      "cell_type": "code",
      "metadata": {
        "colab": {
          "base_uri": "https://localhost:8080/"
        },
        "id": "Qpq3nNNV9KRf",
        "outputId": "4b5d751c-03fe-46cf-cddf-9f6bed666edf"
      },
      "source": [
        "from scipy import stats\n",
        "F_statistic, pVal = stats.f_oneway(action, adventure,fighting,misc,platform,puzzle,racing,role_playing,shooter,simulation,sports, strategy)\n",
        "\n",
        "print('Altman 910 데이터의 일원분산분석 결과 : F={0:.1f}, p={1:.5f}'.format(F_statistic, pVal))\n",
        "if pVal < 0.05:\n",
        "    print('P-value 값이 충분히 작음으로 인해 그룹의 평균값이 통계적으로 유의미하게 차이납니다.')"
      ],
      "execution_count": null,
      "outputs": [
        {
          "output_type": "stream",
          "text": [
            "Altman 910 데이터의 일원분산분석 결과 : F=18.2, p=0.00000\n",
            "P-value 값이 충분히 작음으로 인해 그룹의 평균값이 통계적으로 유의미하게 차이납니다.\n"
          ],
          "name": "stdout"
        }
      ]
    },
    {
      "cell_type": "code",
      "metadata": {
        "id": "tmYEZFBoBOSq"
      },
      "source": [
        "action=np.array(_10M['sum_sales'][_10M['Genre']=='Action'])\n",
        "adventure=np.array(_10M['sum_sales'][_10M['Genre']=='Adventure'])\n",
        "fighting=np.array(_10M['sum_sales'][_10M['Genre']=='Fighting'])\n",
        "misc=np.array(_10M['sum_sales'][_10M['Genre']=='Misc'])\n",
        "platform=np.array(_10M['sum_sales'][_10M['Genre']=='Platform'])\n",
        "puzzle=np.array(_10M['sum_sales'][_10M['Genre']=='Puzzle'])\n",
        "racing=np.array(_10M['sum_sales'][_10M['Genre']=='Racing'])\n",
        "role_playing=np.array(_10M['sum_sales'][_10M['Genre']=='Role-Playing'])\n",
        "\n",
        "shooter=np.array(_10M['sum_sales'][_10M['Genre']=='Shooter'])\n",
        "simulation=np.array(_10M['sum_sales'][_10M['Genre']=='Simulation'])\n",
        "sports=np.array(_10M['sum_sales'][_10M['Genre']=='Sports'])\n",
        "strategy=np.array([0])"
      ],
      "execution_count": null,
      "outputs": []
    },
    {
      "cell_type": "code",
      "metadata": {
        "colab": {
          "base_uri": "https://localhost:8080/",
          "height": 323
        },
        "id": "i6LVNxw2BW4p",
        "outputId": "ec24aa6a-810b-424d-8e19-1c9220a40c86"
      },
      "source": [
        "plot_data = [action, adventure,fighting,misc,platform,puzzle,racing,role_playing,shooter,simulation,sports, strategy]\n",
        "ax = plt.boxplot(plot_data)\n",
        "plt.show()"
      ],
      "execution_count": null,
      "outputs": [
        {
          "output_type": "stream",
          "text": [
            "/usr/local/lib/python3.7/dist-packages/numpy/core/_asarray.py:83: VisibleDeprecationWarning: Creating an ndarray from ragged nested sequences (which is a list-or-tuple of lists-or-tuples-or ndarrays with different lengths or shapes) is deprecated. If you meant to do this, you must specify 'dtype=object' when creating the ndarray\n",
            "  return array(a, dtype, copy=False, order=order)\n"
          ],
          "name": "stderr"
        },
        {
          "output_type": "display_data",
          "data": {
            "image/png": "[encoded data removed]",
            "text/plain": [
              "<Figure size 432x288 with 1 Axes>"
            ]
          },
          "metadata": {
            "tags": [],
            "needs_background": "light"
          }
        }
      ]
    },
    {
      "cell_type": "code",
      "metadata": {
        "colab": {
          "base_uri": "https://localhost:8080/"
        },
        "id": "uLmZxPfFBZyc",
        "outputId": "9f7d9594-8f46-4d5c-bdf6-7e82afd77439"
      },
      "source": [
        "from scipy import stats\n",
        "F_statistic, pVal = stats.f_oneway(action, adventure,fighting,misc,platform,puzzle,racing,role_playing,shooter,simulation,sports, strategy)\n",
        "\n",
        "print('Altman 910 데이터의 일원분산분석 결과 : F={0:.1f}, p={1:.5f}'.format(F_statistic, pVal))\n",
        "if pVal < 0.05:\n",
        "    print('P-value 값이 충분히 작음으로 인해 그룹의 평균값이 통계적으로 유의미하게 차이납니다.')"
      ],
      "execution_count": null,
      "outputs": [
        {
          "output_type": "stream",
          "text": [
            "Altman 910 데이터의 일원분산분석 결과 : F=2.4, p=0.01748\n",
            "P-value 값이 충분히 작음으로 인해 그룹의 평균값이 통계적으로 유의미하게 차이납니다.\n"
          ],
          "name": "stdout"
        }
      ]
    },
    {
      "cell_type": "code",
      "metadata": {
        "id": "DEO_RsIECTQc"
      },
      "source": [
        ""
      ],
      "execution_count": null,
      "outputs": []
    },
    {
      "cell_type": "code",
      "metadata": {
        "colab": {
          "base_uri": "https://localhost:8080/",
          "height": 355
        },
        "id": "TxAaoeWi1nrY",
        "outputId": "7438609c-12d6-4f53-9b80-2f5d57316c1f"
      },
      "source": [
        "_10M_G=[14.814444,\t11.18\t,13.04,\t20.33\t,19.098182,\t22.78,\t17.115714\t,17.555,14.374167\t,18.515\t,40.115]\n",
        "genre_g=['Action'\t,'Adventure',\t'Fighting',\t'Misc',\t'Platform',\t'Puzzle',\t'Racing',\t'Role-Playing',\t'Shooter',\t'Simulation',\t'Sports']\n",
        "colors=sns.color_palette('hls',11)\n",
        "\n",
        "plt.figure(figsize=(15,5))\n",
        "plt.title('Average Sales by Genre of Games over 10M')\n",
        "plt.bar(genre_g,_10M_G,color=colors)"
      ],
      "execution_count": null,
      "outputs": [
        {
          "output_type": "execute_result",
          "data": {
            "text/plain": [
              "<BarContainer object of 11 artists>"
            ]
          },
          "metadata": {
            "tags": []
          },
          "execution_count": 49
        },
        {
          "output_type": "display_data",
          "data": {
            "image/png": "[encoded data removed]",
            "text/plain": [
              "<Figure size 1080x360 with 1 Axes>"
            ]
          },
          "metadata": {
            "tags": [],
            "needs_background": "light"
          }
        }
      ]
    },
    {
      "cell_type": "code",
      "metadata": {
        "colab": {
          "base_uri": "https://localhost:8080/",
          "height": 355
        },
        "id": "qBr2kWJgsndl",
        "outputId": "e3b13c6d-a96c-4572-90a1-fb656271d550"
      },
      "source": [
        "colors=sns.color_palette('hls',13)\n",
        "\n",
        "platform=['3DS',\t'DS',\t'GB',\t'GBA',\t'N64',\t'NES',\t'PS',\t'PS2',\t'PS3',\t'PS4',\t'SNES',\t'Wii',\t'X360']\n",
        "#_10M_P=pd.DataFrame(_10M.groupby('Platform').mean().iloc[:,5]).T\n",
        "_10M_P=[12.17\t,18.198,\t21.448333\t,13.165\t,11.9\t,28.61,\t10.95,\t15.336,\t13.381429,13.115,\t15.585,\t28.874,\t14.248889]\n",
        "plt.figure(figsize=(15,5))\n",
        "plt.title('Average Sales by Platform of Games over 10M')\n",
        "plt.bar(platform,_10M_P,color=colors)"
      ],
      "execution_count": null,
      "outputs": [
        {
          "output_type": "execute_result",
          "data": {
            "text/plain": [
              "<BarContainer object of 13 artists>"
            ]
          },
          "metadata": {
            "tags": []
          },
          "execution_count": 50
        },
        {
          "output_type": "display_data",
          "data": {
            "image/png": "[encoded data removed]",
            "text/plain": [
              "<Figure size 1080x360 with 1 Axes>"
            ]
          },
          "metadata": {
            "tags": [],
            "needs_background": "light"
          }
        }
      ]
    },
    {
      "cell_type": "code",
      "metadata": {
        "colab": {
          "base_uri": "https://localhost:8080/",
          "height": 366
        },
        "id": "ql95P7wUstRY",
        "outputId": "c18bce13-c2c6-4d73-89c2-1781a56f7fe9"
      },
      "source": [
        "colors=sns.color_palette('hls',6)\n",
        "\n",
        "_10M_B=pd.DataFrame(_10M.groupby('Publisher').mean().iloc[:,5])\n",
        "\n",
        "_10M_B=[13.204,\t16.98,\t21.433784,\t12.085\t,15.17875,\t10.27]\n",
        "publisher=['Activision',\t'Microsoft Game\\nStudios',\t'Nintendo',\t'Sony Computer\\nEntertainment',\t'Take-Two\\nInteractive',\t'Ubisoft']\n",
        "\n",
        "plt.figure(figsize=(9,5))\n",
        "plt.title('Average Sales by Publisher of Games over 10M')\n",
        "plt.bar(publisher,_10M_B,color=colors)\n"
      ],
      "execution_count": null,
      "outputs": [
        {
          "output_type": "execute_result",
          "data": {
            "text/plain": [
              "<BarContainer object of 6 artists>"
            ]
          },
          "metadata": {
            "tags": []
          },
          "execution_count": 86
        },
        {
          "output_type": "display_data",
          "data": {
            "image/png": "[encoded data removed]",
            "text/plain": [
              "<Figure size 648x360 with 1 Axes>"
            ]
          },
          "metadata": {
            "tags": [],
            "needs_background": "light"
          }
        }
      ]
    },
    {
      "cell_type": "code",
      "metadata": {
        "colab": {
          "base_uri": "https://localhost:8080/"
        },
        "id": "iAk2tbgIZbrj",
        "outputId": "0a1fad62-255a-4e45-e129-f66f2a0f2cd6"
      },
      "source": [
        "act=np.array(df['sum_sales'][df['Publisher']=='Activision'])\n",
        "mgs=np.array(df['sum_sales'][df['Publisher']=='Microsoft Game Studios'])\n",
        "nin=np.array(df['sum_sales'][df['Publisher']=='Nintendo'])\n",
        "sne=np.array(df['sum_sales'][df['Publisher']=='Sony Computer Entertainment'])\n",
        "tti=np.array(df['sum_sales'][df['Publisher']=='Take-Two Interactive'])\n",
        "ubi=np.array(df['sum_sales'][df['Publisher']=='Ubisoft'])\n",
        "\n",
        "\n",
        "from scipy import stats\n",
        "F_statistic, pVal = stats.f_oneway(act, mgs,nin,sne,tti,ubi)\n",
        "\n",
        "print('Altman 910 데이터의 일원분산분석 결과 : F={0:.1f}, p={1:.5f}'.format(F_statistic, pVal))\n",
        "if pVal < 0.05:\n",
        "    print('P-value 값이 충분히 작음으로 인해 그룹의 평균값이 통계적으로 유의미하게 차이납니다.')"
      ],
      "execution_count": null,
      "outputs": [
        {
          "output_type": "stream",
          "text": [
            "Altman 910 데이터의 일원분산분석 결과 : F=48.8, p=0.00000\n",
            "P-value 값이 충분히 작음으로 인해 그룹의 평균값이 통계적으로 유의미하게 차이납니다.\n"
          ],
          "name": "stdout"
        }
      ]
    },
    {
      "cell_type": "code",
      "metadata": {
        "colab": {
          "base_uri": "https://localhost:8080/"
        },
        "id": "LTz1t8JWRCdw",
        "outputId": "92a3634b-a17e-4a97-af45-10999920240d"
      },
      "source": [
        "act=np.array(_10M['sum_sales'][_10M['Publisher']=='Activision'])\n",
        "mgs=np.array(_10M['sum_sales'][_10M['Publisher']=='Microsoft Game Studios'])\n",
        "nin=np.array(_10M['sum_sales'][_10M['Publisher']=='Nintendo'])\n",
        "sne=np.array(_10M['sum_sales'][_10M['Publisher']=='Sony Computer Entertainment'])\n",
        "tti=np.array(_10M['sum_sales'][_10M['Publisher']=='Take-Two Interactive'])\n",
        "ubi=np.array(_10M['sum_sales'][_10M['Publisher']=='Ubisoft'])\n",
        "\n",
        "\n",
        "from scipy import stats\n",
        "F_statistic, pVal = stats.f_oneway(act, mgs,nin,sne,tti,ubi)\n",
        "\n",
        "print('Altman 910 데이터의 일원분산분석 결과 : F={0:.1f}, p={1:.5f}'.format(F_statistic, pVal))\n",
        "if pVal < 0.05:\n",
        "\n",
        "    print('P-value 값이 충분히 작음으로 인해 그룹의 평균값이 통계적으로 유의미하게 차이납니다.')"
      ],
      "execution_count": null,
      "outputs": [
        {
          "output_type": "stream",
          "text": [
            "Altman 910 데이터의 일원분산분석 결과 : F=1.6, p=0.17959\n"
          ],
          "name": "stdout"
        }
      ]
    },
    {
      "cell_type": "code",
      "metadata": {
        "colab": {
          "base_uri": "https://localhost:8080/"
        },
        "id": "HdHCkiblZjxl",
        "outputId": "f3e78acf-ed06-41c4-c098-a4270ed54dcf"
      },
      "source": [
        "#'3DS',\t'DS',\t'GB',\t'GBA',\t'N64',\t'NES',\t'PS',\t'PS2',\t'PS3',\t'PS4',\t'SNES',\t'Wii',\t'X360']\n",
        "_3ds=np.array(_10M['sum_sales'][_10M['Platform']=='3DS'])\n",
        "ds=np.array(_10M['sum_sales'][_10M['Platform']=='DS'])\n",
        "gb=np.array(_10M['sum_sales'][_10M['Platform']=='GB'])\n",
        "gba=np.array(_10M['sum_sales'][_10M['Platform']=='GBA'])\n",
        "n64=np.array(_10M['sum_sales'][_10M['Platform']=='N64'])\n",
        "nes=np.array(_10M['sum_sales'][_10M['Platform']=='NES'])\n",
        "ps=np.array(_10M['sum_sales'][_10M['Platform']=='PS'])\n",
        "ps2=np.array(_10M['sum_sales'][_10M['Platform']=='PS2'])\n",
        "ps3=np.array(_10M['sum_sales'][_10M['Platform']=='PS3'])\n",
        "ps4=np.array(_10M['sum_sales'][_10M['Platform']=='PS4'])\n",
        "snes=np.array(_10M['sum_sales'][_10M['Platform']=='SNES'])\n",
        "wii=np.array(_10M['sum_sales'][_10M['Platform']=='Wii'])\n",
        "x360=np.array(_10M['sum_sales'][_10M['Platform']=='X360'])\n",
        "\n",
        "from scipy import stats\n",
        "F_statistic, pVal = stats.f_oneway(_3ds,ds,gb,gba,n64,nes,ps,ps2,ps3,ps4,snes,wii,x360)\n",
        "\n",
        "print('Altman 910 데이터의 일원분산분석 결과 : F={0:.1f}, p={1:.5f}'.format(F_statistic, pVal))\n",
        "if pVal < 0.05:\n",
        "    print('P-value 값이 충분히 작음으로 인해 그룹의 평균값이 통계적으로 유의미하게 차이납니다.')"
      ],
      "execution_count": null,
      "outputs": [
        {
          "output_type": "stream",
          "text": [
            "Altman 910 데이터의 일원분산분석 결과 : F=1.7, p=0.08728\n"
          ],
          "name": "stdout"
        }
      ]
    },
    {
      "cell_type": "code",
      "metadata": {
        "colab": {
          "base_uri": "https://localhost:8080/"
        },
        "id": "py609Vsxaw3K",
        "outputId": "f44930a9-28d2-45a9-e031-34799b781bdc"
      },
      "source": [
        "#'3DS',\t'DS',\t'GB',\t'GBA',\t'N64',\t'NES',\t'PS',\t'PS2',\t'PS3',\t'PS4',\t'SNES',\t'Wii',\t'X360']\n",
        "_3ds=np.array(df['sum_sales'][df['Platform']=='3DS'])\n",
        "ds=np.array(df['sum_sales'][df['Platform']=='DS'])\n",
        "gb=np.array(df['sum_sales'][df['Platform']=='GB'])\n",
        "gba=np.array(df['sum_sales'][df['Platform']=='GBA'])\n",
        "n64=np.array(df['sum_sales'][df['Platform']=='N64'])\n",
        "nes=np.array(df['sum_sales'][df['Platform']=='NES'])\n",
        "ps=np.array(df['sum_sales'][df['Platform']=='PS'])\n",
        "ps2=np.array(df['sum_sales'][df['Platform']=='PS2'])\n",
        "ps3=np.array(df['sum_sales'][df['Platform']=='PS3'])\n",
        "ps4=np.array(df['sum_sales'][df['Platform']=='PS4'])\n",
        "snes=np.array(df['sum_sales'][df['Platform']=='SNES'])\n",
        "wii=np.array(df['sum_sales'][df['Platform']=='Wii'])\n",
        "x360=np.array(df['sum_sales'][df['Platform']=='X360'])\n",
        "\n",
        "from scipy import stats\n",
        "F_statistic, pVal = stats.f_oneway(_3ds,ds,gb,gba,n64,nes,ps,ps2,ps3,ps4,snes,wii,x360)\n",
        "\n",
        "print('Altman 910 데이터의 일원분산분석 결과 : F={0:.1f}, p={1:.5f}'.format(F_statistic, pVal))\n",
        "if pVal < 0.05:\n",
        "    print('P-value 값이 충분히 작음으로 인해 그룹의 평균값이 통계적으로 유의미하게 차이납니다.')"
      ],
      "execution_count": null,
      "outputs": [
        {
          "output_type": "stream",
          "text": [
            "Altman 910 데이터의 일원분산분석 결과 : F=27.3, p=0.00000\n",
            "P-value 값이 충분히 작음으로 인해 그룹의 평균값이 통계적으로 유의미하게 차이납니다.\n"
          ],
          "name": "stdout"
        }
      ]
    },
    {
      "cell_type": "code",
      "metadata": {
        "colab": {
          "base_uri": "https://localhost:8080/",
          "height": 502
        },
        "id": "jYVRl1wvtTbA",
        "outputId": "441d2ac6-04b7-42c9-ecfd-885e26fce7b3"
      },
      "source": [
        "_10m=df.sort_values(by=['sum_sales'],ascending=False)[62:16598]\n",
        "\n",
        "_10m[_10m['Genre']=='Action'] #platform :873\n",
        "#_80per.shape"
      ],
      "execution_count": null,
      "outputs": [
        {
          "output_type": "execute_result",
          "data": {
            "text/html": [
              "<div>\n",
              "<style scoped>\n",
              "    .dataframe tbody tr th:only-of-type {\n",
              "        vertical-align: middle;\n",
              "    }\n",
              "\n",
              "    .dataframe tbody tr th {\n",
              "        vertical-align: top;\n",
              "    }\n",
              "\n",
              "    .dataframe thead th {\n",
              "        text-align: right;\n",
              "    }\n",
              "</style>\n",
              "<table border=\"1\" class=\"dataframe\">\n",
              "  <thead>\n",
              "    <tr style=\"text-align: right;\">\n",
              "      <th></th>\n",
              "      <th>Name</th>\n",
              "      <th>Platform</th>\n",
              "      <th>Year</th>\n",
              "      <th>Genre</th>\n",
              "      <th>Publisher</th>\n",
              "      <th>NA_Sales</th>\n",
              "      <th>EU_Sales</th>\n",
              "      <th>JP_Sales</th>\n",
              "      <th>Other_Sales</th>\n",
              "      <th>sum_sales</th>\n",
              "      <th>new_year</th>\n",
              "    </tr>\n",
              "  </thead>\n",
              "  <tbody>\n",
              "    <tr>\n",
              "      <th>9035</th>\n",
              "      <td>FIFA Soccer 13</td>\n",
              "      <td>PS3</td>\n",
              "      <td>2012.0</td>\n",
              "      <td>Action</td>\n",
              "      <td>Electronic Arts</td>\n",
              "      <td>1.06</td>\n",
              "      <td>5.05</td>\n",
              "      <td>0.13</td>\n",
              "      <td>2.01</td>\n",
              "      <td>8.25</td>\n",
              "      <td>10's</td>\n",
              "    </tr>\n",
              "    <tr>\n",
              "      <th>761</th>\n",
              "      <td>Grand Theft Auto: Liberty City Stories</td>\n",
              "      <td>PSP</td>\n",
              "      <td>2005.0</td>\n",
              "      <td>Action</td>\n",
              "      <td>Take-Two Interactive</td>\n",
              "      <td>2.90</td>\n",
              "      <td>2.83</td>\n",
              "      <td>0.24</td>\n",
              "      <td>1.75</td>\n",
              "      <td>7.72</td>\n",
              "      <td>00's</td>\n",
              "    </tr>\n",
              "    <tr>\n",
              "      <th>1964</th>\n",
              "      <td>The Legend of Zelda: Ocarina of Time</td>\n",
              "      <td>N64</td>\n",
              "      <td>1998.0</td>\n",
              "      <td>Action</td>\n",
              "      <td>Nintendo</td>\n",
              "      <td>4.10</td>\n",
              "      <td>1.89</td>\n",
              "      <td>1.45</td>\n",
              "      <td>0.16</td>\n",
              "      <td>7.60</td>\n",
              "      <td>90's</td>\n",
              "    </tr>\n",
              "    <tr>\n",
              "      <th>1035</th>\n",
              "      <td>The Legend of Zelda: Twilight Princess</td>\n",
              "      <td>Wii</td>\n",
              "      <td>2006.0</td>\n",
              "      <td>Action</td>\n",
              "      <td>Nintendo</td>\n",
              "      <td>3.83</td>\n",
              "      <td>2.19</td>\n",
              "      <td>0.60</td>\n",
              "      <td>0.70</td>\n",
              "      <td>7.32</td>\n",
              "      <td>00's</td>\n",
              "    </tr>\n",
              "    <tr>\n",
              "      <th>11868</th>\n",
              "      <td>Uncharted 3: Drake's Deception</td>\n",
              "      <td>PS3</td>\n",
              "      <td>2011.0</td>\n",
              "      <td>Action</td>\n",
              "      <td>Sony Computer Entertainment</td>\n",
              "      <td>2.77</td>\n",
              "      <td>2.80</td>\n",
              "      <td>0.19</td>\n",
              "      <td>1.06</td>\n",
              "      <td>6.82</td>\n",
              "      <td>10's</td>\n",
              "    </tr>\n",
              "    <tr>\n",
              "      <th>...</th>\n",
              "      <td>...</td>\n",
              "      <td>...</td>\n",
              "      <td>...</td>\n",
              "      <td>...</td>\n",
              "      <td>...</td>\n",
              "      <td>...</td>\n",
              "      <td>...</td>\n",
              "      <td>...</td>\n",
              "      <td>...</td>\n",
              "      <td>...</td>\n",
              "      <td>...</td>\n",
              "    </tr>\n",
              "    <tr>\n",
              "      <th>15887</th>\n",
              "      <td>Horse Life 4: My Horse, My Friend, My Champion</td>\n",
              "      <td>3DS</td>\n",
              "      <td>2015.0</td>\n",
              "      <td>Action</td>\n",
              "      <td>Unknown</td>\n",
              "      <td>0.00</td>\n",
              "      <td>0.01</td>\n",
              "      <td>0.00</td>\n",
              "      <td>0.00</td>\n",
              "      <td>0.01</td>\n",
              "      <td>10's</td>\n",
              "    </tr>\n",
              "    <tr>\n",
              "      <th>9093</th>\n",
              "      <td>Bunmei Kaika: Aoiza Ibunroku Saien</td>\n",
              "      <td>PSP</td>\n",
              "      <td>2012.0</td>\n",
              "      <td>Action</td>\n",
              "      <td>FuRyu</td>\n",
              "      <td>0.00</td>\n",
              "      <td>0.00</td>\n",
              "      <td>0.01</td>\n",
              "      <td>0.00</td>\n",
              "      <td>0.01</td>\n",
              "      <td>10's</td>\n",
              "    </tr>\n",
              "    <tr>\n",
              "      <th>9087</th>\n",
              "      <td>Barbie and Her Sisters Puppy Rescue</td>\n",
              "      <td>WiiU</td>\n",
              "      <td>2015.0</td>\n",
              "      <td>Action</td>\n",
              "      <td>Namco Bandai Games</td>\n",
              "      <td>0.00</td>\n",
              "      <td>0.01</td>\n",
              "      <td>0.00</td>\n",
              "      <td>0.00</td>\n",
              "      <td>0.01</td>\n",
              "      <td>10's</td>\n",
              "    </tr>\n",
              "    <tr>\n",
              "      <th>15842</th>\n",
              "      <td>Trine</td>\n",
              "      <td>PC</td>\n",
              "      <td>2009.0</td>\n",
              "      <td>Action</td>\n",
              "      <td>Nobilis</td>\n",
              "      <td>0.00</td>\n",
              "      <td>0.01</td>\n",
              "      <td>0.00</td>\n",
              "      <td>0.00</td>\n",
              "      <td>0.01</td>\n",
              "      <td>00's</td>\n",
              "    </tr>\n",
              "    <tr>\n",
              "      <th>5949</th>\n",
              "      <td>Spider-Man: Friend or Foe</td>\n",
              "      <td>PC</td>\n",
              "      <td>2007.0</td>\n",
              "      <td>Action</td>\n",
              "      <td>Activision</td>\n",
              "      <td>0.01</td>\n",
              "      <td>0.00</td>\n",
              "      <td>0.00</td>\n",
              "      <td>0.00</td>\n",
              "      <td>0.01</td>\n",
              "      <td>00's</td>\n",
              "    </tr>\n",
              "  </tbody>\n",
              "</table>\n",
              "<p>3296 rows × 11 columns</p>\n",
              "</div>"
            ],
            "text/plain": [
              "                                                 Name  ... new_year\n",
              "9035                                   FIFA Soccer 13  ...     10's\n",
              "761            Grand Theft Auto: Liberty City Stories  ...     00's\n",
              "1964             The Legend of Zelda: Ocarina of Time  ...     90's\n",
              "1035           The Legend of Zelda: Twilight Princess  ...     00's\n",
              "11868                  Uncharted 3: Drake's Deception  ...     10's\n",
              "...                                               ...  ...      ...\n",
              "15887  Horse Life 4: My Horse, My Friend, My Champion  ...     10's\n",
              "9093               Bunmei Kaika: Aoiza Ibunroku Saien  ...     10's\n",
              "9087              Barbie and Her Sisters Puppy Rescue  ...     10's\n",
              "15842                                           Trine  ...     00's\n",
              "5949                        Spider-Man: Friend or Foe  ...     00's\n",
              "\n",
              "[3296 rows x 11 columns]"
            ]
          },
          "metadata": {
            "tags": []
          },
          "execution_count": 56
        }
      ]
    },
    {
      "cell_type": "code",
      "metadata": {
        "colab": {
          "base_uri": "https://localhost:8080/",
          "height": 417
        },
        "id": "bwH3diG-5-MS",
        "outputId": "0040d6c0-1e60-4d04-a0ff-3330a2b7c2b8"
      },
      "source": [
        "_10M=df[df['sum_sales']>10]\n",
        "_10M.groupby('Genre').sum()"
      ],
      "execution_count": null,
      "outputs": [
        {
          "output_type": "execute_result",
          "data": {
            "text/html": [
              "<div>\n",
              "<style scoped>\n",
              "    .dataframe tbody tr th:only-of-type {\n",
              "        vertical-align: middle;\n",
              "    }\n",
              "\n",
              "    .dataframe tbody tr th {\n",
              "        vertical-align: top;\n",
              "    }\n",
              "\n",
              "    .dataframe thead th {\n",
              "        text-align: right;\n",
              "    }\n",
              "</style>\n",
              "<table border=\"1\" class=\"dataframe\">\n",
              "  <thead>\n",
              "    <tr style=\"text-align: right;\">\n",
              "      <th></th>\n",
              "      <th>Year</th>\n",
              "      <th>NA_Sales</th>\n",
              "      <th>EU_Sales</th>\n",
              "      <th>JP_Sales</th>\n",
              "      <th>Other_Sales</th>\n",
              "      <th>sum_sales</th>\n",
              "    </tr>\n",
              "    <tr>\n",
              "      <th>Genre</th>\n",
              "      <th></th>\n",
              "      <th></th>\n",
              "      <th></th>\n",
              "      <th></th>\n",
              "      <th></th>\n",
              "      <th></th>\n",
              "    </tr>\n",
              "  </thead>\n",
              "  <tbody>\n",
              "    <tr>\n",
              "      <th>Action</th>\n",
              "      <td>18072.0</td>\n",
              "      <td>61.19</td>\n",
              "      <td>40.42</td>\n",
              "      <td>7.11</td>\n",
              "      <td>24.61</td>\n",
              "      <td>133.33</td>\n",
              "    </tr>\n",
              "    <tr>\n",
              "      <th>Adventure</th>\n",
              "      <td>1992.0</td>\n",
              "      <td>6.16</td>\n",
              "      <td>2.04</td>\n",
              "      <td>2.69</td>\n",
              "      <td>0.29</td>\n",
              "      <td>11.18</td>\n",
              "    </tr>\n",
              "    <tr>\n",
              "      <th>Fighting</th>\n",
              "      <td>2008.0</td>\n",
              "      <td>6.75</td>\n",
              "      <td>2.61</td>\n",
              "      <td>2.66</td>\n",
              "      <td>1.02</td>\n",
              "      <td>13.04</td>\n",
              "    </tr>\n",
              "    <tr>\n",
              "      <th>Misc</th>\n",
              "      <td>8032.0</td>\n",
              "      <td>39.80</td>\n",
              "      <td>26.55</td>\n",
              "      <td>7.33</td>\n",
              "      <td>7.64</td>\n",
              "      <td>81.32</td>\n",
              "    </tr>\n",
              "    <tr>\n",
              "      <th>Platform</th>\n",
              "      <td>21978.0</td>\n",
              "      <td>117.23</td>\n",
              "      <td>44.27</td>\n",
              "      <td>38.18</td>\n",
              "      <td>10.40</td>\n",
              "      <td>210.08</td>\n",
              "    </tr>\n",
              "    <tr>\n",
              "      <th>Puzzle</th>\n",
              "      <td>3994.0</td>\n",
              "      <td>26.64</td>\n",
              "      <td>7.62</td>\n",
              "      <td>9.54</td>\n",
              "      <td>1.76</td>\n",
              "      <td>45.56</td>\n",
              "    </tr>\n",
              "    <tr>\n",
              "      <th>Racing</th>\n",
              "      <td>14036.0</td>\n",
              "      <td>47.24</td>\n",
              "      <td>38.21</td>\n",
              "      <td>16.91</td>\n",
              "      <td>17.45</td>\n",
              "      <td>119.81</td>\n",
              "    </tr>\n",
              "    <tr>\n",
              "      <th>Role-Playing</th>\n",
              "      <td>16029.0</td>\n",
              "      <td>52.78</td>\n",
              "      <td>37.83</td>\n",
              "      <td>43.84</td>\n",
              "      <td>5.99</td>\n",
              "      <td>140.44</td>\n",
              "    </tr>\n",
              "    <tr>\n",
              "      <th>Shooter</th>\n",
              "      <td>24103.0</td>\n",
              "      <td>104.36</td>\n",
              "      <td>47.67</td>\n",
              "      <td>3.19</td>\n",
              "      <td>17.27</td>\n",
              "      <td>172.49</td>\n",
              "    </tr>\n",
              "    <tr>\n",
              "      <th>Simulation</th>\n",
              "      <td>4010.0</td>\n",
              "      <td>11.62</td>\n",
              "      <td>14.52</td>\n",
              "      <td>7.26</td>\n",
              "      <td>3.63</td>\n",
              "      <td>37.03</td>\n",
              "    </tr>\n",
              "    <tr>\n",
              "      <th>Sports</th>\n",
              "      <td>8031.0</td>\n",
              "      <td>75.27</td>\n",
              "      <td>56.65</td>\n",
              "      <td>13.18</td>\n",
              "      <td>15.36</td>\n",
              "      <td>160.46</td>\n",
              "    </tr>\n",
              "  </tbody>\n",
              "</table>\n",
              "</div>"
            ],
            "text/plain": [
              "                 Year  NA_Sales  EU_Sales  JP_Sales  Other_Sales  sum_sales\n",
              "Genre                                                                      \n",
              "Action        18072.0     61.19     40.42      7.11        24.61     133.33\n",
              "Adventure      1992.0      6.16      2.04      2.69         0.29      11.18\n",
              "Fighting       2008.0      6.75      2.61      2.66         1.02      13.04\n",
              "Misc           8032.0     39.80     26.55      7.33         7.64      81.32\n",
              "Platform      21978.0    117.23     44.27     38.18        10.40     210.08\n",
              "Puzzle         3994.0     26.64      7.62      9.54         1.76      45.56\n",
              "Racing        14036.0     47.24     38.21     16.91        17.45     119.81\n",
              "Role-Playing  16029.0     52.78     37.83     43.84         5.99     140.44\n",
              "Shooter       24103.0    104.36     47.67      3.19        17.27     172.49\n",
              "Simulation     4010.0     11.62     14.52      7.26         3.63      37.03\n",
              "Sports         8031.0     75.27     56.65     13.18        15.36     160.46"
            ]
          },
          "metadata": {
            "tags": []
          },
          "execution_count": 122
        }
      ]
    },
    {
      "cell_type": "code",
      "metadata": {
        "colab": {
          "base_uri": "https://localhost:8080/",
          "height": 369
        },
        "id": "wo5EsqhAgx0E",
        "outputId": "a1b696d7-69b6-4a0d-e9d8-0acc76933fd6"
      },
      "source": [
        "plt.figure(figsize=(15,5))\n",
        "plt.title('Total Sales by Genre of Games over 10M')\n",
        "sns.boxplot(data=_10M,x='Genre',y='sum_sales')"
      ],
      "execution_count": null,
      "outputs": [
        {
          "output_type": "execute_result",
          "data": {
            "text/plain": [
              "<matplotlib.axes._subplots.AxesSubplot at 0x7fc2f8eb41d0>"
            ]
          },
          "metadata": {
            "tags": []
          },
          "execution_count": 120
        },
        {
          "output_type": "display_data",
          "data": {
            "image/png": "[encoded data removed]",
            "text/plain": [
              "<Figure size 1080x360 with 1 Axes>"
            ]
          },
          "metadata": {
            "tags": [],
            "needs_background": "light"
          }
        }
      ]
    },
    {
      "cell_type": "code",
      "metadata": {
        "colab": {
          "base_uri": "https://localhost:8080/",
          "height": 369
        },
        "id": "6nRSzzNjxWb6",
        "outputId": "7903bdd1-a1cd-48cb-c221-458394dce49e"
      },
      "source": [
        "plt.figure(figsize=(15,5))\n",
        "plt.title('Total Sales by Platform of Games over 10M')\n",
        "sns.boxplot(data=_10M,x='Platform',y='sum_sales',palette=\"husl\")"
      ],
      "execution_count": null,
      "outputs": [
        {
          "output_type": "execute_result",
          "data": {
            "text/plain": [
              "<matplotlib.axes._subplots.AxesSubplot at 0x7fc2f2b3c0d0>"
            ]
          },
          "metadata": {
            "tags": []
          },
          "execution_count": 102
        },
        {
          "output_type": "display_data",
          "data": {
            "image/png": "[encoded data removed]",
            "text/plain": [
              "<Figure size 1080x360 with 1 Axes>"
            ]
          },
          "metadata": {
            "tags": [],
            "needs_background": "light"
          }
        }
      ]
    },
    {
      "cell_type": "code",
      "metadata": {
        "colab": {
          "base_uri": "https://localhost:8080/",
          "height": 415
        },
        "id": "eDlpwQ615sXQ",
        "outputId": "d8a94aec-326b-459d-815a-dc2f77a9ee4e"
      },
      "source": [
        "_10M"
      ],
      "execution_count": null,
      "outputs": [
        {
          "output_type": "execute_result",
          "data": {
            "text/html": [
              "<div>\n",
              "<style scoped>\n",
              "    .dataframe tbody tr th:only-of-type {\n",
              "        vertical-align: middle;\n",
              "    }\n",
              "\n",
              "    .dataframe tbody tr th {\n",
              "        vertical-align: top;\n",
              "    }\n",
              "\n",
              "    .dataframe thead th {\n",
              "        text-align: right;\n",
              "    }\n",
              "</style>\n",
              "<table border=\"1\" class=\"dataframe\">\n",
              "  <thead>\n",
              "    <tr style=\"text-align: right;\">\n",
              "      <th></th>\n",
              "      <th>Name</th>\n",
              "      <th>Platform</th>\n",
              "      <th>Year</th>\n",
              "      <th>Genre</th>\n",
              "      <th>Publisher</th>\n",
              "      <th>NA_Sales</th>\n",
              "      <th>EU_Sales</th>\n",
              "      <th>JP_Sales</th>\n",
              "      <th>Other_Sales</th>\n",
              "      <th>sum_sales</th>\n",
              "      <th>new_year</th>\n",
              "    </tr>\n",
              "  </thead>\n",
              "  <tbody>\n",
              "    <tr>\n",
              "      <th>2908</th>\n",
              "      <td>Wii Sports</td>\n",
              "      <td>Wii</td>\n",
              "      <td>2006.0</td>\n",
              "      <td>Sports</td>\n",
              "      <td>Nintendo</td>\n",
              "      <td>41.49</td>\n",
              "      <td>29.02</td>\n",
              "      <td>3.77</td>\n",
              "      <td>8.46</td>\n",
              "      <td>82.74</td>\n",
              "      <td>00's</td>\n",
              "    </tr>\n",
              "    <tr>\n",
              "      <th>4199</th>\n",
              "      <td>Super Mario Bros.</td>\n",
              "      <td>NES</td>\n",
              "      <td>1985.0</td>\n",
              "      <td>Platform</td>\n",
              "      <td>Nintendo</td>\n",
              "      <td>29.08</td>\n",
              "      <td>3.58</td>\n",
              "      <td>6.81</td>\n",
              "      <td>0.77</td>\n",
              "      <td>40.24</td>\n",
              "      <td>80's</td>\n",
              "    </tr>\n",
              "    <tr>\n",
              "      <th>12579</th>\n",
              "      <td>Mario Kart Wii</td>\n",
              "      <td>Wii</td>\n",
              "      <td>2008.0</td>\n",
              "      <td>Racing</td>\n",
              "      <td>Nintendo</td>\n",
              "      <td>15.85</td>\n",
              "      <td>12.88</td>\n",
              "      <td>3.79</td>\n",
              "      <td>3.31</td>\n",
              "      <td>35.83</td>\n",
              "      <td>00's</td>\n",
              "    </tr>\n",
              "    <tr>\n",
              "      <th>3352</th>\n",
              "      <td>Wii Sports Resort</td>\n",
              "      <td>Wii</td>\n",
              "      <td>2009.0</td>\n",
              "      <td>Sports</td>\n",
              "      <td>Nintendo</td>\n",
              "      <td>15.75</td>\n",
              "      <td>11.01</td>\n",
              "      <td>3.28</td>\n",
              "      <td>2.96</td>\n",
              "      <td>33.00</td>\n",
              "      <td>00's</td>\n",
              "    </tr>\n",
              "    <tr>\n",
              "      <th>7829</th>\n",
              "      <td>Pokemon Red/Pokemon Blue</td>\n",
              "      <td>GB</td>\n",
              "      <td>1996.0</td>\n",
              "      <td>Role-Playing</td>\n",
              "      <td>Nintendo</td>\n",
              "      <td>11.27</td>\n",
              "      <td>8.89</td>\n",
              "      <td>10.22</td>\n",
              "      <td>1.00</td>\n",
              "      <td>31.38</td>\n",
              "      <td>90's</td>\n",
              "    </tr>\n",
              "    <tr>\n",
              "      <th>...</th>\n",
              "      <td>...</td>\n",
              "      <td>...</td>\n",
              "      <td>...</td>\n",
              "      <td>...</td>\n",
              "      <td>...</td>\n",
              "      <td>...</td>\n",
              "      <td>...</td>\n",
              "      <td>...</td>\n",
              "      <td>...</td>\n",
              "      <td>...</td>\n",
              "      <td>...</td>\n",
              "    </tr>\n",
              "    <tr>\n",
              "      <th>3007</th>\n",
              "      <td>Super Mario All-Stars</td>\n",
              "      <td>SNES</td>\n",
              "      <td>1993.0</td>\n",
              "      <td>Platform</td>\n",
              "      <td>Nintendo</td>\n",
              "      <td>5.99</td>\n",
              "      <td>2.15</td>\n",
              "      <td>2.12</td>\n",
              "      <td>0.29</td>\n",
              "      <td>10.55</td>\n",
              "      <td>90's</td>\n",
              "    </tr>\n",
              "    <tr>\n",
              "      <th>1810</th>\n",
              "      <td>Pokemon FireRed/Pokemon LeafGreen</td>\n",
              "      <td>GBA</td>\n",
              "      <td>2004.0</td>\n",
              "      <td>Role-Playing</td>\n",
              "      <td>Nintendo</td>\n",
              "      <td>4.34</td>\n",
              "      <td>2.65</td>\n",
              "      <td>3.15</td>\n",
              "      <td>0.35</td>\n",
              "      <td>10.49</td>\n",
              "      <td>00's</td>\n",
              "    </tr>\n",
              "    <tr>\n",
              "      <th>12472</th>\n",
              "      <td>Super Mario 64</td>\n",
              "      <td>DS</td>\n",
              "      <td>2004.0</td>\n",
              "      <td>Platform</td>\n",
              "      <td>Nintendo</td>\n",
              "      <td>5.08</td>\n",
              "      <td>3.11</td>\n",
              "      <td>1.25</td>\n",
              "      <td>0.98</td>\n",
              "      <td>10.42</td>\n",
              "      <td>00's</td>\n",
              "    </tr>\n",
              "    <tr>\n",
              "      <th>223</th>\n",
              "      <td>Just Dance 3</td>\n",
              "      <td>Wii</td>\n",
              "      <td>2011.0</td>\n",
              "      <td>Misc</td>\n",
              "      <td>Ubisoft</td>\n",
              "      <td>6.05</td>\n",
              "      <td>3.15</td>\n",
              "      <td>0.00</td>\n",
              "      <td>1.07</td>\n",
              "      <td>10.27</td>\n",
              "      <td>10's</td>\n",
              "    </tr>\n",
              "    <tr>\n",
              "      <th>5604</th>\n",
              "      <td>Call of Duty: Ghosts</td>\n",
              "      <td>X360</td>\n",
              "      <td>2013.0</td>\n",
              "      <td>Shooter</td>\n",
              "      <td>Activision</td>\n",
              "      <td>6.72</td>\n",
              "      <td>2.63</td>\n",
              "      <td>0.04</td>\n",
              "      <td>0.82</td>\n",
              "      <td>10.21</td>\n",
              "      <td>10's</td>\n",
              "    </tr>\n",
              "  </tbody>\n",
              "</table>\n",
              "<p>62 rows × 11 columns</p>\n",
              "</div>"
            ],
            "text/plain": [
              "                                    Name Platform  ...  sum_sales new_year\n",
              "2908                          Wii Sports      Wii  ...      82.74     00's\n",
              "4199                   Super Mario Bros.      NES  ...      40.24     80's\n",
              "12579                     Mario Kart Wii      Wii  ...      35.83     00's\n",
              "3352                   Wii Sports Resort      Wii  ...      33.00     00's\n",
              "7829            Pokemon Red/Pokemon Blue       GB  ...      31.38     90's\n",
              "...                                  ...      ...  ...        ...      ...\n",
              "3007               Super Mario All-Stars     SNES  ...      10.55     90's\n",
              "1810   Pokemon FireRed/Pokemon LeafGreen      GBA  ...      10.49     00's\n",
              "12472                     Super Mario 64       DS  ...      10.42     00's\n",
              "223                         Just Dance 3      Wii  ...      10.27     10's\n",
              "5604                Call of Duty: Ghosts     X360  ...      10.21     10's\n",
              "\n",
              "[62 rows x 11 columns]"
            ]
          },
          "metadata": {
            "tags": []
          },
          "execution_count": 114
        }
      ]
    },
    {
      "cell_type": "code",
      "metadata": {
        "colab": {
          "base_uri": "https://localhost:8080/",
          "height": 473
        },
        "id": "kq-XIDhOxZ3u",
        "outputId": "34f8b798-4ee2-42c1-f3ca-777de1ab6293"
      },
      "source": [
        "publisher=['Nintendo',\t'Microsoft Game\\nStudios',\t'Take-Two\\nInteractive',\t'Sony Computer\\nEntertainment','Activision',\t'Ubisoft']\n",
        "plt.figure(figsize=(9,5))\n",
        "plt.title('Total Sales by Publisher of Games over 10M')\n",
        "ax=sns.boxplot(data=_10M,x='Publisher',y='sum_sales',palette=\"husl\")\n",
        "ax.set_xticklabels(publisher)\n",
        "#colors[0]"
      ],
      "execution_count": null,
      "outputs": [
        {
          "output_type": "execute_result",
          "data": {
            "text/plain": [
              "[Text(0, 0, 'Nintendo'),\n",
              " Text(0, 0, 'Microsoft Game\\nStudios'),\n",
              " Text(0, 0, 'Take-Two\\nInteractive'),\n",
              " Text(0, 0, 'Sony Computer\\nEntertainment'),\n",
              " Text(0, 0, 'Activision'),\n",
              " Text(0, 0, 'Ubisoft')]"
            ]
          },
          "metadata": {
            "tags": []
          },
          "execution_count": 113
        },
        {
          "output_type": "display_data",
          "data": {
            "image/png": "[encoded data removed]",
            "text/plain": [
              "<Figure size 648x360 with 1 Axes>"
            ]
          },
          "metadata": {
            "tags": [],
            "needs_background": "light"
          }
        }
      ]
    },
    {
      "cell_type": "code",
      "metadata": {
        "colab": {
          "base_uri": "https://localhost:8080/",
          "height": 1000
        },
        "id": "4NMjzTna1YvF",
        "outputId": "0944a394-3963-44d3-998b-84218a3f8d9b"
      },
      "source": [
        "_10M[_10M['Publisher']=='Nintendo'].sort_values(by='sum_sales')"
      ],
      "execution_count": null,
      "outputs": [
        {
          "output_type": "execute_result",
          "data": {
            "text/html": [
              "<div>\n",
              "<style scoped>\n",
              "    .dataframe tbody tr th:only-of-type {\n",
              "        vertical-align: middle;\n",
              "    }\n",
              "\n",
              "    .dataframe tbody tr th {\n",
              "        vertical-align: top;\n",
              "    }\n",
              "\n",
              "    .dataframe thead th {\n",
              "        text-align: right;\n",
              "    }\n",
              "</style>\n",
              "<table border=\"1\" class=\"dataframe\">\n",
              "  <thead>\n",
              "    <tr style=\"text-align: right;\">\n",
              "      <th></th>\n",
              "      <th>Name</th>\n",
              "      <th>Platform</th>\n",
              "      <th>Year</th>\n",
              "      <th>Genre</th>\n",
              "      <th>Publisher</th>\n",
              "      <th>NA_Sales</th>\n",
              "      <th>EU_Sales</th>\n",
              "      <th>JP_Sales</th>\n",
              "      <th>Other_Sales</th>\n",
              "      <th>sum_sales</th>\n",
              "      <th>new_year</th>\n",
              "    </tr>\n",
              "  </thead>\n",
              "  <tbody>\n",
              "    <tr>\n",
              "      <th>12472</th>\n",
              "      <td>Super Mario 64</td>\n",
              "      <td>DS</td>\n",
              "      <td>2004.0</td>\n",
              "      <td>Platform</td>\n",
              "      <td>Nintendo</td>\n",
              "      <td>5.08</td>\n",
              "      <td>3.11</td>\n",
              "      <td>1.25</td>\n",
              "      <td>0.98</td>\n",
              "      <td>10.42</td>\n",
              "      <td>00's</td>\n",
              "    </tr>\n",
              "    <tr>\n",
              "      <th>1810</th>\n",
              "      <td>Pokemon FireRed/Pokemon LeafGreen</td>\n",
              "      <td>GBA</td>\n",
              "      <td>2004.0</td>\n",
              "      <td>Role-Playing</td>\n",
              "      <td>Nintendo</td>\n",
              "      <td>4.34</td>\n",
              "      <td>2.65</td>\n",
              "      <td>3.15</td>\n",
              "      <td>0.35</td>\n",
              "      <td>10.49</td>\n",
              "      <td>00's</td>\n",
              "    </tr>\n",
              "    <tr>\n",
              "      <th>3007</th>\n",
              "      <td>Super Mario All-Stars</td>\n",
              "      <td>SNES</td>\n",
              "      <td>1993.0</td>\n",
              "      <td>Platform</td>\n",
              "      <td>Nintendo</td>\n",
              "      <td>5.99</td>\n",
              "      <td>2.15</td>\n",
              "      <td>2.12</td>\n",
              "      <td>0.29</td>\n",
              "      <td>10.55</td>\n",
              "      <td>90's</td>\n",
              "    </tr>\n",
              "    <tr>\n",
              "      <th>12623</th>\n",
              "      <td>Super Mario 3D Land</td>\n",
              "      <td>3DS</td>\n",
              "      <td>2011.0</td>\n",
              "      <td>Platform</td>\n",
              "      <td>Nintendo</td>\n",
              "      <td>4.89</td>\n",
              "      <td>2.99</td>\n",
              "      <td>2.13</td>\n",
              "      <td>0.78</td>\n",
              "      <td>10.79</td>\n",
              "      <td>10's</td>\n",
              "    </tr>\n",
              "    <tr>\n",
              "      <th>6847</th>\n",
              "      <td>Super Mario Land 2: 6 Golden Coins</td>\n",
              "      <td>GB</td>\n",
              "      <td>1992.0</td>\n",
              "      <td>Adventure</td>\n",
              "      <td>Nintendo</td>\n",
              "      <td>6.16</td>\n",
              "      <td>2.04</td>\n",
              "      <td>2.69</td>\n",
              "      <td>0.29</td>\n",
              "      <td>11.18</td>\n",
              "      <td>90's</td>\n",
              "    </tr>\n",
              "    <tr>\n",
              "      <th>4251</th>\n",
              "      <td>Pokemon Omega Ruby/Pokemon Alpha Sapphire</td>\n",
              "      <td>3DS</td>\n",
              "      <td>2014.0</td>\n",
              "      <td>Role-Playing</td>\n",
              "      <td>Nintendo</td>\n",
              "      <td>4.23</td>\n",
              "      <td>3.37</td>\n",
              "      <td>3.08</td>\n",
              "      <td>0.65</td>\n",
              "      <td>11.33</td>\n",
              "      <td>10's</td>\n",
              "    </tr>\n",
              "    <tr>\n",
              "      <th>12405</th>\n",
              "      <td>Super Mario Galaxy</td>\n",
              "      <td>Wii</td>\n",
              "      <td>2007.0</td>\n",
              "      <td>Platform</td>\n",
              "      <td>Nintendo</td>\n",
              "      <td>6.16</td>\n",
              "      <td>3.40</td>\n",
              "      <td>1.20</td>\n",
              "      <td>0.76</td>\n",
              "      <td>11.52</td>\n",
              "      <td>00's</td>\n",
              "    </tr>\n",
              "    <tr>\n",
              "      <th>4806</th>\n",
              "      <td>Pokemon HeartGold/Pokemon SoulSilver</td>\n",
              "      <td>DS</td>\n",
              "      <td>2009.0</td>\n",
              "      <td>Action</td>\n",
              "      <td>Nintendo</td>\n",
              "      <td>4.40</td>\n",
              "      <td>2.77</td>\n",
              "      <td>3.96</td>\n",
              "      <td>0.77</td>\n",
              "      <td>11.90</td>\n",
              "      <td>00's</td>\n",
              "    </tr>\n",
              "    <tr>\n",
              "      <th>6458</th>\n",
              "      <td>Super Mario 64</td>\n",
              "      <td>N64</td>\n",
              "      <td>1996.0</td>\n",
              "      <td>Platform</td>\n",
              "      <td>Nintendo</td>\n",
              "      <td>6.91</td>\n",
              "      <td>2.85</td>\n",
              "      <td>1.91</td>\n",
              "      <td>0.23</td>\n",
              "      <td>11.90</td>\n",
              "      <td>90's</td>\n",
              "    </tr>\n",
              "    <tr>\n",
              "      <th>11123</th>\n",
              "      <td>Mario Kart 7</td>\n",
              "      <td>3DS</td>\n",
              "      <td>2011.0</td>\n",
              "      <td>Racing</td>\n",
              "      <td>Nintendo</td>\n",
              "      <td>4.74</td>\n",
              "      <td>3.91</td>\n",
              "      <td>2.67</td>\n",
              "      <td>0.89</td>\n",
              "      <td>12.21</td>\n",
              "      <td>10's</td>\n",
              "    </tr>\n",
              "    <tr>\n",
              "      <th>3273</th>\n",
              "      <td>Animal Crossing: Wild World</td>\n",
              "      <td>DS</td>\n",
              "      <td>2005.0</td>\n",
              "      <td>Simulation</td>\n",
              "      <td>Nintendo</td>\n",
              "      <td>2.55</td>\n",
              "      <td>3.52</td>\n",
              "      <td>5.33</td>\n",
              "      <td>0.88</td>\n",
              "      <td>12.28</td>\n",
              "      <td>00's</td>\n",
              "    </tr>\n",
              "    <tr>\n",
              "      <th>14902</th>\n",
              "      <td>Super Smash Bros. Brawl</td>\n",
              "      <td>Wii</td>\n",
              "      <td>2008.0</td>\n",
              "      <td>Fighting</td>\n",
              "      <td>Nintendo</td>\n",
              "      <td>6.75</td>\n",
              "      <td>2.61</td>\n",
              "      <td>2.66</td>\n",
              "      <td>1.02</td>\n",
              "      <td>13.04</td>\n",
              "      <td>00's</td>\n",
              "    </tr>\n",
              "    <tr>\n",
              "      <th>1971</th>\n",
              "      <td>Pokemon X/Pokemon Y</td>\n",
              "      <td>3DS</td>\n",
              "      <td>2013.0</td>\n",
              "      <td>NaN</td>\n",
              "      <td>Nintendo</td>\n",
              "      <td>5.17</td>\n",
              "      <td>4.05</td>\n",
              "      <td>4.34</td>\n",
              "      <td>0.79</td>\n",
              "      <td>14.35</td>\n",
              "      <td>10's</td>\n",
              "    </tr>\n",
              "    <tr>\n",
              "      <th>8533</th>\n",
              "      <td>Pokémon Yellow: Special Pikachu Edition</td>\n",
              "      <td>GB</td>\n",
              "      <td>1998.0</td>\n",
              "      <td>Role-Playing</td>\n",
              "      <td>Nintendo</td>\n",
              "      <td>5.89</td>\n",
              "      <td>5.04</td>\n",
              "      <td>3.12</td>\n",
              "      <td>0.59</td>\n",
              "      <td>14.64</td>\n",
              "      <td>90's</td>\n",
              "    </tr>\n",
              "    <tr>\n",
              "      <th>511</th>\n",
              "      <td>Brain Age 2: More Training in Minutes a Day</td>\n",
              "      <td>DS</td>\n",
              "      <td>2005.0</td>\n",
              "      <td>Puzzle</td>\n",
              "      <td>Nintendo</td>\n",
              "      <td>3.44</td>\n",
              "      <td>5.36</td>\n",
              "      <td>5.32</td>\n",
              "      <td>1.18</td>\n",
              "      <td>15.30</td>\n",
              "      <td>00's</td>\n",
              "    </tr>\n",
              "    <tr>\n",
              "      <th>10621</th>\n",
              "      <td>Pokemon Black/Pokemon White</td>\n",
              "      <td>DS</td>\n",
              "      <td>2010.0</td>\n",
              "      <td>Role-Playing</td>\n",
              "      <td>Nintendo</td>\n",
              "      <td>5.57</td>\n",
              "      <td>3.28</td>\n",
              "      <td>5.65</td>\n",
              "      <td>0.82</td>\n",
              "      <td>15.32</td>\n",
              "      <td>00's</td>\n",
              "    </tr>\n",
              "    <tr>\n",
              "      <th>10917</th>\n",
              "      <td>Pokemon Ruby/Pokemon Sapphire</td>\n",
              "      <td>GBA</td>\n",
              "      <td>2002.0</td>\n",
              "      <td>Role-Playing</td>\n",
              "      <td>Nintendo</td>\n",
              "      <td>6.06</td>\n",
              "      <td>3.90</td>\n",
              "      <td>5.38</td>\n",
              "      <td>0.50</td>\n",
              "      <td>15.84</td>\n",
              "      <td>00's</td>\n",
              "    </tr>\n",
              "    <tr>\n",
              "      <th>14856</th>\n",
              "      <td>Super Mario Bros. 3</td>\n",
              "      <td>NES</td>\n",
              "      <td>1988.0</td>\n",
              "      <td>Platform</td>\n",
              "      <td>Nintendo</td>\n",
              "      <td>9.54</td>\n",
              "      <td>3.44</td>\n",
              "      <td>3.84</td>\n",
              "      <td>0.46</td>\n",
              "      <td>17.28</td>\n",
              "      <td>80's</td>\n",
              "    </tr>\n",
              "    <tr>\n",
              "      <th>9491</th>\n",
              "      <td>Super Mario Land</td>\n",
              "      <td>GB</td>\n",
              "      <td>1989.0</td>\n",
              "      <td>Platform</td>\n",
              "      <td>Nintendo</td>\n",
              "      <td>10.83</td>\n",
              "      <td>2.71</td>\n",
              "      <td>4.18</td>\n",
              "      <td>0.42</td>\n",
              "      <td>18.14</td>\n",
              "      <td>80's</td>\n",
              "    </tr>\n",
              "    <tr>\n",
              "      <th>10555</th>\n",
              "      <td>Pokemon Diamond/Pokemon Pearl</td>\n",
              "      <td>DS</td>\n",
              "      <td>2006.0</td>\n",
              "      <td>Role-Playing</td>\n",
              "      <td>Nintendo</td>\n",
              "      <td>6.42</td>\n",
              "      <td>4.52</td>\n",
              "      <td>6.04</td>\n",
              "      <td>1.37</td>\n",
              "      <td>18.35</td>\n",
              "      <td>00's</td>\n",
              "    </tr>\n",
              "    <tr>\n",
              "      <th>13229</th>\n",
              "      <td>Brain Age: Train Your Brain in Minutes a Day</td>\n",
              "      <td>DS</td>\n",
              "      <td>2005.0</td>\n",
              "      <td>Misc</td>\n",
              "      <td>Nintendo</td>\n",
              "      <td>4.75</td>\n",
              "      <td>9.26</td>\n",
              "      <td>4.16</td>\n",
              "      <td>2.05</td>\n",
              "      <td>20.22</td>\n",
              "      <td>00's</td>\n",
              "    </tr>\n",
              "    <tr>\n",
              "      <th>13111</th>\n",
              "      <td>Super Mario World</td>\n",
              "      <td>SNES</td>\n",
              "      <td>1990.0</td>\n",
              "      <td>Platform</td>\n",
              "      <td>Nintendo</td>\n",
              "      <td>12.78</td>\n",
              "      <td>3.75</td>\n",
              "      <td>3.54</td>\n",
              "      <td>0.55</td>\n",
              "      <td>20.62</td>\n",
              "      <td>80's</td>\n",
              "    </tr>\n",
              "    <tr>\n",
              "      <th>10899</th>\n",
              "      <td>Wii Fit Plus</td>\n",
              "      <td>Wii</td>\n",
              "      <td>2009.0</td>\n",
              "      <td>Sports</td>\n",
              "      <td>Nintendo</td>\n",
              "      <td>9.09</td>\n",
              "      <td>8.59</td>\n",
              "      <td>2.53</td>\n",
              "      <td>1.79</td>\n",
              "      <td>22.00</td>\n",
              "      <td>00's</td>\n",
              "    </tr>\n",
              "    <tr>\n",
              "      <th>3435</th>\n",
              "      <td>Wii Fit</td>\n",
              "      <td>Wii</td>\n",
              "      <td>2007.0</td>\n",
              "      <td>Sports</td>\n",
              "      <td>Nintendo</td>\n",
              "      <td>8.94</td>\n",
              "      <td>8.03</td>\n",
              "      <td>3.60</td>\n",
              "      <td>2.15</td>\n",
              "      <td>22.72</td>\n",
              "      <td>00's</td>\n",
              "    </tr>\n",
              "    <tr>\n",
              "      <th>9416</th>\n",
              "      <td>Pokemon Gold/Pokemon Silver</td>\n",
              "      <td>GB</td>\n",
              "      <td>1999.0</td>\n",
              "      <td>Role-Playing</td>\n",
              "      <td>Nintendo</td>\n",
              "      <td>9.00</td>\n",
              "      <td>6.18</td>\n",
              "      <td>7.20</td>\n",
              "      <td>0.71</td>\n",
              "      <td>23.09</td>\n",
              "      <td>90's</td>\n",
              "    </tr>\n",
              "    <tr>\n",
              "      <th>10650</th>\n",
              "      <td>Mario Kart DS</td>\n",
              "      <td>DS</td>\n",
              "      <td>2005.0</td>\n",
              "      <td>Racing</td>\n",
              "      <td>Nintendo</td>\n",
              "      <td>9.81</td>\n",
              "      <td>7.57</td>\n",
              "      <td>4.13</td>\n",
              "      <td>1.92</td>\n",
              "      <td>23.43</td>\n",
              "      <td>00's</td>\n",
              "    </tr>\n",
              "    <tr>\n",
              "      <th>11137</th>\n",
              "      <td>Nintendogs</td>\n",
              "      <td>DS</td>\n",
              "      <td>2005.0</td>\n",
              "      <td>Simulation</td>\n",
              "      <td>Nintendo</td>\n",
              "      <td>9.07</td>\n",
              "      <td>11.00</td>\n",
              "      <td>1.93</td>\n",
              "      <td>2.75</td>\n",
              "      <td>24.75</td>\n",
              "      <td>00's</td>\n",
              "    </tr>\n",
              "    <tr>\n",
              "      <th>10488</th>\n",
              "      <td>Duck Hunt</td>\n",
              "      <td>NES</td>\n",
              "      <td>1984.0</td>\n",
              "      <td>Shooter</td>\n",
              "      <td>Nintendo</td>\n",
              "      <td>26.93</td>\n",
              "      <td>0.63</td>\n",
              "      <td>0.28</td>\n",
              "      <td>0.47</td>\n",
              "      <td>28.31</td>\n",
              "      <td>80's</td>\n",
              "    </tr>\n",
              "    <tr>\n",
              "      <th>16531</th>\n",
              "      <td>New Super Mario Bros. Wii</td>\n",
              "      <td>Wii</td>\n",
              "      <td>2009.0</td>\n",
              "      <td>Platform</td>\n",
              "      <td>Nintendo</td>\n",
              "      <td>14.59</td>\n",
              "      <td>7.06</td>\n",
              "      <td>4.70</td>\n",
              "      <td>2.26</td>\n",
              "      <td>28.61</td>\n",
              "      <td>00's</td>\n",
              "    </tr>\n",
              "    <tr>\n",
              "      <th>3014</th>\n",
              "      <td>Wii Play</td>\n",
              "      <td>Wii</td>\n",
              "      <td>2006.0</td>\n",
              "      <td>Misc</td>\n",
              "      <td>Nintendo</td>\n",
              "      <td>14.03</td>\n",
              "      <td>9.20</td>\n",
              "      <td>2.93</td>\n",
              "      <td>2.85</td>\n",
              "      <td>29.01</td>\n",
              "      <td>00's</td>\n",
              "    </tr>\n",
              "    <tr>\n",
              "      <th>6937</th>\n",
              "      <td>New Super Mario Bros.</td>\n",
              "      <td>DS</td>\n",
              "      <td>2006.0</td>\n",
              "      <td>Platform</td>\n",
              "      <td>Nintendo</td>\n",
              "      <td>11.38</td>\n",
              "      <td>9.23</td>\n",
              "      <td>6.50</td>\n",
              "      <td>2.90</td>\n",
              "      <td>30.01</td>\n",
              "      <td>00's</td>\n",
              "    </tr>\n",
              "    <tr>\n",
              "      <th>1203</th>\n",
              "      <td>Tetris</td>\n",
              "      <td>GB</td>\n",
              "      <td>1989.0</td>\n",
              "      <td>Puzzle</td>\n",
              "      <td>Nintendo</td>\n",
              "      <td>23.20</td>\n",
              "      <td>2.26</td>\n",
              "      <td>4.22</td>\n",
              "      <td>0.58</td>\n",
              "      <td>30.26</td>\n",
              "      <td>80's</td>\n",
              "    </tr>\n",
              "    <tr>\n",
              "      <th>7829</th>\n",
              "      <td>Pokemon Red/Pokemon Blue</td>\n",
              "      <td>GB</td>\n",
              "      <td>1996.0</td>\n",
              "      <td>Role-Playing</td>\n",
              "      <td>Nintendo</td>\n",
              "      <td>11.27</td>\n",
              "      <td>8.89</td>\n",
              "      <td>10.22</td>\n",
              "      <td>1.00</td>\n",
              "      <td>31.38</td>\n",
              "      <td>90's</td>\n",
              "    </tr>\n",
              "    <tr>\n",
              "      <th>3352</th>\n",
              "      <td>Wii Sports Resort</td>\n",
              "      <td>Wii</td>\n",
              "      <td>2009.0</td>\n",
              "      <td>Sports</td>\n",
              "      <td>Nintendo</td>\n",
              "      <td>15.75</td>\n",
              "      <td>11.01</td>\n",
              "      <td>3.28</td>\n",
              "      <td>2.96</td>\n",
              "      <td>33.00</td>\n",
              "      <td>00's</td>\n",
              "    </tr>\n",
              "    <tr>\n",
              "      <th>12579</th>\n",
              "      <td>Mario Kart Wii</td>\n",
              "      <td>Wii</td>\n",
              "      <td>2008.0</td>\n",
              "      <td>Racing</td>\n",
              "      <td>Nintendo</td>\n",
              "      <td>15.85</td>\n",
              "      <td>12.88</td>\n",
              "      <td>3.79</td>\n",
              "      <td>3.31</td>\n",
              "      <td>35.83</td>\n",
              "      <td>00's</td>\n",
              "    </tr>\n",
              "    <tr>\n",
              "      <th>4199</th>\n",
              "      <td>Super Mario Bros.</td>\n",
              "      <td>NES</td>\n",
              "      <td>1985.0</td>\n",
              "      <td>Platform</td>\n",
              "      <td>Nintendo</td>\n",
              "      <td>29.08</td>\n",
              "      <td>3.58</td>\n",
              "      <td>6.81</td>\n",
              "      <td>0.77</td>\n",
              "      <td>40.24</td>\n",
              "      <td>80's</td>\n",
              "    </tr>\n",
              "    <tr>\n",
              "      <th>2908</th>\n",
              "      <td>Wii Sports</td>\n",
              "      <td>Wii</td>\n",
              "      <td>2006.0</td>\n",
              "      <td>Sports</td>\n",
              "      <td>Nintendo</td>\n",
              "      <td>41.49</td>\n",
              "      <td>29.02</td>\n",
              "      <td>3.77</td>\n",
              "      <td>8.46</td>\n",
              "      <td>82.74</td>\n",
              "      <td>00's</td>\n",
              "    </tr>\n",
              "  </tbody>\n",
              "</table>\n",
              "</div>"
            ],
            "text/plain": [
              "                                               Name  ... new_year\n",
              "12472                                Super Mario 64  ...     00's\n",
              "1810              Pokemon FireRed/Pokemon LeafGreen  ...     00's\n",
              "3007                          Super Mario All-Stars  ...     90's\n",
              "12623                           Super Mario 3D Land  ...     10's\n",
              "6847             Super Mario Land 2: 6 Golden Coins  ...     90's\n",
              "4251      Pokemon Omega Ruby/Pokemon Alpha Sapphire  ...     10's\n",
              "12405                            Super Mario Galaxy  ...     00's\n",
              "4806           Pokemon HeartGold/Pokemon SoulSilver  ...     00's\n",
              "6458                                 Super Mario 64  ...     90's\n",
              "11123                                  Mario Kart 7  ...     10's\n",
              "3273                    Animal Crossing: Wild World  ...     00's\n",
              "14902                       Super Smash Bros. Brawl  ...     00's\n",
              "1971                            Pokemon X/Pokemon Y  ...     10's\n",
              "8533        Pokémon Yellow: Special Pikachu Edition  ...     90's\n",
              "511     Brain Age 2: More Training in Minutes a Day  ...     00's\n",
              "10621                   Pokemon Black/Pokemon White  ...     00's\n",
              "10917                 Pokemon Ruby/Pokemon Sapphire  ...     00's\n",
              "14856                           Super Mario Bros. 3  ...     80's\n",
              "9491                               Super Mario Land  ...     80's\n",
              "10555                 Pokemon Diamond/Pokemon Pearl  ...     00's\n",
              "13229  Brain Age: Train Your Brain in Minutes a Day  ...     00's\n",
              "13111                             Super Mario World  ...     80's\n",
              "10899                                  Wii Fit Plus  ...     00's\n",
              "3435                                        Wii Fit  ...     00's\n",
              "9416                    Pokemon Gold/Pokemon Silver  ...     90's\n",
              "10650                                 Mario Kart DS  ...     00's\n",
              "11137                                    Nintendogs  ...     00's\n",
              "10488                                     Duck Hunt  ...     80's\n",
              "16531                     New Super Mario Bros. Wii  ...     00's\n",
              "3014                                       Wii Play  ...     00's\n",
              "6937                          New Super Mario Bros.  ...     00's\n",
              "1203                                         Tetris  ...     80's\n",
              "7829                       Pokemon Red/Pokemon Blue  ...     90's\n",
              "3352                              Wii Sports Resort  ...     00's\n",
              "12579                                Mario Kart Wii  ...     00's\n",
              "4199                              Super Mario Bros.  ...     80's\n",
              "2908                                     Wii Sports  ...     00's\n",
              "\n",
              "[37 rows x 11 columns]"
            ]
          },
          "metadata": {
            "tags": []
          },
          "execution_count": 110
        }
      ]
    },
    {
      "cell_type": "code",
      "metadata": {
        "colab": {
          "base_uri": "https://localhost:8080/",
          "height": 467
        },
        "id": "TAJwBzebslZ4",
        "outputId": "3f20298c-f7c5-44de-d93d-b98246ce4ed5"
      },
      "source": [
        "df[df['Genre']=='Platform']"
      ],
      "execution_count": null,
      "outputs": [
        {
          "output_type": "execute_result",
          "data": {
            "text/html": [
              "<div>\n",
              "<style scoped>\n",
              "    .dataframe tbody tr th:only-of-type {\n",
              "        vertical-align: middle;\n",
              "    }\n",
              "\n",
              "    .dataframe tbody tr th {\n",
              "        vertical-align: top;\n",
              "    }\n",
              "\n",
              "    .dataframe thead th {\n",
              "        text-align: right;\n",
              "    }\n",
              "</style>\n",
              "<table border=\"1\" class=\"dataframe\">\n",
              "  <thead>\n",
              "    <tr style=\"text-align: right;\">\n",
              "      <th></th>\n",
              "      <th>Name</th>\n",
              "      <th>Platform</th>\n",
              "      <th>Year</th>\n",
              "      <th>Genre</th>\n",
              "      <th>Publisher</th>\n",
              "      <th>NA_Sales</th>\n",
              "      <th>EU_Sales</th>\n",
              "      <th>JP_Sales</th>\n",
              "      <th>Other_Sales</th>\n",
              "      <th>sum_sales</th>\n",
              "      <th>new_year</th>\n",
              "    </tr>\n",
              "  </thead>\n",
              "  <tbody>\n",
              "    <tr>\n",
              "      <th>4</th>\n",
              "      <td>Ben 10 Ultimate Alien: Cosmic Destruction</td>\n",
              "      <td>PS3</td>\n",
              "      <td>2010.0</td>\n",
              "      <td>Platform</td>\n",
              "      <td>D3Publisher</td>\n",
              "      <td>0.12</td>\n",
              "      <td>0.09</td>\n",
              "      <td>0.00</td>\n",
              "      <td>0.04</td>\n",
              "      <td>0.25</td>\n",
              "      <td>00's</td>\n",
              "    </tr>\n",
              "    <tr>\n",
              "      <th>20</th>\n",
              "      <td>Ty the Tasmanian Tiger</td>\n",
              "      <td>PS2</td>\n",
              "      <td>2002.0</td>\n",
              "      <td>Platform</td>\n",
              "      <td>Electronic Arts</td>\n",
              "      <td>0.57</td>\n",
              "      <td>0.45</td>\n",
              "      <td>0.00</td>\n",
              "      <td>0.15</td>\n",
              "      <td>1.17</td>\n",
              "      <td>00's</td>\n",
              "    </tr>\n",
              "    <tr>\n",
              "      <th>25</th>\n",
              "      <td>Dr. Muto</td>\n",
              "      <td>GC</td>\n",
              "      <td>2002.0</td>\n",
              "      <td>Platform</td>\n",
              "      <td>Midway Games</td>\n",
              "      <td>0.02</td>\n",
              "      <td>0.01</td>\n",
              "      <td>0.00</td>\n",
              "      <td>0.00</td>\n",
              "      <td>0.03</td>\n",
              "      <td>00's</td>\n",
              "    </tr>\n",
              "    <tr>\n",
              "      <th>28</th>\n",
              "      <td>Famicom Mini: Makaimura</td>\n",
              "      <td>GBA</td>\n",
              "      <td>2004.0</td>\n",
              "      <td>Platform</td>\n",
              "      <td>Capcom</td>\n",
              "      <td>0.00</td>\n",
              "      <td>0.00</td>\n",
              "      <td>0.08</td>\n",
              "      <td>0.00</td>\n",
              "      <td>0.08</td>\n",
              "      <td>00's</td>\n",
              "    </tr>\n",
              "    <tr>\n",
              "      <th>34</th>\n",
              "      <td>Mega Man Anniversary Collection</td>\n",
              "      <td>PS2</td>\n",
              "      <td>2004.0</td>\n",
              "      <td>Platform</td>\n",
              "      <td>Capcom</td>\n",
              "      <td>0.29</td>\n",
              "      <td>0.22</td>\n",
              "      <td>0.00</td>\n",
              "      <td>0.08</td>\n",
              "      <td>0.59</td>\n",
              "      <td>00's</td>\n",
              "    </tr>\n",
              "    <tr>\n",
              "      <th>...</th>\n",
              "      <td>...</td>\n",
              "      <td>...</td>\n",
              "      <td>...</td>\n",
              "      <td>...</td>\n",
              "      <td>...</td>\n",
              "      <td>...</td>\n",
              "      <td>...</td>\n",
              "      <td>...</td>\n",
              "      <td>...</td>\n",
              "      <td>...</td>\n",
              "      <td>...</td>\n",
              "    </tr>\n",
              "    <tr>\n",
              "      <th>16531</th>\n",
              "      <td>New Super Mario Bros. Wii</td>\n",
              "      <td>Wii</td>\n",
              "      <td>2009.0</td>\n",
              "      <td>Platform</td>\n",
              "      <td>Nintendo</td>\n",
              "      <td>14.59</td>\n",
              "      <td>7.06</td>\n",
              "      <td>4.70</td>\n",
              "      <td>2.26</td>\n",
              "      <td>28.61</td>\n",
              "      <td>00's</td>\n",
              "    </tr>\n",
              "    <tr>\n",
              "      <th>16563</th>\n",
              "      <td>Wall-E</td>\n",
              "      <td>Wii</td>\n",
              "      <td>2008.0</td>\n",
              "      <td>Platform</td>\n",
              "      <td>THQ</td>\n",
              "      <td>0.51</td>\n",
              "      <td>0.40</td>\n",
              "      <td>0.00</td>\n",
              "      <td>0.11</td>\n",
              "      <td>1.02</td>\n",
              "      <td>00's</td>\n",
              "    </tr>\n",
              "    <tr>\n",
              "      <th>16578</th>\n",
              "      <td>Gex: Enter the Gecko</td>\n",
              "      <td>PS</td>\n",
              "      <td>1998.0</td>\n",
              "      <td>Platform</td>\n",
              "      <td>BMG Interactive Entertainment</td>\n",
              "      <td>0.32</td>\n",
              "      <td>0.22</td>\n",
              "      <td>0.00</td>\n",
              "      <td>0.04</td>\n",
              "      <td>0.58</td>\n",
              "      <td>90's</td>\n",
              "    </tr>\n",
              "    <tr>\n",
              "      <th>16579</th>\n",
              "      <td>Super Ghouls 'n Ghosts</td>\n",
              "      <td>GBA</td>\n",
              "      <td>2002.0</td>\n",
              "      <td>Platform</td>\n",
              "      <td>Capcom</td>\n",
              "      <td>0.05</td>\n",
              "      <td>0.02</td>\n",
              "      <td>0.00</td>\n",
              "      <td>0.00</td>\n",
              "      <td>0.07</td>\n",
              "      <td>00's</td>\n",
              "    </tr>\n",
              "    <tr>\n",
              "      <th>16593</th>\n",
              "      <td>Ice Age 2: The Meltdown</td>\n",
              "      <td>GC</td>\n",
              "      <td>2006.0</td>\n",
              "      <td>Platform</td>\n",
              "      <td>Vivendi Games</td>\n",
              "      <td>0.15</td>\n",
              "      <td>0.04</td>\n",
              "      <td>0.00</td>\n",
              "      <td>0.01</td>\n",
              "      <td>0.20</td>\n",
              "      <td>00's</td>\n",
              "    </tr>\n",
              "  </tbody>\n",
              "</table>\n",
              "<p>884 rows × 11 columns</p>\n",
              "</div>"
            ],
            "text/plain": [
              "                                            Name Platform  ...  sum_sales new_year\n",
              "4      Ben 10 Ultimate Alien: Cosmic Destruction      PS3  ...       0.25     00's\n",
              "20                        Ty the Tasmanian Tiger      PS2  ...       1.17     00's\n",
              "25                                      Dr. Muto       GC  ...       0.03     00's\n",
              "28                       Famicom Mini: Makaimura      GBA  ...       0.08     00's\n",
              "34               Mega Man Anniversary Collection      PS2  ...       0.59     00's\n",
              "...                                          ...      ...  ...        ...      ...\n",
              "16531                  New Super Mario Bros. Wii      Wii  ...      28.61     00's\n",
              "16563                                     Wall-E      Wii  ...       1.02     00's\n",
              "16578                       Gex: Enter the Gecko       PS  ...       0.58     90's\n",
              "16579                     Super Ghouls 'n Ghosts      GBA  ...       0.07     00's\n",
              "16593                    Ice Age 2: The Meltdown       GC  ...       0.20     00's\n",
              "\n",
              "[884 rows x 11 columns]"
            ]
          },
          "metadata": {
            "tags": []
          },
          "execution_count": 58
        }
      ]
    },
    {
      "cell_type": "code",
      "metadata": {
        "colab": {
          "base_uri": "https://localhost:8080/"
        },
        "id": "R3oaRI6lvknB",
        "outputId": "b527405b-fe49-43fd-80d8-aedc11371645"
      },
      "source": [
        "genre=['Action',\t'Adventure','Fighting',\t'Misc',\t'Platform',\t'Puzzle',\t'Racing',\t'Role-Playing',\t'Shooter',\t'Simulation',\t'Sports','Strategy']\n",
        "\n",
        "genre_s=[] # 성공한 게임 중 특정 장르의 개수\n",
        "genre_f=[] # 실패한 게임 중 특정 장르의 개수\n",
        "for i in genre:\n",
        "  #print(i)\n",
        "  genre_s.append(_10M[_10M['Genre']==i].shape[0])\n",
        "\n",
        "for i in genre:\n",
        "  #print(i)\n",
        "  genre_f.append(_10m[_10m['Genre']==i].shape[0])\n",
        "\n",
        "s_num=62/16598 #성공한 게임의 확률\n",
        "f_num=1-s_num\n",
        "s_result=[]\n",
        "f_result=[]\n",
        "for i in range(len(genre)):\n",
        "  s_result.append((genre_s[i]/61*s_num)/((genre_s[i]/61*s_num)+(genre_f[i]/16487*f_num)))\n",
        "  f_result.append((genre_f[i]/16487*f_num)/((genre_f[i]/16487*f_num)+(genre_s[i]/61*s_num)))\n",
        "\n",
        "\n",
        "genre_s\n",
        "#sum(s_result)+sum(f_result)\n",
        "#(genre_s[4]/62*s_num)/((genre_s[4]/62*s_num)+(genre_f[4]/16356))"
      ],
      "execution_count": null,
      "outputs": [
        {
          "output_type": "execute_result",
          "data": {
            "text/plain": [
              "[9, 1, 1, 4, 11, 2, 7, 8, 12, 2, 4, 0]"
            ]
          },
          "metadata": {
            "tags": []
          },
          "execution_count": 59
        }
      ]
    },
    {
      "cell_type": "code",
      "metadata": {
        "colab": {
          "base_uri": "https://localhost:8080/"
        },
        "id": "Ygufno2gCpgB",
        "outputId": "eacad8a9-803a-4a95-cea8-e18631720de8"
      },
      "source": [
        "genre_f\n"
      ],
      "execution_count": null,
      "outputs": [
        {
          "output_type": "execute_result",
          "data": {
            "text/plain": [
              "[3296, 1279, 846, 1730, 873, 576, 1236, 1475, 1296, 863, 2337, 680]"
            ]
          },
          "metadata": {
            "tags": []
          },
          "execution_count": 60
        }
      ]
    },
    {
      "cell_type": "code",
      "metadata": {
        "colab": {
          "base_uri": "https://localhost:8080/"
        },
        "id": "MDUAuru-tYYI",
        "outputId": "6234517f-91a6-485b-959d-e2e680bcf7a6"
      },
      "source": [
        "a=[]\n",
        "for i in genre_s:\n",
        "  a.append(0.0037*i/62)\n",
        "\n",
        "sum(a)"
      ],
      "execution_count": null,
      "outputs": [
        {
          "output_type": "execute_result",
          "data": {
            "text/plain": [
              "0.0036403225806451614"
            ]
          },
          "metadata": {
            "tags": []
          },
          "execution_count": 61
        }
      ]
    },
    {
      "cell_type": "code",
      "metadata": {
        "colab": {
          "base_uri": "https://localhost:8080/"
        },
        "id": "9rKs49lStkYy",
        "outputId": "ca985897-9a60-43a9-da2c-8bb34944a4c5"
      },
      "source": [
        "b=[]\n",
        "for i in genre_f:\n",
        "  b.append(0.9962*i/16536)\n",
        "\n",
        "sum(b)+sum(a)"
      ],
      "execution_count": null,
      "outputs": [
        {
          "output_type": "execute_result",
          "data": {
            "text/plain": [
              "0.9968883511244283"
            ]
          },
          "metadata": {
            "tags": []
          },
          "execution_count": 62
        }
      ]
    },
    {
      "cell_type": "code",
      "metadata": {
        "colab": {
          "base_uri": "https://localhost:8080/"
        },
        "id": "6E_QG9zbt_3I",
        "outputId": "37818cb4-bda8-467b-9ca5-985286db3479"
      },
      "source": [
        "for i in range(len(genre)):\n",
        "  print(format(a[i],'.8f'))"
      ],
      "execution_count": null,
      "outputs": [
        {
          "output_type": "stream",
          "text": [
            "0.00053710\n",
            "0.00005968\n",
            "0.00005968\n",
            "0.00023871\n",
            "0.00065645\n",
            "0.00011935\n",
            "0.00041774\n",
            "0.00047742\n",
            "0.00071613\n",
            "0.00011935\n",
            "0.00023871\n",
            "0.00000000\n"
          ],
          "name": "stdout"
        }
      ]
    },
    {
      "cell_type": "code",
      "metadata": {
        "colab": {
          "base_uri": "https://localhost:8080/"
        },
        "id": "jZcTEg9EfNNJ",
        "outputId": "04aa16d9-d3f4-4f98-9bd7-0b5c78977359"
      },
      "source": [
        "for i in range(len(genre)):\n",
        "  print(format(b[i],'.8f'))"
      ],
      "execution_count": null,
      "outputs": [
        {
          "output_type": "stream",
          "text": [
            "0.19856526\n",
            "0.07705248\n",
            "0.05096669\n",
            "0.10422267\n",
            "0.05259329\n",
            "0.03470073\n",
            "0.07446197\n",
            "0.08886037\n",
            "0.07807663\n",
            "0.05199084\n",
            "0.14079097\n",
            "0.04096613\n"
          ],
          "name": "stdout"
        }
      ]
    },
    {
      "cell_type": "code",
      "metadata": {
        "colab": {
          "base_uri": "https://localhost:8080/"
        },
        "id": "O53yg5uYfg5S",
        "outputId": "265e4130-7181-491a-edba-d550a08743e9"
      },
      "source": [
        "sum(a)+sum(b)"
      ],
      "execution_count": null,
      "outputs": [
        {
          "output_type": "execute_result",
          "data": {
            "text/plain": [
              "0.9968883511244283"
            ]
          },
          "metadata": {
            "tags": []
          },
          "execution_count": 65
        }
      ]
    },
    {
      "cell_type": "code",
      "metadata": {
        "colab": {
          "base_uri": "https://localhost:8080/"
        },
        "id": "oUcgUYIiuH48",
        "outputId": "0b500448-09a7-417c-d6d6-be778ce05ec5"
      },
      "source": [
        "b[0]*0.9962"
      ],
      "execution_count": null,
      "outputs": [
        {
          "output_type": "execute_result",
          "data": {
            "text/plain": [
              "0.19781071566521527"
            ]
          },
          "metadata": {
            "tags": []
          },
          "execution_count": 66
        }
      ]
    },
    {
      "cell_type": "code",
      "metadata": {
        "colab": {
          "base_uri": "https://localhost:8080/"
        },
        "id": "Y4_6cOf2uc1J",
        "outputId": "2557797a-3537-4e01-a65b-a8ee3bca7924"
      },
      "source": [
        "res=[]\n",
        "for i in range(len(genre)):\n",
        "  res.append(a[i]*0.0037/(a[i]*0.0037+b[i]*0.9962))\n",
        "\n",
        "for i in range(len(genre)):\n",
        "  print(format(res[i],'.8f'))"
      ],
      "execution_count": null,
      "outputs": [
        {
          "output_type": "stream",
          "text": [
            "0.00001005\n",
            "0.00000288\n",
            "0.00000435\n",
            "0.00000851\n",
            "0.00004636\n",
            "0.00001277\n",
            "0.00002084\n",
            "0.00001995\n",
            "0.00003407\n",
            "0.00000853\n",
            "0.00000630\n",
            "0.00000000\n"
          ],
          "name": "stdout"
        }
      ]
    },
    {
      "cell_type": "code",
      "metadata": {
        "colab": {
          "base_uri": "https://localhost:8080/"
        },
        "id": "eP8w6VZ00SHc",
        "outputId": "8372b880-b2c2-4e83-bf2e-e001ed9c85eb"
      },
      "source": [
        "res1=[]\n",
        "for i in range(len(genre)):\n",
        "  res1.append(b[i]*0.9962/(a[i]*0.0037+b[i]*0.9962))\n",
        "res1"
      ],
      "execution_count": null,
      "outputs": [
        {
          "output_type": "execute_result",
          "data": {
            "text/plain": [
              "[0.9999899538399953,\n",
              " 0.9999971234140581,\n",
              " 0.999995651125292,\n",
              " 0.9999914933347844,\n",
              " 0.999953643839675,\n",
              " 0.9999872252881844,\n",
              " 0.9999791637448202,\n",
              " 0.9999800456103719,\n",
              " 0.9999659348271129,\n",
              " 0.9999914736207806,\n",
              " 0.9999937027970308,\n",
              " 1.0]"
            ]
          },
          "metadata": {
            "tags": []
          },
          "execution_count": 68
        }
      ]
    },
    {
      "cell_type": "markdown",
      "metadata": {
        "id": "TTf0hExF2Amq"
      },
      "source": [
        "Platform 으로 출시할 때 성공(총매출 10M이상)할 확률이 제일 큼."
      ]
    },
    {
      "cell_type": "code",
      "metadata": {
        "colab": {
          "base_uri": "https://localhost:8080/"
        },
        "id": "wuNVK9CTllLd",
        "outputId": "c7186d4d-c784-44f3-b9f0-23dee10010c1"
      },
      "source": [
        "_10M.isnull().sum()"
      ],
      "execution_count": null,
      "outputs": [
        {
          "output_type": "execute_result",
          "data": {
            "text/plain": [
              "Name           0\n",
              "Platform       0\n",
              "Year           0\n",
              "Genre          1\n",
              "Publisher      0\n",
              "NA_Sales       0\n",
              "EU_Sales       0\n",
              "JP_Sales       0\n",
              "Other_Sales    0\n",
              "sum_sales      0\n",
              "new_year       0\n",
              "dtype: int64"
            ]
          },
          "metadata": {
            "tags": []
          },
          "execution_count": 69
        }
      ]
    },
    {
      "cell_type": "code",
      "metadata": {
        "colab": {
          "base_uri": "https://localhost:8080/",
          "height": 415
        },
        "id": "7HHD0MhsIqzF",
        "outputId": "08c47054-00f4-49ae-a0af-8a097040b231"
      },
      "source": [
        "_10M.sort_values('sum_sales',ascending=False)"
      ],
      "execution_count": null,
      "outputs": [
        {
          "output_type": "execute_result",
          "data": {
            "text/html": [
              "<div>\n",
              "<style scoped>\n",
              "    .dataframe tbody tr th:only-of-type {\n",
              "        vertical-align: middle;\n",
              "    }\n",
              "\n",
              "    .dataframe tbody tr th {\n",
              "        vertical-align: top;\n",
              "    }\n",
              "\n",
              "    .dataframe thead th {\n",
              "        text-align: right;\n",
              "    }\n",
              "</style>\n",
              "<table border=\"1\" class=\"dataframe\">\n",
              "  <thead>\n",
              "    <tr style=\"text-align: right;\">\n",
              "      <th></th>\n",
              "      <th>Name</th>\n",
              "      <th>Platform</th>\n",
              "      <th>Year</th>\n",
              "      <th>Genre</th>\n",
              "      <th>Publisher</th>\n",
              "      <th>NA_Sales</th>\n",
              "      <th>EU_Sales</th>\n",
              "      <th>JP_Sales</th>\n",
              "      <th>Other_Sales</th>\n",
              "      <th>sum_sales</th>\n",
              "      <th>new_year</th>\n",
              "    </tr>\n",
              "  </thead>\n",
              "  <tbody>\n",
              "    <tr>\n",
              "      <th>2908</th>\n",
              "      <td>Wii Sports</td>\n",
              "      <td>Wii</td>\n",
              "      <td>2006.0</td>\n",
              "      <td>Sports</td>\n",
              "      <td>Nintendo</td>\n",
              "      <td>41.49</td>\n",
              "      <td>29.02</td>\n",
              "      <td>3.77</td>\n",
              "      <td>8.46</td>\n",
              "      <td>82.74</td>\n",
              "      <td>00's</td>\n",
              "    </tr>\n",
              "    <tr>\n",
              "      <th>4199</th>\n",
              "      <td>Super Mario Bros.</td>\n",
              "      <td>NES</td>\n",
              "      <td>1985.0</td>\n",
              "      <td>Platform</td>\n",
              "      <td>Nintendo</td>\n",
              "      <td>29.08</td>\n",
              "      <td>3.58</td>\n",
              "      <td>6.81</td>\n",
              "      <td>0.77</td>\n",
              "      <td>40.24</td>\n",
              "      <td>80's</td>\n",
              "    </tr>\n",
              "    <tr>\n",
              "      <th>12579</th>\n",
              "      <td>Mario Kart Wii</td>\n",
              "      <td>Wii</td>\n",
              "      <td>2008.0</td>\n",
              "      <td>Racing</td>\n",
              "      <td>Nintendo</td>\n",
              "      <td>15.85</td>\n",
              "      <td>12.88</td>\n",
              "      <td>3.79</td>\n",
              "      <td>3.31</td>\n",
              "      <td>35.83</td>\n",
              "      <td>00's</td>\n",
              "    </tr>\n",
              "    <tr>\n",
              "      <th>3352</th>\n",
              "      <td>Wii Sports Resort</td>\n",
              "      <td>Wii</td>\n",
              "      <td>2009.0</td>\n",
              "      <td>Sports</td>\n",
              "      <td>Nintendo</td>\n",
              "      <td>15.75</td>\n",
              "      <td>11.01</td>\n",
              "      <td>3.28</td>\n",
              "      <td>2.96</td>\n",
              "      <td>33.00</td>\n",
              "      <td>00's</td>\n",
              "    </tr>\n",
              "    <tr>\n",
              "      <th>7829</th>\n",
              "      <td>Pokemon Red/Pokemon Blue</td>\n",
              "      <td>GB</td>\n",
              "      <td>1996.0</td>\n",
              "      <td>Role-Playing</td>\n",
              "      <td>Nintendo</td>\n",
              "      <td>11.27</td>\n",
              "      <td>8.89</td>\n",
              "      <td>10.22</td>\n",
              "      <td>1.00</td>\n",
              "      <td>31.38</td>\n",
              "      <td>90's</td>\n",
              "    </tr>\n",
              "    <tr>\n",
              "      <th>...</th>\n",
              "      <td>...</td>\n",
              "      <td>...</td>\n",
              "      <td>...</td>\n",
              "      <td>...</td>\n",
              "      <td>...</td>\n",
              "      <td>...</td>\n",
              "      <td>...</td>\n",
              "      <td>...</td>\n",
              "      <td>...</td>\n",
              "      <td>...</td>\n",
              "      <td>...</td>\n",
              "    </tr>\n",
              "    <tr>\n",
              "      <th>3007</th>\n",
              "      <td>Super Mario All-Stars</td>\n",
              "      <td>SNES</td>\n",
              "      <td>1993.0</td>\n",
              "      <td>Platform</td>\n",
              "      <td>Nintendo</td>\n",
              "      <td>5.99</td>\n",
              "      <td>2.15</td>\n",
              "      <td>2.12</td>\n",
              "      <td>0.29</td>\n",
              "      <td>10.55</td>\n",
              "      <td>90's</td>\n",
              "    </tr>\n",
              "    <tr>\n",
              "      <th>1810</th>\n",
              "      <td>Pokemon FireRed/Pokemon LeafGreen</td>\n",
              "      <td>GBA</td>\n",
              "      <td>2004.0</td>\n",
              "      <td>Role-Playing</td>\n",
              "      <td>Nintendo</td>\n",
              "      <td>4.34</td>\n",
              "      <td>2.65</td>\n",
              "      <td>3.15</td>\n",
              "      <td>0.35</td>\n",
              "      <td>10.49</td>\n",
              "      <td>00's</td>\n",
              "    </tr>\n",
              "    <tr>\n",
              "      <th>12472</th>\n",
              "      <td>Super Mario 64</td>\n",
              "      <td>DS</td>\n",
              "      <td>2004.0</td>\n",
              "      <td>Platform</td>\n",
              "      <td>Nintendo</td>\n",
              "      <td>5.08</td>\n",
              "      <td>3.11</td>\n",
              "      <td>1.25</td>\n",
              "      <td>0.98</td>\n",
              "      <td>10.42</td>\n",
              "      <td>00's</td>\n",
              "    </tr>\n",
              "    <tr>\n",
              "      <th>223</th>\n",
              "      <td>Just Dance 3</td>\n",
              "      <td>Wii</td>\n",
              "      <td>2011.0</td>\n",
              "      <td>Misc</td>\n",
              "      <td>Ubisoft</td>\n",
              "      <td>6.05</td>\n",
              "      <td>3.15</td>\n",
              "      <td>0.00</td>\n",
              "      <td>1.07</td>\n",
              "      <td>10.27</td>\n",
              "      <td>10's</td>\n",
              "    </tr>\n",
              "    <tr>\n",
              "      <th>5604</th>\n",
              "      <td>Call of Duty: Ghosts</td>\n",
              "      <td>X360</td>\n",
              "      <td>2013.0</td>\n",
              "      <td>Shooter</td>\n",
              "      <td>Activision</td>\n",
              "      <td>6.72</td>\n",
              "      <td>2.63</td>\n",
              "      <td>0.04</td>\n",
              "      <td>0.82</td>\n",
              "      <td>10.21</td>\n",
              "      <td>10's</td>\n",
              "    </tr>\n",
              "  </tbody>\n",
              "</table>\n",
              "<p>62 rows × 11 columns</p>\n",
              "</div>"
            ],
            "text/plain": [
              "                                    Name Platform  ...  sum_sales new_year\n",
              "2908                          Wii Sports      Wii  ...      82.74     00's\n",
              "4199                   Super Mario Bros.      NES  ...      40.24     80's\n",
              "12579                     Mario Kart Wii      Wii  ...      35.83     00's\n",
              "3352                   Wii Sports Resort      Wii  ...      33.00     00's\n",
              "7829            Pokemon Red/Pokemon Blue       GB  ...      31.38     90's\n",
              "...                                  ...      ...  ...        ...      ...\n",
              "3007               Super Mario All-Stars     SNES  ...      10.55     90's\n",
              "1810   Pokemon FireRed/Pokemon LeafGreen      GBA  ...      10.49     00's\n",
              "12472                     Super Mario 64       DS  ...      10.42     00's\n",
              "223                         Just Dance 3      Wii  ...      10.27     10's\n",
              "5604                Call of Duty: Ghosts     X360  ...      10.21     10's\n",
              "\n",
              "[62 rows x 11 columns]"
            ]
          },
          "metadata": {
            "tags": []
          },
          "execution_count": 70
        }
      ]
    },
    {
      "cell_type": "code",
      "metadata": {
        "colab": {
          "base_uri": "https://localhost:8080/",
          "height": 263
        },
        "id": "uWR2zPZx7H88",
        "outputId": "4501eecf-6d71-42c3-a61f-9dd3e36771bd"
      },
      "source": [
        "test=_10M.groupby('Publisher').mean().iloc[:,1:6]#\n",
        "test\n",
        "#test.sort_values('sum_sales',ascending=False)"
      ],
      "execution_count": null,
      "outputs": [
        {
          "output_type": "execute_result",
          "data": {
            "text/html": [
              "<div>\n",
              "<style scoped>\n",
              "    .dataframe tbody tr th:only-of-type {\n",
              "        vertical-align: middle;\n",
              "    }\n",
              "\n",
              "    .dataframe tbody tr th {\n",
              "        vertical-align: top;\n",
              "    }\n",
              "\n",
              "    .dataframe thead th {\n",
              "        text-align: right;\n",
              "    }\n",
              "</style>\n",
              "<table border=\"1\" class=\"dataframe\">\n",
              "  <thead>\n",
              "    <tr style=\"text-align: right;\">\n",
              "      <th></th>\n",
              "      <th>NA_Sales</th>\n",
              "      <th>EU_Sales</th>\n",
              "      <th>JP_Sales</th>\n",
              "      <th>Other_Sales</th>\n",
              "      <th>sum_sales</th>\n",
              "    </tr>\n",
              "    <tr>\n",
              "      <th>Publisher</th>\n",
              "      <th></th>\n",
              "      <th></th>\n",
              "      <th></th>\n",
              "      <th></th>\n",
              "      <th></th>\n",
              "    </tr>\n",
              "  </thead>\n",
              "  <tbody>\n",
              "    <tr>\n",
              "      <th>Activision</th>\n",
              "      <td>6.946000</td>\n",
              "      <td>4.421000</td>\n",
              "      <td>0.278000</td>\n",
              "      <td>1.559000</td>\n",
              "      <td>13.204000</td>\n",
              "    </tr>\n",
              "    <tr>\n",
              "      <th>Microsoft Game Studios</th>\n",
              "      <td>11.470000</td>\n",
              "      <td>3.885000</td>\n",
              "      <td>0.185000</td>\n",
              "      <td>1.440000</td>\n",
              "      <td>16.980000</td>\n",
              "    </tr>\n",
              "    <tr>\n",
              "      <th>Nintendo</th>\n",
              "      <td>10.327838</td>\n",
              "      <td>5.832703</td>\n",
              "      <td>3.881351</td>\n",
              "      <td>1.391892</td>\n",
              "      <td>21.433784</td>\n",
              "    </tr>\n",
              "    <tr>\n",
              "      <th>Sony Computer Entertainment</th>\n",
              "      <td>4.210000</td>\n",
              "      <td>3.462500</td>\n",
              "      <td>1.580000</td>\n",
              "      <td>2.832500</td>\n",
              "      <td>12.085000</td>\n",
              "    </tr>\n",
              "    <tr>\n",
              "      <th>Take-Two Interactive</th>\n",
              "      <td>7.098750</td>\n",
              "      <td>4.706250</td>\n",
              "      <td>0.393750</td>\n",
              "      <td>2.980000</td>\n",
              "      <td>15.178750</td>\n",
              "    </tr>\n",
              "    <tr>\n",
              "      <th>Ubisoft</th>\n",
              "      <td>6.050000</td>\n",
              "      <td>3.150000</td>\n",
              "      <td>0.000000</td>\n",
              "      <td>1.070000</td>\n",
              "      <td>10.270000</td>\n",
              "    </tr>\n",
              "  </tbody>\n",
              "</table>\n",
              "</div>"
            ],
            "text/plain": [
              "                              NA_Sales  EU_Sales  ...  Other_Sales  sum_sales\n",
              "Publisher                                         ...                        \n",
              "Activision                    6.946000  4.421000  ...     1.559000  13.204000\n",
              "Microsoft Game Studios       11.470000  3.885000  ...     1.440000  16.980000\n",
              "Nintendo                     10.327838  5.832703  ...     1.391892  21.433784\n",
              "Sony Computer Entertainment   4.210000  3.462500  ...     2.832500  12.085000\n",
              "Take-Two Interactive          7.098750  4.706250  ...     2.980000  15.178750\n",
              "Ubisoft                       6.050000  3.150000  ...     1.070000  10.270000\n",
              "\n",
              "[6 rows x 5 columns]"
            ]
          },
          "metadata": {
            "tags": []
          },
          "execution_count": 71
        }
      ]
    },
    {
      "cell_type": "code",
      "metadata": {
        "colab": {
          "base_uri": "https://localhost:8080/",
          "height": 1000
        },
        "id": "mGrnhXr12QVI",
        "outputId": "873f4146-887f-421e-8ae9-631c561a69b7"
      },
      "source": [
        "p_s_ttest=df.groupby('Platform').mean().iloc[:,1:5]\n",
        "p_s_ttest\n",
        "#p_s_ttest=np.array(p_s_ttest)\n",
        "#p_s_ttest"
      ],
      "execution_count": null,
      "outputs": [
        {
          "output_type": "execute_result",
          "data": {
            "text/html": [
              "<div>\n",
              "<style scoped>\n",
              "    .dataframe tbody tr th:only-of-type {\n",
              "        vertical-align: middle;\n",
              "    }\n",
              "\n",
              "    .dataframe tbody tr th {\n",
              "        vertical-align: top;\n",
              "    }\n",
              "\n",
              "    .dataframe thead th {\n",
              "        text-align: right;\n",
              "    }\n",
              "</style>\n",
              "<table border=\"1\" class=\"dataframe\">\n",
              "  <thead>\n",
              "    <tr style=\"text-align: right;\">\n",
              "      <th></th>\n",
              "      <th>NA_Sales</th>\n",
              "      <th>EU_Sales</th>\n",
              "      <th>JP_Sales</th>\n",
              "      <th>Other_Sales</th>\n",
              "    </tr>\n",
              "    <tr>\n",
              "      <th>Platform</th>\n",
              "      <th></th>\n",
              "      <th></th>\n",
              "      <th></th>\n",
              "      <th></th>\n",
              "    </tr>\n",
              "  </thead>\n",
              "  <tbody>\n",
              "    <tr>\n",
              "      <th>2600</th>\n",
              "      <td>0.681203</td>\n",
              "      <td>0.041128</td>\n",
              "      <td>0.000000</td>\n",
              "      <td>0.006842</td>\n",
              "    </tr>\n",
              "    <tr>\n",
              "      <th>3DO</th>\n",
              "      <td>0.000000</td>\n",
              "      <td>0.000000</td>\n",
              "      <td>0.033333</td>\n",
              "      <td>0.000000</td>\n",
              "    </tr>\n",
              "    <tr>\n",
              "      <th>3DS</th>\n",
              "      <td>0.154951</td>\n",
              "      <td>0.114971</td>\n",
              "      <td>0.191257</td>\n",
              "      <td>0.024813</td>\n",
              "    </tr>\n",
              "    <tr>\n",
              "      <th>DC</th>\n",
              "      <td>0.104423</td>\n",
              "      <td>0.032500</td>\n",
              "      <td>0.164615</td>\n",
              "      <td>0.005192</td>\n",
              "    </tr>\n",
              "    <tr>\n",
              "      <th>DS</th>\n",
              "      <td>0.180633</td>\n",
              "      <td>0.089991</td>\n",
              "      <td>0.081170</td>\n",
              "      <td>0.027984</td>\n",
              "    </tr>\n",
              "    <tr>\n",
              "      <th>GB</th>\n",
              "      <td>1.166531</td>\n",
              "      <td>0.487959</td>\n",
              "      <td>0.868571</td>\n",
              "      <td>0.083673</td>\n",
              "    </tr>\n",
              "    <tr>\n",
              "      <th>GBA</th>\n",
              "      <td>0.228151</td>\n",
              "      <td>0.091545</td>\n",
              "      <td>0.057579</td>\n",
              "      <td>0.009404</td>\n",
              "    </tr>\n",
              "    <tr>\n",
              "      <th>GC</th>\n",
              "      <td>0.240036</td>\n",
              "      <td>0.069622</td>\n",
              "      <td>0.038813</td>\n",
              "      <td>0.009317</td>\n",
              "    </tr>\n",
              "    <tr>\n",
              "      <th>GEN</th>\n",
              "      <td>0.713704</td>\n",
              "      <td>0.204444</td>\n",
              "      <td>0.098889</td>\n",
              "      <td>0.032963</td>\n",
              "    </tr>\n",
              "    <tr>\n",
              "      <th>GG</th>\n",
              "      <td>0.000000</td>\n",
              "      <td>0.000000</td>\n",
              "      <td>0.040000</td>\n",
              "      <td>0.000000</td>\n",
              "    </tr>\n",
              "    <tr>\n",
              "      <th>N64</th>\n",
              "      <td>0.435799</td>\n",
              "      <td>0.128715</td>\n",
              "      <td>0.107273</td>\n",
              "      <td>0.013730</td>\n",
              "    </tr>\n",
              "    <tr>\n",
              "      <th>NES</th>\n",
              "      <td>1.285102</td>\n",
              "      <td>0.215816</td>\n",
              "      <td>1.006633</td>\n",
              "      <td>0.054184</td>\n",
              "    </tr>\n",
              "    <tr>\n",
              "      <th>NG</th>\n",
              "      <td>0.000000</td>\n",
              "      <td>0.000000</td>\n",
              "      <td>0.120000</td>\n",
              "      <td>0.000000</td>\n",
              "    </tr>\n",
              "    <tr>\n",
              "      <th>PC</th>\n",
              "      <td>0.097167</td>\n",
              "      <td>0.145500</td>\n",
              "      <td>0.000177</td>\n",
              "      <td>0.025896</td>\n",
              "    </tr>\n",
              "    <tr>\n",
              "      <th>PCFX</th>\n",
              "      <td>0.000000</td>\n",
              "      <td>0.000000</td>\n",
              "      <td>0.030000</td>\n",
              "      <td>0.000000</td>\n",
              "    </tr>\n",
              "    <tr>\n",
              "      <th>PS</th>\n",
              "      <td>0.281363</td>\n",
              "      <td>0.178595</td>\n",
              "      <td>0.116906</td>\n",
              "      <td>0.034206</td>\n",
              "    </tr>\n",
              "    <tr>\n",
              "      <th>PS2</th>\n",
              "      <td>0.270171</td>\n",
              "      <td>0.157006</td>\n",
              "      <td>0.064415</td>\n",
              "      <td>0.089514</td>\n",
              "    </tr>\n",
              "    <tr>\n",
              "      <th>PS3</th>\n",
              "      <td>0.295154</td>\n",
              "      <td>0.258623</td>\n",
              "      <td>0.060188</td>\n",
              "      <td>0.106795</td>\n",
              "    </tr>\n",
              "    <tr>\n",
              "      <th>PS4</th>\n",
              "      <td>0.288095</td>\n",
              "      <td>0.368155</td>\n",
              "      <td>0.042560</td>\n",
              "      <td>0.129048</td>\n",
              "    </tr>\n",
              "    <tr>\n",
              "      <th>PSP</th>\n",
              "      <td>0.089852</td>\n",
              "      <td>0.056265</td>\n",
              "      <td>0.063306</td>\n",
              "      <td>0.034782</td>\n",
              "    </tr>\n",
              "    <tr>\n",
              "      <th>PSV</th>\n",
              "      <td>0.039225</td>\n",
              "      <td>0.039540</td>\n",
              "      <td>0.050751</td>\n",
              "      <td>0.020460</td>\n",
              "    </tr>\n",
              "    <tr>\n",
              "      <th>SAT</th>\n",
              "      <td>0.004162</td>\n",
              "      <td>0.003121</td>\n",
              "      <td>0.186474</td>\n",
              "      <td>0.000405</td>\n",
              "    </tr>\n",
              "    <tr>\n",
              "      <th>SCD</th>\n",
              "      <td>0.166667</td>\n",
              "      <td>0.060000</td>\n",
              "      <td>0.075000</td>\n",
              "      <td>0.008333</td>\n",
              "    </tr>\n",
              "    <tr>\n",
              "      <th>SNES</th>\n",
              "      <td>0.256192</td>\n",
              "      <td>0.079665</td>\n",
              "      <td>0.487657</td>\n",
              "      <td>0.013473</td>\n",
              "    </tr>\n",
              "    <tr>\n",
              "      <th>TG16</th>\n",
              "      <td>0.000000</td>\n",
              "      <td>0.000000</td>\n",
              "      <td>0.080000</td>\n",
              "      <td>0.000000</td>\n",
              "    </tr>\n",
              "    <tr>\n",
              "      <th>WS</th>\n",
              "      <td>0.000000</td>\n",
              "      <td>0.000000</td>\n",
              "      <td>0.236667</td>\n",
              "      <td>0.000000</td>\n",
              "    </tr>\n",
              "    <tr>\n",
              "      <th>Wii</th>\n",
              "      <td>0.383177</td>\n",
              "      <td>0.202551</td>\n",
              "      <td>0.052340</td>\n",
              "      <td>0.060838</td>\n",
              "    </tr>\n",
              "    <tr>\n",
              "      <th>WiiU</th>\n",
              "      <td>0.267972</td>\n",
              "      <td>0.169441</td>\n",
              "      <td>0.089441</td>\n",
              "      <td>0.045105</td>\n",
              "    </tr>\n",
              "    <tr>\n",
              "      <th>X360</th>\n",
              "      <td>0.475138</td>\n",
              "      <td>0.221802</td>\n",
              "      <td>0.009826</td>\n",
              "      <td>0.067621</td>\n",
              "    </tr>\n",
              "    <tr>\n",
              "      <th>XB</th>\n",
              "      <td>0.226566</td>\n",
              "      <td>0.073968</td>\n",
              "      <td>0.001675</td>\n",
              "      <td>0.010583</td>\n",
              "    </tr>\n",
              "    <tr>\n",
              "      <th>XOne</th>\n",
              "      <td>0.390563</td>\n",
              "      <td>0.214319</td>\n",
              "      <td>0.001596</td>\n",
              "      <td>0.055962</td>\n",
              "    </tr>\n",
              "  </tbody>\n",
              "</table>\n",
              "</div>"
            ],
            "text/plain": [
              "          NA_Sales  EU_Sales  JP_Sales  Other_Sales\n",
              "Platform                                           \n",
              "2600      0.681203  0.041128  0.000000     0.006842\n",
              "3DO       0.000000  0.000000  0.033333     0.000000\n",
              "3DS       0.154951  0.114971  0.191257     0.024813\n",
              "DC        0.104423  0.032500  0.164615     0.005192\n",
              "DS        0.180633  0.089991  0.081170     0.027984\n",
              "GB        1.166531  0.487959  0.868571     0.083673\n",
              "GBA       0.228151  0.091545  0.057579     0.009404\n",
              "GC        0.240036  0.069622  0.038813     0.009317\n",
              "GEN       0.713704  0.204444  0.098889     0.032963\n",
              "GG        0.000000  0.000000  0.040000     0.000000\n",
              "N64       0.435799  0.128715  0.107273     0.013730\n",
              "NES       1.285102  0.215816  1.006633     0.054184\n",
              "NG        0.000000  0.000000  0.120000     0.000000\n",
              "PC        0.097167  0.145500  0.000177     0.025896\n",
              "PCFX      0.000000  0.000000  0.030000     0.000000\n",
              "PS        0.281363  0.178595  0.116906     0.034206\n",
              "PS2       0.270171  0.157006  0.064415     0.089514\n",
              "PS3       0.295154  0.258623  0.060188     0.106795\n",
              "PS4       0.288095  0.368155  0.042560     0.129048\n",
              "PSP       0.089852  0.056265  0.063306     0.034782\n",
              "PSV       0.039225  0.039540  0.050751     0.020460\n",
              "SAT       0.004162  0.003121  0.186474     0.000405\n",
              "SCD       0.166667  0.060000  0.075000     0.008333\n",
              "SNES      0.256192  0.079665  0.487657     0.013473\n",
              "TG16      0.000000  0.000000  0.080000     0.000000\n",
              "WS        0.000000  0.000000  0.236667     0.000000\n",
              "Wii       0.383177  0.202551  0.052340     0.060838\n",
              "WiiU      0.267972  0.169441  0.089441     0.045105\n",
              "X360      0.475138  0.221802  0.009826     0.067621\n",
              "XB        0.226566  0.073968  0.001675     0.010583\n",
              "XOne      0.390563  0.214319  0.001596     0.055962"
            ]
          },
          "metadata": {
            "tags": []
          },
          "execution_count": 72
        }
      ]
    },
    {
      "cell_type": "code",
      "metadata": {
        "colab": {
          "base_uri": "https://localhost:8080/",
          "height": 368
        },
        "id": "Tsz4R0HzGEIV",
        "outputId": "2f616c8d-a275-4da3-b5ce-2b935ec01961"
      },
      "source": [
        "p_s_ttest.sort_values('sum_sales',ascending=False)\n",
        "p_s_ttest\n",
        "#p_s_ttest=np.array(p_s_ttest)"
      ],
      "execution_count": null,
      "outputs": [
        {
          "output_type": "error",
          "ename": "KeyError",
          "evalue": "ignored",
          "traceback": [
            "\u001b[0;31m---------------------------------------------------------------------------\u001b[0m",
            "\u001b[0;31mKeyError\u001b[0m                                  Traceback (most recent call last)",
            "\u001b[0;32m<ipython-input-73-f1676d74c3f8>\u001b[0m in \u001b[0;36m<module>\u001b[0;34m()\u001b[0m\n\u001b[0;32m----> 1\u001b[0;31m \u001b[0mp_s_ttest\u001b[0m\u001b[0;34m.\u001b[0m\u001b[0msort_values\u001b[0m\u001b[0;34m(\u001b[0m\u001b[0;34m'sum_sales'\u001b[0m\u001b[0;34m,\u001b[0m\u001b[0mascending\u001b[0m\u001b[0;34m=\u001b[0m\u001b[0;32mFalse\u001b[0m\u001b[0;34m)\u001b[0m\u001b[0;34m\u001b[0m\u001b[0;34m\u001b[0m\u001b[0m\n\u001b[0m\u001b[1;32m      2\u001b[0m \u001b[0mp_s_ttest\u001b[0m\u001b[0;34m\u001b[0m\u001b[0;34m\u001b[0m\u001b[0m\n\u001b[1;32m      3\u001b[0m \u001b[0;31m#p_s_ttest=np.array(p_s_ttest)\u001b[0m\u001b[0;34m\u001b[0m\u001b[0;34m\u001b[0m\u001b[0;34m\u001b[0m\u001b[0m\n",
            "\u001b[0;32m/usr/local/lib/python3.7/dist-packages/pandas/core/frame.py\u001b[0m in \u001b[0;36msort_values\u001b[0;34m(self, by, axis, ascending, inplace, kind, na_position, ignore_index, key)\u001b[0m\n\u001b[1;32m   5296\u001b[0m \u001b[0;34m\u001b[0m\u001b[0m\n\u001b[1;32m   5297\u001b[0m             \u001b[0mby\u001b[0m \u001b[0;34m=\u001b[0m \u001b[0mby\u001b[0m\u001b[0;34m[\u001b[0m\u001b[0;36m0\u001b[0m\u001b[0;34m]\u001b[0m\u001b[0;34m\u001b[0m\u001b[0;34m\u001b[0m\u001b[0m\n\u001b[0;32m-> 5298\u001b[0;31m             \u001b[0mk\u001b[0m \u001b[0;34m=\u001b[0m \u001b[0mself\u001b[0m\u001b[0;34m.\u001b[0m\u001b[0m_get_label_or_level_values\u001b[0m\u001b[0;34m(\u001b[0m\u001b[0mby\u001b[0m\u001b[0;34m,\u001b[0m \u001b[0maxis\u001b[0m\u001b[0;34m=\u001b[0m\u001b[0maxis\u001b[0m\u001b[0;34m)\u001b[0m\u001b[0;34m\u001b[0m\u001b[0;34m\u001b[0m\u001b[0m\n\u001b[0m\u001b[1;32m   5299\u001b[0m \u001b[0;34m\u001b[0m\u001b[0m\n\u001b[1;32m   5300\u001b[0m             \u001b[0;31m# need to rewrap column in Series to apply key function\u001b[0m\u001b[0;34m\u001b[0m\u001b[0;34m\u001b[0m\u001b[0;34m\u001b[0m\u001b[0m\n",
            "\u001b[0;32m/usr/local/lib/python3.7/dist-packages/pandas/core/generic.py\u001b[0m in \u001b[0;36m_get_label_or_level_values\u001b[0;34m(self, key, axis)\u001b[0m\n\u001b[1;32m   1561\u001b[0m             \u001b[0mvalues\u001b[0m \u001b[0;34m=\u001b[0m \u001b[0mself\u001b[0m\u001b[0;34m.\u001b[0m\u001b[0maxes\u001b[0m\u001b[0;34m[\u001b[0m\u001b[0maxis\u001b[0m\u001b[0;34m]\u001b[0m\u001b[0;34m.\u001b[0m\u001b[0mget_level_values\u001b[0m\u001b[0;34m(\u001b[0m\u001b[0mkey\u001b[0m\u001b[0;34m)\u001b[0m\u001b[0;34m.\u001b[0m\u001b[0m_values\u001b[0m\u001b[0;34m\u001b[0m\u001b[0;34m\u001b[0m\u001b[0m\n\u001b[1;32m   1562\u001b[0m         \u001b[0;32melse\u001b[0m\u001b[0;34m:\u001b[0m\u001b[0;34m\u001b[0m\u001b[0;34m\u001b[0m\u001b[0m\n\u001b[0;32m-> 1563\u001b[0;31m             \u001b[0;32mraise\u001b[0m \u001b[0mKeyError\u001b[0m\u001b[0;34m(\u001b[0m\u001b[0mkey\u001b[0m\u001b[0;34m)\u001b[0m\u001b[0;34m\u001b[0m\u001b[0;34m\u001b[0m\u001b[0m\n\u001b[0m\u001b[1;32m   1564\u001b[0m \u001b[0;34m\u001b[0m\u001b[0m\n\u001b[1;32m   1565\u001b[0m         \u001b[0;31m# Check for duplicates\u001b[0m\u001b[0;34m\u001b[0m\u001b[0;34m\u001b[0m\u001b[0;34m\u001b[0m\u001b[0m\n",
            "\u001b[0;31mKeyError\u001b[0m: 'sum_sales'"
          ]
        }
      ]
    },
    {
      "cell_type": "markdown",
      "metadata": {
        "id": "JUkpcyIJ5yn7"
      },
      "source": [
        "t-test\n",
        "\n",
        "귀무가설 : 게임 플랫폼과 매출 간 사이의 관련성이 없다.\n",
        "대안가설 : 게임 플랫폼과 매출 간 사이의 관련성이 있다.\n",
        "\n"
      ]
    },
    {
      "cell_type": "code",
      "metadata": {
        "id": "dt-nJrCZ6a3q"
      },
      "source": [
        "from scipy.stats import chi2_contingency\n",
        "\n",
        "print(chi2_contingency(test))"
      ],
      "execution_count": null,
      "outputs": []
    },
    {
      "cell_type": "code",
      "metadata": {
        "id": "S_D_joQL3zmv"
      },
      "source": [
        "df['Platform'].unique()"
      ],
      "execution_count": null,
      "outputs": []
    },
    {
      "cell_type": "code",
      "metadata": {
        "id": "F_Cy_WyzRcTI"
      },
      "source": [
        "df_test=df.groupby('Platform').mean().iloc[:,1:5]\n",
        "print(chi2_contingency(df_test))"
      ],
      "execution_count": null,
      "outputs": []
    },
    {
      "cell_type": "code",
      "metadata": {
        "id": "MKwjBXIp6r8j"
      },
      "source": [
        "df['success_game'] = (df.sum_sales > 10).astype(int) #10M이상은 1 \n",
        "sp=np.array(df.iloc[:,[3,11]]) # 장르와 성공지표\n",
        "sp"
      ],
      "execution_count": null,
      "outputs": []
    },
    {
      "cell_type": "code",
      "metadata": {
        "id": "-aF1xFrb9CVn"
      },
      "source": [
        "df.groupby('Genre').sum()"
      ],
      "execution_count": null,
      "outputs": []
    },
    {
      "cell_type": "code",
      "metadata": {
        "id": "jedAvBTkC7V7"
      },
      "source": [
        "genre"
      ],
      "execution_count": null,
      "outputs": []
    },
    {
      "cell_type": "code",
      "metadata": {
        "id": "ID2xjvPPHoJB"
      },
      "source": [
        "_b=pd.DataFrame(df.groupby('Genre').mean().iloc[:,5])\n",
        "_b"
      ],
      "execution_count": null,
      "outputs": []
    },
    {
      "cell_type": "code",
      "metadata": {
        "id": "Udzb2uKPJBBy"
      },
      "source": [
        "from scipy.stats import chisquare \n",
        "chisquare(_b, axis=None) # One sample chi-square\n",
        "\n",
        "#장르별 매출의 평균은 유의하다 => 다르다"
      ],
      "execution_count": null,
      "outputs": []
    },
    {
      "cell_type": "code",
      "metadata": {
        "id": "ydlDHtS8Jjdt"
      },
      "source": [
        "_c=pd.DataFrame(df.groupby('Platform').sum().iloc[:,5])\n",
        "chisquare(_c, axis=None) # One sample chi-square\n",
        "\n",
        "#플랫폼별 매출의 평균은 유의하다 => 다르다, 비슷하지 않다."
      ],
      "execution_count": null,
      "outputs": []
    },
    {
      "cell_type": "code",
      "metadata": {
        "id": "LJH4dJwYKYzq"
      },
      "source": [
        "_d=pd.DataFrame(df.groupby('Publisher').mean().iloc[:,5])\n",
        "chisquare(_d, axis=None) # One sample chi-square\n",
        "\n",
        "#플랫폼별 매출의 평균은 유의하다 => 다르다, 비슷하지 않다."
      ],
      "execution_count": null,
      "outputs": []
    },
    {
      "cell_type": "code",
      "metadata": {
        "id": "hCqKlkJgCbSJ"
      },
      "source": [
        "\n",
        "_a=np.array([[9, 1, 1, 4, 11, 2, 7, 8, 12, 2, 4, 0],[3296, 1279, 846, 1730, 873, 576, 1236, 1475, 1296, 863, 2337, 680]])\n",
        "\n",
        "_ttest=pd.DataFrame(index=['S','F'],columns=genre,data=_a)\n",
        "_ttest\n",
        "#[9, 1, 1, 4, 11, 2, 7, 8, 12, 2, 4, 0]\n",
        "#[3296, 1279, 846, 1730, 873, 576, 1236, 1475, 1296, 863, 2337, 680]"
      ],
      "execution_count": null,
      "outputs": []
    },
    {
      "cell_type": "code",
      "metadata": {
        "id": "CNdcy7VuDZWz"
      },
      "source": [
        "from scipy.stats import chi2_contingency\n",
        "chi2_contingency(_ttest)"
      ],
      "execution_count": null,
      "outputs": []
    },
    {
      "cell_type": "code",
      "metadata": {
        "id": "AyeZphth6w0f"
      },
      "source": [
        "tg1 = sp[sp[: , 1]==0,0]\n",
        "tg2 = sp[sp[: , 1]==1,0]"
      ],
      "execution_count": null,
      "outputs": []
    },
    {
      "cell_type": "code",
      "metadata": {
        "id": "XcT70Tbm8vh-"
      },
      "source": [
        "from scipy import stats\n",
        "stats.ttest_ind(tg1, tg2) "
      ],
      "execution_count": null,
      "outputs": []
    },
    {
      "cell_type": "code",
      "metadata": {
        "id": "1zbJInfa8yZG"
      },
      "source": [
        ""
      ],
      "execution_count": null,
      "outputs": []
    }
  ]
}