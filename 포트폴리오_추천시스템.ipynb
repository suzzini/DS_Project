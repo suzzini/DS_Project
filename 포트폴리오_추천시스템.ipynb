{
  "nbformat": 4,
  "nbformat_minor": 0,
  "metadata": {
    "colab": {
      "name": "포트폴리오_추천시스템.ipynb",
      "provenance": [],
      "collapsed_sections": [],
      "machine_shape": "hm",
      "mount_file_id": "1xbOzYF0jm_gBeVO6nARYcHUBIAbRRDlm",
      "authorship_tag": "ABX9TyMoilSfj3fNNcH4TmUJqoe3",
      "include_colab_link": true
    },
    "kernelspec": {
      "name": "python3",
      "display_name": "Python 3"
    },
    "language_info": {
      "name": "python"
    },
    "accelerator": "GPU"
  },
  "cells": [
    {
      "cell_type": "markdown",
      "metadata": {
        "id": "view-in-github",
        "colab_type": "text"
      },
      "source": [
        "<a href=\"https://colab.research.google.com/github/suzzini/DS_Project/blob/main/%ED%8F%AC%ED%8A%B8%ED%8F%B4%EB%A6%AC%EC%98%A4_%EC%B6%94%EC%B2%9C%EC%8B%9C%EC%8A%A4%ED%85%9C.ipynb\" target=\"_parent\"><img src=\"https://colab.research.google.com/assets/colab-badge.svg\" alt=\"Open In Colab\"/></a>"
      ]
    },
    {
      "cell_type": "code",
      "metadata": {
        "colab": {
          "base_uri": "https://localhost:8080/"
        },
        "id": "r5TaHXHY7Sen",
        "outputId": "cd7a30bf-3c7c-4db2-df08-e4aa7f38f217"
      },
      "source": [
        "INPUT_DIR='drive/MyDrive/dataset'\n",
        "!ls {INPUT_DIR}"
      ],
      "execution_count": 1,
      "outputs": [
        {
          "output_type": "stream",
          "text": [
            "ai_sc42x\t\t  mountainForest       rating.csv.zip\n",
            "animelist.csv\t\t  mountainForest.zip   section4_p\n",
            "anime_recommendation.zip  movie.csv.zip        test.zip\n",
            "im_frog\t\t\t  movie_rating\t       wine_recommedation\n",
            "__MACOSX\t\t  movies_metadata.csv  wine_recommedation.zip\n"
          ],
          "name": "stdout"
        }
      ]
    },
    {
      "cell_type": "code",
      "metadata": {
        "id": "4AcFBNzD73yo"
      },
      "source": [
        "#!unzip /content/drive/MyDrive/dataset/movie.csv.zip -d /content/drive/MyDrive/dataset/movie_rating\n",
        "#!unzip /content/drive/MyDrive/dataset/rating.csv.zip -d /content/drive/MyDrive/dataset/movie_rating"
      ],
      "execution_count": 2,
      "outputs": []
    },
    {
      "cell_type": "code",
      "metadata": {
        "id": "1pToue7a8JGn"
      },
      "source": [
        "import numpy as np\n",
        "import pandas as pd \n",
        "\n",
        "%matplotlib inline\n",
        "import matplotlib.pyplot as plt\n",
        "import seaborn as sns"
      ],
      "execution_count": 3,
      "outputs": []
    },
    {
      "cell_type": "code",
      "metadata": {
        "id": "3Edm2X7k8QNy"
      },
      "source": [
        "#read data\n",
        "movie=pd.read_csv(\"/content/drive/MyDrive/dataset/movie_rating/movie.csv\")\n",
        "rating=pd.read_csv(\"/content/drive/MyDrive/dataset/movie_rating/rating.csv\")"
      ],
      "execution_count": 4,
      "outputs": []
    },
    {
      "cell_type": "code",
      "metadata": {
        "colab": {
          "base_uri": "https://localhost:8080/"
        },
        "id": "c4hCWm7E8YUp",
        "outputId": "f67f9f85-7db1-49d3-db95-adda655eba31"
      },
      "source": [
        "movie.shape, rating.shape"
      ],
      "execution_count": 5,
      "outputs": [
        {
          "output_type": "execute_result",
          "data": {
            "text/plain": [
              "((27278, 3), (20000263, 4))"
            ]
          },
          "metadata": {
            "tags": []
          },
          "execution_count": 5
        }
      ]
    },
    {
      "cell_type": "code",
      "metadata": {
        "colab": {
          "base_uri": "https://localhost:8080/",
          "height": 204
        },
        "id": "Hk1TUjk68e20",
        "outputId": "be0c87a4-f91f-4011-8741-e8b9ee187d00"
      },
      "source": [
        "movie.head()"
      ],
      "execution_count": 6,
      "outputs": [
        {
          "output_type": "execute_result",
          "data": {
            "text/html": [
              "<div>\n",
              "<style scoped>\n",
              "    .dataframe tbody tr th:only-of-type {\n",
              "        vertical-align: middle;\n",
              "    }\n",
              "\n",
              "    .dataframe tbody tr th {\n",
              "        vertical-align: top;\n",
              "    }\n",
              "\n",
              "    .dataframe thead th {\n",
              "        text-align: right;\n",
              "    }\n",
              "</style>\n",
              "<table border=\"1\" class=\"dataframe\">\n",
              "  <thead>\n",
              "    <tr style=\"text-align: right;\">\n",
              "      <th></th>\n",
              "      <th>movieId</th>\n",
              "      <th>title</th>\n",
              "      <th>genres</th>\n",
              "    </tr>\n",
              "  </thead>\n",
              "  <tbody>\n",
              "    <tr>\n",
              "      <th>0</th>\n",
              "      <td>1</td>\n",
              "      <td>Toy Story (1995)</td>\n",
              "      <td>Adventure|Animation|Children|Comedy|Fantasy</td>\n",
              "    </tr>\n",
              "    <tr>\n",
              "      <th>1</th>\n",
              "      <td>2</td>\n",
              "      <td>Jumanji (1995)</td>\n",
              "      <td>Adventure|Children|Fantasy</td>\n",
              "    </tr>\n",
              "    <tr>\n",
              "      <th>2</th>\n",
              "      <td>3</td>\n",
              "      <td>Grumpier Old Men (1995)</td>\n",
              "      <td>Comedy|Romance</td>\n",
              "    </tr>\n",
              "    <tr>\n",
              "      <th>3</th>\n",
              "      <td>4</td>\n",
              "      <td>Waiting to Exhale (1995)</td>\n",
              "      <td>Comedy|Drama|Romance</td>\n",
              "    </tr>\n",
              "    <tr>\n",
              "      <th>4</th>\n",
              "      <td>5</td>\n",
              "      <td>Father of the Bride Part II (1995)</td>\n",
              "      <td>Comedy</td>\n",
              "    </tr>\n",
              "  </tbody>\n",
              "</table>\n",
              "</div>"
            ],
            "text/plain": [
              "   movieId  ...                                       genres\n",
              "0        1  ...  Adventure|Animation|Children|Comedy|Fantasy\n",
              "1        2  ...                   Adventure|Children|Fantasy\n",
              "2        3  ...                               Comedy|Romance\n",
              "3        4  ...                         Comedy|Drama|Romance\n",
              "4        5  ...                                       Comedy\n",
              "\n",
              "[5 rows x 3 columns]"
            ]
          },
          "metadata": {
            "tags": []
          },
          "execution_count": 6
        }
      ]
    },
    {
      "cell_type": "code",
      "metadata": {
        "colab": {
          "base_uri": "https://localhost:8080/",
          "height": 204
        },
        "id": "EZxa0j0W8gt-",
        "outputId": "854dc75a-9800-4ff5-a90b-a6fda4e57802"
      },
      "source": [
        "rating.head()"
      ],
      "execution_count": 7,
      "outputs": [
        {
          "output_type": "execute_result",
          "data": {
            "text/html": [
              "<div>\n",
              "<style scoped>\n",
              "    .dataframe tbody tr th:only-of-type {\n",
              "        vertical-align: middle;\n",
              "    }\n",
              "\n",
              "    .dataframe tbody tr th {\n",
              "        vertical-align: top;\n",
              "    }\n",
              "\n",
              "    .dataframe thead th {\n",
              "        text-align: right;\n",
              "    }\n",
              "</style>\n",
              "<table border=\"1\" class=\"dataframe\">\n",
              "  <thead>\n",
              "    <tr style=\"text-align: right;\">\n",
              "      <th></th>\n",
              "      <th>userId</th>\n",
              "      <th>movieId</th>\n",
              "      <th>rating</th>\n",
              "      <th>timestamp</th>\n",
              "    </tr>\n",
              "  </thead>\n",
              "  <tbody>\n",
              "    <tr>\n",
              "      <th>0</th>\n",
              "      <td>1</td>\n",
              "      <td>2</td>\n",
              "      <td>3.5</td>\n",
              "      <td>2005-04-02 23:53:47</td>\n",
              "    </tr>\n",
              "    <tr>\n",
              "      <th>1</th>\n",
              "      <td>1</td>\n",
              "      <td>29</td>\n",
              "      <td>3.5</td>\n",
              "      <td>2005-04-02 23:31:16</td>\n",
              "    </tr>\n",
              "    <tr>\n",
              "      <th>2</th>\n",
              "      <td>1</td>\n",
              "      <td>32</td>\n",
              "      <td>3.5</td>\n",
              "      <td>2005-04-02 23:33:39</td>\n",
              "    </tr>\n",
              "    <tr>\n",
              "      <th>3</th>\n",
              "      <td>1</td>\n",
              "      <td>47</td>\n",
              "      <td>3.5</td>\n",
              "      <td>2005-04-02 23:32:07</td>\n",
              "    </tr>\n",
              "    <tr>\n",
              "      <th>4</th>\n",
              "      <td>1</td>\n",
              "      <td>50</td>\n",
              "      <td>3.5</td>\n",
              "      <td>2005-04-02 23:29:40</td>\n",
              "    </tr>\n",
              "  </tbody>\n",
              "</table>\n",
              "</div>"
            ],
            "text/plain": [
              "   userId  movieId  rating            timestamp\n",
              "0       1        2     3.5  2005-04-02 23:53:47\n",
              "1       1       29     3.5  2005-04-02 23:31:16\n",
              "2       1       32     3.5  2005-04-02 23:33:39\n",
              "3       1       47     3.5  2005-04-02 23:32:07\n",
              "4       1       50     3.5  2005-04-02 23:29:40"
            ]
          },
          "metadata": {
            "tags": []
          },
          "execution_count": 7
        }
      ]
    },
    {
      "cell_type": "code",
      "metadata": {
        "id": "oDUy6TVy8lwQ"
      },
      "source": [
        "rating=rating.drop(['timestamp'],axis=1)"
      ],
      "execution_count": 8,
      "outputs": []
    },
    {
      "cell_type": "code",
      "metadata": {
        "colab": {
          "base_uri": "https://localhost:8080/"
        },
        "id": "esAfi1GB8tvl",
        "outputId": "d3eeafa3-75a9-423e-e09e-4b522f9e20b7"
      },
      "source": [
        "# user 별로 몇개의 애니메이션을 rating 했는지 확인\n",
        "n_rating=rating['userId'].value_counts()\n",
        "n_rating.describe()"
      ],
      "execution_count": 9,
      "outputs": [
        {
          "output_type": "execute_result",
          "data": {
            "text/plain": [
              "count    138493.000000\n",
              "mean        144.413530\n",
              "std         230.267257\n",
              "min          20.000000\n",
              "25%          35.000000\n",
              "50%          68.000000\n",
              "75%         155.000000\n",
              "max        9254.000000\n",
              "Name: userId, dtype: float64"
            ]
          },
          "metadata": {
            "tags": []
          },
          "execution_count": 9
        }
      ]
    },
    {
      "cell_type": "code",
      "metadata": {
        "colab": {
          "base_uri": "https://localhost:8080/"
        },
        "id": "hNVgN10B9B0k",
        "outputId": "a83defe1-058b-4463-89f8-7add09994d6a"
      },
      "source": [
        "# 200개 이상의 rate를 준 유저만 사용\n",
        "rating = rating[rating['userId'].isin(n_rating[n_rating >= 200].index)].copy()\n",
        "len(rating)"
      ],
      "execution_count": 10,
      "outputs": [
        {
          "output_type": "execute_result",
          "data": {
            "text/plain": [
              "12471876"
            ]
          },
          "metadata": {
            "tags": []
          },
          "execution_count": 10
        }
      ]
    },
    {
      "cell_type": "code",
      "metadata": {
        "colab": {
          "base_uri": "https://localhost:8080/",
          "height": 305
        },
        "id": "BuWC6mhn9c9Z",
        "outputId": "ff53c3a7-a97c-496b-8f50-ec45de883db5"
      },
      "source": [
        "plt.figure(figsize=(10, 4))\n",
        "graph = sns.countplot(x='rating', data=rating, color='mediumpurple')\n",
        "graph.set_title(\"Rating Count distribuition \", fontsize=20)\n",
        "graph.set_xlabel(\"Rating\", fontsize=15) \n",
        "graph.set_ylabel(\"Count\", fontsize=15)\n",
        "plt.show()"
      ],
      "execution_count": 11,
      "outputs": [
        {
          "output_type": "display_data",
          "data": {
            "image/png": "[encoded data removed]",
            "text/plain": [
              "<Figure size 720x288 with 1 Axes>"
            ]
          },
          "metadata": {
            "tags": [],
            "needs_background": "light"
          }
        }
      ]
    },
    {
      "cell_type": "code",
      "metadata": {
        "colab": {
          "base_uri": "https://localhost:8080/"
        },
        "id": "IrquqRsj-0o_",
        "outputId": "1feee2b1-8a48-4da5-ebb4-b287d455622b"
      },
      "source": [
        "# rating 0~1로 정규화(?) 해주기\n",
        "min_rating = min(rating['rating'])\n",
        "max_rating = max(rating['rating'])\n",
        "print(min_rating, max_rating)\n",
        "\n",
        "rating['rating'] = rating[\"rating\"].apply(lambda x: (x - min_rating) / (max_rating - min_rating)).values.astype(np.float64)\n",
        "\n",
        "AvgRating = np.mean(rating['rating'])\n",
        "print('Avg', AvgRating)"
      ],
      "execution_count": 12,
      "outputs": [
        {
          "output_type": "stream",
          "text": [
            "0.5 5.0\n",
            "Avg 0.6537791731343117\n"
          ],
          "name": "stdout"
        }
      ]
    },
    {
      "cell_type": "code",
      "metadata": {
        "colab": {
          "base_uri": "https://localhost:8080/"
        },
        "id": "YSOHMjHJ_IyX",
        "outputId": "db64d021-1a04-4d44-d044-d215de8aaba4"
      },
      "source": [
        "# 중복행이 있는지 확인하고 제거\n",
        "duplicates = rating.duplicated()\n",
        "\n",
        "if duplicates.sum() > 0:\n",
        "    print('> {} duplicates'.format(duplicates.sum()))\n",
        "    rating = rating[~duplicates]\n",
        "\n",
        "print('> {} duplicates'.format(rating.duplicated().sum()))"
      ],
      "execution_count": 13,
      "outputs": [
        {
          "output_type": "stream",
          "text": [
            "> 0 duplicates\n"
          ],
          "name": "stdout"
        }
      ]
    },
    {
      "cell_type": "code",
      "metadata": {
        "id": "HN7HKIs5gErG"
      },
      "source": [
        "#연도 지우기\n",
        "movie['title']=movie['title'].str[:-7]"
      ],
      "execution_count": 29,
      "outputs": []
    },
    {
      "cell_type": "markdown",
      "metadata": {
        "id": "smO7yKZq_Xa0"
      },
      "source": [
        "### user와 movie 0부터 매핑해주기"
      ]
    },
    {
      "cell_type": "code",
      "metadata": {
        "id": "7Nqe_5yt_Py2"
      },
      "source": [
        "# Encoding categorical data\n",
        "user_ids = rating[\"userId\"].unique().tolist() \n",
        "user2user_encoded = {x: i for i, x in enumerate(user_ids)} # {2:0, 6:1, 12:2, 16:3, ...}\n",
        "user_encoded2user = {i: x for i, x in enumerate(user_ids)} # {0:2, 1:6, 2:12, 3:16, ...}\n",
        "\n",
        "rating[\"user\"] = rating[\"userId\"].map(user2user_encoded) #user를 0부터 새로운 인덱스로 mapping\n",
        "n_users = len(user2user_encoded)"
      ],
      "execution_count": 14,
      "outputs": []
    },
    {
      "cell_type": "code",
      "metadata": {
        "colab": {
          "base_uri": "https://localhost:8080/"
        },
        "id": "Y2ztOLnW_p1x",
        "outputId": "132fbe42-d83e-4d53-81fa-d624a13e0475"
      },
      "source": [
        "movie_ids = rating[\"movieId\"].unique().tolist()\n",
        "movie2movie_encoded = {x: i for i, x in enumerate(movie_ids)} # {24833:0, 235:1, 36721:2, 40956:3, ...}\n",
        "movie_encoded2movie = {i: x for i, x in enumerate(movie_ids)}\n",
        "rating[\"movie\"] = rating[\"movieId\"].map(movie2movie_encoded)\n",
        "n_movies = len(movie2movie_encoded)\n",
        "\n",
        "print(\"Num of users: {}, Num of animes: {}\".format(n_users, n_movies))\n",
        "print(\"Min rating: {}, Max rating: {}\".format(min(rating['rating']), max(rating['rating'])))"
      ],
      "execution_count": 15,
      "outputs": [
        {
          "output_type": "stream",
          "text": [
            "Num of users: 26826, Num of animes: 26539\n",
            "Min rating: 0.0, Max rating: 1.0\n"
          ],
          "name": "stdout"
        }
      ]
    },
    {
      "cell_type": "code",
      "metadata": {
        "colab": {
          "base_uri": "https://localhost:8080/",
          "height": 204
        },
        "id": "QiM4QEw3_9yc",
        "outputId": "22ee4c9b-8637-47c8-fb08-5f9e7493e532"
      },
      "source": [
        "rating.head()"
      ],
      "execution_count": 16,
      "outputs": [
        {
          "output_type": "execute_result",
          "data": {
            "text/html": [
              "<div>\n",
              "<style scoped>\n",
              "    .dataframe tbody tr th:only-of-type {\n",
              "        vertical-align: middle;\n",
              "    }\n",
              "\n",
              "    .dataframe tbody tr th {\n",
              "        vertical-align: top;\n",
              "    }\n",
              "\n",
              "    .dataframe thead th {\n",
              "        text-align: right;\n",
              "    }\n",
              "</style>\n",
              "<table border=\"1\" class=\"dataframe\">\n",
              "  <thead>\n",
              "    <tr style=\"text-align: right;\">\n",
              "      <th></th>\n",
              "      <th>userId</th>\n",
              "      <th>movieId</th>\n",
              "      <th>rating</th>\n",
              "      <th>user</th>\n",
              "      <th>movie</th>\n",
              "    </tr>\n",
              "  </thead>\n",
              "  <tbody>\n",
              "    <tr>\n",
              "      <th>541</th>\n",
              "      <td>7</td>\n",
              "      <td>3</td>\n",
              "      <td>0.555556</td>\n",
              "      <td>0</td>\n",
              "      <td>0</td>\n",
              "    </tr>\n",
              "    <tr>\n",
              "      <th>542</th>\n",
              "      <td>7</td>\n",
              "      <td>7</td>\n",
              "      <td>0.555556</td>\n",
              "      <td>0</td>\n",
              "      <td>1</td>\n",
              "    </tr>\n",
              "    <tr>\n",
              "      <th>543</th>\n",
              "      <td>7</td>\n",
              "      <td>11</td>\n",
              "      <td>0.777778</td>\n",
              "      <td>0</td>\n",
              "      <td>2</td>\n",
              "    </tr>\n",
              "    <tr>\n",
              "      <th>544</th>\n",
              "      <td>7</td>\n",
              "      <td>15</td>\n",
              "      <td>0.333333</td>\n",
              "      <td>0</td>\n",
              "      <td>3</td>\n",
              "    </tr>\n",
              "    <tr>\n",
              "      <th>545</th>\n",
              "      <td>7</td>\n",
              "      <td>16</td>\n",
              "      <td>0.555556</td>\n",
              "      <td>0</td>\n",
              "      <td>4</td>\n",
              "    </tr>\n",
              "  </tbody>\n",
              "</table>\n",
              "</div>"
            ],
            "text/plain": [
              "     userId  movieId    rating  user  movie\n",
              "541       7        3  0.555556     0      0\n",
              "542       7        7  0.555556     0      1\n",
              "543       7       11  0.777778     0      2\n",
              "544       7       15  0.333333     0      3\n",
              "545       7       16  0.555556     0      4"
            ]
          },
          "metadata": {
            "tags": []
          },
          "execution_count": 16
        }
      ]
    },
    {
      "cell_type": "markdown",
      "metadata": {
        "id": "g-FZ8EZuAE0j"
      },
      "source": [
        "### 200개 이상의 영화를 rating 한 유저들만 추출한 후, 각 유저 별, 애니메이션을 0부터 매핑완료(바꾼 것이 아님 !!)\n",
        "- user 수 : 26826 (0~26825)\n",
        "- movie 수 : 26539 (0~26538)"
      ]
    },
    {
      "cell_type": "markdown",
      "metadata": {
        "id": "djhevFq_AaNG"
      },
      "source": [
        "### 모델링"
      ]
    },
    {
      "cell_type": "code",
      "metadata": {
        "id": "zE79SmI7AcND"
      },
      "source": [
        "# Shuffle\n",
        "rating = rating.sample(frac=1, random_state=73)\n",
        "\n",
        "X = rating[['user', 'movie']].values\n",
        "y = rating[\"rating\"]"
      ],
      "execution_count": 17,
      "outputs": []
    },
    {
      "cell_type": "code",
      "metadata": {
        "colab": {
          "base_uri": "https://localhost:8080/"
        },
        "id": "oO896nJAAtCI",
        "outputId": "67c4d25d-342c-4243-98b3-78c6be8e5fc7"
      },
      "source": [
        "# Split\n",
        "test_set_size = 10000 #10k for test set\n",
        "train_indices = rating.shape[0] - test_set_size #71418113-10000\n",
        "\n",
        "X_train, X_test, y_train, y_test = (\n",
        "    X[:train_indices],\n",
        "    X[train_indices:],\n",
        "    y[:train_indices],\n",
        "    y[train_indices:],\n",
        ")\n",
        "\n",
        "print('> Train set ratings: {}'.format(len(y_train)))\n",
        "print('> Test set ratings: {}'.format(len(y_test)))"
      ],
      "execution_count": 18,
      "outputs": [
        {
          "output_type": "stream",
          "text": [
            "> Train set ratings: 12461876\n",
            "> Test set ratings: 10000\n"
          ],
          "name": "stdout"
        }
      ]
    },
    {
      "cell_type": "code",
      "metadata": {
        "id": "B2-0BAxJAwV4"
      },
      "source": [
        "X_train_array = [X_train[:, 0], X_train[:, 1]]\n",
        "X_test_array = [X_test[:, 0], X_test[:, 1]]"
      ],
      "execution_count": 19,
      "outputs": []
    },
    {
      "cell_type": "code",
      "metadata": {
        "colab": {
          "base_uri": "https://localhost:8080/"
        },
        "id": "0EvZJEohA_Qf",
        "outputId": "e7272c1a-e4b8-4381-9214-ea7500a06e5d"
      },
      "source": [
        "X_train_array\n",
        "#유저 index\n",
        "#애니메이션 index"
      ],
      "execution_count": 20,
      "outputs": [
        {
          "output_type": "execute_result",
          "data": {
            "text/plain": [
              "[array([25961,  9313,  6932, ..., 11645,  6334, 23074]),\n",
              " array([2113,  480, 4900, ...,   10, 6064, 2587])]"
            ]
          },
          "metadata": {
            "tags": []
          },
          "execution_count": 20
        }
      ]
    },
    {
      "cell_type": "code",
      "metadata": {
        "id": "VRkSTY2qBFik"
      },
      "source": [
        "import keras\n",
        "from keras import layers \n",
        "import tensorflow as tf\n",
        "from keras.models import Model\n",
        "from keras.optimizers import Adam"
      ],
      "execution_count": 21,
      "outputs": []
    },
    {
      "cell_type": "markdown",
      "metadata": {
        "id": "IaRvyIxuBHWz"
      },
      "source": [
        "- embedding\n",
        "\n",
        "  - input_dim: Integer. Size of the vocabulary, i.e. maximum integer index + 1.\n",
        "  - output_dim: Integer. Dimension of the dense embedding.\n",
        "  - Input shape : 2D tensor with shape: (batch_size, input_length).\n",
        "  - Output shape : 3D tensor with shape: (batch_size, input_length, output_dim).\n",
        "\n",
        "- input shape\n",
        "\n",
        "  여기서 shape = (1,) 엄밀히 말하면 vector가 한개라는 뜻이됩니다. 데이터 shape이 (5,1)일 경우 5행1열을 가진 데이터라는 뜻이 되는데요. 여기서 행은 무시하고 열!만 shape으로 입력을 해주는 것 입니다. 데이터는 계속 추가 될 수 있으므로 열(feature)만 중요"
      ]
    },
    {
      "cell_type": "code",
      "metadata": {
        "id": "sQZQFJpIBSMK"
      },
      "source": [
        "# Embedding layers\n",
        "from keras.layers import Add, Activation, Lambda, BatchNormalization, Concatenate, Dropout, Input, Embedding, Dot, Reshape, Dense, Flatten\n",
        "\n",
        "def RecommenderNet():\n",
        "    embedding_size = 64\n",
        "    \n",
        "    #user\n",
        "    user = Input(name = 'user', shape = [1]) # [1]=1=(1,)\n",
        "    user_embedding = Embedding(name = 'user_embedding',\n",
        "                       input_dim = n_users,\n",
        "                       output_dim = embedding_size)(user)\n",
        "    user_flat =Flatten(name='FlattenUsers')(user_embedding)\n",
        "                       \n",
        "    #animation\n",
        "    movie = Input(name = 'movie', shape = [1])\n",
        "    movie_embedding = Embedding(name = 'movie_embedding',\n",
        "                       input_dim = n_movies, \n",
        "                       output_dim = embedding_size)(movie)\n",
        "    movie_flat =Flatten(name='FlattenMovie')(movie_embedding)\n",
        "    \n",
        "    #x = Concatenate()([user_embedding, anime_embedding])\n",
        "    x = Dot(name = 'dot_product', normalize = True, axes = 1)([user_flat, movie_flat])\n",
        "    #x = Flatten()(x)\n",
        "        \n",
        "    x = Dense(1, kernel_initializer='he_normal')(x)\n",
        "    x = BatchNormalization()(x)\n",
        "    x = Activation(\"sigmoid\")(x)\n",
        "    \n",
        "    model = Model(inputs=[user, movie], outputs=x)\n",
        "    model.compile(loss='binary_crossentropy', metrics=[\"mae\", \"mse\"], optimizer='Adam')\n",
        "    \n",
        "    return model"
      ],
      "execution_count": 22,
      "outputs": []
    },
    {
      "cell_type": "code",
      "metadata": {
        "colab": {
          "base_uri": "https://localhost:8080/"
        },
        "id": "VC21VhtCBn6x",
        "outputId": "76872585-57fa-401c-8c4f-f0f4c8ad34a2"
      },
      "source": [
        "model = RecommenderNet()\n",
        "model.summary()"
      ],
      "execution_count": 23,
      "outputs": [
        {
          "output_type": "stream",
          "text": [
            "Model: \"model\"\n",
            "__________________________________________________________________________________________________\n",
            "Layer (type)                    Output Shape         Param #     Connected to                     \n",
            "==================================================================================================\n",
            "user (InputLayer)               [(None, 1)]          0                                            \n",
            "__________________________________________________________________________________________________\n",
            "movie (InputLayer)              [(None, 1)]          0                                            \n",
            "__________________________________________________________________________________________________\n",
            "user_embedding (Embedding)      (None, 1, 64)        1716864     user[0][0]                       \n",
            "__________________________________________________________________________________________________\n",
            "movie_embedding (Embedding)     (None, 1, 64)        1698496     movie[0][0]                      \n",
            "__________________________________________________________________________________________________\n",
            "FlattenUsers (Flatten)          (None, 64)           0           user_embedding[0][0]             \n",
            "__________________________________________________________________________________________________\n",
            "FlattenMovie (Flatten)          (None, 64)           0           movie_embedding[0][0]            \n",
            "__________________________________________________________________________________________________\n",
            "dot_product (Dot)               (None, 1)            0           FlattenUsers[0][0]               \n",
            "                                                                 FlattenMovie[0][0]               \n",
            "__________________________________________________________________________________________________\n",
            "dense (Dense)                   (None, 1)            2           dot_product[0][0]                \n",
            "__________________________________________________________________________________________________\n",
            "batch_normalization (BatchNorma (None, 1)            4           dense[0][0]                      \n",
            "__________________________________________________________________________________________________\n",
            "activation (Activation)         (None, 1)            0           batch_normalization[0][0]        \n",
            "==================================================================================================\n",
            "Total params: 3,415,366\n",
            "Trainable params: 3,415,364\n",
            "Non-trainable params: 2\n",
            "__________________________________________________________________________________________________\n"
          ],
          "name": "stdout"
        }
      ]
    },
    {
      "cell_type": "code",
      "metadata": {
        "colab": {
          "base_uri": "https://localhost:8080/",
          "height": 754
        },
        "id": "sFIU2n5iJm5t",
        "outputId": "a12c3407-d9b4-4b3d-a2d8-66adef3ad32c"
      },
      "source": [
        "import tensorflow as tf\n",
        "from tensorflow.keras.utils import plot_model\n",
        "\n",
        "plot_model(model, to_file='./dot.png',show_shapes=True, show_layer_names=True)"
      ],
      "execution_count": 24,
      "outputs": [
        {
          "output_type": "execute_result",
          "data": {
            "image/png": "[encoded data removed]",
            "text/plain": [
              "<IPython.core.display.Image object>"
            ]
          },
          "metadata": {
            "tags": []
          },
          "execution_count": 24
        }
      ]
    },
    {
      "cell_type": "code",
      "metadata": {
        "id": "u2q87_C0BwD1"
      },
      "source": [
        "# Callbacks\n",
        "from tensorflow.keras.callbacks import Callback, ModelCheckpoint, LearningRateScheduler, EarlyStopping\n",
        "\n",
        "# overfitting을 방지하기 위해서 학습 중 early stop을 수행하기 위한 코드입니다.\n",
        "early_stop = EarlyStopping(patience = 3, monitor='val_loss',mode='min', restore_best_weights=True)\n",
        "\n",
        "checkpoint_filepath = './weights.h5'\n",
        "# Validation Set을 기준으로 가장 최적의 모델을 찾기 위한 코드입니다.\n",
        "save_best = ModelCheckpoint(filepath=checkpoint_filepath,\n",
        "                                        save_weights_only=True,\n",
        "                                        monitor='val_loss',\n",
        "                                        mode='min',\n",
        "                                        save_best_only=True)\n",
        "\n",
        "my_callbacks = [\n",
        "    save_best,\n",
        "    early_stop   \n",
        "]"
      ],
      "execution_count": 25,
      "outputs": []
    },
    {
      "cell_type": "code",
      "metadata": {
        "colab": {
          "base_uri": "https://localhost:8080/"
        },
        "id": "nPKrTwTDDBlv",
        "outputId": "54e71f7a-ce94-41d1-8bf4-153658b0793f"
      },
      "source": [
        "# Model training\n",
        "#con\n",
        "history = model.fit(\n",
        "    x=X_train_array,\n",
        "    y=y_train,\n",
        "    batch_size=10000,\n",
        "    epochs=20,\n",
        "    verbose=1,\n",
        "    validation_data=(X_test_array, y_test),\n",
        "    callbacks=my_callbacks\n",
        ")\n",
        "\n",
        "model.load_weights(checkpoint_filepath)"
      ],
      "execution_count": 26,
      "outputs": [
        {
          "output_type": "stream",
          "text": [
            "Epoch 1/20\n",
            "1247/1247 [==============================] - 48s 25ms/step - loss: 0.6879 - mae: 0.2146 - mse: 0.0728 - val_loss: 0.5973 - val_mae: 0.1377 - val_mse: 0.0318\n",
            "Epoch 2/20\n",
            "1247/1247 [==============================] - 30s 24ms/step - loss: 0.5888 - mae: 0.1305 - mse: 0.0287 - val_loss: 0.5913 - val_mae: 0.1315 - val_mse: 0.0294\n",
            "Epoch 3/20\n",
            "1247/1247 [==============================] - 31s 25ms/step - loss: 0.5805 - mae: 0.1224 - mse: 0.0253 - val_loss: 0.5903 - val_mae: 0.1311 - val_mse: 0.0290\n",
            "Epoch 4/20\n",
            "1247/1247 [==============================] - 30s 24ms/step - loss: 0.5763 - mae: 0.1182 - mse: 0.0236 - val_loss: 0.5896 - val_mae: 0.1307 - val_mse: 0.0287\n",
            "Epoch 5/20\n",
            "1247/1247 [==============================] - 30s 24ms/step - loss: 0.5736 - mae: 0.1155 - mse: 0.0226 - val_loss: 0.5892 - val_mae: 0.1304 - val_mse: 0.0286\n",
            "Epoch 6/20\n",
            "1247/1247 [==============================] - 30s 24ms/step - loss: 0.5720 - mae: 0.1137 - mse: 0.0219 - val_loss: 0.5890 - val_mae: 0.1297 - val_mse: 0.0285\n",
            "Epoch 7/20\n",
            "1247/1247 [==============================] - 30s 24ms/step - loss: 0.5707 - mae: 0.1125 - mse: 0.0214 - val_loss: 0.5889 - val_mae: 0.1299 - val_mse: 0.0285\n",
            "Epoch 8/20\n",
            "1247/1247 [==============================] - 31s 25ms/step - loss: 0.5697 - mae: 0.1115 - mse: 0.0210 - val_loss: 0.5890 - val_mae: 0.1300 - val_mse: 0.0285\n",
            "Epoch 9/20\n",
            "1247/1247 [==============================] - 30s 24ms/step - loss: 0.5691 - mae: 0.1107 - mse: 0.0207 - val_loss: 0.5894 - val_mae: 0.1301 - val_mse: 0.0287\n",
            "Epoch 10/20\n",
            "1247/1247 [==============================] - 31s 25ms/step - loss: 0.5683 - mae: 0.1100 - mse: 0.0205 - val_loss: 0.5893 - val_mae: 0.1301 - val_mse: 0.0287\n"
          ],
          "name": "stdout"
        }
      ]
    },
    {
      "cell_type": "code",
      "metadata": {
        "id": "6LiWkkR8eOYH"
      },
      "source": [
        "#get_weights() : 훈련 중 업데이트 되고 있는 가중치 값 확인 가능한 함수\n",
        "def extract_weights(name, model):\n",
        "    weight_layer = model.get_layer(name)\n",
        "    weights = weight_layer.get_weights()[0]\n",
        "    weights = weights / np.linalg.norm(weights, axis = 1).reshape((-1, 1))\n",
        "    return weights\n",
        "\n",
        "movie_weights = extract_weights('movie_embedding', model)\n",
        "user_weights = extract_weights('user_embedding', model)"
      ],
      "execution_count": 27,
      "outputs": []
    },
    {
      "cell_type": "markdown",
      "metadata": {
        "id": "wXWLProdeo8v"
      },
      "source": [
        "영화 이름 출력하는 함수 만들기"
      ]
    },
    {
      "cell_type": "code",
      "metadata": {
        "colab": {
          "base_uri": "https://localhost:8080/",
          "height": 419
        },
        "id": "1t6_HZqfesJe",
        "outputId": "c6b31a58-35df-4af2-f24d-f5a1e4b34e85"
      },
      "source": [
        "movie=pd.read_csv(\"/content/drive/MyDrive/dataset/movie_rating/movie.csv\")\n",
        "movie"
      ],
      "execution_count": 28,
      "outputs": [
        {
          "output_type": "execute_result",
          "data": {
            "text/html": [
              "<div>\n",
              "<style scoped>\n",
              "    .dataframe tbody tr th:only-of-type {\n",
              "        vertical-align: middle;\n",
              "    }\n",
              "\n",
              "    .dataframe tbody tr th {\n",
              "        vertical-align: top;\n",
              "    }\n",
              "\n",
              "    .dataframe thead th {\n",
              "        text-align: right;\n",
              "    }\n",
              "</style>\n",
              "<table border=\"1\" class=\"dataframe\">\n",
              "  <thead>\n",
              "    <tr style=\"text-align: right;\">\n",
              "      <th></th>\n",
              "      <th>movieId</th>\n",
              "      <th>title</th>\n",
              "      <th>genres</th>\n",
              "    </tr>\n",
              "  </thead>\n",
              "  <tbody>\n",
              "    <tr>\n",
              "      <th>0</th>\n",
              "      <td>1</td>\n",
              "      <td>Toy Story (1995)</td>\n",
              "      <td>Adventure|Animation|Children|Comedy|Fantasy</td>\n",
              "    </tr>\n",
              "    <tr>\n",
              "      <th>1</th>\n",
              "      <td>2</td>\n",
              "      <td>Jumanji (1995)</td>\n",
              "      <td>Adventure|Children|Fantasy</td>\n",
              "    </tr>\n",
              "    <tr>\n",
              "      <th>2</th>\n",
              "      <td>3</td>\n",
              "      <td>Grumpier Old Men (1995)</td>\n",
              "      <td>Comedy|Romance</td>\n",
              "    </tr>\n",
              "    <tr>\n",
              "      <th>3</th>\n",
              "      <td>4</td>\n",
              "      <td>Waiting to Exhale (1995)</td>\n",
              "      <td>Comedy|Drama|Romance</td>\n",
              "    </tr>\n",
              "    <tr>\n",
              "      <th>4</th>\n",
              "      <td>5</td>\n",
              "      <td>Father of the Bride Part II (1995)</td>\n",
              "      <td>Comedy</td>\n",
              "    </tr>\n",
              "    <tr>\n",
              "      <th>...</th>\n",
              "      <td>...</td>\n",
              "      <td>...</td>\n",
              "      <td>...</td>\n",
              "    </tr>\n",
              "    <tr>\n",
              "      <th>27273</th>\n",
              "      <td>131254</td>\n",
              "      <td>Kein Bund für's Leben (2007)</td>\n",
              "      <td>Comedy</td>\n",
              "    </tr>\n",
              "    <tr>\n",
              "      <th>27274</th>\n",
              "      <td>131256</td>\n",
              "      <td>Feuer, Eis &amp; Dosenbier (2002)</td>\n",
              "      <td>Comedy</td>\n",
              "    </tr>\n",
              "    <tr>\n",
              "      <th>27275</th>\n",
              "      <td>131258</td>\n",
              "      <td>The Pirates (2014)</td>\n",
              "      <td>Adventure</td>\n",
              "    </tr>\n",
              "    <tr>\n",
              "      <th>27276</th>\n",
              "      <td>131260</td>\n",
              "      <td>Rentun Ruusu (2001)</td>\n",
              "      <td>(no genres listed)</td>\n",
              "    </tr>\n",
              "    <tr>\n",
              "      <th>27277</th>\n",
              "      <td>131262</td>\n",
              "      <td>Innocence (2014)</td>\n",
              "      <td>Adventure|Fantasy|Horror</td>\n",
              "    </tr>\n",
              "  </tbody>\n",
              "</table>\n",
              "<p>27278 rows × 3 columns</p>\n",
              "</div>"
            ],
            "text/plain": [
              "       movieId  ...                                       genres\n",
              "0            1  ...  Adventure|Animation|Children|Comedy|Fantasy\n",
              "1            2  ...                   Adventure|Children|Fantasy\n",
              "2            3  ...                               Comedy|Romance\n",
              "3            4  ...                         Comedy|Drama|Romance\n",
              "4            5  ...                                       Comedy\n",
              "...        ...  ...                                          ...\n",
              "27273   131254  ...                                       Comedy\n",
              "27274   131256  ...                                       Comedy\n",
              "27275   131258  ...                                    Adventure\n",
              "27276   131260  ...                           (no genres listed)\n",
              "27277   131262  ...                     Adventure|Fantasy|Horror\n",
              "\n",
              "[27278 rows x 3 columns]"
            ]
          },
          "metadata": {
            "tags": []
          },
          "execution_count": 28
        }
      ]
    },
    {
      "cell_type": "code",
      "metadata": {
        "id": "lx9E5af5hBHy"
      },
      "source": [
        "# Fixing Names\n",
        "def getMovieName(id_or_name):\n",
        "    try: #eng_version 또는 Name의 값으로 return\n",
        "        name = movie[movie.movieId == id_or_name].movieId.values[0]\n",
        "        if name is np.nan:\n",
        "            name = movie[movie.title == id_or_name].title.values[0]\n",
        "    except:\n",
        "        print('error')\n",
        "    \n",
        "    return name"
      ],
      "execution_count": 32,
      "outputs": []
    },
    {
      "cell_type": "code",
      "metadata": {
        "id": "mPyRKOKVh4j3"
      },
      "source": [
        "def getMovieFrame(id_or_name):\n",
        "    if isinstance(id_or_name, int):\n",
        "        return movie[movie.movieId == id_or_name]\n",
        "    if isinstance(id_or_name, str):\n",
        "        return movie[movie.title == id_or_name]"
      ],
      "execution_count": 33,
      "outputs": []
    },
    {
      "cell_type": "code",
      "metadata": {
        "id": "O7V_QGpsk2oj"
      },
      "source": [
        "def find_similar_movies(name, n=10, return_dist=False, neg=False):\n",
        "    try:\n",
        "        index = getMovieFrame(name).movieId.values[0]\n",
        "        encoded_index = movie2movie_encoded.get(index)\n",
        "        weights = movie_weights #anime_weights=extract_weights('anime_embedding', model)\n",
        "      \n",
        "        dists = np.dot(weights, weights[encoded_index]) #모든 애니메이션의 임베팅 벡터와 구하고자 하는 애니메이션의 임베팅 벡터와 내적연산하여 유사성을 계산\n",
        "        sorted_dists = np.argsort(dists) #연관도 순서별로 인덱스를 저장\n",
        "        #[0.3 0.7 0.02] => [2 0 1]\n",
        "       \n",
        "\n",
        "        #자기 자신과는 1이 유사도로 나오므로 +1 해줘야 원하는 개수를 구할 수 있음\n",
        "        n = n + 1            \n",
        "        \n",
        "        if neg:\n",
        "            closest = sorted_dists[:n]\n",
        "        else:\n",
        "            closest = sorted_dists[-n:]\n",
        "\n",
        "        print('animes closest to {}'.format(name))\n",
        "\n",
        "        if return_dist:\n",
        "            return dists, closest\n",
        "        \n",
        "        rindex = movie\n",
        "        \n",
        "        #print(closest)\n",
        "        SimilarityArr = []\n",
        "\n",
        "        #유사하게 나온 영화들의 정보 출력\n",
        "        for close in closest:\n",
        "            decoded_id = movie_encoded2movie.get(close)\n",
        "            #sypnopsis = getSypnopsis(decoded_id)\n",
        "            movie_frame = getMovieFrame(decoded_id)\n",
        "            \n",
        "            movie_name = movie_frame.title.values[0]\n",
        "            genre = movie_frame.genres.values[0]\n",
        "            similarity = dists[close]\n",
        "            SimilarityArr.append({\"anime_id\": decoded_id, \"name\": movie_name,\n",
        "                                  \"similarity\": similarity,\"genre\": genre\n",
        "                                  })\n",
        "        #print(len(SimilarityArr))\n",
        "        Frame = pd.DataFrame(SimilarityArr).sort_values(by=\"similarity\", ascending=False)\n",
        "        return Frame[1:n] #자기 자신을 제외하고 return \n",
        "        #return Frame[Frame.anime_id != index].drop(['anime_id'], axis=1)\n",
        "\n",
        "    except:\n",
        "        print('{}!, Not Found in Anime list'.format(name))"
      ],
      "execution_count": 36,
      "outputs": []
    },
    {
      "cell_type": "code",
      "metadata": {
        "colab": {
          "base_uri": "https://localhost:8080/",
          "height": 204
        },
        "id": "5bDr08mqlhGt",
        "outputId": "762caadd-4273-4376-b480-e006dc839dcb"
      },
      "source": [
        "movie[movie['title'].str.contains('stella')]"
      ],
      "execution_count": 99,
      "outputs": [
        {
          "output_type": "execute_result",
          "data": {
            "text/html": [
              "<div>\n",
              "<style scoped>\n",
              "    .dataframe tbody tr th:only-of-type {\n",
              "        vertical-align: middle;\n",
              "    }\n",
              "\n",
              "    .dataframe tbody tr th {\n",
              "        vertical-align: top;\n",
              "    }\n",
              "\n",
              "    .dataframe thead th {\n",
              "        text-align: right;\n",
              "    }\n",
              "</style>\n",
              "<table border=\"1\" class=\"dataframe\">\n",
              "  <thead>\n",
              "    <tr style=\"text-align: right;\">\n",
              "      <th></th>\n",
              "      <th>movieId</th>\n",
              "      <th>title</th>\n",
              "      <th>genres</th>\n",
              "    </tr>\n",
              "  </thead>\n",
              "  <tbody>\n",
              "    <tr>\n",
              "      <th>9494</th>\n",
              "      <td>27800</td>\n",
              "      <td>Interstella 5555: The 5tory of the 5ecret 5tar...</td>\n",
              "      <td>Adventure|Animation|Fantasy|Musical|Sci-Fi</td>\n",
              "    </tr>\n",
              "    <tr>\n",
              "      <th>15440</th>\n",
              "      <td>78684</td>\n",
              "      <td>Acla, The Descent into Floristella (La discesa...</td>\n",
              "      <td>Drama</td>\n",
              "    </tr>\n",
              "    <tr>\n",
              "      <th>17477</th>\n",
              "      <td>88055</td>\n",
              "      <td>Missing Star, The (La stella che non c'è)</td>\n",
              "      <td>Drama</td>\n",
              "    </tr>\n",
              "    <tr>\n",
              "      <th>18614</th>\n",
              "      <td>92670</td>\n",
              "      <td>Jodorowsky Constellation, The (La constellatio...</td>\n",
              "      <td>Documentary</td>\n",
              "    </tr>\n",
              "    <tr>\n",
              "      <th>22919</th>\n",
              "      <td>109487</td>\n",
              "      <td>Interstellar</td>\n",
              "      <td>Sci-Fi|IMAX</td>\n",
              "    </tr>\n",
              "  </tbody>\n",
              "</table>\n",
              "</div>"
            ],
            "text/plain": [
              "       movieId  ...                                      genres\n",
              "9494     27800  ...  Adventure|Animation|Fantasy|Musical|Sci-Fi\n",
              "15440    78684  ...                                       Drama\n",
              "17477    88055  ...                                       Drama\n",
              "18614    92670  ...                                 Documentary\n",
              "22919   109487  ...                                 Sci-Fi|IMAX\n",
              "\n",
              "[5 rows x 3 columns]"
            ]
          },
          "metadata": {
            "tags": []
          },
          "execution_count": 99
        }
      ]
    },
    {
      "cell_type": "code",
      "metadata": {
        "colab": {
          "base_uri": "https://localhost:8080/",
          "height": 222
        },
        "id": "E3DGpMSyHYkK",
        "outputId": "6d133096-054c-4eea-83f7-5e89c8401885"
      },
      "source": [
        "find_similar_movies('Interstellar'\t, n=5, neg=False)"
      ],
      "execution_count": 100,
      "outputs": [
        {
          "output_type": "stream",
          "text": [
            "animes closest to Interstellar\n"
          ],
          "name": "stdout"
        },
        {
          "output_type": "execute_result",
          "data": {
            "text/html": [
              "<div>\n",
              "<style scoped>\n",
              "    .dataframe tbody tr th:only-of-type {\n",
              "        vertical-align: middle;\n",
              "    }\n",
              "\n",
              "    .dataframe tbody tr th {\n",
              "        vertical-align: top;\n",
              "    }\n",
              "\n",
              "    .dataframe thead th {\n",
              "        text-align: right;\n",
              "    }\n",
              "</style>\n",
              "<table border=\"1\" class=\"dataframe\">\n",
              "  <thead>\n",
              "    <tr style=\"text-align: right;\">\n",
              "      <th></th>\n",
              "      <th>anime_id</th>\n",
              "      <th>name</th>\n",
              "      <th>similarity</th>\n",
              "      <th>genre</th>\n",
              "    </tr>\n",
              "  </thead>\n",
              "  <tbody>\n",
              "    <tr>\n",
              "      <th>4</th>\n",
              "      <td>79132</td>\n",
              "      <td>Inception</td>\n",
              "      <td>0.738510</td>\n",
              "      <td>Action|Crime|Drama|Mystery|Sci-Fi|Thriller|IMAX</td>\n",
              "    </tr>\n",
              "    <tr>\n",
              "      <th>3</th>\n",
              "      <td>104841</td>\n",
              "      <td>Gravity</td>\n",
              "      <td>0.667467</td>\n",
              "      <td>Action|Sci-Fi|IMAX</td>\n",
              "    </tr>\n",
              "    <tr>\n",
              "      <th>2</th>\n",
              "      <td>91529</td>\n",
              "      <td>Dark Knight Rises, The</td>\n",
              "      <td>0.616229</td>\n",
              "      <td>Action|Adventure|Crime|IMAX</td>\n",
              "    </tr>\n",
              "    <tr>\n",
              "      <th>1</th>\n",
              "      <td>106782</td>\n",
              "      <td>Wolf of Wall Street, The</td>\n",
              "      <td>0.591577</td>\n",
              "      <td>Comedy|Crime|Drama</td>\n",
              "    </tr>\n",
              "    <tr>\n",
              "      <th>0</th>\n",
              "      <td>74458</td>\n",
              "      <td>Shutter Island</td>\n",
              "      <td>0.588179</td>\n",
              "      <td>Drama|Mystery|Thriller</td>\n",
              "    </tr>\n",
              "  </tbody>\n",
              "</table>\n",
              "</div>"
            ],
            "text/plain": [
              "   anime_id  ...                                            genre\n",
              "4     79132  ...  Action|Crime|Drama|Mystery|Sci-Fi|Thriller|IMAX\n",
              "3    104841  ...                               Action|Sci-Fi|IMAX\n",
              "2     91529  ...                      Action|Adventure|Crime|IMAX\n",
              "1    106782  ...                               Comedy|Crime|Drama\n",
              "0     74458  ...                           Drama|Mystery|Thriller\n",
              "\n",
              "[5 rows x 4 columns]"
            ]
          },
          "metadata": {
            "tags": []
          },
          "execution_count": 100
        }
      ]
    },
    {
      "cell_type": "code",
      "metadata": {
        "colab": {
          "base_uri": "https://localhost:8080/",
          "height": 222
        },
        "id": "vb_O7dMmG1pm",
        "outputId": "a689f947-5d87-41a7-96a3-42d932432aa0"
      },
      "source": [
        "find_similar_movies('Howl\\'s Moving Castle (Hauru no ugoku shiro)'\t, n=5, neg=False)"
      ],
      "execution_count": 80,
      "outputs": [
        {
          "output_type": "stream",
          "text": [
            "animes closest to Howl's Moving Castle (Hauru no ugoku shiro)\n"
          ],
          "name": "stdout"
        },
        {
          "output_type": "execute_result",
          "data": {
            "text/html": [
              "<div>\n",
              "<style scoped>\n",
              "    .dataframe tbody tr th:only-of-type {\n",
              "        vertical-align: middle;\n",
              "    }\n",
              "\n",
              "    .dataframe tbody tr th {\n",
              "        vertical-align: top;\n",
              "    }\n",
              "\n",
              "    .dataframe thead th {\n",
              "        text-align: right;\n",
              "    }\n",
              "</style>\n",
              "<table border=\"1\" class=\"dataframe\">\n",
              "  <thead>\n",
              "    <tr style=\"text-align: right;\">\n",
              "      <th></th>\n",
              "      <th>anime_id</th>\n",
              "      <th>name</th>\n",
              "      <th>similarity</th>\n",
              "      <th>genre</th>\n",
              "    </tr>\n",
              "  </thead>\n",
              "  <tbody>\n",
              "    <tr>\n",
              "      <th>4</th>\n",
              "      <td>5618</td>\n",
              "      <td>Spirited Away (Sen to Chihiro no kamikakushi)</td>\n",
              "      <td>0.874810</td>\n",
              "      <td>Adventure|Animation|Fantasy</td>\n",
              "    </tr>\n",
              "    <tr>\n",
              "      <th>3</th>\n",
              "      <td>3000</td>\n",
              "      <td>Princess Mononoke (Mononoke-hime)</td>\n",
              "      <td>0.835721</td>\n",
              "      <td>Action|Adventure|Animation|Drama|Fantasy</td>\n",
              "    </tr>\n",
              "    <tr>\n",
              "      <th>2</th>\n",
              "      <td>7099</td>\n",
              "      <td>Nausicaä of the Valley of the Wind (Kaze no ta...</td>\n",
              "      <td>0.786321</td>\n",
              "      <td>Adventure|Animation|Drama|Fantasy|Sci-Fi</td>\n",
              "    </tr>\n",
              "    <tr>\n",
              "      <th>1</th>\n",
              "      <td>5971</td>\n",
              "      <td>My Neighbor Totoro (Tonari no Totoro)</td>\n",
              "      <td>0.771906</td>\n",
              "      <td>Animation|Children|Drama|Fantasy</td>\n",
              "    </tr>\n",
              "    <tr>\n",
              "      <th>0</th>\n",
              "      <td>6350</td>\n",
              "      <td>Laputa: Castle in the Sky (Tenkû no shiro Rapy...</td>\n",
              "      <td>0.751010</td>\n",
              "      <td>Action|Adventure|Animation|Children|Fantasy|Sc...</td>\n",
              "    </tr>\n",
              "  </tbody>\n",
              "</table>\n",
              "</div>"
            ],
            "text/plain": [
              "   anime_id  ...                                              genre\n",
              "4      5618  ...                        Adventure|Animation|Fantasy\n",
              "3      3000  ...           Action|Adventure|Animation|Drama|Fantasy\n",
              "2      7099  ...           Adventure|Animation|Drama|Fantasy|Sci-Fi\n",
              "1      5971  ...                   Animation|Children|Drama|Fantasy\n",
              "0      6350  ...  Action|Adventure|Animation|Children|Fantasy|Sc...\n",
              "\n",
              "[5 rows x 4 columns]"
            ]
          },
          "metadata": {
            "tags": []
          },
          "execution_count": 80
        }
      ]
    },
    {
      "cell_type": "markdown",
      "metadata": {
        "id": "YwbXwY0umqbq"
      },
      "source": [
        "### Task 2: Finding Similar Users (User Based Recommendation)"
      ]
    },
    {
      "cell_type": "code",
      "metadata": {
        "colab": {
          "base_uri": "https://localhost:8080/"
        },
        "id": "6aGJWCwMmrjv",
        "outputId": "a03b30a1-a3a8-4891-e246-628486b2348b"
      },
      "source": [
        "print('> picking up random user')\n",
        "#4 ,16,20\n",
        "random_user=rating.sample(1, random_state=20).userId.values[0]\n",
        "#ratings_per_user = rating.groupby('userId').size()\n",
        "#random_user = ratings_per_user[ratings_per_user < 500].sample(1, random_state=34).index[0]\n",
        "print('> user_id:', random_user)"
      ],
      "execution_count": 179,
      "outputs": [
        {
          "output_type": "stream",
          "text": [
            "> picking up random user\n",
            "> user_id: 63494\n"
          ],
          "name": "stdout"
        }
      ]
    },
    {
      "cell_type": "code",
      "metadata": {
        "id": "LINHcWt3mz6C"
      },
      "source": [
        "def find_similar_users(item_input, n=10,return_dist=False, neg=False):\n",
        "    try:\n",
        "        index = item_input\n",
        "        encoded_index = user2user_encoded.get(index)\n",
        "        weights = user_weights\n",
        "    \n",
        "        dists = np.dot(weights, weights[encoded_index])\n",
        "        sorted_dists = np.argsort(dists)\n",
        "        \n",
        "        n = n + 1\n",
        "        \n",
        "        if neg:\n",
        "            closest = sorted_dists[:n]\n",
        "        else:\n",
        "            closest = sorted_dists[-n:]\n",
        "\n",
        "        print('> users similar to #{}'.format(item_input))\n",
        "\n",
        "        if return_dist:\n",
        "            return dists, closest\n",
        "        \n",
        "        rindex = movie\n",
        "        SimilarityArr = []\n",
        "        \n",
        "        for close in closest:\n",
        "            similarity = dists[close]\n",
        "\n",
        "            if isinstance(item_input, int):\n",
        "                decoded_id = user_encoded2user.get(close)\n",
        "                SimilarityArr.append({\"similar_users\": decoded_id, \n",
        "                                      \"similarity\": similarity})\n",
        "\n",
        "        Frame = pd.DataFrame(SimilarityArr).sort_values(by=\"similarity\", \n",
        "                                                        ascending=False)\n",
        "        \n",
        "        return Frame\n",
        "    \n",
        "    except:\n",
        "        print('{}!, Not Found in User list'.format(name))"
      ],
      "execution_count": 111,
      "outputs": []
    },
    {
      "cell_type": "code",
      "metadata": {
        "colab": {
          "base_uri": "https://localhost:8080/",
          "height": 222
        },
        "id": "XIktd10un67B",
        "outputId": "76c84d86-c24c-4284-bf16-edd37c87a0b0"
      },
      "source": [
        "similar_users = find_similar_users(int(random_user), \n",
        "                                   n=5, \n",
        "                                   neg=False)\n",
        "\n",
        "similar_users = similar_users[similar_users.similarity > 0.4]\n",
        "similar_users = similar_users[similar_users.similar_users != random_user]\n",
        "similar_users"
      ],
      "execution_count": 180,
      "outputs": [
        {
          "output_type": "stream",
          "text": [
            "> users similar to #63494\n"
          ],
          "name": "stdout"
        },
        {
          "output_type": "execute_result",
          "data": {
            "text/html": [
              "<div>\n",
              "<style scoped>\n",
              "    .dataframe tbody tr th:only-of-type {\n",
              "        vertical-align: middle;\n",
              "    }\n",
              "\n",
              "    .dataframe tbody tr th {\n",
              "        vertical-align: top;\n",
              "    }\n",
              "\n",
              "    .dataframe thead th {\n",
              "        text-align: right;\n",
              "    }\n",
              "</style>\n",
              "<table border=\"1\" class=\"dataframe\">\n",
              "  <thead>\n",
              "    <tr style=\"text-align: right;\">\n",
              "      <th></th>\n",
              "      <th>similar_users</th>\n",
              "      <th>similarity</th>\n",
              "    </tr>\n",
              "  </thead>\n",
              "  <tbody>\n",
              "    <tr>\n",
              "      <th>4</th>\n",
              "      <td>33395</td>\n",
              "      <td>0.652453</td>\n",
              "    </tr>\n",
              "    <tr>\n",
              "      <th>3</th>\n",
              "      <td>13174</td>\n",
              "      <td>0.609574</td>\n",
              "    </tr>\n",
              "    <tr>\n",
              "      <th>2</th>\n",
              "      <td>103028</td>\n",
              "      <td>0.580283</td>\n",
              "    </tr>\n",
              "    <tr>\n",
              "      <th>1</th>\n",
              "      <td>32027</td>\n",
              "      <td>0.578836</td>\n",
              "    </tr>\n",
              "    <tr>\n",
              "      <th>0</th>\n",
              "      <td>8948</td>\n",
              "      <td>0.575101</td>\n",
              "    </tr>\n",
              "  </tbody>\n",
              "</table>\n",
              "</div>"
            ],
            "text/plain": [
              "   similar_users  similarity\n",
              "4          33395    0.652453\n",
              "3          13174    0.609574\n",
              "2         103028    0.580283\n",
              "1          32027    0.578836\n",
              "0           8948    0.575101"
            ]
          },
          "metadata": {
            "tags": []
          },
          "execution_count": 180
        }
      ]
    },
    {
      "cell_type": "markdown",
      "metadata": {
        "id": "VSmIsCYFwGh0"
      },
      "source": [
        "## 유저선호도"
      ]
    },
    {
      "cell_type": "code",
      "metadata": {
        "id": "XT9cJ_HQpa2w"
      },
      "source": [
        "from wordcloud import WordCloud\n",
        "from collections import defaultdict\n",
        "import matplotlib.pyplot as plt\n",
        "\n",
        "def showWordCloud(all_genres):\n",
        "    genres_cloud = WordCloud(width=400, height=200, \n",
        "                             background_color='white', \n",
        "                             colormap='gnuplot').generate_from_frequencies(all_genres)\n",
        "    \n",
        "    plt.figure(figsize=(8,6)) \n",
        "    plt.imshow(genres_cloud, interpolation='bilinear')\n",
        "    plt.axis('off')\n",
        "    plt.show()\n",
        "\n",
        "def getFavGenre(frame, plot=False):\n",
        "        frame.dropna(inplace=False)\n",
        "        all_genres = defaultdict(int)\n",
        "        \n",
        "        genres_list = []\n",
        "        for genres in frame['genres']:\n",
        "            if isinstance(genres, str):\n",
        "                for genre in genres.split('|'):\n",
        "                    genres_list.append(genre)\n",
        "                    all_genres[genre.strip()] += 1    \n",
        "        if plot:\n",
        "            showWordCloud(all_genres)\n",
        "        \n",
        "        return genres_list\n",
        "\n",
        "    \n",
        "def get_user_preferences(userId, plot=False, verbose=0):\n",
        "    movies_watched_by_user = rating[rating.userId==userId]\n",
        "\n",
        "    if verbose != 0:\n",
        "        print(\"> User #{} has rated {} movies (avg. rating = {:.1f})\".format(\n",
        "          userId, len(movies_watched_by_user),\n",
        "          movies_watched_by_user['rating'].mean(),\n",
        "        ))\n",
        "    \n",
        "        print('> preferred genres')\n",
        "\n",
        "    user_rating_percentile = np.percentile(movies_watched_by_user.rating, 75) #상위 75%의 ranking 저장\n",
        "    movies_watched_by_user = movies_watched_by_user[movies_watched_by_user.rating >= user_rating_percentile] # 그 이상의 rating 을 갖는 영화만 추출\n",
        "    top_movies_user = ( #상위 영화 index 저장\n",
        "        movies_watched_by_user.sort_values(by=\"rating\", ascending=False).head(20)\n",
        "        .movieId.values\n",
        "    )\n",
        "    \n",
        "    movie_df_rows = movie[movie[\"movieId\"].isin(top_movies_user)]\n",
        "    movie_df_rows = movie_df_rows[[\"title\", \"genres\"]]\n",
        "    \n",
        "    \n",
        "    \n",
        "    if plot:\n",
        "        getFavGenre(movie_df_rows, plot)\n",
        "        \n",
        "    return movie_df_rows"
      ],
      "execution_count": 113,
      "outputs": []
    },
    {
      "cell_type": "code",
      "metadata": {
        "colab": {
          "base_uri": "https://localhost:8080/",
          "height": 960
        },
        "id": "5fs0Ez2cqcDy",
        "outputId": "398c4010-1516-41b2-b435-120949494655"
      },
      "source": [
        "user_pref = get_user_preferences(random_user, plot=True, verbose=1)\n",
        "print('> movies highly rated by this user')\n",
        "\n",
        "test=pd.DataFrame(user_pref)\n",
        "test"
      ],
      "execution_count": 181,
      "outputs": [
        {
          "output_type": "stream",
          "text": [
            "> User #63494 has rated 594 movies (avg. rating = 0.5)\n",
            "> preferred genres\n"
          ],
          "name": "stdout"
        },
        {
          "output_type": "display_data",
          "data": {
            "image/png": "[encoded data removed]",
            "text/plain": [
              "<Figure size 576x432 with 1 Axes>"
            ]
          },
          "metadata": {
            "tags": [],
            "needs_background": "light"
          }
        },
        {
          "output_type": "stream",
          "text": [
            "> movies highly rated by this user\n"
          ],
          "name": "stdout"
        },
        {
          "output_type": "execute_result",
          "data": {
            "text/html": [
              "<div>\n",
              "<style scoped>\n",
              "    .dataframe tbody tr th:only-of-type {\n",
              "        vertical-align: middle;\n",
              "    }\n",
              "\n",
              "    .dataframe tbody tr th {\n",
              "        vertical-align: top;\n",
              "    }\n",
              "\n",
              "    .dataframe thead th {\n",
              "        text-align: right;\n",
              "    }\n",
              "</style>\n",
              "<table border=\"1\" class=\"dataframe\">\n",
              "  <thead>\n",
              "    <tr style=\"text-align: right;\">\n",
              "      <th></th>\n",
              "      <th>title</th>\n",
              "      <th>genres</th>\n",
              "    </tr>\n",
              "  </thead>\n",
              "  <tbody>\n",
              "    <tr>\n",
              "      <th>1068</th>\n",
              "      <td>Platoon</td>\n",
              "      <td>Drama|War</td>\n",
              "    </tr>\n",
              "    <tr>\n",
              "      <th>1304</th>\n",
              "      <td>Birds, The</td>\n",
              "      <td>Horror|Thriller</td>\n",
              "    </tr>\n",
              "    <tr>\n",
              "      <th>1684</th>\n",
              "      <td>Dark City</td>\n",
              "      <td>Adventure|Film-Noir|Sci-Fi|Thriller</td>\n",
              "    </tr>\n",
              "    <tr>\n",
              "      <th>2832</th>\n",
              "      <td>Ferris Bueller's Day Off</td>\n",
              "      <td>Comedy</td>\n",
              "    </tr>\n",
              "    <tr>\n",
              "      <th>2873</th>\n",
              "      <td>Fight Club</td>\n",
              "      <td>Action|Crime|Drama|Thriller</td>\n",
              "    </tr>\n",
              "    <tr>\n",
              "      <th>3933</th>\n",
              "      <td>O Brother, Where Art Thou?</td>\n",
              "      <td>Adventure|Comedy|Crime</td>\n",
              "    </tr>\n",
              "    <tr>\n",
              "      <th>4132</th>\n",
              "      <td>Memento</td>\n",
              "      <td>Mystery|Thriller</td>\n",
              "    </tr>\n",
              "    <tr>\n",
              "      <th>5917</th>\n",
              "      <td>City of God (Cidade de Deus)</td>\n",
              "      <td>Action|Adventure|Crime|Drama|Thriller</td>\n",
              "    </tr>\n",
              "    <tr>\n",
              "      <th>6392</th>\n",
              "      <td>28 Days Later</td>\n",
              "      <td>Action|Horror|Sci-Fi</td>\n",
              "    </tr>\n",
              "    <tr>\n",
              "      <th>8227</th>\n",
              "      <td>I Heart Huckabees</td>\n",
              "      <td>Comedy</td>\n",
              "    </tr>\n",
              "    <tr>\n",
              "      <th>10952</th>\n",
              "      <td>Slither</td>\n",
              "      <td>Comedy|Horror|Sci-Fi</td>\n",
              "    </tr>\n",
              "    <tr>\n",
              "      <th>11362</th>\n",
              "      <td>Departed, The</td>\n",
              "      <td>Crime|Drama|Thriller</td>\n",
              "    </tr>\n",
              "    <tr>\n",
              "      <th>11424</th>\n",
              "      <td>Perfume: The Story of a Murderer</td>\n",
              "      <td>Crime|Drama|Thriller</td>\n",
              "    </tr>\n",
              "    <tr>\n",
              "      <th>12253</th>\n",
              "      <td>Mist, The</td>\n",
              "      <td>Horror|Sci-Fi</td>\n",
              "    </tr>\n",
              "    <tr>\n",
              "      <th>12525</th>\n",
              "      <td>Dark Knight, The</td>\n",
              "      <td>Action|Crime|Drama|IMAX</td>\n",
              "    </tr>\n",
              "    <tr>\n",
              "      <th>12856</th>\n",
              "      <td>Watchmen</td>\n",
              "      <td>Action|Drama|Mystery|Sci-Fi|Thriller|IMAX</td>\n",
              "    </tr>\n",
              "    <tr>\n",
              "      <th>13245</th>\n",
              "      <td>Wrestler, The</td>\n",
              "      <td>Drama</td>\n",
              "    </tr>\n",
              "    <tr>\n",
              "      <th>13522</th>\n",
              "      <td>Dr. Horrible's Sing-Along Blog</td>\n",
              "      <td>Comedy|Drama|Musical|Sci-Fi</td>\n",
              "    </tr>\n",
              "    <tr>\n",
              "      <th>15534</th>\n",
              "      <td>Inception</td>\n",
              "      <td>Action|Crime|Drama|Mystery|Sci-Fi|Thriller|IMAX</td>\n",
              "    </tr>\n",
              "    <tr>\n",
              "      <th>16127</th>\n",
              "      <td>Black Swan</td>\n",
              "      <td>Drama|Thriller</td>\n",
              "    </tr>\n",
              "  </tbody>\n",
              "</table>\n",
              "</div>"
            ],
            "text/plain": [
              "                                  title                                           genres\n",
              "1068                            Platoon                                        Drama|War\n",
              "1304                         Birds, The                                  Horror|Thriller\n",
              "1684                          Dark City              Adventure|Film-Noir|Sci-Fi|Thriller\n",
              "2832           Ferris Bueller's Day Off                                           Comedy\n",
              "2873                         Fight Club                      Action|Crime|Drama|Thriller\n",
              "3933         O Brother, Where Art Thou?                           Adventure|Comedy|Crime\n",
              "4132                            Memento                                 Mystery|Thriller\n",
              "5917       City of God (Cidade de Deus)            Action|Adventure|Crime|Drama|Thriller\n",
              "6392                      28 Days Later                             Action|Horror|Sci-Fi\n",
              "8227                  I Heart Huckabees                                           Comedy\n",
              "10952                           Slither                             Comedy|Horror|Sci-Fi\n",
              "11362                     Departed, The                             Crime|Drama|Thriller\n",
              "11424  Perfume: The Story of a Murderer                             Crime|Drama|Thriller\n",
              "12253                         Mist, The                                    Horror|Sci-Fi\n",
              "12525                  Dark Knight, The                          Action|Crime|Drama|IMAX\n",
              "12856                          Watchmen        Action|Drama|Mystery|Sci-Fi|Thriller|IMAX\n",
              "13245                     Wrestler, The                                            Drama\n",
              "13522    Dr. Horrible's Sing-Along Blog                      Comedy|Drama|Musical|Sci-Fi\n",
              "15534                         Inception  Action|Crime|Drama|Mystery|Sci-Fi|Thriller|IMAX\n",
              "16127                        Black Swan                                   Drama|Thriller"
            ]
          },
          "metadata": {
            "tags": []
          },
          "execution_count": 181
        }
      ]
    },
    {
      "cell_type": "markdown",
      "metadata": {
        "id": "BtO1ZWhcxdg7"
      },
      "source": [
        "### 유사도가 제일 높은 유저와 장르 선호도 비교(wordcloud)"
      ]
    },
    {
      "cell_type": "code",
      "metadata": {
        "colab": {
          "base_uri": "https://localhost:8080/",
          "height": 960
        },
        "id": "148wuiGAxBa2",
        "outputId": "26c14310-46ee-4dbe-b899-a452e310bd94"
      },
      "source": [
        "first_similar_user=similar_users.iloc[:,0][4]\n",
        "firstsim_user_pref = get_user_preferences(first_similar_user, plot=True, verbose=1)\n",
        "print('> animes highly rated by this user')\n",
        "\n",
        "pd.DataFrame(firstsim_user_pref)"
      ],
      "execution_count": 182,
      "outputs": [
        {
          "output_type": "stream",
          "text": [
            "> User #33395 has rated 411 movies (avg. rating = 0.5)\n",
            "> preferred genres\n"
          ],
          "name": "stdout"
        },
        {
          "output_type": "display_data",
          "data": {
            "image/png": "[encoded data removed]",
            "text/plain": [
              "<Figure size 576x432 with 1 Axes>"
            ]
          },
          "metadata": {
            "tags": [],
            "needs_background": "light"
          }
        },
        {
          "output_type": "stream",
          "text": [
            "> animes highly rated by this user\n"
          ],
          "name": "stdout"
        },
        {
          "output_type": "execute_result",
          "data": {
            "text/html": [
              "<div>\n",
              "<style scoped>\n",
              "    .dataframe tbody tr th:only-of-type {\n",
              "        vertical-align: middle;\n",
              "    }\n",
              "\n",
              "    .dataframe tbody tr th {\n",
              "        vertical-align: top;\n",
              "    }\n",
              "\n",
              "    .dataframe thead th {\n",
              "        text-align: right;\n",
              "    }\n",
              "</style>\n",
              "<table border=\"1\" class=\"dataframe\">\n",
              "  <thead>\n",
              "    <tr style=\"text-align: right;\">\n",
              "      <th></th>\n",
              "      <th>title</th>\n",
              "      <th>genres</th>\n",
              "    </tr>\n",
              "  </thead>\n",
              "  <tbody>\n",
              "    <tr>\n",
              "      <th>109</th>\n",
              "      <td>Taxi Driver</td>\n",
              "      <td>Crime|Drama|Thriller</td>\n",
              "    </tr>\n",
              "    <tr>\n",
              "      <th>257</th>\n",
              "      <td>Star Wars: Episode IV - A New Hope</td>\n",
              "      <td>Action|Adventure|Sci-Fi</td>\n",
              "    </tr>\n",
              "    <tr>\n",
              "      <th>523</th>\n",
              "      <td>Schindler's List</td>\n",
              "      <td>Drama|War</td>\n",
              "    </tr>\n",
              "    <tr>\n",
              "      <th>537</th>\n",
              "      <td>Blade Runner</td>\n",
              "      <td>Action|Sci-Fi|Thriller</td>\n",
              "    </tr>\n",
              "    <tr>\n",
              "      <th>587</th>\n",
              "      <td>Silence of the Lambs, The</td>\n",
              "      <td>Crime|Horror|Thriller</td>\n",
              "    </tr>\n",
              "    <tr>\n",
              "      <th>843</th>\n",
              "      <td>Godfather, The</td>\n",
              "      <td>Crime|Drama</td>\n",
              "    </tr>\n",
              "    <tr>\n",
              "      <th>886</th>\n",
              "      <td>Vertigo</td>\n",
              "      <td>Drama|Mystery|Romance|Thriller</td>\n",
              "    </tr>\n",
              "    <tr>\n",
              "      <th>895</th>\n",
              "      <td>Casablanca</td>\n",
              "      <td>Drama|Romance</td>\n",
              "    </tr>\n",
              "    <tr>\n",
              "      <th>906</th>\n",
              "      <td>Citizen Kane</td>\n",
              "      <td>Drama|Mystery</td>\n",
              "    </tr>\n",
              "    <tr>\n",
              "      <th>907</th>\n",
              "      <td>2001: A Space Odyssey</td>\n",
              "      <td>Adventure|Drama|Sci-Fi</td>\n",
              "    </tr>\n",
              "    <tr>\n",
              "      <th>936</th>\n",
              "      <td>It's a Wonderful Life</td>\n",
              "      <td>Drama|Fantasy|Romance</td>\n",
              "    </tr>\n",
              "    <tr>\n",
              "      <th>937</th>\n",
              "      <td>Mr. Smith Goes to Washington</td>\n",
              "      <td>Drama</td>\n",
              "    </tr>\n",
              "    <tr>\n",
              "      <th>1113</th>\n",
              "      <td>Monty Python and the Holy Grail</td>\n",
              "      <td>Adventure|Comedy|Fantasy</td>\n",
              "    </tr>\n",
              "    <tr>\n",
              "      <th>1193</th>\n",
              "      <td>Psycho</td>\n",
              "      <td>Crime|Horror</td>\n",
              "    </tr>\n",
              "    <tr>\n",
              "      <th>1219</th>\n",
              "      <td>Graduate, The</td>\n",
              "      <td>Comedy|Drama|Romance</td>\n",
              "    </tr>\n",
              "    <tr>\n",
              "      <th>1241</th>\n",
              "      <td>Arsenic and Old Lace</td>\n",
              "      <td>Comedy|Mystery|Thriller</td>\n",
              "    </tr>\n",
              "    <tr>\n",
              "      <th>1253</th>\n",
              "      <td>Great Dictator, The</td>\n",
              "      <td>Comedy|Drama|War</td>\n",
              "    </tr>\n",
              "    <tr>\n",
              "      <th>1913</th>\n",
              "      <td>Exorcist, The</td>\n",
              "      <td>Horror|Mystery</td>\n",
              "    </tr>\n",
              "    <tr>\n",
              "      <th>1944</th>\n",
              "      <td>Saving Private Ryan</td>\n",
              "      <td>Action|Drama|War</td>\n",
              "    </tr>\n",
              "    <tr>\n",
              "      <th>11354</th>\n",
              "      <td>Pan's Labyrinth (Laberinto del fauno, El)</td>\n",
              "      <td>Drama|Fantasy|Thriller</td>\n",
              "    </tr>\n",
              "  </tbody>\n",
              "</table>\n",
              "</div>"
            ],
            "text/plain": [
              "                                           title                          genres\n",
              "109                                  Taxi Driver            Crime|Drama|Thriller\n",
              "257           Star Wars: Episode IV - A New Hope         Action|Adventure|Sci-Fi\n",
              "523                             Schindler's List                       Drama|War\n",
              "537                                 Blade Runner          Action|Sci-Fi|Thriller\n",
              "587                    Silence of the Lambs, The           Crime|Horror|Thriller\n",
              "843                               Godfather, The                     Crime|Drama\n",
              "886                                      Vertigo  Drama|Mystery|Romance|Thriller\n",
              "895                                   Casablanca                   Drama|Romance\n",
              "906                                 Citizen Kane                   Drama|Mystery\n",
              "907                        2001: A Space Odyssey          Adventure|Drama|Sci-Fi\n",
              "936                        It's a Wonderful Life           Drama|Fantasy|Romance\n",
              "937                 Mr. Smith Goes to Washington                           Drama\n",
              "1113             Monty Python and the Holy Grail        Adventure|Comedy|Fantasy\n",
              "1193                                      Psycho                    Crime|Horror\n",
              "1219                               Graduate, The            Comedy|Drama|Romance\n",
              "1241                        Arsenic and Old Lace         Comedy|Mystery|Thriller\n",
              "1253                         Great Dictator, The                Comedy|Drama|War\n",
              "1913                               Exorcist, The                  Horror|Mystery\n",
              "1944                         Saving Private Ryan                Action|Drama|War\n",
              "11354  Pan's Labyrinth (Laberinto del fauno, El)          Drama|Fantasy|Thriller"
            ]
          },
          "metadata": {
            "tags": []
          },
          "execution_count": 182
        }
      ]
    },
    {
      "cell_type": "code",
      "metadata": {
        "id": "5E94i_juxYOS"
      },
      "source": [
        "def get_recommended_movies(similar_users, n=10):\n",
        "    recommended_movies = []\n",
        "    movie_list = []\n",
        "    \n",
        "    #비슷한 유저들이 시청한 애니메이션을 movie_list 추가(이미 본 애니메이션은 제거)\n",
        "    for user_id in similar_users.similar_users.values: #유저번호\n",
        "        pref_list = get_user_preferences(int(user_id), verbose=0) #비슷한 유저a가 시청한 리스트\n",
        "        pref_list = pref_list[~ pref_list.title.isin(user_pref.title.values)] #user가 시청한 목록은 제거(이미 봤으니 추천해줄 이유 x)\n",
        "        movie_list.append(pref_list.title.values)\n",
        "        \n",
        "    movie_list = pd.DataFrame(movie_list)\n",
        "    sorted_list = pd.DataFrame(pd.Series(movie_list.values.ravel()).value_counts()).head(n) #제일 많이 추천된(카운트된) 순으로 정렬\n",
        "    \n",
        "    for i, movie_name in enumerate(sorted_list.index):        \n",
        "        n_user_pref = sorted_list[sorted_list.index == movie_name].values[0][0]\n",
        "        if isinstance(movie_name, str):\n",
        "            try:\n",
        "                frame = getMovieFrame(movie_name)\n",
        "                movie_id = frame.movieId.values[0]\n",
        "                genre = frame.genres.values[0]\n",
        "                #sypnopsis = getSypnopsis(int(anime_id))\n",
        "                recommended_movies.append({\"movie_id\": movie_id ,\n",
        "                                            \"n\": n_user_pref,\n",
        "                                            \"movie_name\": movie_name, \n",
        "                                            \"genres\": genre, \n",
        "                                            #\"sypnopsis\": sypnopsis\n",
        "                                           })\n",
        "            except:\n",
        "                pass\n",
        "    \n",
        "    return pd.DataFrame(recommended_movies)"
      ],
      "execution_count": 116,
      "outputs": []
    },
    {
      "cell_type": "code",
      "metadata": {
        "colab": {
          "base_uri": "https://localhost:8080/",
          "height": 632
        },
        "id": "IaliAuCn0Zpp",
        "outputId": "45c37ab0-0ef5-41ef-a92f-76c6748f89b0"
      },
      "source": [
        "recommended_movies = get_recommended_movies(similar_users, n=10)\n",
        "getFavGenre(recommended_movies, plot=True)\n",
        "\n",
        "print('\\n> Top recommendations for user: {}'.format(random_user))\n",
        "recommended_movies"
      ],
      "execution_count": 184,
      "outputs": [
        {
          "output_type": "display_data",
          "data": {
            "image/png": "[encoded data removed]",
            "text/plain": [
              "<Figure size 576x432 with 1 Axes>"
            ]
          },
          "metadata": {
            "tags": [],
            "needs_background": "light"
          }
        },
        {
          "output_type": "stream",
          "text": [
            "\n",
            "> Top recommendations for user: 63494\n"
          ],
          "name": "stdout"
        },
        {
          "output_type": "execute_result",
          "data": {
            "text/html": [
              "<div>\n",
              "<style scoped>\n",
              "    .dataframe tbody tr th:only-of-type {\n",
              "        vertical-align: middle;\n",
              "    }\n",
              "\n",
              "    .dataframe tbody tr th {\n",
              "        vertical-align: top;\n",
              "    }\n",
              "\n",
              "    .dataframe thead th {\n",
              "        text-align: right;\n",
              "    }\n",
              "</style>\n",
              "<table border=\"1\" class=\"dataframe\">\n",
              "  <thead>\n",
              "    <tr style=\"text-align: right;\">\n",
              "      <th></th>\n",
              "      <th>movie_id</th>\n",
              "      <th>n</th>\n",
              "      <th>movie_name</th>\n",
              "      <th>genres</th>\n",
              "    </tr>\n",
              "  </thead>\n",
              "  <tbody>\n",
              "    <tr>\n",
              "      <th>0</th>\n",
              "      <td>1206</td>\n",
              "      <td>3</td>\n",
              "      <td>Clockwork Orange, A</td>\n",
              "      <td>Crime|Drama|Sci-Fi|Thriller</td>\n",
              "    </tr>\n",
              "    <tr>\n",
              "      <th>1</th>\n",
              "      <td>858</td>\n",
              "      <td>3</td>\n",
              "      <td>Godfather, The</td>\n",
              "      <td>Crime|Drama</td>\n",
              "    </tr>\n",
              "    <tr>\n",
              "      <th>2</th>\n",
              "      <td>924</td>\n",
              "      <td>2</td>\n",
              "      <td>2001: A Space Odyssey</td>\n",
              "      <td>Adventure|Drama|Sci-Fi</td>\n",
              "    </tr>\n",
              "    <tr>\n",
              "      <th>3</th>\n",
              "      <td>4011</td>\n",
              "      <td>2</td>\n",
              "      <td>Snatch</td>\n",
              "      <td>Comedy|Crime|Thriller</td>\n",
              "    </tr>\n",
              "    <tr>\n",
              "      <th>4</th>\n",
              "      <td>4878</td>\n",
              "      <td>2</td>\n",
              "      <td>Donnie Darko</td>\n",
              "      <td>Drama|Mystery|Sci-Fi|Thriller</td>\n",
              "    </tr>\n",
              "    <tr>\n",
              "      <th>5</th>\n",
              "      <td>1247</td>\n",
              "      <td>2</td>\n",
              "      <td>Graduate, The</td>\n",
              "      <td>Comedy|Drama|Romance</td>\n",
              "    </tr>\n",
              "    <tr>\n",
              "      <th>6</th>\n",
              "      <td>2716</td>\n",
              "      <td>2</td>\n",
              "      <td>Ghostbusters (a.k.a. Ghost Busters)</td>\n",
              "      <td>Action|Comedy|Sci-Fi</td>\n",
              "    </tr>\n",
              "    <tr>\n",
              "      <th>7</th>\n",
              "      <td>527</td>\n",
              "      <td>2</td>\n",
              "      <td>Schindler's List</td>\n",
              "      <td>Drama|War</td>\n",
              "    </tr>\n",
              "    <tr>\n",
              "      <th>8</th>\n",
              "      <td>1136</td>\n",
              "      <td>2</td>\n",
              "      <td>Monty Python and the Holy Grail</td>\n",
              "      <td>Adventure|Comedy|Fantasy</td>\n",
              "    </tr>\n",
              "    <tr>\n",
              "      <th>9</th>\n",
              "      <td>2997</td>\n",
              "      <td>2</td>\n",
              "      <td>Being John Malkovich</td>\n",
              "      <td>Comedy|Drama|Fantasy</td>\n",
              "    </tr>\n",
              "  </tbody>\n",
              "</table>\n",
              "</div>"
            ],
            "text/plain": [
              "   movie_id  ...                         genres\n",
              "0      1206  ...    Crime|Drama|Sci-Fi|Thriller\n",
              "1       858  ...                    Crime|Drama\n",
              "2       924  ...         Adventure|Drama|Sci-Fi\n",
              "3      4011  ...          Comedy|Crime|Thriller\n",
              "4      4878  ...  Drama|Mystery|Sci-Fi|Thriller\n",
              "5      1247  ...           Comedy|Drama|Romance\n",
              "6      2716  ...           Action|Comedy|Sci-Fi\n",
              "7       527  ...                      Drama|War\n",
              "8      1136  ...       Adventure|Comedy|Fantasy\n",
              "9      2997  ...           Comedy|Drama|Fantasy\n",
              "\n",
              "[10 rows x 4 columns]"
            ]
          },
          "metadata": {
            "tags": []
          },
          "execution_count": 184
        }
      ]
    },
    {
      "cell_type": "code",
      "metadata": {
        "colab": {
          "base_uri": "https://localhost:8080/",
          "height": 448
        },
        "id": "T6-PBrGI1olW",
        "outputId": "4b563fd6-0a12-4aea-afae-ef086354f72f"
      },
      "source": [
        "print(\"Showing recommendations for user: {}\".format(random_user))\n",
        "print(\"===\" * 25)\n",
        "\n",
        "movies_watched_by_user = rating[rating.userId==random_user] #유저a가 시청한 애니메이션 목록\n",
        "movie_not_watched_df = movie[ # 유저a가 시청하지 않은 애니메이션 목록\n",
        "    ~movie[\"movieId\"].isin(movies_watched_by_user.movieId.values)\n",
        "]\n",
        "\n",
        "movie_not_watched = list(\n",
        "    set(movie_not_watched_df['movieId']).intersection(set(movie2movie_encoded.keys())) #교집합 만들기\n",
        ")\n",
        "\n",
        "movie_not_watched = [[movie2movie_encoded.get(x)] for x in movie_not_watched]\n",
        "\n",
        "user_encoder = user2user_encoded.get(random_user)\n",
        "\n",
        "user_movie_array = np.hstack(\n",
        "    ([[user_encoder]] * len(movie_not_watched), movie_not_watched)\n",
        ")\n",
        "\n",
        "user_movie_array = [user_movie_array[:, 0], user_movie_array[:, 1]] #input\n",
        "ratings = model.predict(user_movie_array).flatten() #output\n",
        "\n",
        "top_ratings_indices = (-ratings).argsort()[:10]\n",
        "\n",
        "recommended_movie_ids = [\n",
        "    movie_encoded2movie.get(movie_not_watched[x][0]) for x in top_ratings_indices\n",
        "]\n",
        "\n",
        "Results = []\n",
        "top_rated_ids = []\n",
        "\n",
        "for index, movie_id in enumerate(movie_not_watched):\n",
        "    predd_rating = ratings[index]\n",
        "    id_ = movie_encoded2movie.get(movie_id[0])\n",
        "    \n",
        "    if id_ in recommended_movie_ids:\n",
        "        top_rated_ids.append(id_)\n",
        "        try:\n",
        "            condition = (movie.movieId == id_)\n",
        "            name = movie[condition]['title'].values[0]\n",
        "            genre = movie[condition].genres.values[0]\n",
        "            #score = movie[condition].Score.values[0]\n",
        "            #sypnopsis = getSypnopsis(int(id_))\n",
        "        except:\n",
        "            continue\n",
        "            \n",
        "        Results.append({#\"anime_id\": id_, \n",
        "                        \"name\": name, \n",
        "                        \"pred_rating\": predd_rating,\n",
        "                        \"genre\": genre, \n",
        "                        #'sypnopsis': sypnopsis\n",
        "                        })\n",
        "\n",
        "print(\"---\" * 25)\n",
        "print(\"> Top 10 anime recommendations\")\n",
        "print(\"---\" * 25)\n",
        "\n",
        "#test\n",
        "#test=pd.DataFrame(Results).sort_values(by='pred_rating', ascending=False)\n",
        "\n",
        "pd.DataFrame(Results).sort_values(by='pred_rating', ascending=False)\n"
      ],
      "execution_count": 134,
      "outputs": [
        {
          "output_type": "stream",
          "text": [
            "Showing recommendations for user: 3397\n",
            "===========================================================================\n",
            "---------------------------------------------------------------------------\n",
            "> Top 10 anime recommendations\n",
            "---------------------------------------------------------------------------\n"
          ],
          "name": "stdout"
        },
        {
          "output_type": "execute_result",
          "data": {
            "text/html": [
              "<div>\n",
              "<style scoped>\n",
              "    .dataframe tbody tr th:only-of-type {\n",
              "        vertical-align: middle;\n",
              "    }\n",
              "\n",
              "    .dataframe tbody tr th {\n",
              "        vertical-align: top;\n",
              "    }\n",
              "\n",
              "    .dataframe thead th {\n",
              "        text-align: right;\n",
              "    }\n",
              "</style>\n",
              "<table border=\"1\" class=\"dataframe\">\n",
              "  <thead>\n",
              "    <tr style=\"text-align: right;\">\n",
              "      <th></th>\n",
              "      <th>name</th>\n",
              "      <th>pred_rating</th>\n",
              "      <th>genre</th>\n",
              "    </tr>\n",
              "  </thead>\n",
              "  <tbody>\n",
              "    <tr>\n",
              "      <th>6</th>\n",
              "      <td>Precision: The Measure of All Things</td>\n",
              "      <td>0.951396</td>\n",
              "      <td>Documentary</td>\n",
              "    </tr>\n",
              "    <tr>\n",
              "      <th>4</th>\n",
              "      <td>Latin Music USA</td>\n",
              "      <td>0.948712</td>\n",
              "      <td>Documentary|Musical</td>\n",
              "    </tr>\n",
              "    <tr>\n",
              "      <th>7</th>\n",
              "      <td>Shock and Awe: The Story of Electricity</td>\n",
              "      <td>0.946489</td>\n",
              "      <td>Documentary</td>\n",
              "    </tr>\n",
              "    <tr>\n",
              "      <th>8</th>\n",
              "      <td>Story of Science, The</td>\n",
              "      <td>0.945037</td>\n",
              "      <td>Documentary</td>\n",
              "    </tr>\n",
              "    <tr>\n",
              "      <th>0</th>\n",
              "      <td>Not on Your Life (Verdugo, El) (Executioner, The)</td>\n",
              "      <td>0.941328</td>\n",
              "      <td>Comedy|Drama</td>\n",
              "    </tr>\n",
              "    <tr>\n",
              "      <th>5</th>\n",
              "      <td>Story of Maths, The</td>\n",
              "      <td>0.940280</td>\n",
              "      <td>Documentary</td>\n",
              "    </tr>\n",
              "    <tr>\n",
              "      <th>2</th>\n",
              "      <td>Moth, The (Cma)</td>\n",
              "      <td>0.935600</td>\n",
              "      <td>Drama</td>\n",
              "    </tr>\n",
              "    <tr>\n",
              "      <th>1</th>\n",
              "      <td>Above and Beyond</td>\n",
              "      <td>0.930194</td>\n",
              "      <td>Action|Drama</td>\n",
              "    </tr>\n",
              "    <tr>\n",
              "      <th>9</th>\n",
              "      <td>Craig Ferguson: A Wee Bit o' Revolution</td>\n",
              "      <td>0.929603</td>\n",
              "      <td>Comedy</td>\n",
              "    </tr>\n",
              "    <tr>\n",
              "      <th>3</th>\n",
              "      <td>Summer Wishes, Winter Dreams</td>\n",
              "      <td>0.929223</td>\n",
              "      <td>Drama</td>\n",
              "    </tr>\n",
              "  </tbody>\n",
              "</table>\n",
              "</div>"
            ],
            "text/plain": [
              "                                                name  ...                genre\n",
              "6               Precision: The Measure of All Things  ...          Documentary\n",
              "4                                    Latin Music USA  ...  Documentary|Musical\n",
              "7            Shock and Awe: The Story of Electricity  ...          Documentary\n",
              "8                              Story of Science, The  ...          Documentary\n",
              "0  Not on Your Life (Verdugo, El) (Executioner, The)  ...         Comedy|Drama\n",
              "5                                Story of Maths, The  ...          Documentary\n",
              "2                                    Moth, The (Cma)  ...                Drama\n",
              "1                                   Above and Beyond  ...         Action|Drama\n",
              "9            Craig Ferguson: A Wee Bit o' Revolution  ...               Comedy\n",
              "3                       Summer Wishes, Winter Dreams  ...                Drama\n",
              "\n",
              "[10 rows x 3 columns]"
            ]
          },
          "metadata": {
            "tags": []
          },
          "execution_count": 134
        }
      ]
    }
  ]
}