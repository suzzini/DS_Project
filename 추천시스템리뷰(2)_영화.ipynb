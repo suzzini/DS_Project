{
  "nbformat": 4,
  "nbformat_minor": 0,
  "metadata": {
    "colab": {
      "name": "추천시스템리뷰(2)_영화.ipynb",
      "provenance": [],
      "machine_shape": "hm",
      "mount_file_id": "1UwrmhIJB1_FfKroHHlleJlQaMOmvPgCY",
      "authorship_tag": "ABX9TyO2UwExVPnBGIWzAUBKosEI",
      "include_colab_link": true
    },
    "kernelspec": {
      "name": "python3",
      "display_name": "Python 3"
    },
    "language_info": {
      "name": "python"
    },
    "accelerator": "GPU"
  },
  "cells": [
    {
      "cell_type": "markdown",
      "metadata": {
        "id": "view-in-github",
        "colab_type": "text"
      },
      "source": [
        "<a href=\"https://colab.research.google.com/github/suzzini/DS_Project/blob/main/%EC%B6%94%EC%B2%9C%EC%8B%9C%EC%8A%A4%ED%85%9C%EB%A6%AC%EB%B7%B0(2)_%EC%98%81%ED%99%94.ipynb\" target=\"_parent\"><img src=\"https://colab.research.google.com/assets/colab-badge.svg\" alt=\"Open In Colab\"/></a>"
      ]
    },
    {
      "cell_type": "markdown",
      "metadata": {
        "id": "zaXBaUH3Trb7"
      },
      "source": [
        "## 추천 알고리즘 코드 리뷰하기(2)\n",
        "\n",
        "링크 : https://www.kaggle.com/rounakbanik/movie-recommender-systems"
      ]
    },
    {
      "cell_type": "code",
      "metadata": {
        "colab": {
          "base_uri": "https://localhost:8080/"
        },
        "id": "MFQhC4W4Tj32",
        "outputId": "62c53248-5288-45e0-e826-ca4f404cc126"
      },
      "source": [
        "!pip install scikit-surprise"
      ],
      "execution_count": 1,
      "outputs": [
        {
          "output_type": "stream",
          "text": [
            "Collecting scikit-surprise\n",
            "\u001b[?25l  Downloading https://files.pythonhosted.org/packages/97/37/5d334adaf5ddd65da99fc65f6507e0e4599d092ba048f4302fe8775619e8/scikit-surprise-1.1.1.tar.gz (11.8MB)\n",
            "\u001b[K     |████████████████████████████████| 11.8MB 547kB/s \n",
            "\u001b[?25hRequirement already satisfied: joblib>=0.11 in /usr/local/lib/python3.7/dist-packages (from scikit-surprise) (1.0.1)\n",
            "Requirement already satisfied: numpy>=1.11.2 in /usr/local/lib/python3.7/dist-packages (from scikit-surprise) (1.19.5)\n",
            "Requirement already satisfied: scipy>=1.0.0 in /usr/local/lib/python3.7/dist-packages (from scikit-surprise) (1.4.1)\n",
            "Requirement already satisfied: six>=1.10.0 in /usr/local/lib/python3.7/dist-packages (from scikit-surprise) (1.15.0)\n",
            "Building wheels for collected packages: scikit-surprise\n",
            "  Building wheel for scikit-surprise (setup.py) ... \u001b[?25l\u001b[?25hdone\n",
            "  Created wheel for scikit-surprise: filename=scikit_surprise-1.1.1-cp37-cp37m-linux_x86_64.whl size=1617638 sha256=f16a87110727a41e35e5738a9ff95a99233a34df5530f845ccfeac24f6d7b71c\n",
            "  Stored in directory: /root/.cache/pip/wheels/78/9c/3d/41b419c9d2aff5b6e2b4c0fc8d25c538202834058f9ed110d0\n",
            "Successfully built scikit-surprise\n",
            "Installing collected packages: scikit-surprise\n",
            "Successfully installed scikit-surprise-1.1.1\n"
          ],
          "name": "stdout"
        }
      ]
    },
    {
      "cell_type": "code",
      "metadata": {
        "id": "KoTSIG8pTNib"
      },
      "source": [
        "%matplotlib inline\n",
        "import pandas as pd\n",
        "import numpy as np\n",
        "import matplotlib.pyplot as plt\n",
        "import seaborn as sns\n",
        "from scipy import stats\n",
        "from ast import literal_eval\n",
        "from sklearn.feature_extraction.text import TfidfVectorizer, CountVectorizer\n",
        "from sklearn.metrics.pairwise import linear_kernel, cosine_similarity\n",
        "from nltk.stem.snowball import SnowballStemmer\n",
        "from nltk.stem.wordnet import WordNetLemmatizer\n",
        "from nltk.corpus import wordnet\n",
        "from surprise import Reader, Dataset, SVD\n",
        "from surprise.model_selection import cross_validate\n",
        "\n",
        "import warnings; warnings.simplefilter('ignore')"
      ],
      "execution_count": 2,
      "outputs": []
    },
    {
      "cell_type": "markdown",
      "metadata": {
        "id": "B1319RH5UH-v"
      },
      "source": [
        "evaluate 시 다음과 같이 진행(cross_validate 사용)\n",
        "\n",
        "```\n",
        "from surprise import SVD\n",
        "from surprise import Dataset\n",
        "from surprise.model_selection import cross_validate\n",
        "\n",
        "# Load the dataset (download it if needed)\n",
        "data = Dataset.load_builtin('ml-100k')\n",
        "\n",
        "# Use the famous SVD algorithm\n",
        "algo = SVD()\n",
        "\n",
        "# Run 5-fold cross-validation and then print results\n",
        "cross_validate(algo, data, measures=['RMSE', 'MAE'], cv=5, verbose=True)\n",
        "```"
      ]
    },
    {
      "cell_type": "markdown",
      "metadata": {
        "id": "6A6tVlc6auFs"
      },
      "source": [
        "### 1. simple recommender system\n",
        "- 영화의 흥행과 장르에 기반한 간단한 추천시스템\n",
        "- 대중들에게 좋아요가 높다는 것은 인기와 찬사를 받은 영화라는 것에 기반\n",
        "- 유저에게 개인화된 맞춤 서비스는 아님"
      ]
    },
    {
      "cell_type": "code",
      "metadata": {
        "colab": {
          "base_uri": "https://localhost:8080/",
          "height": 650
        },
        "id": "FJHeHq5CUb0S",
        "outputId": "333908e2-9366-40d6-85ab-cb84226b701f"
      },
      "source": [
        "md = pd.read_csv('/content/drive/MyDrive/dataset/movies_metadata.csv/movies_metadata.csv')\n",
        "md.head()"
      ],
      "execution_count": 3,
      "outputs": [
        {
          "output_type": "execute_result",
          "data": {
            "text/html": [
              "<div>\n",
              "<style scoped>\n",
              "    .dataframe tbody tr th:only-of-type {\n",
              "        vertical-align: middle;\n",
              "    }\n",
              "\n",
              "    .dataframe tbody tr th {\n",
              "        vertical-align: top;\n",
              "    }\n",
              "\n",
              "    .dataframe thead th {\n",
              "        text-align: right;\n",
              "    }\n",
              "</style>\n",
              "<table border=\"1\" class=\"dataframe\">\n",
              "  <thead>\n",
              "    <tr style=\"text-align: right;\">\n",
              "      <th></th>\n",
              "      <th>adult</th>\n",
              "      <th>belongs_to_collection</th>\n",
              "      <th>budget</th>\n",
              "      <th>genres</th>\n",
              "      <th>homepage</th>\n",
              "      <th>id</th>\n",
              "      <th>imdb_id</th>\n",
              "      <th>original_language</th>\n",
              "      <th>original_title</th>\n",
              "      <th>overview</th>\n",
              "      <th>popularity</th>\n",
              "      <th>poster_path</th>\n",
              "      <th>production_companies</th>\n",
              "      <th>production_countries</th>\n",
              "      <th>release_date</th>\n",
              "      <th>revenue</th>\n",
              "      <th>runtime</th>\n",
              "      <th>spoken_languages</th>\n",
              "      <th>status</th>\n",
              "      <th>tagline</th>\n",
              "      <th>title</th>\n",
              "      <th>video</th>\n",
              "      <th>vote_average</th>\n",
              "      <th>vote_count</th>\n",
              "    </tr>\n",
              "  </thead>\n",
              "  <tbody>\n",
              "    <tr>\n",
              "      <th>0</th>\n",
              "      <td>False</td>\n",
              "      <td>{'id': 10194, 'name': 'Toy Story Collection', ...</td>\n",
              "      <td>30000000</td>\n",
              "      <td>[{'id': 16, 'name': 'Animation'}, {'id': 35, '...</td>\n",
              "      <td>http://toystory.disney.com/toy-story</td>\n",
              "      <td>862</td>\n",
              "      <td>tt0114709</td>\n",
              "      <td>en</td>\n",
              "      <td>Toy Story</td>\n",
              "      <td>Led by Woody, Andy's toys live happily in his ...</td>\n",
              "      <td>21.9469</td>\n",
              "      <td>/rhIRbceoE9lR4veEXuwCC2wARtG.jpg</td>\n",
              "      <td>[{'name': 'Pixar Animation Studios', 'id': 3}]</td>\n",
              "      <td>[{'iso_3166_1': 'US', 'name': 'United States o...</td>\n",
              "      <td>1995-10-30</td>\n",
              "      <td>373554033.0</td>\n",
              "      <td>81.0</td>\n",
              "      <td>[{'iso_639_1': 'en', 'name': 'English'}]</td>\n",
              "      <td>Released</td>\n",
              "      <td>NaN</td>\n",
              "      <td>Toy Story</td>\n",
              "      <td>False</td>\n",
              "      <td>7.7</td>\n",
              "      <td>5415.0</td>\n",
              "    </tr>\n",
              "    <tr>\n",
              "      <th>1</th>\n",
              "      <td>False</td>\n",
              "      <td>NaN</td>\n",
              "      <td>65000000</td>\n",
              "      <td>[{'id': 12, 'name': 'Adventure'}, {'id': 14, '...</td>\n",
              "      <td>NaN</td>\n",
              "      <td>8844</td>\n",
              "      <td>tt0113497</td>\n",
              "      <td>en</td>\n",
              "      <td>Jumanji</td>\n",
              "      <td>When siblings Judy and Peter discover an encha...</td>\n",
              "      <td>17.0155</td>\n",
              "      <td>/vzmL6fP7aPKNKPRTFnZmiUfciyV.jpg</td>\n",
              "      <td>[{'name': 'TriStar Pictures', 'id': 559}, {'na...</td>\n",
              "      <td>[{'iso_3166_1': 'US', 'name': 'United States o...</td>\n",
              "      <td>1995-12-15</td>\n",
              "      <td>262797249.0</td>\n",
              "      <td>104.0</td>\n",
              "      <td>[{'iso_639_1': 'en', 'name': 'English'}, {'iso...</td>\n",
              "      <td>Released</td>\n",
              "      <td>Roll the dice and unleash the excitement!</td>\n",
              "      <td>Jumanji</td>\n",
              "      <td>False</td>\n",
              "      <td>6.9</td>\n",
              "      <td>2413.0</td>\n",
              "    </tr>\n",
              "    <tr>\n",
              "      <th>2</th>\n",
              "      <td>False</td>\n",
              "      <td>{'id': 119050, 'name': 'Grumpy Old Men Collect...</td>\n",
              "      <td>0</td>\n",
              "      <td>[{'id': 10749, 'name': 'Romance'}, {'id': 35, ...</td>\n",
              "      <td>NaN</td>\n",
              "      <td>15602</td>\n",
              "      <td>tt0113228</td>\n",
              "      <td>en</td>\n",
              "      <td>Grumpier Old Men</td>\n",
              "      <td>A family wedding reignites the ancient feud be...</td>\n",
              "      <td>11.7129</td>\n",
              "      <td>/6ksm1sjKMFLbO7UY2i6G1ju9SML.jpg</td>\n",
              "      <td>[{'name': 'Warner Bros.', 'id': 6194}, {'name'...</td>\n",
              "      <td>[{'iso_3166_1': 'US', 'name': 'United States o...</td>\n",
              "      <td>1995-12-22</td>\n",
              "      <td>0.0</td>\n",
              "      <td>101.0</td>\n",
              "      <td>[{'iso_639_1': 'en', 'name': 'English'}]</td>\n",
              "      <td>Released</td>\n",
              "      <td>Still Yelling. Still Fighting. Still Ready for...</td>\n",
              "      <td>Grumpier Old Men</td>\n",
              "      <td>False</td>\n",
              "      <td>6.5</td>\n",
              "      <td>92.0</td>\n",
              "    </tr>\n",
              "    <tr>\n",
              "      <th>3</th>\n",
              "      <td>False</td>\n",
              "      <td>NaN</td>\n",
              "      <td>16000000</td>\n",
              "      <td>[{'id': 35, 'name': 'Comedy'}, {'id': 18, 'nam...</td>\n",
              "      <td>NaN</td>\n",
              "      <td>31357</td>\n",
              "      <td>tt0114885</td>\n",
              "      <td>en</td>\n",
              "      <td>Waiting to Exhale</td>\n",
              "      <td>Cheated on, mistreated and stepped on, the wom...</td>\n",
              "      <td>3.85949</td>\n",
              "      <td>/16XOMpEaLWkrcPqSQqhTmeJuqQl.jpg</td>\n",
              "      <td>[{'name': 'Twentieth Century Fox Film Corporat...</td>\n",
              "      <td>[{'iso_3166_1': 'US', 'name': 'United States o...</td>\n",
              "      <td>1995-12-22</td>\n",
              "      <td>81452156.0</td>\n",
              "      <td>127.0</td>\n",
              "      <td>[{'iso_639_1': 'en', 'name': 'English'}]</td>\n",
              "      <td>Released</td>\n",
              "      <td>Friends are the people who let you be yourself...</td>\n",
              "      <td>Waiting to Exhale</td>\n",
              "      <td>False</td>\n",
              "      <td>6.1</td>\n",
              "      <td>34.0</td>\n",
              "    </tr>\n",
              "    <tr>\n",
              "      <th>4</th>\n",
              "      <td>False</td>\n",
              "      <td>{'id': 96871, 'name': 'Father of the Bride Col...</td>\n",
              "      <td>0</td>\n",
              "      <td>[{'id': 35, 'name': 'Comedy'}]</td>\n",
              "      <td>NaN</td>\n",
              "      <td>11862</td>\n",
              "      <td>tt0113041</td>\n",
              "      <td>en</td>\n",
              "      <td>Father of the Bride Part II</td>\n",
              "      <td>Just when George Banks has recovered from his ...</td>\n",
              "      <td>8.38752</td>\n",
              "      <td>/e64sOI48hQXyru7naBFyssKFxVd.jpg</td>\n",
              "      <td>[{'name': 'Sandollar Productions', 'id': 5842}...</td>\n",
              "      <td>[{'iso_3166_1': 'US', 'name': 'United States o...</td>\n",
              "      <td>1995-02-10</td>\n",
              "      <td>76578911.0</td>\n",
              "      <td>106.0</td>\n",
              "      <td>[{'iso_639_1': 'en', 'name': 'English'}]</td>\n",
              "      <td>Released</td>\n",
              "      <td>Just When His World Is Back To Normal... He's ...</td>\n",
              "      <td>Father of the Bride Part II</td>\n",
              "      <td>False</td>\n",
              "      <td>5.7</td>\n",
              "      <td>173.0</td>\n",
              "    </tr>\n",
              "  </tbody>\n",
              "</table>\n",
              "</div>"
            ],
            "text/plain": [
              "   adult  ... vote_count\n",
              "0  False  ...     5415.0\n",
              "1  False  ...     2413.0\n",
              "2  False  ...       92.0\n",
              "3  False  ...       34.0\n",
              "4  False  ...      173.0\n",
              "\n",
              "[5 rows x 24 columns]"
            ]
          },
          "metadata": {
            "tags": []
          },
          "execution_count": 3
        }
      ]
    },
    {
      "cell_type": "markdown",
      "metadata": {
        "id": "9CXvaH47bsHy"
      },
      "source": [
        "### IMDB's weighted rating  \n",
        "![image.png](data:image/png;base64,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)\n",
        "\n",
        "\n",
        "\n",
        "\n"
      ]
    },
    {
      "cell_type": "markdown",
      "metadata": {
        "id": "FCgns9h0cH-b"
      },
      "source": [
        "- v is the number of votes for the movie\n",
        "- m is the minimum votes required to be listed in the chart\n",
        "- R is the average rating of the movie\n",
        "- C is the mean vote across the whole report"
      ]
    },
    {
      "cell_type": "code",
      "metadata": {
        "id": "UwLHuKEiUi5Z"
      },
      "source": [
        "md['genres']=md['genres'].fillna('[]').apply(literal_eval).apply(lambda x: [i['name'] for i in x] if isinstance(x, list) else [])"
      ],
      "execution_count": 4,
      "outputs": []
    },
    {
      "cell_type": "code",
      "metadata": {
        "colab": {
          "base_uri": "https://localhost:8080/"
        },
        "id": "SeGrDXzpWE08",
        "outputId": "42a6f1fd-b901-4547-fd37-4a50a3e405c9"
      },
      "source": [
        "vote_averages = md[md['vote_average'].notnull()]['vote_average'].astype('int')\n",
        "C = vote_averages.mean()\n",
        "C"
      ],
      "execution_count": 5,
      "outputs": [
        {
          "output_type": "execute_result",
          "data": {
            "text/plain": [
              "5.244896612406511"
            ]
          },
          "metadata": {
            "tags": []
          },
          "execution_count": 5
        }
      ]
    },
    {
      "cell_type": "code",
      "metadata": {
        "colab": {
          "base_uri": "https://localhost:8080/"
        },
        "id": "wgO08mKsW2-P",
        "outputId": "ced11275-3219-4819-f732-34fbf7cfe282"
      },
      "source": [
        "vote_counts = md[md['vote_count'].notnull()]['vote_count'].astype('int')\n",
        "m = vote_counts.quantile(0.95) #신빙성을 위해 어느정도의 투표수를 위해 큰 순서대로 95%만 가지고 가기\n",
        "m"
      ],
      "execution_count": 6,
      "outputs": [
        {
          "output_type": "execute_result",
          "data": {
            "text/plain": [
              "434.0"
            ]
          },
          "metadata": {
            "tags": []
          },
          "execution_count": 6
        }
      ]
    },
    {
      "cell_type": "code",
      "metadata": {
        "id": "K6bSmVXXXBRf"
      },
      "source": [
        "md['year'] = pd.to_datetime(md['release_date'], errors='coerce').apply(lambda x: str(x).split('-')[0] if x != np.nan else np.nan)"
      ],
      "execution_count": 7,
      "outputs": []
    },
    {
      "cell_type": "code",
      "metadata": {
        "colab": {
          "base_uri": "https://localhost:8080/"
        },
        "id": "va4MShcwXXOE",
        "outputId": "3d28d738-cc2c-4749-e248-c78497d96935"
      },
      "source": [
        "qualified = md[(md['vote_count'] >= m) & (md['vote_count'].notnull()) & (md['vote_average'].notnull())][['title', 'year', 'vote_count', 'vote_average', 'popularity', 'genres']]\n",
        "qualified['vote_count'] = qualified['vote_count'].astype('int')\n",
        "qualified['vote_average'] = qualified['vote_average'].astype('int')\n",
        "qualified.shape"
      ],
      "execution_count": 8,
      "outputs": [
        {
          "output_type": "execute_result",
          "data": {
            "text/plain": [
              "(2274, 6)"
            ]
          },
          "metadata": {
            "tags": []
          },
          "execution_count": 8
        }
      ]
    },
    {
      "cell_type": "markdown",
      "metadata": {
        "id": "-u2kc7vWepVL"
      },
      "source": [
        "- 평가하기 위해 vote_count가 434이상의 이여야 하고\n",
        "- 그렇게해서 2274개의 영화를 평가하기로 함"
      ]
    },
    {
      "cell_type": "code",
      "metadata": {
        "id": "QyzX-8sMXaCA"
      },
      "source": [
        "def weighted_rating(x):\n",
        "    v = x['vote_count']\n",
        "    R = x['vote_average']\n",
        "    return (v/(v+m) * R) + (m/(m+v) * C)"
      ],
      "execution_count": 9,
      "outputs": []
    },
    {
      "cell_type": "code",
      "metadata": {
        "id": "TEpbzxVTXbZr"
      },
      "source": [
        "qualified['wr'] = qualified.apply(weighted_rating, axis=1)"
      ],
      "execution_count": 10,
      "outputs": []
    },
    {
      "cell_type": "code",
      "metadata": {
        "id": "RKVStNluXeDd"
      },
      "source": [
        "qualified = qualified.sort_values('wr', ascending=False).head(250)"
      ],
      "execution_count": 11,
      "outputs": []
    },
    {
      "cell_type": "markdown",
      "metadata": {
        "id": "N-heg78de69W"
      },
      "source": [
        "### Top Movies"
      ]
    },
    {
      "cell_type": "code",
      "metadata": {
        "colab": {
          "base_uri": "https://localhost:8080/",
          "height": 514
        },
        "id": "u4VjT4bPXfzf",
        "outputId": "a466c2bc-13a5-4db5-acd5-30549b152e84"
      },
      "source": [
        "qualified.head(15)"
      ],
      "execution_count": 12,
      "outputs": [
        {
          "output_type": "execute_result",
          "data": {
            "text/html": [
              "<div>\n",
              "<style scoped>\n",
              "    .dataframe tbody tr th:only-of-type {\n",
              "        vertical-align: middle;\n",
              "    }\n",
              "\n",
              "    .dataframe tbody tr th {\n",
              "        vertical-align: top;\n",
              "    }\n",
              "\n",
              "    .dataframe thead th {\n",
              "        text-align: right;\n",
              "    }\n",
              "</style>\n",
              "<table border=\"1\" class=\"dataframe\">\n",
              "  <thead>\n",
              "    <tr style=\"text-align: right;\">\n",
              "      <th></th>\n",
              "      <th>title</th>\n",
              "      <th>year</th>\n",
              "      <th>vote_count</th>\n",
              "      <th>vote_average</th>\n",
              "      <th>popularity</th>\n",
              "      <th>genres</th>\n",
              "      <th>wr</th>\n",
              "    </tr>\n",
              "  </thead>\n",
              "  <tbody>\n",
              "    <tr>\n",
              "      <th>15480</th>\n",
              "      <td>Inception</td>\n",
              "      <td>2010</td>\n",
              "      <td>14075</td>\n",
              "      <td>8</td>\n",
              "      <td>29.1081</td>\n",
              "      <td>[Action, Thriller, Science Fiction, Mystery, A...</td>\n",
              "      <td>7.917588</td>\n",
              "    </tr>\n",
              "    <tr>\n",
              "      <th>12481</th>\n",
              "      <td>The Dark Knight</td>\n",
              "      <td>2008</td>\n",
              "      <td>12269</td>\n",
              "      <td>8</td>\n",
              "      <td>123.167</td>\n",
              "      <td>[Drama, Action, Crime, Thriller]</td>\n",
              "      <td>7.905871</td>\n",
              "    </tr>\n",
              "    <tr>\n",
              "      <th>22879</th>\n",
              "      <td>Interstellar</td>\n",
              "      <td>2014</td>\n",
              "      <td>11187</td>\n",
              "      <td>8</td>\n",
              "      <td>32.2135</td>\n",
              "      <td>[Adventure, Drama, Science Fiction]</td>\n",
              "      <td>7.897107</td>\n",
              "    </tr>\n",
              "    <tr>\n",
              "      <th>2843</th>\n",
              "      <td>Fight Club</td>\n",
              "      <td>1999</td>\n",
              "      <td>9678</td>\n",
              "      <td>8</td>\n",
              "      <td>63.8696</td>\n",
              "      <td>[Drama]</td>\n",
              "      <td>7.881753</td>\n",
              "    </tr>\n",
              "    <tr>\n",
              "      <th>4863</th>\n",
              "      <td>The Lord of the Rings: The Fellowship of the Ring</td>\n",
              "      <td>2001</td>\n",
              "      <td>8892</td>\n",
              "      <td>8</td>\n",
              "      <td>32.0707</td>\n",
              "      <td>[Adventure, Fantasy, Action]</td>\n",
              "      <td>7.871787</td>\n",
              "    </tr>\n",
              "    <tr>\n",
              "      <th>292</th>\n",
              "      <td>Pulp Fiction</td>\n",
              "      <td>1994</td>\n",
              "      <td>8670</td>\n",
              "      <td>8</td>\n",
              "      <td>140.95</td>\n",
              "      <td>[Thriller, Crime]</td>\n",
              "      <td>7.868660</td>\n",
              "    </tr>\n",
              "    <tr>\n",
              "      <th>314</th>\n",
              "      <td>The Shawshank Redemption</td>\n",
              "      <td>1994</td>\n",
              "      <td>8358</td>\n",
              "      <td>8</td>\n",
              "      <td>51.6454</td>\n",
              "      <td>[Drama, Crime]</td>\n",
              "      <td>7.864000</td>\n",
              "    </tr>\n",
              "    <tr>\n",
              "      <th>7000</th>\n",
              "      <td>The Lord of the Rings: The Return of the King</td>\n",
              "      <td>2003</td>\n",
              "      <td>8226</td>\n",
              "      <td>8</td>\n",
              "      <td>29.3244</td>\n",
              "      <td>[Adventure, Fantasy, Action]</td>\n",
              "      <td>7.861927</td>\n",
              "    </tr>\n",
              "    <tr>\n",
              "      <th>351</th>\n",
              "      <td>Forrest Gump</td>\n",
              "      <td>1994</td>\n",
              "      <td>8147</td>\n",
              "      <td>8</td>\n",
              "      <td>48.3072</td>\n",
              "      <td>[Comedy, Drama, Romance]</td>\n",
              "      <td>7.860656</td>\n",
              "    </tr>\n",
              "    <tr>\n",
              "      <th>5814</th>\n",
              "      <td>The Lord of the Rings: The Two Towers</td>\n",
              "      <td>2002</td>\n",
              "      <td>7641</td>\n",
              "      <td>8</td>\n",
              "      <td>29.4235</td>\n",
              "      <td>[Adventure, Fantasy, Action]</td>\n",
              "      <td>7.851924</td>\n",
              "    </tr>\n",
              "    <tr>\n",
              "      <th>256</th>\n",
              "      <td>Star Wars</td>\n",
              "      <td>1977</td>\n",
              "      <td>6778</td>\n",
              "      <td>8</td>\n",
              "      <td>42.1497</td>\n",
              "      <td>[Adventure, Action, Science Fiction]</td>\n",
              "      <td>7.834205</td>\n",
              "    </tr>\n",
              "    <tr>\n",
              "      <th>1225</th>\n",
              "      <td>Back to the Future</td>\n",
              "      <td>1985</td>\n",
              "      <td>6239</td>\n",
              "      <td>8</td>\n",
              "      <td>25.7785</td>\n",
              "      <td>[Adventure, Comedy, Science Fiction, Family]</td>\n",
              "      <td>7.820813</td>\n",
              "    </tr>\n",
              "    <tr>\n",
              "      <th>834</th>\n",
              "      <td>The Godfather</td>\n",
              "      <td>1972</td>\n",
              "      <td>6024</td>\n",
              "      <td>8</td>\n",
              "      <td>41.1093</td>\n",
              "      <td>[Drama, Crime]</td>\n",
              "      <td>7.814847</td>\n",
              "    </tr>\n",
              "    <tr>\n",
              "      <th>1154</th>\n",
              "      <td>The Empire Strikes Back</td>\n",
              "      <td>1980</td>\n",
              "      <td>5998</td>\n",
              "      <td>8</td>\n",
              "      <td>19.471</td>\n",
              "      <td>[Adventure, Action, Science Fiction]</td>\n",
              "      <td>7.814099</td>\n",
              "    </tr>\n",
              "    <tr>\n",
              "      <th>46</th>\n",
              "      <td>Se7en</td>\n",
              "      <td>1995</td>\n",
              "      <td>5915</td>\n",
              "      <td>8</td>\n",
              "      <td>18.4574</td>\n",
              "      <td>[Crime, Mystery, Thriller]</td>\n",
              "      <td>7.811669</td>\n",
              "    </tr>\n",
              "  </tbody>\n",
              "</table>\n",
              "</div>"
            ],
            "text/plain": [
              "                                                   title  ...        wr\n",
              "15480                                          Inception  ...  7.917588\n",
              "12481                                    The Dark Knight  ...  7.905871\n",
              "22879                                       Interstellar  ...  7.897107\n",
              "2843                                          Fight Club  ...  7.881753\n",
              "4863   The Lord of the Rings: The Fellowship of the Ring  ...  7.871787\n",
              "292                                         Pulp Fiction  ...  7.868660\n",
              "314                             The Shawshank Redemption  ...  7.864000\n",
              "7000       The Lord of the Rings: The Return of the King  ...  7.861927\n",
              "351                                         Forrest Gump  ...  7.860656\n",
              "5814               The Lord of the Rings: The Two Towers  ...  7.851924\n",
              "256                                            Star Wars  ...  7.834205\n",
              "1225                                  Back to the Future  ...  7.820813\n",
              "834                                        The Godfather  ...  7.814847\n",
              "1154                             The Empire Strikes Back  ...  7.814099\n",
              "46                                                 Se7en  ...  7.811669\n",
              "\n",
              "[15 rows x 7 columns]"
            ]
          },
          "metadata": {
            "tags": []
          },
          "execution_count": 12
        }
      ]
    },
    {
      "cell_type": "markdown",
      "metadata": {
        "id": "y1BaA6kwfW9H"
      },
      "source": [
        "### 특정 장르를 위한 함수 생성\n",
        "- 영화의 genre를 하나로 정의시키기"
      ]
    },
    {
      "cell_type": "code",
      "metadata": {
        "colab": {
          "base_uri": "https://localhost:8080/",
          "height": 419
        },
        "id": "l3vpuFLFfrkL",
        "outputId": "bb3c18b2-1c80-4ef5-bd48-fdfd61195792"
      },
      "source": [
        "md.apply(lambda x: pd.Series(x['genres']),axis=1)"
      ],
      "execution_count": 13,
      "outputs": [
        {
          "output_type": "execute_result",
          "data": {
            "text/html": [
              "<div>\n",
              "<style scoped>\n",
              "    .dataframe tbody tr th:only-of-type {\n",
              "        vertical-align: middle;\n",
              "    }\n",
              "\n",
              "    .dataframe tbody tr th {\n",
              "        vertical-align: top;\n",
              "    }\n",
              "\n",
              "    .dataframe thead th {\n",
              "        text-align: right;\n",
              "    }\n",
              "</style>\n",
              "<table border=\"1\" class=\"dataframe\">\n",
              "  <thead>\n",
              "    <tr style=\"text-align: right;\">\n",
              "      <th></th>\n",
              "      <th>0</th>\n",
              "      <th>1</th>\n",
              "      <th>2</th>\n",
              "      <th>3</th>\n",
              "      <th>4</th>\n",
              "      <th>5</th>\n",
              "      <th>6</th>\n",
              "      <th>7</th>\n",
              "    </tr>\n",
              "  </thead>\n",
              "  <tbody>\n",
              "    <tr>\n",
              "      <th>0</th>\n",
              "      <td>Animation</td>\n",
              "      <td>Comedy</td>\n",
              "      <td>Family</td>\n",
              "      <td>NaN</td>\n",
              "      <td>NaN</td>\n",
              "      <td>NaN</td>\n",
              "      <td>NaN</td>\n",
              "      <td>NaN</td>\n",
              "    </tr>\n",
              "    <tr>\n",
              "      <th>1</th>\n",
              "      <td>Adventure</td>\n",
              "      <td>Fantasy</td>\n",
              "      <td>Family</td>\n",
              "      <td>NaN</td>\n",
              "      <td>NaN</td>\n",
              "      <td>NaN</td>\n",
              "      <td>NaN</td>\n",
              "      <td>NaN</td>\n",
              "    </tr>\n",
              "    <tr>\n",
              "      <th>2</th>\n",
              "      <td>Romance</td>\n",
              "      <td>Comedy</td>\n",
              "      <td>NaN</td>\n",
              "      <td>NaN</td>\n",
              "      <td>NaN</td>\n",
              "      <td>NaN</td>\n",
              "      <td>NaN</td>\n",
              "      <td>NaN</td>\n",
              "    </tr>\n",
              "    <tr>\n",
              "      <th>3</th>\n",
              "      <td>Comedy</td>\n",
              "      <td>Drama</td>\n",
              "      <td>Romance</td>\n",
              "      <td>NaN</td>\n",
              "      <td>NaN</td>\n",
              "      <td>NaN</td>\n",
              "      <td>NaN</td>\n",
              "      <td>NaN</td>\n",
              "    </tr>\n",
              "    <tr>\n",
              "      <th>4</th>\n",
              "      <td>Comedy</td>\n",
              "      <td>NaN</td>\n",
              "      <td>NaN</td>\n",
              "      <td>NaN</td>\n",
              "      <td>NaN</td>\n",
              "      <td>NaN</td>\n",
              "      <td>NaN</td>\n",
              "      <td>NaN</td>\n",
              "    </tr>\n",
              "    <tr>\n",
              "      <th>...</th>\n",
              "      <td>...</td>\n",
              "      <td>...</td>\n",
              "      <td>...</td>\n",
              "      <td>...</td>\n",
              "      <td>...</td>\n",
              "      <td>...</td>\n",
              "      <td>...</td>\n",
              "      <td>...</td>\n",
              "    </tr>\n",
              "    <tr>\n",
              "      <th>45461</th>\n",
              "      <td>Drama</td>\n",
              "      <td>Family</td>\n",
              "      <td>NaN</td>\n",
              "      <td>NaN</td>\n",
              "      <td>NaN</td>\n",
              "      <td>NaN</td>\n",
              "      <td>NaN</td>\n",
              "      <td>NaN</td>\n",
              "    </tr>\n",
              "    <tr>\n",
              "      <th>45462</th>\n",
              "      <td>Drama</td>\n",
              "      <td>NaN</td>\n",
              "      <td>NaN</td>\n",
              "      <td>NaN</td>\n",
              "      <td>NaN</td>\n",
              "      <td>NaN</td>\n",
              "      <td>NaN</td>\n",
              "      <td>NaN</td>\n",
              "    </tr>\n",
              "    <tr>\n",
              "      <th>45463</th>\n",
              "      <td>Action</td>\n",
              "      <td>Drama</td>\n",
              "      <td>Thriller</td>\n",
              "      <td>NaN</td>\n",
              "      <td>NaN</td>\n",
              "      <td>NaN</td>\n",
              "      <td>NaN</td>\n",
              "      <td>NaN</td>\n",
              "    </tr>\n",
              "    <tr>\n",
              "      <th>45464</th>\n",
              "      <td>NaN</td>\n",
              "      <td>NaN</td>\n",
              "      <td>NaN</td>\n",
              "      <td>NaN</td>\n",
              "      <td>NaN</td>\n",
              "      <td>NaN</td>\n",
              "      <td>NaN</td>\n",
              "      <td>NaN</td>\n",
              "    </tr>\n",
              "    <tr>\n",
              "      <th>45465</th>\n",
              "      <td>NaN</td>\n",
              "      <td>NaN</td>\n",
              "      <td>NaN</td>\n",
              "      <td>NaN</td>\n",
              "      <td>NaN</td>\n",
              "      <td>NaN</td>\n",
              "      <td>NaN</td>\n",
              "      <td>NaN</td>\n",
              "    </tr>\n",
              "  </tbody>\n",
              "</table>\n",
              "<p>45466 rows × 8 columns</p>\n",
              "</div>"
            ],
            "text/plain": [
              "               0        1         2    3    4    5    6    7\n",
              "0      Animation   Comedy    Family  NaN  NaN  NaN  NaN  NaN\n",
              "1      Adventure  Fantasy    Family  NaN  NaN  NaN  NaN  NaN\n",
              "2        Romance   Comedy       NaN  NaN  NaN  NaN  NaN  NaN\n",
              "3         Comedy    Drama   Romance  NaN  NaN  NaN  NaN  NaN\n",
              "4         Comedy      NaN       NaN  NaN  NaN  NaN  NaN  NaN\n",
              "...          ...      ...       ...  ...  ...  ...  ...  ...\n",
              "45461      Drama   Family       NaN  NaN  NaN  NaN  NaN  NaN\n",
              "45462      Drama      NaN       NaN  NaN  NaN  NaN  NaN  NaN\n",
              "45463     Action    Drama  Thriller  NaN  NaN  NaN  NaN  NaN\n",
              "45464        NaN      NaN       NaN  NaN  NaN  NaN  NaN  NaN\n",
              "45465        NaN      NaN       NaN  NaN  NaN  NaN  NaN  NaN\n",
              "\n",
              "[45466 rows x 8 columns]"
            ]
          },
          "metadata": {
            "tags": []
          },
          "execution_count": 13
        }
      ]
    },
    {
      "cell_type": "code",
      "metadata": {
        "colab": {
          "base_uri": "https://localhost:8080/"
        },
        "id": "plRjZm2OfoGk",
        "outputId": "1a37b82b-181e-4b6f-acdc-0f0df9b8e356"
      },
      "source": [
        "md.apply(lambda x: pd.Series(x['genres']),axis=1).stack().reset_index(level=1, drop=True)"
      ],
      "execution_count": 14,
      "outputs": [
        {
          "output_type": "execute_result",
          "data": {
            "text/plain": [
              "0        Animation\n",
              "0           Comedy\n",
              "0           Family\n",
              "1        Adventure\n",
              "1          Fantasy\n",
              "           ...    \n",
              "45461       Family\n",
              "45462        Drama\n",
              "45463       Action\n",
              "45463        Drama\n",
              "45463     Thriller\n",
              "Length: 91106, dtype: object"
            ]
          },
          "metadata": {
            "tags": []
          },
          "execution_count": 14
        }
      ]
    },
    {
      "cell_type": "code",
      "metadata": {
        "id": "Gh2crB2UXlwM"
      },
      "source": [
        "s = md.apply(lambda x: pd.Series(x['genres']),axis=1).stack().reset_index(level=1, drop=True)\n",
        "s.name = 'genre'\n",
        "gen_md = md.drop('genres', axis=1).join(s)"
      ],
      "execution_count": 15,
      "outputs": []
    },
    {
      "cell_type": "code",
      "metadata": {
        "colab": {
          "base_uri": "https://localhost:8080/",
          "height": 916
        },
        "id": "D1IV533MYTWj",
        "outputId": "613aa3f3-c792-434c-c531-1e0ba4a20801"
      },
      "source": [
        "gen_md"
      ],
      "execution_count": 16,
      "outputs": [
        {
          "output_type": "execute_result",
          "data": {
            "text/html": [
              "<div>\n",
              "<style scoped>\n",
              "    .dataframe tbody tr th:only-of-type {\n",
              "        vertical-align: middle;\n",
              "    }\n",
              "\n",
              "    .dataframe tbody tr th {\n",
              "        vertical-align: top;\n",
              "    }\n",
              "\n",
              "    .dataframe thead th {\n",
              "        text-align: right;\n",
              "    }\n",
              "</style>\n",
              "<table border=\"1\" class=\"dataframe\">\n",
              "  <thead>\n",
              "    <tr style=\"text-align: right;\">\n",
              "      <th></th>\n",
              "      <th>adult</th>\n",
              "      <th>belongs_to_collection</th>\n",
              "      <th>budget</th>\n",
              "      <th>homepage</th>\n",
              "      <th>id</th>\n",
              "      <th>imdb_id</th>\n",
              "      <th>original_language</th>\n",
              "      <th>original_title</th>\n",
              "      <th>overview</th>\n",
              "      <th>popularity</th>\n",
              "      <th>poster_path</th>\n",
              "      <th>production_companies</th>\n",
              "      <th>production_countries</th>\n",
              "      <th>release_date</th>\n",
              "      <th>revenue</th>\n",
              "      <th>runtime</th>\n",
              "      <th>spoken_languages</th>\n",
              "      <th>status</th>\n",
              "      <th>tagline</th>\n",
              "      <th>title</th>\n",
              "      <th>video</th>\n",
              "      <th>vote_average</th>\n",
              "      <th>vote_count</th>\n",
              "      <th>year</th>\n",
              "      <th>genre</th>\n",
              "    </tr>\n",
              "  </thead>\n",
              "  <tbody>\n",
              "    <tr>\n",
              "      <th>0</th>\n",
              "      <td>False</td>\n",
              "      <td>{'id': 10194, 'name': 'Toy Story Collection', ...</td>\n",
              "      <td>30000000</td>\n",
              "      <td>http://toystory.disney.com/toy-story</td>\n",
              "      <td>862</td>\n",
              "      <td>tt0114709</td>\n",
              "      <td>en</td>\n",
              "      <td>Toy Story</td>\n",
              "      <td>Led by Woody, Andy's toys live happily in his ...</td>\n",
              "      <td>21.9469</td>\n",
              "      <td>/rhIRbceoE9lR4veEXuwCC2wARtG.jpg</td>\n",
              "      <td>[{'name': 'Pixar Animation Studios', 'id': 3}]</td>\n",
              "      <td>[{'iso_3166_1': 'US', 'name': 'United States o...</td>\n",
              "      <td>1995-10-30</td>\n",
              "      <td>373554033.0</td>\n",
              "      <td>81.0</td>\n",
              "      <td>[{'iso_639_1': 'en', 'name': 'English'}]</td>\n",
              "      <td>Released</td>\n",
              "      <td>NaN</td>\n",
              "      <td>Toy Story</td>\n",
              "      <td>False</td>\n",
              "      <td>7.7</td>\n",
              "      <td>5415.0</td>\n",
              "      <td>1995</td>\n",
              "      <td>Animation</td>\n",
              "    </tr>\n",
              "    <tr>\n",
              "      <th>0</th>\n",
              "      <td>False</td>\n",
              "      <td>{'id': 10194, 'name': 'Toy Story Collection', ...</td>\n",
              "      <td>30000000</td>\n",
              "      <td>http://toystory.disney.com/toy-story</td>\n",
              "      <td>862</td>\n",
              "      <td>tt0114709</td>\n",
              "      <td>en</td>\n",
              "      <td>Toy Story</td>\n",
              "      <td>Led by Woody, Andy's toys live happily in his ...</td>\n",
              "      <td>21.9469</td>\n",
              "      <td>/rhIRbceoE9lR4veEXuwCC2wARtG.jpg</td>\n",
              "      <td>[{'name': 'Pixar Animation Studios', 'id': 3}]</td>\n",
              "      <td>[{'iso_3166_1': 'US', 'name': 'United States o...</td>\n",
              "      <td>1995-10-30</td>\n",
              "      <td>373554033.0</td>\n",
              "      <td>81.0</td>\n",
              "      <td>[{'iso_639_1': 'en', 'name': 'English'}]</td>\n",
              "      <td>Released</td>\n",
              "      <td>NaN</td>\n",
              "      <td>Toy Story</td>\n",
              "      <td>False</td>\n",
              "      <td>7.7</td>\n",
              "      <td>5415.0</td>\n",
              "      <td>1995</td>\n",
              "      <td>Comedy</td>\n",
              "    </tr>\n",
              "    <tr>\n",
              "      <th>0</th>\n",
              "      <td>False</td>\n",
              "      <td>{'id': 10194, 'name': 'Toy Story Collection', ...</td>\n",
              "      <td>30000000</td>\n",
              "      <td>http://toystory.disney.com/toy-story</td>\n",
              "      <td>862</td>\n",
              "      <td>tt0114709</td>\n",
              "      <td>en</td>\n",
              "      <td>Toy Story</td>\n",
              "      <td>Led by Woody, Andy's toys live happily in his ...</td>\n",
              "      <td>21.9469</td>\n",
              "      <td>/rhIRbceoE9lR4veEXuwCC2wARtG.jpg</td>\n",
              "      <td>[{'name': 'Pixar Animation Studios', 'id': 3}]</td>\n",
              "      <td>[{'iso_3166_1': 'US', 'name': 'United States o...</td>\n",
              "      <td>1995-10-30</td>\n",
              "      <td>373554033.0</td>\n",
              "      <td>81.0</td>\n",
              "      <td>[{'iso_639_1': 'en', 'name': 'English'}]</td>\n",
              "      <td>Released</td>\n",
              "      <td>NaN</td>\n",
              "      <td>Toy Story</td>\n",
              "      <td>False</td>\n",
              "      <td>7.7</td>\n",
              "      <td>5415.0</td>\n",
              "      <td>1995</td>\n",
              "      <td>Family</td>\n",
              "    </tr>\n",
              "    <tr>\n",
              "      <th>1</th>\n",
              "      <td>False</td>\n",
              "      <td>NaN</td>\n",
              "      <td>65000000</td>\n",
              "      <td>NaN</td>\n",
              "      <td>8844</td>\n",
              "      <td>tt0113497</td>\n",
              "      <td>en</td>\n",
              "      <td>Jumanji</td>\n",
              "      <td>When siblings Judy and Peter discover an encha...</td>\n",
              "      <td>17.0155</td>\n",
              "      <td>/vzmL6fP7aPKNKPRTFnZmiUfciyV.jpg</td>\n",
              "      <td>[{'name': 'TriStar Pictures', 'id': 559}, {'na...</td>\n",
              "      <td>[{'iso_3166_1': 'US', 'name': 'United States o...</td>\n",
              "      <td>1995-12-15</td>\n",
              "      <td>262797249.0</td>\n",
              "      <td>104.0</td>\n",
              "      <td>[{'iso_639_1': 'en', 'name': 'English'}, {'iso...</td>\n",
              "      <td>Released</td>\n",
              "      <td>Roll the dice and unleash the excitement!</td>\n",
              "      <td>Jumanji</td>\n",
              "      <td>False</td>\n",
              "      <td>6.9</td>\n",
              "      <td>2413.0</td>\n",
              "      <td>1995</td>\n",
              "      <td>Adventure</td>\n",
              "    </tr>\n",
              "    <tr>\n",
              "      <th>1</th>\n",
              "      <td>False</td>\n",
              "      <td>NaN</td>\n",
              "      <td>65000000</td>\n",
              "      <td>NaN</td>\n",
              "      <td>8844</td>\n",
              "      <td>tt0113497</td>\n",
              "      <td>en</td>\n",
              "      <td>Jumanji</td>\n",
              "      <td>When siblings Judy and Peter discover an encha...</td>\n",
              "      <td>17.0155</td>\n",
              "      <td>/vzmL6fP7aPKNKPRTFnZmiUfciyV.jpg</td>\n",
              "      <td>[{'name': 'TriStar Pictures', 'id': 559}, {'na...</td>\n",
              "      <td>[{'iso_3166_1': 'US', 'name': 'United States o...</td>\n",
              "      <td>1995-12-15</td>\n",
              "      <td>262797249.0</td>\n",
              "      <td>104.0</td>\n",
              "      <td>[{'iso_639_1': 'en', 'name': 'English'}, {'iso...</td>\n",
              "      <td>Released</td>\n",
              "      <td>Roll the dice and unleash the excitement!</td>\n",
              "      <td>Jumanji</td>\n",
              "      <td>False</td>\n",
              "      <td>6.9</td>\n",
              "      <td>2413.0</td>\n",
              "      <td>1995</td>\n",
              "      <td>Fantasy</td>\n",
              "    </tr>\n",
              "    <tr>\n",
              "      <th>...</th>\n",
              "      <td>...</td>\n",
              "      <td>...</td>\n",
              "      <td>...</td>\n",
              "      <td>...</td>\n",
              "      <td>...</td>\n",
              "      <td>...</td>\n",
              "      <td>...</td>\n",
              "      <td>...</td>\n",
              "      <td>...</td>\n",
              "      <td>...</td>\n",
              "      <td>...</td>\n",
              "      <td>...</td>\n",
              "      <td>...</td>\n",
              "      <td>...</td>\n",
              "      <td>...</td>\n",
              "      <td>...</td>\n",
              "      <td>...</td>\n",
              "      <td>...</td>\n",
              "      <td>...</td>\n",
              "      <td>...</td>\n",
              "      <td>...</td>\n",
              "      <td>...</td>\n",
              "      <td>...</td>\n",
              "      <td>...</td>\n",
              "      <td>...</td>\n",
              "    </tr>\n",
              "    <tr>\n",
              "      <th>45463</th>\n",
              "      <td>False</td>\n",
              "      <td>NaN</td>\n",
              "      <td>0</td>\n",
              "      <td>NaN</td>\n",
              "      <td>67758</td>\n",
              "      <td>tt0303758</td>\n",
              "      <td>en</td>\n",
              "      <td>Betrayal</td>\n",
              "      <td>When one of her hits goes wrong, a professiona...</td>\n",
              "      <td>0.903007</td>\n",
              "      <td>/d5bX92nDsISNhu3ZT69uHwmfCGw.jpg</td>\n",
              "      <td>[{'name': 'American World Pictures', 'id': 6165}]</td>\n",
              "      <td>[{'iso_3166_1': 'US', 'name': 'United States o...</td>\n",
              "      <td>2003-08-01</td>\n",
              "      <td>0.0</td>\n",
              "      <td>90.0</td>\n",
              "      <td>[{'iso_639_1': 'en', 'name': 'English'}]</td>\n",
              "      <td>Released</td>\n",
              "      <td>A deadly game of wits.</td>\n",
              "      <td>Betrayal</td>\n",
              "      <td>False</td>\n",
              "      <td>3.8</td>\n",
              "      <td>6.0</td>\n",
              "      <td>2003</td>\n",
              "      <td>Action</td>\n",
              "    </tr>\n",
              "    <tr>\n",
              "      <th>45463</th>\n",
              "      <td>False</td>\n",
              "      <td>NaN</td>\n",
              "      <td>0</td>\n",
              "      <td>NaN</td>\n",
              "      <td>67758</td>\n",
              "      <td>tt0303758</td>\n",
              "      <td>en</td>\n",
              "      <td>Betrayal</td>\n",
              "      <td>When one of her hits goes wrong, a professiona...</td>\n",
              "      <td>0.903007</td>\n",
              "      <td>/d5bX92nDsISNhu3ZT69uHwmfCGw.jpg</td>\n",
              "      <td>[{'name': 'American World Pictures', 'id': 6165}]</td>\n",
              "      <td>[{'iso_3166_1': 'US', 'name': 'United States o...</td>\n",
              "      <td>2003-08-01</td>\n",
              "      <td>0.0</td>\n",
              "      <td>90.0</td>\n",
              "      <td>[{'iso_639_1': 'en', 'name': 'English'}]</td>\n",
              "      <td>Released</td>\n",
              "      <td>A deadly game of wits.</td>\n",
              "      <td>Betrayal</td>\n",
              "      <td>False</td>\n",
              "      <td>3.8</td>\n",
              "      <td>6.0</td>\n",
              "      <td>2003</td>\n",
              "      <td>Drama</td>\n",
              "    </tr>\n",
              "    <tr>\n",
              "      <th>45463</th>\n",
              "      <td>False</td>\n",
              "      <td>NaN</td>\n",
              "      <td>0</td>\n",
              "      <td>NaN</td>\n",
              "      <td>67758</td>\n",
              "      <td>tt0303758</td>\n",
              "      <td>en</td>\n",
              "      <td>Betrayal</td>\n",
              "      <td>When one of her hits goes wrong, a professiona...</td>\n",
              "      <td>0.903007</td>\n",
              "      <td>/d5bX92nDsISNhu3ZT69uHwmfCGw.jpg</td>\n",
              "      <td>[{'name': 'American World Pictures', 'id': 6165}]</td>\n",
              "      <td>[{'iso_3166_1': 'US', 'name': 'United States o...</td>\n",
              "      <td>2003-08-01</td>\n",
              "      <td>0.0</td>\n",
              "      <td>90.0</td>\n",
              "      <td>[{'iso_639_1': 'en', 'name': 'English'}]</td>\n",
              "      <td>Released</td>\n",
              "      <td>A deadly game of wits.</td>\n",
              "      <td>Betrayal</td>\n",
              "      <td>False</td>\n",
              "      <td>3.8</td>\n",
              "      <td>6.0</td>\n",
              "      <td>2003</td>\n",
              "      <td>Thriller</td>\n",
              "    </tr>\n",
              "    <tr>\n",
              "      <th>45464</th>\n",
              "      <td>False</td>\n",
              "      <td>NaN</td>\n",
              "      <td>0</td>\n",
              "      <td>NaN</td>\n",
              "      <td>227506</td>\n",
              "      <td>tt0008536</td>\n",
              "      <td>en</td>\n",
              "      <td>Satana likuyushchiy</td>\n",
              "      <td>In a small town live two brothers, one a minis...</td>\n",
              "      <td>0.003503</td>\n",
              "      <td>/aorBPO7ak8e8iJKT5OcqYxU3jlK.jpg</td>\n",
              "      <td>[{'name': 'Yermoliev', 'id': 88753}]</td>\n",
              "      <td>[{'iso_3166_1': 'RU', 'name': 'Russia'}]</td>\n",
              "      <td>1917-10-21</td>\n",
              "      <td>0.0</td>\n",
              "      <td>87.0</td>\n",
              "      <td>[]</td>\n",
              "      <td>Released</td>\n",
              "      <td>NaN</td>\n",
              "      <td>Satan Triumphant</td>\n",
              "      <td>False</td>\n",
              "      <td>0.0</td>\n",
              "      <td>0.0</td>\n",
              "      <td>1917</td>\n",
              "      <td>NaN</td>\n",
              "    </tr>\n",
              "    <tr>\n",
              "      <th>45465</th>\n",
              "      <td>False</td>\n",
              "      <td>NaN</td>\n",
              "      <td>0</td>\n",
              "      <td>NaN</td>\n",
              "      <td>461257</td>\n",
              "      <td>tt6980792</td>\n",
              "      <td>en</td>\n",
              "      <td>Queerama</td>\n",
              "      <td>50 years after decriminalisation of homosexual...</td>\n",
              "      <td>0.163015</td>\n",
              "      <td>/s5UkZt6NTsrS7ZF0Rh8nzupRlIU.jpg</td>\n",
              "      <td>[]</td>\n",
              "      <td>[{'iso_3166_1': 'GB', 'name': 'United Kingdom'}]</td>\n",
              "      <td>2017-06-09</td>\n",
              "      <td>0.0</td>\n",
              "      <td>75.0</td>\n",
              "      <td>[{'iso_639_1': 'en', 'name': 'English'}]</td>\n",
              "      <td>Released</td>\n",
              "      <td>NaN</td>\n",
              "      <td>Queerama</td>\n",
              "      <td>False</td>\n",
              "      <td>0.0</td>\n",
              "      <td>0.0</td>\n",
              "      <td>2017</td>\n",
              "      <td>NaN</td>\n",
              "    </tr>\n",
              "  </tbody>\n",
              "</table>\n",
              "<p>93548 rows × 25 columns</p>\n",
              "</div>"
            ],
            "text/plain": [
              "       adult  ...      genre\n",
              "0      False  ...  Animation\n",
              "0      False  ...     Comedy\n",
              "0      False  ...     Family\n",
              "1      False  ...  Adventure\n",
              "1      False  ...    Fantasy\n",
              "...      ...  ...        ...\n",
              "45463  False  ...     Action\n",
              "45463  False  ...      Drama\n",
              "45463  False  ...   Thriller\n",
              "45464  False  ...        NaN\n",
              "45465  False  ...        NaN\n",
              "\n",
              "[93548 rows x 25 columns]"
            ]
          },
          "metadata": {
            "tags": []
          },
          "execution_count": 16
        }
      ]
    },
    {
      "cell_type": "markdown",
      "metadata": {
        "id": "sqnM_UGrgKL8"
      },
      "source": [
        "vote_count는 95%가 아닌 85%만 가져오기"
      ]
    },
    {
      "cell_type": "code",
      "metadata": {
        "id": "_3FdQaXCY0FL"
      },
      "source": [
        "def build_chart(genre, percentile=0.85):\n",
        "    df = gen_md[gen_md['genre'] == genre]\n",
        "    vote_counts = df[df['vote_count'].notnull()]['vote_count'].astype('int')\n",
        "    vote_averages = df[df['vote_average'].notnull()]['vote_average'].astype('int')\n",
        "    C = vote_averages.mean()\n",
        "    m = vote_counts.quantile(percentile)\n",
        "    \n",
        "    qualified = df[(df['vote_count'] >= m) & (df['vote_count'].notnull()) & (df['vote_average'].notnull())][['title', 'year', 'vote_count', 'vote_average', 'popularity']]\n",
        "    qualified['vote_count'] = qualified['vote_count'].astype('int')\n",
        "    qualified['vote_average'] = qualified['vote_average'].astype('int')\n",
        "    \n",
        "    qualified['wr'] = qualified.apply(lambda x: (x['vote_count']/(x['vote_count']+m) * x['vote_average']) + (m/(m+x['vote_count']) * C), axis=1)\n",
        "    qualified = qualified.sort_values('wr', ascending=False).head(250)\n",
        "    \n",
        "    return qualified"
      ],
      "execution_count": 17,
      "outputs": []
    },
    {
      "cell_type": "markdown",
      "metadata": {
        "id": "tBEQPGgqgeRw"
      },
      "source": [
        "### Top Romance Movies"
      ]
    },
    {
      "cell_type": "code",
      "metadata": {
        "colab": {
          "base_uri": "https://localhost:8080/",
          "height": 514
        },
        "id": "oatEpR9fY10H",
        "outputId": "ac2e7447-af96-49d7-bd34-9b1ffe6a045b"
      },
      "source": [
        "build_chart('Romance').head(15)"
      ],
      "execution_count": 18,
      "outputs": [
        {
          "output_type": "execute_result",
          "data": {
            "text/html": [
              "<div>\n",
              "<style scoped>\n",
              "    .dataframe tbody tr th:only-of-type {\n",
              "        vertical-align: middle;\n",
              "    }\n",
              "\n",
              "    .dataframe tbody tr th {\n",
              "        vertical-align: top;\n",
              "    }\n",
              "\n",
              "    .dataframe thead th {\n",
              "        text-align: right;\n",
              "    }\n",
              "</style>\n",
              "<table border=\"1\" class=\"dataframe\">\n",
              "  <thead>\n",
              "    <tr style=\"text-align: right;\">\n",
              "      <th></th>\n",
              "      <th>title</th>\n",
              "      <th>year</th>\n",
              "      <th>vote_count</th>\n",
              "      <th>vote_average</th>\n",
              "      <th>popularity</th>\n",
              "      <th>wr</th>\n",
              "    </tr>\n",
              "  </thead>\n",
              "  <tbody>\n",
              "    <tr>\n",
              "      <th>10309</th>\n",
              "      <td>Dilwale Dulhania Le Jayenge</td>\n",
              "      <td>1995</td>\n",
              "      <td>661</td>\n",
              "      <td>9</td>\n",
              "      <td>34.457</td>\n",
              "      <td>8.565285</td>\n",
              "    </tr>\n",
              "    <tr>\n",
              "      <th>351</th>\n",
              "      <td>Forrest Gump</td>\n",
              "      <td>1994</td>\n",
              "      <td>8147</td>\n",
              "      <td>8</td>\n",
              "      <td>48.3072</td>\n",
              "      <td>7.971357</td>\n",
              "    </tr>\n",
              "    <tr>\n",
              "      <th>876</th>\n",
              "      <td>Vertigo</td>\n",
              "      <td>1958</td>\n",
              "      <td>1162</td>\n",
              "      <td>8</td>\n",
              "      <td>18.2082</td>\n",
              "      <td>7.811667</td>\n",
              "    </tr>\n",
              "    <tr>\n",
              "      <th>40251</th>\n",
              "      <td>Your Name.</td>\n",
              "      <td>2016</td>\n",
              "      <td>1030</td>\n",
              "      <td>8</td>\n",
              "      <td>34.461252</td>\n",
              "      <td>7.789489</td>\n",
              "    </tr>\n",
              "    <tr>\n",
              "      <th>883</th>\n",
              "      <td>Some Like It Hot</td>\n",
              "      <td>1959</td>\n",
              "      <td>835</td>\n",
              "      <td>8</td>\n",
              "      <td>11.8451</td>\n",
              "      <td>7.745154</td>\n",
              "    </tr>\n",
              "    <tr>\n",
              "      <th>1132</th>\n",
              "      <td>Cinema Paradiso</td>\n",
              "      <td>1988</td>\n",
              "      <td>834</td>\n",
              "      <td>8</td>\n",
              "      <td>14.177</td>\n",
              "      <td>7.744878</td>\n",
              "    </tr>\n",
              "    <tr>\n",
              "      <th>19901</th>\n",
              "      <td>Paperman</td>\n",
              "      <td>2012</td>\n",
              "      <td>734</td>\n",
              "      <td>8</td>\n",
              "      <td>7.19863</td>\n",
              "      <td>7.713951</td>\n",
              "    </tr>\n",
              "    <tr>\n",
              "      <th>37863</th>\n",
              "      <td>Sing Street</td>\n",
              "      <td>2016</td>\n",
              "      <td>669</td>\n",
              "      <td>8</td>\n",
              "      <td>10.672862</td>\n",
              "      <td>7.689483</td>\n",
              "    </tr>\n",
              "    <tr>\n",
              "      <th>882</th>\n",
              "      <td>The Apartment</td>\n",
              "      <td>1960</td>\n",
              "      <td>498</td>\n",
              "      <td>8</td>\n",
              "      <td>11.9943</td>\n",
              "      <td>7.599317</td>\n",
              "    </tr>\n",
              "    <tr>\n",
              "      <th>38718</th>\n",
              "      <td>The Handmaiden</td>\n",
              "      <td>2016</td>\n",
              "      <td>453</td>\n",
              "      <td>8</td>\n",
              "      <td>16.727405</td>\n",
              "      <td>7.566166</td>\n",
              "    </tr>\n",
              "    <tr>\n",
              "      <th>3189</th>\n",
              "      <td>City Lights</td>\n",
              "      <td>1931</td>\n",
              "      <td>444</td>\n",
              "      <td>8</td>\n",
              "      <td>10.8915</td>\n",
              "      <td>7.558867</td>\n",
              "    </tr>\n",
              "    <tr>\n",
              "      <th>24886</th>\n",
              "      <td>The Way He Looks</td>\n",
              "      <td>2014</td>\n",
              "      <td>262</td>\n",
              "      <td>8</td>\n",
              "      <td>5.71127</td>\n",
              "      <td>7.331363</td>\n",
              "    </tr>\n",
              "    <tr>\n",
              "      <th>45437</th>\n",
              "      <td>In a Heartbeat</td>\n",
              "      <td>2017</td>\n",
              "      <td>146</td>\n",
              "      <td>8</td>\n",
              "      <td>20.82178</td>\n",
              "      <td>7.003959</td>\n",
              "    </tr>\n",
              "    <tr>\n",
              "      <th>1639</th>\n",
              "      <td>Titanic</td>\n",
              "      <td>1997</td>\n",
              "      <td>7770</td>\n",
              "      <td>7</td>\n",
              "      <td>26.8891</td>\n",
              "      <td>6.981546</td>\n",
              "    </tr>\n",
              "    <tr>\n",
              "      <th>19731</th>\n",
              "      <td>Silver Linings Playbook</td>\n",
              "      <td>2012</td>\n",
              "      <td>4840</td>\n",
              "      <td>7</td>\n",
              "      <td>14.4881</td>\n",
              "      <td>6.970581</td>\n",
              "    </tr>\n",
              "  </tbody>\n",
              "</table>\n",
              "</div>"
            ],
            "text/plain": [
              "                             title  year  ...  popularity        wr\n",
              "10309  Dilwale Dulhania Le Jayenge  1995  ...      34.457  8.565285\n",
              "351                   Forrest Gump  1994  ...     48.3072  7.971357\n",
              "876                        Vertigo  1958  ...     18.2082  7.811667\n",
              "40251                   Your Name.  2016  ...   34.461252  7.789489\n",
              "883               Some Like It Hot  1959  ...     11.8451  7.745154\n",
              "1132               Cinema Paradiso  1988  ...      14.177  7.744878\n",
              "19901                     Paperman  2012  ...     7.19863  7.713951\n",
              "37863                  Sing Street  2016  ...   10.672862  7.689483\n",
              "882                  The Apartment  1960  ...     11.9943  7.599317\n",
              "38718               The Handmaiden  2016  ...   16.727405  7.566166\n",
              "3189                   City Lights  1931  ...     10.8915  7.558867\n",
              "24886             The Way He Looks  2014  ...     5.71127  7.331363\n",
              "45437               In a Heartbeat  2017  ...    20.82178  7.003959\n",
              "1639                       Titanic  1997  ...     26.8891  6.981546\n",
              "19731      Silver Linings Playbook  2012  ...     14.4881  6.970581\n",
              "\n",
              "[15 rows x 6 columns]"
            ]
          },
          "metadata": {
            "tags": []
          },
          "execution_count": 18
        }
      ]
    },
    {
      "cell_type": "markdown",
      "metadata": {
        "id": "pR8MjrghgoGT"
      },
      "source": [
        "### 위와 같은 추천 시스템이 갖는 한계\n",
        "- 개인화된 추천이 불가능함(모두에게 갖은 영화를 추천)  \n",
        "- 다른 유저의 정보가 사용되지 않는다\n",
        "\n",
        "- 특정 매트릭스에 기반하여 영화 간의 연관성(similarity)를 계산하고 유저가 좋아하는 특정 영화와 가장 유사한 영화를 추천할 예정\n",
        " \n",
        " \n"
      ]
    },
    {
      "cell_type": "markdown",
      "metadata": {
        "id": "Y1o_87rMh2Rl"
      },
      "source": [
        "### Content Based Filtering이라고 알려진 엔진을 구현하기 위해 movie metadata를 사용\n",
        "**유저가 관심있는 아이템의 속성을 분석하여** 새로운 아이템을 추천해주는!!\n",
        "\n",
        "[based on] \n",
        "- Movie Overviews and Taglines\n",
        "- Movie Cast, Crew, Keywords and Genre"
      ]
    },
    {
      "cell_type": "code",
      "metadata": {
        "colab": {
          "base_uri": "https://localhost:8080/",
          "height": 419
        },
        "id": "sAjsnUM9iWOY",
        "outputId": "d06224ba-dfc1-4ec8-e57f-be5b2cf634b1"
      },
      "source": [
        "pd.read_csv('/content/drive/MyDrive/dataset/movies_metadata.csv/links_small.csv')"
      ],
      "execution_count": 19,
      "outputs": [
        {
          "output_type": "execute_result",
          "data": {
            "text/html": [
              "<div>\n",
              "<style scoped>\n",
              "    .dataframe tbody tr th:only-of-type {\n",
              "        vertical-align: middle;\n",
              "    }\n",
              "\n",
              "    .dataframe tbody tr th {\n",
              "        vertical-align: top;\n",
              "    }\n",
              "\n",
              "    .dataframe thead th {\n",
              "        text-align: right;\n",
              "    }\n",
              "</style>\n",
              "<table border=\"1\" class=\"dataframe\">\n",
              "  <thead>\n",
              "    <tr style=\"text-align: right;\">\n",
              "      <th></th>\n",
              "      <th>movieId</th>\n",
              "      <th>imdbId</th>\n",
              "      <th>tmdbId</th>\n",
              "    </tr>\n",
              "  </thead>\n",
              "  <tbody>\n",
              "    <tr>\n",
              "      <th>0</th>\n",
              "      <td>1</td>\n",
              "      <td>114709</td>\n",
              "      <td>862.0</td>\n",
              "    </tr>\n",
              "    <tr>\n",
              "      <th>1</th>\n",
              "      <td>2</td>\n",
              "      <td>113497</td>\n",
              "      <td>8844.0</td>\n",
              "    </tr>\n",
              "    <tr>\n",
              "      <th>2</th>\n",
              "      <td>3</td>\n",
              "      <td>113228</td>\n",
              "      <td>15602.0</td>\n",
              "    </tr>\n",
              "    <tr>\n",
              "      <th>3</th>\n",
              "      <td>4</td>\n",
              "      <td>114885</td>\n",
              "      <td>31357.0</td>\n",
              "    </tr>\n",
              "    <tr>\n",
              "      <th>4</th>\n",
              "      <td>5</td>\n",
              "      <td>113041</td>\n",
              "      <td>11862.0</td>\n",
              "    </tr>\n",
              "    <tr>\n",
              "      <th>...</th>\n",
              "      <td>...</td>\n",
              "      <td>...</td>\n",
              "      <td>...</td>\n",
              "    </tr>\n",
              "    <tr>\n",
              "      <th>9120</th>\n",
              "      <td>162672</td>\n",
              "      <td>3859980</td>\n",
              "      <td>402672.0</td>\n",
              "    </tr>\n",
              "    <tr>\n",
              "      <th>9121</th>\n",
              "      <td>163056</td>\n",
              "      <td>4262980</td>\n",
              "      <td>315011.0</td>\n",
              "    </tr>\n",
              "    <tr>\n",
              "      <th>9122</th>\n",
              "      <td>163949</td>\n",
              "      <td>2531318</td>\n",
              "      <td>391698.0</td>\n",
              "    </tr>\n",
              "    <tr>\n",
              "      <th>9123</th>\n",
              "      <td>164977</td>\n",
              "      <td>27660</td>\n",
              "      <td>137608.0</td>\n",
              "    </tr>\n",
              "    <tr>\n",
              "      <th>9124</th>\n",
              "      <td>164979</td>\n",
              "      <td>3447228</td>\n",
              "      <td>410803.0</td>\n",
              "    </tr>\n",
              "  </tbody>\n",
              "</table>\n",
              "<p>9125 rows × 3 columns</p>\n",
              "</div>"
            ],
            "text/plain": [
              "      movieId   imdbId    tmdbId\n",
              "0           1   114709     862.0\n",
              "1           2   113497    8844.0\n",
              "2           3   113228   15602.0\n",
              "3           4   114885   31357.0\n",
              "4           5   113041   11862.0\n",
              "...       ...      ...       ...\n",
              "9120   162672  3859980  402672.0\n",
              "9121   163056  4262980  315011.0\n",
              "9122   163949  2531318  391698.0\n",
              "9123   164977    27660  137608.0\n",
              "9124   164979  3447228  410803.0\n",
              "\n",
              "[9125 rows x 3 columns]"
            ]
          },
          "metadata": {
            "tags": []
          },
          "execution_count": 19
        }
      ]
    },
    {
      "cell_type": "code",
      "metadata": {
        "colab": {
          "base_uri": "https://localhost:8080/"
        },
        "id": "1PQJ4xV_bDuz",
        "outputId": "a6f2965f-7c4b-44d1-ee72-2bfcd279acdc"
      },
      "source": [
        "links_small = pd.read_csv('/content/drive/MyDrive/dataset/movies_metadata.csv/links_small.csv')\n",
        "links_small = links_small[links_small['tmdbId'].notnull()]['tmdbId'].astype('int')\n",
        "links_small"
      ],
      "execution_count": 20,
      "outputs": [
        {
          "output_type": "execute_result",
          "data": {
            "text/plain": [
              "0          862\n",
              "1         8844\n",
              "2        15602\n",
              "3        31357\n",
              "4        11862\n",
              "         ...  \n",
              "9120    402672\n",
              "9121    315011\n",
              "9122    391698\n",
              "9123    137608\n",
              "9124    410803\n",
              "Name: tmdbId, Length: 9112, dtype: int64"
            ]
          },
          "metadata": {
            "tags": []
          },
          "execution_count": 20
        }
      ]
    },
    {
      "cell_type": "code",
      "metadata": {
        "colab": {
          "base_uri": "https://localhost:8080/",
          "height": 372
        },
        "id": "U8nb55wdi0Dc",
        "outputId": "f6245f86-dd36-43e6-aa60-1e5b6cf690e0"
      },
      "source": [
        "#object => int\n",
        "md['id'] = md['id'].astype('int')"
      ],
      "execution_count": 21,
      "outputs": [
        {
          "output_type": "error",
          "ename": "ValueError",
          "evalue": "ignored",
          "traceback": [
            "\u001b[0;31m---------------------------------------------------------------------------\u001b[0m",
            "\u001b[0;31mValueError\u001b[0m                                Traceback (most recent call last)",
            "\u001b[0;32m<ipython-input-21-f3b557ad9a80>\u001b[0m in \u001b[0;36m<module>\u001b[0;34m()\u001b[0m\n\u001b[1;32m      1\u001b[0m \u001b[0;31m#object => int\u001b[0m\u001b[0;34m\u001b[0m\u001b[0;34m\u001b[0m\u001b[0;34m\u001b[0m\u001b[0m\n\u001b[0;32m----> 2\u001b[0;31m \u001b[0mmd\u001b[0m\u001b[0;34m[\u001b[0m\u001b[0;34m'id'\u001b[0m\u001b[0;34m]\u001b[0m \u001b[0;34m=\u001b[0m \u001b[0mmd\u001b[0m\u001b[0;34m[\u001b[0m\u001b[0;34m'id'\u001b[0m\u001b[0;34m]\u001b[0m\u001b[0;34m.\u001b[0m\u001b[0mastype\u001b[0m\u001b[0;34m(\u001b[0m\u001b[0;34m'int'\u001b[0m\u001b[0;34m)\u001b[0m\u001b[0;34m\u001b[0m\u001b[0;34m\u001b[0m\u001b[0m\n\u001b[0m",
            "\u001b[0;32m/usr/local/lib/python3.7/dist-packages/pandas/core/generic.py\u001b[0m in \u001b[0;36mastype\u001b[0;34m(self, dtype, copy, errors)\u001b[0m\n\u001b[1;32m   5546\u001b[0m         \u001b[0;32melse\u001b[0m\u001b[0;34m:\u001b[0m\u001b[0;34m\u001b[0m\u001b[0;34m\u001b[0m\u001b[0m\n\u001b[1;32m   5547\u001b[0m             \u001b[0;31m# else, only a single dtype is given\u001b[0m\u001b[0;34m\u001b[0m\u001b[0;34m\u001b[0m\u001b[0;34m\u001b[0m\u001b[0m\n\u001b[0;32m-> 5548\u001b[0;31m             \u001b[0mnew_data\u001b[0m \u001b[0;34m=\u001b[0m \u001b[0mself\u001b[0m\u001b[0;34m.\u001b[0m\u001b[0m_mgr\u001b[0m\u001b[0;34m.\u001b[0m\u001b[0mastype\u001b[0m\u001b[0;34m(\u001b[0m\u001b[0mdtype\u001b[0m\u001b[0;34m=\u001b[0m\u001b[0mdtype\u001b[0m\u001b[0;34m,\u001b[0m \u001b[0mcopy\u001b[0m\u001b[0;34m=\u001b[0m\u001b[0mcopy\u001b[0m\u001b[0;34m,\u001b[0m \u001b[0merrors\u001b[0m\u001b[0;34m=\u001b[0m\u001b[0merrors\u001b[0m\u001b[0;34m,\u001b[0m\u001b[0;34m)\u001b[0m\u001b[0;34m\u001b[0m\u001b[0;34m\u001b[0m\u001b[0m\n\u001b[0m\u001b[1;32m   5549\u001b[0m             \u001b[0;32mreturn\u001b[0m \u001b[0mself\u001b[0m\u001b[0;34m.\u001b[0m\u001b[0m_constructor\u001b[0m\u001b[0;34m(\u001b[0m\u001b[0mnew_data\u001b[0m\u001b[0;34m)\u001b[0m\u001b[0;34m.\u001b[0m\u001b[0m__finalize__\u001b[0m\u001b[0;34m(\u001b[0m\u001b[0mself\u001b[0m\u001b[0;34m,\u001b[0m \u001b[0mmethod\u001b[0m\u001b[0;34m=\u001b[0m\u001b[0;34m\"astype\"\u001b[0m\u001b[0;34m)\u001b[0m\u001b[0;34m\u001b[0m\u001b[0;34m\u001b[0m\u001b[0m\n\u001b[1;32m   5550\u001b[0m \u001b[0;34m\u001b[0m\u001b[0m\n",
            "\u001b[0;32m/usr/local/lib/python3.7/dist-packages/pandas/core/internals/managers.py\u001b[0m in \u001b[0;36mastype\u001b[0;34m(self, dtype, copy, errors)\u001b[0m\n\u001b[1;32m    602\u001b[0m         \u001b[0mself\u001b[0m\u001b[0;34m,\u001b[0m \u001b[0mdtype\u001b[0m\u001b[0;34m,\u001b[0m \u001b[0mcopy\u001b[0m\u001b[0;34m:\u001b[0m \u001b[0mbool\u001b[0m \u001b[0;34m=\u001b[0m \u001b[0;32mFalse\u001b[0m\u001b[0;34m,\u001b[0m \u001b[0merrors\u001b[0m\u001b[0;34m:\u001b[0m \u001b[0mstr\u001b[0m \u001b[0;34m=\u001b[0m \u001b[0;34m\"raise\"\u001b[0m\u001b[0;34m\u001b[0m\u001b[0;34m\u001b[0m\u001b[0m\n\u001b[1;32m    603\u001b[0m     ) -> \"BlockManager\":\n\u001b[0;32m--> 604\u001b[0;31m         \u001b[0;32mreturn\u001b[0m \u001b[0mself\u001b[0m\u001b[0;34m.\u001b[0m\u001b[0mapply\u001b[0m\u001b[0;34m(\u001b[0m\u001b[0;34m\"astype\"\u001b[0m\u001b[0;34m,\u001b[0m \u001b[0mdtype\u001b[0m\u001b[0;34m=\u001b[0m\u001b[0mdtype\u001b[0m\u001b[0;34m,\u001b[0m \u001b[0mcopy\u001b[0m\u001b[0;34m=\u001b[0m\u001b[0mcopy\u001b[0m\u001b[0;34m,\u001b[0m \u001b[0merrors\u001b[0m\u001b[0;34m=\u001b[0m\u001b[0merrors\u001b[0m\u001b[0;34m)\u001b[0m\u001b[0;34m\u001b[0m\u001b[0;34m\u001b[0m\u001b[0m\n\u001b[0m\u001b[1;32m    605\u001b[0m \u001b[0;34m\u001b[0m\u001b[0m\n\u001b[1;32m    606\u001b[0m     def convert(\n",
            "\u001b[0;32m/usr/local/lib/python3.7/dist-packages/pandas/core/internals/managers.py\u001b[0m in \u001b[0;36mapply\u001b[0;34m(self, f, align_keys, **kwargs)\u001b[0m\n\u001b[1;32m    407\u001b[0m                 \u001b[0mapplied\u001b[0m \u001b[0;34m=\u001b[0m \u001b[0mb\u001b[0m\u001b[0;34m.\u001b[0m\u001b[0mapply\u001b[0m\u001b[0;34m(\u001b[0m\u001b[0mf\u001b[0m\u001b[0;34m,\u001b[0m \u001b[0;34m**\u001b[0m\u001b[0mkwargs\u001b[0m\u001b[0;34m)\u001b[0m\u001b[0;34m\u001b[0m\u001b[0;34m\u001b[0m\u001b[0m\n\u001b[1;32m    408\u001b[0m             \u001b[0;32melse\u001b[0m\u001b[0;34m:\u001b[0m\u001b[0;34m\u001b[0m\u001b[0;34m\u001b[0m\u001b[0m\n\u001b[0;32m--> 409\u001b[0;31m                 \u001b[0mapplied\u001b[0m \u001b[0;34m=\u001b[0m \u001b[0mgetattr\u001b[0m\u001b[0;34m(\u001b[0m\u001b[0mb\u001b[0m\u001b[0;34m,\u001b[0m \u001b[0mf\u001b[0m\u001b[0;34m)\u001b[0m\u001b[0;34m(\u001b[0m\u001b[0;34m**\u001b[0m\u001b[0mkwargs\u001b[0m\u001b[0;34m)\u001b[0m\u001b[0;34m\u001b[0m\u001b[0;34m\u001b[0m\u001b[0m\n\u001b[0m\u001b[1;32m    410\u001b[0m             \u001b[0mresult_blocks\u001b[0m \u001b[0;34m=\u001b[0m \u001b[0m_extend_blocks\u001b[0m\u001b[0;34m(\u001b[0m\u001b[0mapplied\u001b[0m\u001b[0;34m,\u001b[0m \u001b[0mresult_blocks\u001b[0m\u001b[0;34m)\u001b[0m\u001b[0;34m\u001b[0m\u001b[0;34m\u001b[0m\u001b[0m\n\u001b[1;32m    411\u001b[0m \u001b[0;34m\u001b[0m\u001b[0m\n",
            "\u001b[0;32m/usr/local/lib/python3.7/dist-packages/pandas/core/internals/blocks.py\u001b[0m in \u001b[0;36mastype\u001b[0;34m(self, dtype, copy, errors)\u001b[0m\n\u001b[1;32m    593\u001b[0m             \u001b[0mvals1d\u001b[0m \u001b[0;34m=\u001b[0m \u001b[0mvalues\u001b[0m\u001b[0;34m.\u001b[0m\u001b[0mravel\u001b[0m\u001b[0;34m(\u001b[0m\u001b[0;34m)\u001b[0m\u001b[0;34m\u001b[0m\u001b[0;34m\u001b[0m\u001b[0m\n\u001b[1;32m    594\u001b[0m             \u001b[0;32mtry\u001b[0m\u001b[0;34m:\u001b[0m\u001b[0;34m\u001b[0m\u001b[0;34m\u001b[0m\u001b[0m\n\u001b[0;32m--> 595\u001b[0;31m                 \u001b[0mvalues\u001b[0m \u001b[0;34m=\u001b[0m \u001b[0mastype_nansafe\u001b[0m\u001b[0;34m(\u001b[0m\u001b[0mvals1d\u001b[0m\u001b[0;34m,\u001b[0m \u001b[0mdtype\u001b[0m\u001b[0;34m,\u001b[0m \u001b[0mcopy\u001b[0m\u001b[0;34m=\u001b[0m\u001b[0;32mTrue\u001b[0m\u001b[0;34m)\u001b[0m\u001b[0;34m\u001b[0m\u001b[0;34m\u001b[0m\u001b[0m\n\u001b[0m\u001b[1;32m    596\u001b[0m             \u001b[0;32mexcept\u001b[0m \u001b[0;34m(\u001b[0m\u001b[0mValueError\u001b[0m\u001b[0;34m,\u001b[0m \u001b[0mTypeError\u001b[0m\u001b[0;34m)\u001b[0m\u001b[0;34m:\u001b[0m\u001b[0;34m\u001b[0m\u001b[0;34m\u001b[0m\u001b[0m\n\u001b[1;32m    597\u001b[0m                 \u001b[0;31m# e.g. astype_nansafe can fail on object-dtype of strings\u001b[0m\u001b[0;34m\u001b[0m\u001b[0;34m\u001b[0m\u001b[0;34m\u001b[0m\u001b[0m\n",
            "\u001b[0;32m/usr/local/lib/python3.7/dist-packages/pandas/core/dtypes/cast.py\u001b[0m in \u001b[0;36mastype_nansafe\u001b[0;34m(arr, dtype, copy, skipna)\u001b[0m\n\u001b[1;32m    972\u001b[0m         \u001b[0;31m# work around NumPy brokenness, #1987\u001b[0m\u001b[0;34m\u001b[0m\u001b[0;34m\u001b[0m\u001b[0;34m\u001b[0m\u001b[0m\n\u001b[1;32m    973\u001b[0m         \u001b[0;32mif\u001b[0m \u001b[0mnp\u001b[0m\u001b[0;34m.\u001b[0m\u001b[0missubdtype\u001b[0m\u001b[0;34m(\u001b[0m\u001b[0mdtype\u001b[0m\u001b[0;34m.\u001b[0m\u001b[0mtype\u001b[0m\u001b[0;34m,\u001b[0m \u001b[0mnp\u001b[0m\u001b[0;34m.\u001b[0m\u001b[0minteger\u001b[0m\u001b[0;34m)\u001b[0m\u001b[0;34m:\u001b[0m\u001b[0;34m\u001b[0m\u001b[0;34m\u001b[0m\u001b[0m\n\u001b[0;32m--> 974\u001b[0;31m             \u001b[0;32mreturn\u001b[0m \u001b[0mlib\u001b[0m\u001b[0;34m.\u001b[0m\u001b[0mastype_intsafe\u001b[0m\u001b[0;34m(\u001b[0m\u001b[0marr\u001b[0m\u001b[0;34m.\u001b[0m\u001b[0mravel\u001b[0m\u001b[0;34m(\u001b[0m\u001b[0;34m)\u001b[0m\u001b[0;34m,\u001b[0m \u001b[0mdtype\u001b[0m\u001b[0;34m)\u001b[0m\u001b[0;34m.\u001b[0m\u001b[0mreshape\u001b[0m\u001b[0;34m(\u001b[0m\u001b[0marr\u001b[0m\u001b[0;34m.\u001b[0m\u001b[0mshape\u001b[0m\u001b[0;34m)\u001b[0m\u001b[0;34m\u001b[0m\u001b[0;34m\u001b[0m\u001b[0m\n\u001b[0m\u001b[1;32m    975\u001b[0m \u001b[0;34m\u001b[0m\u001b[0m\n\u001b[1;32m    976\u001b[0m         \u001b[0;31m# if we have a datetime/timedelta array of objects\u001b[0m\u001b[0;34m\u001b[0m\u001b[0;34m\u001b[0m\u001b[0;34m\u001b[0m\u001b[0m\n",
            "\u001b[0;32mpandas/_libs/lib.pyx\u001b[0m in \u001b[0;36mpandas._libs.lib.astype_intsafe\u001b[0;34m()\u001b[0m\n",
            "\u001b[0;31mValueError\u001b[0m: invalid literal for int() with base 10: '1997-08-20'"
          ]
        }
      ]
    },
    {
      "cell_type": "code",
      "metadata": {
        "colab": {
          "base_uri": "https://localhost:8080/",
          "height": 151
        },
        "id": "LJDaVNwhjZGu",
        "outputId": "8e1a8cbc-9041-4239-9816-72c29a1f5821"
      },
      "source": [
        "md[md['id']=='1997-08-20']"
      ],
      "execution_count": 22,
      "outputs": [
        {
          "output_type": "execute_result",
          "data": {
            "text/html": [
              "<div>\n",
              "<style scoped>\n",
              "    .dataframe tbody tr th:only-of-type {\n",
              "        vertical-align: middle;\n",
              "    }\n",
              "\n",
              "    .dataframe tbody tr th {\n",
              "        vertical-align: top;\n",
              "    }\n",
              "\n",
              "    .dataframe thead th {\n",
              "        text-align: right;\n",
              "    }\n",
              "</style>\n",
              "<table border=\"1\" class=\"dataframe\">\n",
              "  <thead>\n",
              "    <tr style=\"text-align: right;\">\n",
              "      <th></th>\n",
              "      <th>adult</th>\n",
              "      <th>belongs_to_collection</th>\n",
              "      <th>budget</th>\n",
              "      <th>genres</th>\n",
              "      <th>homepage</th>\n",
              "      <th>id</th>\n",
              "      <th>imdb_id</th>\n",
              "      <th>original_language</th>\n",
              "      <th>original_title</th>\n",
              "      <th>overview</th>\n",
              "      <th>popularity</th>\n",
              "      <th>poster_path</th>\n",
              "      <th>production_companies</th>\n",
              "      <th>production_countries</th>\n",
              "      <th>release_date</th>\n",
              "      <th>revenue</th>\n",
              "      <th>runtime</th>\n",
              "      <th>spoken_languages</th>\n",
              "      <th>status</th>\n",
              "      <th>tagline</th>\n",
              "      <th>title</th>\n",
              "      <th>video</th>\n",
              "      <th>vote_average</th>\n",
              "      <th>vote_count</th>\n",
              "      <th>year</th>\n",
              "    </tr>\n",
              "  </thead>\n",
              "  <tbody>\n",
              "    <tr>\n",
              "      <th>19730</th>\n",
              "      <td>- Written by Ørnås</td>\n",
              "      <td>0.065736</td>\n",
              "      <td>/ff9qCepilowshEtG2GYWwzt2bs4.jpg</td>\n",
              "      <td>[Carousel Productions, Vision View Entertainme...</td>\n",
              "      <td>[{'iso_3166_1': 'CA', 'name': 'Canada'}, {'iso...</td>\n",
              "      <td>1997-08-20</td>\n",
              "      <td>0</td>\n",
              "      <td>104.0</td>\n",
              "      <td>[{'iso_639_1': 'en', 'name': 'English'}]</td>\n",
              "      <td>Released</td>\n",
              "      <td>NaN</td>\n",
              "      <td>Midnight Man</td>\n",
              "      <td>False</td>\n",
              "      <td>6.0</td>\n",
              "      <td>1</td>\n",
              "      <td>NaN</td>\n",
              "      <td>NaN</td>\n",
              "      <td>NaN</td>\n",
              "      <td>NaN</td>\n",
              "      <td>NaN</td>\n",
              "      <td>NaN</td>\n",
              "      <td>NaN</td>\n",
              "      <td>NaN</td>\n",
              "      <td>NaN</td>\n",
              "      <td>NaT</td>\n",
              "    </tr>\n",
              "  </tbody>\n",
              "</table>\n",
              "</div>"
            ],
            "text/plain": [
              "                     adult belongs_to_collection  ... vote_count year\n",
              "19730   - Written by Ørnås              0.065736  ...        NaN  NaT\n",
              "\n",
              "[1 rows x 25 columns]"
            ]
          },
          "metadata": {
            "tags": []
          },
          "execution_count": 22
        }
      ]
    },
    {
      "cell_type": "code",
      "metadata": {
        "id": "NKRUaNvmjinE"
      },
      "source": [
        "md = md.drop([19730, 29503, 35587])"
      ],
      "execution_count": 23,
      "outputs": []
    },
    {
      "cell_type": "code",
      "metadata": {
        "id": "lY1h5Yuojne3"
      },
      "source": [
        "#object => int\n",
        "md['id'] = md['id'].astype('int')"
      ],
      "execution_count": 24,
      "outputs": []
    },
    {
      "cell_type": "code",
      "metadata": {
        "colab": {
          "base_uri": "https://localhost:8080/"
        },
        "id": "MXxn19KBjrpd",
        "outputId": "15505ee7-cf03-4ed0-d727-2d9f8c856d7e"
      },
      "source": [
        "smd = md[md['id'].isin(links_small)]\n",
        "smd.shape"
      ],
      "execution_count": 25,
      "outputs": [
        {
          "output_type": "execute_result",
          "data": {
            "text/plain": [
              "(9099, 25)"
            ]
          },
          "metadata": {
            "tags": []
          },
          "execution_count": 25
        }
      ]
    },
    {
      "cell_type": "markdown",
      "metadata": {
        "id": "RwoVRHF1j67u"
      },
      "source": [
        "이렇게 해서 총 9,099개의 영화의 데이터를 얻을 수 있음(약 45,000개의 영화데이터에서 1/5)"
      ]
    },
    {
      "cell_type": "markdown",
      "metadata": {
        "id": "Hw4saElpkWd8"
      },
      "source": [
        "### Movie Description Based Recommender\n",
        "using movie descriptions and taglines"
      ]
    },
    {
      "cell_type": "code",
      "metadata": {
        "colab": {
          "base_uri": "https://localhost:8080/",
          "height": 650
        },
        "id": "lqk3Pgb0kqWG",
        "outputId": "196e36c4-7453-4fa3-a3be-603975c13679"
      },
      "source": [
        "smd.head()"
      ],
      "execution_count": 26,
      "outputs": [
        {
          "output_type": "execute_result",
          "data": {
            "text/html": [
              "<div>\n",
              "<style scoped>\n",
              "    .dataframe tbody tr th:only-of-type {\n",
              "        vertical-align: middle;\n",
              "    }\n",
              "\n",
              "    .dataframe tbody tr th {\n",
              "        vertical-align: top;\n",
              "    }\n",
              "\n",
              "    .dataframe thead th {\n",
              "        text-align: right;\n",
              "    }\n",
              "</style>\n",
              "<table border=\"1\" class=\"dataframe\">\n",
              "  <thead>\n",
              "    <tr style=\"text-align: right;\">\n",
              "      <th></th>\n",
              "      <th>adult</th>\n",
              "      <th>belongs_to_collection</th>\n",
              "      <th>budget</th>\n",
              "      <th>genres</th>\n",
              "      <th>homepage</th>\n",
              "      <th>id</th>\n",
              "      <th>imdb_id</th>\n",
              "      <th>original_language</th>\n",
              "      <th>original_title</th>\n",
              "      <th>overview</th>\n",
              "      <th>popularity</th>\n",
              "      <th>poster_path</th>\n",
              "      <th>production_companies</th>\n",
              "      <th>production_countries</th>\n",
              "      <th>release_date</th>\n",
              "      <th>revenue</th>\n",
              "      <th>runtime</th>\n",
              "      <th>spoken_languages</th>\n",
              "      <th>status</th>\n",
              "      <th>tagline</th>\n",
              "      <th>title</th>\n",
              "      <th>video</th>\n",
              "      <th>vote_average</th>\n",
              "      <th>vote_count</th>\n",
              "      <th>year</th>\n",
              "    </tr>\n",
              "  </thead>\n",
              "  <tbody>\n",
              "    <tr>\n",
              "      <th>0</th>\n",
              "      <td>False</td>\n",
              "      <td>{'id': 10194, 'name': 'Toy Story Collection', ...</td>\n",
              "      <td>30000000</td>\n",
              "      <td>[Animation, Comedy, Family]</td>\n",
              "      <td>http://toystory.disney.com/toy-story</td>\n",
              "      <td>862</td>\n",
              "      <td>tt0114709</td>\n",
              "      <td>en</td>\n",
              "      <td>Toy Story</td>\n",
              "      <td>Led by Woody, Andy's toys live happily in his ...</td>\n",
              "      <td>21.9469</td>\n",
              "      <td>/rhIRbceoE9lR4veEXuwCC2wARtG.jpg</td>\n",
              "      <td>[{'name': 'Pixar Animation Studios', 'id': 3}]</td>\n",
              "      <td>[{'iso_3166_1': 'US', 'name': 'United States o...</td>\n",
              "      <td>1995-10-30</td>\n",
              "      <td>373554033.0</td>\n",
              "      <td>81.0</td>\n",
              "      <td>[{'iso_639_1': 'en', 'name': 'English'}]</td>\n",
              "      <td>Released</td>\n",
              "      <td>NaN</td>\n",
              "      <td>Toy Story</td>\n",
              "      <td>False</td>\n",
              "      <td>7.7</td>\n",
              "      <td>5415.0</td>\n",
              "      <td>1995</td>\n",
              "    </tr>\n",
              "    <tr>\n",
              "      <th>1</th>\n",
              "      <td>False</td>\n",
              "      <td>NaN</td>\n",
              "      <td>65000000</td>\n",
              "      <td>[Adventure, Fantasy, Family]</td>\n",
              "      <td>NaN</td>\n",
              "      <td>8844</td>\n",
              "      <td>tt0113497</td>\n",
              "      <td>en</td>\n",
              "      <td>Jumanji</td>\n",
              "      <td>When siblings Judy and Peter discover an encha...</td>\n",
              "      <td>17.0155</td>\n",
              "      <td>/vzmL6fP7aPKNKPRTFnZmiUfciyV.jpg</td>\n",
              "      <td>[{'name': 'TriStar Pictures', 'id': 559}, {'na...</td>\n",
              "      <td>[{'iso_3166_1': 'US', 'name': 'United States o...</td>\n",
              "      <td>1995-12-15</td>\n",
              "      <td>262797249.0</td>\n",
              "      <td>104.0</td>\n",
              "      <td>[{'iso_639_1': 'en', 'name': 'English'}, {'iso...</td>\n",
              "      <td>Released</td>\n",
              "      <td>Roll the dice and unleash the excitement!</td>\n",
              "      <td>Jumanji</td>\n",
              "      <td>False</td>\n",
              "      <td>6.9</td>\n",
              "      <td>2413.0</td>\n",
              "      <td>1995</td>\n",
              "    </tr>\n",
              "    <tr>\n",
              "      <th>2</th>\n",
              "      <td>False</td>\n",
              "      <td>{'id': 119050, 'name': 'Grumpy Old Men Collect...</td>\n",
              "      <td>0</td>\n",
              "      <td>[Romance, Comedy]</td>\n",
              "      <td>NaN</td>\n",
              "      <td>15602</td>\n",
              "      <td>tt0113228</td>\n",
              "      <td>en</td>\n",
              "      <td>Grumpier Old Men</td>\n",
              "      <td>A family wedding reignites the ancient feud be...</td>\n",
              "      <td>11.7129</td>\n",
              "      <td>/6ksm1sjKMFLbO7UY2i6G1ju9SML.jpg</td>\n",
              "      <td>[{'name': 'Warner Bros.', 'id': 6194}, {'name'...</td>\n",
              "      <td>[{'iso_3166_1': 'US', 'name': 'United States o...</td>\n",
              "      <td>1995-12-22</td>\n",
              "      <td>0.0</td>\n",
              "      <td>101.0</td>\n",
              "      <td>[{'iso_639_1': 'en', 'name': 'English'}]</td>\n",
              "      <td>Released</td>\n",
              "      <td>Still Yelling. Still Fighting. Still Ready for...</td>\n",
              "      <td>Grumpier Old Men</td>\n",
              "      <td>False</td>\n",
              "      <td>6.5</td>\n",
              "      <td>92.0</td>\n",
              "      <td>1995</td>\n",
              "    </tr>\n",
              "    <tr>\n",
              "      <th>3</th>\n",
              "      <td>False</td>\n",
              "      <td>NaN</td>\n",
              "      <td>16000000</td>\n",
              "      <td>[Comedy, Drama, Romance]</td>\n",
              "      <td>NaN</td>\n",
              "      <td>31357</td>\n",
              "      <td>tt0114885</td>\n",
              "      <td>en</td>\n",
              "      <td>Waiting to Exhale</td>\n",
              "      <td>Cheated on, mistreated and stepped on, the wom...</td>\n",
              "      <td>3.85949</td>\n",
              "      <td>/16XOMpEaLWkrcPqSQqhTmeJuqQl.jpg</td>\n",
              "      <td>[{'name': 'Twentieth Century Fox Film Corporat...</td>\n",
              "      <td>[{'iso_3166_1': 'US', 'name': 'United States o...</td>\n",
              "      <td>1995-12-22</td>\n",
              "      <td>81452156.0</td>\n",
              "      <td>127.0</td>\n",
              "      <td>[{'iso_639_1': 'en', 'name': 'English'}]</td>\n",
              "      <td>Released</td>\n",
              "      <td>Friends are the people who let you be yourself...</td>\n",
              "      <td>Waiting to Exhale</td>\n",
              "      <td>False</td>\n",
              "      <td>6.1</td>\n",
              "      <td>34.0</td>\n",
              "      <td>1995</td>\n",
              "    </tr>\n",
              "    <tr>\n",
              "      <th>4</th>\n",
              "      <td>False</td>\n",
              "      <td>{'id': 96871, 'name': 'Father of the Bride Col...</td>\n",
              "      <td>0</td>\n",
              "      <td>[Comedy]</td>\n",
              "      <td>NaN</td>\n",
              "      <td>11862</td>\n",
              "      <td>tt0113041</td>\n",
              "      <td>en</td>\n",
              "      <td>Father of the Bride Part II</td>\n",
              "      <td>Just when George Banks has recovered from his ...</td>\n",
              "      <td>8.38752</td>\n",
              "      <td>/e64sOI48hQXyru7naBFyssKFxVd.jpg</td>\n",
              "      <td>[{'name': 'Sandollar Productions', 'id': 5842}...</td>\n",
              "      <td>[{'iso_3166_1': 'US', 'name': 'United States o...</td>\n",
              "      <td>1995-02-10</td>\n",
              "      <td>76578911.0</td>\n",
              "      <td>106.0</td>\n",
              "      <td>[{'iso_639_1': 'en', 'name': 'English'}]</td>\n",
              "      <td>Released</td>\n",
              "      <td>Just When His World Is Back To Normal... He's ...</td>\n",
              "      <td>Father of the Bride Part II</td>\n",
              "      <td>False</td>\n",
              "      <td>5.7</td>\n",
              "      <td>173.0</td>\n",
              "      <td>1995</td>\n",
              "    </tr>\n",
              "  </tbody>\n",
              "</table>\n",
              "</div>"
            ],
            "text/plain": [
              "   adult                              belongs_to_collection  ... vote_count  year\n",
              "0  False  {'id': 10194, 'name': 'Toy Story Collection', ...  ...     5415.0  1995\n",
              "1  False                                                NaN  ...     2413.0  1995\n",
              "2  False  {'id': 119050, 'name': 'Grumpy Old Men Collect...  ...       92.0  1995\n",
              "3  False                                                NaN  ...       34.0  1995\n",
              "4  False  {'id': 96871, 'name': 'Father of the Bride Col...  ...      173.0  1995\n",
              "\n",
              "[5 rows x 25 columns]"
            ]
          },
          "metadata": {
            "tags": []
          },
          "execution_count": 26
        }
      ]
    },
    {
      "cell_type": "code",
      "metadata": {
        "id": "IfpESlTokT9T"
      },
      "source": [
        "smd['tagline'] = smd['tagline'].fillna('')\n",
        "smd['description'] = smd['overview'] + smd['tagline']\n",
        "smd['description'] = smd['description'].fillna('')"
      ],
      "execution_count": 27,
      "outputs": []
    },
    {
      "cell_type": "code",
      "metadata": {
        "colab": {
          "base_uri": "https://localhost:8080/",
          "height": 650
        },
        "id": "XIeuaQnek6uC",
        "outputId": "284685f2-6ed6-4a66-f769-8a85f01ff20a"
      },
      "source": [
        "smd.head()"
      ],
      "execution_count": 28,
      "outputs": [
        {
          "output_type": "execute_result",
          "data": {
            "text/html": [
              "<div>\n",
              "<style scoped>\n",
              "    .dataframe tbody tr th:only-of-type {\n",
              "        vertical-align: middle;\n",
              "    }\n",
              "\n",
              "    .dataframe tbody tr th {\n",
              "        vertical-align: top;\n",
              "    }\n",
              "\n",
              "    .dataframe thead th {\n",
              "        text-align: right;\n",
              "    }\n",
              "</style>\n",
              "<table border=\"1\" class=\"dataframe\">\n",
              "  <thead>\n",
              "    <tr style=\"text-align: right;\">\n",
              "      <th></th>\n",
              "      <th>adult</th>\n",
              "      <th>belongs_to_collection</th>\n",
              "      <th>budget</th>\n",
              "      <th>genres</th>\n",
              "      <th>homepage</th>\n",
              "      <th>id</th>\n",
              "      <th>imdb_id</th>\n",
              "      <th>original_language</th>\n",
              "      <th>original_title</th>\n",
              "      <th>overview</th>\n",
              "      <th>popularity</th>\n",
              "      <th>poster_path</th>\n",
              "      <th>production_companies</th>\n",
              "      <th>production_countries</th>\n",
              "      <th>release_date</th>\n",
              "      <th>revenue</th>\n",
              "      <th>runtime</th>\n",
              "      <th>spoken_languages</th>\n",
              "      <th>status</th>\n",
              "      <th>tagline</th>\n",
              "      <th>title</th>\n",
              "      <th>video</th>\n",
              "      <th>vote_average</th>\n",
              "      <th>vote_count</th>\n",
              "      <th>year</th>\n",
              "      <th>description</th>\n",
              "    </tr>\n",
              "  </thead>\n",
              "  <tbody>\n",
              "    <tr>\n",
              "      <th>0</th>\n",
              "      <td>False</td>\n",
              "      <td>{'id': 10194, 'name': 'Toy Story Collection', ...</td>\n",
              "      <td>30000000</td>\n",
              "      <td>[Animation, Comedy, Family]</td>\n",
              "      <td>http://toystory.disney.com/toy-story</td>\n",
              "      <td>862</td>\n",
              "      <td>tt0114709</td>\n",
              "      <td>en</td>\n",
              "      <td>Toy Story</td>\n",
              "      <td>Led by Woody, Andy's toys live happily in his ...</td>\n",
              "      <td>21.9469</td>\n",
              "      <td>/rhIRbceoE9lR4veEXuwCC2wARtG.jpg</td>\n",
              "      <td>[{'name': 'Pixar Animation Studios', 'id': 3}]</td>\n",
              "      <td>[{'iso_3166_1': 'US', 'name': 'United States o...</td>\n",
              "      <td>1995-10-30</td>\n",
              "      <td>373554033.0</td>\n",
              "      <td>81.0</td>\n",
              "      <td>[{'iso_639_1': 'en', 'name': 'English'}]</td>\n",
              "      <td>Released</td>\n",
              "      <td></td>\n",
              "      <td>Toy Story</td>\n",
              "      <td>False</td>\n",
              "      <td>7.7</td>\n",
              "      <td>5415.0</td>\n",
              "      <td>1995</td>\n",
              "      <td>Led by Woody, Andy's toys live happily in his ...</td>\n",
              "    </tr>\n",
              "    <tr>\n",
              "      <th>1</th>\n",
              "      <td>False</td>\n",
              "      <td>NaN</td>\n",
              "      <td>65000000</td>\n",
              "      <td>[Adventure, Fantasy, Family]</td>\n",
              "      <td>NaN</td>\n",
              "      <td>8844</td>\n",
              "      <td>tt0113497</td>\n",
              "      <td>en</td>\n",
              "      <td>Jumanji</td>\n",
              "      <td>When siblings Judy and Peter discover an encha...</td>\n",
              "      <td>17.0155</td>\n",
              "      <td>/vzmL6fP7aPKNKPRTFnZmiUfciyV.jpg</td>\n",
              "      <td>[{'name': 'TriStar Pictures', 'id': 559}, {'na...</td>\n",
              "      <td>[{'iso_3166_1': 'US', 'name': 'United States o...</td>\n",
              "      <td>1995-12-15</td>\n",
              "      <td>262797249.0</td>\n",
              "      <td>104.0</td>\n",
              "      <td>[{'iso_639_1': 'en', 'name': 'English'}, {'iso...</td>\n",
              "      <td>Released</td>\n",
              "      <td>Roll the dice and unleash the excitement!</td>\n",
              "      <td>Jumanji</td>\n",
              "      <td>False</td>\n",
              "      <td>6.9</td>\n",
              "      <td>2413.0</td>\n",
              "      <td>1995</td>\n",
              "      <td>When siblings Judy and Peter discover an encha...</td>\n",
              "    </tr>\n",
              "    <tr>\n",
              "      <th>2</th>\n",
              "      <td>False</td>\n",
              "      <td>{'id': 119050, 'name': 'Grumpy Old Men Collect...</td>\n",
              "      <td>0</td>\n",
              "      <td>[Romance, Comedy]</td>\n",
              "      <td>NaN</td>\n",
              "      <td>15602</td>\n",
              "      <td>tt0113228</td>\n",
              "      <td>en</td>\n",
              "      <td>Grumpier Old Men</td>\n",
              "      <td>A family wedding reignites the ancient feud be...</td>\n",
              "      <td>11.7129</td>\n",
              "      <td>/6ksm1sjKMFLbO7UY2i6G1ju9SML.jpg</td>\n",
              "      <td>[{'name': 'Warner Bros.', 'id': 6194}, {'name'...</td>\n",
              "      <td>[{'iso_3166_1': 'US', 'name': 'United States o...</td>\n",
              "      <td>1995-12-22</td>\n",
              "      <td>0.0</td>\n",
              "      <td>101.0</td>\n",
              "      <td>[{'iso_639_1': 'en', 'name': 'English'}]</td>\n",
              "      <td>Released</td>\n",
              "      <td>Still Yelling. Still Fighting. Still Ready for...</td>\n",
              "      <td>Grumpier Old Men</td>\n",
              "      <td>False</td>\n",
              "      <td>6.5</td>\n",
              "      <td>92.0</td>\n",
              "      <td>1995</td>\n",
              "      <td>A family wedding reignites the ancient feud be...</td>\n",
              "    </tr>\n",
              "    <tr>\n",
              "      <th>3</th>\n",
              "      <td>False</td>\n",
              "      <td>NaN</td>\n",
              "      <td>16000000</td>\n",
              "      <td>[Comedy, Drama, Romance]</td>\n",
              "      <td>NaN</td>\n",
              "      <td>31357</td>\n",
              "      <td>tt0114885</td>\n",
              "      <td>en</td>\n",
              "      <td>Waiting to Exhale</td>\n",
              "      <td>Cheated on, mistreated and stepped on, the wom...</td>\n",
              "      <td>3.85949</td>\n",
              "      <td>/16XOMpEaLWkrcPqSQqhTmeJuqQl.jpg</td>\n",
              "      <td>[{'name': 'Twentieth Century Fox Film Corporat...</td>\n",
              "      <td>[{'iso_3166_1': 'US', 'name': 'United States o...</td>\n",
              "      <td>1995-12-22</td>\n",
              "      <td>81452156.0</td>\n",
              "      <td>127.0</td>\n",
              "      <td>[{'iso_639_1': 'en', 'name': 'English'}]</td>\n",
              "      <td>Released</td>\n",
              "      <td>Friends are the people who let you be yourself...</td>\n",
              "      <td>Waiting to Exhale</td>\n",
              "      <td>False</td>\n",
              "      <td>6.1</td>\n",
              "      <td>34.0</td>\n",
              "      <td>1995</td>\n",
              "      <td>Cheated on, mistreated and stepped on, the wom...</td>\n",
              "    </tr>\n",
              "    <tr>\n",
              "      <th>4</th>\n",
              "      <td>False</td>\n",
              "      <td>{'id': 96871, 'name': 'Father of the Bride Col...</td>\n",
              "      <td>0</td>\n",
              "      <td>[Comedy]</td>\n",
              "      <td>NaN</td>\n",
              "      <td>11862</td>\n",
              "      <td>tt0113041</td>\n",
              "      <td>en</td>\n",
              "      <td>Father of the Bride Part II</td>\n",
              "      <td>Just when George Banks has recovered from his ...</td>\n",
              "      <td>8.38752</td>\n",
              "      <td>/e64sOI48hQXyru7naBFyssKFxVd.jpg</td>\n",
              "      <td>[{'name': 'Sandollar Productions', 'id': 5842}...</td>\n",
              "      <td>[{'iso_3166_1': 'US', 'name': 'United States o...</td>\n",
              "      <td>1995-02-10</td>\n",
              "      <td>76578911.0</td>\n",
              "      <td>106.0</td>\n",
              "      <td>[{'iso_639_1': 'en', 'name': 'English'}]</td>\n",
              "      <td>Released</td>\n",
              "      <td>Just When His World Is Back To Normal... He's ...</td>\n",
              "      <td>Father of the Bride Part II</td>\n",
              "      <td>False</td>\n",
              "      <td>5.7</td>\n",
              "      <td>173.0</td>\n",
              "      <td>1995</td>\n",
              "      <td>Just when George Banks has recovered from his ...</td>\n",
              "    </tr>\n",
              "  </tbody>\n",
              "</table>\n",
              "</div>"
            ],
            "text/plain": [
              "   adult  ...                                        description\n",
              "0  False  ...  Led by Woody, Andy's toys live happily in his ...\n",
              "1  False  ...  When siblings Judy and Peter discover an encha...\n",
              "2  False  ...  A family wedding reignites the ancient feud be...\n",
              "3  False  ...  Cheated on, mistreated and stepped on, the wom...\n",
              "4  False  ...  Just when George Banks has recovered from his ...\n",
              "\n",
              "[5 rows x 26 columns]"
            ]
          },
          "metadata": {
            "tags": []
          },
          "execution_count": 28
        }
      ]
    },
    {
      "cell_type": "markdown",
      "metadata": {
        "id": "BR4B6xQYmxDg"
      },
      "source": [
        "### 벡터화(Vectorize)\n",
        "컴퓨터는 자연어 자체를 받아들일 수 없습니다. 그래서 컴퓨터가 이해할 수 있도록 벡터로 만들어주어야 합니다.\n",
        "이 과정을 벡터화(Vectorize)라고 합니다. 자연어를 어떻게 벡터로 표현하는 지는 자연어 처리 모델의 성능을 결정하는 중요한 역할을 합니다.\n",
        "자연어를 벡터화하는 방법은 크게 2가지로 나누어 볼 수 있습니다.\n",
        "\n",
        "- 등장 횟수 기반의 단어 표현(Count-based Representation) : 단어가 문서(혹은 문장)에 등장하는 횟수를 기반으로 벡터화하는 방법\n",
        "\n",
        "  - Bag-of-Words (CounterVectorizer)\n",
        "  - TF-IDF (TfidfVectorizer)"
      ]
    },
    {
      "cell_type": "markdown",
      "metadata": {
        "id": "7N71YzizoG0H"
      },
      "source": [
        "- TfidfVectorizer 파리미터\n",
        "  - analyzer : 'word'라고 설정시, 학습의 단위를 단어로 설정합니다. (ex - home, go, my ...)\n",
        "  - min-df : DF(document-frequency)의 최소 빈도값을 설정해주는 파라미터입니다.\n",
        "DF는 특정 단어가 나타나는 '문서의 수'를 의미합니다.\n",
        "단어의 수가 아니라 문서의 수라는 것에 주의\n",
        "  - ngram_range = (min_n, max_n), min_n 개~ max_n 개를 갖는 n-gram(n개의 연속적인 토큰)을 토큰으로 사용\n",
        "    - 만약 ngram_range = (1, 2)라고 한다면, 단어의 묶음을 1개부터 2개까지 설정하라는 뜻\n",
        "    - 단어사전에는 1개 단어묶음도 있고, 2개 단어묶음도 존재하게 되겠죠.\n",
        "    - 가령, 'go home', 'very good'과 같은 2개 짜리 묶음도 인덱스를 받게 되는 것입니다."
      ]
    },
    {
      "cell_type": "code",
      "metadata": {
        "id": "hHOUHCTLnQ2r"
      },
      "source": [
        "tf = TfidfVectorizer(analyzer='word',ngram_range=(1, 2),min_df=0, stop_words='english')\n",
        "tfidf_matrix = tf.fit_transform(smd['description'])"
      ],
      "execution_count": 29,
      "outputs": []
    },
    {
      "cell_type": "code",
      "metadata": {
        "colab": {
          "base_uri": "https://localhost:8080/"
        },
        "id": "sPO9dL3ropi9",
        "outputId": "32580c1c-3f27-4adb-9717-3501e7fb0b87"
      },
      "source": [
        "tfidf_matrix.shape"
      ],
      "execution_count": 30,
      "outputs": [
        {
          "output_type": "execute_result",
          "data": {
            "text/plain": [
              "(9099, 268124)"
            ]
          },
          "metadata": {
            "tags": []
          },
          "execution_count": 30
        }
      ]
    },
    {
      "cell_type": "markdown",
      "metadata": {
        "id": "vtn0cLUAp1Cf"
      },
      "source": [
        "description 열에 대해서 tf-idf를 수행했습니다. 9,099개의 영화를 표현하기위해 총 268,124개의 단어가 사용되었음을 보여주고 있습니다. 이제 **코사인 유사도**를 사용하면 바로 문서의 유사도를 구할 수 있습니다."
      ]
    },
    {
      "cell_type": "markdown",
      "metadata": {
        "id": "79gsRdsgo8XA"
      },
      "source": [
        "### 코사인 유사도 \n",
        "코사인 유사도는 두 벡터 간의 코사인 각도를 이용하여 구할 수 있는 두 벡터의 유사도를 의미합니다. 문서 단어 행렬이나 TF-IDF 행렬을 통해서 문서의 유사도를 구하는 경우에는 문서 단어 행렬이나 TF-IDF 행렬이 각각의 특징 벡터 A, B가 됩니다.\n",
        "\n",
        "- tf-idf를 할 때 데이터에 Null 값이 들어있으면 에러가 발생(Null 값을 처리하는 도구인 fillna()를 사용)"
      ]
    },
    {
      "cell_type": "code",
      "metadata": {
        "id": "TYrTVez-qLiN"
      },
      "source": [
        "cosine_sim = linear_kernel(tfidf_matrix, tfidf_matrix)"
      ],
      "execution_count": 31,
      "outputs": []
    },
    {
      "cell_type": "code",
      "metadata": {
        "colab": {
          "base_uri": "https://localhost:8080/"
        },
        "id": "MWABfyVEqNwW",
        "outputId": "034e8f79-f6ad-4036-bc00-379175c844d5"
      },
      "source": [
        "cosine_sim[0]"
      ],
      "execution_count": 32,
      "outputs": [
        {
          "output_type": "execute_result",
          "data": {
            "text/plain": [
              "array([1.        , 0.00680476, 0.        , ..., 0.        , 0.00344913,\n",
              "       0.        ])"
            ]
          },
          "metadata": {
            "tags": []
          },
          "execution_count": 32
        }
      ]
    },
    {
      "cell_type": "code",
      "metadata": {
        "id": "JyOkaBqxq4V5"
      },
      "source": [
        "smd = smd.reset_index() #인덱스를 나타내는 열 추가\n",
        "titles = smd['title']\n",
        "indices = pd.Series(smd.index, index=smd['title'])"
      ],
      "execution_count": 33,
      "outputs": []
    },
    {
      "cell_type": "code",
      "metadata": {
        "colab": {
          "base_uri": "https://localhost:8080/"
        },
        "id": "vKbRMXoMrCGu",
        "outputId": "38ebbea7-b5aa-4ffc-fa60-c7df654fbe12"
      },
      "source": [
        "indices"
      ],
      "execution_count": 34,
      "outputs": [
        {
          "output_type": "execute_result",
          "data": {
            "text/plain": [
              "title\n",
              "Toy Story                                                0\n",
              "Jumanji                                                  1\n",
              "Grumpier Old Men                                         2\n",
              "Waiting to Exhale                                        3\n",
              "Father of the Bride Part II                              4\n",
              "                                                      ... \n",
              "Shin Godzilla                                         9094\n",
              "The Beatles: Eight Days a Week - The Touring Years    9095\n",
              "Pokémon: Spell of the Unknown                         9096\n",
              "Pokémon 4Ever: Celebi - Voice of the Forest           9097\n",
              "Force Majeure                                         9098\n",
              "Length: 9099, dtype: int64"
            ]
          },
          "metadata": {
            "tags": []
          },
          "execution_count": 34
        }
      ]
    },
    {
      "cell_type": "code",
      "metadata": {
        "id": "FJ5HHxzNrH6y"
      },
      "source": [
        "def get_recommendations(title):\n",
        "    # 선택한 영화의 타이틀로부터 해당되는 인덱스를 받아옵니다. 이제 선택한 영화를 가지고 연산할 수 있습니다.\n",
        "    idx = indices[title]\n",
        "\n",
        "    # 모든 영화에 대해서 해당 영화와의 유사도를 구합니다.\n",
        "    sim_scores = list(enumerate(cosine_sim[idx]))\n",
        "\n",
        "    # 유사도에 따라 영화들을 정렬합니다.\n",
        "    sim_scores = sorted(sim_scores, key=lambda x: x[1], reverse=True)\n",
        "\n",
        "    # 가장 유사한 30개의 영화를 받아옵니다.(자기 자신은 제외)\n",
        "    sim_scores = sim_scores[1:31]\n",
        "\n",
        "    # 가장 유사한 10개의 영화의 인덱스를 받아옵니다.\n",
        "    movie_indices = [i[0] for i in sim_scores]\n",
        "\n",
        "    # 가장 유사한 10개의 영화의 제목을 리턴합니다.\n",
        "    return titles.iloc[movie_indices]"
      ],
      "execution_count": 35,
      "outputs": []
    },
    {
      "cell_type": "code",
      "metadata": {
        "colab": {
          "base_uri": "https://localhost:8080/"
        },
        "id": "P51-TwP4rV3l",
        "outputId": "7383316b-5c0b-4b88-ab30-eb62c16fbc88"
      },
      "source": [
        "get_recommendations('The Godfather').head(10)"
      ],
      "execution_count": 36,
      "outputs": [
        {
          "output_type": "execute_result",
          "data": {
            "text/plain": [
              "973      The Godfather: Part II\n",
              "8387                 The Family\n",
              "3509                       Made\n",
              "4196         Johnny Dangerously\n",
              "29               Shanghai Triad\n",
              "5667                       Fury\n",
              "2412             American Movie\n",
              "1582    The Godfather: Part III\n",
              "4221                    8 Women\n",
              "2159              Summer of Sam\n",
              "Name: title, dtype: object"
            ]
          },
          "metadata": {
            "tags": []
          },
          "execution_count": 36
        }
      ]
    },
    {
      "cell_type": "code",
      "metadata": {
        "colab": {
          "base_uri": "https://localhost:8080/"
        },
        "id": "sTMAN0URscjp",
        "outputId": "2aa56b4a-0a08-4e68-b8c3-66f87c7015ce"
      },
      "source": [
        "get_recommendations('The Dark Knight').head(10)"
      ],
      "execution_count": 37,
      "outputs": [
        {
          "output_type": "execute_result",
          "data": {
            "text/plain": [
              "7931                      The Dark Knight Rises\n",
              "132                              Batman Forever\n",
              "1113                             Batman Returns\n",
              "8227    Batman: The Dark Knight Returns, Part 2\n",
              "7565                 Batman: Under the Red Hood\n",
              "524                                      Batman\n",
              "7901                           Batman: Year One\n",
              "2579               Batman: Mask of the Phantasm\n",
              "2696                                        JFK\n",
              "8165    Batman: The Dark Knight Returns, Part 1\n",
              "Name: title, dtype: object"
            ]
          },
          "metadata": {
            "tags": []
          },
          "execution_count": 37
        }
      ]
    },
    {
      "cell_type": "markdown",
      "metadata": {
        "id": "RhD6yYNPu6nP"
      },
      "source": [
        "### genre, keywords, cast and crew를 고려한 좀 더 정교한 추천시스템 구축하기"
      ]
    },
    {
      "cell_type": "code",
      "metadata": {
        "id": "FkL7OqJdvOol"
      },
      "source": [
        "credits = pd.read_csv('/content/drive/MyDrive/dataset/movies_metadata.csv/credits.csv/credits.csv')\n",
        "keywords = pd.read_csv('/content/drive/MyDrive/dataset/movies_metadata.csv/keywords.csv/keywords.csv')"
      ],
      "execution_count": 38,
      "outputs": []
    },
    {
      "cell_type": "code",
      "metadata": {
        "colab": {
          "base_uri": "https://localhost:8080/"
        },
        "id": "sn_q8a7jvYrG",
        "outputId": "2b30fa65-8063-4c6b-f4d4-c3578d7fdd8c"
      },
      "source": [
        "md.shape"
      ],
      "execution_count": 39,
      "outputs": [
        {
          "output_type": "execute_result",
          "data": {
            "text/plain": [
              "(45463, 25)"
            ]
          },
          "metadata": {
            "tags": []
          },
          "execution_count": 39
        }
      ]
    },
    {
      "cell_type": "code",
      "metadata": {
        "id": "Jvy52qwOvYT7"
      },
      "source": [
        "keywords['id'] = keywords['id'].astype('int')\n",
        "credits['id'] = credits['id'].astype('int')\n",
        "md['id'] = md['id'].astype('int')"
      ],
      "execution_count": 40,
      "outputs": []
    },
    {
      "cell_type": "code",
      "metadata": {
        "id": "nvdjnbRFvjcC"
      },
      "source": [
        "md = md.merge(credits, on='id')\n",
        "md = md.merge(keywords, on='id')"
      ],
      "execution_count": 41,
      "outputs": []
    },
    {
      "cell_type": "code",
      "metadata": {
        "colab": {
          "base_uri": "https://localhost:8080/"
        },
        "id": "3h5oByApvlKl",
        "outputId": "a7166ee4-9007-4c8b-fae2-ad05961a7207"
      },
      "source": [
        "smd = md[md['id'].isin(links_small)]\n",
        "smd.shape"
      ],
      "execution_count": 42,
      "outputs": [
        {
          "output_type": "execute_result",
          "data": {
            "text/plain": [
              "(9219, 28)"
            ]
          },
          "metadata": {
            "tags": []
          },
          "execution_count": 42
        }
      ]
    },
    {
      "cell_type": "markdown",
      "metadata": {
        "id": "PukVaqihzXYU"
      },
      "source": [
        "#### literal_eval \n",
        "문자열을 딕셔너리/리스트 형태로 바꿔줌\n",
        "\n",
        "```\n",
        "a = \"['호랑이', '사자', '기린']\"\n",
        "a = liter_eval(a)\n",
        "a = ['호랑이', '사자', '기린']\n",
        "```\n",
        "\n"
      ]
    },
    {
      "cell_type": "code",
      "metadata": {
        "colab": {
          "base_uri": "https://localhost:8080/"
        },
        "id": "Nb6lyGPSytze",
        "outputId": "c1e11f6c-f8be-4363-e6cc-77de61b17808"
      },
      "source": [
        "smd['keywords']"
      ],
      "execution_count": 43,
      "outputs": [
        {
          "output_type": "execute_result",
          "data": {
            "text/plain": [
              "0        [{'id': 931, 'name': 'jealousy'}, {'id': 4290,...\n",
              "1        [{'id': 10090, 'name': 'board game'}, {'id': 1...\n",
              "2        [{'id': 1495, 'name': 'fishing'}, {'id': 12392...\n",
              "3        [{'id': 818, 'name': 'based on novel'}, {'id':...\n",
              "4        [{'id': 1009, 'name': 'baby'}, {'id': 1599, 'n...\n",
              "                               ...                        \n",
              "40952    [{'id': 6054, 'name': 'friendship'}, {'id': 20...\n",
              "41172                 [{'id': 10540, 'name': 'bollywood'}]\n",
              "41225                 [{'id': 10540, 'name': 'bollywood'}]\n",
              "41391    [{'id': 1299, 'name': 'monster'}, {'id': 7671,...\n",
              "41669    [{'id': 6027, 'name': 'music'}, {'id': 10073, ...\n",
              "Name: keywords, Length: 9219, dtype: object"
            ]
          },
          "metadata": {
            "tags": []
          },
          "execution_count": 43
        }
      ]
    },
    {
      "cell_type": "code",
      "metadata": {
        "id": "-24BWpZrysPW"
      },
      "source": [
        "smd['cast'] = smd['cast'].apply(literal_eval)\n",
        "smd['crew'] = smd['crew'].apply(literal_eval)\n",
        "smd['keywords'] = smd['keywords'].apply(literal_eval)\n",
        "smd['cast_size'] = smd['cast'].apply(lambda x: len(x))\n",
        "smd['crew_size'] = smd['crew'].apply(lambda x: len(x))"
      ],
      "execution_count": 44,
      "outputs": []
    },
    {
      "cell_type": "code",
      "metadata": {
        "colab": {
          "base_uri": "https://localhost:8080/",
          "height": 667
        },
        "id": "qXeqOME-zhKB",
        "outputId": "36f6e7a1-a7d5-4563-9f2c-6781621ee36d"
      },
      "source": [
        "smd.head()"
      ],
      "execution_count": 45,
      "outputs": [
        {
          "output_type": "execute_result",
          "data": {
            "text/html": [
              "<div>\n",
              "<style scoped>\n",
              "    .dataframe tbody tr th:only-of-type {\n",
              "        vertical-align: middle;\n",
              "    }\n",
              "\n",
              "    .dataframe tbody tr th {\n",
              "        vertical-align: top;\n",
              "    }\n",
              "\n",
              "    .dataframe thead th {\n",
              "        text-align: right;\n",
              "    }\n",
              "</style>\n",
              "<table border=\"1\" class=\"dataframe\">\n",
              "  <thead>\n",
              "    <tr style=\"text-align: right;\">\n",
              "      <th></th>\n",
              "      <th>adult</th>\n",
              "      <th>belongs_to_collection</th>\n",
              "      <th>budget</th>\n",
              "      <th>genres</th>\n",
              "      <th>homepage</th>\n",
              "      <th>id</th>\n",
              "      <th>imdb_id</th>\n",
              "      <th>original_language</th>\n",
              "      <th>original_title</th>\n",
              "      <th>overview</th>\n",
              "      <th>popularity</th>\n",
              "      <th>poster_path</th>\n",
              "      <th>production_companies</th>\n",
              "      <th>production_countries</th>\n",
              "      <th>release_date</th>\n",
              "      <th>revenue</th>\n",
              "      <th>runtime</th>\n",
              "      <th>spoken_languages</th>\n",
              "      <th>status</th>\n",
              "      <th>tagline</th>\n",
              "      <th>title</th>\n",
              "      <th>video</th>\n",
              "      <th>vote_average</th>\n",
              "      <th>vote_count</th>\n",
              "      <th>year</th>\n",
              "      <th>cast</th>\n",
              "      <th>crew</th>\n",
              "      <th>keywords</th>\n",
              "      <th>cast_size</th>\n",
              "      <th>crew_size</th>\n",
              "    </tr>\n",
              "  </thead>\n",
              "  <tbody>\n",
              "    <tr>\n",
              "      <th>0</th>\n",
              "      <td>False</td>\n",
              "      <td>{'id': 10194, 'name': 'Toy Story Collection', ...</td>\n",
              "      <td>30000000</td>\n",
              "      <td>[Animation, Comedy, Family]</td>\n",
              "      <td>http://toystory.disney.com/toy-story</td>\n",
              "      <td>862</td>\n",
              "      <td>tt0114709</td>\n",
              "      <td>en</td>\n",
              "      <td>Toy Story</td>\n",
              "      <td>Led by Woody, Andy's toys live happily in his ...</td>\n",
              "      <td>21.9469</td>\n",
              "      <td>/rhIRbceoE9lR4veEXuwCC2wARtG.jpg</td>\n",
              "      <td>[{'name': 'Pixar Animation Studios', 'id': 3}]</td>\n",
              "      <td>[{'iso_3166_1': 'US', 'name': 'United States o...</td>\n",
              "      <td>1995-10-30</td>\n",
              "      <td>373554033.0</td>\n",
              "      <td>81.0</td>\n",
              "      <td>[{'iso_639_1': 'en', 'name': 'English'}]</td>\n",
              "      <td>Released</td>\n",
              "      <td>NaN</td>\n",
              "      <td>Toy Story</td>\n",
              "      <td>False</td>\n",
              "      <td>7.7</td>\n",
              "      <td>5415.0</td>\n",
              "      <td>1995</td>\n",
              "      <td>[{'cast_id': 14, 'character': 'Woody (voice)',...</td>\n",
              "      <td>[{'credit_id': '52fe4284c3a36847f8024f49', 'de...</td>\n",
              "      <td>[{'id': 931, 'name': 'jealousy'}, {'id': 4290,...</td>\n",
              "      <td>13</td>\n",
              "      <td>106</td>\n",
              "    </tr>\n",
              "    <tr>\n",
              "      <th>1</th>\n",
              "      <td>False</td>\n",
              "      <td>NaN</td>\n",
              "      <td>65000000</td>\n",
              "      <td>[Adventure, Fantasy, Family]</td>\n",
              "      <td>NaN</td>\n",
              "      <td>8844</td>\n",
              "      <td>tt0113497</td>\n",
              "      <td>en</td>\n",
              "      <td>Jumanji</td>\n",
              "      <td>When siblings Judy and Peter discover an encha...</td>\n",
              "      <td>17.0155</td>\n",
              "      <td>/vzmL6fP7aPKNKPRTFnZmiUfciyV.jpg</td>\n",
              "      <td>[{'name': 'TriStar Pictures', 'id': 559}, {'na...</td>\n",
              "      <td>[{'iso_3166_1': 'US', 'name': 'United States o...</td>\n",
              "      <td>1995-12-15</td>\n",
              "      <td>262797249.0</td>\n",
              "      <td>104.0</td>\n",
              "      <td>[{'iso_639_1': 'en', 'name': 'English'}, {'iso...</td>\n",
              "      <td>Released</td>\n",
              "      <td>Roll the dice and unleash the excitement!</td>\n",
              "      <td>Jumanji</td>\n",
              "      <td>False</td>\n",
              "      <td>6.9</td>\n",
              "      <td>2413.0</td>\n",
              "      <td>1995</td>\n",
              "      <td>[{'cast_id': 1, 'character': 'Alan Parrish', '...</td>\n",
              "      <td>[{'credit_id': '52fe44bfc3a36847f80a7cd1', 'de...</td>\n",
              "      <td>[{'id': 10090, 'name': 'board game'}, {'id': 1...</td>\n",
              "      <td>26</td>\n",
              "      <td>16</td>\n",
              "    </tr>\n",
              "    <tr>\n",
              "      <th>2</th>\n",
              "      <td>False</td>\n",
              "      <td>{'id': 119050, 'name': 'Grumpy Old Men Collect...</td>\n",
              "      <td>0</td>\n",
              "      <td>[Romance, Comedy]</td>\n",
              "      <td>NaN</td>\n",
              "      <td>15602</td>\n",
              "      <td>tt0113228</td>\n",
              "      <td>en</td>\n",
              "      <td>Grumpier Old Men</td>\n",
              "      <td>A family wedding reignites the ancient feud be...</td>\n",
              "      <td>11.7129</td>\n",
              "      <td>/6ksm1sjKMFLbO7UY2i6G1ju9SML.jpg</td>\n",
              "      <td>[{'name': 'Warner Bros.', 'id': 6194}, {'name'...</td>\n",
              "      <td>[{'iso_3166_1': 'US', 'name': 'United States o...</td>\n",
              "      <td>1995-12-22</td>\n",
              "      <td>0.0</td>\n",
              "      <td>101.0</td>\n",
              "      <td>[{'iso_639_1': 'en', 'name': 'English'}]</td>\n",
              "      <td>Released</td>\n",
              "      <td>Still Yelling. Still Fighting. Still Ready for...</td>\n",
              "      <td>Grumpier Old Men</td>\n",
              "      <td>False</td>\n",
              "      <td>6.5</td>\n",
              "      <td>92.0</td>\n",
              "      <td>1995</td>\n",
              "      <td>[{'cast_id': 2, 'character': 'Max Goldman', 'c...</td>\n",
              "      <td>[{'credit_id': '52fe466a9251416c75077a89', 'de...</td>\n",
              "      <td>[{'id': 1495, 'name': 'fishing'}, {'id': 12392...</td>\n",
              "      <td>7</td>\n",
              "      <td>4</td>\n",
              "    </tr>\n",
              "    <tr>\n",
              "      <th>3</th>\n",
              "      <td>False</td>\n",
              "      <td>NaN</td>\n",
              "      <td>16000000</td>\n",
              "      <td>[Comedy, Drama, Romance]</td>\n",
              "      <td>NaN</td>\n",
              "      <td>31357</td>\n",
              "      <td>tt0114885</td>\n",
              "      <td>en</td>\n",
              "      <td>Waiting to Exhale</td>\n",
              "      <td>Cheated on, mistreated and stepped on, the wom...</td>\n",
              "      <td>3.85949</td>\n",
              "      <td>/16XOMpEaLWkrcPqSQqhTmeJuqQl.jpg</td>\n",
              "      <td>[{'name': 'Twentieth Century Fox Film Corporat...</td>\n",
              "      <td>[{'iso_3166_1': 'US', 'name': 'United States o...</td>\n",
              "      <td>1995-12-22</td>\n",
              "      <td>81452156.0</td>\n",
              "      <td>127.0</td>\n",
              "      <td>[{'iso_639_1': 'en', 'name': 'English'}]</td>\n",
              "      <td>Released</td>\n",
              "      <td>Friends are the people who let you be yourself...</td>\n",
              "      <td>Waiting to Exhale</td>\n",
              "      <td>False</td>\n",
              "      <td>6.1</td>\n",
              "      <td>34.0</td>\n",
              "      <td>1995</td>\n",
              "      <td>[{'cast_id': 1, 'character': 'Savannah 'Vannah...</td>\n",
              "      <td>[{'credit_id': '52fe44779251416c91011acb', 'de...</td>\n",
              "      <td>[{'id': 818, 'name': 'based on novel'}, {'id':...</td>\n",
              "      <td>10</td>\n",
              "      <td>10</td>\n",
              "    </tr>\n",
              "    <tr>\n",
              "      <th>4</th>\n",
              "      <td>False</td>\n",
              "      <td>{'id': 96871, 'name': 'Father of the Bride Col...</td>\n",
              "      <td>0</td>\n",
              "      <td>[Comedy]</td>\n",
              "      <td>NaN</td>\n",
              "      <td>11862</td>\n",
              "      <td>tt0113041</td>\n",
              "      <td>en</td>\n",
              "      <td>Father of the Bride Part II</td>\n",
              "      <td>Just when George Banks has recovered from his ...</td>\n",
              "      <td>8.38752</td>\n",
              "      <td>/e64sOI48hQXyru7naBFyssKFxVd.jpg</td>\n",
              "      <td>[{'name': 'Sandollar Productions', 'id': 5842}...</td>\n",
              "      <td>[{'iso_3166_1': 'US', 'name': 'United States o...</td>\n",
              "      <td>1995-02-10</td>\n",
              "      <td>76578911.0</td>\n",
              "      <td>106.0</td>\n",
              "      <td>[{'iso_639_1': 'en', 'name': 'English'}]</td>\n",
              "      <td>Released</td>\n",
              "      <td>Just When His World Is Back To Normal... He's ...</td>\n",
              "      <td>Father of the Bride Part II</td>\n",
              "      <td>False</td>\n",
              "      <td>5.7</td>\n",
              "      <td>173.0</td>\n",
              "      <td>1995</td>\n",
              "      <td>[{'cast_id': 1, 'character': 'George Banks', '...</td>\n",
              "      <td>[{'credit_id': '52fe44959251416c75039ed7', 'de...</td>\n",
              "      <td>[{'id': 1009, 'name': 'baby'}, {'id': 1599, 'n...</td>\n",
              "      <td>12</td>\n",
              "      <td>7</td>\n",
              "    </tr>\n",
              "  </tbody>\n",
              "</table>\n",
              "</div>"
            ],
            "text/plain": [
              "   adult  ... crew_size\n",
              "0  False  ...       106\n",
              "1  False  ...        16\n",
              "2  False  ...         4\n",
              "3  False  ...        10\n",
              "4  False  ...         7\n",
              "\n",
              "[5 rows x 30 columns]"
            ]
          },
          "metadata": {
            "tags": []
          },
          "execution_count": 45
        }
      ]
    },
    {
      "cell_type": "code",
      "metadata": {
        "colab": {
          "base_uri": "https://localhost:8080/"
        },
        "id": "2Bbxq_SC0Ant",
        "outputId": "d537d79e-5934-4568-c1d7-5e362b775cb8"
      },
      "source": [
        "smd['crew'][0]"
      ],
      "execution_count": 46,
      "outputs": [
        {
          "output_type": "execute_result",
          "data": {
            "text/plain": [
              "[{'credit_id': '52fe4284c3a36847f8024f49',\n",
              "  'department': 'Directing',\n",
              "  'gender': 2,\n",
              "  'id': 7879,\n",
              "  'job': 'Director',\n",
              "  'name': 'John Lasseter',\n",
              "  'profile_path': '/7EdqiNbr4FRjIhKHyPPdFfEEEFG.jpg'},\n",
              " {'credit_id': '52fe4284c3a36847f8024f4f',\n",
              "  'department': 'Writing',\n",
              "  'gender': 2,\n",
              "  'id': 12891,\n",
              "  'job': 'Screenplay',\n",
              "  'name': 'Joss Whedon',\n",
              "  'profile_path': '/dTiVsuaTVTeGmvkhcyJvKp2A5kr.jpg'},\n",
              " {'credit_id': '52fe4284c3a36847f8024f55',\n",
              "  'department': 'Writing',\n",
              "  'gender': 2,\n",
              "  'id': 7,\n",
              "  'job': 'Screenplay',\n",
              "  'name': 'Andrew Stanton',\n",
              "  'profile_path': '/pvQWsu0qc8JFQhMVJkTHuexUAa1.jpg'},\n",
              " {'credit_id': '52fe4284c3a36847f8024f5b',\n",
              "  'department': 'Writing',\n",
              "  'gender': 2,\n",
              "  'id': 12892,\n",
              "  'job': 'Screenplay',\n",
              "  'name': 'Joel Cohen',\n",
              "  'profile_path': '/dAubAiZcvKFbboWlj7oXOkZnTSu.jpg'},\n",
              " {'credit_id': '52fe4284c3a36847f8024f61',\n",
              "  'department': 'Writing',\n",
              "  'gender': 0,\n",
              "  'id': 12893,\n",
              "  'job': 'Screenplay',\n",
              "  'name': 'Alec Sokolow',\n",
              "  'profile_path': '/v79vlRYi94BZUQnkkyznbGUZLjT.jpg'},\n",
              " {'credit_id': '52fe4284c3a36847f8024f67',\n",
              "  'department': 'Production',\n",
              "  'gender': 1,\n",
              "  'id': 12894,\n",
              "  'job': 'Producer',\n",
              "  'name': 'Bonnie Arnold',\n",
              "  'profile_path': None},\n",
              " {'credit_id': '52fe4284c3a36847f8024f6d',\n",
              "  'department': 'Production',\n",
              "  'gender': 0,\n",
              "  'id': 12895,\n",
              "  'job': 'Executive Producer',\n",
              "  'name': 'Ed Catmull',\n",
              "  'profile_path': None},\n",
              " {'credit_id': '52fe4284c3a36847f8024f73',\n",
              "  'department': 'Production',\n",
              "  'gender': 2,\n",
              "  'id': 12896,\n",
              "  'job': 'Producer',\n",
              "  'name': 'Ralph Guggenheim',\n",
              "  'profile_path': None},\n",
              " {'credit_id': '52fe4284c3a36847f8024f79',\n",
              "  'department': 'Production',\n",
              "  'gender': 2,\n",
              "  'id': 12897,\n",
              "  'job': 'Executive Producer',\n",
              "  'name': 'Steve Jobs',\n",
              "  'profile_path': '/mOMP3SwD5qWQSR0ldCIByd3guTV.jpg'},\n",
              " {'credit_id': '52fe4284c3a36847f8024f8b',\n",
              "  'department': 'Editing',\n",
              "  'gender': 2,\n",
              "  'id': 8,\n",
              "  'job': 'Editor',\n",
              "  'name': 'Lee Unkrich',\n",
              "  'profile_path': '/bdTCCXjgOV3YyaNmLGYGOxFQMOc.jpg'},\n",
              " {'credit_id': '52fe4284c3a36847f8024f91',\n",
              "  'department': 'Art',\n",
              "  'gender': 2,\n",
              "  'id': 7883,\n",
              "  'job': 'Art Direction',\n",
              "  'name': 'Ralph Eggleston',\n",
              "  'profile_path': '/uUfcGKDsKO1aROMpXRs67Hn6RvR.jpg'},\n",
              " {'credit_id': '598331bf925141421201044b',\n",
              "  'department': 'Editing',\n",
              "  'gender': 2,\n",
              "  'id': 1168870,\n",
              "  'job': 'Editor',\n",
              "  'name': 'Robert Gordon',\n",
              "  'profile_path': None},\n",
              " {'credit_id': '5892168cc3a36809660095f9',\n",
              "  'department': 'Sound',\n",
              "  'gender': 0,\n",
              "  'id': 1552883,\n",
              "  'job': 'Foley Editor',\n",
              "  'name': 'Mary Helen Leasman',\n",
              "  'profile_path': None},\n",
              " {'credit_id': '5531824d9251415289000945',\n",
              "  'department': 'Visual Effects',\n",
              "  'gender': 0,\n",
              "  'id': 1453514,\n",
              "  'job': 'Animation',\n",
              "  'name': 'Kim Blanchette',\n",
              "  'profile_path': None},\n",
              " {'credit_id': '589215969251412dcb009bf6',\n",
              "  'department': 'Sound',\n",
              "  'gender': 0,\n",
              "  'id': 1414182,\n",
              "  'job': 'ADR Editor',\n",
              "  'name': 'Marilyn McCoppen',\n",
              "  'profile_path': None},\n",
              " {'credit_id': '589217099251412dc500a018',\n",
              "  'department': 'Sound',\n",
              "  'gender': 2,\n",
              "  'id': 7885,\n",
              "  'job': 'Orchestrator',\n",
              "  'name': 'Randy Newman',\n",
              "  'profile_path': '/w0JzfoiM25nrnxYOzosPHRq6mlE.jpg'},\n",
              " {'credit_id': '5693e6b29251417b0e0000e3',\n",
              "  'department': 'Editing',\n",
              "  'gender': 0,\n",
              "  'id': 1429549,\n",
              "  'job': 'Color Timer',\n",
              "  'name': 'Dale E. Grahn',\n",
              "  'profile_path': None},\n",
              " {'credit_id': '572e2522c3a36869e6001a9c',\n",
              "  'department': 'Visual Effects',\n",
              "  'gender': 0,\n",
              "  'id': 7949,\n",
              "  'job': 'CG Painter',\n",
              "  'name': 'Robin Cooper',\n",
              "  'profile_path': None},\n",
              " {'credit_id': '574f12309251415ca1000012',\n",
              "  'department': 'Writing',\n",
              "  'gender': 2,\n",
              "  'id': 7879,\n",
              "  'job': 'Original Story',\n",
              "  'name': 'John Lasseter',\n",
              "  'profile_path': '/7EdqiNbr4FRjIhKHyPPdFfEEEFG.jpg'},\n",
              " {'credit_id': '574f1240c3a3682e7300001c',\n",
              "  'department': 'Writing',\n",
              "  'gender': 2,\n",
              "  'id': 12890,\n",
              "  'job': 'Original Story',\n",
              "  'name': 'Pete Docter',\n",
              "  'profile_path': '/r6ngPgnReA3RHmKjmSoVsc6Awjp.jpg'},\n",
              " {'credit_id': '574f12519251415c92000015',\n",
              "  'department': 'Writing',\n",
              "  'gender': 0,\n",
              "  'id': 7911,\n",
              "  'job': 'Original Story',\n",
              "  'name': 'Joe Ranft',\n",
              "  'profile_path': '/f1BoWC2JbCcfP1e5hKfGsxkHzVU.jpg'},\n",
              " {'credit_id': '574f12cec3a3682e82000022',\n",
              "  'department': 'Crew',\n",
              "  'gender': 0,\n",
              "  'id': 1629419,\n",
              "  'job': 'Post Production Supervisor',\n",
              "  'name': 'Patsy Bouge',\n",
              "  'profile_path': None},\n",
              " {'credit_id': '574f14f19251415ca1000082',\n",
              "  'department': 'Art',\n",
              "  'gender': 0,\n",
              "  'id': 7961,\n",
              "  'job': 'Sculptor',\n",
              "  'name': 'Norm DeCarlo',\n",
              "  'profile_path': None},\n",
              " {'credit_id': '5751ae4bc3a3683772002b7f',\n",
              "  'department': 'Visual Effects',\n",
              "  'gender': 2,\n",
              "  'id': 12905,\n",
              "  'job': 'Animation Director',\n",
              "  'name': 'Ash Brannon',\n",
              "  'profile_path': '/6ueWgPEEBHvS3De2BHYQnYjRTig.jpg'},\n",
              " {'credit_id': '5891edbe9251412dc5007cd6',\n",
              "  'department': 'Sound',\n",
              "  'gender': 2,\n",
              "  'id': 7885,\n",
              "  'job': 'Music',\n",
              "  'name': 'Randy Newman',\n",
              "  'profile_path': '/w0JzfoiM25nrnxYOzosPHRq6mlE.jpg'},\n",
              " {'credit_id': '589213d39251412dc8009832',\n",
              "  'department': 'Directing',\n",
              "  'gender': 0,\n",
              "  'id': 1748707,\n",
              "  'job': 'Layout',\n",
              "  'name': 'Roman Figun',\n",
              "  'profile_path': None},\n",
              " {'credit_id': '5892173dc3a3680968009351',\n",
              "  'department': 'Sound',\n",
              "  'gender': 2,\n",
              "  'id': 4949,\n",
              "  'job': 'Orchestrator',\n",
              "  'name': 'Don Davis',\n",
              "  'profile_path': None},\n",
              " {'credit_id': '589217cec3a3686b0a0052ba',\n",
              "  'department': 'Sound',\n",
              "  'gender': 0,\n",
              "  'id': 1372885,\n",
              "  'job': 'Music Editor',\n",
              "  'name': 'James Flamberg',\n",
              "  'profile_path': None},\n",
              " {'credit_id': '58921831c3a3686348004a64',\n",
              "  'department': 'Editing',\n",
              "  'gender': 0,\n",
              "  'id': 1739962,\n",
              "  'job': 'Negative Cutter',\n",
              "  'name': 'Mary Beth Smith',\n",
              "  'profile_path': None},\n",
              " {'credit_id': '58921838c3a36809700096c0',\n",
              "  'department': 'Editing',\n",
              "  'gender': 0,\n",
              "  'id': 1748513,\n",
              "  'job': 'Negative Cutter',\n",
              "  'name': 'Rick Mackay',\n",
              "  'profile_path': None},\n",
              " {'credit_id': '589218429251412dd1009d1b',\n",
              "  'department': 'Art',\n",
              "  'gender': 0,\n",
              "  'id': 1458006,\n",
              "  'job': 'Title Designer',\n",
              "  'name': 'Susan Bradley',\n",
              "  'profile_path': None},\n",
              " {'credit_id': '5891ed99c3a3680966007670',\n",
              "  'department': 'Crew',\n",
              "  'gender': 0,\n",
              "  'id': 1748557,\n",
              "  'job': 'Supervising Technical Director',\n",
              "  'name': 'William Reeves',\n",
              "  'profile_path': None},\n",
              " {'credit_id': '5891edcec3a3686b0a002eb2',\n",
              "  'department': 'Sound',\n",
              "  'gender': 2,\n",
              "  'id': 7885,\n",
              "  'job': 'Songs',\n",
              "  'name': 'Randy Newman',\n",
              "  'profile_path': '/w0JzfoiM25nrnxYOzosPHRq6mlE.jpg'},\n",
              " {'credit_id': '5891edf9c3a36809700075e6',\n",
              "  'department': 'Writing',\n",
              "  'gender': 2,\n",
              "  'id': 7,\n",
              "  'job': 'Original Story',\n",
              "  'name': 'Andrew Stanton',\n",
              "  'profile_path': '/pvQWsu0qc8JFQhMVJkTHuexUAa1.jpg'},\n",
              " {'credit_id': '58920f0b9251412dd7009104',\n",
              "  'department': 'Crew',\n",
              "  'gender': 2,\n",
              "  'id': 12890,\n",
              "  'job': 'Supervising Animator',\n",
              "  'name': 'Pete Docter',\n",
              "  'profile_path': '/r6ngPgnReA3RHmKjmSoVsc6Awjp.jpg'},\n",
              " {'credit_id': '58920f1fc3a3680977009021',\n",
              "  'department': 'Sound',\n",
              "  'gender': 2,\n",
              "  'id': 2216,\n",
              "  'job': 'Sound Designer',\n",
              "  'name': 'Gary Rydstrom',\n",
              "  'profile_path': '/jZpr1nVfO7lldWI0YtmP1FGw7Rj.jpg'},\n",
              " {'credit_id': '58920f389251412dd700912d',\n",
              "  'department': 'Production',\n",
              "  'gender': 0,\n",
              "  'id': 12909,\n",
              "  'job': 'Production Supervisor',\n",
              "  'name': 'Karen Robert Jackson',\n",
              "  'profile_path': None},\n",
              " {'credit_id': '58920fbd9251412dcb00969c',\n",
              "  'department': 'Crew',\n",
              "  'gender': 0,\n",
              "  'id': 953331,\n",
              "  'job': 'Executive Music Producer',\n",
              "  'name': 'Chris Montan',\n",
              "  'profile_path': None},\n",
              " {'credit_id': '589210069251412dd7009219',\n",
              "  'department': 'Visual Effects',\n",
              "  'gender': 0,\n",
              "  'id': 7893,\n",
              "  'job': 'Animation Director',\n",
              "  'name': 'Rich Quade',\n",
              "  'profile_path': None},\n",
              " {'credit_id': '589210329251412dcd00943b',\n",
              "  'department': 'Visual Effects',\n",
              "  'gender': 0,\n",
              "  'id': 8025,\n",
              "  'job': 'Animation',\n",
              "  'name': 'Michael Berenstein',\n",
              "  'profile_path': None},\n",
              " {'credit_id': '5892103bc3a368096a009180',\n",
              "  'department': 'Visual Effects',\n",
              "  'gender': 0,\n",
              "  'id': 78009,\n",
              "  'job': 'Animation',\n",
              "  'name': 'Colin Brady',\n",
              "  'profile_path': None},\n",
              " {'credit_id': '5892105dc3a3680968008db2',\n",
              "  'department': 'Visual Effects',\n",
              "  'gender': 0,\n",
              "  'id': 1748682,\n",
              "  'job': 'Animation',\n",
              "  'name': 'Davey Crockett Feiten',\n",
              "  'profile_path': None},\n",
              " {'credit_id': '589210669251412dcd009466',\n",
              "  'department': 'Visual Effects',\n",
              "  'gender': 0,\n",
              "  'id': 1454030,\n",
              "  'job': 'Animation',\n",
              "  'name': 'Angie Glocka',\n",
              "  'profile_path': None},\n",
              " {'credit_id': '5892107c9251412dd1009613',\n",
              "  'department': 'Visual Effects',\n",
              "  'gender': 0,\n",
              "  'id': 1748683,\n",
              "  'job': 'Animation',\n",
              "  'name': 'Rex Grignon',\n",
              "  'profile_path': None},\n",
              " {'credit_id': '5892108ac3a3680973008d3f',\n",
              "  'department': 'Visual Effects',\n",
              "  'gender': 0,\n",
              "  'id': 1748684,\n",
              "  'job': 'Animation',\n",
              "  'name': 'Tom K. Gurney',\n",
              "  'profile_path': None},\n",
              " {'credit_id': '58921093c3a3686348004477',\n",
              "  'department': 'Visual Effects',\n",
              "  'gender': 2,\n",
              "  'id': 8029,\n",
              "  'job': 'Animation',\n",
              "  'name': 'Jimmy Hayward',\n",
              "  'profile_path': '/lTDRpudEY7BDwTefXbXzMlmb0ui.jpg'},\n",
              " {'credit_id': '5892109b9251412dcd0094b0',\n",
              "  'department': 'Visual Effects',\n",
              "  'gender': 0,\n",
              "  'id': 1426773,\n",
              "  'job': 'Animation',\n",
              "  'name': 'Hal T. Hickel',\n",
              "  'profile_path': None},\n",
              " {'credit_id': '589210a29251412dc5009a29',\n",
              "  'department': 'Visual Effects',\n",
              "  'gender': 0,\n",
              "  'id': 8035,\n",
              "  'job': 'Animation',\n",
              "  'name': 'Karen Kiser',\n",
              "  'profile_path': None},\n",
              " {'credit_id': '589210ccc3a3680977009191',\n",
              "  'department': 'Visual Effects',\n",
              "  'gender': 0,\n",
              "  'id': 1748688,\n",
              "  'job': 'Animation',\n",
              "  'name': 'Anthony B. LaMolinara',\n",
              "  'profile_path': None},\n",
              " {'credit_id': '589210d7c3a3686b0a004c1f',\n",
              "  'department': 'Visual Effects',\n",
              "  'gender': 0,\n",
              "  'id': 587314,\n",
              "  'job': 'Animation',\n",
              "  'name': 'Guionne Leroy',\n",
              "  'profile_path': None},\n",
              " {'credit_id': '589210e1c3a36809770091a7',\n",
              "  'department': 'Visual Effects',\n",
              "  'gender': 2,\n",
              "  'id': 7918,\n",
              "  'job': 'Animation',\n",
              "  'name': 'Bud Luckey',\n",
              "  'profile_path': '/pcCh7G19FKMNijmPQg1PMH1btic.jpg'},\n",
              " {'credit_id': '589210ee9251412dc200978a',\n",
              "  'department': 'Visual Effects',\n",
              "  'gender': 0,\n",
              "  'id': 1748689,\n",
              "  'job': 'Animation',\n",
              "  'name': 'Les Major',\n",
              "  'profile_path': None},\n",
              " {'credit_id': '589210fa9251412dc8009595',\n",
              "  'department': 'Visual Effects',\n",
              "  'gender': 2,\n",
              "  'id': 7892,\n",
              "  'job': 'Animation',\n",
              "  'name': 'Glenn McQueen',\n",
              "  'profile_path': None},\n",
              " {'credit_id': '589211029251412dc8009598',\n",
              "  'department': 'Visual Effects',\n",
              "  'gender': 0,\n",
              "  'id': 555795,\n",
              "  'job': 'Animation',\n",
              "  'name': 'Mark Oftedal',\n",
              "  'profile_path': None},\n",
              " {'credit_id': '5892110b9251412dc800959d',\n",
              "  'department': 'Visual Effects',\n",
              "  'gender': 2,\n",
              "  'id': 7882,\n",
              "  'job': 'Animation',\n",
              "  'name': 'Jeff Pidgeon',\n",
              "  'profile_path': '/yLddkg5HcgbJg00cS13GVBnP0HY.jpg'},\n",
              " {'credit_id': '58921113c3a36863480044e4',\n",
              "  'department': 'Visual Effects',\n",
              "  'gender': 0,\n",
              "  'id': 8017,\n",
              "  'job': 'Animation',\n",
              "  'name': 'Jeff Pratt',\n",
              "  'profile_path': None},\n",
              " {'credit_id': '5892111c9251412dcb0097e9',\n",
              "  'department': 'Visual Effects',\n",
              "  'gender': 0,\n",
              "  'id': 1184140,\n",
              "  'job': 'Animation',\n",
              "  'name': 'Steve Rabatich',\n",
              "  'profile_path': None},\n",
              " {'credit_id': '58921123c3a36809700090f6',\n",
              "  'department': 'Visual Effects',\n",
              "  'gender': 0,\n",
              "  'id': 8049,\n",
              "  'job': 'Animation',\n",
              "  'name': 'Roger Rose',\n",
              "  'profile_path': None},\n",
              " {'credit_id': '5892112b9251412dcb0097fb',\n",
              "  'department': 'Visual Effects',\n",
              "  'gender': 0,\n",
              "  'id': 1509559,\n",
              "  'job': 'Animation',\n",
              "  'name': 'Steve Segal',\n",
              "  'profile_path': None},\n",
              " {'credit_id': '589211349251412dc80095c3',\n",
              "  'department': 'Visual Effects',\n",
              "  'gender': 0,\n",
              "  'id': 1748691,\n",
              "  'job': 'Animation',\n",
              "  'name': 'Doug Sheppeck',\n",
              "  'profile_path': None},\n",
              " {'credit_id': '5892113cc3a3680970009106',\n",
              "  'department': 'Visual Effects',\n",
              "  'gender': 0,\n",
              "  'id': 8050,\n",
              "  'job': 'Animation',\n",
              "  'name': 'Alan Sperling',\n",
              "  'profile_path': None},\n",
              " {'credit_id': '58921148c3a3686b0a004c99',\n",
              "  'department': 'Visual Effects',\n",
              "  'gender': 0,\n",
              "  'id': 8010,\n",
              "  'job': 'Animation',\n",
              "  'name': 'Doug Sweetland',\n",
              "  'profile_path': None},\n",
              " {'credit_id': '58921150c3a3680966009125',\n",
              "  'department': 'Visual Effects',\n",
              "  'gender': 0,\n",
              "  'id': 8044,\n",
              "  'job': 'Animation',\n",
              "  'name': 'David Tart',\n",
              "  'profile_path': None},\n",
              " {'credit_id': '589211629251412dc5009b00',\n",
              "  'department': 'Visual Effects',\n",
              "  'gender': 0,\n",
              "  'id': 1454034,\n",
              "  'job': 'Animation',\n",
              "  'name': 'Ken Willard',\n",
              "  'profile_path': None},\n",
              " {'credit_id': '589211c1c3a3686b0a004d28',\n",
              "  'department': 'Visual Effects',\n",
              "  'gender': 0,\n",
              "  'id': 7887,\n",
              "  'job': 'Visual Effects Supervisor',\n",
              "  'name': 'Thomas Porter',\n",
              "  'profile_path': None},\n",
              " {'credit_id': '589211d4c3a3680968008ed9',\n",
              "  'department': 'Visual Effects',\n",
              "  'gender': 0,\n",
              "  'id': 1406878,\n",
              "  'job': 'Visual Effects',\n",
              "  'name': 'Mark Thomas Henne',\n",
              "  'profile_path': None},\n",
              " {'credit_id': '589211f59251412dd4008e65',\n",
              "  'department': 'Visual Effects',\n",
              "  'gender': 0,\n",
              "  'id': 1748698,\n",
              "  'job': 'Visual Effects',\n",
              "  'name': 'Oren Jacob',\n",
              "  'profile_path': None},\n",
              " {'credit_id': '58921242c3a368096a00939b',\n",
              "  'department': 'Visual Effects',\n",
              "  'gender': 0,\n",
              "  'id': 1748699,\n",
              "  'job': 'Visual Effects',\n",
              "  'name': 'Darwyn Peachey',\n",
              "  'profile_path': None},\n",
              " {'credit_id': '5892124b9251412dc5009bd2',\n",
              "  'department': 'Visual Effects',\n",
              "  'gender': 0,\n",
              "  'id': 1748701,\n",
              "  'job': 'Visual Effects',\n",
              "  'name': 'Mitch Prater',\n",
              "  'profile_path': None},\n",
              " {'credit_id': '58921264c3a3686b0a004dbf',\n",
              "  'department': 'Visual Effects',\n",
              "  'gender': 0,\n",
              "  'id': 1748703,\n",
              "  'job': 'Visual Effects',\n",
              "  'name': 'Brian M. Rosen',\n",
              "  'profile_path': None},\n",
              " {'credit_id': '589212709251412dcd009676',\n",
              "  'department': 'Lighting',\n",
              "  'gender': 1,\n",
              "  'id': 12912,\n",
              "  'job': 'Lighting Supervisor',\n",
              "  'name': 'Sharon Calahan',\n",
              "  'profile_path': None},\n",
              " {'credit_id': '5892127fc3a3686b0a004de5',\n",
              "  'department': 'Lighting',\n",
              "  'gender': 0,\n",
              "  'id': 7899,\n",
              "  'job': 'Lighting Supervisor',\n",
              "  'name': 'Galyn Susman',\n",
              "  'profile_path': None},\n",
              " {'credit_id': '589212cdc3a3680970009268',\n",
              "  'department': 'Visual Effects',\n",
              "  'gender': 0,\n",
              "  'id': 12915,\n",
              "  'job': 'CG Painter',\n",
              "  'name': 'William Cone',\n",
              "  'profile_path': None},\n",
              " {'credit_id': '5892130f9251412dc8009791',\n",
              "  'department': 'Art',\n",
              "  'gender': 0,\n",
              "  'id': 1748705,\n",
              "  'job': 'Sculptor',\n",
              "  'name': 'Shelley Daniels Lekven',\n",
              "  'profile_path': None},\n",
              " {'credit_id': '5892131c9251412dd4008f4c',\n",
              "  'department': 'Visual Effects',\n",
              "  'gender': 2,\n",
              "  'id': 7889,\n",
              "  'job': 'Character Designer',\n",
              "  'name': 'Bob Pauley',\n",
              "  'profile_path': None},\n",
              " {'credit_id': '589213249251412dd100987b',\n",
              "  'department': 'Visual Effects',\n",
              "  'gender': 2,\n",
              "  'id': 7918,\n",
              "  'job': 'Character Designer',\n",
              "  'name': 'Bud Luckey',\n",
              "  'profile_path': '/pcCh7G19FKMNijmPQg1PMH1btic.jpg'},\n",
              " {'credit_id': '5892132b9251412dc80097b1',\n",
              "  'department': 'Visual Effects',\n",
              "  'gender': 2,\n",
              "  'id': 7,\n",
              "  'job': 'Character Designer',\n",
              "  'name': 'Andrew Stanton',\n",
              "  'profile_path': '/pvQWsu0qc8JFQhMVJkTHuexUAa1.jpg'},\n",
              " {'credit_id': '58921332c3a368634800467b',\n",
              "  'department': 'Visual Effects',\n",
              "  'gender': 0,\n",
              "  'id': 12915,\n",
              "  'job': 'Character Designer',\n",
              "  'name': 'William Cone',\n",
              "  'profile_path': None},\n",
              " {'credit_id': '5892135f9251412dd4008f90',\n",
              "  'department': 'Visual Effects',\n",
              "  'gender': 0,\n",
              "  'id': 1748706,\n",
              "  'job': 'Character Designer',\n",
              "  'name': 'Steve Johnson',\n",
              "  'profile_path': None},\n",
              " {'credit_id': '58921384c3a3680973008fd4',\n",
              "  'department': 'Visual Effects',\n",
              "  'gender': 0,\n",
              "  'id': 1176752,\n",
              "  'job': 'Character Designer',\n",
              "  'name': 'Dan Haskett',\n",
              "  'profile_path': None},\n",
              " {'credit_id': '5892138e9251412dc20099fc',\n",
              "  'department': 'Visual Effects',\n",
              "  'gender': 0,\n",
              "  'id': 1088034,\n",
              "  'job': 'Character Designer',\n",
              "  'name': 'Tom Holloway',\n",
              "  'profile_path': '/a0r0T2usTBpgMI5aZbRBDW1fTl8.jpg'},\n",
              " {'credit_id': '58921395c3a368097700942f',\n",
              "  'department': 'Visual Effects',\n",
              "  'gender': 0,\n",
              "  'id': 1447465,\n",
              "  'job': 'Character Designer',\n",
              "  'name': 'Jean Gillmore',\n",
              "  'profile_path': None},\n",
              " {'credit_id': '589213e2c3a3680973009026',\n",
              "  'department': 'Directing',\n",
              "  'gender': 0,\n",
              "  'id': 1748709,\n",
              "  'job': 'Layout',\n",
              "  'name': 'Desirée Mourad',\n",
              "  'profile_path': None},\n",
              " {'credit_id': '589214099251412dc5009d57',\n",
              "  'department': 'Art',\n",
              "  'gender': 0,\n",
              "  'id': 1748710,\n",
              "  'job': 'Set Dresser',\n",
              "  'name': \"Kelly O'Connell\",\n",
              "  'profile_path': None},\n",
              " {'credit_id': '58921411c3a3686b0a004f70',\n",
              "  'department': 'Art',\n",
              "  'gender': 0,\n",
              "  'id': 1443471,\n",
              "  'job': 'Set Dresser',\n",
              "  'name': 'Sonoko Konishi',\n",
              "  'profile_path': None},\n",
              " {'credit_id': '58921434c3a368096a00956e',\n",
              "  'department': 'Art',\n",
              "  'gender': 0,\n",
              "  'id': 1748711,\n",
              "  'job': 'Set Dresser',\n",
              "  'name': 'Ann M. Rockwell',\n",
              "  'profile_path': None},\n",
              " {'credit_id': '5892144ac3a36809680090de',\n",
              "  'department': 'Editing',\n",
              "  'gender': 0,\n",
              "  'id': 1748712,\n",
              "  'job': 'Editorial Manager',\n",
              "  'name': 'Julie M. McDonald',\n",
              "  'profile_path': None},\n",
              " {'credit_id': '58921479c3a368096800910f',\n",
              "  'department': 'Editing',\n",
              "  'gender': 0,\n",
              "  'id': 1589729,\n",
              "  'job': 'Assistant Editor',\n",
              "  'name': 'Robin Lee',\n",
              "  'profile_path': None},\n",
              " {'credit_id': '5892148b9251412dd10099cc',\n",
              "  'department': 'Editing',\n",
              "  'gender': 0,\n",
              "  'id': 1748716,\n",
              "  'job': 'Assistant Editor',\n",
              "  'name': 'Tom Freeman',\n",
              "  'profile_path': None},\n",
              " {'credit_id': '589214959251412dcb009b1f',\n",
              "  'department': 'Editing',\n",
              "  'gender': 0,\n",
              "  'id': 1748717,\n",
              "  'job': 'Assistant Editor',\n",
              "  'name': 'Ada Cochavi',\n",
              "  'profile_path': None},\n",
              " {'credit_id': '5892149ec3a3686348004798',\n",
              "  'department': 'Editing',\n",
              "  'gender': 0,\n",
              "  'id': 1336438,\n",
              "  'job': 'Assistant Editor',\n",
              "  'name': 'Dana Mulligan',\n",
              "  'profile_path': None},\n",
              " {'credit_id': '589214adc3a368096a0095db',\n",
              "  'department': 'Editing',\n",
              "  'gender': 0,\n",
              "  'id': 1748718,\n",
              "  'job': 'Editorial Coordinator',\n",
              "  'name': 'Deirdre Morrison',\n",
              "  'profile_path': None},\n",
              " {'credit_id': '589214c7c3a368097700952b',\n",
              "  'department': 'Production',\n",
              "  'gender': 0,\n",
              "  'id': 1748719,\n",
              "  'job': 'Production Coordinator',\n",
              "  'name': 'Lori Lombardo',\n",
              "  'profile_path': None},\n",
              " {'credit_id': '589214cec3a368096a009603',\n",
              "  'department': 'Production',\n",
              "  'gender': 0,\n",
              "  'id': 1748720,\n",
              "  'job': 'Production Coordinator',\n",
              "  'name': 'Ellen Devine',\n",
              "  'profile_path': None},\n",
              " {'credit_id': '589214e39251412dc8009904',\n",
              "  'department': 'Crew',\n",
              "  'gender': 0,\n",
              "  'id': 1468014,\n",
              "  'job': 'Unit Publicist',\n",
              "  'name': 'Lauren Beth Strogoff',\n",
              "  'profile_path': None},\n",
              " {'credit_id': '58921544c3a3686b0a00507d',\n",
              "  'department': 'Sound',\n",
              "  'gender': 2,\n",
              "  'id': 2216,\n",
              "  'job': 'Sound Re-Recording Mixer',\n",
              "  'name': 'Gary Rydstrom',\n",
              "  'profile_path': '/jZpr1nVfO7lldWI0YtmP1FGw7Rj.jpg'},\n",
              " {'credit_id': '5892154c9251412dd1009a56',\n",
              "  'department': 'Sound',\n",
              "  'gender': 0,\n",
              "  'id': 1425978,\n",
              "  'job': 'Sound Re-Recording Mixer',\n",
              "  'name': 'Gary Summers',\n",
              "  'profile_path': None},\n",
              " {'credit_id': '58921555c3a36809680091bd',\n",
              "  'department': 'Sound',\n",
              "  'gender': 2,\n",
              "  'id': 8276,\n",
              "  'job': 'Supervising Sound Editor',\n",
              "  'name': 'Tim Holland',\n",
              "  'profile_path': None},\n",
              " {'credit_id': '589215c39251412dcb009c12',\n",
              "  'department': 'Sound',\n",
              "  'gender': 0,\n",
              "  'id': 7069,\n",
              "  'job': 'Sound Effects Editor',\n",
              "  'name': 'Pat Jackson',\n",
              "  'profile_path': None},\n",
              " {'credit_id': '58921698c3a368096a009788',\n",
              "  'department': 'Crew',\n",
              "  'gender': 2,\n",
              "  'id': 15894,\n",
              "  'job': 'Sound Design Assistant',\n",
              "  'name': 'Tom Myers',\n",
              "  'profile_path': None},\n",
              " {'credit_id': '589216a89251412dc2009ca4',\n",
              "  'department': 'Sound',\n",
              "  'gender': 0,\n",
              "  'id': 1414177,\n",
              "  'job': 'Assistant Sound Editor',\n",
              "  'name': 'J.R. Grubbs',\n",
              "  'profile_path': None},\n",
              " {'credit_id': '589216c19251412dc2009cb9',\n",
              "  'department': 'Sound',\n",
              "  'gender': 1,\n",
              "  'id': 1748724,\n",
              "  'job': 'Assistant Sound Editor',\n",
              "  'name': 'Susan Sanford',\n",
              "  'profile_path': None},\n",
              " {'credit_id': '589216ccc3a3680973009274',\n",
              "  'department': 'Sound',\n",
              "  'gender': 0,\n",
              "  'id': 1748725,\n",
              "  'job': 'Assistant Sound Editor',\n",
              "  'name': 'Susan Popovic',\n",
              "  'profile_path': None},\n",
              " {'credit_id': '589216d79251412dc8009aa0',\n",
              "  'department': 'Sound',\n",
              "  'gender': 0,\n",
              "  'id': 8067,\n",
              "  'job': 'Assistant Sound Editor',\n",
              "  'name': 'Dan Engstrom',\n",
              "  'profile_path': None},\n",
              " {'credit_id': '589216e49251412dcd009a4f',\n",
              "  'department': 'Production',\n",
              "  'gender': 1,\n",
              "  'id': 7902,\n",
              "  'job': 'Casting Consultant',\n",
              "  'name': 'Ruth Lambert',\n",
              "  'profile_path': None},\n",
              " {'credit_id': '589216f39251412dc2009cf3',\n",
              "  'department': 'Production',\n",
              "  'gender': 0,\n",
              "  'id': 84493,\n",
              "  'job': 'ADR Voice Casting',\n",
              "  'name': 'Mickie McGowan',\n",
              "  'profile_path': '/k7TjJBfINsg8vLQxJwos6XObAD6.jpg'}]"
            ]
          },
          "metadata": {
            "tags": []
          },
          "execution_count": 46
        }
      ]
    },
    {
      "cell_type": "code",
      "metadata": {
        "id": "9d0poisAzvC6"
      },
      "source": [
        "def get_director(x):\n",
        "    for i in x:\n",
        "        if i['job'] == 'Director':\n",
        "            return i['name']\n",
        "    return np.nan"
      ],
      "execution_count": 47,
      "outputs": []
    },
    {
      "cell_type": "code",
      "metadata": {
        "id": "7wIgWdTo0JKT"
      },
      "source": [
        "smd['director'] = smd['crew'].apply(get_director)"
      ],
      "execution_count": 48,
      "outputs": []
    },
    {
      "cell_type": "code",
      "metadata": {
        "id": "jyZVLzQ50nrU"
      },
      "source": [
        "smd['cast'] = smd['cast'].apply(lambda x: [i['name'] for i in x] if isinstance(x, list) else [])\n",
        "smd['cast'] = smd['cast'].apply(lambda x: x[:3] if len(x) >=3 else x)"
      ],
      "execution_count": 49,
      "outputs": []
    },
    {
      "cell_type": "code",
      "metadata": {
        "colab": {
          "base_uri": "https://localhost:8080/"
        },
        "id": "rRds8CNu0oUD",
        "outputId": "f18a639f-9ba7-4dbf-f7f4-711ffafece89"
      },
      "source": [
        "smd['keywords'][0]"
      ],
      "execution_count": 50,
      "outputs": [
        {
          "output_type": "execute_result",
          "data": {
            "text/plain": [
              "[{'id': 931, 'name': 'jealousy'},\n",
              " {'id': 4290, 'name': 'toy'},\n",
              " {'id': 5202, 'name': 'boy'},\n",
              " {'id': 6054, 'name': 'friendship'},\n",
              " {'id': 9713, 'name': 'friends'},\n",
              " {'id': 9823, 'name': 'rivalry'},\n",
              " {'id': 165503, 'name': 'boy next door'},\n",
              " {'id': 170722, 'name': 'new toy'},\n",
              " {'id': 187065, 'name': 'toy comes to life'}]"
            ]
          },
          "metadata": {
            "tags": []
          },
          "execution_count": 50
        }
      ]
    },
    {
      "cell_type": "code",
      "metadata": {
        "id": "_K1I1gyo1B70"
      },
      "source": [
        "smd['keywords'] = smd['keywords'].apply(lambda x: [i['name'] for i in x] if isinstance(x, list) else [])"
      ],
      "execution_count": 51,
      "outputs": []
    },
    {
      "cell_type": "code",
      "metadata": {
        "colab": {
          "base_uri": "https://localhost:8080/"
        },
        "id": "WzCdaBpB1J7i",
        "outputId": "8dfde2a6-c6a7-4a19-aa52-5c372b716f46"
      },
      "source": [
        "smd['keywords'][0]"
      ],
      "execution_count": 52,
      "outputs": [
        {
          "output_type": "execute_result",
          "data": {
            "text/plain": [
              "['jealousy',\n",
              " 'toy',\n",
              " 'boy',\n",
              " 'friendship',\n",
              " 'friends',\n",
              " 'rivalry',\n",
              " 'boy next door',\n",
              " 'new toy',\n",
              " 'toy comes to life']"
            ]
          },
          "metadata": {
            "tags": []
          },
          "execution_count": 52
        }
      ]
    },
    {
      "cell_type": "code",
      "metadata": {
        "id": "YBabOj1w10UH"
      },
      "source": [
        "smd['cast'] = smd['cast'].apply(lambda x: [str.lower(i.replace(\" \", \"\")) for i in x])"
      ],
      "execution_count": 53,
      "outputs": []
    },
    {
      "cell_type": "code",
      "metadata": {
        "id": "Jfl-PJXZ12BE"
      },
      "source": [
        "smd['director'] = smd['director'].astype('str').apply(lambda x: str.lower(x.replace(\" \", \"\")))\n",
        "smd['director'] = smd['director'].apply(lambda x: [x,x, x])"
      ],
      "execution_count": 54,
      "outputs": []
    },
    {
      "cell_type": "code",
      "metadata": {
        "colab": {
          "base_uri": "https://localhost:8080/",
          "height": 650
        },
        "id": "315GXU_9123b",
        "outputId": "5e2b5fa6-d29e-4166-afd5-075f1aeab026"
      },
      "source": [
        "smd.head()"
      ],
      "execution_count": 55,
      "outputs": [
        {
          "output_type": "execute_result",
          "data": {
            "text/html": [
              "<div>\n",
              "<style scoped>\n",
              "    .dataframe tbody tr th:only-of-type {\n",
              "        vertical-align: middle;\n",
              "    }\n",
              "\n",
              "    .dataframe tbody tr th {\n",
              "        vertical-align: top;\n",
              "    }\n",
              "\n",
              "    .dataframe thead th {\n",
              "        text-align: right;\n",
              "    }\n",
              "</style>\n",
              "<table border=\"1\" class=\"dataframe\">\n",
              "  <thead>\n",
              "    <tr style=\"text-align: right;\">\n",
              "      <th></th>\n",
              "      <th>adult</th>\n",
              "      <th>belongs_to_collection</th>\n",
              "      <th>budget</th>\n",
              "      <th>genres</th>\n",
              "      <th>homepage</th>\n",
              "      <th>id</th>\n",
              "      <th>imdb_id</th>\n",
              "      <th>original_language</th>\n",
              "      <th>original_title</th>\n",
              "      <th>overview</th>\n",
              "      <th>popularity</th>\n",
              "      <th>poster_path</th>\n",
              "      <th>production_companies</th>\n",
              "      <th>production_countries</th>\n",
              "      <th>release_date</th>\n",
              "      <th>revenue</th>\n",
              "      <th>runtime</th>\n",
              "      <th>spoken_languages</th>\n",
              "      <th>status</th>\n",
              "      <th>tagline</th>\n",
              "      <th>title</th>\n",
              "      <th>video</th>\n",
              "      <th>vote_average</th>\n",
              "      <th>vote_count</th>\n",
              "      <th>year</th>\n",
              "      <th>cast</th>\n",
              "      <th>crew</th>\n",
              "      <th>keywords</th>\n",
              "      <th>cast_size</th>\n",
              "      <th>crew_size</th>\n",
              "      <th>director</th>\n",
              "    </tr>\n",
              "  </thead>\n",
              "  <tbody>\n",
              "    <tr>\n",
              "      <th>0</th>\n",
              "      <td>False</td>\n",
              "      <td>{'id': 10194, 'name': 'Toy Story Collection', ...</td>\n",
              "      <td>30000000</td>\n",
              "      <td>[Animation, Comedy, Family]</td>\n",
              "      <td>http://toystory.disney.com/toy-story</td>\n",
              "      <td>862</td>\n",
              "      <td>tt0114709</td>\n",
              "      <td>en</td>\n",
              "      <td>Toy Story</td>\n",
              "      <td>Led by Woody, Andy's toys live happily in his ...</td>\n",
              "      <td>21.9469</td>\n",
              "      <td>/rhIRbceoE9lR4veEXuwCC2wARtG.jpg</td>\n",
              "      <td>[{'name': 'Pixar Animation Studios', 'id': 3}]</td>\n",
              "      <td>[{'iso_3166_1': 'US', 'name': 'United States o...</td>\n",
              "      <td>1995-10-30</td>\n",
              "      <td>373554033.0</td>\n",
              "      <td>81.0</td>\n",
              "      <td>[{'iso_639_1': 'en', 'name': 'English'}]</td>\n",
              "      <td>Released</td>\n",
              "      <td>NaN</td>\n",
              "      <td>Toy Story</td>\n",
              "      <td>False</td>\n",
              "      <td>7.7</td>\n",
              "      <td>5415.0</td>\n",
              "      <td>1995</td>\n",
              "      <td>[tomhanks, timallen, donrickles]</td>\n",
              "      <td>[{'credit_id': '52fe4284c3a36847f8024f49', 'de...</td>\n",
              "      <td>[jealousy, toy, boy, friendship, friends, riva...</td>\n",
              "      <td>13</td>\n",
              "      <td>106</td>\n",
              "      <td>[johnlasseter, johnlasseter, johnlasseter]</td>\n",
              "    </tr>\n",
              "    <tr>\n",
              "      <th>1</th>\n",
              "      <td>False</td>\n",
              "      <td>NaN</td>\n",
              "      <td>65000000</td>\n",
              "      <td>[Adventure, Fantasy, Family]</td>\n",
              "      <td>NaN</td>\n",
              "      <td>8844</td>\n",
              "      <td>tt0113497</td>\n",
              "      <td>en</td>\n",
              "      <td>Jumanji</td>\n",
              "      <td>When siblings Judy and Peter discover an encha...</td>\n",
              "      <td>17.0155</td>\n",
              "      <td>/vzmL6fP7aPKNKPRTFnZmiUfciyV.jpg</td>\n",
              "      <td>[{'name': 'TriStar Pictures', 'id': 559}, {'na...</td>\n",
              "      <td>[{'iso_3166_1': 'US', 'name': 'United States o...</td>\n",
              "      <td>1995-12-15</td>\n",
              "      <td>262797249.0</td>\n",
              "      <td>104.0</td>\n",
              "      <td>[{'iso_639_1': 'en', 'name': 'English'}, {'iso...</td>\n",
              "      <td>Released</td>\n",
              "      <td>Roll the dice and unleash the excitement!</td>\n",
              "      <td>Jumanji</td>\n",
              "      <td>False</td>\n",
              "      <td>6.9</td>\n",
              "      <td>2413.0</td>\n",
              "      <td>1995</td>\n",
              "      <td>[robinwilliams, jonathanhyde, kirstendunst]</td>\n",
              "      <td>[{'credit_id': '52fe44bfc3a36847f80a7cd1', 'de...</td>\n",
              "      <td>[board game, disappearance, based on children'...</td>\n",
              "      <td>26</td>\n",
              "      <td>16</td>\n",
              "      <td>[joejohnston, joejohnston, joejohnston]</td>\n",
              "    </tr>\n",
              "    <tr>\n",
              "      <th>2</th>\n",
              "      <td>False</td>\n",
              "      <td>{'id': 119050, 'name': 'Grumpy Old Men Collect...</td>\n",
              "      <td>0</td>\n",
              "      <td>[Romance, Comedy]</td>\n",
              "      <td>NaN</td>\n",
              "      <td>15602</td>\n",
              "      <td>tt0113228</td>\n",
              "      <td>en</td>\n",
              "      <td>Grumpier Old Men</td>\n",
              "      <td>A family wedding reignites the ancient feud be...</td>\n",
              "      <td>11.7129</td>\n",
              "      <td>/6ksm1sjKMFLbO7UY2i6G1ju9SML.jpg</td>\n",
              "      <td>[{'name': 'Warner Bros.', 'id': 6194}, {'name'...</td>\n",
              "      <td>[{'iso_3166_1': 'US', 'name': 'United States o...</td>\n",
              "      <td>1995-12-22</td>\n",
              "      <td>0.0</td>\n",
              "      <td>101.0</td>\n",
              "      <td>[{'iso_639_1': 'en', 'name': 'English'}]</td>\n",
              "      <td>Released</td>\n",
              "      <td>Still Yelling. Still Fighting. Still Ready for...</td>\n",
              "      <td>Grumpier Old Men</td>\n",
              "      <td>False</td>\n",
              "      <td>6.5</td>\n",
              "      <td>92.0</td>\n",
              "      <td>1995</td>\n",
              "      <td>[waltermatthau, jacklemmon, ann-margret]</td>\n",
              "      <td>[{'credit_id': '52fe466a9251416c75077a89', 'de...</td>\n",
              "      <td>[fishing, best friend, duringcreditsstinger, o...</td>\n",
              "      <td>7</td>\n",
              "      <td>4</td>\n",
              "      <td>[howarddeutch, howarddeutch, howarddeutch]</td>\n",
              "    </tr>\n",
              "    <tr>\n",
              "      <th>3</th>\n",
              "      <td>False</td>\n",
              "      <td>NaN</td>\n",
              "      <td>16000000</td>\n",
              "      <td>[Comedy, Drama, Romance]</td>\n",
              "      <td>NaN</td>\n",
              "      <td>31357</td>\n",
              "      <td>tt0114885</td>\n",
              "      <td>en</td>\n",
              "      <td>Waiting to Exhale</td>\n",
              "      <td>Cheated on, mistreated and stepped on, the wom...</td>\n",
              "      <td>3.85949</td>\n",
              "      <td>/16XOMpEaLWkrcPqSQqhTmeJuqQl.jpg</td>\n",
              "      <td>[{'name': 'Twentieth Century Fox Film Corporat...</td>\n",
              "      <td>[{'iso_3166_1': 'US', 'name': 'United States o...</td>\n",
              "      <td>1995-12-22</td>\n",
              "      <td>81452156.0</td>\n",
              "      <td>127.0</td>\n",
              "      <td>[{'iso_639_1': 'en', 'name': 'English'}]</td>\n",
              "      <td>Released</td>\n",
              "      <td>Friends are the people who let you be yourself...</td>\n",
              "      <td>Waiting to Exhale</td>\n",
              "      <td>False</td>\n",
              "      <td>6.1</td>\n",
              "      <td>34.0</td>\n",
              "      <td>1995</td>\n",
              "      <td>[whitneyhouston, angelabassett, lorettadevine]</td>\n",
              "      <td>[{'credit_id': '52fe44779251416c91011acb', 'de...</td>\n",
              "      <td>[based on novel, interracial relationship, sin...</td>\n",
              "      <td>10</td>\n",
              "      <td>10</td>\n",
              "      <td>[forestwhitaker, forestwhitaker, forestwhitaker]</td>\n",
              "    </tr>\n",
              "    <tr>\n",
              "      <th>4</th>\n",
              "      <td>False</td>\n",
              "      <td>{'id': 96871, 'name': 'Father of the Bride Col...</td>\n",
              "      <td>0</td>\n",
              "      <td>[Comedy]</td>\n",
              "      <td>NaN</td>\n",
              "      <td>11862</td>\n",
              "      <td>tt0113041</td>\n",
              "      <td>en</td>\n",
              "      <td>Father of the Bride Part II</td>\n",
              "      <td>Just when George Banks has recovered from his ...</td>\n",
              "      <td>8.38752</td>\n",
              "      <td>/e64sOI48hQXyru7naBFyssKFxVd.jpg</td>\n",
              "      <td>[{'name': 'Sandollar Productions', 'id': 5842}...</td>\n",
              "      <td>[{'iso_3166_1': 'US', 'name': 'United States o...</td>\n",
              "      <td>1995-02-10</td>\n",
              "      <td>76578911.0</td>\n",
              "      <td>106.0</td>\n",
              "      <td>[{'iso_639_1': 'en', 'name': 'English'}]</td>\n",
              "      <td>Released</td>\n",
              "      <td>Just When His World Is Back To Normal... He's ...</td>\n",
              "      <td>Father of the Bride Part II</td>\n",
              "      <td>False</td>\n",
              "      <td>5.7</td>\n",
              "      <td>173.0</td>\n",
              "      <td>1995</td>\n",
              "      <td>[stevemartin, dianekeaton, martinshort]</td>\n",
              "      <td>[{'credit_id': '52fe44959251416c75039ed7', 'de...</td>\n",
              "      <td>[baby, midlife crisis, confidence, aging, daug...</td>\n",
              "      <td>12</td>\n",
              "      <td>7</td>\n",
              "      <td>[charlesshyer, charlesshyer, charlesshyer]</td>\n",
              "    </tr>\n",
              "  </tbody>\n",
              "</table>\n",
              "</div>"
            ],
            "text/plain": [
              "   adult  ...                                          director\n",
              "0  False  ...        [johnlasseter, johnlasseter, johnlasseter]\n",
              "1  False  ...           [joejohnston, joejohnston, joejohnston]\n",
              "2  False  ...        [howarddeutch, howarddeutch, howarddeutch]\n",
              "3  False  ...  [forestwhitaker, forestwhitaker, forestwhitaker]\n",
              "4  False  ...        [charlesshyer, charlesshyer, charlesshyer]\n",
              "\n",
              "[5 rows x 31 columns]"
            ]
          },
          "metadata": {
            "tags": []
          },
          "execution_count": 55
        }
      ]
    },
    {
      "cell_type": "code",
      "metadata": {
        "id": "luT5hB4J1_5B"
      },
      "source": [
        "s = smd.apply(lambda x: pd.Series(x['keywords']),axis=1).stack().reset_index(level=1, drop=True)\n",
        "s.name = 'keyword'"
      ],
      "execution_count": 56,
      "outputs": []
    },
    {
      "cell_type": "code",
      "metadata": {
        "colab": {
          "base_uri": "https://localhost:8080/"
        },
        "id": "ED1ti-IW2BN4",
        "outputId": "9bbfd021-d471-4ae0-f4c9-e7b037cdf38d"
      },
      "source": [
        "s"
      ],
      "execution_count": 57,
      "outputs": [
        {
          "output_type": "execute_result",
          "data": {
            "text/plain": [
              "0           jealousy\n",
              "0                toy\n",
              "0                boy\n",
              "0         friendship\n",
              "0            friends\n",
              "            ...     \n",
              "41391    destruction\n",
              "41391          kaiju\n",
              "41391          toyko\n",
              "41669          music\n",
              "41669    documentary\n",
              "Name: keyword, Length: 64407, dtype: object"
            ]
          },
          "metadata": {
            "tags": []
          },
          "execution_count": 57
        }
      ]
    },
    {
      "cell_type": "code",
      "metadata": {
        "colab": {
          "base_uri": "https://localhost:8080/"
        },
        "id": "bvMRrIYW2D0A",
        "outputId": "602b0365-111b-4f0b-dd6e-91dedeeb619f"
      },
      "source": [
        "s = s.value_counts()\n",
        "s[:5]"
      ],
      "execution_count": 58,
      "outputs": [
        {
          "output_type": "execute_result",
          "data": {
            "text/plain": [
              "independent film        610\n",
              "woman director          550\n",
              "murder                  399\n",
              "duringcreditsstinger    327\n",
              "based on novel          318\n",
              "Name: keyword, dtype: int64"
            ]
          },
          "metadata": {
            "tags": []
          },
          "execution_count": 58
        }
      ]
    },
    {
      "cell_type": "code",
      "metadata": {
        "id": "izCNh7PZ2GKc"
      },
      "source": [
        "s = s[s > 1]"
      ],
      "execution_count": 59,
      "outputs": []
    },
    {
      "cell_type": "markdown",
      "metadata": {
        "id": "V2MabRjP_SI6"
      },
      "source": [
        "#### SnowballStemmer\n",
        "어간(Stem)을 추출하는 작업을 어간 추출(stemming)"
      ]
    },
    {
      "cell_type": "code",
      "metadata": {
        "colab": {
          "base_uri": "https://localhost:8080/",
          "height": 35
        },
        "id": "PC4S3PXv2IEd",
        "outputId": "22f1a280-99b4-48a6-b881-85915de39b73"
      },
      "source": [
        "stemmer = SnowballStemmer('english')\n",
        "stemmer.stem('dogs')"
      ],
      "execution_count": 60,
      "outputs": [
        {
          "output_type": "execute_result",
          "data": {
            "application/vnd.google.colaboratory.intrinsic+json": {
              "type": "string"
            },
            "text/plain": [
              "'dog'"
            ]
          },
          "metadata": {
            "tags": []
          },
          "execution_count": 60
        }
      ]
    },
    {
      "cell_type": "code",
      "metadata": {
        "id": "3QWS3t2-2KRN"
      },
      "source": [
        "def filter_keywords(x):\n",
        "    words = []\n",
        "    for i in x:\n",
        "        if i in s:\n",
        "            words.append(i)\n",
        "    return words"
      ],
      "execution_count": 61,
      "outputs": []
    },
    {
      "cell_type": "code",
      "metadata": {
        "id": "A3zpRqUx2Ml2"
      },
      "source": [
        "smd['keywords'] = smd['keywords'].apply(filter_keywords)\n",
        "smd['keywords'] = smd['keywords'].apply(lambda x: [stemmer.stem(i) for i in x])\n",
        "smd['keywords'] = smd['keywords'].apply(lambda x: [str.lower(i.replace(\" \", \"\")) for i in x])"
      ],
      "execution_count": 62,
      "outputs": []
    },
    {
      "cell_type": "code",
      "metadata": {
        "id": "aZAHPWrs2OqL"
      },
      "source": [
        "smd['soup'] = smd['keywords'] + smd['cast'] + smd['director'] + smd['genres']\n",
        "smd['soup'] = smd['soup'].apply(lambda x: ' '.join(x))"
      ],
      "execution_count": 63,
      "outputs": []
    },
    {
      "cell_type": "markdown",
      "metadata": {
        "id": "LkWkBRNrBA6N"
      },
      "source": [
        "### CountVectorizer\n",
        "문서, 문장들에서 문법이나 단어의 순서 등의 개념을 제거하고 단순히 단어들의 빈도만 고려\n",
        "\n",
        "- stop_words = 'english' 영어에 해당하는 불용어 처리를 합니다.\n",
        "- max_features=n, 빈도 순서대로 top n 단어만 사용합니다.\n",
        "\n",
        "1. 문서를 토큰 리스트로 변환한다.\n",
        "\n",
        "2. 각 문서에서 토큰의 출현 빈도를 센다.\n",
        "\n",
        "3. 각 문서를 BOW 인코딩 벡터로 변환한다."
      ]
    },
    {
      "cell_type": "code",
      "metadata": {
        "id": "sIxMubhw2RAJ"
      },
      "source": [
        "count = CountVectorizer(analyzer='word',ngram_range=(1, 2),min_df=0, stop_words='english')\n",
        "count_matrix = count.fit_transform(smd['soup'])"
      ],
      "execution_count": 64,
      "outputs": []
    },
    {
      "cell_type": "code",
      "metadata": {
        "colab": {
          "base_uri": "https://localhost:8080/"
        },
        "id": "LIu51iCnCLl7",
        "outputId": "cc72e1ad-c0fc-4e61-ea52-c3d9181279d3"
      },
      "source": [
        "count_matrix"
      ],
      "execution_count": 65,
      "outputs": [
        {
          "output_type": "execute_result",
          "data": {
            "text/plain": [
              "<9219x107377 sparse matrix of type '<class 'numpy.int64'>'\n",
              "\twith 240050 stored elements in Compressed Sparse Row format>"
            ]
          },
          "metadata": {
            "tags": []
          },
          "execution_count": 65
        }
      ]
    },
    {
      "cell_type": "markdown",
      "metadata": {
        "id": "gLZYAylMCLQK"
      },
      "source": [
        "soup 열에 대해서 tf-idf를 수행했습니다. 9,219개의 영화를 표현하기위해 총 107,377개의 단어가 사용되었음을 보여주고 있습니다. 이제 코사인 유사도를 사용하면 바로 문서의 유사도를 구할 수 있습니다."
      ]
    },
    {
      "cell_type": "code",
      "metadata": {
        "id": "F7vo4ldu2Tdz"
      },
      "source": [
        "cosine_sim = cosine_similarity(count_matrix, count_matrix)"
      ],
      "execution_count": 66,
      "outputs": []
    },
    {
      "cell_type": "code",
      "metadata": {
        "id": "wmpfDj762VOC"
      },
      "source": [
        "smd = smd.reset_index()\n",
        "titles = smd['title']\n",
        "indices = pd.Series(smd.index, index=smd['title'])"
      ],
      "execution_count": 67,
      "outputs": []
    },
    {
      "cell_type": "code",
      "metadata": {
        "colab": {
          "base_uri": "https://localhost:8080/"
        },
        "id": "EjK-zWnP_doX",
        "outputId": "667466e5-9a86-4cb6-ab85-9709c00e904d"
      },
      "source": [
        "indices"
      ],
      "execution_count": 68,
      "outputs": [
        {
          "output_type": "execute_result",
          "data": {
            "text/plain": [
              "title\n",
              "Toy Story                                                0\n",
              "Jumanji                                                  1\n",
              "Grumpier Old Men                                         2\n",
              "Waiting to Exhale                                        3\n",
              "Father of the Bride Part II                              4\n",
              "                                                      ... \n",
              "The Last Brickmaker in America                        9214\n",
              "Rustom                                                9215\n",
              "Mohenjo Daro                                          9216\n",
              "Shin Godzilla                                         9217\n",
              "The Beatles: Eight Days a Week - The Touring Years    9218\n",
              "Length: 9219, dtype: int64"
            ]
          },
          "metadata": {
            "tags": []
          },
          "execution_count": 68
        }
      ]
    },
    {
      "cell_type": "markdown",
      "metadata": {
        "id": "_QVAFSNe_-05"
      },
      "source": [
        "1. 유사도가 Top 25 & 상위 60%의 vote_count인 영화 추출\n",
        "2. IMDB's formula를 통해 최종적으로 상위 10개의 영화 출력"
      ]
    },
    {
      "cell_type": "code",
      "metadata": {
        "id": "lQji-Igh2cmp"
      },
      "source": [
        "def improved_recommendations(title):\n",
        "    idx = indices[title]\n",
        "    sim_scores = list(enumerate(cosine_sim[idx]))\n",
        "    sim_scores = sorted(sim_scores, key=lambda x: x[1], reverse=True)\n",
        "    sim_scores = sim_scores[1:26]\n",
        "    movie_indices = [i[0] for i in sim_scores]\n",
        "    \n",
        "    #상위 25개의 영화를 대상으로 \n",
        "    movies = smd.iloc[movie_indices][['title', 'vote_count', 'vote_average', 'year']]\n",
        "    vote_counts = movies[movies['vote_count'].notnull()]['vote_count'].astype('int')\n",
        "    vote_averages = movies[movies['vote_average'].notnull()]['vote_average'].astype('int')\n",
        "    C = vote_averages.mean()\n",
        "    m = vote_counts.quantile(0.60)\n",
        "    qualified = movies[(movies['vote_count'] >= m) & (movies['vote_count'].notnull()) & (movies['vote_average'].notnull())]\n",
        "    qualified['vote_count'] = qualified['vote_count'].astype('int')\n",
        "    qualified['vote_average'] = qualified['vote_average'].astype('int')\n",
        "    qualified['wr'] = qualified.apply(weighted_rating, axis=1)\n",
        "    qualified = qualified.sort_values('wr', ascending=False).head(10)\n",
        "    return qualified"
      ],
      "execution_count": 69,
      "outputs": []
    },
    {
      "cell_type": "code",
      "metadata": {
        "colab": {
          "base_uri": "https://localhost:8080/",
          "height": 359
        },
        "id": "NFv054-R2ic9",
        "outputId": "e4712b36-aff1-44a7-ca6b-59515423c2cb"
      },
      "source": [
        "improved_recommendations('The Dark Knight')"
      ],
      "execution_count": 70,
      "outputs": [
        {
          "output_type": "execute_result",
          "data": {
            "text/html": [
              "<div>\n",
              "<style scoped>\n",
              "    .dataframe tbody tr th:only-of-type {\n",
              "        vertical-align: middle;\n",
              "    }\n",
              "\n",
              "    .dataframe tbody tr th {\n",
              "        vertical-align: top;\n",
              "    }\n",
              "\n",
              "    .dataframe thead th {\n",
              "        text-align: right;\n",
              "    }\n",
              "</style>\n",
              "<table border=\"1\" class=\"dataframe\">\n",
              "  <thead>\n",
              "    <tr style=\"text-align: right;\">\n",
              "      <th></th>\n",
              "      <th>title</th>\n",
              "      <th>vote_count</th>\n",
              "      <th>vote_average</th>\n",
              "      <th>year</th>\n",
              "      <th>wr</th>\n",
              "    </tr>\n",
              "  </thead>\n",
              "  <tbody>\n",
              "    <tr>\n",
              "      <th>7648</th>\n",
              "      <td>Inception</td>\n",
              "      <td>14075</td>\n",
              "      <td>8</td>\n",
              "      <td>2010</td>\n",
              "      <td>7.917588</td>\n",
              "    </tr>\n",
              "    <tr>\n",
              "      <th>8613</th>\n",
              "      <td>Interstellar</td>\n",
              "      <td>11187</td>\n",
              "      <td>8</td>\n",
              "      <td>2014</td>\n",
              "      <td>7.897107</td>\n",
              "    </tr>\n",
              "    <tr>\n",
              "      <th>6623</th>\n",
              "      <td>The Prestige</td>\n",
              "      <td>4510</td>\n",
              "      <td>8</td>\n",
              "      <td>2006</td>\n",
              "      <td>7.758148</td>\n",
              "    </tr>\n",
              "    <tr>\n",
              "      <th>3381</th>\n",
              "      <td>Memento</td>\n",
              "      <td>4168</td>\n",
              "      <td>8</td>\n",
              "      <td>2000</td>\n",
              "      <td>7.740175</td>\n",
              "    </tr>\n",
              "    <tr>\n",
              "      <th>8031</th>\n",
              "      <td>The Dark Knight Rises</td>\n",
              "      <td>9263</td>\n",
              "      <td>7</td>\n",
              "      <td>2012</td>\n",
              "      <td>6.921448</td>\n",
              "    </tr>\n",
              "    <tr>\n",
              "      <th>6218</th>\n",
              "      <td>Batman Begins</td>\n",
              "      <td>7511</td>\n",
              "      <td>7</td>\n",
              "      <td>2005</td>\n",
              "      <td>6.904127</td>\n",
              "    </tr>\n",
              "    <tr>\n",
              "      <th>1134</th>\n",
              "      <td>Batman Returns</td>\n",
              "      <td>1706</td>\n",
              "      <td>6</td>\n",
              "      <td>1992</td>\n",
              "      <td>5.846862</td>\n",
              "    </tr>\n",
              "    <tr>\n",
              "      <th>132</th>\n",
              "      <td>Batman Forever</td>\n",
              "      <td>1529</td>\n",
              "      <td>5</td>\n",
              "      <td>1995</td>\n",
              "      <td>5.054144</td>\n",
              "    </tr>\n",
              "    <tr>\n",
              "      <th>9024</th>\n",
              "      <td>Batman v Superman: Dawn of Justice</td>\n",
              "      <td>7189</td>\n",
              "      <td>5</td>\n",
              "      <td>2016</td>\n",
              "      <td>5.013943</td>\n",
              "    </tr>\n",
              "    <tr>\n",
              "      <th>1260</th>\n",
              "      <td>Batman &amp; Robin</td>\n",
              "      <td>1447</td>\n",
              "      <td>4</td>\n",
              "      <td>1997</td>\n",
              "      <td>4.287233</td>\n",
              "    </tr>\n",
              "  </tbody>\n",
              "</table>\n",
              "</div>"
            ],
            "text/plain": [
              "                                   title  vote_count  ...  year        wr\n",
              "7648                           Inception       14075  ...  2010  7.917588\n",
              "8613                        Interstellar       11187  ...  2014  7.897107\n",
              "6623                        The Prestige        4510  ...  2006  7.758148\n",
              "3381                             Memento        4168  ...  2000  7.740175\n",
              "8031               The Dark Knight Rises        9263  ...  2012  6.921448\n",
              "6218                       Batman Begins        7511  ...  2005  6.904127\n",
              "1134                      Batman Returns        1706  ...  1992  5.846862\n",
              "132                       Batman Forever        1529  ...  1995  5.054144\n",
              "9024  Batman v Superman: Dawn of Justice        7189  ...  2016  5.013943\n",
              "1260                      Batman & Robin        1447  ...  1997  4.287233\n",
              "\n",
              "[10 rows x 5 columns]"
            ]
          },
          "metadata": {
            "tags": []
          },
          "execution_count": 70
        }
      ]
    },
    {
      "cell_type": "code",
      "metadata": {
        "colab": {
          "base_uri": "https://localhost:8080/"
        },
        "id": "oiKFeYmI2lHz",
        "outputId": "3a39f636-ba8f-42bc-e938-a28558fd1026"
      },
      "source": [
        "get_recommendations('The Dark Knight').head(10)"
      ],
      "execution_count": 71,
      "outputs": [
        {
          "output_type": "execute_result",
          "data": {
            "text/plain": [
              "8031         The Dark Knight Rises\n",
              "6218                 Batman Begins\n",
              "6623                  The Prestige\n",
              "2085                     Following\n",
              "7648                     Inception\n",
              "4145                      Insomnia\n",
              "3381                       Memento\n",
              "8613                  Interstellar\n",
              "7659    Batman: Under the Red Hood\n",
              "1134                Batman Returns\n",
              "Name: title, dtype: object"
            ]
          },
          "metadata": {
            "tags": []
          },
          "execution_count": 71
        }
      ]
    },
    {
      "cell_type": "markdown",
      "metadata": {
        "id": "zWSwR_6pCvXW"
      },
      "source": [
        "### Collaborative Filtering\n",
        "\n",
        "**유저-아이템의 관계(User-Item interaction)로부터 도출되는 추천 시스템**\n",
        "\n",
        "나와 비슷한 유저에게 내가 좋아하는 영화를 추천하면 어떨까?  "
      ]
    },
    {
      "cell_type": "markdown",
      "metadata": {
        "id": "5K6N_z56EKzx"
      },
      "source": [
        "### 잠재 요인 협업 필터링(Latent Factor Collaborative Filtering)\n",
        " \n",
        "\n",
        "사용자-아이템 평점 매트릭스 속에 숨어 있는 잠재 요인을 추출해 추천 예측을 할 수 있게 하는 기법입니다.대규모 다차원 행렬을 SVD와 같은 차원 감소 기법으로 분해하는 과정에서 잠재 요인을 추출하는데, 이러한 기법을 행렬 분해(Matrix Factorization)라고 합니다."
      ]
    },
    {
      "cell_type": "markdown",
      "metadata": {
        "id": "teDpWkG3b-uY"
      },
      "source": [
        "![image.png](data:image/png;base64,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)"
      ]
    },
    {
      "cell_type": "markdown",
      "metadata": {
        "id": "gUk5I5O8cBi5"
      },
      "source": [
        " 그림은 행렬 분해 기법을 이용해 사용자-잠재 요인 행렬과 아이템-잠재 요인 행렬의 전치 행렬(즉, 잠재 요인-아이템 행렬)로 분해된 데이터 세트를 다시 내적 곱으로 결합하면서 **사용자가 예측하지 않은 아이템에 대한 평점을 도출하는 방식**을 대략적으로 나타낸 것입니다.\n",
        "   행렬 분해에 의해 추출되는 **'잠재 요인'**이 정확히 어떤 것인지는 알 수 없지만, 가령 도서 평점 기반의 사용자-아이템 평점 행렬 데이터라면 도서가 가지는 장르별 특성 선호도로 가정할 수 있습니다.\n",
        "   즉, 사용자-잠재 요인 행렬은 사용자의 도서 장르에 대한 선호도로, 아이템-잠재 요인 행렬은 도서의 장르별 특성 값으로 정의할 수 있습니다."
      ]
    },
    {
      "cell_type": "code",
      "metadata": {
        "id": "7iit1z-tEEpZ"
      },
      "source": [
        "reader = Reader()"
      ],
      "execution_count": 72,
      "outputs": []
    },
    {
      "cell_type": "markdown",
      "metadata": {
        "id": "L-YjJI36aPnx"
      },
      "source": [
        "Reader라는 함수를 개별적으로 사용하여 csv파일의 포맷을 지정해주어야 한다. 지정해 줄 때는 반드시 '사용자 - 아이템 - 평점' 변수명 순서를 맞추어주어야 한다"
      ]
    },
    {
      "cell_type": "code",
      "metadata": {
        "colab": {
          "base_uri": "https://localhost:8080/",
          "height": 204
        },
        "id": "qMCbCTlRXngU",
        "outputId": "ccdf9444-ed20-424b-c2dc-8f2e1bbfb674"
      },
      "source": [
        "ratings = pd.read_csv('/content/drive/MyDrive/dataset/movies_metadata.csv/ratings_small.csv')\n",
        "ratings.head()"
      ],
      "execution_count": 73,
      "outputs": [
        {
          "output_type": "execute_result",
          "data": {
            "text/html": [
              "<div>\n",
              "<style scoped>\n",
              "    .dataframe tbody tr th:only-of-type {\n",
              "        vertical-align: middle;\n",
              "    }\n",
              "\n",
              "    .dataframe tbody tr th {\n",
              "        vertical-align: top;\n",
              "    }\n",
              "\n",
              "    .dataframe thead th {\n",
              "        text-align: right;\n",
              "    }\n",
              "</style>\n",
              "<table border=\"1\" class=\"dataframe\">\n",
              "  <thead>\n",
              "    <tr style=\"text-align: right;\">\n",
              "      <th></th>\n",
              "      <th>userId</th>\n",
              "      <th>movieId</th>\n",
              "      <th>rating</th>\n",
              "      <th>timestamp</th>\n",
              "    </tr>\n",
              "  </thead>\n",
              "  <tbody>\n",
              "    <tr>\n",
              "      <th>0</th>\n",
              "      <td>1</td>\n",
              "      <td>31</td>\n",
              "      <td>2.5</td>\n",
              "      <td>1260759144</td>\n",
              "    </tr>\n",
              "    <tr>\n",
              "      <th>1</th>\n",
              "      <td>1</td>\n",
              "      <td>1029</td>\n",
              "      <td>3.0</td>\n",
              "      <td>1260759179</td>\n",
              "    </tr>\n",
              "    <tr>\n",
              "      <th>2</th>\n",
              "      <td>1</td>\n",
              "      <td>1061</td>\n",
              "      <td>3.0</td>\n",
              "      <td>1260759182</td>\n",
              "    </tr>\n",
              "    <tr>\n",
              "      <th>3</th>\n",
              "      <td>1</td>\n",
              "      <td>1129</td>\n",
              "      <td>2.0</td>\n",
              "      <td>1260759185</td>\n",
              "    </tr>\n",
              "    <tr>\n",
              "      <th>4</th>\n",
              "      <td>1</td>\n",
              "      <td>1172</td>\n",
              "      <td>4.0</td>\n",
              "      <td>1260759205</td>\n",
              "    </tr>\n",
              "  </tbody>\n",
              "</table>\n",
              "</div>"
            ],
            "text/plain": [
              "   userId  movieId  rating   timestamp\n",
              "0       1       31     2.5  1260759144\n",
              "1       1     1029     3.0  1260759179\n",
              "2       1     1061     3.0  1260759182\n",
              "3       1     1129     2.0  1260759185\n",
              "4       1     1172     4.0  1260759205"
            ]
          },
          "metadata": {
            "tags": []
          },
          "execution_count": 73
        }
      ]
    },
    {
      "cell_type": "code",
      "metadata": {
        "colab": {
          "base_uri": "https://localhost:8080/"
        },
        "id": "-aHcSjjvYOIa",
        "outputId": "3fce3541-6be6-46bd-8d2c-dd2a4c9ae8a6"
      },
      "source": [
        "# load_from_df사용해서 데이터프레임을 데이터셋으로 로드\n",
        "# Reader 설정이 완료되면 Dataset.load_from_file()은 이를 기반으로 데이터를 파싱하면서 Dataset을 로딩\n",
        "# 인자에 userid-itemid-ratings 변수들이 포함된 데이터프레임형태로 넣어주면 됨!\n",
        "\n",
        "data = Dataset.load_from_df(ratings[['userId', 'movieId', 'rating']], reader)\n",
        "svd = SVD()\n",
        "cross_validate(svd, data, measures=['RMSE', 'MAE'], cv=5, verbose=True)"
      ],
      "execution_count": 76,
      "outputs": [
        {
          "output_type": "stream",
          "text": [
            "Evaluating RMSE, MAE of algorithm SVD on 5 split(s).\n",
            "\n",
            "                  Fold 1  Fold 2  Fold 3  Fold 4  Fold 5  Mean    Std     \n",
            "RMSE (testset)    0.8872  0.9015  0.9007  0.8994  0.8953  0.8968  0.0053  \n",
            "MAE (testset)     0.6852  0.6915  0.6928  0.6938  0.6919  0.6910  0.0030  \n",
            "Fit time          3.92    3.93    3.92    4.08    3.95    3.96    0.06    \n",
            "Test time         0.13    0.25    0.15    0.24    0.17    0.19    0.05    \n"
          ],
          "name": "stdout"
        },
        {
          "output_type": "execute_result",
          "data": {
            "text/plain": [
              "{'fit_time': (3.920602798461914,\n",
              "  3.931128978729248,\n",
              "  3.921919107437134,\n",
              "  4.083341598510742,\n",
              "  3.95027756690979),\n",
              " 'test_mae': array([0.68520472, 0.69153405, 0.69275001, 0.69377346, 0.69188564]),\n",
              " 'test_rmse': array([0.8871712 , 0.90154052, 0.90074078, 0.89943101, 0.8953308 ]),\n",
              " 'test_time': (0.12519073486328125,\n",
              "  0.2535078525543213,\n",
              "  0.15199041366577148,\n",
              "  0.23827886581420898,\n",
              "  0.17116308212280273)}"
            ]
          },
          "metadata": {
            "tags": []
          },
          "execution_count": 76
        }
      ]
    },
    {
      "cell_type": "code",
      "metadata": {
        "colab": {
          "base_uri": "https://localhost:8080/"
        },
        "id": "DSFz5NPKZKjx",
        "outputId": "5f03a202-83f5-4b06-86b3-0b1f74a99af0"
      },
      "source": [
        "trainset = data.build_full_trainset()\n",
        "\n",
        "# SVD 행렬 분해 알고리즘으로 SVD객체 생성 후 학습 수행\n",
        "svd.fit(trainset)"
      ],
      "execution_count": 78,
      "outputs": [
        {
          "output_type": "execute_result",
          "data": {
            "text/plain": [
              "<surprise.prediction_algorithms.matrix_factorization.SVD at 0x7f58d8055950>"
            ]
          },
          "metadata": {
            "tags": []
          },
          "execution_count": 78
        }
      ]
    },
    {
      "cell_type": "code",
      "metadata": {
        "colab": {
          "base_uri": "https://localhost:8080/",
          "height": 670
        },
        "id": "EpnvPp2mZe5G",
        "outputId": "c8e18092-534a-44da-b369-bd0a3b92116a"
      },
      "source": [
        "ratings[ratings['userId'] == 1]"
      ],
      "execution_count": 79,
      "outputs": [
        {
          "output_type": "execute_result",
          "data": {
            "text/html": [
              "<div>\n",
              "<style scoped>\n",
              "    .dataframe tbody tr th:only-of-type {\n",
              "        vertical-align: middle;\n",
              "    }\n",
              "\n",
              "    .dataframe tbody tr th {\n",
              "        vertical-align: top;\n",
              "    }\n",
              "\n",
              "    .dataframe thead th {\n",
              "        text-align: right;\n",
              "    }\n",
              "</style>\n",
              "<table border=\"1\" class=\"dataframe\">\n",
              "  <thead>\n",
              "    <tr style=\"text-align: right;\">\n",
              "      <th></th>\n",
              "      <th>userId</th>\n",
              "      <th>movieId</th>\n",
              "      <th>rating</th>\n",
              "      <th>timestamp</th>\n",
              "    </tr>\n",
              "  </thead>\n",
              "  <tbody>\n",
              "    <tr>\n",
              "      <th>0</th>\n",
              "      <td>1</td>\n",
              "      <td>31</td>\n",
              "      <td>2.5</td>\n",
              "      <td>1260759144</td>\n",
              "    </tr>\n",
              "    <tr>\n",
              "      <th>1</th>\n",
              "      <td>1</td>\n",
              "      <td>1029</td>\n",
              "      <td>3.0</td>\n",
              "      <td>1260759179</td>\n",
              "    </tr>\n",
              "    <tr>\n",
              "      <th>2</th>\n",
              "      <td>1</td>\n",
              "      <td>1061</td>\n",
              "      <td>3.0</td>\n",
              "      <td>1260759182</td>\n",
              "    </tr>\n",
              "    <tr>\n",
              "      <th>3</th>\n",
              "      <td>1</td>\n",
              "      <td>1129</td>\n",
              "      <td>2.0</td>\n",
              "      <td>1260759185</td>\n",
              "    </tr>\n",
              "    <tr>\n",
              "      <th>4</th>\n",
              "      <td>1</td>\n",
              "      <td>1172</td>\n",
              "      <td>4.0</td>\n",
              "      <td>1260759205</td>\n",
              "    </tr>\n",
              "    <tr>\n",
              "      <th>5</th>\n",
              "      <td>1</td>\n",
              "      <td>1263</td>\n",
              "      <td>2.0</td>\n",
              "      <td>1260759151</td>\n",
              "    </tr>\n",
              "    <tr>\n",
              "      <th>6</th>\n",
              "      <td>1</td>\n",
              "      <td>1287</td>\n",
              "      <td>2.0</td>\n",
              "      <td>1260759187</td>\n",
              "    </tr>\n",
              "    <tr>\n",
              "      <th>7</th>\n",
              "      <td>1</td>\n",
              "      <td>1293</td>\n",
              "      <td>2.0</td>\n",
              "      <td>1260759148</td>\n",
              "    </tr>\n",
              "    <tr>\n",
              "      <th>8</th>\n",
              "      <td>1</td>\n",
              "      <td>1339</td>\n",
              "      <td>3.5</td>\n",
              "      <td>1260759125</td>\n",
              "    </tr>\n",
              "    <tr>\n",
              "      <th>9</th>\n",
              "      <td>1</td>\n",
              "      <td>1343</td>\n",
              "      <td>2.0</td>\n",
              "      <td>1260759131</td>\n",
              "    </tr>\n",
              "    <tr>\n",
              "      <th>10</th>\n",
              "      <td>1</td>\n",
              "      <td>1371</td>\n",
              "      <td>2.5</td>\n",
              "      <td>1260759135</td>\n",
              "    </tr>\n",
              "    <tr>\n",
              "      <th>11</th>\n",
              "      <td>1</td>\n",
              "      <td>1405</td>\n",
              "      <td>1.0</td>\n",
              "      <td>1260759203</td>\n",
              "    </tr>\n",
              "    <tr>\n",
              "      <th>12</th>\n",
              "      <td>1</td>\n",
              "      <td>1953</td>\n",
              "      <td>4.0</td>\n",
              "      <td>1260759191</td>\n",
              "    </tr>\n",
              "    <tr>\n",
              "      <th>13</th>\n",
              "      <td>1</td>\n",
              "      <td>2105</td>\n",
              "      <td>4.0</td>\n",
              "      <td>1260759139</td>\n",
              "    </tr>\n",
              "    <tr>\n",
              "      <th>14</th>\n",
              "      <td>1</td>\n",
              "      <td>2150</td>\n",
              "      <td>3.0</td>\n",
              "      <td>1260759194</td>\n",
              "    </tr>\n",
              "    <tr>\n",
              "      <th>15</th>\n",
              "      <td>1</td>\n",
              "      <td>2193</td>\n",
              "      <td>2.0</td>\n",
              "      <td>1260759198</td>\n",
              "    </tr>\n",
              "    <tr>\n",
              "      <th>16</th>\n",
              "      <td>1</td>\n",
              "      <td>2294</td>\n",
              "      <td>2.0</td>\n",
              "      <td>1260759108</td>\n",
              "    </tr>\n",
              "    <tr>\n",
              "      <th>17</th>\n",
              "      <td>1</td>\n",
              "      <td>2455</td>\n",
              "      <td>2.5</td>\n",
              "      <td>1260759113</td>\n",
              "    </tr>\n",
              "    <tr>\n",
              "      <th>18</th>\n",
              "      <td>1</td>\n",
              "      <td>2968</td>\n",
              "      <td>1.0</td>\n",
              "      <td>1260759200</td>\n",
              "    </tr>\n",
              "    <tr>\n",
              "      <th>19</th>\n",
              "      <td>1</td>\n",
              "      <td>3671</td>\n",
              "      <td>3.0</td>\n",
              "      <td>1260759117</td>\n",
              "    </tr>\n",
              "  </tbody>\n",
              "</table>\n",
              "</div>"
            ],
            "text/plain": [
              "    userId  movieId  rating   timestamp\n",
              "0        1       31     2.5  1260759144\n",
              "1        1     1029     3.0  1260759179\n",
              "2        1     1061     3.0  1260759182\n",
              "3        1     1129     2.0  1260759185\n",
              "4        1     1172     4.0  1260759205\n",
              "5        1     1263     2.0  1260759151\n",
              "6        1     1287     2.0  1260759187\n",
              "7        1     1293     2.0  1260759148\n",
              "8        1     1339     3.5  1260759125\n",
              "9        1     1343     2.0  1260759131\n",
              "10       1     1371     2.5  1260759135\n",
              "11       1     1405     1.0  1260759203\n",
              "12       1     1953     4.0  1260759191\n",
              "13       1     2105     4.0  1260759139\n",
              "14       1     2150     3.0  1260759194\n",
              "15       1     2193     2.0  1260759198\n",
              "16       1     2294     2.0  1260759108\n",
              "17       1     2455     2.5  1260759113\n",
              "18       1     2968     1.0  1260759200\n",
              "19       1     3671     3.0  1260759117"
            ]
          },
          "metadata": {
            "tags": []
          },
          "execution_count": 79
        }
      ]
    },
    {
      "cell_type": "code",
      "metadata": {
        "colab": {
          "base_uri": "https://localhost:8080/"
        },
        "id": "OUvs9yixc8i-",
        "outputId": "fbd6b49d-a1fb-4d39-c8a8-6173bd642bd0"
      },
      "source": [
        "svd.predict(1, 302, 3)"
      ],
      "execution_count": 83,
      "outputs": [
        {
          "output_type": "execute_result",
          "data": {
            "text/plain": [
              "Prediction(uid=1, iid=302, r_ui=3, est=2.7881028597373834, details={'was_impossible': False})"
            ]
          },
          "metadata": {
            "tags": []
          },
          "execution_count": 83
        }
      ]
    },
    {
      "cell_type": "code",
      "metadata": {
        "colab": {
          "base_uri": "https://localhost:8080/"
        },
        "id": "5iwcuSapZhrl",
        "outputId": "0b642d7c-e73c-4ed0-bfb2-1618ab7696cc"
      },
      "source": [
        "svd.predict(1, 302)"
      ],
      "execution_count": 82,
      "outputs": [
        {
          "output_type": "execute_result",
          "data": {
            "text/plain": [
              "Prediction(uid=1, iid=302, r_ui=None, est=2.7881028597373834, details={'was_impossible': False})"
            ]
          },
          "metadata": {
            "tags": []
          },
          "execution_count": 82
        }
      ]
    },
    {
      "cell_type": "markdown",
      "metadata": {
        "id": "EmvfwY-HdY51"
      },
      "source": [
        "### Hybrid Recommender\n",
        "\n",
        "content based + collborative filtering\n",
        "\n",
        "- Input: User ID and the Title of a Movie\n",
        "- Output: Similar movies sorted on the basis of expected ratings by that particular user."
      ]
    },
    {
      "cell_type": "code",
      "metadata": {
        "id": "fa8ObC7Pdkd0"
      },
      "source": [
        "def convert_int(x):\n",
        "    try:\n",
        "        return int(x)\n",
        "    except:\n",
        "        return np.nan"
      ],
      "execution_count": 85,
      "outputs": []
    },
    {
      "cell_type": "code",
      "metadata": {
        "id": "pixZpDYPdo_i"
      },
      "source": [
        "id_map = pd.read_csv('/content/drive/MyDrive/dataset/movies_metadata.csv/links_small.csv')[['movieId', 'tmdbId']]\n",
        "id_map['tmdbId'] = id_map['tmdbId'].apply(convert_int)\n",
        "id_map.columns = ['movieId', 'id']\n",
        "id_map = id_map.merge(smd[['title', 'id']], on='id').set_index('title')\n",
        "#id_map = id_map.set_index('tmdbId')"
      ],
      "execution_count": 86,
      "outputs": []
    },
    {
      "cell_type": "code",
      "metadata": {
        "colab": {
          "base_uri": "https://localhost:8080/",
          "height": 235
        },
        "id": "vXCahkgtdvY0",
        "outputId": "d147c066-3866-400f-e401-a0fefe91ff7c"
      },
      "source": [
        "id_map.head()"
      ],
      "execution_count": 87,
      "outputs": [
        {
          "output_type": "execute_result",
          "data": {
            "text/html": [
              "<div>\n",
              "<style scoped>\n",
              "    .dataframe tbody tr th:only-of-type {\n",
              "        vertical-align: middle;\n",
              "    }\n",
              "\n",
              "    .dataframe tbody tr th {\n",
              "        vertical-align: top;\n",
              "    }\n",
              "\n",
              "    .dataframe thead th {\n",
              "        text-align: right;\n",
              "    }\n",
              "</style>\n",
              "<table border=\"1\" class=\"dataframe\">\n",
              "  <thead>\n",
              "    <tr style=\"text-align: right;\">\n",
              "      <th></th>\n",
              "      <th>movieId</th>\n",
              "      <th>id</th>\n",
              "    </tr>\n",
              "    <tr>\n",
              "      <th>title</th>\n",
              "      <th></th>\n",
              "      <th></th>\n",
              "    </tr>\n",
              "  </thead>\n",
              "  <tbody>\n",
              "    <tr>\n",
              "      <th>Toy Story</th>\n",
              "      <td>1</td>\n",
              "      <td>862.0</td>\n",
              "    </tr>\n",
              "    <tr>\n",
              "      <th>Jumanji</th>\n",
              "      <td>2</td>\n",
              "      <td>8844.0</td>\n",
              "    </tr>\n",
              "    <tr>\n",
              "      <th>Grumpier Old Men</th>\n",
              "      <td>3</td>\n",
              "      <td>15602.0</td>\n",
              "    </tr>\n",
              "    <tr>\n",
              "      <th>Waiting to Exhale</th>\n",
              "      <td>4</td>\n",
              "      <td>31357.0</td>\n",
              "    </tr>\n",
              "    <tr>\n",
              "      <th>Father of the Bride Part II</th>\n",
              "      <td>5</td>\n",
              "      <td>11862.0</td>\n",
              "    </tr>\n",
              "  </tbody>\n",
              "</table>\n",
              "</div>"
            ],
            "text/plain": [
              "                             movieId       id\n",
              "title                                        \n",
              "Toy Story                          1    862.0\n",
              "Jumanji                            2   8844.0\n",
              "Grumpier Old Men                   3  15602.0\n",
              "Waiting to Exhale                  4  31357.0\n",
              "Father of the Bride Part II        5  11862.0"
            ]
          },
          "metadata": {
            "tags": []
          },
          "execution_count": 87
        }
      ]
    },
    {
      "cell_type": "code",
      "metadata": {
        "colab": {
          "base_uri": "https://localhost:8080/",
          "height": 450
        },
        "id": "20mJsK-4eRPn",
        "outputId": "a9d8f8a2-0c5a-42d3-ff55-d150384cfcf2"
      },
      "source": [
        "indices_map = id_map.set_index('id')\n",
        "indices_map"
      ],
      "execution_count": 89,
      "outputs": [
        {
          "output_type": "execute_result",
          "data": {
            "text/html": [
              "<div>\n",
              "<style scoped>\n",
              "    .dataframe tbody tr th:only-of-type {\n",
              "        vertical-align: middle;\n",
              "    }\n",
              "\n",
              "    .dataframe tbody tr th {\n",
              "        vertical-align: top;\n",
              "    }\n",
              "\n",
              "    .dataframe thead th {\n",
              "        text-align: right;\n",
              "    }\n",
              "</style>\n",
              "<table border=\"1\" class=\"dataframe\">\n",
              "  <thead>\n",
              "    <tr style=\"text-align: right;\">\n",
              "      <th></th>\n",
              "      <th>movieId</th>\n",
              "    </tr>\n",
              "    <tr>\n",
              "      <th>id</th>\n",
              "      <th></th>\n",
              "    </tr>\n",
              "  </thead>\n",
              "  <tbody>\n",
              "    <tr>\n",
              "      <th>862.0</th>\n",
              "      <td>1</td>\n",
              "    </tr>\n",
              "    <tr>\n",
              "      <th>8844.0</th>\n",
              "      <td>2</td>\n",
              "    </tr>\n",
              "    <tr>\n",
              "      <th>15602.0</th>\n",
              "      <td>3</td>\n",
              "    </tr>\n",
              "    <tr>\n",
              "      <th>31357.0</th>\n",
              "      <td>4</td>\n",
              "    </tr>\n",
              "    <tr>\n",
              "      <th>11862.0</th>\n",
              "      <td>5</td>\n",
              "    </tr>\n",
              "    <tr>\n",
              "      <th>...</th>\n",
              "      <td>...</td>\n",
              "    </tr>\n",
              "    <tr>\n",
              "      <th>159550.0</th>\n",
              "      <td>161944</td>\n",
              "    </tr>\n",
              "    <tr>\n",
              "      <th>392572.0</th>\n",
              "      <td>162542</td>\n",
              "    </tr>\n",
              "    <tr>\n",
              "      <th>402672.0</th>\n",
              "      <td>162672</td>\n",
              "    </tr>\n",
              "    <tr>\n",
              "      <th>315011.0</th>\n",
              "      <td>163056</td>\n",
              "    </tr>\n",
              "    <tr>\n",
              "      <th>391698.0</th>\n",
              "      <td>163949</td>\n",
              "    </tr>\n",
              "  </tbody>\n",
              "</table>\n",
              "<p>9219 rows × 1 columns</p>\n",
              "</div>"
            ],
            "text/plain": [
              "          movieId\n",
              "id               \n",
              "862.0           1\n",
              "8844.0          2\n",
              "15602.0         3\n",
              "31357.0         4\n",
              "11862.0         5\n",
              "...           ...\n",
              "159550.0   161944\n",
              "392572.0   162542\n",
              "402672.0   162672\n",
              "315011.0   163056\n",
              "391698.0   163949\n",
              "\n",
              "[9219 rows x 1 columns]"
            ]
          },
          "metadata": {
            "tags": []
          },
          "execution_count": 89
        }
      ]
    },
    {
      "cell_type": "code",
      "metadata": {
        "id": "vU5hUA2xeYGK"
      },
      "source": [
        "def hybrid(userId, title):\n",
        "    idx = indices[title]\n",
        "    tmdbId = id_map.loc[title]['id']\n",
        "    #print(idx)\n",
        "    movie_id = id_map.loc[title]['movieId']\n",
        "    \n",
        "    sim_scores = list(enumerate(cosine_sim[int(idx)]))\n",
        "    sim_scores = sorted(sim_scores, key=lambda x: x[1], reverse=True)\n",
        "    sim_scores = sim_scores[1:26]\n",
        "    movie_indices = [i[0] for i in sim_scores]\n",
        "    \n",
        "    movies = smd.iloc[movie_indices][['title', 'vote_count', 'vote_average', 'year', 'id']]\n",
        "    movies['est'] = movies['id'].apply(lambda x: svd.predict(userId, indices_map.loc[x]['movieId']).est)\n",
        "    movies = movies.sort_values('est', ascending=False)\n",
        "    return movies.head(10)"
      ],
      "execution_count": 90,
      "outputs": []
    },
    {
      "cell_type": "code",
      "metadata": {
        "colab": {
          "base_uri": "https://localhost:8080/",
          "height": 359
        },
        "id": "A51C-l3MeZ-K",
        "outputId": "7b2bafe0-6044-4f98-e551-8a48856d493e"
      },
      "source": [
        "hybrid(1, 'Avatar')"
      ],
      "execution_count": 91,
      "outputs": [
        {
          "output_type": "execute_result",
          "data": {
            "text/html": [
              "<div>\n",
              "<style scoped>\n",
              "    .dataframe tbody tr th:only-of-type {\n",
              "        vertical-align: middle;\n",
              "    }\n",
              "\n",
              "    .dataframe tbody tr th {\n",
              "        vertical-align: top;\n",
              "    }\n",
              "\n",
              "    .dataframe thead th {\n",
              "        text-align: right;\n",
              "    }\n",
              "</style>\n",
              "<table border=\"1\" class=\"dataframe\">\n",
              "  <thead>\n",
              "    <tr style=\"text-align: right;\">\n",
              "      <th></th>\n",
              "      <th>title</th>\n",
              "      <th>vote_count</th>\n",
              "      <th>vote_average</th>\n",
              "      <th>year</th>\n",
              "      <th>id</th>\n",
              "      <th>est</th>\n",
              "    </tr>\n",
              "  </thead>\n",
              "  <tbody>\n",
              "    <tr>\n",
              "      <th>1011</th>\n",
              "      <td>The Terminator</td>\n",
              "      <td>4208.0</td>\n",
              "      <td>7.4</td>\n",
              "      <td>1984</td>\n",
              "      <td>218</td>\n",
              "      <td>3.106256</td>\n",
              "    </tr>\n",
              "    <tr>\n",
              "      <th>2014</th>\n",
              "      <td>Fantastic Planet</td>\n",
              "      <td>140.0</td>\n",
              "      <td>7.6</td>\n",
              "      <td>1973</td>\n",
              "      <td>16306</td>\n",
              "      <td>3.071196</td>\n",
              "    </tr>\n",
              "    <tr>\n",
              "      <th>8401</th>\n",
              "      <td>Star Trek Into Darkness</td>\n",
              "      <td>4479.0</td>\n",
              "      <td>7.4</td>\n",
              "      <td>2013</td>\n",
              "      <td>54138</td>\n",
              "      <td>3.017485</td>\n",
              "    </tr>\n",
              "    <tr>\n",
              "      <th>522</th>\n",
              "      <td>Terminator 2: Judgment Day</td>\n",
              "      <td>4274.0</td>\n",
              "      <td>7.7</td>\n",
              "      <td>1991</td>\n",
              "      <td>280</td>\n",
              "      <td>2.999424</td>\n",
              "    </tr>\n",
              "    <tr>\n",
              "      <th>1668</th>\n",
              "      <td>Return from Witch Mountain</td>\n",
              "      <td>38.0</td>\n",
              "      <td>5.6</td>\n",
              "      <td>1978</td>\n",
              "      <td>14822</td>\n",
              "      <td>2.910801</td>\n",
              "    </tr>\n",
              "    <tr>\n",
              "      <th>974</th>\n",
              "      <td>Aliens</td>\n",
              "      <td>3282.0</td>\n",
              "      <td>7.7</td>\n",
              "      <td>1986</td>\n",
              "      <td>679</td>\n",
              "      <td>2.896533</td>\n",
              "    </tr>\n",
              "    <tr>\n",
              "      <th>8658</th>\n",
              "      <td>X-Men: Days of Future Past</td>\n",
              "      <td>6155.0</td>\n",
              "      <td>7.5</td>\n",
              "      <td>2014</td>\n",
              "      <td>127585</td>\n",
              "      <td>2.733815</td>\n",
              "    </tr>\n",
              "    <tr>\n",
              "      <th>922</th>\n",
              "      <td>The Abyss</td>\n",
              "      <td>822.0</td>\n",
              "      <td>7.1</td>\n",
              "      <td>1989</td>\n",
              "      <td>2756</td>\n",
              "      <td>2.682236</td>\n",
              "    </tr>\n",
              "    <tr>\n",
              "      <th>7265</th>\n",
              "      <td>Dragonball Evolution</td>\n",
              "      <td>475.0</td>\n",
              "      <td>2.9</td>\n",
              "      <td>2009</td>\n",
              "      <td>14164</td>\n",
              "      <td>2.626928</td>\n",
              "    </tr>\n",
              "    <tr>\n",
              "      <th>8419</th>\n",
              "      <td>Man of Steel</td>\n",
              "      <td>6462.0</td>\n",
              "      <td>6.5</td>\n",
              "      <td>2013</td>\n",
              "      <td>49521</td>\n",
              "      <td>2.620399</td>\n",
              "    </tr>\n",
              "  </tbody>\n",
              "</table>\n",
              "</div>"
            ],
            "text/plain": [
              "                           title  vote_count  ...      id       est\n",
              "1011              The Terminator      4208.0  ...     218  3.106256\n",
              "2014            Fantastic Planet       140.0  ...   16306  3.071196\n",
              "8401     Star Trek Into Darkness      4479.0  ...   54138  3.017485\n",
              "522   Terminator 2: Judgment Day      4274.0  ...     280  2.999424\n",
              "1668  Return from Witch Mountain        38.0  ...   14822  2.910801\n",
              "974                       Aliens      3282.0  ...     679  2.896533\n",
              "8658  X-Men: Days of Future Past      6155.0  ...  127585  2.733815\n",
              "922                    The Abyss       822.0  ...    2756  2.682236\n",
              "7265        Dragonball Evolution       475.0  ...   14164  2.626928\n",
              "8419                Man of Steel      6462.0  ...   49521  2.620399\n",
              "\n",
              "[10 rows x 6 columns]"
            ]
          },
          "metadata": {
            "tags": []
          },
          "execution_count": 91
        }
      ]
    },
    {
      "cell_type": "code",
      "metadata": {
        "colab": {
          "base_uri": "https://localhost:8080/",
          "height": 359
        },
        "id": "rmKCnPQFeqYZ",
        "outputId": "39c7f3a9-d49d-4e60-c8b8-020a89e4a5a1"
      },
      "source": [
        "hybrid(500, 'Avatar')"
      ],
      "execution_count": 92,
      "outputs": [
        {
          "output_type": "execute_result",
          "data": {
            "text/html": [
              "<div>\n",
              "<style scoped>\n",
              "    .dataframe tbody tr th:only-of-type {\n",
              "        vertical-align: middle;\n",
              "    }\n",
              "\n",
              "    .dataframe tbody tr th {\n",
              "        vertical-align: top;\n",
              "    }\n",
              "\n",
              "    .dataframe thead th {\n",
              "        text-align: right;\n",
              "    }\n",
              "</style>\n",
              "<table border=\"1\" class=\"dataframe\">\n",
              "  <thead>\n",
              "    <tr style=\"text-align: right;\">\n",
              "      <th></th>\n",
              "      <th>title</th>\n",
              "      <th>vote_count</th>\n",
              "      <th>vote_average</th>\n",
              "      <th>year</th>\n",
              "      <th>id</th>\n",
              "      <th>est</th>\n",
              "    </tr>\n",
              "  </thead>\n",
              "  <tbody>\n",
              "    <tr>\n",
              "      <th>2014</th>\n",
              "      <td>Fantastic Planet</td>\n",
              "      <td>140.0</td>\n",
              "      <td>7.6</td>\n",
              "      <td>1973</td>\n",
              "      <td>16306</td>\n",
              "      <td>3.638290</td>\n",
              "    </tr>\n",
              "    <tr>\n",
              "      <th>8401</th>\n",
              "      <td>Star Trek Into Darkness</td>\n",
              "      <td>4479.0</td>\n",
              "      <td>7.4</td>\n",
              "      <td>2013</td>\n",
              "      <td>54138</td>\n",
              "      <td>3.508836</td>\n",
              "    </tr>\n",
              "    <tr>\n",
              "      <th>1376</th>\n",
              "      <td>Titanic</td>\n",
              "      <td>7770.0</td>\n",
              "      <td>7.5</td>\n",
              "      <td>1997</td>\n",
              "      <td>597</td>\n",
              "      <td>3.340412</td>\n",
              "    </tr>\n",
              "    <tr>\n",
              "      <th>7265</th>\n",
              "      <td>Dragonball Evolution</td>\n",
              "      <td>475.0</td>\n",
              "      <td>2.9</td>\n",
              "      <td>2009</td>\n",
              "      <td>14164</td>\n",
              "      <td>3.089739</td>\n",
              "    </tr>\n",
              "    <tr>\n",
              "      <th>6084</th>\n",
              "      <td>Beastmaster 2: Through the Portal of Time</td>\n",
              "      <td>17.0</td>\n",
              "      <td>4.6</td>\n",
              "      <td>1991</td>\n",
              "      <td>27549</td>\n",
              "      <td>3.078789</td>\n",
              "    </tr>\n",
              "    <tr>\n",
              "      <th>1011</th>\n",
              "      <td>The Terminator</td>\n",
              "      <td>4208.0</td>\n",
              "      <td>7.4</td>\n",
              "      <td>1984</td>\n",
              "      <td>218</td>\n",
              "      <td>3.052840</td>\n",
              "    </tr>\n",
              "    <tr>\n",
              "      <th>8419</th>\n",
              "      <td>Man of Steel</td>\n",
              "      <td>6462.0</td>\n",
              "      <td>6.5</td>\n",
              "      <td>2013</td>\n",
              "      <td>49521</td>\n",
              "      <td>3.045587</td>\n",
              "    </tr>\n",
              "    <tr>\n",
              "      <th>1668</th>\n",
              "      <td>Return from Witch Mountain</td>\n",
              "      <td>38.0</td>\n",
              "      <td>5.6</td>\n",
              "      <td>1978</td>\n",
              "      <td>14822</td>\n",
              "      <td>3.017808</td>\n",
              "    </tr>\n",
              "    <tr>\n",
              "      <th>8724</th>\n",
              "      <td>Jupiter Ascending</td>\n",
              "      <td>2816.0</td>\n",
              "      <td>5.2</td>\n",
              "      <td>2015</td>\n",
              "      <td>76757</td>\n",
              "      <td>2.952109</td>\n",
              "    </tr>\n",
              "    <tr>\n",
              "      <th>2132</th>\n",
              "      <td>Superman II</td>\n",
              "      <td>642.0</td>\n",
              "      <td>6.5</td>\n",
              "      <td>1980</td>\n",
              "      <td>8536</td>\n",
              "      <td>2.926126</td>\n",
              "    </tr>\n",
              "  </tbody>\n",
              "</table>\n",
              "</div>"
            ],
            "text/plain": [
              "                                          title  vote_count  ...     id       est\n",
              "2014                           Fantastic Planet       140.0  ...  16306  3.638290\n",
              "8401                    Star Trek Into Darkness      4479.0  ...  54138  3.508836\n",
              "1376                                    Titanic      7770.0  ...    597  3.340412\n",
              "7265                       Dragonball Evolution       475.0  ...  14164  3.089739\n",
              "6084  Beastmaster 2: Through the Portal of Time        17.0  ...  27549  3.078789\n",
              "1011                             The Terminator      4208.0  ...    218  3.052840\n",
              "8419                               Man of Steel      6462.0  ...  49521  3.045587\n",
              "1668                 Return from Witch Mountain        38.0  ...  14822  3.017808\n",
              "8724                          Jupiter Ascending      2816.0  ...  76757  2.952109\n",
              "2132                                Superman II       642.0  ...   8536  2.926126\n",
              "\n",
              "[10 rows x 6 columns]"
            ]
          },
          "metadata": {
            "tags": []
          },
          "execution_count": 92
        }
      ]
    },
    {
      "cell_type": "markdown",
      "metadata": {
        "id": "bvjh8U0jesDH"
      },
      "source": [
        "유저에 따라 다른 영화를 추천받았음을 확인 할 수 있다."
      ]
    },
    {
      "cell_type": "markdown",
      "metadata": {
        "id": "OXDgcxlHgdoX"
      },
      "source": [
        "## Conclustion\n",
        "\n",
        "1. **Simple Recommender**: This system used overall TMDB Vote Count and Vote Averages to build Top Movies Charts, in general and for a specific genre. The IMDB Weighted Rating System was used to calculate ratings on which the sorting was finally performed.\n",
        "2. **Content Based Recommender**: We built two content based engines; one that took movie overview and taglines as input and the other which took metadata such as cast, crew, genre and keywords to come up with predictions. We also deviced a simple filter to give greater preference to movies with more votes and higher ratings.\n",
        "3. **Collaborative Filtering**: We used the powerful Surprise Library to build a collaborative filter based on single value decomposition. The RMSE obtained was less than 1 and the engine gave estimated ratings for a given user and movie.\n",
        "4. **Hybrid Engine**: We brought together ideas from content and collaborative filterting to build an engine that gave movie suggestions to a particular user based on the estimated ratings that it had internally calculated for that user."
      ]
    }
  ]
}