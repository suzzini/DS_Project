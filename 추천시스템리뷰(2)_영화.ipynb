{
  "nbformat": 4,
  "nbformat_minor": 0,
  "metadata": {
    "colab": {
      "name": "추천시스템리뷰(2)_영화.ipynb",
      "provenance": [],
      "machine_shape": "hm",
      "mount_file_id": "1UwrmhIJB1_FfKroHHlleJlQaMOmvPgCY",
      "authorship_tag": "ABX9TyNqHG+FyzW5zIqQarmmaiYJ",
      "include_colab_link": true
    },
    "kernelspec": {
      "name": "python3",
      "display_name": "Python 3"
    },
    "language_info": {
      "name": "python"
    },
    "accelerator": "GPU"
  },
  "cells": [
    {
      "cell_type": "markdown",
      "metadata": {
        "id": "view-in-github",
        "colab_type": "text"
      },
      "source": [
        "<a href=\"https://colab.research.google.com/github/suzzini/DS_Project/blob/main/%EC%B6%94%EC%B2%9C%EC%8B%9C%EC%8A%A4%ED%85%9C%EB%A6%AC%EB%B7%B0(2)_%EC%98%81%ED%99%94.ipynb\" target=\"_parent\"><img src=\"https://colab.research.google.com/assets/colab-badge.svg\" alt=\"Open In Colab\"/></a>"
      ]
    },
    {
      "cell_type": "markdown",
      "metadata": {
        "id": "zaXBaUH3Trb7"
      },
      "source": [
        "## 추천 알고리즘 코드 리뷰하기(2)\n",
        "\n",
        "링크 : https://www.kaggle.com/rounakbanik/movie-recommender-systems"
      ]
    },
    {
      "cell_type": "code",
      "metadata": {
        "colab": {
          "base_uri": "https://localhost:8080/"
        },
        "id": "MFQhC4W4Tj32",
        "outputId": "4288f64a-be1b-47aa-db6a-6ac5923c23d0"
      },
      "source": [
        "!pip install scikit-surprise"
      ],
      "execution_count": 1,
      "outputs": [
        {
          "output_type": "stream",
          "text": [
            "Collecting scikit-surprise\n",
            "\u001b[?25l  Downloading https://files.pythonhosted.org/packages/97/37/5d334adaf5ddd65da99fc65f6507e0e4599d092ba048f4302fe8775619e8/scikit-surprise-1.1.1.tar.gz (11.8MB)\n",
            "\u001b[K     |████████████████████████████████| 11.8MB 13.7MB/s \n",
            "\u001b[?25hRequirement already satisfied: joblib>=0.11 in /usr/local/lib/python3.7/dist-packages (from scikit-surprise) (1.0.1)\n",
            "Requirement already satisfied: numpy>=1.11.2 in /usr/local/lib/python3.7/dist-packages (from scikit-surprise) (1.19.5)\n",
            "Requirement already satisfied: scipy>=1.0.0 in /usr/local/lib/python3.7/dist-packages (from scikit-surprise) (1.4.1)\n",
            "Requirement already satisfied: six>=1.10.0 in /usr/local/lib/python3.7/dist-packages (from scikit-surprise) (1.15.0)\n",
            "Building wheels for collected packages: scikit-surprise\n",
            "  Building wheel for scikit-surprise (setup.py) ... \u001b[?25l\u001b[?25hdone\n",
            "  Created wheel for scikit-surprise: filename=scikit_surprise-1.1.1-cp37-cp37m-linux_x86_64.whl size=1617638 sha256=11480049341e3ce8d53cc49cfe1733ea7fa246e4072bbc2ddf914c81e5536d63\n",
            "  Stored in directory: /root/.cache/pip/wheels/78/9c/3d/41b419c9d2aff5b6e2b4c0fc8d25c538202834058f9ed110d0\n",
            "Successfully built scikit-surprise\n",
            "Installing collected packages: scikit-surprise\n",
            "Successfully installed scikit-surprise-1.1.1\n"
          ],
          "name": "stdout"
        }
      ]
    },
    {
      "cell_type": "code",
      "metadata": {
        "id": "KoTSIG8pTNib"
      },
      "source": [
        "%matplotlib inline\n",
        "import pandas as pd\n",
        "import numpy as np\n",
        "import matplotlib.pyplot as plt\n",
        "import seaborn as sns\n",
        "from scipy import stats\n",
        "from ast import literal_eval\n",
        "from sklearn.feature_extraction.text import TfidfVectorizer, CountVectorizer\n",
        "from sklearn.metrics.pairwise import linear_kernel, cosine_similarity\n",
        "from nltk.stem.snowball import SnowballStemmer\n",
        "from nltk.stem.wordnet import WordNetLemmatizer\n",
        "from nltk.corpus import wordnet\n",
        "from surprise import Reader, Dataset, SVD\n",
        "from surprise.model_selection import cross_validate\n",
        "\n",
        "import warnings; warnings.simplefilter('ignore')"
      ],
      "execution_count": 2,
      "outputs": []
    },
    {
      "cell_type": "markdown",
      "metadata": {
        "id": "B1319RH5UH-v"
      },
      "source": [
        "evaluate 시 다음과 같이 진행(cross_validate 사용)\n",
        "\n",
        "```\n",
        "from surprise import SVD\n",
        "from surprise import Dataset\n",
        "from surprise.model_selection import cross_validate\n",
        "\n",
        "# Load the dataset (download it if needed)\n",
        "data = Dataset.load_builtin('ml-100k')\n",
        "\n",
        "# Use the famous SVD algorithm\n",
        "algo = SVD()\n",
        "\n",
        "# Run 5-fold cross-validation and then print results\n",
        "cross_validate(algo, data, measures=['RMSE', 'MAE'], cv=5, verbose=True)\n",
        "```"
      ]
    },
    {
      "cell_type": "markdown",
      "metadata": {
        "id": "6A6tVlc6auFs"
      },
      "source": [
        "### 1. simple recommender system\n",
        "- 영화의 흥행과 장르에 기반한 간단한 추천시스템\n",
        "- 대중들에게 좋아요가 높다는 것은 인기와 찬사를 받은 영화라는 것에 기반\n",
        "- 유저에게 개인화된 맞춤 서비스는 아님"
      ]
    },
    {
      "cell_type": "code",
      "metadata": {
        "colab": {
          "base_uri": "https://localhost:8080/",
          "height": 650
        },
        "id": "FJHeHq5CUb0S",
        "outputId": "79721f37-0583-4840-9534-ea526c5bb3c5"
      },
      "source": [
        "md = pd.read_csv('/content/drive/MyDrive/dataset/movies_metadata.csv/movies_metadata.csv')\n",
        "md.head()"
      ],
      "execution_count": 3,
      "outputs": [
        {
          "output_type": "execute_result",
          "data": {
            "text/html": [
              "<div>\n",
              "<style scoped>\n",
              "    .dataframe tbody tr th:only-of-type {\n",
              "        vertical-align: middle;\n",
              "    }\n",
              "\n",
              "    .dataframe tbody tr th {\n",
              "        vertical-align: top;\n",
              "    }\n",
              "\n",
              "    .dataframe thead th {\n",
              "        text-align: right;\n",
              "    }\n",
              "</style>\n",
              "<table border=\"1\" class=\"dataframe\">\n",
              "  <thead>\n",
              "    <tr style=\"text-align: right;\">\n",
              "      <th></th>\n",
              "      <th>adult</th>\n",
              "      <th>belongs_to_collection</th>\n",
              "      <th>budget</th>\n",
              "      <th>genres</th>\n",
              "      <th>homepage</th>\n",
              "      <th>id</th>\n",
              "      <th>imdb_id</th>\n",
              "      <th>original_language</th>\n",
              "      <th>original_title</th>\n",
              "      <th>overview</th>\n",
              "      <th>popularity</th>\n",
              "      <th>poster_path</th>\n",
              "      <th>production_companies</th>\n",
              "      <th>production_countries</th>\n",
              "      <th>release_date</th>\n",
              "      <th>revenue</th>\n",
              "      <th>runtime</th>\n",
              "      <th>spoken_languages</th>\n",
              "      <th>status</th>\n",
              "      <th>tagline</th>\n",
              "      <th>title</th>\n",
              "      <th>video</th>\n",
              "      <th>vote_average</th>\n",
              "      <th>vote_count</th>\n",
              "    </tr>\n",
              "  </thead>\n",
              "  <tbody>\n",
              "    <tr>\n",
              "      <th>0</th>\n",
              "      <td>False</td>\n",
              "      <td>{'id': 10194, 'name': 'Toy Story Collection', ...</td>\n",
              "      <td>30000000</td>\n",
              "      <td>[{'id': 16, 'name': 'Animation'}, {'id': 35, '...</td>\n",
              "      <td>http://toystory.disney.com/toy-story</td>\n",
              "      <td>862</td>\n",
              "      <td>tt0114709</td>\n",
              "      <td>en</td>\n",
              "      <td>Toy Story</td>\n",
              "      <td>Led by Woody, Andy's toys live happily in his ...</td>\n",
              "      <td>21.9469</td>\n",
              "      <td>/rhIRbceoE9lR4veEXuwCC2wARtG.jpg</td>\n",
              "      <td>[{'name': 'Pixar Animation Studios', 'id': 3}]</td>\n",
              "      <td>[{'iso_3166_1': 'US', 'name': 'United States o...</td>\n",
              "      <td>1995-10-30</td>\n",
              "      <td>373554033.0</td>\n",
              "      <td>81.0</td>\n",
              "      <td>[{'iso_639_1': 'en', 'name': 'English'}]</td>\n",
              "      <td>Released</td>\n",
              "      <td>NaN</td>\n",
              "      <td>Toy Story</td>\n",
              "      <td>False</td>\n",
              "      <td>7.7</td>\n",
              "      <td>5415.0</td>\n",
              "    </tr>\n",
              "    <tr>\n",
              "      <th>1</th>\n",
              "      <td>False</td>\n",
              "      <td>NaN</td>\n",
              "      <td>65000000</td>\n",
              "      <td>[{'id': 12, 'name': 'Adventure'}, {'id': 14, '...</td>\n",
              "      <td>NaN</td>\n",
              "      <td>8844</td>\n",
              "      <td>tt0113497</td>\n",
              "      <td>en</td>\n",
              "      <td>Jumanji</td>\n",
              "      <td>When siblings Judy and Peter discover an encha...</td>\n",
              "      <td>17.0155</td>\n",
              "      <td>/vzmL6fP7aPKNKPRTFnZmiUfciyV.jpg</td>\n",
              "      <td>[{'name': 'TriStar Pictures', 'id': 559}, {'na...</td>\n",
              "      <td>[{'iso_3166_1': 'US', 'name': 'United States o...</td>\n",
              "      <td>1995-12-15</td>\n",
              "      <td>262797249.0</td>\n",
              "      <td>104.0</td>\n",
              "      <td>[{'iso_639_1': 'en', 'name': 'English'}, {'iso...</td>\n",
              "      <td>Released</td>\n",
              "      <td>Roll the dice and unleash the excitement!</td>\n",
              "      <td>Jumanji</td>\n",
              "      <td>False</td>\n",
              "      <td>6.9</td>\n",
              "      <td>2413.0</td>\n",
              "    </tr>\n",
              "    <tr>\n",
              "      <th>2</th>\n",
              "      <td>False</td>\n",
              "      <td>{'id': 119050, 'name': 'Grumpy Old Men Collect...</td>\n",
              "      <td>0</td>\n",
              "      <td>[{'id': 10749, 'name': 'Romance'}, {'id': 35, ...</td>\n",
              "      <td>NaN</td>\n",
              "      <td>15602</td>\n",
              "      <td>tt0113228</td>\n",
              "      <td>en</td>\n",
              "      <td>Grumpier Old Men</td>\n",
              "      <td>A family wedding reignites the ancient feud be...</td>\n",
              "      <td>11.7129</td>\n",
              "      <td>/6ksm1sjKMFLbO7UY2i6G1ju9SML.jpg</td>\n",
              "      <td>[{'name': 'Warner Bros.', 'id': 6194}, {'name'...</td>\n",
              "      <td>[{'iso_3166_1': 'US', 'name': 'United States o...</td>\n",
              "      <td>1995-12-22</td>\n",
              "      <td>0.0</td>\n",
              "      <td>101.0</td>\n",
              "      <td>[{'iso_639_1': 'en', 'name': 'English'}]</td>\n",
              "      <td>Released</td>\n",
              "      <td>Still Yelling. Still Fighting. Still Ready for...</td>\n",
              "      <td>Grumpier Old Men</td>\n",
              "      <td>False</td>\n",
              "      <td>6.5</td>\n",
              "      <td>92.0</td>\n",
              "    </tr>\n",
              "    <tr>\n",
              "      <th>3</th>\n",
              "      <td>False</td>\n",
              "      <td>NaN</td>\n",
              "      <td>16000000</td>\n",
              "      <td>[{'id': 35, 'name': 'Comedy'}, {'id': 18, 'nam...</td>\n",
              "      <td>NaN</td>\n",
              "      <td>31357</td>\n",
              "      <td>tt0114885</td>\n",
              "      <td>en</td>\n",
              "      <td>Waiting to Exhale</td>\n",
              "      <td>Cheated on, mistreated and stepped on, the wom...</td>\n",
              "      <td>3.85949</td>\n",
              "      <td>/16XOMpEaLWkrcPqSQqhTmeJuqQl.jpg</td>\n",
              "      <td>[{'name': 'Twentieth Century Fox Film Corporat...</td>\n",
              "      <td>[{'iso_3166_1': 'US', 'name': 'United States o...</td>\n",
              "      <td>1995-12-22</td>\n",
              "      <td>81452156.0</td>\n",
              "      <td>127.0</td>\n",
              "      <td>[{'iso_639_1': 'en', 'name': 'English'}]</td>\n",
              "      <td>Released</td>\n",
              "      <td>Friends are the people who let you be yourself...</td>\n",
              "      <td>Waiting to Exhale</td>\n",
              "      <td>False</td>\n",
              "      <td>6.1</td>\n",
              "      <td>34.0</td>\n",
              "    </tr>\n",
              "    <tr>\n",
              "      <th>4</th>\n",
              "      <td>False</td>\n",
              "      <td>{'id': 96871, 'name': 'Father of the Bride Col...</td>\n",
              "      <td>0</td>\n",
              "      <td>[{'id': 35, 'name': 'Comedy'}]</td>\n",
              "      <td>NaN</td>\n",
              "      <td>11862</td>\n",
              "      <td>tt0113041</td>\n",
              "      <td>en</td>\n",
              "      <td>Father of the Bride Part II</td>\n",
              "      <td>Just when George Banks has recovered from his ...</td>\n",
              "      <td>8.38752</td>\n",
              "      <td>/e64sOI48hQXyru7naBFyssKFxVd.jpg</td>\n",
              "      <td>[{'name': 'Sandollar Productions', 'id': 5842}...</td>\n",
              "      <td>[{'iso_3166_1': 'US', 'name': 'United States o...</td>\n",
              "      <td>1995-02-10</td>\n",
              "      <td>76578911.0</td>\n",
              "      <td>106.0</td>\n",
              "      <td>[{'iso_639_1': 'en', 'name': 'English'}]</td>\n",
              "      <td>Released</td>\n",
              "      <td>Just When His World Is Back To Normal... He's ...</td>\n",
              "      <td>Father of the Bride Part II</td>\n",
              "      <td>False</td>\n",
              "      <td>5.7</td>\n",
              "      <td>173.0</td>\n",
              "    </tr>\n",
              "  </tbody>\n",
              "</table>\n",
              "</div>"
            ],
            "text/plain": [
              "   adult  ... vote_count\n",
              "0  False  ...     5415.0\n",
              "1  False  ...     2413.0\n",
              "2  False  ...       92.0\n",
              "3  False  ...       34.0\n",
              "4  False  ...      173.0\n",
              "\n",
              "[5 rows x 24 columns]"
            ]
          },
          "metadata": {
            "tags": []
          },
          "execution_count": 3
        }
      ]
    },
    {
      "cell_type": "markdown",
      "metadata": {
        "id": "9CXvaH47bsHy"
      },
      "source": [
        "### IMDB's weighted rating  \n",
        "![image.png](data:image/png;base64,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)\n",
        "\n",
        "\n",
        "\n",
        "\n"
      ]
    },
    {
      "cell_type": "markdown",
      "metadata": {
        "id": "FCgns9h0cH-b"
      },
      "source": [
        "- v is the number of votes for the movie\n",
        "- m is the minimum votes required to be listed in the chart\n",
        "- R is the average rating of the movie\n",
        "- C is the mean vote across the whole report"
      ]
    },
    {
      "cell_type": "code",
      "metadata": {
        "id": "UwLHuKEiUi5Z"
      },
      "source": [
        "md['genres']=md['genres'].fillna('[]').apply(literal_eval).apply(lambda x: [i['name'] for i in x] if isinstance(x, list) else [])"
      ],
      "execution_count": 4,
      "outputs": []
    },
    {
      "cell_type": "code",
      "metadata": {
        "colab": {
          "base_uri": "https://localhost:8080/"
        },
        "id": "SeGrDXzpWE08",
        "outputId": "628f5e4b-7f5a-4044-986f-7eb94497595a"
      },
      "source": [
        "vote_averages = md[md['vote_average'].notnull()]['vote_average'].astype('int')\n",
        "C = vote_averages.mean()\n",
        "C"
      ],
      "execution_count": 5,
      "outputs": [
        {
          "output_type": "execute_result",
          "data": {
            "text/plain": [
              "5.244896612406511"
            ]
          },
          "metadata": {
            "tags": []
          },
          "execution_count": 5
        }
      ]
    },
    {
      "cell_type": "code",
      "metadata": {
        "colab": {
          "base_uri": "https://localhost:8080/"
        },
        "id": "wgO08mKsW2-P",
        "outputId": "17ca2bde-defa-49a2-b150-ef679eb24f7c"
      },
      "source": [
        "vote_counts = md[md['vote_count'].notnull()]['vote_count'].astype('int')\n",
        "m = vote_counts.quantile(0.95) #신빙성을 위해 어느정도의 투표수를 위해 큰 순서대로 95%만 가지고 가기\n",
        "m"
      ],
      "execution_count": 6,
      "outputs": [
        {
          "output_type": "execute_result",
          "data": {
            "text/plain": [
              "434.0"
            ]
          },
          "metadata": {
            "tags": []
          },
          "execution_count": 6
        }
      ]
    },
    {
      "cell_type": "code",
      "metadata": {
        "id": "K6bSmVXXXBRf"
      },
      "source": [
        "md['year'] = pd.to_datetime(md['release_date'], errors='coerce').apply(lambda x: str(x).split('-')[0] if x != np.nan else np.nan)"
      ],
      "execution_count": 7,
      "outputs": []
    },
    {
      "cell_type": "code",
      "metadata": {
        "colab": {
          "base_uri": "https://localhost:8080/"
        },
        "id": "va4MShcwXXOE",
        "outputId": "86e4ae85-b33d-43b5-b40b-1bc8ed8cc54e"
      },
      "source": [
        "qualified = md[(md['vote_count'] >= m) & (md['vote_count'].notnull()) & (md['vote_average'].notnull())][['title', 'year', 'vote_count', 'vote_average', 'popularity', 'genres']]\n",
        "qualified['vote_count'] = qualified['vote_count'].astype('int')\n",
        "qualified['vote_average'] = qualified['vote_average'].astype('int')\n",
        "qualified.shape"
      ],
      "execution_count": 8,
      "outputs": [
        {
          "output_type": "execute_result",
          "data": {
            "text/plain": [
              "(2274, 6)"
            ]
          },
          "metadata": {
            "tags": []
          },
          "execution_count": 8
        }
      ]
    },
    {
      "cell_type": "markdown",
      "metadata": {
        "id": "-u2kc7vWepVL"
      },
      "source": [
        "- 평가하기 위해 vote_count가 434이상의 이여야 하고\n",
        "- 그렇게해서 2274개의 영화를 평가하기로 함"
      ]
    },
    {
      "cell_type": "code",
      "metadata": {
        "id": "QyzX-8sMXaCA"
      },
      "source": [
        "def weighted_rating(x):\n",
        "    v = x['vote_count']\n",
        "    R = x['vote_average']\n",
        "    return (v/(v+m) * R) + (m/(m+v) * C)"
      ],
      "execution_count": 9,
      "outputs": []
    },
    {
      "cell_type": "code",
      "metadata": {
        "id": "TEpbzxVTXbZr"
      },
      "source": [
        "qualified['wr'] = qualified.apply(weighted_rating, axis=1)"
      ],
      "execution_count": 10,
      "outputs": []
    },
    {
      "cell_type": "code",
      "metadata": {
        "id": "RKVStNluXeDd"
      },
      "source": [
        "qualified = qualified.sort_values('wr', ascending=False).head(250)"
      ],
      "execution_count": 11,
      "outputs": []
    },
    {
      "cell_type": "markdown",
      "metadata": {
        "id": "N-heg78de69W"
      },
      "source": [
        "### Top Movies"
      ]
    },
    {
      "cell_type": "code",
      "metadata": {
        "colab": {
          "base_uri": "https://localhost:8080/",
          "height": 514
        },
        "id": "u4VjT4bPXfzf",
        "outputId": "ccc5f18a-f451-418e-e5e1-75365a9a9cd5"
      },
      "source": [
        "qualified.head(15)"
      ],
      "execution_count": 12,
      "outputs": [
        {
          "output_type": "execute_result",
          "data": {
            "text/html": [
              "<div>\n",
              "<style scoped>\n",
              "    .dataframe tbody tr th:only-of-type {\n",
              "        vertical-align: middle;\n",
              "    }\n",
              "\n",
              "    .dataframe tbody tr th {\n",
              "        vertical-align: top;\n",
              "    }\n",
              "\n",
              "    .dataframe thead th {\n",
              "        text-align: right;\n",
              "    }\n",
              "</style>\n",
              "<table border=\"1\" class=\"dataframe\">\n",
              "  <thead>\n",
              "    <tr style=\"text-align: right;\">\n",
              "      <th></th>\n",
              "      <th>title</th>\n",
              "      <th>year</th>\n",
              "      <th>vote_count</th>\n",
              "      <th>vote_average</th>\n",
              "      <th>popularity</th>\n",
              "      <th>genres</th>\n",
              "      <th>wr</th>\n",
              "    </tr>\n",
              "  </thead>\n",
              "  <tbody>\n",
              "    <tr>\n",
              "      <th>15480</th>\n",
              "      <td>Inception</td>\n",
              "      <td>2010</td>\n",
              "      <td>14075</td>\n",
              "      <td>8</td>\n",
              "      <td>29.1081</td>\n",
              "      <td>[Action, Thriller, Science Fiction, Mystery, A...</td>\n",
              "      <td>7.917588</td>\n",
              "    </tr>\n",
              "    <tr>\n",
              "      <th>12481</th>\n",
              "      <td>The Dark Knight</td>\n",
              "      <td>2008</td>\n",
              "      <td>12269</td>\n",
              "      <td>8</td>\n",
              "      <td>123.167</td>\n",
              "      <td>[Drama, Action, Crime, Thriller]</td>\n",
              "      <td>7.905871</td>\n",
              "    </tr>\n",
              "    <tr>\n",
              "      <th>22879</th>\n",
              "      <td>Interstellar</td>\n",
              "      <td>2014</td>\n",
              "      <td>11187</td>\n",
              "      <td>8</td>\n",
              "      <td>32.2135</td>\n",
              "      <td>[Adventure, Drama, Science Fiction]</td>\n",
              "      <td>7.897107</td>\n",
              "    </tr>\n",
              "    <tr>\n",
              "      <th>2843</th>\n",
              "      <td>Fight Club</td>\n",
              "      <td>1999</td>\n",
              "      <td>9678</td>\n",
              "      <td>8</td>\n",
              "      <td>63.8696</td>\n",
              "      <td>[Drama]</td>\n",
              "      <td>7.881753</td>\n",
              "    </tr>\n",
              "    <tr>\n",
              "      <th>4863</th>\n",
              "      <td>The Lord of the Rings: The Fellowship of the Ring</td>\n",
              "      <td>2001</td>\n",
              "      <td>8892</td>\n",
              "      <td>8</td>\n",
              "      <td>32.0707</td>\n",
              "      <td>[Adventure, Fantasy, Action]</td>\n",
              "      <td>7.871787</td>\n",
              "    </tr>\n",
              "    <tr>\n",
              "      <th>292</th>\n",
              "      <td>Pulp Fiction</td>\n",
              "      <td>1994</td>\n",
              "      <td>8670</td>\n",
              "      <td>8</td>\n",
              "      <td>140.95</td>\n",
              "      <td>[Thriller, Crime]</td>\n",
              "      <td>7.868660</td>\n",
              "    </tr>\n",
              "    <tr>\n",
              "      <th>314</th>\n",
              "      <td>The Shawshank Redemption</td>\n",
              "      <td>1994</td>\n",
              "      <td>8358</td>\n",
              "      <td>8</td>\n",
              "      <td>51.6454</td>\n",
              "      <td>[Drama, Crime]</td>\n",
              "      <td>7.864000</td>\n",
              "    </tr>\n",
              "    <tr>\n",
              "      <th>7000</th>\n",
              "      <td>The Lord of the Rings: The Return of the King</td>\n",
              "      <td>2003</td>\n",
              "      <td>8226</td>\n",
              "      <td>8</td>\n",
              "      <td>29.3244</td>\n",
              "      <td>[Adventure, Fantasy, Action]</td>\n",
              "      <td>7.861927</td>\n",
              "    </tr>\n",
              "    <tr>\n",
              "      <th>351</th>\n",
              "      <td>Forrest Gump</td>\n",
              "      <td>1994</td>\n",
              "      <td>8147</td>\n",
              "      <td>8</td>\n",
              "      <td>48.3072</td>\n",
              "      <td>[Comedy, Drama, Romance]</td>\n",
              "      <td>7.860656</td>\n",
              "    </tr>\n",
              "    <tr>\n",
              "      <th>5814</th>\n",
              "      <td>The Lord of the Rings: The Two Towers</td>\n",
              "      <td>2002</td>\n",
              "      <td>7641</td>\n",
              "      <td>8</td>\n",
              "      <td>29.4235</td>\n",
              "      <td>[Adventure, Fantasy, Action]</td>\n",
              "      <td>7.851924</td>\n",
              "    </tr>\n",
              "    <tr>\n",
              "      <th>256</th>\n",
              "      <td>Star Wars</td>\n",
              "      <td>1977</td>\n",
              "      <td>6778</td>\n",
              "      <td>8</td>\n",
              "      <td>42.1497</td>\n",
              "      <td>[Adventure, Action, Science Fiction]</td>\n",
              "      <td>7.834205</td>\n",
              "    </tr>\n",
              "    <tr>\n",
              "      <th>1225</th>\n",
              "      <td>Back to the Future</td>\n",
              "      <td>1985</td>\n",
              "      <td>6239</td>\n",
              "      <td>8</td>\n",
              "      <td>25.7785</td>\n",
              "      <td>[Adventure, Comedy, Science Fiction, Family]</td>\n",
              "      <td>7.820813</td>\n",
              "    </tr>\n",
              "    <tr>\n",
              "      <th>834</th>\n",
              "      <td>The Godfather</td>\n",
              "      <td>1972</td>\n",
              "      <td>6024</td>\n",
              "      <td>8</td>\n",
              "      <td>41.1093</td>\n",
              "      <td>[Drama, Crime]</td>\n",
              "      <td>7.814847</td>\n",
              "    </tr>\n",
              "    <tr>\n",
              "      <th>1154</th>\n",
              "      <td>The Empire Strikes Back</td>\n",
              "      <td>1980</td>\n",
              "      <td>5998</td>\n",
              "      <td>8</td>\n",
              "      <td>19.471</td>\n",
              "      <td>[Adventure, Action, Science Fiction]</td>\n",
              "      <td>7.814099</td>\n",
              "    </tr>\n",
              "    <tr>\n",
              "      <th>46</th>\n",
              "      <td>Se7en</td>\n",
              "      <td>1995</td>\n",
              "      <td>5915</td>\n",
              "      <td>8</td>\n",
              "      <td>18.4574</td>\n",
              "      <td>[Crime, Mystery, Thriller]</td>\n",
              "      <td>7.811669</td>\n",
              "    </tr>\n",
              "  </tbody>\n",
              "</table>\n",
              "</div>"
            ],
            "text/plain": [
              "                                                   title  ...        wr\n",
              "15480                                          Inception  ...  7.917588\n",
              "12481                                    The Dark Knight  ...  7.905871\n",
              "22879                                       Interstellar  ...  7.897107\n",
              "2843                                          Fight Club  ...  7.881753\n",
              "4863   The Lord of the Rings: The Fellowship of the Ring  ...  7.871787\n",
              "292                                         Pulp Fiction  ...  7.868660\n",
              "314                             The Shawshank Redemption  ...  7.864000\n",
              "7000       The Lord of the Rings: The Return of the King  ...  7.861927\n",
              "351                                         Forrest Gump  ...  7.860656\n",
              "5814               The Lord of the Rings: The Two Towers  ...  7.851924\n",
              "256                                            Star Wars  ...  7.834205\n",
              "1225                                  Back to the Future  ...  7.820813\n",
              "834                                        The Godfather  ...  7.814847\n",
              "1154                             The Empire Strikes Back  ...  7.814099\n",
              "46                                                 Se7en  ...  7.811669\n",
              "\n",
              "[15 rows x 7 columns]"
            ]
          },
          "metadata": {
            "tags": []
          },
          "execution_count": 12
        }
      ]
    },
    {
      "cell_type": "markdown",
      "metadata": {
        "id": "y1BaA6kwfW9H"
      },
      "source": [
        "### 특정 장르를 위한 함수 생성\n",
        "- 영화의 genre를 하나로 정의시키기"
      ]
    },
    {
      "cell_type": "code",
      "metadata": {
        "colab": {
          "base_uri": "https://localhost:8080/",
          "height": 419
        },
        "id": "l3vpuFLFfrkL",
        "outputId": "7e1cd7fc-4aaf-4efe-84e0-6549998364f1"
      },
      "source": [
        "md.apply(lambda x: pd.Series(x['genres']),axis=1)"
      ],
      "execution_count": 13,
      "outputs": [
        {
          "output_type": "execute_result",
          "data": {
            "text/html": [
              "<div>\n",
              "<style scoped>\n",
              "    .dataframe tbody tr th:only-of-type {\n",
              "        vertical-align: middle;\n",
              "    }\n",
              "\n",
              "    .dataframe tbody tr th {\n",
              "        vertical-align: top;\n",
              "    }\n",
              "\n",
              "    .dataframe thead th {\n",
              "        text-align: right;\n",
              "    }\n",
              "</style>\n",
              "<table border=\"1\" class=\"dataframe\">\n",
              "  <thead>\n",
              "    <tr style=\"text-align: right;\">\n",
              "      <th></th>\n",
              "      <th>0</th>\n",
              "      <th>1</th>\n",
              "      <th>2</th>\n",
              "      <th>3</th>\n",
              "      <th>4</th>\n",
              "      <th>5</th>\n",
              "      <th>6</th>\n",
              "      <th>7</th>\n",
              "    </tr>\n",
              "  </thead>\n",
              "  <tbody>\n",
              "    <tr>\n",
              "      <th>0</th>\n",
              "      <td>Animation</td>\n",
              "      <td>Comedy</td>\n",
              "      <td>Family</td>\n",
              "      <td>NaN</td>\n",
              "      <td>NaN</td>\n",
              "      <td>NaN</td>\n",
              "      <td>NaN</td>\n",
              "      <td>NaN</td>\n",
              "    </tr>\n",
              "    <tr>\n",
              "      <th>1</th>\n",
              "      <td>Adventure</td>\n",
              "      <td>Fantasy</td>\n",
              "      <td>Family</td>\n",
              "      <td>NaN</td>\n",
              "      <td>NaN</td>\n",
              "      <td>NaN</td>\n",
              "      <td>NaN</td>\n",
              "      <td>NaN</td>\n",
              "    </tr>\n",
              "    <tr>\n",
              "      <th>2</th>\n",
              "      <td>Romance</td>\n",
              "      <td>Comedy</td>\n",
              "      <td>NaN</td>\n",
              "      <td>NaN</td>\n",
              "      <td>NaN</td>\n",
              "      <td>NaN</td>\n",
              "      <td>NaN</td>\n",
              "      <td>NaN</td>\n",
              "    </tr>\n",
              "    <tr>\n",
              "      <th>3</th>\n",
              "      <td>Comedy</td>\n",
              "      <td>Drama</td>\n",
              "      <td>Romance</td>\n",
              "      <td>NaN</td>\n",
              "      <td>NaN</td>\n",
              "      <td>NaN</td>\n",
              "      <td>NaN</td>\n",
              "      <td>NaN</td>\n",
              "    </tr>\n",
              "    <tr>\n",
              "      <th>4</th>\n",
              "      <td>Comedy</td>\n",
              "      <td>NaN</td>\n",
              "      <td>NaN</td>\n",
              "      <td>NaN</td>\n",
              "      <td>NaN</td>\n",
              "      <td>NaN</td>\n",
              "      <td>NaN</td>\n",
              "      <td>NaN</td>\n",
              "    </tr>\n",
              "    <tr>\n",
              "      <th>...</th>\n",
              "      <td>...</td>\n",
              "      <td>...</td>\n",
              "      <td>...</td>\n",
              "      <td>...</td>\n",
              "      <td>...</td>\n",
              "      <td>...</td>\n",
              "      <td>...</td>\n",
              "      <td>...</td>\n",
              "    </tr>\n",
              "    <tr>\n",
              "      <th>45461</th>\n",
              "      <td>Drama</td>\n",
              "      <td>Family</td>\n",
              "      <td>NaN</td>\n",
              "      <td>NaN</td>\n",
              "      <td>NaN</td>\n",
              "      <td>NaN</td>\n",
              "      <td>NaN</td>\n",
              "      <td>NaN</td>\n",
              "    </tr>\n",
              "    <tr>\n",
              "      <th>45462</th>\n",
              "      <td>Drama</td>\n",
              "      <td>NaN</td>\n",
              "      <td>NaN</td>\n",
              "      <td>NaN</td>\n",
              "      <td>NaN</td>\n",
              "      <td>NaN</td>\n",
              "      <td>NaN</td>\n",
              "      <td>NaN</td>\n",
              "    </tr>\n",
              "    <tr>\n",
              "      <th>45463</th>\n",
              "      <td>Action</td>\n",
              "      <td>Drama</td>\n",
              "      <td>Thriller</td>\n",
              "      <td>NaN</td>\n",
              "      <td>NaN</td>\n",
              "      <td>NaN</td>\n",
              "      <td>NaN</td>\n",
              "      <td>NaN</td>\n",
              "    </tr>\n",
              "    <tr>\n",
              "      <th>45464</th>\n",
              "      <td>NaN</td>\n",
              "      <td>NaN</td>\n",
              "      <td>NaN</td>\n",
              "      <td>NaN</td>\n",
              "      <td>NaN</td>\n",
              "      <td>NaN</td>\n",
              "      <td>NaN</td>\n",
              "      <td>NaN</td>\n",
              "    </tr>\n",
              "    <tr>\n",
              "      <th>45465</th>\n",
              "      <td>NaN</td>\n",
              "      <td>NaN</td>\n",
              "      <td>NaN</td>\n",
              "      <td>NaN</td>\n",
              "      <td>NaN</td>\n",
              "      <td>NaN</td>\n",
              "      <td>NaN</td>\n",
              "      <td>NaN</td>\n",
              "    </tr>\n",
              "  </tbody>\n",
              "</table>\n",
              "<p>45466 rows × 8 columns</p>\n",
              "</div>"
            ],
            "text/plain": [
              "               0        1         2    3    4    5    6    7\n",
              "0      Animation   Comedy    Family  NaN  NaN  NaN  NaN  NaN\n",
              "1      Adventure  Fantasy    Family  NaN  NaN  NaN  NaN  NaN\n",
              "2        Romance   Comedy       NaN  NaN  NaN  NaN  NaN  NaN\n",
              "3         Comedy    Drama   Romance  NaN  NaN  NaN  NaN  NaN\n",
              "4         Comedy      NaN       NaN  NaN  NaN  NaN  NaN  NaN\n",
              "...          ...      ...       ...  ...  ...  ...  ...  ...\n",
              "45461      Drama   Family       NaN  NaN  NaN  NaN  NaN  NaN\n",
              "45462      Drama      NaN       NaN  NaN  NaN  NaN  NaN  NaN\n",
              "45463     Action    Drama  Thriller  NaN  NaN  NaN  NaN  NaN\n",
              "45464        NaN      NaN       NaN  NaN  NaN  NaN  NaN  NaN\n",
              "45465        NaN      NaN       NaN  NaN  NaN  NaN  NaN  NaN\n",
              "\n",
              "[45466 rows x 8 columns]"
            ]
          },
          "metadata": {
            "tags": []
          },
          "execution_count": 13
        }
      ]
    },
    {
      "cell_type": "code",
      "metadata": {
        "colab": {
          "base_uri": "https://localhost:8080/"
        },
        "id": "plRjZm2OfoGk",
        "outputId": "d3ec82d6-5a76-44b4-85f9-51807634b133"
      },
      "source": [
        "md.apply(lambda x: pd.Series(x['genres']),axis=1).stack().reset_index(level=1, drop=True)"
      ],
      "execution_count": 14,
      "outputs": [
        {
          "output_type": "execute_result",
          "data": {
            "text/plain": [
              "0        Animation\n",
              "0           Comedy\n",
              "0           Family\n",
              "1        Adventure\n",
              "1          Fantasy\n",
              "           ...    \n",
              "45461       Family\n",
              "45462        Drama\n",
              "45463       Action\n",
              "45463        Drama\n",
              "45463     Thriller\n",
              "Length: 91106, dtype: object"
            ]
          },
          "metadata": {
            "tags": []
          },
          "execution_count": 14
        }
      ]
    },
    {
      "cell_type": "code",
      "metadata": {
        "id": "Gh2crB2UXlwM"
      },
      "source": [
        "s = md.apply(lambda x: pd.Series(x['genres']),axis=1).stack().reset_index(level=1, drop=True)\n",
        "s.name = 'genre'\n",
        "gen_md = md.drop('genres', axis=1).join(s)"
      ],
      "execution_count": 15,
      "outputs": []
    },
    {
      "cell_type": "code",
      "metadata": {
        "colab": {
          "base_uri": "https://localhost:8080/",
          "height": 916
        },
        "id": "D1IV533MYTWj",
        "outputId": "febbd0e5-fba9-40f2-e80d-0e7bda866dde"
      },
      "source": [
        "gen_md"
      ],
      "execution_count": 16,
      "outputs": [
        {
          "output_type": "execute_result",
          "data": {
            "text/html": [
              "<div>\n",
              "<style scoped>\n",
              "    .dataframe tbody tr th:only-of-type {\n",
              "        vertical-align: middle;\n",
              "    }\n",
              "\n",
              "    .dataframe tbody tr th {\n",
              "        vertical-align: top;\n",
              "    }\n",
              "\n",
              "    .dataframe thead th {\n",
              "        text-align: right;\n",
              "    }\n",
              "</style>\n",
              "<table border=\"1\" class=\"dataframe\">\n",
              "  <thead>\n",
              "    <tr style=\"text-align: right;\">\n",
              "      <th></th>\n",
              "      <th>adult</th>\n",
              "      <th>belongs_to_collection</th>\n",
              "      <th>budget</th>\n",
              "      <th>homepage</th>\n",
              "      <th>id</th>\n",
              "      <th>imdb_id</th>\n",
              "      <th>original_language</th>\n",
              "      <th>original_title</th>\n",
              "      <th>overview</th>\n",
              "      <th>popularity</th>\n",
              "      <th>poster_path</th>\n",
              "      <th>production_companies</th>\n",
              "      <th>production_countries</th>\n",
              "      <th>release_date</th>\n",
              "      <th>revenue</th>\n",
              "      <th>runtime</th>\n",
              "      <th>spoken_languages</th>\n",
              "      <th>status</th>\n",
              "      <th>tagline</th>\n",
              "      <th>title</th>\n",
              "      <th>video</th>\n",
              "      <th>vote_average</th>\n",
              "      <th>vote_count</th>\n",
              "      <th>year</th>\n",
              "      <th>genre</th>\n",
              "    </tr>\n",
              "  </thead>\n",
              "  <tbody>\n",
              "    <tr>\n",
              "      <th>0</th>\n",
              "      <td>False</td>\n",
              "      <td>{'id': 10194, 'name': 'Toy Story Collection', ...</td>\n",
              "      <td>30000000</td>\n",
              "      <td>http://toystory.disney.com/toy-story</td>\n",
              "      <td>862</td>\n",
              "      <td>tt0114709</td>\n",
              "      <td>en</td>\n",
              "      <td>Toy Story</td>\n",
              "      <td>Led by Woody, Andy's toys live happily in his ...</td>\n",
              "      <td>21.9469</td>\n",
              "      <td>/rhIRbceoE9lR4veEXuwCC2wARtG.jpg</td>\n",
              "      <td>[{'name': 'Pixar Animation Studios', 'id': 3}]</td>\n",
              "      <td>[{'iso_3166_1': 'US', 'name': 'United States o...</td>\n",
              "      <td>1995-10-30</td>\n",
              "      <td>373554033.0</td>\n",
              "      <td>81.0</td>\n",
              "      <td>[{'iso_639_1': 'en', 'name': 'English'}]</td>\n",
              "      <td>Released</td>\n",
              "      <td>NaN</td>\n",
              "      <td>Toy Story</td>\n",
              "      <td>False</td>\n",
              "      <td>7.7</td>\n",
              "      <td>5415.0</td>\n",
              "      <td>1995</td>\n",
              "      <td>Animation</td>\n",
              "    </tr>\n",
              "    <tr>\n",
              "      <th>0</th>\n",
              "      <td>False</td>\n",
              "      <td>{'id': 10194, 'name': 'Toy Story Collection', ...</td>\n",
              "      <td>30000000</td>\n",
              "      <td>http://toystory.disney.com/toy-story</td>\n",
              "      <td>862</td>\n",
              "      <td>tt0114709</td>\n",
              "      <td>en</td>\n",
              "      <td>Toy Story</td>\n",
              "      <td>Led by Woody, Andy's toys live happily in his ...</td>\n",
              "      <td>21.9469</td>\n",
              "      <td>/rhIRbceoE9lR4veEXuwCC2wARtG.jpg</td>\n",
              "      <td>[{'name': 'Pixar Animation Studios', 'id': 3}]</td>\n",
              "      <td>[{'iso_3166_1': 'US', 'name': 'United States o...</td>\n",
              "      <td>1995-10-30</td>\n",
              "      <td>373554033.0</td>\n",
              "      <td>81.0</td>\n",
              "      <td>[{'iso_639_1': 'en', 'name': 'English'}]</td>\n",
              "      <td>Released</td>\n",
              "      <td>NaN</td>\n",
              "      <td>Toy Story</td>\n",
              "      <td>False</td>\n",
              "      <td>7.7</td>\n",
              "      <td>5415.0</td>\n",
              "      <td>1995</td>\n",
              "      <td>Comedy</td>\n",
              "    </tr>\n",
              "    <tr>\n",
              "      <th>0</th>\n",
              "      <td>False</td>\n",
              "      <td>{'id': 10194, 'name': 'Toy Story Collection', ...</td>\n",
              "      <td>30000000</td>\n",
              "      <td>http://toystory.disney.com/toy-story</td>\n",
              "      <td>862</td>\n",
              "      <td>tt0114709</td>\n",
              "      <td>en</td>\n",
              "      <td>Toy Story</td>\n",
              "      <td>Led by Woody, Andy's toys live happily in his ...</td>\n",
              "      <td>21.9469</td>\n",
              "      <td>/rhIRbceoE9lR4veEXuwCC2wARtG.jpg</td>\n",
              "      <td>[{'name': 'Pixar Animation Studios', 'id': 3}]</td>\n",
              "      <td>[{'iso_3166_1': 'US', 'name': 'United States o...</td>\n",
              "      <td>1995-10-30</td>\n",
              "      <td>373554033.0</td>\n",
              "      <td>81.0</td>\n",
              "      <td>[{'iso_639_1': 'en', 'name': 'English'}]</td>\n",
              "      <td>Released</td>\n",
              "      <td>NaN</td>\n",
              "      <td>Toy Story</td>\n",
              "      <td>False</td>\n",
              "      <td>7.7</td>\n",
              "      <td>5415.0</td>\n",
              "      <td>1995</td>\n",
              "      <td>Family</td>\n",
              "    </tr>\n",
              "    <tr>\n",
              "      <th>1</th>\n",
              "      <td>False</td>\n",
              "      <td>NaN</td>\n",
              "      <td>65000000</td>\n",
              "      <td>NaN</td>\n",
              "      <td>8844</td>\n",
              "      <td>tt0113497</td>\n",
              "      <td>en</td>\n",
              "      <td>Jumanji</td>\n",
              "      <td>When siblings Judy and Peter discover an encha...</td>\n",
              "      <td>17.0155</td>\n",
              "      <td>/vzmL6fP7aPKNKPRTFnZmiUfciyV.jpg</td>\n",
              "      <td>[{'name': 'TriStar Pictures', 'id': 559}, {'na...</td>\n",
              "      <td>[{'iso_3166_1': 'US', 'name': 'United States o...</td>\n",
              "      <td>1995-12-15</td>\n",
              "      <td>262797249.0</td>\n",
              "      <td>104.0</td>\n",
              "      <td>[{'iso_639_1': 'en', 'name': 'English'}, {'iso...</td>\n",
              "      <td>Released</td>\n",
              "      <td>Roll the dice and unleash the excitement!</td>\n",
              "      <td>Jumanji</td>\n",
              "      <td>False</td>\n",
              "      <td>6.9</td>\n",
              "      <td>2413.0</td>\n",
              "      <td>1995</td>\n",
              "      <td>Adventure</td>\n",
              "    </tr>\n",
              "    <tr>\n",
              "      <th>1</th>\n",
              "      <td>False</td>\n",
              "      <td>NaN</td>\n",
              "      <td>65000000</td>\n",
              "      <td>NaN</td>\n",
              "      <td>8844</td>\n",
              "      <td>tt0113497</td>\n",
              "      <td>en</td>\n",
              "      <td>Jumanji</td>\n",
              "      <td>When siblings Judy and Peter discover an encha...</td>\n",
              "      <td>17.0155</td>\n",
              "      <td>/vzmL6fP7aPKNKPRTFnZmiUfciyV.jpg</td>\n",
              "      <td>[{'name': 'TriStar Pictures', 'id': 559}, {'na...</td>\n",
              "      <td>[{'iso_3166_1': 'US', 'name': 'United States o...</td>\n",
              "      <td>1995-12-15</td>\n",
              "      <td>262797249.0</td>\n",
              "      <td>104.0</td>\n",
              "      <td>[{'iso_639_1': 'en', 'name': 'English'}, {'iso...</td>\n",
              "      <td>Released</td>\n",
              "      <td>Roll the dice and unleash the excitement!</td>\n",
              "      <td>Jumanji</td>\n",
              "      <td>False</td>\n",
              "      <td>6.9</td>\n",
              "      <td>2413.0</td>\n",
              "      <td>1995</td>\n",
              "      <td>Fantasy</td>\n",
              "    </tr>\n",
              "    <tr>\n",
              "      <th>...</th>\n",
              "      <td>...</td>\n",
              "      <td>...</td>\n",
              "      <td>...</td>\n",
              "      <td>...</td>\n",
              "      <td>...</td>\n",
              "      <td>...</td>\n",
              "      <td>...</td>\n",
              "      <td>...</td>\n",
              "      <td>...</td>\n",
              "      <td>...</td>\n",
              "      <td>...</td>\n",
              "      <td>...</td>\n",
              "      <td>...</td>\n",
              "      <td>...</td>\n",
              "      <td>...</td>\n",
              "      <td>...</td>\n",
              "      <td>...</td>\n",
              "      <td>...</td>\n",
              "      <td>...</td>\n",
              "      <td>...</td>\n",
              "      <td>...</td>\n",
              "      <td>...</td>\n",
              "      <td>...</td>\n",
              "      <td>...</td>\n",
              "      <td>...</td>\n",
              "    </tr>\n",
              "    <tr>\n",
              "      <th>45463</th>\n",
              "      <td>False</td>\n",
              "      <td>NaN</td>\n",
              "      <td>0</td>\n",
              "      <td>NaN</td>\n",
              "      <td>67758</td>\n",
              "      <td>tt0303758</td>\n",
              "      <td>en</td>\n",
              "      <td>Betrayal</td>\n",
              "      <td>When one of her hits goes wrong, a professiona...</td>\n",
              "      <td>0.903007</td>\n",
              "      <td>/d5bX92nDsISNhu3ZT69uHwmfCGw.jpg</td>\n",
              "      <td>[{'name': 'American World Pictures', 'id': 6165}]</td>\n",
              "      <td>[{'iso_3166_1': 'US', 'name': 'United States o...</td>\n",
              "      <td>2003-08-01</td>\n",
              "      <td>0.0</td>\n",
              "      <td>90.0</td>\n",
              "      <td>[{'iso_639_1': 'en', 'name': 'English'}]</td>\n",
              "      <td>Released</td>\n",
              "      <td>A deadly game of wits.</td>\n",
              "      <td>Betrayal</td>\n",
              "      <td>False</td>\n",
              "      <td>3.8</td>\n",
              "      <td>6.0</td>\n",
              "      <td>2003</td>\n",
              "      <td>Action</td>\n",
              "    </tr>\n",
              "    <tr>\n",
              "      <th>45463</th>\n",
              "      <td>False</td>\n",
              "      <td>NaN</td>\n",
              "      <td>0</td>\n",
              "      <td>NaN</td>\n",
              "      <td>67758</td>\n",
              "      <td>tt0303758</td>\n",
              "      <td>en</td>\n",
              "      <td>Betrayal</td>\n",
              "      <td>When one of her hits goes wrong, a professiona...</td>\n",
              "      <td>0.903007</td>\n",
              "      <td>/d5bX92nDsISNhu3ZT69uHwmfCGw.jpg</td>\n",
              "      <td>[{'name': 'American World Pictures', 'id': 6165}]</td>\n",
              "      <td>[{'iso_3166_1': 'US', 'name': 'United States o...</td>\n",
              "      <td>2003-08-01</td>\n",
              "      <td>0.0</td>\n",
              "      <td>90.0</td>\n",
              "      <td>[{'iso_639_1': 'en', 'name': 'English'}]</td>\n",
              "      <td>Released</td>\n",
              "      <td>A deadly game of wits.</td>\n",
              "      <td>Betrayal</td>\n",
              "      <td>False</td>\n",
              "      <td>3.8</td>\n",
              "      <td>6.0</td>\n",
              "      <td>2003</td>\n",
              "      <td>Drama</td>\n",
              "    </tr>\n",
              "    <tr>\n",
              "      <th>45463</th>\n",
              "      <td>False</td>\n",
              "      <td>NaN</td>\n",
              "      <td>0</td>\n",
              "      <td>NaN</td>\n",
              "      <td>67758</td>\n",
              "      <td>tt0303758</td>\n",
              "      <td>en</td>\n",
              "      <td>Betrayal</td>\n",
              "      <td>When one of her hits goes wrong, a professiona...</td>\n",
              "      <td>0.903007</td>\n",
              "      <td>/d5bX92nDsISNhu3ZT69uHwmfCGw.jpg</td>\n",
              "      <td>[{'name': 'American World Pictures', 'id': 6165}]</td>\n",
              "      <td>[{'iso_3166_1': 'US', 'name': 'United States o...</td>\n",
              "      <td>2003-08-01</td>\n",
              "      <td>0.0</td>\n",
              "      <td>90.0</td>\n",
              "      <td>[{'iso_639_1': 'en', 'name': 'English'}]</td>\n",
              "      <td>Released</td>\n",
              "      <td>A deadly game of wits.</td>\n",
              "      <td>Betrayal</td>\n",
              "      <td>False</td>\n",
              "      <td>3.8</td>\n",
              "      <td>6.0</td>\n",
              "      <td>2003</td>\n",
              "      <td>Thriller</td>\n",
              "    </tr>\n",
              "    <tr>\n",
              "      <th>45464</th>\n",
              "      <td>False</td>\n",
              "      <td>NaN</td>\n",
              "      <td>0</td>\n",
              "      <td>NaN</td>\n",
              "      <td>227506</td>\n",
              "      <td>tt0008536</td>\n",
              "      <td>en</td>\n",
              "      <td>Satana likuyushchiy</td>\n",
              "      <td>In a small town live two brothers, one a minis...</td>\n",
              "      <td>0.003503</td>\n",
              "      <td>/aorBPO7ak8e8iJKT5OcqYxU3jlK.jpg</td>\n",
              "      <td>[{'name': 'Yermoliev', 'id': 88753}]</td>\n",
              "      <td>[{'iso_3166_1': 'RU', 'name': 'Russia'}]</td>\n",
              "      <td>1917-10-21</td>\n",
              "      <td>0.0</td>\n",
              "      <td>87.0</td>\n",
              "      <td>[]</td>\n",
              "      <td>Released</td>\n",
              "      <td>NaN</td>\n",
              "      <td>Satan Triumphant</td>\n",
              "      <td>False</td>\n",
              "      <td>0.0</td>\n",
              "      <td>0.0</td>\n",
              "      <td>1917</td>\n",
              "      <td>NaN</td>\n",
              "    </tr>\n",
              "    <tr>\n",
              "      <th>45465</th>\n",
              "      <td>False</td>\n",
              "      <td>NaN</td>\n",
              "      <td>0</td>\n",
              "      <td>NaN</td>\n",
              "      <td>461257</td>\n",
              "      <td>tt6980792</td>\n",
              "      <td>en</td>\n",
              "      <td>Queerama</td>\n",
              "      <td>50 years after decriminalisation of homosexual...</td>\n",
              "      <td>0.163015</td>\n",
              "      <td>/s5UkZt6NTsrS7ZF0Rh8nzupRlIU.jpg</td>\n",
              "      <td>[]</td>\n",
              "      <td>[{'iso_3166_1': 'GB', 'name': 'United Kingdom'}]</td>\n",
              "      <td>2017-06-09</td>\n",
              "      <td>0.0</td>\n",
              "      <td>75.0</td>\n",
              "      <td>[{'iso_639_1': 'en', 'name': 'English'}]</td>\n",
              "      <td>Released</td>\n",
              "      <td>NaN</td>\n",
              "      <td>Queerama</td>\n",
              "      <td>False</td>\n",
              "      <td>0.0</td>\n",
              "      <td>0.0</td>\n",
              "      <td>2017</td>\n",
              "      <td>NaN</td>\n",
              "    </tr>\n",
              "  </tbody>\n",
              "</table>\n",
              "<p>93548 rows × 25 columns</p>\n",
              "</div>"
            ],
            "text/plain": [
              "       adult  ...      genre\n",
              "0      False  ...  Animation\n",
              "0      False  ...     Comedy\n",
              "0      False  ...     Family\n",
              "1      False  ...  Adventure\n",
              "1      False  ...    Fantasy\n",
              "...      ...  ...        ...\n",
              "45463  False  ...     Action\n",
              "45463  False  ...      Drama\n",
              "45463  False  ...   Thriller\n",
              "45464  False  ...        NaN\n",
              "45465  False  ...        NaN\n",
              "\n",
              "[93548 rows x 25 columns]"
            ]
          },
          "metadata": {
            "tags": []
          },
          "execution_count": 16
        }
      ]
    },
    {
      "cell_type": "markdown",
      "metadata": {
        "id": "sqnM_UGrgKL8"
      },
      "source": [
        "vote_count는 95%가 아닌 85%만 가져오기"
      ]
    },
    {
      "cell_type": "code",
      "metadata": {
        "id": "_3FdQaXCY0FL"
      },
      "source": [
        "def build_chart(genre, percentile=0.85):\n",
        "    df = gen_md[gen_md['genre'] == genre]\n",
        "    vote_counts = df[df['vote_count'].notnull()]['vote_count'].astype('int')\n",
        "    vote_averages = df[df['vote_average'].notnull()]['vote_average'].astype('int')\n",
        "    C = vote_averages.mean()\n",
        "    m = vote_counts.quantile(percentile)\n",
        "    \n",
        "    qualified = df[(df['vote_count'] >= m) & (df['vote_count'].notnull()) & (df['vote_average'].notnull())][['title', 'year', 'vote_count', 'vote_average', 'popularity']]\n",
        "    qualified['vote_count'] = qualified['vote_count'].astype('int')\n",
        "    qualified['vote_average'] = qualified['vote_average'].astype('int')\n",
        "    \n",
        "    qualified['wr'] = qualified.apply(lambda x: (x['vote_count']/(x['vote_count']+m) * x['vote_average']) + (m/(m+x['vote_count']) * C), axis=1)\n",
        "    qualified = qualified.sort_values('wr', ascending=False).head(250)\n",
        "    \n",
        "    return qualified"
      ],
      "execution_count": 17,
      "outputs": []
    },
    {
      "cell_type": "markdown",
      "metadata": {
        "id": "tBEQPGgqgeRw"
      },
      "source": [
        "### Top Romance Movies"
      ]
    },
    {
      "cell_type": "code",
      "metadata": {
        "colab": {
          "base_uri": "https://localhost:8080/",
          "height": 514
        },
        "id": "oatEpR9fY10H",
        "outputId": "8e3cbf93-2d37-4428-ee06-6dc8d839acbd"
      },
      "source": [
        "build_chart('Romance').head(15)"
      ],
      "execution_count": 18,
      "outputs": [
        {
          "output_type": "execute_result",
          "data": {
            "text/html": [
              "<div>\n",
              "<style scoped>\n",
              "    .dataframe tbody tr th:only-of-type {\n",
              "        vertical-align: middle;\n",
              "    }\n",
              "\n",
              "    .dataframe tbody tr th {\n",
              "        vertical-align: top;\n",
              "    }\n",
              "\n",
              "    .dataframe thead th {\n",
              "        text-align: right;\n",
              "    }\n",
              "</style>\n",
              "<table border=\"1\" class=\"dataframe\">\n",
              "  <thead>\n",
              "    <tr style=\"text-align: right;\">\n",
              "      <th></th>\n",
              "      <th>title</th>\n",
              "      <th>year</th>\n",
              "      <th>vote_count</th>\n",
              "      <th>vote_average</th>\n",
              "      <th>popularity</th>\n",
              "      <th>wr</th>\n",
              "    </tr>\n",
              "  </thead>\n",
              "  <tbody>\n",
              "    <tr>\n",
              "      <th>10309</th>\n",
              "      <td>Dilwale Dulhania Le Jayenge</td>\n",
              "      <td>1995</td>\n",
              "      <td>661</td>\n",
              "      <td>9</td>\n",
              "      <td>34.457</td>\n",
              "      <td>8.565285</td>\n",
              "    </tr>\n",
              "    <tr>\n",
              "      <th>351</th>\n",
              "      <td>Forrest Gump</td>\n",
              "      <td>1994</td>\n",
              "      <td>8147</td>\n",
              "      <td>8</td>\n",
              "      <td>48.3072</td>\n",
              "      <td>7.971357</td>\n",
              "    </tr>\n",
              "    <tr>\n",
              "      <th>876</th>\n",
              "      <td>Vertigo</td>\n",
              "      <td>1958</td>\n",
              "      <td>1162</td>\n",
              "      <td>8</td>\n",
              "      <td>18.2082</td>\n",
              "      <td>7.811667</td>\n",
              "    </tr>\n",
              "    <tr>\n",
              "      <th>40251</th>\n",
              "      <td>Your Name.</td>\n",
              "      <td>2016</td>\n",
              "      <td>1030</td>\n",
              "      <td>8</td>\n",
              "      <td>34.461252</td>\n",
              "      <td>7.789489</td>\n",
              "    </tr>\n",
              "    <tr>\n",
              "      <th>883</th>\n",
              "      <td>Some Like It Hot</td>\n",
              "      <td>1959</td>\n",
              "      <td>835</td>\n",
              "      <td>8</td>\n",
              "      <td>11.8451</td>\n",
              "      <td>7.745154</td>\n",
              "    </tr>\n",
              "    <tr>\n",
              "      <th>1132</th>\n",
              "      <td>Cinema Paradiso</td>\n",
              "      <td>1988</td>\n",
              "      <td>834</td>\n",
              "      <td>8</td>\n",
              "      <td>14.177</td>\n",
              "      <td>7.744878</td>\n",
              "    </tr>\n",
              "    <tr>\n",
              "      <th>19901</th>\n",
              "      <td>Paperman</td>\n",
              "      <td>2012</td>\n",
              "      <td>734</td>\n",
              "      <td>8</td>\n",
              "      <td>7.19863</td>\n",
              "      <td>7.713951</td>\n",
              "    </tr>\n",
              "    <tr>\n",
              "      <th>37863</th>\n",
              "      <td>Sing Street</td>\n",
              "      <td>2016</td>\n",
              "      <td>669</td>\n",
              "      <td>8</td>\n",
              "      <td>10.672862</td>\n",
              "      <td>7.689483</td>\n",
              "    </tr>\n",
              "    <tr>\n",
              "      <th>882</th>\n",
              "      <td>The Apartment</td>\n",
              "      <td>1960</td>\n",
              "      <td>498</td>\n",
              "      <td>8</td>\n",
              "      <td>11.9943</td>\n",
              "      <td>7.599317</td>\n",
              "    </tr>\n",
              "    <tr>\n",
              "      <th>38718</th>\n",
              "      <td>The Handmaiden</td>\n",
              "      <td>2016</td>\n",
              "      <td>453</td>\n",
              "      <td>8</td>\n",
              "      <td>16.727405</td>\n",
              "      <td>7.566166</td>\n",
              "    </tr>\n",
              "    <tr>\n",
              "      <th>3189</th>\n",
              "      <td>City Lights</td>\n",
              "      <td>1931</td>\n",
              "      <td>444</td>\n",
              "      <td>8</td>\n",
              "      <td>10.8915</td>\n",
              "      <td>7.558867</td>\n",
              "    </tr>\n",
              "    <tr>\n",
              "      <th>24886</th>\n",
              "      <td>The Way He Looks</td>\n",
              "      <td>2014</td>\n",
              "      <td>262</td>\n",
              "      <td>8</td>\n",
              "      <td>5.71127</td>\n",
              "      <td>7.331363</td>\n",
              "    </tr>\n",
              "    <tr>\n",
              "      <th>45437</th>\n",
              "      <td>In a Heartbeat</td>\n",
              "      <td>2017</td>\n",
              "      <td>146</td>\n",
              "      <td>8</td>\n",
              "      <td>20.82178</td>\n",
              "      <td>7.003959</td>\n",
              "    </tr>\n",
              "    <tr>\n",
              "      <th>1639</th>\n",
              "      <td>Titanic</td>\n",
              "      <td>1997</td>\n",
              "      <td>7770</td>\n",
              "      <td>7</td>\n",
              "      <td>26.8891</td>\n",
              "      <td>6.981546</td>\n",
              "    </tr>\n",
              "    <tr>\n",
              "      <th>19731</th>\n",
              "      <td>Silver Linings Playbook</td>\n",
              "      <td>2012</td>\n",
              "      <td>4840</td>\n",
              "      <td>7</td>\n",
              "      <td>14.4881</td>\n",
              "      <td>6.970581</td>\n",
              "    </tr>\n",
              "  </tbody>\n",
              "</table>\n",
              "</div>"
            ],
            "text/plain": [
              "                             title  year  ...  popularity        wr\n",
              "10309  Dilwale Dulhania Le Jayenge  1995  ...      34.457  8.565285\n",
              "351                   Forrest Gump  1994  ...     48.3072  7.971357\n",
              "876                        Vertigo  1958  ...     18.2082  7.811667\n",
              "40251                   Your Name.  2016  ...   34.461252  7.789489\n",
              "883               Some Like It Hot  1959  ...     11.8451  7.745154\n",
              "1132               Cinema Paradiso  1988  ...      14.177  7.744878\n",
              "19901                     Paperman  2012  ...     7.19863  7.713951\n",
              "37863                  Sing Street  2016  ...   10.672862  7.689483\n",
              "882                  The Apartment  1960  ...     11.9943  7.599317\n",
              "38718               The Handmaiden  2016  ...   16.727405  7.566166\n",
              "3189                   City Lights  1931  ...     10.8915  7.558867\n",
              "24886             The Way He Looks  2014  ...     5.71127  7.331363\n",
              "45437               In a Heartbeat  2017  ...    20.82178  7.003959\n",
              "1639                       Titanic  1997  ...     26.8891  6.981546\n",
              "19731      Silver Linings Playbook  2012  ...     14.4881  6.970581\n",
              "\n",
              "[15 rows x 6 columns]"
            ]
          },
          "metadata": {
            "tags": []
          },
          "execution_count": 18
        }
      ]
    },
    {
      "cell_type": "markdown",
      "metadata": {
        "id": "pR8MjrghgoGT"
      },
      "source": [
        "### 위와 같은 추천 시스템이 갖는 한계\n",
        "- 개인화된 추천이 불가능함(모두에게 갖은 영화를 추천)  \n",
        "- 다른 유저의 정보가 사용되지 않는다\n",
        "\n",
        "- 특정 매트릭스에 기반하여 영화 간의 연관성(similarity)를 계산하고 유저가 좋아하는 특정 영화와 가장 유사한 영화를 추천할 예정\n",
        " \n",
        " \n"
      ]
    },
    {
      "cell_type": "markdown",
      "metadata": {
        "id": "Y1o_87rMh2Rl"
      },
      "source": [
        "### Content Based Filtering이라고 알려진 엔진을 구현하기 위해 movie metadata를 사용\n",
        "**유저가 관심있는 아이템의 속성을 분석하여** 새로운 아이템을 추천해주는!!\n",
        "\n",
        "[based on] \n",
        "- Movie Overviews and Taglines\n",
        "- Movie Cast, Crew, Keywords and Genre"
      ]
    },
    {
      "cell_type": "code",
      "metadata": {
        "colab": {
          "base_uri": "https://localhost:8080/",
          "height": 419
        },
        "id": "sAjsnUM9iWOY",
        "outputId": "7f0de460-9b2a-4eb5-cf7c-498967db796c"
      },
      "source": [
        "pd.read_csv('/content/drive/MyDrive/dataset/movies_metadata.csv/links_small.csv')"
      ],
      "execution_count": 19,
      "outputs": [
        {
          "output_type": "execute_result",
          "data": {
            "text/html": [
              "<div>\n",
              "<style scoped>\n",
              "    .dataframe tbody tr th:only-of-type {\n",
              "        vertical-align: middle;\n",
              "    }\n",
              "\n",
              "    .dataframe tbody tr th {\n",
              "        vertical-align: top;\n",
              "    }\n",
              "\n",
              "    .dataframe thead th {\n",
              "        text-align: right;\n",
              "    }\n",
              "</style>\n",
              "<table border=\"1\" class=\"dataframe\">\n",
              "  <thead>\n",
              "    <tr style=\"text-align: right;\">\n",
              "      <th></th>\n",
              "      <th>movieId</th>\n",
              "      <th>imdbId</th>\n",
              "      <th>tmdbId</th>\n",
              "    </tr>\n",
              "  </thead>\n",
              "  <tbody>\n",
              "    <tr>\n",
              "      <th>0</th>\n",
              "      <td>1</td>\n",
              "      <td>114709</td>\n",
              "      <td>862.0</td>\n",
              "    </tr>\n",
              "    <tr>\n",
              "      <th>1</th>\n",
              "      <td>2</td>\n",
              "      <td>113497</td>\n",
              "      <td>8844.0</td>\n",
              "    </tr>\n",
              "    <tr>\n",
              "      <th>2</th>\n",
              "      <td>3</td>\n",
              "      <td>113228</td>\n",
              "      <td>15602.0</td>\n",
              "    </tr>\n",
              "    <tr>\n",
              "      <th>3</th>\n",
              "      <td>4</td>\n",
              "      <td>114885</td>\n",
              "      <td>31357.0</td>\n",
              "    </tr>\n",
              "    <tr>\n",
              "      <th>4</th>\n",
              "      <td>5</td>\n",
              "      <td>113041</td>\n",
              "      <td>11862.0</td>\n",
              "    </tr>\n",
              "    <tr>\n",
              "      <th>...</th>\n",
              "      <td>...</td>\n",
              "      <td>...</td>\n",
              "      <td>...</td>\n",
              "    </tr>\n",
              "    <tr>\n",
              "      <th>9120</th>\n",
              "      <td>162672</td>\n",
              "      <td>3859980</td>\n",
              "      <td>402672.0</td>\n",
              "    </tr>\n",
              "    <tr>\n",
              "      <th>9121</th>\n",
              "      <td>163056</td>\n",
              "      <td>4262980</td>\n",
              "      <td>315011.0</td>\n",
              "    </tr>\n",
              "    <tr>\n",
              "      <th>9122</th>\n",
              "      <td>163949</td>\n",
              "      <td>2531318</td>\n",
              "      <td>391698.0</td>\n",
              "    </tr>\n",
              "    <tr>\n",
              "      <th>9123</th>\n",
              "      <td>164977</td>\n",
              "      <td>27660</td>\n",
              "      <td>137608.0</td>\n",
              "    </tr>\n",
              "    <tr>\n",
              "      <th>9124</th>\n",
              "      <td>164979</td>\n",
              "      <td>3447228</td>\n",
              "      <td>410803.0</td>\n",
              "    </tr>\n",
              "  </tbody>\n",
              "</table>\n",
              "<p>9125 rows × 3 columns</p>\n",
              "</div>"
            ],
            "text/plain": [
              "      movieId   imdbId    tmdbId\n",
              "0           1   114709     862.0\n",
              "1           2   113497    8844.0\n",
              "2           3   113228   15602.0\n",
              "3           4   114885   31357.0\n",
              "4           5   113041   11862.0\n",
              "...       ...      ...       ...\n",
              "9120   162672  3859980  402672.0\n",
              "9121   163056  4262980  315011.0\n",
              "9122   163949  2531318  391698.0\n",
              "9123   164977    27660  137608.0\n",
              "9124   164979  3447228  410803.0\n",
              "\n",
              "[9125 rows x 3 columns]"
            ]
          },
          "metadata": {
            "tags": []
          },
          "execution_count": 19
        }
      ]
    },
    {
      "cell_type": "code",
      "metadata": {
        "colab": {
          "base_uri": "https://localhost:8080/"
        },
        "id": "1PQJ4xV_bDuz",
        "outputId": "8b46426c-a4ca-4d8c-b85f-031cc808f977"
      },
      "source": [
        "links_small = pd.read_csv('/content/drive/MyDrive/dataset/movies_metadata.csv/links_small.csv')\n",
        "links_small = links_small[links_small['tmdbId'].notnull()]['tmdbId'].astype('int')\n",
        "links_small"
      ],
      "execution_count": 20,
      "outputs": [
        {
          "output_type": "execute_result",
          "data": {
            "text/plain": [
              "0          862\n",
              "1         8844\n",
              "2        15602\n",
              "3        31357\n",
              "4        11862\n",
              "         ...  \n",
              "9120    402672\n",
              "9121    315011\n",
              "9122    391698\n",
              "9123    137608\n",
              "9124    410803\n",
              "Name: tmdbId, Length: 9112, dtype: int64"
            ]
          },
          "metadata": {
            "tags": []
          },
          "execution_count": 20
        }
      ]
    },
    {
      "cell_type": "code",
      "metadata": {
        "colab": {
          "base_uri": "https://localhost:8080/",
          "height": 372
        },
        "id": "U8nb55wdi0Dc",
        "outputId": "07e077e8-4fe4-4dc8-86f9-ddb691c98a0e"
      },
      "source": [
        "#object => int\n",
        "md['id'] = md['id'].astype('int')"
      ],
      "execution_count": 21,
      "outputs": [
        {
          "output_type": "error",
          "ename": "ValueError",
          "evalue": "ignored",
          "traceback": [
            "\u001b[0;31m---------------------------------------------------------------------------\u001b[0m",
            "\u001b[0;31mValueError\u001b[0m                                Traceback (most recent call last)",
            "\u001b[0;32m<ipython-input-21-f3b557ad9a80>\u001b[0m in \u001b[0;36m<module>\u001b[0;34m()\u001b[0m\n\u001b[1;32m      1\u001b[0m \u001b[0;31m#object => int\u001b[0m\u001b[0;34m\u001b[0m\u001b[0;34m\u001b[0m\u001b[0;34m\u001b[0m\u001b[0m\n\u001b[0;32m----> 2\u001b[0;31m \u001b[0mmd\u001b[0m\u001b[0;34m[\u001b[0m\u001b[0;34m'id'\u001b[0m\u001b[0;34m]\u001b[0m \u001b[0;34m=\u001b[0m \u001b[0mmd\u001b[0m\u001b[0;34m[\u001b[0m\u001b[0;34m'id'\u001b[0m\u001b[0;34m]\u001b[0m\u001b[0;34m.\u001b[0m\u001b[0mastype\u001b[0m\u001b[0;34m(\u001b[0m\u001b[0;34m'int'\u001b[0m\u001b[0;34m)\u001b[0m\u001b[0;34m\u001b[0m\u001b[0;34m\u001b[0m\u001b[0m\n\u001b[0m",
            "\u001b[0;32m/usr/local/lib/python3.7/dist-packages/pandas/core/generic.py\u001b[0m in \u001b[0;36mastype\u001b[0;34m(self, dtype, copy, errors)\u001b[0m\n\u001b[1;32m   5546\u001b[0m         \u001b[0;32melse\u001b[0m\u001b[0;34m:\u001b[0m\u001b[0;34m\u001b[0m\u001b[0;34m\u001b[0m\u001b[0m\n\u001b[1;32m   5547\u001b[0m             \u001b[0;31m# else, only a single dtype is given\u001b[0m\u001b[0;34m\u001b[0m\u001b[0;34m\u001b[0m\u001b[0;34m\u001b[0m\u001b[0m\n\u001b[0;32m-> 5548\u001b[0;31m             \u001b[0mnew_data\u001b[0m \u001b[0;34m=\u001b[0m \u001b[0mself\u001b[0m\u001b[0;34m.\u001b[0m\u001b[0m_mgr\u001b[0m\u001b[0;34m.\u001b[0m\u001b[0mastype\u001b[0m\u001b[0;34m(\u001b[0m\u001b[0mdtype\u001b[0m\u001b[0;34m=\u001b[0m\u001b[0mdtype\u001b[0m\u001b[0;34m,\u001b[0m \u001b[0mcopy\u001b[0m\u001b[0;34m=\u001b[0m\u001b[0mcopy\u001b[0m\u001b[0;34m,\u001b[0m \u001b[0merrors\u001b[0m\u001b[0;34m=\u001b[0m\u001b[0merrors\u001b[0m\u001b[0;34m,\u001b[0m\u001b[0;34m)\u001b[0m\u001b[0;34m\u001b[0m\u001b[0;34m\u001b[0m\u001b[0m\n\u001b[0m\u001b[1;32m   5549\u001b[0m             \u001b[0;32mreturn\u001b[0m \u001b[0mself\u001b[0m\u001b[0;34m.\u001b[0m\u001b[0m_constructor\u001b[0m\u001b[0;34m(\u001b[0m\u001b[0mnew_data\u001b[0m\u001b[0;34m)\u001b[0m\u001b[0;34m.\u001b[0m\u001b[0m__finalize__\u001b[0m\u001b[0;34m(\u001b[0m\u001b[0mself\u001b[0m\u001b[0;34m,\u001b[0m \u001b[0mmethod\u001b[0m\u001b[0;34m=\u001b[0m\u001b[0;34m\"astype\"\u001b[0m\u001b[0;34m)\u001b[0m\u001b[0;34m\u001b[0m\u001b[0;34m\u001b[0m\u001b[0m\n\u001b[1;32m   5550\u001b[0m \u001b[0;34m\u001b[0m\u001b[0m\n",
            "\u001b[0;32m/usr/local/lib/python3.7/dist-packages/pandas/core/internals/managers.py\u001b[0m in \u001b[0;36mastype\u001b[0;34m(self, dtype, copy, errors)\u001b[0m\n\u001b[1;32m    602\u001b[0m         \u001b[0mself\u001b[0m\u001b[0;34m,\u001b[0m \u001b[0mdtype\u001b[0m\u001b[0;34m,\u001b[0m \u001b[0mcopy\u001b[0m\u001b[0;34m:\u001b[0m \u001b[0mbool\u001b[0m \u001b[0;34m=\u001b[0m \u001b[0;32mFalse\u001b[0m\u001b[0;34m,\u001b[0m \u001b[0merrors\u001b[0m\u001b[0;34m:\u001b[0m \u001b[0mstr\u001b[0m \u001b[0;34m=\u001b[0m \u001b[0;34m\"raise\"\u001b[0m\u001b[0;34m\u001b[0m\u001b[0;34m\u001b[0m\u001b[0m\n\u001b[1;32m    603\u001b[0m     ) -> \"BlockManager\":\n\u001b[0;32m--> 604\u001b[0;31m         \u001b[0;32mreturn\u001b[0m \u001b[0mself\u001b[0m\u001b[0;34m.\u001b[0m\u001b[0mapply\u001b[0m\u001b[0;34m(\u001b[0m\u001b[0;34m\"astype\"\u001b[0m\u001b[0;34m,\u001b[0m \u001b[0mdtype\u001b[0m\u001b[0;34m=\u001b[0m\u001b[0mdtype\u001b[0m\u001b[0;34m,\u001b[0m \u001b[0mcopy\u001b[0m\u001b[0;34m=\u001b[0m\u001b[0mcopy\u001b[0m\u001b[0;34m,\u001b[0m \u001b[0merrors\u001b[0m\u001b[0;34m=\u001b[0m\u001b[0merrors\u001b[0m\u001b[0;34m)\u001b[0m\u001b[0;34m\u001b[0m\u001b[0;34m\u001b[0m\u001b[0m\n\u001b[0m\u001b[1;32m    605\u001b[0m \u001b[0;34m\u001b[0m\u001b[0m\n\u001b[1;32m    606\u001b[0m     def convert(\n",
            "\u001b[0;32m/usr/local/lib/python3.7/dist-packages/pandas/core/internals/managers.py\u001b[0m in \u001b[0;36mapply\u001b[0;34m(self, f, align_keys, **kwargs)\u001b[0m\n\u001b[1;32m    407\u001b[0m                 \u001b[0mapplied\u001b[0m \u001b[0;34m=\u001b[0m \u001b[0mb\u001b[0m\u001b[0;34m.\u001b[0m\u001b[0mapply\u001b[0m\u001b[0;34m(\u001b[0m\u001b[0mf\u001b[0m\u001b[0;34m,\u001b[0m \u001b[0;34m**\u001b[0m\u001b[0mkwargs\u001b[0m\u001b[0;34m)\u001b[0m\u001b[0;34m\u001b[0m\u001b[0;34m\u001b[0m\u001b[0m\n\u001b[1;32m    408\u001b[0m             \u001b[0;32melse\u001b[0m\u001b[0;34m:\u001b[0m\u001b[0;34m\u001b[0m\u001b[0;34m\u001b[0m\u001b[0m\n\u001b[0;32m--> 409\u001b[0;31m                 \u001b[0mapplied\u001b[0m \u001b[0;34m=\u001b[0m \u001b[0mgetattr\u001b[0m\u001b[0;34m(\u001b[0m\u001b[0mb\u001b[0m\u001b[0;34m,\u001b[0m \u001b[0mf\u001b[0m\u001b[0;34m)\u001b[0m\u001b[0;34m(\u001b[0m\u001b[0;34m**\u001b[0m\u001b[0mkwargs\u001b[0m\u001b[0;34m)\u001b[0m\u001b[0;34m\u001b[0m\u001b[0;34m\u001b[0m\u001b[0m\n\u001b[0m\u001b[1;32m    410\u001b[0m             \u001b[0mresult_blocks\u001b[0m \u001b[0;34m=\u001b[0m \u001b[0m_extend_blocks\u001b[0m\u001b[0;34m(\u001b[0m\u001b[0mapplied\u001b[0m\u001b[0;34m,\u001b[0m \u001b[0mresult_blocks\u001b[0m\u001b[0;34m)\u001b[0m\u001b[0;34m\u001b[0m\u001b[0;34m\u001b[0m\u001b[0m\n\u001b[1;32m    411\u001b[0m \u001b[0;34m\u001b[0m\u001b[0m\n",
            "\u001b[0;32m/usr/local/lib/python3.7/dist-packages/pandas/core/internals/blocks.py\u001b[0m in \u001b[0;36mastype\u001b[0;34m(self, dtype, copy, errors)\u001b[0m\n\u001b[1;32m    593\u001b[0m             \u001b[0mvals1d\u001b[0m \u001b[0;34m=\u001b[0m \u001b[0mvalues\u001b[0m\u001b[0;34m.\u001b[0m\u001b[0mravel\u001b[0m\u001b[0;34m(\u001b[0m\u001b[0;34m)\u001b[0m\u001b[0;34m\u001b[0m\u001b[0;34m\u001b[0m\u001b[0m\n\u001b[1;32m    594\u001b[0m             \u001b[0;32mtry\u001b[0m\u001b[0;34m:\u001b[0m\u001b[0;34m\u001b[0m\u001b[0;34m\u001b[0m\u001b[0m\n\u001b[0;32m--> 595\u001b[0;31m                 \u001b[0mvalues\u001b[0m \u001b[0;34m=\u001b[0m \u001b[0mastype_nansafe\u001b[0m\u001b[0;34m(\u001b[0m\u001b[0mvals1d\u001b[0m\u001b[0;34m,\u001b[0m \u001b[0mdtype\u001b[0m\u001b[0;34m,\u001b[0m \u001b[0mcopy\u001b[0m\u001b[0;34m=\u001b[0m\u001b[0;32mTrue\u001b[0m\u001b[0;34m)\u001b[0m\u001b[0;34m\u001b[0m\u001b[0;34m\u001b[0m\u001b[0m\n\u001b[0m\u001b[1;32m    596\u001b[0m             \u001b[0;32mexcept\u001b[0m \u001b[0;34m(\u001b[0m\u001b[0mValueError\u001b[0m\u001b[0;34m,\u001b[0m \u001b[0mTypeError\u001b[0m\u001b[0;34m)\u001b[0m\u001b[0;34m:\u001b[0m\u001b[0;34m\u001b[0m\u001b[0;34m\u001b[0m\u001b[0m\n\u001b[1;32m    597\u001b[0m                 \u001b[0;31m# e.g. astype_nansafe can fail on object-dtype of strings\u001b[0m\u001b[0;34m\u001b[0m\u001b[0;34m\u001b[0m\u001b[0;34m\u001b[0m\u001b[0m\n",
            "\u001b[0;32m/usr/local/lib/python3.7/dist-packages/pandas/core/dtypes/cast.py\u001b[0m in \u001b[0;36mastype_nansafe\u001b[0;34m(arr, dtype, copy, skipna)\u001b[0m\n\u001b[1;32m    972\u001b[0m         \u001b[0;31m# work around NumPy brokenness, #1987\u001b[0m\u001b[0;34m\u001b[0m\u001b[0;34m\u001b[0m\u001b[0;34m\u001b[0m\u001b[0m\n\u001b[1;32m    973\u001b[0m         \u001b[0;32mif\u001b[0m \u001b[0mnp\u001b[0m\u001b[0;34m.\u001b[0m\u001b[0missubdtype\u001b[0m\u001b[0;34m(\u001b[0m\u001b[0mdtype\u001b[0m\u001b[0;34m.\u001b[0m\u001b[0mtype\u001b[0m\u001b[0;34m,\u001b[0m \u001b[0mnp\u001b[0m\u001b[0;34m.\u001b[0m\u001b[0minteger\u001b[0m\u001b[0;34m)\u001b[0m\u001b[0;34m:\u001b[0m\u001b[0;34m\u001b[0m\u001b[0;34m\u001b[0m\u001b[0m\n\u001b[0;32m--> 974\u001b[0;31m             \u001b[0;32mreturn\u001b[0m \u001b[0mlib\u001b[0m\u001b[0;34m.\u001b[0m\u001b[0mastype_intsafe\u001b[0m\u001b[0;34m(\u001b[0m\u001b[0marr\u001b[0m\u001b[0;34m.\u001b[0m\u001b[0mravel\u001b[0m\u001b[0;34m(\u001b[0m\u001b[0;34m)\u001b[0m\u001b[0;34m,\u001b[0m \u001b[0mdtype\u001b[0m\u001b[0;34m)\u001b[0m\u001b[0;34m.\u001b[0m\u001b[0mreshape\u001b[0m\u001b[0;34m(\u001b[0m\u001b[0marr\u001b[0m\u001b[0;34m.\u001b[0m\u001b[0mshape\u001b[0m\u001b[0;34m)\u001b[0m\u001b[0;34m\u001b[0m\u001b[0;34m\u001b[0m\u001b[0m\n\u001b[0m\u001b[1;32m    975\u001b[0m \u001b[0;34m\u001b[0m\u001b[0m\n\u001b[1;32m    976\u001b[0m         \u001b[0;31m# if we have a datetime/timedelta array of objects\u001b[0m\u001b[0;34m\u001b[0m\u001b[0;34m\u001b[0m\u001b[0;34m\u001b[0m\u001b[0m\n",
            "\u001b[0;32mpandas/_libs/lib.pyx\u001b[0m in \u001b[0;36mpandas._libs.lib.astype_intsafe\u001b[0;34m()\u001b[0m\n",
            "\u001b[0;31mValueError\u001b[0m: invalid literal for int() with base 10: '1997-08-20'"
          ]
        }
      ]
    },
    {
      "cell_type": "code",
      "metadata": {
        "colab": {
          "base_uri": "https://localhost:8080/",
          "height": 151
        },
        "id": "LJDaVNwhjZGu",
        "outputId": "ea61548b-b29e-4c08-a7c8-ae22daf7ac23"
      },
      "source": [
        "md[md['id']=='1997-08-20']"
      ],
      "execution_count": 22,
      "outputs": [
        {
          "output_type": "execute_result",
          "data": {
            "text/html": [
              "<div>\n",
              "<style scoped>\n",
              "    .dataframe tbody tr th:only-of-type {\n",
              "        vertical-align: middle;\n",
              "    }\n",
              "\n",
              "    .dataframe tbody tr th {\n",
              "        vertical-align: top;\n",
              "    }\n",
              "\n",
              "    .dataframe thead th {\n",
              "        text-align: right;\n",
              "    }\n",
              "</style>\n",
              "<table border=\"1\" class=\"dataframe\">\n",
              "  <thead>\n",
              "    <tr style=\"text-align: right;\">\n",
              "      <th></th>\n",
              "      <th>adult</th>\n",
              "      <th>belongs_to_collection</th>\n",
              "      <th>budget</th>\n",
              "      <th>genres</th>\n",
              "      <th>homepage</th>\n",
              "      <th>id</th>\n",
              "      <th>imdb_id</th>\n",
              "      <th>original_language</th>\n",
              "      <th>original_title</th>\n",
              "      <th>overview</th>\n",
              "      <th>popularity</th>\n",
              "      <th>poster_path</th>\n",
              "      <th>production_companies</th>\n",
              "      <th>production_countries</th>\n",
              "      <th>release_date</th>\n",
              "      <th>revenue</th>\n",
              "      <th>runtime</th>\n",
              "      <th>spoken_languages</th>\n",
              "      <th>status</th>\n",
              "      <th>tagline</th>\n",
              "      <th>title</th>\n",
              "      <th>video</th>\n",
              "      <th>vote_average</th>\n",
              "      <th>vote_count</th>\n",
              "      <th>year</th>\n",
              "    </tr>\n",
              "  </thead>\n",
              "  <tbody>\n",
              "    <tr>\n",
              "      <th>19730</th>\n",
              "      <td>- Written by Ørnås</td>\n",
              "      <td>0.065736</td>\n",
              "      <td>/ff9qCepilowshEtG2GYWwzt2bs4.jpg</td>\n",
              "      <td>[Carousel Productions, Vision View Entertainme...</td>\n",
              "      <td>[{'iso_3166_1': 'CA', 'name': 'Canada'}, {'iso...</td>\n",
              "      <td>1997-08-20</td>\n",
              "      <td>0</td>\n",
              "      <td>104.0</td>\n",
              "      <td>[{'iso_639_1': 'en', 'name': 'English'}]</td>\n",
              "      <td>Released</td>\n",
              "      <td>NaN</td>\n",
              "      <td>Midnight Man</td>\n",
              "      <td>False</td>\n",
              "      <td>6.0</td>\n",
              "      <td>1</td>\n",
              "      <td>NaN</td>\n",
              "      <td>NaN</td>\n",
              "      <td>NaN</td>\n",
              "      <td>NaN</td>\n",
              "      <td>NaN</td>\n",
              "      <td>NaN</td>\n",
              "      <td>NaN</td>\n",
              "      <td>NaN</td>\n",
              "      <td>NaN</td>\n",
              "      <td>NaT</td>\n",
              "    </tr>\n",
              "  </tbody>\n",
              "</table>\n",
              "</div>"
            ],
            "text/plain": [
              "                     adult belongs_to_collection  ... vote_count year\n",
              "19730   - Written by Ørnås              0.065736  ...        NaN  NaT\n",
              "\n",
              "[1 rows x 25 columns]"
            ]
          },
          "metadata": {
            "tags": []
          },
          "execution_count": 22
        }
      ]
    },
    {
      "cell_type": "code",
      "metadata": {
        "id": "NKRUaNvmjinE"
      },
      "source": [
        "md = md.drop([19730, 29503, 35587])"
      ],
      "execution_count": 23,
      "outputs": []
    },
    {
      "cell_type": "code",
      "metadata": {
        "id": "lY1h5Yuojne3"
      },
      "source": [
        "#object => int\n",
        "md['id'] = md['id'].astype('int')"
      ],
      "execution_count": 24,
      "outputs": []
    },
    {
      "cell_type": "code",
      "metadata": {
        "colab": {
          "base_uri": "https://localhost:8080/"
        },
        "id": "MXxn19KBjrpd",
        "outputId": "9fc32de8-1476-448f-9e3b-48bad2d4c373"
      },
      "source": [
        "smd = md[md['id'].isin(links_small)]\n",
        "smd.shape"
      ],
      "execution_count": 25,
      "outputs": [
        {
          "output_type": "execute_result",
          "data": {
            "text/plain": [
              "(9099, 25)"
            ]
          },
          "metadata": {
            "tags": []
          },
          "execution_count": 25
        }
      ]
    },
    {
      "cell_type": "markdown",
      "metadata": {
        "id": "RwoVRHF1j67u"
      },
      "source": [
        "이렇게 해서 총 9,099개의 영화의 데이터를 얻을 수 있음(약 45,000개의 영화데이터에서 1/5)"
      ]
    },
    {
      "cell_type": "markdown",
      "metadata": {
        "id": "Hw4saElpkWd8"
      },
      "source": [
        "### Movie Description Based Recommender\n",
        "using movie descriptions and taglines"
      ]
    },
    {
      "cell_type": "code",
      "metadata": {
        "colab": {
          "base_uri": "https://localhost:8080/",
          "height": 650
        },
        "id": "lqk3Pgb0kqWG",
        "outputId": "fe037ec3-ba87-4066-ac65-dcebef7d140e"
      },
      "source": [
        "smd.head()"
      ],
      "execution_count": 26,
      "outputs": [
        {
          "output_type": "execute_result",
          "data": {
            "text/html": [
              "<div>\n",
              "<style scoped>\n",
              "    .dataframe tbody tr th:only-of-type {\n",
              "        vertical-align: middle;\n",
              "    }\n",
              "\n",
              "    .dataframe tbody tr th {\n",
              "        vertical-align: top;\n",
              "    }\n",
              "\n",
              "    .dataframe thead th {\n",
              "        text-align: right;\n",
              "    }\n",
              "</style>\n",
              "<table border=\"1\" class=\"dataframe\">\n",
              "  <thead>\n",
              "    <tr style=\"text-align: right;\">\n",
              "      <th></th>\n",
              "      <th>adult</th>\n",
              "      <th>belongs_to_collection</th>\n",
              "      <th>budget</th>\n",
              "      <th>genres</th>\n",
              "      <th>homepage</th>\n",
              "      <th>id</th>\n",
              "      <th>imdb_id</th>\n",
              "      <th>original_language</th>\n",
              "      <th>original_title</th>\n",
              "      <th>overview</th>\n",
              "      <th>popularity</th>\n",
              "      <th>poster_path</th>\n",
              "      <th>production_companies</th>\n",
              "      <th>production_countries</th>\n",
              "      <th>release_date</th>\n",
              "      <th>revenue</th>\n",
              "      <th>runtime</th>\n",
              "      <th>spoken_languages</th>\n",
              "      <th>status</th>\n",
              "      <th>tagline</th>\n",
              "      <th>title</th>\n",
              "      <th>video</th>\n",
              "      <th>vote_average</th>\n",
              "      <th>vote_count</th>\n",
              "      <th>year</th>\n",
              "    </tr>\n",
              "  </thead>\n",
              "  <tbody>\n",
              "    <tr>\n",
              "      <th>0</th>\n",
              "      <td>False</td>\n",
              "      <td>{'id': 10194, 'name': 'Toy Story Collection', ...</td>\n",
              "      <td>30000000</td>\n",
              "      <td>[Animation, Comedy, Family]</td>\n",
              "      <td>http://toystory.disney.com/toy-story</td>\n",
              "      <td>862</td>\n",
              "      <td>tt0114709</td>\n",
              "      <td>en</td>\n",
              "      <td>Toy Story</td>\n",
              "      <td>Led by Woody, Andy's toys live happily in his ...</td>\n",
              "      <td>21.9469</td>\n",
              "      <td>/rhIRbceoE9lR4veEXuwCC2wARtG.jpg</td>\n",
              "      <td>[{'name': 'Pixar Animation Studios', 'id': 3}]</td>\n",
              "      <td>[{'iso_3166_1': 'US', 'name': 'United States o...</td>\n",
              "      <td>1995-10-30</td>\n",
              "      <td>373554033.0</td>\n",
              "      <td>81.0</td>\n",
              "      <td>[{'iso_639_1': 'en', 'name': 'English'}]</td>\n",
              "      <td>Released</td>\n",
              "      <td>NaN</td>\n",
              "      <td>Toy Story</td>\n",
              "      <td>False</td>\n",
              "      <td>7.7</td>\n",
              "      <td>5415.0</td>\n",
              "      <td>1995</td>\n",
              "    </tr>\n",
              "    <tr>\n",
              "      <th>1</th>\n",
              "      <td>False</td>\n",
              "      <td>NaN</td>\n",
              "      <td>65000000</td>\n",
              "      <td>[Adventure, Fantasy, Family]</td>\n",
              "      <td>NaN</td>\n",
              "      <td>8844</td>\n",
              "      <td>tt0113497</td>\n",
              "      <td>en</td>\n",
              "      <td>Jumanji</td>\n",
              "      <td>When siblings Judy and Peter discover an encha...</td>\n",
              "      <td>17.0155</td>\n",
              "      <td>/vzmL6fP7aPKNKPRTFnZmiUfciyV.jpg</td>\n",
              "      <td>[{'name': 'TriStar Pictures', 'id': 559}, {'na...</td>\n",
              "      <td>[{'iso_3166_1': 'US', 'name': 'United States o...</td>\n",
              "      <td>1995-12-15</td>\n",
              "      <td>262797249.0</td>\n",
              "      <td>104.0</td>\n",
              "      <td>[{'iso_639_1': 'en', 'name': 'English'}, {'iso...</td>\n",
              "      <td>Released</td>\n",
              "      <td>Roll the dice and unleash the excitement!</td>\n",
              "      <td>Jumanji</td>\n",
              "      <td>False</td>\n",
              "      <td>6.9</td>\n",
              "      <td>2413.0</td>\n",
              "      <td>1995</td>\n",
              "    </tr>\n",
              "    <tr>\n",
              "      <th>2</th>\n",
              "      <td>False</td>\n",
              "      <td>{'id': 119050, 'name': 'Grumpy Old Men Collect...</td>\n",
              "      <td>0</td>\n",
              "      <td>[Romance, Comedy]</td>\n",
              "      <td>NaN</td>\n",
              "      <td>15602</td>\n",
              "      <td>tt0113228</td>\n",
              "      <td>en</td>\n",
              "      <td>Grumpier Old Men</td>\n",
              "      <td>A family wedding reignites the ancient feud be...</td>\n",
              "      <td>11.7129</td>\n",
              "      <td>/6ksm1sjKMFLbO7UY2i6G1ju9SML.jpg</td>\n",
              "      <td>[{'name': 'Warner Bros.', 'id': 6194}, {'name'...</td>\n",
              "      <td>[{'iso_3166_1': 'US', 'name': 'United States o...</td>\n",
              "      <td>1995-12-22</td>\n",
              "      <td>0.0</td>\n",
              "      <td>101.0</td>\n",
              "      <td>[{'iso_639_1': 'en', 'name': 'English'}]</td>\n",
              "      <td>Released</td>\n",
              "      <td>Still Yelling. Still Fighting. Still Ready for...</td>\n",
              "      <td>Grumpier Old Men</td>\n",
              "      <td>False</td>\n",
              "      <td>6.5</td>\n",
              "      <td>92.0</td>\n",
              "      <td>1995</td>\n",
              "    </tr>\n",
              "    <tr>\n",
              "      <th>3</th>\n",
              "      <td>False</td>\n",
              "      <td>NaN</td>\n",
              "      <td>16000000</td>\n",
              "      <td>[Comedy, Drama, Romance]</td>\n",
              "      <td>NaN</td>\n",
              "      <td>31357</td>\n",
              "      <td>tt0114885</td>\n",
              "      <td>en</td>\n",
              "      <td>Waiting to Exhale</td>\n",
              "      <td>Cheated on, mistreated and stepped on, the wom...</td>\n",
              "      <td>3.85949</td>\n",
              "      <td>/16XOMpEaLWkrcPqSQqhTmeJuqQl.jpg</td>\n",
              "      <td>[{'name': 'Twentieth Century Fox Film Corporat...</td>\n",
              "      <td>[{'iso_3166_1': 'US', 'name': 'United States o...</td>\n",
              "      <td>1995-12-22</td>\n",
              "      <td>81452156.0</td>\n",
              "      <td>127.0</td>\n",
              "      <td>[{'iso_639_1': 'en', 'name': 'English'}]</td>\n",
              "      <td>Released</td>\n",
              "      <td>Friends are the people who let you be yourself...</td>\n",
              "      <td>Waiting to Exhale</td>\n",
              "      <td>False</td>\n",
              "      <td>6.1</td>\n",
              "      <td>34.0</td>\n",
              "      <td>1995</td>\n",
              "    </tr>\n",
              "    <tr>\n",
              "      <th>4</th>\n",
              "      <td>False</td>\n",
              "      <td>{'id': 96871, 'name': 'Father of the Bride Col...</td>\n",
              "      <td>0</td>\n",
              "      <td>[Comedy]</td>\n",
              "      <td>NaN</td>\n",
              "      <td>11862</td>\n",
              "      <td>tt0113041</td>\n",
              "      <td>en</td>\n",
              "      <td>Father of the Bride Part II</td>\n",
              "      <td>Just when George Banks has recovered from his ...</td>\n",
              "      <td>8.38752</td>\n",
              "      <td>/e64sOI48hQXyru7naBFyssKFxVd.jpg</td>\n",
              "      <td>[{'name': 'Sandollar Productions', 'id': 5842}...</td>\n",
              "      <td>[{'iso_3166_1': 'US', 'name': 'United States o...</td>\n",
              "      <td>1995-02-10</td>\n",
              "      <td>76578911.0</td>\n",
              "      <td>106.0</td>\n",
              "      <td>[{'iso_639_1': 'en', 'name': 'English'}]</td>\n",
              "      <td>Released</td>\n",
              "      <td>Just When His World Is Back To Normal... He's ...</td>\n",
              "      <td>Father of the Bride Part II</td>\n",
              "      <td>False</td>\n",
              "      <td>5.7</td>\n",
              "      <td>173.0</td>\n",
              "      <td>1995</td>\n",
              "    </tr>\n",
              "  </tbody>\n",
              "</table>\n",
              "</div>"
            ],
            "text/plain": [
              "   adult                              belongs_to_collection  ... vote_count  year\n",
              "0  False  {'id': 10194, 'name': 'Toy Story Collection', ...  ...     5415.0  1995\n",
              "1  False                                                NaN  ...     2413.0  1995\n",
              "2  False  {'id': 119050, 'name': 'Grumpy Old Men Collect...  ...       92.0  1995\n",
              "3  False                                                NaN  ...       34.0  1995\n",
              "4  False  {'id': 96871, 'name': 'Father of the Bride Col...  ...      173.0  1995\n",
              "\n",
              "[5 rows x 25 columns]"
            ]
          },
          "metadata": {
            "tags": []
          },
          "execution_count": 26
        }
      ]
    },
    {
      "cell_type": "code",
      "metadata": {
        "id": "IfpESlTokT9T"
      },
      "source": [
        "smd['tagline'] = smd['tagline'].fillna('')\n",
        "smd['description'] = smd['overview'] + smd['tagline']\n",
        "smd['description'] = smd['description'].fillna('')"
      ],
      "execution_count": 27,
      "outputs": []
    },
    {
      "cell_type": "code",
      "metadata": {
        "colab": {
          "base_uri": "https://localhost:8080/",
          "height": 650
        },
        "id": "XIeuaQnek6uC",
        "outputId": "f26e5921-1be3-49da-ce7e-a603a156ac40"
      },
      "source": [
        "smd.head()"
      ],
      "execution_count": 28,
      "outputs": [
        {
          "output_type": "execute_result",
          "data": {
            "text/html": [
              "<div>\n",
              "<style scoped>\n",
              "    .dataframe tbody tr th:only-of-type {\n",
              "        vertical-align: middle;\n",
              "    }\n",
              "\n",
              "    .dataframe tbody tr th {\n",
              "        vertical-align: top;\n",
              "    }\n",
              "\n",
              "    .dataframe thead th {\n",
              "        text-align: right;\n",
              "    }\n",
              "</style>\n",
              "<table border=\"1\" class=\"dataframe\">\n",
              "  <thead>\n",
              "    <tr style=\"text-align: right;\">\n",
              "      <th></th>\n",
              "      <th>adult</th>\n",
              "      <th>belongs_to_collection</th>\n",
              "      <th>budget</th>\n",
              "      <th>genres</th>\n",
              "      <th>homepage</th>\n",
              "      <th>id</th>\n",
              "      <th>imdb_id</th>\n",
              "      <th>original_language</th>\n",
              "      <th>original_title</th>\n",
              "      <th>overview</th>\n",
              "      <th>popularity</th>\n",
              "      <th>poster_path</th>\n",
              "      <th>production_companies</th>\n",
              "      <th>production_countries</th>\n",
              "      <th>release_date</th>\n",
              "      <th>revenue</th>\n",
              "      <th>runtime</th>\n",
              "      <th>spoken_languages</th>\n",
              "      <th>status</th>\n",
              "      <th>tagline</th>\n",
              "      <th>title</th>\n",
              "      <th>video</th>\n",
              "      <th>vote_average</th>\n",
              "      <th>vote_count</th>\n",
              "      <th>year</th>\n",
              "      <th>description</th>\n",
              "    </tr>\n",
              "  </thead>\n",
              "  <tbody>\n",
              "    <tr>\n",
              "      <th>0</th>\n",
              "      <td>False</td>\n",
              "      <td>{'id': 10194, 'name': 'Toy Story Collection', ...</td>\n",
              "      <td>30000000</td>\n",
              "      <td>[Animation, Comedy, Family]</td>\n",
              "      <td>http://toystory.disney.com/toy-story</td>\n",
              "      <td>862</td>\n",
              "      <td>tt0114709</td>\n",
              "      <td>en</td>\n",
              "      <td>Toy Story</td>\n",
              "      <td>Led by Woody, Andy's toys live happily in his ...</td>\n",
              "      <td>21.9469</td>\n",
              "      <td>/rhIRbceoE9lR4veEXuwCC2wARtG.jpg</td>\n",
              "      <td>[{'name': 'Pixar Animation Studios', 'id': 3}]</td>\n",
              "      <td>[{'iso_3166_1': 'US', 'name': 'United States o...</td>\n",
              "      <td>1995-10-30</td>\n",
              "      <td>373554033.0</td>\n",
              "      <td>81.0</td>\n",
              "      <td>[{'iso_639_1': 'en', 'name': 'English'}]</td>\n",
              "      <td>Released</td>\n",
              "      <td></td>\n",
              "      <td>Toy Story</td>\n",
              "      <td>False</td>\n",
              "      <td>7.7</td>\n",
              "      <td>5415.0</td>\n",
              "      <td>1995</td>\n",
              "      <td>Led by Woody, Andy's toys live happily in his ...</td>\n",
              "    </tr>\n",
              "    <tr>\n",
              "      <th>1</th>\n",
              "      <td>False</td>\n",
              "      <td>NaN</td>\n",
              "      <td>65000000</td>\n",
              "      <td>[Adventure, Fantasy, Family]</td>\n",
              "      <td>NaN</td>\n",
              "      <td>8844</td>\n",
              "      <td>tt0113497</td>\n",
              "      <td>en</td>\n",
              "      <td>Jumanji</td>\n",
              "      <td>When siblings Judy and Peter discover an encha...</td>\n",
              "      <td>17.0155</td>\n",
              "      <td>/vzmL6fP7aPKNKPRTFnZmiUfciyV.jpg</td>\n",
              "      <td>[{'name': 'TriStar Pictures', 'id': 559}, {'na...</td>\n",
              "      <td>[{'iso_3166_1': 'US', 'name': 'United States o...</td>\n",
              "      <td>1995-12-15</td>\n",
              "      <td>262797249.0</td>\n",
              "      <td>104.0</td>\n",
              "      <td>[{'iso_639_1': 'en', 'name': 'English'}, {'iso...</td>\n",
              "      <td>Released</td>\n",
              "      <td>Roll the dice and unleash the excitement!</td>\n",
              "      <td>Jumanji</td>\n",
              "      <td>False</td>\n",
              "      <td>6.9</td>\n",
              "      <td>2413.0</td>\n",
              "      <td>1995</td>\n",
              "      <td>When siblings Judy and Peter discover an encha...</td>\n",
              "    </tr>\n",
              "    <tr>\n",
              "      <th>2</th>\n",
              "      <td>False</td>\n",
              "      <td>{'id': 119050, 'name': 'Grumpy Old Men Collect...</td>\n",
              "      <td>0</td>\n",
              "      <td>[Romance, Comedy]</td>\n",
              "      <td>NaN</td>\n",
              "      <td>15602</td>\n",
              "      <td>tt0113228</td>\n",
              "      <td>en</td>\n",
              "      <td>Grumpier Old Men</td>\n",
              "      <td>A family wedding reignites the ancient feud be...</td>\n",
              "      <td>11.7129</td>\n",
              "      <td>/6ksm1sjKMFLbO7UY2i6G1ju9SML.jpg</td>\n",
              "      <td>[{'name': 'Warner Bros.', 'id': 6194}, {'name'...</td>\n",
              "      <td>[{'iso_3166_1': 'US', 'name': 'United States o...</td>\n",
              "      <td>1995-12-22</td>\n",
              "      <td>0.0</td>\n",
              "      <td>101.0</td>\n",
              "      <td>[{'iso_639_1': 'en', 'name': 'English'}]</td>\n",
              "      <td>Released</td>\n",
              "      <td>Still Yelling. Still Fighting. Still Ready for...</td>\n",
              "      <td>Grumpier Old Men</td>\n",
              "      <td>False</td>\n",
              "      <td>6.5</td>\n",
              "      <td>92.0</td>\n",
              "      <td>1995</td>\n",
              "      <td>A family wedding reignites the ancient feud be...</td>\n",
              "    </tr>\n",
              "    <tr>\n",
              "      <th>3</th>\n",
              "      <td>False</td>\n",
              "      <td>NaN</td>\n",
              "      <td>16000000</td>\n",
              "      <td>[Comedy, Drama, Romance]</td>\n",
              "      <td>NaN</td>\n",
              "      <td>31357</td>\n",
              "      <td>tt0114885</td>\n",
              "      <td>en</td>\n",
              "      <td>Waiting to Exhale</td>\n",
              "      <td>Cheated on, mistreated and stepped on, the wom...</td>\n",
              "      <td>3.85949</td>\n",
              "      <td>/16XOMpEaLWkrcPqSQqhTmeJuqQl.jpg</td>\n",
              "      <td>[{'name': 'Twentieth Century Fox Film Corporat...</td>\n",
              "      <td>[{'iso_3166_1': 'US', 'name': 'United States o...</td>\n",
              "      <td>1995-12-22</td>\n",
              "      <td>81452156.0</td>\n",
              "      <td>127.0</td>\n",
              "      <td>[{'iso_639_1': 'en', 'name': 'English'}]</td>\n",
              "      <td>Released</td>\n",
              "      <td>Friends are the people who let you be yourself...</td>\n",
              "      <td>Waiting to Exhale</td>\n",
              "      <td>False</td>\n",
              "      <td>6.1</td>\n",
              "      <td>34.0</td>\n",
              "      <td>1995</td>\n",
              "      <td>Cheated on, mistreated and stepped on, the wom...</td>\n",
              "    </tr>\n",
              "    <tr>\n",
              "      <th>4</th>\n",
              "      <td>False</td>\n",
              "      <td>{'id': 96871, 'name': 'Father of the Bride Col...</td>\n",
              "      <td>0</td>\n",
              "      <td>[Comedy]</td>\n",
              "      <td>NaN</td>\n",
              "      <td>11862</td>\n",
              "      <td>tt0113041</td>\n",
              "      <td>en</td>\n",
              "      <td>Father of the Bride Part II</td>\n",
              "      <td>Just when George Banks has recovered from his ...</td>\n",
              "      <td>8.38752</td>\n",
              "      <td>/e64sOI48hQXyru7naBFyssKFxVd.jpg</td>\n",
              "      <td>[{'name': 'Sandollar Productions', 'id': 5842}...</td>\n",
              "      <td>[{'iso_3166_1': 'US', 'name': 'United States o...</td>\n",
              "      <td>1995-02-10</td>\n",
              "      <td>76578911.0</td>\n",
              "      <td>106.0</td>\n",
              "      <td>[{'iso_639_1': 'en', 'name': 'English'}]</td>\n",
              "      <td>Released</td>\n",
              "      <td>Just When His World Is Back To Normal... He's ...</td>\n",
              "      <td>Father of the Bride Part II</td>\n",
              "      <td>False</td>\n",
              "      <td>5.7</td>\n",
              "      <td>173.0</td>\n",
              "      <td>1995</td>\n",
              "      <td>Just when George Banks has recovered from his ...</td>\n",
              "    </tr>\n",
              "  </tbody>\n",
              "</table>\n",
              "</div>"
            ],
            "text/plain": [
              "   adult  ...                                        description\n",
              "0  False  ...  Led by Woody, Andy's toys live happily in his ...\n",
              "1  False  ...  When siblings Judy and Peter discover an encha...\n",
              "2  False  ...  A family wedding reignites the ancient feud be...\n",
              "3  False  ...  Cheated on, mistreated and stepped on, the wom...\n",
              "4  False  ...  Just when George Banks has recovered from his ...\n",
              "\n",
              "[5 rows x 26 columns]"
            ]
          },
          "metadata": {
            "tags": []
          },
          "execution_count": 28
        }
      ]
    },
    {
      "cell_type": "markdown",
      "metadata": {
        "id": "BR4B6xQYmxDg"
      },
      "source": [
        "### 벡터화(Vectorize)\n",
        "컴퓨터는 자연어 자체를 받아들일 수 없습니다. 그래서 컴퓨터가 이해할 수 있도록 벡터로 만들어주어야 합니다.\n",
        "이 과정을 벡터화(Vectorize)라고 합니다. 자연어를 어떻게 벡터로 표현하는 지는 자연어 처리 모델의 성능을 결정하는 중요한 역할을 합니다.\n",
        "자연어를 벡터화하는 방법은 크게 2가지로 나누어 볼 수 있습니다.\n",
        "\n",
        "- 등장 횟수 기반의 단어 표현(Count-based Representation) : 단어가 문서(혹은 문장)에 등장하는 횟수를 기반으로 벡터화하는 방법\n",
        "\n",
        "  - Bag-of-Words (CounterVectorizer)\n",
        "  - TF-IDF (TfidfVectorizer)"
      ]
    },
    {
      "cell_type": "markdown",
      "metadata": {
        "id": "7N71YzizoG0H"
      },
      "source": [
        "- TfidfVectorizer 파리미터\n",
        "  - analyzer : 'word'라고 설정시, 학습의 단위를 단어로 설정합니다. (ex - home, go, my ...)\n",
        "  - min-df : DF(document-frequency)의 최소 빈도값을 설정해주는 파라미터입니다.\n",
        "DF는 특정 단어가 나타나는 '문서의 수'를 의미합니다.\n",
        "단어의 수가 아니라 문서의 수라는 것에 주의\n",
        "  - ngram_range = (min_n, max_n), min_n 개~ max_n 개를 갖는 n-gram(n개의 연속적인 토큰)을 토큰으로 사용\n",
        "    - 만약 ngram_range = (1, 2)라고 한다면, 단어의 묶음을 1개부터 2개까지 설정하라는 뜻\n",
        "    - 단어사전에는 1개 단어묶음도 있고, 2개 단어묶음도 존재하게 되겠죠.\n",
        "    - 가령, 'go home', 'very good'과 같은 2개 짜리 묶음도 인덱스를 받게 되는 것입니다."
      ]
    },
    {
      "cell_type": "code",
      "metadata": {
        "id": "hHOUHCTLnQ2r"
      },
      "source": [
        "tf = TfidfVectorizer(analyzer='word',ngram_range=(1, 2),min_df=0, stop_words='english')\n",
        "tfidf_matrix = tf.fit_transform(smd['description'])"
      ],
      "execution_count": 29,
      "outputs": []
    },
    {
      "cell_type": "code",
      "metadata": {
        "colab": {
          "base_uri": "https://localhost:8080/"
        },
        "id": "sPO9dL3ropi9",
        "outputId": "c537234d-78f5-4632-9138-229d05fe87af"
      },
      "source": [
        "tfidf_matrix.shape"
      ],
      "execution_count": 30,
      "outputs": [
        {
          "output_type": "execute_result",
          "data": {
            "text/plain": [
              "(9099, 268124)"
            ]
          },
          "metadata": {
            "tags": []
          },
          "execution_count": 30
        }
      ]
    },
    {
      "cell_type": "markdown",
      "metadata": {
        "id": "vtn0cLUAp1Cf"
      },
      "source": [
        "description 열에 대해서 tf-idf를 수행했습니다. 9,099개의 영화를 표현하기위해 총 268,124개의 단어가 사용되었음을 보여주고 있습니다. 이제 **코사인 유사도**를 사용하면 바로 문서의 유사도를 구할 수 있습니다."
      ]
    },
    {
      "cell_type": "markdown",
      "metadata": {
        "id": "79gsRdsgo8XA"
      },
      "source": [
        "### 코사인 유사도 \n",
        "코사인 유사도는 두 벡터 간의 코사인 각도를 이용하여 구할 수 있는 두 벡터의 유사도를 의미합니다. 문서 단어 행렬이나 TF-IDF 행렬을 통해서 문서의 유사도를 구하는 경우에는 문서 단어 행렬이나 TF-IDF 행렬이 각각의 특징 벡터 A, B가 됩니다.\n",
        "\n",
        "- tf-idf를 할 때 데이터에 Null 값이 들어있으면 에러가 발생(Null 값을 처리하는 도구인 fillna()를 사용)"
      ]
    },
    {
      "cell_type": "code",
      "metadata": {
        "id": "TYrTVez-qLiN"
      },
      "source": [
        "cosine_sim = linear_kernel(tfidf_matrix, tfidf_matrix)"
      ],
      "execution_count": 31,
      "outputs": []
    },
    {
      "cell_type": "code",
      "metadata": {
        "colab": {
          "base_uri": "https://localhost:8080/"
        },
        "id": "MWABfyVEqNwW",
        "outputId": "9befb5a9-e045-44aa-a526-7bf150e7a9e2"
      },
      "source": [
        "cosine_sim[0]"
      ],
      "execution_count": 32,
      "outputs": [
        {
          "output_type": "execute_result",
          "data": {
            "text/plain": [
              "array([1.        , 0.00680476, 0.        , ..., 0.        , 0.00344913,\n",
              "       0.        ])"
            ]
          },
          "metadata": {
            "tags": []
          },
          "execution_count": 32
        }
      ]
    },
    {
      "cell_type": "code",
      "metadata": {
        "id": "JyOkaBqxq4V5"
      },
      "source": [
        "smd = smd.reset_index() #인덱스를 나타내는 열 추가\n",
        "titles = smd['title']\n",
        "indices = pd.Series(smd.index, index=smd['title'])"
      ],
      "execution_count": 33,
      "outputs": []
    },
    {
      "cell_type": "code",
      "metadata": {
        "colab": {
          "base_uri": "https://localhost:8080/"
        },
        "id": "vKbRMXoMrCGu",
        "outputId": "1bd72918-013a-4014-d44e-c6db6f489e72"
      },
      "source": [
        "indices"
      ],
      "execution_count": 34,
      "outputs": [
        {
          "output_type": "execute_result",
          "data": {
            "text/plain": [
              "title\n",
              "Toy Story                                                0\n",
              "Jumanji                                                  1\n",
              "Grumpier Old Men                                         2\n",
              "Waiting to Exhale                                        3\n",
              "Father of the Bride Part II                              4\n",
              "                                                      ... \n",
              "Shin Godzilla                                         9094\n",
              "The Beatles: Eight Days a Week - The Touring Years    9095\n",
              "Pokémon: Spell of the Unknown                         9096\n",
              "Pokémon 4Ever: Celebi - Voice of the Forest           9097\n",
              "Force Majeure                                         9098\n",
              "Length: 9099, dtype: int64"
            ]
          },
          "metadata": {
            "tags": []
          },
          "execution_count": 34
        }
      ]
    },
    {
      "cell_type": "code",
      "metadata": {
        "id": "FJ5HHxzNrH6y"
      },
      "source": [
        "def get_recommendations(title):\n",
        "    # 선택한 영화의 타이틀로부터 해당되는 인덱스를 받아옵니다. 이제 선택한 영화를 가지고 연산할 수 있습니다.\n",
        "    idx = indices[title]\n",
        "\n",
        "    # 모든 영화에 대해서 해당 영화와의 유사도를 구합니다.\n",
        "    sim_scores = list(enumerate(cosine_sim[idx]))\n",
        "\n",
        "    # 유사도에 따라 영화들을 정렬합니다.\n",
        "    sim_scores = sorted(sim_scores, key=lambda x: x[1], reverse=True)\n",
        "\n",
        "    # 가장 유사한 30개의 영화를 받아옵니다.(자기 자신은 제외)\n",
        "    sim_scores = sim_scores[1:31]\n",
        "\n",
        "    # 가장 유사한 10개의 영화의 인덱스를 받아옵니다.\n",
        "    movie_indices = [i[0] for i in sim_scores]\n",
        "\n",
        "    # 가장 유사한 10개의 영화의 제목을 리턴합니다.\n",
        "    return titles.iloc[movie_indices]"
      ],
      "execution_count": 35,
      "outputs": []
    },
    {
      "cell_type": "code",
      "metadata": {
        "colab": {
          "base_uri": "https://localhost:8080/"
        },
        "id": "P51-TwP4rV3l",
        "outputId": "0829bbe6-175f-49a0-9c12-a254d11a990b"
      },
      "source": [
        "get_recommendations('The Godfather').head(10)"
      ],
      "execution_count": 36,
      "outputs": [
        {
          "output_type": "execute_result",
          "data": {
            "text/plain": [
              "973      The Godfather: Part II\n",
              "8387                 The Family\n",
              "3509                       Made\n",
              "4196         Johnny Dangerously\n",
              "29               Shanghai Triad\n",
              "5667                       Fury\n",
              "2412             American Movie\n",
              "1582    The Godfather: Part III\n",
              "4221                    8 Women\n",
              "2159              Summer of Sam\n",
              "Name: title, dtype: object"
            ]
          },
          "metadata": {
            "tags": []
          },
          "execution_count": 36
        }
      ]
    },
    {
      "cell_type": "code",
      "metadata": {
        "colab": {
          "base_uri": "https://localhost:8080/"
        },
        "id": "sTMAN0URscjp",
        "outputId": "8e9ea190-c39f-4257-fb81-c9efe8c6131b"
      },
      "source": [
        "get_recommendations('The Dark Knight').head(10)"
      ],
      "execution_count": 37,
      "outputs": [
        {
          "output_type": "execute_result",
          "data": {
            "text/plain": [
              "7931                      The Dark Knight Rises\n",
              "132                              Batman Forever\n",
              "1113                             Batman Returns\n",
              "8227    Batman: The Dark Knight Returns, Part 2\n",
              "7565                 Batman: Under the Red Hood\n",
              "524                                      Batman\n",
              "7901                           Batman: Year One\n",
              "2579               Batman: Mask of the Phantasm\n",
              "2696                                        JFK\n",
              "8165    Batman: The Dark Knight Returns, Part 1\n",
              "Name: title, dtype: object"
            ]
          },
          "metadata": {
            "tags": []
          },
          "execution_count": 37
        }
      ]
    },
    {
      "cell_type": "markdown",
      "metadata": {
        "id": "RhD6yYNPu6nP"
      },
      "source": [
        "### genre, keywords, cast and crew를 고려한 좀 더 정교한 추천시스템 구축하기"
      ]
    },
    {
      "cell_type": "code",
      "metadata": {
        "id": "FkL7OqJdvOol"
      },
      "source": [
        "credits = pd.read_csv('/content/drive/MyDrive/dataset/movies_metadata.csv/credits.csv/credits.csv')\n",
        "keywords = pd.read_csv('/content/drive/MyDrive/dataset/movies_metadata.csv/keywords.csv/keywords.csv')"
      ],
      "execution_count": 38,
      "outputs": []
    },
    {
      "cell_type": "code",
      "metadata": {
        "colab": {
          "base_uri": "https://localhost:8080/"
        },
        "id": "sn_q8a7jvYrG",
        "outputId": "ca8c9be5-ed50-46a2-cd9b-a22ad00f8ee2"
      },
      "source": [
        "md.shape"
      ],
      "execution_count": 42,
      "outputs": [
        {
          "output_type": "execute_result",
          "data": {
            "text/plain": [
              "(45463, 25)"
            ]
          },
          "metadata": {
            "tags": []
          },
          "execution_count": 42
        }
      ]
    },
    {
      "cell_type": "code",
      "metadata": {
        "id": "Jvy52qwOvYT7"
      },
      "source": [
        "keywords['id'] = keywords['id'].astype('int')\n",
        "credits['id'] = credits['id'].astype('int')\n",
        "md['id'] = md['id'].astype('int')"
      ],
      "execution_count": 40,
      "outputs": []
    },
    {
      "cell_type": "code",
      "metadata": {
        "id": "nvdjnbRFvjcC"
      },
      "source": [
        "md = md.merge(credits, on='id')\n",
        "md = md.merge(keywords, on='id')"
      ],
      "execution_count": 43,
      "outputs": []
    },
    {
      "cell_type": "code",
      "metadata": {
        "colab": {
          "base_uri": "https://localhost:8080/"
        },
        "id": "3h5oByApvlKl",
        "outputId": "8f3d227f-010f-4a18-81ac-9d2e11d2a379"
      },
      "source": [
        "smd = md[md['id'].isin(links_small)]\n",
        "smd.shape"
      ],
      "execution_count": 44,
      "outputs": [
        {
          "output_type": "execute_result",
          "data": {
            "text/plain": [
              "(9219, 28)"
            ]
          },
          "metadata": {
            "tags": []
          },
          "execution_count": 44
        }
      ]
    },
    {
      "cell_type": "markdown",
      "metadata": {
        "id": "PukVaqihzXYU"
      },
      "source": [
        "#### literal_eval \n",
        "문자열을 딕셔너리/리스트 형태로 바꿔줌\n",
        "\n",
        "```\n",
        "a = \"['호랑이', '사자', '기린']\"\n",
        "a = liter_eval(a)\n",
        "a = ['호랑이', '사자', '기린']\n",
        "```\n",
        "\n"
      ]
    },
    {
      "cell_type": "code",
      "metadata": {
        "colab": {
          "base_uri": "https://localhost:8080/"
        },
        "id": "Nb6lyGPSytze",
        "outputId": "f2886195-318d-4813-f98d-14d122d77d86"
      },
      "source": [
        "smd['keywords']"
      ],
      "execution_count": 50,
      "outputs": [
        {
          "output_type": "execute_result",
          "data": {
            "text/plain": [
              "0        [{'id': 931, 'name': 'jealousy'}, {'id': 4290,...\n",
              "1        [{'id': 10090, 'name': 'board game'}, {'id': 1...\n",
              "2        [{'id': 1495, 'name': 'fishing'}, {'id': 12392...\n",
              "3        [{'id': 818, 'name': 'based on novel'}, {'id':...\n",
              "4        [{'id': 1009, 'name': 'baby'}, {'id': 1599, 'n...\n",
              "                               ...                        \n",
              "40952    [{'id': 6054, 'name': 'friendship'}, {'id': 20...\n",
              "41172                 [{'id': 10540, 'name': 'bollywood'}]\n",
              "41225                 [{'id': 10540, 'name': 'bollywood'}]\n",
              "41391    [{'id': 1299, 'name': 'monster'}, {'id': 7671,...\n",
              "41669    [{'id': 6027, 'name': 'music'}, {'id': 10073, ...\n",
              "Name: keywords, Length: 9219, dtype: object"
            ]
          },
          "metadata": {
            "tags": []
          },
          "execution_count": 50
        }
      ]
    },
    {
      "cell_type": "code",
      "metadata": {
        "id": "-24BWpZrysPW"
      },
      "source": [
        "smd['cast'] = smd['cast'].apply(literal_eval)\n",
        "smd['crew'] = smd['crew'].apply(literal_eval)\n",
        "smd['keywords'] = smd['keywords'].apply(literal_eval)\n",
        "smd['cast_size'] = smd['cast'].apply(lambda x: len(x))\n",
        "smd['crew_size'] = smd['crew'].apply(lambda x: len(x))"
      ],
      "execution_count": 51,
      "outputs": []
    },
    {
      "cell_type": "code",
      "metadata": {
        "colab": {
          "base_uri": "https://localhost:8080/",
          "height": 667
        },
        "id": "qXeqOME-zhKB",
        "outputId": "6e411290-3849-475d-dfd1-3030d0bb9295"
      },
      "source": [
        "smd.head()"
      ],
      "execution_count": 53,
      "outputs": [
        {
          "output_type": "execute_result",
          "data": {
            "text/html": [
              "<div>\n",
              "<style scoped>\n",
              "    .dataframe tbody tr th:only-of-type {\n",
              "        vertical-align: middle;\n",
              "    }\n",
              "\n",
              "    .dataframe tbody tr th {\n",
              "        vertical-align: top;\n",
              "    }\n",
              "\n",
              "    .dataframe thead th {\n",
              "        text-align: right;\n",
              "    }\n",
              "</style>\n",
              "<table border=\"1\" class=\"dataframe\">\n",
              "  <thead>\n",
              "    <tr style=\"text-align: right;\">\n",
              "      <th></th>\n",
              "      <th>adult</th>\n",
              "      <th>belongs_to_collection</th>\n",
              "      <th>budget</th>\n",
              "      <th>genres</th>\n",
              "      <th>homepage</th>\n",
              "      <th>id</th>\n",
              "      <th>imdb_id</th>\n",
              "      <th>original_language</th>\n",
              "      <th>original_title</th>\n",
              "      <th>overview</th>\n",
              "      <th>popularity</th>\n",
              "      <th>poster_path</th>\n",
              "      <th>production_companies</th>\n",
              "      <th>production_countries</th>\n",
              "      <th>release_date</th>\n",
              "      <th>revenue</th>\n",
              "      <th>runtime</th>\n",
              "      <th>spoken_languages</th>\n",
              "      <th>status</th>\n",
              "      <th>tagline</th>\n",
              "      <th>title</th>\n",
              "      <th>video</th>\n",
              "      <th>vote_average</th>\n",
              "      <th>vote_count</th>\n",
              "      <th>year</th>\n",
              "      <th>cast</th>\n",
              "      <th>crew</th>\n",
              "      <th>keywords</th>\n",
              "      <th>cast_size</th>\n",
              "      <th>crew_size</th>\n",
              "    </tr>\n",
              "  </thead>\n",
              "  <tbody>\n",
              "    <tr>\n",
              "      <th>0</th>\n",
              "      <td>False</td>\n",
              "      <td>{'id': 10194, 'name': 'Toy Story Collection', ...</td>\n",
              "      <td>30000000</td>\n",
              "      <td>[Animation, Comedy, Family]</td>\n",
              "      <td>http://toystory.disney.com/toy-story</td>\n",
              "      <td>862</td>\n",
              "      <td>tt0114709</td>\n",
              "      <td>en</td>\n",
              "      <td>Toy Story</td>\n",
              "      <td>Led by Woody, Andy's toys live happily in his ...</td>\n",
              "      <td>21.9469</td>\n",
              "      <td>/rhIRbceoE9lR4veEXuwCC2wARtG.jpg</td>\n",
              "      <td>[{'name': 'Pixar Animation Studios', 'id': 3}]</td>\n",
              "      <td>[{'iso_3166_1': 'US', 'name': 'United States o...</td>\n",
              "      <td>1995-10-30</td>\n",
              "      <td>373554033.0</td>\n",
              "      <td>81.0</td>\n",
              "      <td>[{'iso_639_1': 'en', 'name': 'English'}]</td>\n",
              "      <td>Released</td>\n",
              "      <td>NaN</td>\n",
              "      <td>Toy Story</td>\n",
              "      <td>False</td>\n",
              "      <td>7.7</td>\n",
              "      <td>5415.0</td>\n",
              "      <td>1995</td>\n",
              "      <td>[{'cast_id': 14, 'character': 'Woody (voice)',...</td>\n",
              "      <td>[{'credit_id': '52fe4284c3a36847f8024f49', 'de...</td>\n",
              "      <td>[{'id': 931, 'name': 'jealousy'}, {'id': 4290,...</td>\n",
              "      <td>13</td>\n",
              "      <td>106</td>\n",
              "    </tr>\n",
              "    <tr>\n",
              "      <th>1</th>\n",
              "      <td>False</td>\n",
              "      <td>NaN</td>\n",
              "      <td>65000000</td>\n",
              "      <td>[Adventure, Fantasy, Family]</td>\n",
              "      <td>NaN</td>\n",
              "      <td>8844</td>\n",
              "      <td>tt0113497</td>\n",
              "      <td>en</td>\n",
              "      <td>Jumanji</td>\n",
              "      <td>When siblings Judy and Peter discover an encha...</td>\n",
              "      <td>17.0155</td>\n",
              "      <td>/vzmL6fP7aPKNKPRTFnZmiUfciyV.jpg</td>\n",
              "      <td>[{'name': 'TriStar Pictures', 'id': 559}, {'na...</td>\n",
              "      <td>[{'iso_3166_1': 'US', 'name': 'United States o...</td>\n",
              "      <td>1995-12-15</td>\n",
              "      <td>262797249.0</td>\n",
              "      <td>104.0</td>\n",
              "      <td>[{'iso_639_1': 'en', 'name': 'English'}, {'iso...</td>\n",
              "      <td>Released</td>\n",
              "      <td>Roll the dice and unleash the excitement!</td>\n",
              "      <td>Jumanji</td>\n",
              "      <td>False</td>\n",
              "      <td>6.9</td>\n",
              "      <td>2413.0</td>\n",
              "      <td>1995</td>\n",
              "      <td>[{'cast_id': 1, 'character': 'Alan Parrish', '...</td>\n",
              "      <td>[{'credit_id': '52fe44bfc3a36847f80a7cd1', 'de...</td>\n",
              "      <td>[{'id': 10090, 'name': 'board game'}, {'id': 1...</td>\n",
              "      <td>26</td>\n",
              "      <td>16</td>\n",
              "    </tr>\n",
              "    <tr>\n",
              "      <th>2</th>\n",
              "      <td>False</td>\n",
              "      <td>{'id': 119050, 'name': 'Grumpy Old Men Collect...</td>\n",
              "      <td>0</td>\n",
              "      <td>[Romance, Comedy]</td>\n",
              "      <td>NaN</td>\n",
              "      <td>15602</td>\n",
              "      <td>tt0113228</td>\n",
              "      <td>en</td>\n",
              "      <td>Grumpier Old Men</td>\n",
              "      <td>A family wedding reignites the ancient feud be...</td>\n",
              "      <td>11.7129</td>\n",
              "      <td>/6ksm1sjKMFLbO7UY2i6G1ju9SML.jpg</td>\n",
              "      <td>[{'name': 'Warner Bros.', 'id': 6194}, {'name'...</td>\n",
              "      <td>[{'iso_3166_1': 'US', 'name': 'United States o...</td>\n",
              "      <td>1995-12-22</td>\n",
              "      <td>0.0</td>\n",
              "      <td>101.0</td>\n",
              "      <td>[{'iso_639_1': 'en', 'name': 'English'}]</td>\n",
              "      <td>Released</td>\n",
              "      <td>Still Yelling. Still Fighting. Still Ready for...</td>\n",
              "      <td>Grumpier Old Men</td>\n",
              "      <td>False</td>\n",
              "      <td>6.5</td>\n",
              "      <td>92.0</td>\n",
              "      <td>1995</td>\n",
              "      <td>[{'cast_id': 2, 'character': 'Max Goldman', 'c...</td>\n",
              "      <td>[{'credit_id': '52fe466a9251416c75077a89', 'de...</td>\n",
              "      <td>[{'id': 1495, 'name': 'fishing'}, {'id': 12392...</td>\n",
              "      <td>7</td>\n",
              "      <td>4</td>\n",
              "    </tr>\n",
              "    <tr>\n",
              "      <th>3</th>\n",
              "      <td>False</td>\n",
              "      <td>NaN</td>\n",
              "      <td>16000000</td>\n",
              "      <td>[Comedy, Drama, Romance]</td>\n",
              "      <td>NaN</td>\n",
              "      <td>31357</td>\n",
              "      <td>tt0114885</td>\n",
              "      <td>en</td>\n",
              "      <td>Waiting to Exhale</td>\n",
              "      <td>Cheated on, mistreated and stepped on, the wom...</td>\n",
              "      <td>3.85949</td>\n",
              "      <td>/16XOMpEaLWkrcPqSQqhTmeJuqQl.jpg</td>\n",
              "      <td>[{'name': 'Twentieth Century Fox Film Corporat...</td>\n",
              "      <td>[{'iso_3166_1': 'US', 'name': 'United States o...</td>\n",
              "      <td>1995-12-22</td>\n",
              "      <td>81452156.0</td>\n",
              "      <td>127.0</td>\n",
              "      <td>[{'iso_639_1': 'en', 'name': 'English'}]</td>\n",
              "      <td>Released</td>\n",
              "      <td>Friends are the people who let you be yourself...</td>\n",
              "      <td>Waiting to Exhale</td>\n",
              "      <td>False</td>\n",
              "      <td>6.1</td>\n",
              "      <td>34.0</td>\n",
              "      <td>1995</td>\n",
              "      <td>[{'cast_id': 1, 'character': 'Savannah 'Vannah...</td>\n",
              "      <td>[{'credit_id': '52fe44779251416c91011acb', 'de...</td>\n",
              "      <td>[{'id': 818, 'name': 'based on novel'}, {'id':...</td>\n",
              "      <td>10</td>\n",
              "      <td>10</td>\n",
              "    </tr>\n",
              "    <tr>\n",
              "      <th>4</th>\n",
              "      <td>False</td>\n",
              "      <td>{'id': 96871, 'name': 'Father of the Bride Col...</td>\n",
              "      <td>0</td>\n",
              "      <td>[Comedy]</td>\n",
              "      <td>NaN</td>\n",
              "      <td>11862</td>\n",
              "      <td>tt0113041</td>\n",
              "      <td>en</td>\n",
              "      <td>Father of the Bride Part II</td>\n",
              "      <td>Just when George Banks has recovered from his ...</td>\n",
              "      <td>8.38752</td>\n",
              "      <td>/e64sOI48hQXyru7naBFyssKFxVd.jpg</td>\n",
              "      <td>[{'name': 'Sandollar Productions', 'id': 5842}...</td>\n",
              "      <td>[{'iso_3166_1': 'US', 'name': 'United States o...</td>\n",
              "      <td>1995-02-10</td>\n",
              "      <td>76578911.0</td>\n",
              "      <td>106.0</td>\n",
              "      <td>[{'iso_639_1': 'en', 'name': 'English'}]</td>\n",
              "      <td>Released</td>\n",
              "      <td>Just When His World Is Back To Normal... He's ...</td>\n",
              "      <td>Father of the Bride Part II</td>\n",
              "      <td>False</td>\n",
              "      <td>5.7</td>\n",
              "      <td>173.0</td>\n",
              "      <td>1995</td>\n",
              "      <td>[{'cast_id': 1, 'character': 'George Banks', '...</td>\n",
              "      <td>[{'credit_id': '52fe44959251416c75039ed7', 'de...</td>\n",
              "      <td>[{'id': 1009, 'name': 'baby'}, {'id': 1599, 'n...</td>\n",
              "      <td>12</td>\n",
              "      <td>7</td>\n",
              "    </tr>\n",
              "  </tbody>\n",
              "</table>\n",
              "</div>"
            ],
            "text/plain": [
              "   adult  ... crew_size\n",
              "0  False  ...       106\n",
              "1  False  ...        16\n",
              "2  False  ...         4\n",
              "3  False  ...        10\n",
              "4  False  ...         7\n",
              "\n",
              "[5 rows x 30 columns]"
            ]
          },
          "metadata": {
            "tags": []
          },
          "execution_count": 53
        }
      ]
    },
    {
      "cell_type": "code",
      "metadata": {
        "colab": {
          "base_uri": "https://localhost:8080/"
        },
        "id": "2Bbxq_SC0Ant",
        "outputId": "9cd4c96c-e8dc-4ede-bcb0-c2a1500d8cfc"
      },
      "source": [
        "smd['crew'][0]"
      ],
      "execution_count": 57,
      "outputs": [
        {
          "output_type": "execute_result",
          "data": {
            "text/plain": [
              "[{'credit_id': '52fe4284c3a36847f8024f49',\n",
              "  'department': 'Directing',\n",
              "  'gender': 2,\n",
              "  'id': 7879,\n",
              "  'job': 'Director',\n",
              "  'name': 'John Lasseter',\n",
              "  'profile_path': '/7EdqiNbr4FRjIhKHyPPdFfEEEFG.jpg'},\n",
              " {'credit_id': '52fe4284c3a36847f8024f4f',\n",
              "  'department': 'Writing',\n",
              "  'gender': 2,\n",
              "  'id': 12891,\n",
              "  'job': 'Screenplay',\n",
              "  'name': 'Joss Whedon',\n",
              "  'profile_path': '/dTiVsuaTVTeGmvkhcyJvKp2A5kr.jpg'},\n",
              " {'credit_id': '52fe4284c3a36847f8024f55',\n",
              "  'department': 'Writing',\n",
              "  'gender': 2,\n",
              "  'id': 7,\n",
              "  'job': 'Screenplay',\n",
              "  'name': 'Andrew Stanton',\n",
              "  'profile_path': '/pvQWsu0qc8JFQhMVJkTHuexUAa1.jpg'},\n",
              " {'credit_id': '52fe4284c3a36847f8024f5b',\n",
              "  'department': 'Writing',\n",
              "  'gender': 2,\n",
              "  'id': 12892,\n",
              "  'job': 'Screenplay',\n",
              "  'name': 'Joel Cohen',\n",
              "  'profile_path': '/dAubAiZcvKFbboWlj7oXOkZnTSu.jpg'},\n",
              " {'credit_id': '52fe4284c3a36847f8024f61',\n",
              "  'department': 'Writing',\n",
              "  'gender': 0,\n",
              "  'id': 12893,\n",
              "  'job': 'Screenplay',\n",
              "  'name': 'Alec Sokolow',\n",
              "  'profile_path': '/v79vlRYi94BZUQnkkyznbGUZLjT.jpg'},\n",
              " {'credit_id': '52fe4284c3a36847f8024f67',\n",
              "  'department': 'Production',\n",
              "  'gender': 1,\n",
              "  'id': 12894,\n",
              "  'job': 'Producer',\n",
              "  'name': 'Bonnie Arnold',\n",
              "  'profile_path': None},\n",
              " {'credit_id': '52fe4284c3a36847f8024f6d',\n",
              "  'department': 'Production',\n",
              "  'gender': 0,\n",
              "  'id': 12895,\n",
              "  'job': 'Executive Producer',\n",
              "  'name': 'Ed Catmull',\n",
              "  'profile_path': None},\n",
              " {'credit_id': '52fe4284c3a36847f8024f73',\n",
              "  'department': 'Production',\n",
              "  'gender': 2,\n",
              "  'id': 12896,\n",
              "  'job': 'Producer',\n",
              "  'name': 'Ralph Guggenheim',\n",
              "  'profile_path': None},\n",
              " {'credit_id': '52fe4284c3a36847f8024f79',\n",
              "  'department': 'Production',\n",
              "  'gender': 2,\n",
              "  'id': 12897,\n",
              "  'job': 'Executive Producer',\n",
              "  'name': 'Steve Jobs',\n",
              "  'profile_path': '/mOMP3SwD5qWQSR0ldCIByd3guTV.jpg'},\n",
              " {'credit_id': '52fe4284c3a36847f8024f8b',\n",
              "  'department': 'Editing',\n",
              "  'gender': 2,\n",
              "  'id': 8,\n",
              "  'job': 'Editor',\n",
              "  'name': 'Lee Unkrich',\n",
              "  'profile_path': '/bdTCCXjgOV3YyaNmLGYGOxFQMOc.jpg'},\n",
              " {'credit_id': '52fe4284c3a36847f8024f91',\n",
              "  'department': 'Art',\n",
              "  'gender': 2,\n",
              "  'id': 7883,\n",
              "  'job': 'Art Direction',\n",
              "  'name': 'Ralph Eggleston',\n",
              "  'profile_path': '/uUfcGKDsKO1aROMpXRs67Hn6RvR.jpg'},\n",
              " {'credit_id': '598331bf925141421201044b',\n",
              "  'department': 'Editing',\n",
              "  'gender': 2,\n",
              "  'id': 1168870,\n",
              "  'job': 'Editor',\n",
              "  'name': 'Robert Gordon',\n",
              "  'profile_path': None},\n",
              " {'credit_id': '5892168cc3a36809660095f9',\n",
              "  'department': 'Sound',\n",
              "  'gender': 0,\n",
              "  'id': 1552883,\n",
              "  'job': 'Foley Editor',\n",
              "  'name': 'Mary Helen Leasman',\n",
              "  'profile_path': None},\n",
              " {'credit_id': '5531824d9251415289000945',\n",
              "  'department': 'Visual Effects',\n",
              "  'gender': 0,\n",
              "  'id': 1453514,\n",
              "  'job': 'Animation',\n",
              "  'name': 'Kim Blanchette',\n",
              "  'profile_path': None},\n",
              " {'credit_id': '589215969251412dcb009bf6',\n",
              "  'department': 'Sound',\n",
              "  'gender': 0,\n",
              "  'id': 1414182,\n",
              "  'job': 'ADR Editor',\n",
              "  'name': 'Marilyn McCoppen',\n",
              "  'profile_path': None},\n",
              " {'credit_id': '589217099251412dc500a018',\n",
              "  'department': 'Sound',\n",
              "  'gender': 2,\n",
              "  'id': 7885,\n",
              "  'job': 'Orchestrator',\n",
              "  'name': 'Randy Newman',\n",
              "  'profile_path': '/w0JzfoiM25nrnxYOzosPHRq6mlE.jpg'},\n",
              " {'credit_id': '5693e6b29251417b0e0000e3',\n",
              "  'department': 'Editing',\n",
              "  'gender': 0,\n",
              "  'id': 1429549,\n",
              "  'job': 'Color Timer',\n",
              "  'name': 'Dale E. Grahn',\n",
              "  'profile_path': None},\n",
              " {'credit_id': '572e2522c3a36869e6001a9c',\n",
              "  'department': 'Visual Effects',\n",
              "  'gender': 0,\n",
              "  'id': 7949,\n",
              "  'job': 'CG Painter',\n",
              "  'name': 'Robin Cooper',\n",
              "  'profile_path': None},\n",
              " {'credit_id': '574f12309251415ca1000012',\n",
              "  'department': 'Writing',\n",
              "  'gender': 2,\n",
              "  'id': 7879,\n",
              "  'job': 'Original Story',\n",
              "  'name': 'John Lasseter',\n",
              "  'profile_path': '/7EdqiNbr4FRjIhKHyPPdFfEEEFG.jpg'},\n",
              " {'credit_id': '574f1240c3a3682e7300001c',\n",
              "  'department': 'Writing',\n",
              "  'gender': 2,\n",
              "  'id': 12890,\n",
              "  'job': 'Original Story',\n",
              "  'name': 'Pete Docter',\n",
              "  'profile_path': '/r6ngPgnReA3RHmKjmSoVsc6Awjp.jpg'},\n",
              " {'credit_id': '574f12519251415c92000015',\n",
              "  'department': 'Writing',\n",
              "  'gender': 0,\n",
              "  'id': 7911,\n",
              "  'job': 'Original Story',\n",
              "  'name': 'Joe Ranft',\n",
              "  'profile_path': '/f1BoWC2JbCcfP1e5hKfGsxkHzVU.jpg'},\n",
              " {'credit_id': '574f12cec3a3682e82000022',\n",
              "  'department': 'Crew',\n",
              "  'gender': 0,\n",
              "  'id': 1629419,\n",
              "  'job': 'Post Production Supervisor',\n",
              "  'name': 'Patsy Bouge',\n",
              "  'profile_path': None},\n",
              " {'credit_id': '574f14f19251415ca1000082',\n",
              "  'department': 'Art',\n",
              "  'gender': 0,\n",
              "  'id': 7961,\n",
              "  'job': 'Sculptor',\n",
              "  'name': 'Norm DeCarlo',\n",
              "  'profile_path': None},\n",
              " {'credit_id': '5751ae4bc3a3683772002b7f',\n",
              "  'department': 'Visual Effects',\n",
              "  'gender': 2,\n",
              "  'id': 12905,\n",
              "  'job': 'Animation Director',\n",
              "  'name': 'Ash Brannon',\n",
              "  'profile_path': '/6ueWgPEEBHvS3De2BHYQnYjRTig.jpg'},\n",
              " {'credit_id': '5891edbe9251412dc5007cd6',\n",
              "  'department': 'Sound',\n",
              "  'gender': 2,\n",
              "  'id': 7885,\n",
              "  'job': 'Music',\n",
              "  'name': 'Randy Newman',\n",
              "  'profile_path': '/w0JzfoiM25nrnxYOzosPHRq6mlE.jpg'},\n",
              " {'credit_id': '589213d39251412dc8009832',\n",
              "  'department': 'Directing',\n",
              "  'gender': 0,\n",
              "  'id': 1748707,\n",
              "  'job': 'Layout',\n",
              "  'name': 'Roman Figun',\n",
              "  'profile_path': None},\n",
              " {'credit_id': '5892173dc3a3680968009351',\n",
              "  'department': 'Sound',\n",
              "  'gender': 2,\n",
              "  'id': 4949,\n",
              "  'job': 'Orchestrator',\n",
              "  'name': 'Don Davis',\n",
              "  'profile_path': None},\n",
              " {'credit_id': '589217cec3a3686b0a0052ba',\n",
              "  'department': 'Sound',\n",
              "  'gender': 0,\n",
              "  'id': 1372885,\n",
              "  'job': 'Music Editor',\n",
              "  'name': 'James Flamberg',\n",
              "  'profile_path': None},\n",
              " {'credit_id': '58921831c3a3686348004a64',\n",
              "  'department': 'Editing',\n",
              "  'gender': 0,\n",
              "  'id': 1739962,\n",
              "  'job': 'Negative Cutter',\n",
              "  'name': 'Mary Beth Smith',\n",
              "  'profile_path': None},\n",
              " {'credit_id': '58921838c3a36809700096c0',\n",
              "  'department': 'Editing',\n",
              "  'gender': 0,\n",
              "  'id': 1748513,\n",
              "  'job': 'Negative Cutter',\n",
              "  'name': 'Rick Mackay',\n",
              "  'profile_path': None},\n",
              " {'credit_id': '589218429251412dd1009d1b',\n",
              "  'department': 'Art',\n",
              "  'gender': 0,\n",
              "  'id': 1458006,\n",
              "  'job': 'Title Designer',\n",
              "  'name': 'Susan Bradley',\n",
              "  'profile_path': None},\n",
              " {'credit_id': '5891ed99c3a3680966007670',\n",
              "  'department': 'Crew',\n",
              "  'gender': 0,\n",
              "  'id': 1748557,\n",
              "  'job': 'Supervising Technical Director',\n",
              "  'name': 'William Reeves',\n",
              "  'profile_path': None},\n",
              " {'credit_id': '5891edcec3a3686b0a002eb2',\n",
              "  'department': 'Sound',\n",
              "  'gender': 2,\n",
              "  'id': 7885,\n",
              "  'job': 'Songs',\n",
              "  'name': 'Randy Newman',\n",
              "  'profile_path': '/w0JzfoiM25nrnxYOzosPHRq6mlE.jpg'},\n",
              " {'credit_id': '5891edf9c3a36809700075e6',\n",
              "  'department': 'Writing',\n",
              "  'gender': 2,\n",
              "  'id': 7,\n",
              "  'job': 'Original Story',\n",
              "  'name': 'Andrew Stanton',\n",
              "  'profile_path': '/pvQWsu0qc8JFQhMVJkTHuexUAa1.jpg'},\n",
              " {'credit_id': '58920f0b9251412dd7009104',\n",
              "  'department': 'Crew',\n",
              "  'gender': 2,\n",
              "  'id': 12890,\n",
              "  'job': 'Supervising Animator',\n",
              "  'name': 'Pete Docter',\n",
              "  'profile_path': '/r6ngPgnReA3RHmKjmSoVsc6Awjp.jpg'},\n",
              " {'credit_id': '58920f1fc3a3680977009021',\n",
              "  'department': 'Sound',\n",
              "  'gender': 2,\n",
              "  'id': 2216,\n",
              "  'job': 'Sound Designer',\n",
              "  'name': 'Gary Rydstrom',\n",
              "  'profile_path': '/jZpr1nVfO7lldWI0YtmP1FGw7Rj.jpg'},\n",
              " {'credit_id': '58920f389251412dd700912d',\n",
              "  'department': 'Production',\n",
              "  'gender': 0,\n",
              "  'id': 12909,\n",
              "  'job': 'Production Supervisor',\n",
              "  'name': 'Karen Robert Jackson',\n",
              "  'profile_path': None},\n",
              " {'credit_id': '58920fbd9251412dcb00969c',\n",
              "  'department': 'Crew',\n",
              "  'gender': 0,\n",
              "  'id': 953331,\n",
              "  'job': 'Executive Music Producer',\n",
              "  'name': 'Chris Montan',\n",
              "  'profile_path': None},\n",
              " {'credit_id': '589210069251412dd7009219',\n",
              "  'department': 'Visual Effects',\n",
              "  'gender': 0,\n",
              "  'id': 7893,\n",
              "  'job': 'Animation Director',\n",
              "  'name': 'Rich Quade',\n",
              "  'profile_path': None},\n",
              " {'credit_id': '589210329251412dcd00943b',\n",
              "  'department': 'Visual Effects',\n",
              "  'gender': 0,\n",
              "  'id': 8025,\n",
              "  'job': 'Animation',\n",
              "  'name': 'Michael Berenstein',\n",
              "  'profile_path': None},\n",
              " {'credit_id': '5892103bc3a368096a009180',\n",
              "  'department': 'Visual Effects',\n",
              "  'gender': 0,\n",
              "  'id': 78009,\n",
              "  'job': 'Animation',\n",
              "  'name': 'Colin Brady',\n",
              "  'profile_path': None},\n",
              " {'credit_id': '5892105dc3a3680968008db2',\n",
              "  'department': 'Visual Effects',\n",
              "  'gender': 0,\n",
              "  'id': 1748682,\n",
              "  'job': 'Animation',\n",
              "  'name': 'Davey Crockett Feiten',\n",
              "  'profile_path': None},\n",
              " {'credit_id': '589210669251412dcd009466',\n",
              "  'department': 'Visual Effects',\n",
              "  'gender': 0,\n",
              "  'id': 1454030,\n",
              "  'job': 'Animation',\n",
              "  'name': 'Angie Glocka',\n",
              "  'profile_path': None},\n",
              " {'credit_id': '5892107c9251412dd1009613',\n",
              "  'department': 'Visual Effects',\n",
              "  'gender': 0,\n",
              "  'id': 1748683,\n",
              "  'job': 'Animation',\n",
              "  'name': 'Rex Grignon',\n",
              "  'profile_path': None},\n",
              " {'credit_id': '5892108ac3a3680973008d3f',\n",
              "  'department': 'Visual Effects',\n",
              "  'gender': 0,\n",
              "  'id': 1748684,\n",
              "  'job': 'Animation',\n",
              "  'name': 'Tom K. Gurney',\n",
              "  'profile_path': None},\n",
              " {'credit_id': '58921093c3a3686348004477',\n",
              "  'department': 'Visual Effects',\n",
              "  'gender': 2,\n",
              "  'id': 8029,\n",
              "  'job': 'Animation',\n",
              "  'name': 'Jimmy Hayward',\n",
              "  'profile_path': '/lTDRpudEY7BDwTefXbXzMlmb0ui.jpg'},\n",
              " {'credit_id': '5892109b9251412dcd0094b0',\n",
              "  'department': 'Visual Effects',\n",
              "  'gender': 0,\n",
              "  'id': 1426773,\n",
              "  'job': 'Animation',\n",
              "  'name': 'Hal T. Hickel',\n",
              "  'profile_path': None},\n",
              " {'credit_id': '589210a29251412dc5009a29',\n",
              "  'department': 'Visual Effects',\n",
              "  'gender': 0,\n",
              "  'id': 8035,\n",
              "  'job': 'Animation',\n",
              "  'name': 'Karen Kiser',\n",
              "  'profile_path': None},\n",
              " {'credit_id': '589210ccc3a3680977009191',\n",
              "  'department': 'Visual Effects',\n",
              "  'gender': 0,\n",
              "  'id': 1748688,\n",
              "  'job': 'Animation',\n",
              "  'name': 'Anthony B. LaMolinara',\n",
              "  'profile_path': None},\n",
              " {'credit_id': '589210d7c3a3686b0a004c1f',\n",
              "  'department': 'Visual Effects',\n",
              "  'gender': 0,\n",
              "  'id': 587314,\n",
              "  'job': 'Animation',\n",
              "  'name': 'Guionne Leroy',\n",
              "  'profile_path': None},\n",
              " {'credit_id': '589210e1c3a36809770091a7',\n",
              "  'department': 'Visual Effects',\n",
              "  'gender': 2,\n",
              "  'id': 7918,\n",
              "  'job': 'Animation',\n",
              "  'name': 'Bud Luckey',\n",
              "  'profile_path': '/pcCh7G19FKMNijmPQg1PMH1btic.jpg'},\n",
              " {'credit_id': '589210ee9251412dc200978a',\n",
              "  'department': 'Visual Effects',\n",
              "  'gender': 0,\n",
              "  'id': 1748689,\n",
              "  'job': 'Animation',\n",
              "  'name': 'Les Major',\n",
              "  'profile_path': None},\n",
              " {'credit_id': '589210fa9251412dc8009595',\n",
              "  'department': 'Visual Effects',\n",
              "  'gender': 2,\n",
              "  'id': 7892,\n",
              "  'job': 'Animation',\n",
              "  'name': 'Glenn McQueen',\n",
              "  'profile_path': None},\n",
              " {'credit_id': '589211029251412dc8009598',\n",
              "  'department': 'Visual Effects',\n",
              "  'gender': 0,\n",
              "  'id': 555795,\n",
              "  'job': 'Animation',\n",
              "  'name': 'Mark Oftedal',\n",
              "  'profile_path': None},\n",
              " {'credit_id': '5892110b9251412dc800959d',\n",
              "  'department': 'Visual Effects',\n",
              "  'gender': 2,\n",
              "  'id': 7882,\n",
              "  'job': 'Animation',\n",
              "  'name': 'Jeff Pidgeon',\n",
              "  'profile_path': '/yLddkg5HcgbJg00cS13GVBnP0HY.jpg'},\n",
              " {'credit_id': '58921113c3a36863480044e4',\n",
              "  'department': 'Visual Effects',\n",
              "  'gender': 0,\n",
              "  'id': 8017,\n",
              "  'job': 'Animation',\n",
              "  'name': 'Jeff Pratt',\n",
              "  'profile_path': None},\n",
              " {'credit_id': '5892111c9251412dcb0097e9',\n",
              "  'department': 'Visual Effects',\n",
              "  'gender': 0,\n",
              "  'id': 1184140,\n",
              "  'job': 'Animation',\n",
              "  'name': 'Steve Rabatich',\n",
              "  'profile_path': None},\n",
              " {'credit_id': '58921123c3a36809700090f6',\n",
              "  'department': 'Visual Effects',\n",
              "  'gender': 0,\n",
              "  'id': 8049,\n",
              "  'job': 'Animation',\n",
              "  'name': 'Roger Rose',\n",
              "  'profile_path': None},\n",
              " {'credit_id': '5892112b9251412dcb0097fb',\n",
              "  'department': 'Visual Effects',\n",
              "  'gender': 0,\n",
              "  'id': 1509559,\n",
              "  'job': 'Animation',\n",
              "  'name': 'Steve Segal',\n",
              "  'profile_path': None},\n",
              " {'credit_id': '589211349251412dc80095c3',\n",
              "  'department': 'Visual Effects',\n",
              "  'gender': 0,\n",
              "  'id': 1748691,\n",
              "  'job': 'Animation',\n",
              "  'name': 'Doug Sheppeck',\n",
              "  'profile_path': None},\n",
              " {'credit_id': '5892113cc3a3680970009106',\n",
              "  'department': 'Visual Effects',\n",
              "  'gender': 0,\n",
              "  'id': 8050,\n",
              "  'job': 'Animation',\n",
              "  'name': 'Alan Sperling',\n",
              "  'profile_path': None},\n",
              " {'credit_id': '58921148c3a3686b0a004c99',\n",
              "  'department': 'Visual Effects',\n",
              "  'gender': 0,\n",
              "  'id': 8010,\n",
              "  'job': 'Animation',\n",
              "  'name': 'Doug Sweetland',\n",
              "  'profile_path': None},\n",
              " {'credit_id': '58921150c3a3680966009125',\n",
              "  'department': 'Visual Effects',\n",
              "  'gender': 0,\n",
              "  'id': 8044,\n",
              "  'job': 'Animation',\n",
              "  'name': 'David Tart',\n",
              "  'profile_path': None},\n",
              " {'credit_id': '589211629251412dc5009b00',\n",
              "  'department': 'Visual Effects',\n",
              "  'gender': 0,\n",
              "  'id': 1454034,\n",
              "  'job': 'Animation',\n",
              "  'name': 'Ken Willard',\n",
              "  'profile_path': None},\n",
              " {'credit_id': '589211c1c3a3686b0a004d28',\n",
              "  'department': 'Visual Effects',\n",
              "  'gender': 0,\n",
              "  'id': 7887,\n",
              "  'job': 'Visual Effects Supervisor',\n",
              "  'name': 'Thomas Porter',\n",
              "  'profile_path': None},\n",
              " {'credit_id': '589211d4c3a3680968008ed9',\n",
              "  'department': 'Visual Effects',\n",
              "  'gender': 0,\n",
              "  'id': 1406878,\n",
              "  'job': 'Visual Effects',\n",
              "  'name': 'Mark Thomas Henne',\n",
              "  'profile_path': None},\n",
              " {'credit_id': '589211f59251412dd4008e65',\n",
              "  'department': 'Visual Effects',\n",
              "  'gender': 0,\n",
              "  'id': 1748698,\n",
              "  'job': 'Visual Effects',\n",
              "  'name': 'Oren Jacob',\n",
              "  'profile_path': None},\n",
              " {'credit_id': '58921242c3a368096a00939b',\n",
              "  'department': 'Visual Effects',\n",
              "  'gender': 0,\n",
              "  'id': 1748699,\n",
              "  'job': 'Visual Effects',\n",
              "  'name': 'Darwyn Peachey',\n",
              "  'profile_path': None},\n",
              " {'credit_id': '5892124b9251412dc5009bd2',\n",
              "  'department': 'Visual Effects',\n",
              "  'gender': 0,\n",
              "  'id': 1748701,\n",
              "  'job': 'Visual Effects',\n",
              "  'name': 'Mitch Prater',\n",
              "  'profile_path': None},\n",
              " {'credit_id': '58921264c3a3686b0a004dbf',\n",
              "  'department': 'Visual Effects',\n",
              "  'gender': 0,\n",
              "  'id': 1748703,\n",
              "  'job': 'Visual Effects',\n",
              "  'name': 'Brian M. Rosen',\n",
              "  'profile_path': None},\n",
              " {'credit_id': '589212709251412dcd009676',\n",
              "  'department': 'Lighting',\n",
              "  'gender': 1,\n",
              "  'id': 12912,\n",
              "  'job': 'Lighting Supervisor',\n",
              "  'name': 'Sharon Calahan',\n",
              "  'profile_path': None},\n",
              " {'credit_id': '5892127fc3a3686b0a004de5',\n",
              "  'department': 'Lighting',\n",
              "  'gender': 0,\n",
              "  'id': 7899,\n",
              "  'job': 'Lighting Supervisor',\n",
              "  'name': 'Galyn Susman',\n",
              "  'profile_path': None},\n",
              " {'credit_id': '589212cdc3a3680970009268',\n",
              "  'department': 'Visual Effects',\n",
              "  'gender': 0,\n",
              "  'id': 12915,\n",
              "  'job': 'CG Painter',\n",
              "  'name': 'William Cone',\n",
              "  'profile_path': None},\n",
              " {'credit_id': '5892130f9251412dc8009791',\n",
              "  'department': 'Art',\n",
              "  'gender': 0,\n",
              "  'id': 1748705,\n",
              "  'job': 'Sculptor',\n",
              "  'name': 'Shelley Daniels Lekven',\n",
              "  'profile_path': None},\n",
              " {'credit_id': '5892131c9251412dd4008f4c',\n",
              "  'department': 'Visual Effects',\n",
              "  'gender': 2,\n",
              "  'id': 7889,\n",
              "  'job': 'Character Designer',\n",
              "  'name': 'Bob Pauley',\n",
              "  'profile_path': None},\n",
              " {'credit_id': '589213249251412dd100987b',\n",
              "  'department': 'Visual Effects',\n",
              "  'gender': 2,\n",
              "  'id': 7918,\n",
              "  'job': 'Character Designer',\n",
              "  'name': 'Bud Luckey',\n",
              "  'profile_path': '/pcCh7G19FKMNijmPQg1PMH1btic.jpg'},\n",
              " {'credit_id': '5892132b9251412dc80097b1',\n",
              "  'department': 'Visual Effects',\n",
              "  'gender': 2,\n",
              "  'id': 7,\n",
              "  'job': 'Character Designer',\n",
              "  'name': 'Andrew Stanton',\n",
              "  'profile_path': '/pvQWsu0qc8JFQhMVJkTHuexUAa1.jpg'},\n",
              " {'credit_id': '58921332c3a368634800467b',\n",
              "  'department': 'Visual Effects',\n",
              "  'gender': 0,\n",
              "  'id': 12915,\n",
              "  'job': 'Character Designer',\n",
              "  'name': 'William Cone',\n",
              "  'profile_path': None},\n",
              " {'credit_id': '5892135f9251412dd4008f90',\n",
              "  'department': 'Visual Effects',\n",
              "  'gender': 0,\n",
              "  'id': 1748706,\n",
              "  'job': 'Character Designer',\n",
              "  'name': 'Steve Johnson',\n",
              "  'profile_path': None},\n",
              " {'credit_id': '58921384c3a3680973008fd4',\n",
              "  'department': 'Visual Effects',\n",
              "  'gender': 0,\n",
              "  'id': 1176752,\n",
              "  'job': 'Character Designer',\n",
              "  'name': 'Dan Haskett',\n",
              "  'profile_path': None},\n",
              " {'credit_id': '5892138e9251412dc20099fc',\n",
              "  'department': 'Visual Effects',\n",
              "  'gender': 0,\n",
              "  'id': 1088034,\n",
              "  'job': 'Character Designer',\n",
              "  'name': 'Tom Holloway',\n",
              "  'profile_path': '/a0r0T2usTBpgMI5aZbRBDW1fTl8.jpg'},\n",
              " {'credit_id': '58921395c3a368097700942f',\n",
              "  'department': 'Visual Effects',\n",
              "  'gender': 0,\n",
              "  'id': 1447465,\n",
              "  'job': 'Character Designer',\n",
              "  'name': 'Jean Gillmore',\n",
              "  'profile_path': None},\n",
              " {'credit_id': '589213e2c3a3680973009026',\n",
              "  'department': 'Directing',\n",
              "  'gender': 0,\n",
              "  'id': 1748709,\n",
              "  'job': 'Layout',\n",
              "  'name': 'Desirée Mourad',\n",
              "  'profile_path': None},\n",
              " {'credit_id': '589214099251412dc5009d57',\n",
              "  'department': 'Art',\n",
              "  'gender': 0,\n",
              "  'id': 1748710,\n",
              "  'job': 'Set Dresser',\n",
              "  'name': \"Kelly O'Connell\",\n",
              "  'profile_path': None},\n",
              " {'credit_id': '58921411c3a3686b0a004f70',\n",
              "  'department': 'Art',\n",
              "  'gender': 0,\n",
              "  'id': 1443471,\n",
              "  'job': 'Set Dresser',\n",
              "  'name': 'Sonoko Konishi',\n",
              "  'profile_path': None},\n",
              " {'credit_id': '58921434c3a368096a00956e',\n",
              "  'department': 'Art',\n",
              "  'gender': 0,\n",
              "  'id': 1748711,\n",
              "  'job': 'Set Dresser',\n",
              "  'name': 'Ann M. Rockwell',\n",
              "  'profile_path': None},\n",
              " {'credit_id': '5892144ac3a36809680090de',\n",
              "  'department': 'Editing',\n",
              "  'gender': 0,\n",
              "  'id': 1748712,\n",
              "  'job': 'Editorial Manager',\n",
              "  'name': 'Julie M. McDonald',\n",
              "  'profile_path': None},\n",
              " {'credit_id': '58921479c3a368096800910f',\n",
              "  'department': 'Editing',\n",
              "  'gender': 0,\n",
              "  'id': 1589729,\n",
              "  'job': 'Assistant Editor',\n",
              "  'name': 'Robin Lee',\n",
              "  'profile_path': None},\n",
              " {'credit_id': '5892148b9251412dd10099cc',\n",
              "  'department': 'Editing',\n",
              "  'gender': 0,\n",
              "  'id': 1748716,\n",
              "  'job': 'Assistant Editor',\n",
              "  'name': 'Tom Freeman',\n",
              "  'profile_path': None},\n",
              " {'credit_id': '589214959251412dcb009b1f',\n",
              "  'department': 'Editing',\n",
              "  'gender': 0,\n",
              "  'id': 1748717,\n",
              "  'job': 'Assistant Editor',\n",
              "  'name': 'Ada Cochavi',\n",
              "  'profile_path': None},\n",
              " {'credit_id': '5892149ec3a3686348004798',\n",
              "  'department': 'Editing',\n",
              "  'gender': 0,\n",
              "  'id': 1336438,\n",
              "  'job': 'Assistant Editor',\n",
              "  'name': 'Dana Mulligan',\n",
              "  'profile_path': None},\n",
              " {'credit_id': '589214adc3a368096a0095db',\n",
              "  'department': 'Editing',\n",
              "  'gender': 0,\n",
              "  'id': 1748718,\n",
              "  'job': 'Editorial Coordinator',\n",
              "  'name': 'Deirdre Morrison',\n",
              "  'profile_path': None},\n",
              " {'credit_id': '589214c7c3a368097700952b',\n",
              "  'department': 'Production',\n",
              "  'gender': 0,\n",
              "  'id': 1748719,\n",
              "  'job': 'Production Coordinator',\n",
              "  'name': 'Lori Lombardo',\n",
              "  'profile_path': None},\n",
              " {'credit_id': '589214cec3a368096a009603',\n",
              "  'department': 'Production',\n",
              "  'gender': 0,\n",
              "  'id': 1748720,\n",
              "  'job': 'Production Coordinator',\n",
              "  'name': 'Ellen Devine',\n",
              "  'profile_path': None},\n",
              " {'credit_id': '589214e39251412dc8009904',\n",
              "  'department': 'Crew',\n",
              "  'gender': 0,\n",
              "  'id': 1468014,\n",
              "  'job': 'Unit Publicist',\n",
              "  'name': 'Lauren Beth Strogoff',\n",
              "  'profile_path': None},\n",
              " {'credit_id': '58921544c3a3686b0a00507d',\n",
              "  'department': 'Sound',\n",
              "  'gender': 2,\n",
              "  'id': 2216,\n",
              "  'job': 'Sound Re-Recording Mixer',\n",
              "  'name': 'Gary Rydstrom',\n",
              "  'profile_path': '/jZpr1nVfO7lldWI0YtmP1FGw7Rj.jpg'},\n",
              " {'credit_id': '5892154c9251412dd1009a56',\n",
              "  'department': 'Sound',\n",
              "  'gender': 0,\n",
              "  'id': 1425978,\n",
              "  'job': 'Sound Re-Recording Mixer',\n",
              "  'name': 'Gary Summers',\n",
              "  'profile_path': None},\n",
              " {'credit_id': '58921555c3a36809680091bd',\n",
              "  'department': 'Sound',\n",
              "  'gender': 2,\n",
              "  'id': 8276,\n",
              "  'job': 'Supervising Sound Editor',\n",
              "  'name': 'Tim Holland',\n",
              "  'profile_path': None},\n",
              " {'credit_id': '589215c39251412dcb009c12',\n",
              "  'department': 'Sound',\n",
              "  'gender': 0,\n",
              "  'id': 7069,\n",
              "  'job': 'Sound Effects Editor',\n",
              "  'name': 'Pat Jackson',\n",
              "  'profile_path': None},\n",
              " {'credit_id': '58921698c3a368096a009788',\n",
              "  'department': 'Crew',\n",
              "  'gender': 2,\n",
              "  'id': 15894,\n",
              "  'job': 'Sound Design Assistant',\n",
              "  'name': 'Tom Myers',\n",
              "  'profile_path': None},\n",
              " {'credit_id': '589216a89251412dc2009ca4',\n",
              "  'department': 'Sound',\n",
              "  'gender': 0,\n",
              "  'id': 1414177,\n",
              "  'job': 'Assistant Sound Editor',\n",
              "  'name': 'J.R. Grubbs',\n",
              "  'profile_path': None},\n",
              " {'credit_id': '589216c19251412dc2009cb9',\n",
              "  'department': 'Sound',\n",
              "  'gender': 1,\n",
              "  'id': 1748724,\n",
              "  'job': 'Assistant Sound Editor',\n",
              "  'name': 'Susan Sanford',\n",
              "  'profile_path': None},\n",
              " {'credit_id': '589216ccc3a3680973009274',\n",
              "  'department': 'Sound',\n",
              "  'gender': 0,\n",
              "  'id': 1748725,\n",
              "  'job': 'Assistant Sound Editor',\n",
              "  'name': 'Susan Popovic',\n",
              "  'profile_path': None},\n",
              " {'credit_id': '589216d79251412dc8009aa0',\n",
              "  'department': 'Sound',\n",
              "  'gender': 0,\n",
              "  'id': 8067,\n",
              "  'job': 'Assistant Sound Editor',\n",
              "  'name': 'Dan Engstrom',\n",
              "  'profile_path': None},\n",
              " {'credit_id': '589216e49251412dcd009a4f',\n",
              "  'department': 'Production',\n",
              "  'gender': 1,\n",
              "  'id': 7902,\n",
              "  'job': 'Casting Consultant',\n",
              "  'name': 'Ruth Lambert',\n",
              "  'profile_path': None},\n",
              " {'credit_id': '589216f39251412dc2009cf3',\n",
              "  'department': 'Production',\n",
              "  'gender': 0,\n",
              "  'id': 84493,\n",
              "  'job': 'ADR Voice Casting',\n",
              "  'name': 'Mickie McGowan',\n",
              "  'profile_path': '/k7TjJBfINsg8vLQxJwos6XObAD6.jpg'}]"
            ]
          },
          "metadata": {
            "tags": []
          },
          "execution_count": 57
        }
      ]
    },
    {
      "cell_type": "code",
      "metadata": {
        "id": "9d0poisAzvC6"
      },
      "source": [
        "def get_director(x):\n",
        "    for i in x:\n",
        "        if i['job'] == 'Director':\n",
        "            return i['name']\n",
        "    return np.nan"
      ],
      "execution_count": 58,
      "outputs": []
    },
    {
      "cell_type": "code",
      "metadata": {
        "id": "7wIgWdTo0JKT"
      },
      "source": [
        "smd['director'] = smd['crew'].apply(get_director)"
      ],
      "execution_count": 59,
      "outputs": []
    },
    {
      "cell_type": "code",
      "metadata": {
        "id": "jyZVLzQ50nrU"
      },
      "source": [
        "smd['cast'] = smd['cast'].apply(lambda x: [i['name'] for i in x] if isinstance(x, list) else [])\n",
        "smd['cast'] = smd['cast'].apply(lambda x: x[:3] if len(x) >=3 else x)"
      ],
      "execution_count": 60,
      "outputs": []
    },
    {
      "cell_type": "code",
      "metadata": {
        "colab": {
          "base_uri": "https://localhost:8080/"
        },
        "id": "rRds8CNu0oUD",
        "outputId": "1daaa14f-6952-4fb3-bd36-31c5849dc52f"
      },
      "source": [
        "smd['keywords'][0]"
      ],
      "execution_count": 62,
      "outputs": [
        {
          "output_type": "execute_result",
          "data": {
            "text/plain": [
              "[{'id': 931, 'name': 'jealousy'},\n",
              " {'id': 4290, 'name': 'toy'},\n",
              " {'id': 5202, 'name': 'boy'},\n",
              " {'id': 6054, 'name': 'friendship'},\n",
              " {'id': 9713, 'name': 'friends'},\n",
              " {'id': 9823, 'name': 'rivalry'},\n",
              " {'id': 165503, 'name': 'boy next door'},\n",
              " {'id': 170722, 'name': 'new toy'},\n",
              " {'id': 187065, 'name': 'toy comes to life'}]"
            ]
          },
          "metadata": {
            "tags": []
          },
          "execution_count": 62
        }
      ]
    },
    {
      "cell_type": "code",
      "metadata": {
        "id": "_K1I1gyo1B70"
      },
      "source": [
        "smd['keywords'] = smd['keywords'].apply(lambda x: [i['name'] for i in x] if isinstance(x, list) else [])"
      ],
      "execution_count": 63,
      "outputs": []
    },
    {
      "cell_type": "code",
      "metadata": {
        "colab": {
          "base_uri": "https://localhost:8080/"
        },
        "id": "WzCdaBpB1J7i",
        "outputId": "7981f7ba-b412-4331-ff8d-a76085fc5048"
      },
      "source": [
        "smd['keywords'][0]"
      ],
      "execution_count": 64,
      "outputs": [
        {
          "output_type": "execute_result",
          "data": {
            "text/plain": [
              "['jealousy',\n",
              " 'toy',\n",
              " 'boy',\n",
              " 'friendship',\n",
              " 'friends',\n",
              " 'rivalry',\n",
              " 'boy next door',\n",
              " 'new toy',\n",
              " 'toy comes to life']"
            ]
          },
          "metadata": {
            "tags": []
          },
          "execution_count": 64
        }
      ]
    },
    {
      "cell_type": "code",
      "metadata": {
        "id": "YBabOj1w10UH"
      },
      "source": [
        "smd['cast'] = smd['cast'].apply(lambda x: [str.lower(i.replace(\" \", \"\")) for i in x])"
      ],
      "execution_count": 65,
      "outputs": []
    },
    {
      "cell_type": "code",
      "metadata": {
        "id": "Jfl-PJXZ12BE"
      },
      "source": [
        "smd['director'] = smd['director'].astype('str').apply(lambda x: str.lower(x.replace(\" \", \"\")))\n",
        "smd['director'] = smd['director'].apply(lambda x: [x,x, x])"
      ],
      "execution_count": 66,
      "outputs": []
    },
    {
      "cell_type": "code",
      "metadata": {
        "colab": {
          "base_uri": "https://localhost:8080/",
          "height": 650
        },
        "id": "315GXU_9123b",
        "outputId": "c406ea8a-0db7-40a1-b5be-c1c90b814e63"
      },
      "source": [
        "smd.head()"
      ],
      "execution_count": 67,
      "outputs": [
        {
          "output_type": "execute_result",
          "data": {
            "text/html": [
              "<div>\n",
              "<style scoped>\n",
              "    .dataframe tbody tr th:only-of-type {\n",
              "        vertical-align: middle;\n",
              "    }\n",
              "\n",
              "    .dataframe tbody tr th {\n",
              "        vertical-align: top;\n",
              "    }\n",
              "\n",
              "    .dataframe thead th {\n",
              "        text-align: right;\n",
              "    }\n",
              "</style>\n",
              "<table border=\"1\" class=\"dataframe\">\n",
              "  <thead>\n",
              "    <tr style=\"text-align: right;\">\n",
              "      <th></th>\n",
              "      <th>adult</th>\n",
              "      <th>belongs_to_collection</th>\n",
              "      <th>budget</th>\n",
              "      <th>genres</th>\n",
              "      <th>homepage</th>\n",
              "      <th>id</th>\n",
              "      <th>imdb_id</th>\n",
              "      <th>original_language</th>\n",
              "      <th>original_title</th>\n",
              "      <th>overview</th>\n",
              "      <th>popularity</th>\n",
              "      <th>poster_path</th>\n",
              "      <th>production_companies</th>\n",
              "      <th>production_countries</th>\n",
              "      <th>release_date</th>\n",
              "      <th>revenue</th>\n",
              "      <th>runtime</th>\n",
              "      <th>spoken_languages</th>\n",
              "      <th>status</th>\n",
              "      <th>tagline</th>\n",
              "      <th>title</th>\n",
              "      <th>video</th>\n",
              "      <th>vote_average</th>\n",
              "      <th>vote_count</th>\n",
              "      <th>year</th>\n",
              "      <th>cast</th>\n",
              "      <th>crew</th>\n",
              "      <th>keywords</th>\n",
              "      <th>cast_size</th>\n",
              "      <th>crew_size</th>\n",
              "      <th>director</th>\n",
              "    </tr>\n",
              "  </thead>\n",
              "  <tbody>\n",
              "    <tr>\n",
              "      <th>0</th>\n",
              "      <td>False</td>\n",
              "      <td>{'id': 10194, 'name': 'Toy Story Collection', ...</td>\n",
              "      <td>30000000</td>\n",
              "      <td>[Animation, Comedy, Family]</td>\n",
              "      <td>http://toystory.disney.com/toy-story</td>\n",
              "      <td>862</td>\n",
              "      <td>tt0114709</td>\n",
              "      <td>en</td>\n",
              "      <td>Toy Story</td>\n",
              "      <td>Led by Woody, Andy's toys live happily in his ...</td>\n",
              "      <td>21.9469</td>\n",
              "      <td>/rhIRbceoE9lR4veEXuwCC2wARtG.jpg</td>\n",
              "      <td>[{'name': 'Pixar Animation Studios', 'id': 3}]</td>\n",
              "      <td>[{'iso_3166_1': 'US', 'name': 'United States o...</td>\n",
              "      <td>1995-10-30</td>\n",
              "      <td>373554033.0</td>\n",
              "      <td>81.0</td>\n",
              "      <td>[{'iso_639_1': 'en', 'name': 'English'}]</td>\n",
              "      <td>Released</td>\n",
              "      <td>NaN</td>\n",
              "      <td>Toy Story</td>\n",
              "      <td>False</td>\n",
              "      <td>7.7</td>\n",
              "      <td>5415.0</td>\n",
              "      <td>1995</td>\n",
              "      <td>[tomhanks, timallen, donrickles]</td>\n",
              "      <td>[{'credit_id': '52fe4284c3a36847f8024f49', 'de...</td>\n",
              "      <td>[jealousy, toy, boy, friendship, friends, riva...</td>\n",
              "      <td>13</td>\n",
              "      <td>106</td>\n",
              "      <td>[johnlasseter, johnlasseter, johnlasseter]</td>\n",
              "    </tr>\n",
              "    <tr>\n",
              "      <th>1</th>\n",
              "      <td>False</td>\n",
              "      <td>NaN</td>\n",
              "      <td>65000000</td>\n",
              "      <td>[Adventure, Fantasy, Family]</td>\n",
              "      <td>NaN</td>\n",
              "      <td>8844</td>\n",
              "      <td>tt0113497</td>\n",
              "      <td>en</td>\n",
              "      <td>Jumanji</td>\n",
              "      <td>When siblings Judy and Peter discover an encha...</td>\n",
              "      <td>17.0155</td>\n",
              "      <td>/vzmL6fP7aPKNKPRTFnZmiUfciyV.jpg</td>\n",
              "      <td>[{'name': 'TriStar Pictures', 'id': 559}, {'na...</td>\n",
              "      <td>[{'iso_3166_1': 'US', 'name': 'United States o...</td>\n",
              "      <td>1995-12-15</td>\n",
              "      <td>262797249.0</td>\n",
              "      <td>104.0</td>\n",
              "      <td>[{'iso_639_1': 'en', 'name': 'English'}, {'iso...</td>\n",
              "      <td>Released</td>\n",
              "      <td>Roll the dice and unleash the excitement!</td>\n",
              "      <td>Jumanji</td>\n",
              "      <td>False</td>\n",
              "      <td>6.9</td>\n",
              "      <td>2413.0</td>\n",
              "      <td>1995</td>\n",
              "      <td>[robinwilliams, jonathanhyde, kirstendunst]</td>\n",
              "      <td>[{'credit_id': '52fe44bfc3a36847f80a7cd1', 'de...</td>\n",
              "      <td>[board game, disappearance, based on children'...</td>\n",
              "      <td>26</td>\n",
              "      <td>16</td>\n",
              "      <td>[joejohnston, joejohnston, joejohnston]</td>\n",
              "    </tr>\n",
              "    <tr>\n",
              "      <th>2</th>\n",
              "      <td>False</td>\n",
              "      <td>{'id': 119050, 'name': 'Grumpy Old Men Collect...</td>\n",
              "      <td>0</td>\n",
              "      <td>[Romance, Comedy]</td>\n",
              "      <td>NaN</td>\n",
              "      <td>15602</td>\n",
              "      <td>tt0113228</td>\n",
              "      <td>en</td>\n",
              "      <td>Grumpier Old Men</td>\n",
              "      <td>A family wedding reignites the ancient feud be...</td>\n",
              "      <td>11.7129</td>\n",
              "      <td>/6ksm1sjKMFLbO7UY2i6G1ju9SML.jpg</td>\n",
              "      <td>[{'name': 'Warner Bros.', 'id': 6194}, {'name'...</td>\n",
              "      <td>[{'iso_3166_1': 'US', 'name': 'United States o...</td>\n",
              "      <td>1995-12-22</td>\n",
              "      <td>0.0</td>\n",
              "      <td>101.0</td>\n",
              "      <td>[{'iso_639_1': 'en', 'name': 'English'}]</td>\n",
              "      <td>Released</td>\n",
              "      <td>Still Yelling. Still Fighting. Still Ready for...</td>\n",
              "      <td>Grumpier Old Men</td>\n",
              "      <td>False</td>\n",
              "      <td>6.5</td>\n",
              "      <td>92.0</td>\n",
              "      <td>1995</td>\n",
              "      <td>[waltermatthau, jacklemmon, ann-margret]</td>\n",
              "      <td>[{'credit_id': '52fe466a9251416c75077a89', 'de...</td>\n",
              "      <td>[fishing, best friend, duringcreditsstinger, o...</td>\n",
              "      <td>7</td>\n",
              "      <td>4</td>\n",
              "      <td>[howarddeutch, howarddeutch, howarddeutch]</td>\n",
              "    </tr>\n",
              "    <tr>\n",
              "      <th>3</th>\n",
              "      <td>False</td>\n",
              "      <td>NaN</td>\n",
              "      <td>16000000</td>\n",
              "      <td>[Comedy, Drama, Romance]</td>\n",
              "      <td>NaN</td>\n",
              "      <td>31357</td>\n",
              "      <td>tt0114885</td>\n",
              "      <td>en</td>\n",
              "      <td>Waiting to Exhale</td>\n",
              "      <td>Cheated on, mistreated and stepped on, the wom...</td>\n",
              "      <td>3.85949</td>\n",
              "      <td>/16XOMpEaLWkrcPqSQqhTmeJuqQl.jpg</td>\n",
              "      <td>[{'name': 'Twentieth Century Fox Film Corporat...</td>\n",
              "      <td>[{'iso_3166_1': 'US', 'name': 'United States o...</td>\n",
              "      <td>1995-12-22</td>\n",
              "      <td>81452156.0</td>\n",
              "      <td>127.0</td>\n",
              "      <td>[{'iso_639_1': 'en', 'name': 'English'}]</td>\n",
              "      <td>Released</td>\n",
              "      <td>Friends are the people who let you be yourself...</td>\n",
              "      <td>Waiting to Exhale</td>\n",
              "      <td>False</td>\n",
              "      <td>6.1</td>\n",
              "      <td>34.0</td>\n",
              "      <td>1995</td>\n",
              "      <td>[whitneyhouston, angelabassett, lorettadevine]</td>\n",
              "      <td>[{'credit_id': '52fe44779251416c91011acb', 'de...</td>\n",
              "      <td>[based on novel, interracial relationship, sin...</td>\n",
              "      <td>10</td>\n",
              "      <td>10</td>\n",
              "      <td>[forestwhitaker, forestwhitaker, forestwhitaker]</td>\n",
              "    </tr>\n",
              "    <tr>\n",
              "      <th>4</th>\n",
              "      <td>False</td>\n",
              "      <td>{'id': 96871, 'name': 'Father of the Bride Col...</td>\n",
              "      <td>0</td>\n",
              "      <td>[Comedy]</td>\n",
              "      <td>NaN</td>\n",
              "      <td>11862</td>\n",
              "      <td>tt0113041</td>\n",
              "      <td>en</td>\n",
              "      <td>Father of the Bride Part II</td>\n",
              "      <td>Just when George Banks has recovered from his ...</td>\n",
              "      <td>8.38752</td>\n",
              "      <td>/e64sOI48hQXyru7naBFyssKFxVd.jpg</td>\n",
              "      <td>[{'name': 'Sandollar Productions', 'id': 5842}...</td>\n",
              "      <td>[{'iso_3166_1': 'US', 'name': 'United States o...</td>\n",
              "      <td>1995-02-10</td>\n",
              "      <td>76578911.0</td>\n",
              "      <td>106.0</td>\n",
              "      <td>[{'iso_639_1': 'en', 'name': 'English'}]</td>\n",
              "      <td>Released</td>\n",
              "      <td>Just When His World Is Back To Normal... He's ...</td>\n",
              "      <td>Father of the Bride Part II</td>\n",
              "      <td>False</td>\n",
              "      <td>5.7</td>\n",
              "      <td>173.0</td>\n",
              "      <td>1995</td>\n",
              "      <td>[stevemartin, dianekeaton, martinshort]</td>\n",
              "      <td>[{'credit_id': '52fe44959251416c75039ed7', 'de...</td>\n",
              "      <td>[baby, midlife crisis, confidence, aging, daug...</td>\n",
              "      <td>12</td>\n",
              "      <td>7</td>\n",
              "      <td>[charlesshyer, charlesshyer, charlesshyer]</td>\n",
              "    </tr>\n",
              "  </tbody>\n",
              "</table>\n",
              "</div>"
            ],
            "text/plain": [
              "   adult  ...                                          director\n",
              "0  False  ...        [johnlasseter, johnlasseter, johnlasseter]\n",
              "1  False  ...           [joejohnston, joejohnston, joejohnston]\n",
              "2  False  ...        [howarddeutch, howarddeutch, howarddeutch]\n",
              "3  False  ...  [forestwhitaker, forestwhitaker, forestwhitaker]\n",
              "4  False  ...        [charlesshyer, charlesshyer, charlesshyer]\n",
              "\n",
              "[5 rows x 31 columns]"
            ]
          },
          "metadata": {
            "tags": []
          },
          "execution_count": 67
        }
      ]
    },
    {
      "cell_type": "code",
      "metadata": {
        "id": "luT5hB4J1_5B"
      },
      "source": [
        "s = smd.apply(lambda x: pd.Series(x['keywords']),axis=1).stack().reset_index(level=1, drop=True)\n",
        "s.name = 'keyword'"
      ],
      "execution_count": 68,
      "outputs": []
    },
    {
      "cell_type": "code",
      "metadata": {
        "colab": {
          "base_uri": "https://localhost:8080/"
        },
        "id": "ED1ti-IW2BN4",
        "outputId": "358a9b4c-0da6-44f4-f4db-27ad051b4332"
      },
      "source": [
        "s"
      ],
      "execution_count": 69,
      "outputs": [
        {
          "output_type": "execute_result",
          "data": {
            "text/plain": [
              "0           jealousy\n",
              "0                toy\n",
              "0                boy\n",
              "0         friendship\n",
              "0            friends\n",
              "            ...     \n",
              "41391    destruction\n",
              "41391          kaiju\n",
              "41391          toyko\n",
              "41669          music\n",
              "41669    documentary\n",
              "Name: keyword, Length: 64407, dtype: object"
            ]
          },
          "metadata": {
            "tags": []
          },
          "execution_count": 69
        }
      ]
    },
    {
      "cell_type": "code",
      "metadata": {
        "colab": {
          "base_uri": "https://localhost:8080/"
        },
        "id": "bvMRrIYW2D0A",
        "outputId": "cc897122-6f4c-4072-9bee-a98ff47be6dd"
      },
      "source": [
        "s = s.value_counts()\n",
        "s[:5]"
      ],
      "execution_count": 70,
      "outputs": [
        {
          "output_type": "execute_result",
          "data": {
            "text/plain": [
              "independent film        610\n",
              "woman director          550\n",
              "murder                  399\n",
              "duringcreditsstinger    327\n",
              "based on novel          318\n",
              "Name: keyword, dtype: int64"
            ]
          },
          "metadata": {
            "tags": []
          },
          "execution_count": 70
        }
      ]
    },
    {
      "cell_type": "code",
      "metadata": {
        "id": "izCNh7PZ2GKc"
      },
      "source": [
        "s = s[s > 1]"
      ],
      "execution_count": 71,
      "outputs": []
    },
    {
      "cell_type": "markdown",
      "metadata": {
        "id": "V2MabRjP_SI6"
      },
      "source": [
        "#### SnowballStemmer\n",
        "어간(Stem)을 추출하는 작업을 어간 추출(stemming)"
      ]
    },
    {
      "cell_type": "code",
      "metadata": {
        "colab": {
          "base_uri": "https://localhost:8080/",
          "height": 35
        },
        "id": "PC4S3PXv2IEd",
        "outputId": "09e40110-c35f-4ae0-94c1-cf5000f16f21"
      },
      "source": [
        "stemmer = SnowballStemmer('english')\n",
        "stemmer.stem('dogs')"
      ],
      "execution_count": 72,
      "outputs": [
        {
          "output_type": "execute_result",
          "data": {
            "application/vnd.google.colaboratory.intrinsic+json": {
              "type": "string"
            },
            "text/plain": [
              "'dog'"
            ]
          },
          "metadata": {
            "tags": []
          },
          "execution_count": 72
        }
      ]
    },
    {
      "cell_type": "code",
      "metadata": {
        "id": "3QWS3t2-2KRN"
      },
      "source": [
        "def filter_keywords(x):\n",
        "    words = []\n",
        "    for i in x:\n",
        "        if i in s:\n",
        "            words.append(i)\n",
        "    return words"
      ],
      "execution_count": 73,
      "outputs": []
    },
    {
      "cell_type": "code",
      "metadata": {
        "id": "A3zpRqUx2Ml2"
      },
      "source": [
        "smd['keywords'] = smd['keywords'].apply(filter_keywords)\n",
        "smd['keywords'] = smd['keywords'].apply(lambda x: [stemmer.stem(i) for i in x])\n",
        "smd['keywords'] = smd['keywords'].apply(lambda x: [str.lower(i.replace(\" \", \"\")) for i in x])"
      ],
      "execution_count": 74,
      "outputs": []
    },
    {
      "cell_type": "code",
      "metadata": {
        "id": "aZAHPWrs2OqL"
      },
      "source": [
        "smd['soup'] = smd['keywords'] + smd['cast'] + smd['director'] + smd['genres']\n",
        "smd['soup'] = smd['soup'].apply(lambda x: ' '.join(x))"
      ],
      "execution_count": 75,
      "outputs": []
    },
    {
      "cell_type": "markdown",
      "metadata": {
        "id": "LkWkBRNrBA6N"
      },
      "source": [
        "### CountVectorizer\n",
        "문서, 문장들에서 문법이나 단어의 순서 등의 개념을 제거하고 단순히 단어들의 빈도만 고려\n",
        "\n",
        "- stop_words = 'english' 영어에 해당하는 불용어 처리를 합니다.\n",
        "- max_features=n, 빈도 순서대로 top n 단어만 사용합니다.\n",
        "\n",
        "1. 문서를 토큰 리스트로 변환한다.\n",
        "\n",
        "2. 각 문서에서 토큰의 출현 빈도를 센다.\n",
        "\n",
        "3. 각 문서를 BOW 인코딩 벡터로 변환한다."
      ]
    },
    {
      "cell_type": "code",
      "metadata": {
        "id": "sIxMubhw2RAJ"
      },
      "source": [
        "count = CountVectorizer(analyzer='word',ngram_range=(1, 2),min_df=0, stop_words='english')\n",
        "count_matrix = count.fit_transform(smd['soup'])"
      ],
      "execution_count": 76,
      "outputs": []
    },
    {
      "cell_type": "code",
      "metadata": {
        "colab": {
          "base_uri": "https://localhost:8080/"
        },
        "id": "LIu51iCnCLl7",
        "outputId": "af3ce2af-6d94-489b-9377-6c60357a09f7"
      },
      "source": [
        "count_matrix"
      ],
      "execution_count": 83,
      "outputs": [
        {
          "output_type": "execute_result",
          "data": {
            "text/plain": [
              "<9219x107377 sparse matrix of type '<class 'numpy.int64'>'\n",
              "\twith 240050 stored elements in Compressed Sparse Row format>"
            ]
          },
          "metadata": {
            "tags": []
          },
          "execution_count": 83
        }
      ]
    },
    {
      "cell_type": "markdown",
      "metadata": {
        "id": "gLZYAylMCLQK"
      },
      "source": [
        "soup 열에 대해서 tf-idf를 수행했습니다. 9,219개의 영화를 표현하기위해 총 107,377개의 단어가 사용되었음을 보여주고 있습니다. 이제 코사인 유사도를 사용하면 바로 문서의 유사도를 구할 수 있습니다."
      ]
    },
    {
      "cell_type": "code",
      "metadata": {
        "id": "F7vo4ldu2Tdz"
      },
      "source": [
        "cosine_sim = cosine_similarity(count_matrix, count_matrix)"
      ],
      "execution_count": 77,
      "outputs": []
    },
    {
      "cell_type": "code",
      "metadata": {
        "id": "wmpfDj762VOC"
      },
      "source": [
        "smd = smd.reset_index()\n",
        "titles = smd['title']\n",
        "indices = pd.Series(smd.index, index=smd['title'])"
      ],
      "execution_count": 78,
      "outputs": []
    },
    {
      "cell_type": "code",
      "metadata": {
        "colab": {
          "base_uri": "https://localhost:8080/"
        },
        "id": "EjK-zWnP_doX",
        "outputId": "a3d11420-ecac-4dfb-c006-abf32fb48bf9"
      },
      "source": [
        "indices"
      ],
      "execution_count": 82,
      "outputs": [
        {
          "output_type": "execute_result",
          "data": {
            "text/plain": [
              "title\n",
              "Toy Story                                                0\n",
              "Jumanji                                                  1\n",
              "Grumpier Old Men                                         2\n",
              "Waiting to Exhale                                        3\n",
              "Father of the Bride Part II                              4\n",
              "                                                      ... \n",
              "The Last Brickmaker in America                        9214\n",
              "Rustom                                                9215\n",
              "Mohenjo Daro                                          9216\n",
              "Shin Godzilla                                         9217\n",
              "The Beatles: Eight Days a Week - The Touring Years    9218\n",
              "Length: 9219, dtype: int64"
            ]
          },
          "metadata": {
            "tags": []
          },
          "execution_count": 82
        }
      ]
    },
    {
      "cell_type": "markdown",
      "metadata": {
        "id": "_QVAFSNe_-05"
      },
      "source": [
        "1. 유사도가 Top 25 & 상위 60%의 vote_count인 영화 추출\n",
        "2. IMDB's formula를 통해 최종적으로 상위 10개의 영화 출력"
      ]
    },
    {
      "cell_type": "code",
      "metadata": {
        "id": "lQji-Igh2cmp"
      },
      "source": [
        "def improved_recommendations(title):\n",
        "    idx = indices[title]\n",
        "    sim_scores = list(enumerate(cosine_sim[idx]))\n",
        "    sim_scores = sorted(sim_scores, key=lambda x: x[1], reverse=True)\n",
        "    sim_scores = sim_scores[1:26]\n",
        "    movie_indices = [i[0] for i in sim_scores]\n",
        "    \n",
        "    #상위 25개의 영화를 대상으로 \n",
        "    movies = smd.iloc[movie_indices][['title', 'vote_count', 'vote_average', 'year']]\n",
        "    vote_counts = movies[movies['vote_count'].notnull()]['vote_count'].astype('int')\n",
        "    vote_averages = movies[movies['vote_average'].notnull()]['vote_average'].astype('int')\n",
        "    C = vote_averages.mean()\n",
        "    m = vote_counts.quantile(0.60)\n",
        "    qualified = movies[(movies['vote_count'] >= m) & (movies['vote_count'].notnull()) & (movies['vote_average'].notnull())]\n",
        "    qualified['vote_count'] = qualified['vote_count'].astype('int')\n",
        "    qualified['vote_average'] = qualified['vote_average'].astype('int')\n",
        "    qualified['wr'] = qualified.apply(weighted_rating, axis=1)\n",
        "    qualified = qualified.sort_values('wr', ascending=False).head(10)\n",
        "    return qualified"
      ],
      "execution_count": 79,
      "outputs": []
    },
    {
      "cell_type": "code",
      "metadata": {
        "colab": {
          "base_uri": "https://localhost:8080/",
          "height": 359
        },
        "id": "NFv054-R2ic9",
        "outputId": "084944c7-6a9f-41b5-9c1d-b298d61761c3"
      },
      "source": [
        "improved_recommendations('The Dark Knight')"
      ],
      "execution_count": 80,
      "outputs": [
        {
          "output_type": "execute_result",
          "data": {
            "text/html": [
              "<div>\n",
              "<style scoped>\n",
              "    .dataframe tbody tr th:only-of-type {\n",
              "        vertical-align: middle;\n",
              "    }\n",
              "\n",
              "    .dataframe tbody tr th {\n",
              "        vertical-align: top;\n",
              "    }\n",
              "\n",
              "    .dataframe thead th {\n",
              "        text-align: right;\n",
              "    }\n",
              "</style>\n",
              "<table border=\"1\" class=\"dataframe\">\n",
              "  <thead>\n",
              "    <tr style=\"text-align: right;\">\n",
              "      <th></th>\n",
              "      <th>title</th>\n",
              "      <th>vote_count</th>\n",
              "      <th>vote_average</th>\n",
              "      <th>year</th>\n",
              "      <th>wr</th>\n",
              "    </tr>\n",
              "  </thead>\n",
              "  <tbody>\n",
              "    <tr>\n",
              "      <th>7648</th>\n",
              "      <td>Inception</td>\n",
              "      <td>14075</td>\n",
              "      <td>8</td>\n",
              "      <td>2010</td>\n",
              "      <td>7.917588</td>\n",
              "    </tr>\n",
              "    <tr>\n",
              "      <th>8613</th>\n",
              "      <td>Interstellar</td>\n",
              "      <td>11187</td>\n",
              "      <td>8</td>\n",
              "      <td>2014</td>\n",
              "      <td>7.897107</td>\n",
              "    </tr>\n",
              "    <tr>\n",
              "      <th>6623</th>\n",
              "      <td>The Prestige</td>\n",
              "      <td>4510</td>\n",
              "      <td>8</td>\n",
              "      <td>2006</td>\n",
              "      <td>7.758148</td>\n",
              "    </tr>\n",
              "    <tr>\n",
              "      <th>3381</th>\n",
              "      <td>Memento</td>\n",
              "      <td>4168</td>\n",
              "      <td>8</td>\n",
              "      <td>2000</td>\n",
              "      <td>7.740175</td>\n",
              "    </tr>\n",
              "    <tr>\n",
              "      <th>8031</th>\n",
              "      <td>The Dark Knight Rises</td>\n",
              "      <td>9263</td>\n",
              "      <td>7</td>\n",
              "      <td>2012</td>\n",
              "      <td>6.921448</td>\n",
              "    </tr>\n",
              "    <tr>\n",
              "      <th>6218</th>\n",
              "      <td>Batman Begins</td>\n",
              "      <td>7511</td>\n",
              "      <td>7</td>\n",
              "      <td>2005</td>\n",
              "      <td>6.904127</td>\n",
              "    </tr>\n",
              "    <tr>\n",
              "      <th>1134</th>\n",
              "      <td>Batman Returns</td>\n",
              "      <td>1706</td>\n",
              "      <td>6</td>\n",
              "      <td>1992</td>\n",
              "      <td>5.846862</td>\n",
              "    </tr>\n",
              "    <tr>\n",
              "      <th>132</th>\n",
              "      <td>Batman Forever</td>\n",
              "      <td>1529</td>\n",
              "      <td>5</td>\n",
              "      <td>1995</td>\n",
              "      <td>5.054144</td>\n",
              "    </tr>\n",
              "    <tr>\n",
              "      <th>9024</th>\n",
              "      <td>Batman v Superman: Dawn of Justice</td>\n",
              "      <td>7189</td>\n",
              "      <td>5</td>\n",
              "      <td>2016</td>\n",
              "      <td>5.013943</td>\n",
              "    </tr>\n",
              "    <tr>\n",
              "      <th>1260</th>\n",
              "      <td>Batman &amp; Robin</td>\n",
              "      <td>1447</td>\n",
              "      <td>4</td>\n",
              "      <td>1997</td>\n",
              "      <td>4.287233</td>\n",
              "    </tr>\n",
              "  </tbody>\n",
              "</table>\n",
              "</div>"
            ],
            "text/plain": [
              "                                   title  vote_count  ...  year        wr\n",
              "7648                           Inception       14075  ...  2010  7.917588\n",
              "8613                        Interstellar       11187  ...  2014  7.897107\n",
              "6623                        The Prestige        4510  ...  2006  7.758148\n",
              "3381                             Memento        4168  ...  2000  7.740175\n",
              "8031               The Dark Knight Rises        9263  ...  2012  6.921448\n",
              "6218                       Batman Begins        7511  ...  2005  6.904127\n",
              "1134                      Batman Returns        1706  ...  1992  5.846862\n",
              "132                       Batman Forever        1529  ...  1995  5.054144\n",
              "9024  Batman v Superman: Dawn of Justice        7189  ...  2016  5.013943\n",
              "1260                      Batman & Robin        1447  ...  1997  4.287233\n",
              "\n",
              "[10 rows x 5 columns]"
            ]
          },
          "metadata": {
            "tags": []
          },
          "execution_count": 80
        }
      ]
    },
    {
      "cell_type": "code",
      "metadata": {
        "colab": {
          "base_uri": "https://localhost:8080/"
        },
        "id": "oiKFeYmI2lHz",
        "outputId": "f59aba99-e4f2-4600-c015-309b36a71bfc"
      },
      "source": [
        "get_recommendations('The Dark Knight').head(10)"
      ],
      "execution_count": 81,
      "outputs": [
        {
          "output_type": "execute_result",
          "data": {
            "text/plain": [
              "8031         The Dark Knight Rises\n",
              "6218                 Batman Begins\n",
              "6623                  The Prestige\n",
              "2085                     Following\n",
              "7648                     Inception\n",
              "4145                      Insomnia\n",
              "3381                       Memento\n",
              "8613                  Interstellar\n",
              "7659    Batman: Under the Red Hood\n",
              "1134                Batman Returns\n",
              "Name: title, dtype: object"
            ]
          },
          "metadata": {
            "tags": []
          },
          "execution_count": 81
        }
      ]
    },
    {
      "cell_type": "markdown",
      "metadata": {
        "id": "zWSwR_6pCvXW"
      },
      "source": [
        "### Collaborative Filtering\n",
        "\n",
        "**유저-아이템의 관계(User-Item interaction)로부터 도출되는 추천 시스템**\n",
        "\n",
        "나와 비슷한 유저에게 내가 좋아하는 영화를 추천하면 어떨까?  "
      ]
    },
    {
      "cell_type": "markdown",
      "metadata": {
        "id": "5K6N_z56EKzx"
      },
      "source": [
        "### Singular Value Decomposition (SVD) \n",
        "to minimise RMSE (Root Mean Square Error)"
      ]
    },
    {
      "cell_type": "code",
      "metadata": {
        "id": "7iit1z-tEEpZ"
      },
      "source": [
        ""
      ],
      "execution_count": null,
      "outputs": []
    }
  ]
}